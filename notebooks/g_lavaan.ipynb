{
 "cells": [
  {
   "metadata": {
    "ExecuteTime": {
     "end_time": "2025-09-21T18:48:56.874385Z",
     "start_time": "2025-09-21T18:48:56.872185Z"
    }
   },
   "cell_type": "code",
   "source": [
    "import pandas as pd\n",
    "import numpy as np\n",
    "from pathlib import Path"
   ],
   "id": "50419e18549085d3",
   "outputs": [],
   "execution_count": 2
  },
  {
   "metadata": {},
   "cell_type": "markdown",
   "source": [
    "# Methodological replication of the \"Brain-wide functional connectivity patterns support general cognitive ability and mediate effects of socioeconomic status in youth\"\n",
    "https://pmc.ncbi.nlm.nih.gov/articles/PMC8575890/"
   ],
   "id": "17313f26c820a948"
  },
  {
   "metadata": {},
   "cell_type": "markdown",
   "source": [
    "Can not find this exact release data version, so the full replication of the study is not possible. We can move on to the methodological replication. We will test the generalizability of the method across data versions and cohorts.\n",
    "The original study used ABCD Release 2.0.1. Our analysis uses most recent release due to availability. Notable differences between these releases include initial number of subjects and the number of cohorts. Therefore, a direct replication is not possible."
   ],
   "id": "29218c4ad0c7ca32"
  },
  {
   "metadata": {},
   "cell_type": "markdown",
   "source": [
    "## Question 1:\n",
    "When we apply the authors' exact method to a different iteration of the ABCD dataset, do we get a similar result?"
   ],
   "id": "23e90f45fa6123af"
  },
  {
   "metadata": {},
   "cell_type": "markdown",
   "source": [
    "### Data Source and Sample:\n",
    "\n",
    "* Original Paper's Data: ABCD Release 2.0.1\n",
    "* New Sample Size: 13274 (total number of observations), 11535 (with g_score), 7674 (baseline cohort), 5600 (followup cohort)"
   ],
   "id": "6db820b67dc74312"
  },
  {
   "metadata": {
    "ExecuteTime": {
     "end_time": "2025-09-21T18:49:01.219061Z",
     "start_time": "2025-09-21T18:48:59.402418Z"
    }
   },
   "cell_type": "code",
   "source": [
    "# Define paths\n",
    "version_B_dir = Path(\"data/processed/version_B\")\n",
    "\n",
    "# Load features\n",
    "features_B_baseline = pd.read_csv(version_B_dir / \"features_baseline.csv\")\n",
    "features_B_followup = pd.read_csv(version_B_dir / \"features_followup.csv\")\n",
    "\n",
    "# Load connectomes\n",
    "conn_B_baseline = np.load(version_B_dir / \"connectomes_baseline.npy\")\n",
    "conn_B_followup = np.load(version_B_dir / \"connectomes_followup.npy\")\n",
    "\n",
    "# Load subjects (separate for baseline/followup)\n",
    "subs_B_baseline = pd.read_csv(version_B_dir / \"subjects_baseline.csv\")[\"Subject\"].tolist()\n",
    "subs_B_followup = pd.read_csv(version_B_dir / \"subjects_followup.csv\")[\"Subject\"].tolist()\n",
    "\n",
    "print(\"Version B\")\n",
    "print(\"Baseline features:\", features_B_baseline.shape)\n",
    "print(\"Followup features:\", features_B_followup.shape)\n",
    "print(\"Baseline connectomes:\", conn_B_baseline.shape)\n",
    "print(\"Followup connectomes:\", conn_B_followup.shape)\n",
    "print(\"Baseline subjects:\", len(subs_B_baseline))\n",
    "print(\"Followup subjects:\", len(subs_B_followup))\n"
   ],
   "id": "308698ffc957b331",
   "outputs": [
    {
     "name": "stdout",
     "output_type": "stream",
     "text": [
      "Version B\n",
      "Baseline features: (4321, 13)\n",
      "Followup features: (2756, 13)\n",
      "Baseline connectomes: (4321, 87153)\n",
      "Followup connectomes: (2756, 87153)\n",
      "Baseline subjects: 4321\n",
      "Followup subjects: 2756\n"
     ]
    }
   ],
   "execution_count": 3
  },
  {
   "metadata": {},
   "cell_type": "markdown",
   "source": [
    "#### Demographic characteristics of subjects included in neuroimaging analysis (baseline cohort):\n",
    "* Age (mean (s.d.))       $~~~~~~~~~     9.98~(0.62)$\n",
    "* Female (%) $~~~~~~~~~~~~~~~~~~ 2217~(51.3)$\n",
    "* Race ethnicity (%):\n",
    "* White $~~~~~~~~~~~~~~~~~~~~~~~~~~ 3071~(71.1)$\n",
    "* Black $~~~~~~~~~~~~~~~~~~~~~~~~~~~ 529~(12.2)$\n",
    "* Asian $~~~~~~~~~~~~~~~~~~~~~~~~~~~ 90~(2.1)$\n",
    "* Other/Mixed $~~~~~~~~~~~~~~~~~ 631~(14.6)$\n",
    "* Hispanic (%):\n",
    "* No $~~~~~~~~~~~~~~~~~~~~~~~~~~~~~~ 3591~(83.1)$\n",
    "* Yes $~~~~~~~~~~~~~~~~~~~~~~~~~~~~~ 730~(16.9)$\n",
    "* Household income(%):\n",
    "* $< 50k ~~~~~~~~~~~~~~~~~~~~~~~~~~~~ 1158 ~(26.8)$\n",
    "* $ \\geq 50k < 100k ~~~~~~~~~~~~~~~ 1244 ~(28.8)$\n",
    "* $ \\geq 100k ~~~~~~~~~~~~~~~~~~~~~~~~~~ 1919 ~(44.4)$"
   ],
   "id": "41195f6f0101d654"
  },
  {
   "metadata": {},
   "cell_type": "markdown",
   "source": [
    "#### Demographic characteristics of subjects included in neuroimaging analysis (followup cohort):\n",
    "* Age (mean (s.d.))       $~~~~~~~~~     11.92~(0.65)$\n",
    "* Female (%) $~~~~~~~~~~~~~~~~~~ 1357~(49.2)$\n",
    "* Race ethnicity (%):\n",
    "* White $~~~~~~~~~~~~~~~~~~~~~~~~~~ 1923~(69.78)$\n",
    "* Black $~~~~~~~~~~~~~~~~~~~~~~~~~~~ 310~(11.25)$\n",
    "* Asian $~~~~~~~~~~~~~~~~~~~~~~~~~~~ 63~(2.29)$\n",
    "* Other/Mixed $~~~~~~~~~~~~~~~~~ 460~(16.7)$\n",
    "* Hispanic (%):\n",
    "* No $~~~~~~~~~~~~~~~~~~~~~~~~~~~~~~ 2234~(81.1)$\n",
    "* Yes $~~~~~~~~~~~~~~~~~~~~~~~~~~~~~ 522~(18.9)$\n",
    "* Household income(%):\n",
    "* $< 50k ~~~~~~~~~~~~~~~~~~~~~~~~~~~~ 696 ~(25.2)$\n",
    "* $ \\geq 50k < 100k ~~~~~~~~~~~~~~~ 790 ~(28.7)$\n",
    "* $ \\geq 100k ~~~~~~~~~~~~~~~~~~~~~~~~~~ 1270 ~(46.1)$"
   ],
   "id": "5c7127a4d5021fc5"
  },
  {
   "metadata": {
    "ExecuteTime": {
     "end_time": "2025-09-21T00:12:05.616591Z",
     "start_time": "2025-09-21T00:12:05.608881Z"
    }
   },
   "cell_type": "code",
   "source": "features_B_baseline.head()",
   "id": "153329f2a47d651d",
   "outputs": [
    {
     "data": {
      "text/plain": [
       "   g_lavaan site_id_l    age          Subject    meanFD  race.4level hisp  \\\n",
       "0  0.546203    site06  131.0  NDARINV003RTV85  0.229358        White   No   \n",
       "1 -0.549130    site03  109.0  NDARINV00LH735Y  0.201762        White  Yes   \n",
       "2 -0.631114    site17  118.0  NDARINV00NPMHND  0.173233        White   No   \n",
       "3 -1.098507    site04  130.0  NDARINV00U4FTRU  0.264265  Other/Mixed   No   \n",
       "4  0.433796    site16  129.0  NDARINV01NAYMZH  0.171448        White   No   \n",
       "\n",
       "   sex  EdYearsHighest  IncCombinedMidpoint  Income2Needs  \\\n",
       "0  2.0            12.0              87500.0      2.299002   \n",
       "1  1.0            12.0              42500.0      1.259632   \n",
       "2  2.0            16.0              87500.0      3.556911   \n",
       "3  2.0            12.0              42500.0      1.116658   \n",
       "4  1.0            16.0             150000.0      2.584425   \n",
       "\n",
       "                 Married income_group  \n",
       "0      Currently Married       medium  \n",
       "1      Currently Married          low  \n",
       "2      Currently Married       medium  \n",
       "3  Not Currently Married          low  \n",
       "4      Currently Married         high  "
      ],
      "text/html": [
       "<div>\n",
       "<style scoped>\n",
       "    .dataframe tbody tr th:only-of-type {\n",
       "        vertical-align: middle;\n",
       "    }\n",
       "\n",
       "    .dataframe tbody tr th {\n",
       "        vertical-align: top;\n",
       "    }\n",
       "\n",
       "    .dataframe thead th {\n",
       "        text-align: right;\n",
       "    }\n",
       "</style>\n",
       "<table border=\"1\" class=\"dataframe\">\n",
       "  <thead>\n",
       "    <tr style=\"text-align: right;\">\n",
       "      <th></th>\n",
       "      <th>g_lavaan</th>\n",
       "      <th>site_id_l</th>\n",
       "      <th>age</th>\n",
       "      <th>Subject</th>\n",
       "      <th>meanFD</th>\n",
       "      <th>race.4level</th>\n",
       "      <th>hisp</th>\n",
       "      <th>sex</th>\n",
       "      <th>EdYearsHighest</th>\n",
       "      <th>IncCombinedMidpoint</th>\n",
       "      <th>Income2Needs</th>\n",
       "      <th>Married</th>\n",
       "      <th>income_group</th>\n",
       "    </tr>\n",
       "  </thead>\n",
       "  <tbody>\n",
       "    <tr>\n",
       "      <th>0</th>\n",
       "      <td>0.546203</td>\n",
       "      <td>site06</td>\n",
       "      <td>131.0</td>\n",
       "      <td>NDARINV003RTV85</td>\n",
       "      <td>0.229358</td>\n",
       "      <td>White</td>\n",
       "      <td>No</td>\n",
       "      <td>2.0</td>\n",
       "      <td>12.0</td>\n",
       "      <td>87500.0</td>\n",
       "      <td>2.299002</td>\n",
       "      <td>Currently Married</td>\n",
       "      <td>medium</td>\n",
       "    </tr>\n",
       "    <tr>\n",
       "      <th>1</th>\n",
       "      <td>-0.549130</td>\n",
       "      <td>site03</td>\n",
       "      <td>109.0</td>\n",
       "      <td>NDARINV00LH735Y</td>\n",
       "      <td>0.201762</td>\n",
       "      <td>White</td>\n",
       "      <td>Yes</td>\n",
       "      <td>1.0</td>\n",
       "      <td>12.0</td>\n",
       "      <td>42500.0</td>\n",
       "      <td>1.259632</td>\n",
       "      <td>Currently Married</td>\n",
       "      <td>low</td>\n",
       "    </tr>\n",
       "    <tr>\n",
       "      <th>2</th>\n",
       "      <td>-0.631114</td>\n",
       "      <td>site17</td>\n",
       "      <td>118.0</td>\n",
       "      <td>NDARINV00NPMHND</td>\n",
       "      <td>0.173233</td>\n",
       "      <td>White</td>\n",
       "      <td>No</td>\n",
       "      <td>2.0</td>\n",
       "      <td>16.0</td>\n",
       "      <td>87500.0</td>\n",
       "      <td>3.556911</td>\n",
       "      <td>Currently Married</td>\n",
       "      <td>medium</td>\n",
       "    </tr>\n",
       "    <tr>\n",
       "      <th>3</th>\n",
       "      <td>-1.098507</td>\n",
       "      <td>site04</td>\n",
       "      <td>130.0</td>\n",
       "      <td>NDARINV00U4FTRU</td>\n",
       "      <td>0.264265</td>\n",
       "      <td>Other/Mixed</td>\n",
       "      <td>No</td>\n",
       "      <td>2.0</td>\n",
       "      <td>12.0</td>\n",
       "      <td>42500.0</td>\n",
       "      <td>1.116658</td>\n",
       "      <td>Not Currently Married</td>\n",
       "      <td>low</td>\n",
       "    </tr>\n",
       "    <tr>\n",
       "      <th>4</th>\n",
       "      <td>0.433796</td>\n",
       "      <td>site16</td>\n",
       "      <td>129.0</td>\n",
       "      <td>NDARINV01NAYMZH</td>\n",
       "      <td>0.171448</td>\n",
       "      <td>White</td>\n",
       "      <td>No</td>\n",
       "      <td>1.0</td>\n",
       "      <td>16.0</td>\n",
       "      <td>150000.0</td>\n",
       "      <td>2.584425</td>\n",
       "      <td>Currently Married</td>\n",
       "      <td>high</td>\n",
       "    </tr>\n",
       "  </tbody>\n",
       "</table>\n",
       "</div>"
      ]
     },
     "execution_count": 3,
     "metadata": {},
     "output_type": "execute_result"
    }
   ],
   "execution_count": 3
  },
  {
   "metadata": {},
   "cell_type": "markdown",
   "source": "### Prepare features we want to include in a model without network information",
   "id": "2fae7892f3dcf53b"
  },
  {
   "metadata": {
    "ExecuteTime": {
     "end_time": "2025-09-21T18:49:06.657160Z",
     "start_time": "2025-09-21T18:49:06.653193Z"
    }
   },
   "cell_type": "code",
   "source": "from src.features.extraction import extract_article_features, extract_ses_features, combine_data",
   "id": "edef5bc0a53d4805",
   "outputs": [],
   "execution_count": 4
  },
  {
   "metadata": {
    "ExecuteTime": {
     "end_time": "2025-09-21T18:49:07.614820Z",
     "start_time": "2025-09-21T18:49:07.606538Z"
    }
   },
   "cell_type": "code",
   "source": [
    "X_baseline_B, y_baseline_B = extract_article_features(features_B_baseline)\n",
    "X_followup_B, y_followup_B = extract_article_features(features_B_followup)\n",
    "\n",
    "print(X_baseline_B.shape, y_baseline_B.shape)\n",
    "print(X_followup_B.shape, y_followup_B.shape)\n"
   ],
   "id": "5c35b6eb0bb37429",
   "outputs": [
    {
     "name": "stdout",
     "output_type": "stream",
     "text": [
      "(4321, 9) (4321,)\n",
      "(2756, 9) (2756,)\n"
     ]
    }
   ],
   "execution_count": 5
  },
  {
   "metadata": {
    "ExecuteTime": {
     "end_time": "2025-09-21T18:49:09.726285Z",
     "start_time": "2025-09-21T18:49:09.699540Z"
    }
   },
   "cell_type": "code",
   "source": [
    "# Convert NumPy array to DataFrame with placeholder column names\n",
    "conn_B_baseline_df = pd.DataFrame(\n",
    "    conn_B_baseline,\n",
    "    columns=[f\"conn_{i}\" for i in range(conn_B_baseline.shape[1])]\n",
    ")\n",
    "\n",
    "# Add Subject column\n",
    "conn_B_baseline_df.insert(0, \"Subject\", subs_B_baseline)"
   ],
   "id": "459ef89c434f264",
   "outputs": [],
   "execution_count": 6
  },
  {
   "metadata": {
    "ExecuteTime": {
     "end_time": "2025-09-21T18:49:10.855676Z",
     "start_time": "2025-09-21T18:49:10.834652Z"
    }
   },
   "cell_type": "code",
   "source": [
    "conn_B_followup_df = pd.DataFrame(\n",
    "    conn_B_followup,\n",
    "    columns=[f\"conn_{i}\" for i in range(conn_B_followup.shape[1])]\n",
    ")\n",
    "\n",
    "# Add Subject column\n",
    "conn_B_followup_df.insert(0, \"Subject\", subs_B_followup)"
   ],
   "id": "4f4862a6a31c3b44",
   "outputs": [],
   "execution_count": 7
  },
  {
   "metadata": {
    "ExecuteTime": {
     "end_time": "2025-09-21T18:49:14.505090Z",
     "start_time": "2025-09-21T18:49:13.603453Z"
    }
   },
   "cell_type": "code",
   "source": "from src.evaluation.cross_validation import run_cross_validation, print_cross_val_results",
   "id": "1d3ec79f6946dbc1",
   "outputs": [],
   "execution_count": 8
  },
  {
   "metadata": {
    "ExecuteTime": {
     "end_time": "2025-09-21T00:16:01.419471Z",
     "start_time": "2025-09-21T00:16:01.328616Z"
    }
   },
   "cell_type": "code",
   "source": "results_no_network, models_no_network = run_cross_validation(X_baseline_B, y_baseline_B, use_network=False)",
   "id": "1c3bdf00aa0ed759",
   "outputs": [
    {
     "name": "stderr",
     "output_type": "stream",
     "text": [
      "Cross-validation progress: 100%|██████████| 20/20 [00:00<00:00, 271.95it/s]"
     ]
    },
    {
     "name": "stdout",
     "output_type": "stream",
     "text": [
      "\n",
      "Site: site02 | Pearson r = 0.401 (p=0.000) | Partial η² = 0.097\n",
      "\n",
      "Site: site03 | Pearson r = 0.345 (p=0.000) | Partial η² = 0.068\n",
      "\n",
      "Site: site04 | Pearson r = 0.337 (p=0.000) | Partial η² = 0.100\n",
      "\n",
      "Site: site05 | Pearson r = 0.498 (p=0.000) | Partial η² = 0.237\n",
      "\n",
      "Site: site06 | Pearson r = 0.317 (p=0.000) | Partial η² = 0.051\n",
      "\n",
      "Site: site07 | Pearson r = 0.443 (p=0.000) | Partial η² = 0.188\n",
      "\n",
      "Site: site08 | Pearson r = 0.314 (p=0.000) | Partial η² = -0.351\n",
      "\n",
      "Site: site09 | Pearson r = 0.439 (p=0.000) | Partial η² = -0.024\n",
      "\n",
      "Site: site10 | Pearson r = 0.393 (p=0.000) | Partial η² = 0.151\n",
      "\n",
      "Site: site11 | Pearson r = 0.483 (p=0.000) | Partial η² = 0.164\n",
      "\n",
      "Site: site12 | Pearson r = 0.258 (p=0.024) | Partial η² = -0.118\n",
      "\n",
      "Site: site13 | Pearson r = 0.414 (p=0.000) | Partial η² = 0.168\n",
      "\n",
      "Site: site14 | Pearson r = 0.398 (p=0.000) | Partial η² = 0.151\n",
      "\n",
      "Site: site15 | Pearson r = 0.507 (p=0.000) | Partial η² = 0.166\n",
      "\n",
      "Site: site16 | Pearson r = 0.441 (p=0.000) | Partial η² = 0.194\n",
      "\n",
      "Site: site17 | Pearson r = 0.340 (p=0.000) | Partial η² = 0.014\n",
      "\n",
      "Site: site18 | Pearson r = 0.296 (p=0.001) | Partial η² = 0.025\n",
      "\n",
      "Site: site19 | Pearson r = 0.444 (p=0.000) | Partial η² = 0.180\n",
      "\n",
      "Site: site20 | Pearson r = 0.491 (p=0.000) | Partial η² = 0.146\n",
      "\n",
      "Site: site21 | Pearson r = 0.517 (p=0.000) | Partial η² = 0.231\n"
     ]
    },
    {
     "name": "stderr",
     "output_type": "stream",
     "text": [
      "\n"
     ]
    }
   ],
   "execution_count": 10
  },
  {
   "metadata": {
    "ExecuteTime": {
     "end_time": "2025-09-21T00:16:06.526764Z",
     "start_time": "2025-09-21T00:16:06.520962Z"
    }
   },
   "cell_type": "code",
   "source": "print_cross_val_results(results_no_network)",
   "id": "db1cdb46424b5d74",
   "outputs": [
    {
     "name": "stdout",
     "output_type": "stream",
     "text": [
      "Cross-validated Performance Metrics:\n",
      "Average Pearson's r: 0.404\n",
      "Partial eta squared: 0.092\n",
      "R²: 0.092\n"
     ]
    }
   ],
   "execution_count": 11
  },
  {
   "metadata": {
    "ExecuteTime": {
     "end_time": "2025-09-21T00:25:30.780187Z",
     "start_time": "2025-09-21T00:16:09.675490Z"
    }
   },
   "cell_type": "code",
   "source": "results_network, models_network = run_cross_validation(X_baseline_B, y_baseline_B, use_network=True, X_network=conn_B_baseline_df, num_pc=100)",
   "id": "1ded3f8cbf459951",
   "outputs": [
    {
     "name": "stderr",
     "output_type": "stream",
     "text": [
      "Cross-validation progress:   5%|▌         | 1/20 [00:49<15:32, 49.09s/it]"
     ]
    },
    {
     "name": "stdout",
     "output_type": "stream",
     "text": [
      "\n",
      "Site: site02 | Pearson r = 0.410 (p=0.000) | Partial η² = 0.126\n"
     ]
    },
    {
     "name": "stderr",
     "output_type": "stream",
     "text": [
      "Cross-validation progress:  10%|█         | 2/20 [01:32<13:40, 45.60s/it]"
     ]
    },
    {
     "name": "stdout",
     "output_type": "stream",
     "text": [
      "\n",
      "Site: site03 | Pearson r = 0.465 (p=0.000) | Partial η² = 0.211\n"
     ]
    },
    {
     "name": "stderr",
     "output_type": "stream",
     "text": [
      "Cross-validation progress:  15%|█▌        | 3/20 [02:11<12:03, 42.58s/it]"
     ]
    },
    {
     "name": "stdout",
     "output_type": "stream",
     "text": [
      "\n",
      "Site: site04 | Pearson r = 0.418 (p=0.000) | Partial η² = 0.161\n"
     ]
    },
    {
     "name": "stderr",
     "output_type": "stream",
     "text": [
      "Cross-validation progress:  20%|██        | 4/20 [02:45<10:31, 39.47s/it]"
     ]
    },
    {
     "name": "stdout",
     "output_type": "stream",
     "text": [
      "\n",
      "Site: site05 | Pearson r = 0.550 (p=0.000) | Partial η² = 0.298\n"
     ]
    },
    {
     "name": "stderr",
     "output_type": "stream",
     "text": [
      "Cross-validation progress:  25%|██▌       | 5/20 [03:17<09:08, 36.54s/it]"
     ]
    },
    {
     "name": "stdout",
     "output_type": "stream",
     "text": [
      "\n",
      "Site: site06 | Pearson r = 0.419 (p=0.000) | Partial η² = 0.168\n"
     ]
    },
    {
     "name": "stderr",
     "output_type": "stream",
     "text": [
      "Cross-validation progress:  30%|███       | 6/20 [03:44<07:45, 33.24s/it]"
     ]
    },
    {
     "name": "stdout",
     "output_type": "stream",
     "text": [
      "\n",
      "Site: site07 | Pearson r = 0.564 (p=0.000) | Partial η² = 0.306\n"
     ]
    },
    {
     "name": "stderr",
     "output_type": "stream",
     "text": [
      "Cross-validation progress:  35%|███▌      | 7/20 [04:09<06:37, 30.56s/it]"
     ]
    },
    {
     "name": "stdout",
     "output_type": "stream",
     "text": [
      "\n",
      "Site: site08 | Pearson r = 0.398 (p=0.000) | Partial η² = -0.049\n"
     ]
    },
    {
     "name": "stderr",
     "output_type": "stream",
     "text": [
      "Cross-validation progress:  40%|████      | 8/20 [04:34<05:46, 28.87s/it]"
     ]
    },
    {
     "name": "stdout",
     "output_type": "stream",
     "text": [
      "\n",
      "Site: site09 | Pearson r = 0.539 (p=0.000) | Partial η² = 0.183\n"
     ]
    },
    {
     "name": "stderr",
     "output_type": "stream",
     "text": [
      "Cross-validation progress:  45%|████▌     | 9/20 [04:58<04:59, 27.23s/it]"
     ]
    },
    {
     "name": "stdout",
     "output_type": "stream",
     "text": [
      "\n",
      "Site: site10 | Pearson r = 0.398 (p=0.000) | Partial η² = 0.144\n"
     ]
    },
    {
     "name": "stderr",
     "output_type": "stream",
     "text": [
      "Cross-validation progress:  50%|█████     | 10/20 [05:21<04:19, 25.92s/it]"
     ]
    },
    {
     "name": "stdout",
     "output_type": "stream",
     "text": [
      "\n",
      "Site: site11 | Pearson r = 0.535 (p=0.000) | Partial η² = 0.259\n"
     ]
    },
    {
     "name": "stderr",
     "output_type": "stream",
     "text": [
      "Cross-validation progress:  55%|█████▌    | 11/20 [05:43<03:44, 24.94s/it]"
     ]
    },
    {
     "name": "stdout",
     "output_type": "stream",
     "text": [
      "\n",
      "Site: site12 | Pearson r = 0.372 (p=0.001) | Partial η² = -0.044\n"
     ]
    },
    {
     "name": "stderr",
     "output_type": "stream",
     "text": [
      "Cross-validation progress:  60%|██████    | 12/20 [06:08<03:19, 24.89s/it]"
     ]
    },
    {
     "name": "stdout",
     "output_type": "stream",
     "text": [
      "\n",
      "Site: site13 | Pearson r = 0.482 (p=0.000) | Partial η² = 0.230\n"
     ]
    },
    {
     "name": "stderr",
     "output_type": "stream",
     "text": [
      "Cross-validation progress:  65%|██████▌   | 13/20 [06:33<02:54, 24.99s/it]"
     ]
    },
    {
     "name": "stdout",
     "output_type": "stream",
     "text": [
      "\n",
      "Site: site14 | Pearson r = 0.522 (p=0.000) | Partial η² = 0.272\n"
     ]
    },
    {
     "name": "stderr",
     "output_type": "stream",
     "text": [
      "Cross-validation progress:  70%|███████   | 14/20 [06:59<02:32, 25.37s/it]"
     ]
    },
    {
     "name": "stdout",
     "output_type": "stream",
     "text": [
      "\n",
      "Site: site15 | Pearson r = 0.595 (p=0.000) | Partial η² = 0.327\n"
     ]
    },
    {
     "name": "stderr",
     "output_type": "stream",
     "text": [
      "Cross-validation progress:  75%|███████▌  | 15/20 [07:22<02:02, 24.56s/it]"
     ]
    },
    {
     "name": "stdout",
     "output_type": "stream",
     "text": [
      "\n",
      "Site: site16 | Pearson r = 0.500 (p=0.000) | Partial η² = 0.247\n"
     ]
    },
    {
     "name": "stderr",
     "output_type": "stream",
     "text": [
      "Cross-validation progress:  80%|████████  | 16/20 [07:45<01:35, 23.99s/it]"
     ]
    },
    {
     "name": "stdout",
     "output_type": "stream",
     "text": [
      "\n",
      "Site: site17 | Pearson r = 0.332 (p=0.000) | Partial η² = -0.007\n"
     ]
    },
    {
     "name": "stderr",
     "output_type": "stream",
     "text": [
      "Cross-validation progress:  85%|████████▌ | 17/20 [08:09<01:11, 23.96s/it]"
     ]
    },
    {
     "name": "stdout",
     "output_type": "stream",
     "text": [
      "\n",
      "Site: site18 | Pearson r = 0.366 (p=0.000) | Partial η² = 0.107\n"
     ]
    },
    {
     "name": "stderr",
     "output_type": "stream",
     "text": [
      "Cross-validation progress:  90%|█████████ | 18/20 [08:31<00:47, 23.60s/it]"
     ]
    },
    {
     "name": "stdout",
     "output_type": "stream",
     "text": [
      "\n",
      "Site: site19 | Pearson r = 0.513 (p=0.000) | Partial η² = 0.242\n"
     ]
    },
    {
     "name": "stderr",
     "output_type": "stream",
     "text": [
      "Cross-validation progress:  95%|█████████▌| 19/20 [08:55<00:23, 23.66s/it]"
     ]
    },
    {
     "name": "stdout",
     "output_type": "stream",
     "text": [
      "\n",
      "Site: site20 | Pearson r = 0.534 (p=0.000) | Partial η² = 0.229\n"
     ]
    },
    {
     "name": "stderr",
     "output_type": "stream",
     "text": [
      "Cross-validation progress: 100%|██████████| 20/20 [09:20<00:00, 28.04s/it]"
     ]
    },
    {
     "name": "stdout",
     "output_type": "stream",
     "text": [
      "\n",
      "Site: site21 | Pearson r = 0.554 (p=0.000) | Partial η² = 0.290\n"
     ]
    },
    {
     "name": "stderr",
     "output_type": "stream",
     "text": [
      "\n"
     ]
    }
   ],
   "execution_count": 12
  },
  {
   "metadata": {
    "ExecuteTime": {
     "end_time": "2025-09-21T00:25:31.047883Z",
     "start_time": "2025-09-21T00:25:31.042624Z"
    }
   },
   "cell_type": "code",
   "source": "print_cross_val_results(results_network)",
   "id": "b9d78600734ab2e2",
   "outputs": [
    {
     "name": "stdout",
     "output_type": "stream",
     "text": [
      "Cross-validated Performance Metrics:\n",
      "Average Pearson's r: 0.473\n",
      "Partial eta squared: 0.185\n",
      "R²: 0.185\n"
     ]
    }
   ],
   "execution_count": 13
  },
  {
   "metadata": {},
   "cell_type": "code",
   "outputs": [],
   "execution_count": null,
   "source": [
    "results_no_network, models_no_network = run_cross_validation(X_followup_B, y_followup_B, use_network=False)\n",
    "print_cross_val_results(results_no_network)"
   ],
   "id": "39b8502334abe830"
  },
  {
   "metadata": {},
   "cell_type": "code",
   "outputs": [],
   "execution_count": null,
   "source": "results_network, models_network = run_cross_validation(X_followup_B, y_followup_B, use_network=True, X_network=conn_B_followup_df, num_pc=100)",
   "id": "4f78fe9843ab985c"
  },
  {
   "metadata": {},
   "cell_type": "code",
   "outputs": [],
   "execution_count": null,
   "source": "print_cross_val_results(results_network)",
   "id": "3a0174afcfae6085"
  },
  {
   "metadata": {},
   "cell_type": "markdown",
   "source": [
    "### Summary table:\n",
    "| Description                    | Pearson's correlation | Partial $\\eta^2$ | Coefficient of Determination |\n",
    "|--------------------------------|-----------------------|------------------|------------------------------|\n",
    "| Baseline: Basic features + PCs | 0.473                 | 0.185            | 0.185                        |\n",
    "| Baseline: Basic features  only | 0.404                 | 0.092            | 0.092                        |\n",
    "| Followup: Basic features + PCs | 0.457                 | 0.152            | 0.152                        |\n",
    "| Followup: Basic features only  | 0.325                 | 0.024            | 0.024                        |\n",
    "\n",
    "\n",
    "\n"
   ],
   "id": "8417b8b650e36ddf"
  },
  {
   "metadata": {},
   "cell_type": "markdown",
   "source": "The original finding is robust. We worked with the different data but results on the baseline data are almost identical tho the article claim. For the followup data results are not so good, but still we observe an impovement when comparing to observations only model.  Thus, he brain-cognition relationship captured by the model generalizes across similar cohorts.",
   "id": "3c3df1e9cd9c8721"
  },
  {
   "metadata": {},
   "cell_type": "markdown",
   "source": [
    "## Answer 1:\n",
    "Yes, we do get the similar results for the baseline cohort. Moreover, results for followup data also show significant improvement when adding PCs to observations only model."
   ],
   "id": "a6db78e12e6e4022"
  },
  {
   "metadata": {},
   "cell_type": "markdown",
   "source": "## Question 2: What is the effect of SES features?",
   "id": "ff0b5f28999e4f1c"
  },
  {
   "metadata": {
    "ExecuteTime": {
     "end_time": "2025-09-21T18:49:26.545876Z",
     "start_time": "2025-09-21T18:49:26.540069Z"
    }
   },
   "cell_type": "code",
   "source": [
    "ses_baseline_B = extract_ses_features(features_B_baseline)\n",
    "ses_followup_B = extract_ses_features(features_B_followup)"
   ],
   "id": "529360779deea78f",
   "outputs": [],
   "execution_count": 9
  },
  {
   "metadata": {
    "ExecuteTime": {
     "end_time": "2025-09-21T18:49:27.895676Z",
     "start_time": "2025-09-21T18:49:27.890706Z"
    }
   },
   "cell_type": "code",
   "source": [
    "main_baseline_B =combine_data(ses_baseline_B, X_baseline_B)\n",
    "main_followup_B = combine_data(ses_followup_B, X_followup_B)"
   ],
   "id": "9890c5fd3e69bf5c",
   "outputs": [
    {
     "name": "stdout",
     "output_type": "stream",
     "text": [
      "Dropping duplicate columns: ['site_id_l', 'Subject']\n",
      "Dropping duplicate columns: ['site_id_l', 'Subject']\n"
     ]
    }
   ],
   "execution_count": 10
  },
  {
   "metadata": {
    "ExecuteTime": {
     "end_time": "2025-09-21T00:39:38.176706Z",
     "start_time": "2025-09-21T00:39:38.113742Z"
    }
   },
   "cell_type": "code",
   "source": [
    "results_no_network, models_no_network = run_cross_validation(main_baseline_B, y_baseline_B, use_network=False)\n",
    "print_cross_val_results(results_no_network)"
   ],
   "id": "31115eaf4c3ac6a9",
   "outputs": [
    {
     "name": "stderr",
     "output_type": "stream",
     "text": [
      "Cross-validation progress: 100%|██████████| 20/20 [00:00<00:00, 350.83it/s]"
     ]
    },
    {
     "name": "stdout",
     "output_type": "stream",
     "text": [
      "\n",
      "Site: site02 | Pearson r = 0.460 (p=0.000) | Partial η² = 0.102\n",
      "\n",
      "Site: site03 | Pearson r = 0.423 (p=0.000) | Partial η² = 0.150\n",
      "\n",
      "Site: site04 | Pearson r = 0.501 (p=0.000) | Partial η² = 0.250\n",
      "\n",
      "Site: site05 | Pearson r = 0.584 (p=0.000) | Partial η² = 0.337\n",
      "\n",
      "Site: site06 | Pearson r = 0.458 (p=0.000) | Partial η² = 0.194\n",
      "\n",
      "Site: site07 | Pearson r = 0.650 (p=0.000) | Partial η² = 0.393\n",
      "\n",
      "Site: site08 | Pearson r = 0.470 (p=0.000) | Partial η² = 0.080\n",
      "\n",
      "Site: site09 | Pearson r = 0.449 (p=0.000) | Partial η² = 0.091\n",
      "\n",
      "Site: site10 | Pearson r = 0.461 (p=0.000) | Partial η² = 0.206\n",
      "\n",
      "Site: site11 | Pearson r = 0.575 (p=0.000) | Partial η² = 0.300\n",
      "\n",
      "Site: site12 | Pearson r = 0.415 (p=0.000) | Partial η² = 0.100\n",
      "\n",
      "Site: site13 | Pearson r = 0.567 (p=0.000) | Partial η² = 0.316\n",
      "\n",
      "Site: site14 | Pearson r = 0.489 (p=0.000) | Partial η² = 0.234\n",
      "\n",
      "Site: site15 | Pearson r = 0.625 (p=0.000) | Partial η² = 0.378\n",
      "\n",
      "Site: site16 | Pearson r = 0.509 (p=0.000) | Partial η² = 0.253\n",
      "\n",
      "Site: site17 | Pearson r = 0.403 (p=0.000) | Partial η² = 0.140\n",
      "\n",
      "Site: site18 | Pearson r = 0.413 (p=0.000) | Partial η² = 0.152\n",
      "\n",
      "Site: site19 | Pearson r = 0.564 (p=0.000) | Partial η² = 0.305\n",
      "\n",
      "Site: site20 | Pearson r = 0.462 (p=0.000) | Partial η² = 0.173\n",
      "\n",
      "Site: site21 | Pearson r = 0.564 (p=0.000) | Partial η² = 0.301\n",
      "Cross-validated Performance Metrics:\n",
      "Average Pearson's r: 0.502\n",
      "Partial eta squared: 0.223\n",
      "R²: 0.223\n"
     ]
    },
    {
     "name": "stderr",
     "output_type": "stream",
     "text": [
      "\n"
     ]
    }
   ],
   "execution_count": 27
  },
  {
   "metadata": {
    "ExecuteTime": {
     "end_time": "2025-09-21T00:47:52.971301Z",
     "start_time": "2025-09-21T00:40:22.727702Z"
    }
   },
   "cell_type": "code",
   "source": [
    "results_network, models_network = run_cross_validation(main_baseline_B, y_baseline_B, use_network=True,\n",
    "                                                       X_network=conn_B_baseline_df, num_pc=100)\n",
    "print_cross_val_results(results_network)"
   ],
   "id": "7f9af206bcf87ce2",
   "outputs": [
    {
     "name": "stderr",
     "output_type": "stream",
     "text": [
      "Cross-validation progress:   5%|▌         | 1/20 [00:39<12:33, 39.64s/it]"
     ]
    },
    {
     "name": "stdout",
     "output_type": "stream",
     "text": [
      "\n",
      "Site: site02 | Pearson r = 0.462 (p=0.000) | Partial η² = 0.156\n"
     ]
    },
    {
     "name": "stderr",
     "output_type": "stream",
     "text": [
      "Cross-validation progress:  10%|█         | 2/20 [01:04<09:18, 31.01s/it]"
     ]
    },
    {
     "name": "stdout",
     "output_type": "stream",
     "text": [
      "\n",
      "Site: site03 | Pearson r = 0.490 (p=0.000) | Partial η² = 0.233\n"
     ]
    },
    {
     "name": "stderr",
     "output_type": "stream",
     "text": [
      "Cross-validation progress:  15%|█▌        | 3/20 [01:25<07:31, 26.57s/it]"
     ]
    },
    {
     "name": "stdout",
     "output_type": "stream",
     "text": [
      "\n",
      "Site: site04 | Pearson r = 0.529 (p=0.000) | Partial η² = 0.277\n"
     ]
    },
    {
     "name": "stderr",
     "output_type": "stream",
     "text": [
      "Cross-validation progress:  20%|██        | 4/20 [01:46<06:28, 24.26s/it]"
     ]
    },
    {
     "name": "stdout",
     "output_type": "stream",
     "text": [
      "\n",
      "Site: site05 | Pearson r = 0.605 (p=0.000) | Partial η² = 0.364\n"
     ]
    },
    {
     "name": "stderr",
     "output_type": "stream",
     "text": [
      "Cross-validation progress:  25%|██▌       | 5/20 [02:07<05:44, 22.94s/it]"
     ]
    },
    {
     "name": "stdout",
     "output_type": "stream",
     "text": [
      "\n",
      "Site: site06 | Pearson r = 0.496 (p=0.000) | Partial η² = 0.244\n"
     ]
    },
    {
     "name": "stderr",
     "output_type": "stream",
     "text": [
      "Cross-validation progress:  30%|███       | 6/20 [02:28<05:13, 22.40s/it]"
     ]
    },
    {
     "name": "stdout",
     "output_type": "stream",
     "text": [
      "\n",
      "Site: site07 | Pearson r = 0.676 (p=0.000) | Partial η² = 0.435\n"
     ]
    },
    {
     "name": "stderr",
     "output_type": "stream",
     "text": [
      "Cross-validation progress:  35%|███▌      | 7/20 [02:49<04:44, 21.88s/it]"
     ]
    },
    {
     "name": "stdout",
     "output_type": "stream",
     "text": [
      "\n",
      "Site: site08 | Pearson r = 0.498 (p=0.000) | Partial η² = 0.166\n"
     ]
    },
    {
     "name": "stderr",
     "output_type": "stream",
     "text": [
      "Cross-validation progress:  40%|████      | 8/20 [03:08<04:13, 21.12s/it]"
     ]
    },
    {
     "name": "stdout",
     "output_type": "stream",
     "text": [
      "\n",
      "Site: site09 | Pearson r = 0.523 (p=0.000) | Partial η² = 0.216\n"
     ]
    },
    {
     "name": "stderr",
     "output_type": "stream",
     "text": [
      "Cross-validation progress:  45%|████▌     | 9/20 [03:27<03:44, 20.39s/it]"
     ]
    },
    {
     "name": "stdout",
     "output_type": "stream",
     "text": [
      "\n",
      "Site: site10 | Pearson r = 0.469 (p=0.000) | Partial η² = 0.216\n"
     ]
    },
    {
     "name": "stderr",
     "output_type": "stream",
     "text": [
      "Cross-validation progress:  50%|█████     | 10/20 [03:46<03:18, 19.86s/it]"
     ]
    },
    {
     "name": "stdout",
     "output_type": "stream",
     "text": [
      "\n",
      "Site: site11 | Pearson r = 0.596 (p=0.000) | Partial η² = 0.337\n"
     ]
    },
    {
     "name": "stderr",
     "output_type": "stream",
     "text": [
      "Cross-validation progress:  55%|█████▌    | 11/20 [04:09<03:07, 20.81s/it]"
     ]
    },
    {
     "name": "stdout",
     "output_type": "stream",
     "text": [
      "\n",
      "Site: site12 | Pearson r = 0.423 (p=0.000) | Partial η² = 0.081\n"
     ]
    },
    {
     "name": "stderr",
     "output_type": "stream",
     "text": [
      "Cross-validation progress:  60%|██████    | 12/20 [04:32<02:52, 21.53s/it]"
     ]
    },
    {
     "name": "stdout",
     "output_type": "stream",
     "text": [
      "\n",
      "Site: site13 | Pearson r = 0.593 (p=0.000) | Partial η² = 0.346\n"
     ]
    },
    {
     "name": "stderr",
     "output_type": "stream",
     "text": [
      "Cross-validation progress:  65%|██████▌   | 13/20 [04:52<02:27, 21.00s/it]"
     ]
    },
    {
     "name": "stdout",
     "output_type": "stream",
     "text": [
      "\n",
      "Site: site14 | Pearson r = 0.559 (p=0.000) | Partial η² = 0.308\n"
     ]
    },
    {
     "name": "stderr",
     "output_type": "stream",
     "text": [
      "Cross-validation progress:  70%|███████   | 14/20 [05:15<02:10, 21.76s/it]"
     ]
    },
    {
     "name": "stdout",
     "output_type": "stream",
     "text": [
      "\n",
      "Site: site15 | Pearson r = 0.638 (p=0.000) | Partial η² = 0.406\n"
     ]
    },
    {
     "name": "stderr",
     "output_type": "stream",
     "text": [
      "Cross-validation progress:  75%|███████▌  | 15/20 [05:32<01:41, 20.34s/it]"
     ]
    },
    {
     "name": "stdout",
     "output_type": "stream",
     "text": [
      "\n",
      "Site: site16 | Pearson r = 0.549 (p=0.000) | Partial η² = 0.292\n"
     ]
    },
    {
     "name": "stderr",
     "output_type": "stream",
     "text": [
      "Cross-validation progress:  80%|████████  | 16/20 [05:53<01:21, 20.45s/it]"
     ]
    },
    {
     "name": "stdout",
     "output_type": "stream",
     "text": [
      "\n",
      "Site: site17 | Pearson r = 0.399 (p=0.000) | Partial η² = 0.117\n"
     ]
    },
    {
     "name": "stderr",
     "output_type": "stream",
     "text": [
      "Cross-validation progress:  85%|████████▌ | 17/20 [06:14<01:02, 20.74s/it]"
     ]
    },
    {
     "name": "stdout",
     "output_type": "stream",
     "text": [
      "\n",
      "Site: site18 | Pearson r = 0.456 (p=0.000) | Partial η² = 0.197\n"
     ]
    },
    {
     "name": "stderr",
     "output_type": "stream",
     "text": [
      "Cross-validation progress:  90%|█████████ | 18/20 [06:35<00:41, 20.79s/it]"
     ]
    },
    {
     "name": "stdout",
     "output_type": "stream",
     "text": [
      "\n",
      "Site: site19 | Pearson r = 0.573 (p=0.000) | Partial η² = 0.315\n"
     ]
    },
    {
     "name": "stderr",
     "output_type": "stream",
     "text": [
      "Cross-validation progress:  95%|█████████▌| 19/20 [07:03<00:22, 22.97s/it]"
     ]
    },
    {
     "name": "stdout",
     "output_type": "stream",
     "text": [
      "\n",
      "Site: site20 | Pearson r = 0.492 (p=0.000) | Partial η² = 0.188\n"
     ]
    },
    {
     "name": "stderr",
     "output_type": "stream",
     "text": [
      "Cross-validation progress: 100%|██████████| 20/20 [07:29<00:00, 22.50s/it]"
     ]
    },
    {
     "name": "stdout",
     "output_type": "stream",
     "text": [
      "\n",
      "Site: site21 | Pearson r = 0.577 (p=0.000) | Partial η² = 0.324\n",
      "Cross-validated Performance Metrics:\n",
      "Average Pearson's r: 0.530\n",
      "Partial eta squared: 0.261\n",
      "R²: 0.261\n"
     ]
    },
    {
     "name": "stderr",
     "output_type": "stream",
     "text": [
      "\n"
     ]
    }
   ],
   "execution_count": 28
  },
  {
   "metadata": {},
   "cell_type": "markdown",
   "source": [
    "### Summary table 2 a:\n",
    "| Description                         | Pearson's correlation | Partial $\\eta^2$ | Coefficient of Determination |\n",
    "|-------------------------------------|-----------------------|------------------|-----------------------------|\n",
    "| Baseline: Basic features + PCs      | 0.473                 | 0.185            | 0.185                       |\n",
    "| Baseline: Basic featurres only      | 0.404                 | 0.092            | 0.092                       |\n",
    "| Baseline: SES only                  | 0.375                 | 0.114            | 0.114                       |\n",
    "| Baseline: SES + PCs                 | 0.437                 | 0.174            | 0.174                       |\n",
    "| Baseline: Basic features + SES      | 0.502                 | 0.223            | 0.223                       |\n",
    "| Baseline: Basic features+ SES + PCs | 0.530                 | 0.261            | 0.261                       |\n",
    "\n"
   ],
   "id": "cb909c8803162fc4"
  },
  {
   "metadata": {
    "ExecuteTime": {
     "end_time": "2025-09-21T00:49:58.076711Z",
     "start_time": "2025-09-21T00:49:58.015800Z"
    }
   },
   "cell_type": "code",
   "source": [
    "results_no_network, models_no_network = run_cross_validation(main_followup_B, y_followup_B, use_network=False)\n",
    "print_cross_val_results(results_no_network)"
   ],
   "id": "2607ad711642fbc7",
   "outputs": [
    {
     "name": "stderr",
     "output_type": "stream",
     "text": [
      "Cross-validation progress: 100%|██████████| 20/20 [00:00<00:00, 382.23it/s]"
     ]
    },
    {
     "name": "stdout",
     "output_type": "stream",
     "text": [
      "\n",
      "Site: site02 | Pearson r = 0.393 (p=0.000) | Partial η² = 0.145\n",
      "\n",
      "Site: site03 | Pearson r = 0.357 (p=0.000) | Partial η² = 0.117\n",
      "\n",
      "Site: site04 | Pearson r = 0.449 (p=0.000) | Partial η² = 0.160\n",
      "\n",
      "Site: site05 | Pearson r = 0.548 (p=0.000) | Partial η² = 0.278\n",
      "\n",
      "Site: site06 | Pearson r = 0.284 (p=0.004) | Partial η² = 0.008\n",
      "\n",
      "Site: site07 | Pearson r = 0.557 (p=0.000) | Partial η² = 0.279\n",
      "\n",
      "Site: site08 | Pearson r = 0.342 (p=0.002) | Partial η² = 0.012\n",
      "\n",
      "Site: site09 | Pearson r = 0.441 (p=0.001) | Partial η² = 0.107\n",
      "\n",
      "Site: site10 | Pearson r = 0.520 (p=0.000) | Partial η² = 0.259\n",
      "\n",
      "Site: site11 | Pearson r = 0.547 (p=0.000) | Partial η² = 0.296\n",
      "\n",
      "Site: site12 | Pearson r = 0.491 (p=0.000) | Partial η² = 0.240\n",
      "\n",
      "Site: site13 | Pearson r = 0.455 (p=0.000) | Partial η² = 0.199\n",
      "\n",
      "Site: site14 | Pearson r = 0.482 (p=0.000) | Partial η² = 0.232\n",
      "\n",
      "Site: site15 | Pearson r = 0.735 (p=0.000) | Partial η² = 0.470\n",
      "\n",
      "Site: site16 | Pearson r = 0.373 (p=0.000) | Partial η² = 0.132\n",
      "\n",
      "Site: site17 | Pearson r = 0.357 (p=0.000) | Partial η² = -0.066\n",
      "\n",
      "Site: site18 | Pearson r = 0.407 (p=0.000) | Partial η² = 0.161\n",
      "\n",
      "Site: site19 | Pearson r = 0.340 (p=0.002) | Partial η² = 0.078\n",
      "\n",
      "Site: site20 | Pearson r = 0.582 (p=0.000) | Partial η² = 0.304\n",
      "\n",
      "Site: site21 | Pearson r = 0.604 (p=0.000) | Partial η² = 0.358\n",
      "Cross-validated Performance Metrics:\n",
      "Average Pearson's r: 0.463\n",
      "Partial eta squared: 0.188\n",
      "R²: 0.188\n"
     ]
    },
    {
     "name": "stderr",
     "output_type": "stream",
     "text": [
      "\n"
     ]
    }
   ],
   "execution_count": 29
  },
  {
   "metadata": {
    "ExecuteTime": {
     "end_time": "2025-09-21T00:54:26.812863Z",
     "start_time": "2025-09-21T00:50:01.302895Z"
    }
   },
   "cell_type": "code",
   "source": [
    "results_network, models_network = run_cross_validation(main_followup_B, y_followup_B, use_network=True,\n",
    "                                                       X_network=conn_B_followup_df, num_pc=100)\n",
    "print_cross_val_results(results_network)"
   ],
   "id": "60ce71d1d0c40426",
   "outputs": [
    {
     "name": "stderr",
     "output_type": "stream",
     "text": [
      "Cross-validation progress:   5%|▌         | 1/20 [00:23<07:34, 23.91s/it]"
     ]
    },
    {
     "name": "stdout",
     "output_type": "stream",
     "text": [
      "\n",
      "Site: site02 | Pearson r = 0.461 (p=0.000) | Partial η² = 0.205\n"
     ]
    },
    {
     "name": "stderr",
     "output_type": "stream",
     "text": [
      "Cross-validation progress:  10%|█         | 2/20 [00:36<05:06, 17.03s/it]"
     ]
    },
    {
     "name": "stdout",
     "output_type": "stream",
     "text": [
      "\n",
      "Site: site03 | Pearson r = 0.439 (p=0.000) | Partial η² = 0.185\n"
     ]
    },
    {
     "name": "stderr",
     "output_type": "stream",
     "text": [
      "Cross-validation progress:  15%|█▌        | 3/20 [00:53<04:52, 17.19s/it]"
     ]
    },
    {
     "name": "stdout",
     "output_type": "stream",
     "text": [
      "\n",
      "Site: site04 | Pearson r = 0.503 (p=0.000) | Partial η² = 0.182\n"
     ]
    },
    {
     "name": "stderr",
     "output_type": "stream",
     "text": [
      "Cross-validation progress:  20%|██        | 4/20 [01:16<05:14, 19.66s/it]"
     ]
    },
    {
     "name": "stdout",
     "output_type": "stream",
     "text": [
      "\n",
      "Site: site05 | Pearson r = 0.622 (p=0.000) | Partial η² = 0.355\n"
     ]
    },
    {
     "name": "stderr",
     "output_type": "stream",
     "text": [
      "Cross-validation progress:  25%|██▌       | 5/20 [01:29<04:18, 17.24s/it]"
     ]
    },
    {
     "name": "stdout",
     "output_type": "stream",
     "text": [
      "\n",
      "Site: site06 | Pearson r = 0.392 (p=0.000) | Partial η² = 0.108\n"
     ]
    },
    {
     "name": "stderr",
     "output_type": "stream",
     "text": [
      "Cross-validation progress:  30%|███       | 6/20 [01:43<03:44, 16.04s/it]"
     ]
    },
    {
     "name": "stdout",
     "output_type": "stream",
     "text": [
      "\n",
      "Site: site07 | Pearson r = 0.594 (p=0.000) | Partial η² = 0.310\n"
     ]
    },
    {
     "name": "stderr",
     "output_type": "stream",
     "text": [
      "Cross-validation progress:  35%|███▌      | 7/20 [01:57<03:17, 15.18s/it]"
     ]
    },
    {
     "name": "stdout",
     "output_type": "stream",
     "text": [
      "\n",
      "Site: site08 | Pearson r = 0.474 (p=0.000) | Partial η² = 0.163\n"
     ]
    },
    {
     "name": "stderr",
     "output_type": "stream",
     "text": [
      "Cross-validation progress:  40%|████      | 8/20 [02:08<02:49, 14.14s/it]"
     ]
    },
    {
     "name": "stdout",
     "output_type": "stream",
     "text": [
      "\n",
      "Site: site09 | Pearson r = 0.536 (p=0.000) | Partial η² = 0.162\n"
     ]
    },
    {
     "name": "stderr",
     "output_type": "stream",
     "text": [
      "Cross-validation progress:  45%|████▌     | 9/20 [02:18<02:21, 12.86s/it]"
     ]
    },
    {
     "name": "stdout",
     "output_type": "stream",
     "text": [
      "\n",
      "Site: site10 | Pearson r = 0.533 (p=0.000) | Partial η² = 0.282\n"
     ]
    },
    {
     "name": "stderr",
     "output_type": "stream",
     "text": [
      "Cross-validation progress:  50%|█████     | 10/20 [02:31<02:06, 12.64s/it]"
     ]
    },
    {
     "name": "stdout",
     "output_type": "stream",
     "text": [
      "\n",
      "Site: site11 | Pearson r = 0.547 (p=0.000) | Partial η² = 0.227\n"
     ]
    },
    {
     "name": "stderr",
     "output_type": "stream",
     "text": [
      "Cross-validation progress:  55%|█████▌    | 11/20 [02:43<01:53, 12.59s/it]"
     ]
    },
    {
     "name": "stdout",
     "output_type": "stream",
     "text": [
      "\n",
      "Site: site12 | Pearson r = 0.596 (p=0.000) | Partial η² = 0.354\n"
     ]
    },
    {
     "name": "stderr",
     "output_type": "stream",
     "text": [
      "Cross-validation progress:  60%|██████    | 12/20 [02:53<01:35, 11.90s/it]"
     ]
    },
    {
     "name": "stdout",
     "output_type": "stream",
     "text": [
      "\n",
      "Site: site13 | Pearson r = 0.504 (p=0.000) | Partial η² = 0.244\n"
     ]
    },
    {
     "name": "stderr",
     "output_type": "stream",
     "text": [
      "Cross-validation progress:  65%|██████▌   | 13/20 [03:04<01:19, 11.40s/it]"
     ]
    },
    {
     "name": "stdout",
     "output_type": "stream",
     "text": [
      "\n",
      "Site: site14 | Pearson r = 0.564 (p=0.000) | Partial η² = 0.317\n"
     ]
    },
    {
     "name": "stderr",
     "output_type": "stream",
     "text": [
      "Cross-validation progress:  70%|███████   | 14/20 [03:16<01:10, 11.76s/it]"
     ]
    },
    {
     "name": "stdout",
     "output_type": "stream",
     "text": [
      "\n",
      "Site: site15 | Pearson r = 0.736 (p=0.000) | Partial η² = 0.502\n"
     ]
    },
    {
     "name": "stderr",
     "output_type": "stream",
     "text": [
      "Cross-validation progress:  75%|███████▌  | 15/20 [03:26<00:56, 11.21s/it]"
     ]
    },
    {
     "name": "stdout",
     "output_type": "stream",
     "text": [
      "\n",
      "Site: site16 | Pearson r = 0.443 (p=0.000) | Partial η² = 0.180\n"
     ]
    },
    {
     "name": "stderr",
     "output_type": "stream",
     "text": [
      "Cross-validation progress:  80%|████████  | 16/20 [03:36<00:43, 10.82s/it]"
     ]
    },
    {
     "name": "stdout",
     "output_type": "stream",
     "text": [
      "\n",
      "Site: site17 | Pearson r = 0.454 (p=0.000) | Partial η² = 0.073\n"
     ]
    },
    {
     "name": "stderr",
     "output_type": "stream",
     "text": [
      "Cross-validation progress:  85%|████████▌ | 17/20 [03:49<00:34, 11.43s/it]"
     ]
    },
    {
     "name": "stdout",
     "output_type": "stream",
     "text": [
      "\n",
      "Site: site18 | Pearson r = 0.381 (p=0.000) | Partial η² = 0.128\n"
     ]
    },
    {
     "name": "stderr",
     "output_type": "stream",
     "text": [
      "Cross-validation progress:  90%|█████████ | 18/20 [04:02<00:23, 11.98s/it]"
     ]
    },
    {
     "name": "stdout",
     "output_type": "stream",
     "text": [
      "\n",
      "Site: site19 | Pearson r = 0.368 (p=0.001) | Partial η² = 0.103\n"
     ]
    },
    {
     "name": "stderr",
     "output_type": "stream",
     "text": [
      "Cross-validation progress:  95%|█████████▌| 19/20 [04:13<00:11, 11.57s/it]"
     ]
    },
    {
     "name": "stdout",
     "output_type": "stream",
     "text": [
      "\n",
      "Site: site20 | Pearson r = 0.603 (p=0.000) | Partial η² = 0.339\n"
     ]
    },
    {
     "name": "stderr",
     "output_type": "stream",
     "text": [
      "Cross-validation progress: 100%|██████████| 20/20 [04:25<00:00, 13.27s/it]"
     ]
    },
    {
     "name": "stdout",
     "output_type": "stream",
     "text": [
      "\n",
      "Site: site21 | Pearson r = 0.630 (p=0.000) | Partial η² = 0.389\n",
      "Cross-validated Performance Metrics:\n",
      "Average Pearson's r: 0.519\n",
      "Partial eta squared: 0.241\n",
      "R²: 0.241\n"
     ]
    },
    {
     "name": "stderr",
     "output_type": "stream",
     "text": [
      "\n"
     ]
    }
   ],
   "execution_count": 30
  },
  {
   "metadata": {},
   "cell_type": "markdown",
   "source": [
    "### Summary table 2 b:\n",
    "| Description                          | Pearson's correlation | Partial $\\eta^2$ | Coefficient of Determination |\n",
    "|--------------------------------------|-----------------------|------------------|------------------------------|\n",
    "| Followup: Basic features + PCs       | 0.457                 | 0.152            | 0.152                        |\n",
    "| Followup: Basic features only        | 0.325                 | 0.024            | 0.024                        |\n",
    "| Followup: SES only                   | 0.405                 | 0.137            | 0.137                        |\n",
    "| Followup: SES + PCs                  | 0.487                 | 0.197            | 0.197                        |\n",
    "| Followup: Basic features + SES       | 0.463                 | 0.188            | 0.188                        |\n",
    "| Followup: Basic features + SES + PCs | 0.519                 | 0.241            | 0.241                        |\n"
   ],
   "id": "cda9b3afd9e52cd9"
  },
  {
   "metadata": {},
   "cell_type": "markdown",
   "source": [
    "## Answer 2:\n",
    "Yes, the new features (SES) help improve the quality of the models!\n",
    "We have the evidence to support this finding from both tables:\n",
    "\n",
    "* SES alone is a better predictor than basic features alone.\n",
    "* Adding SES to basic features provides a larger boost in explained variance than adding PCs does.\n",
    "* The best model in both cases is the full model that includes basic features, the new SES features and the PCs."
   ],
   "id": "3273effff4281507"
  },
  {
   "metadata": {},
   "cell_type": "code",
   "outputs": [],
   "execution_count": null,
   "source": "",
   "id": "9b44b4fb8ccef5ef"
  },
  {
   "metadata": {},
   "cell_type": "code",
   "outputs": [],
   "execution_count": null,
   "source": "",
   "id": "63f232832d38d27f"
  },
  {
   "metadata": {},
   "cell_type": "code",
   "outputs": [],
   "execution_count": null,
   "source": "",
   "id": "e4e01fdfa7b0a10f"
  },
  {
   "metadata": {},
   "cell_type": "code",
   "outputs": [],
   "execution_count": null,
   "source": "",
   "id": "e078504fa8a92388"
  },
  {
   "metadata": {},
   "cell_type": "markdown",
   "source": [
    "## Question 2*: Are this results statistically significant?\n",
    "One need to compare performance of nested models on each fold, not the average performance.\n"
   ],
   "id": "b80b38b84f987789"
  },
  {
   "metadata": {},
   "cell_type": "raw",
   "source": [
    "from scipy.stats import f\n",
    "def f_test_r2(r2_reduced, r2_full, n, p_reduced, p_full):\n",
    "    \"\"\"\n",
    "    Perform F-test for nested models using R-squared values.\n",
    "\n",
    "    Parameters:\n",
    "    r2_reduced (float): R-squared of the reduced model\n",
    "    r2_full (float): R-squared of the full model\n",
    "    n (int): Sample size\n",
    "    p_reduced (int): Number of parameters in reduced model (including intercept)\n",
    "    p_full (int): Number of parameters in full model (including intercept)\n",
    "\n",
    "    Returns:\n",
    "    dict: F-statistic and p-value\n",
    "    \"\"\"\n",
    "    # Calculate degrees of freedom\n",
    "    df_diff = p_full - p_reduced  # Numerator degrees of freedom\n",
    "    df_full = n - p_full - 1      # Denominator degrees of freedom\n",
    "\n",
    "    # Calculate F-statistic\n",
    "    f_stat = ((r2_full - r2_reduced) / df_diff) / ((1 - r2_full) / df_full)\n",
    "\n",
    "    # Calculate p-value\n",
    "    p_value = f.sf(f_stat, df_diff, df_full)  # Survival function (1 - CDF)\n",
    "\n",
    "    return {'f_statistic': f_stat, 'p_value': p_value}"
   ],
   "id": "b4caff2fd53a4a26"
  },
  {
   "metadata": {},
   "cell_type": "raw",
   "source": [
    "n_0 = article_features_baseline.shape[0] #sample size\n",
    "n_1 = article_features_followup.shape[0]\n",
    "p_obs_0 = article_features_baseline.shape[1] - 1  # Number of parameters in \"Observations Only\" model (features + intercept) (-2 for Subject and site_id )\n",
    "p_obs_1 = article_features_followup.shape[1] - 1\n",
    "p_ses_0 = ses_baseline.shape[1] - 1 # Number of parameters in \"SES Only\" model (features + intercept)\n",
    "p_ses_1 = ses_followup.shape[1] - 1\n",
    "p_pc = 100    # Number of parameters represented by the PCs\n",
    "\n",
    "p_obs_ses_0 = combined_baseline.shape[1]- 1\n",
    "p_obs_ses_1 = combined_followup.shape[1] - 1\n",
    "p_obs_pc_0 = p_obs_0 + p_pc - 1\n",
    "p_obs_pc_1 = p_obs_1 + p_pc - 1\n",
    "p_obs_ses_pc_0 = p_obs_0 + p_ses_0 + p_pc - 2\n",
    "p_obs_ses_pc_1 = p_obs_1 + p_ses_1 + p_pc - 2\n"
   ],
   "id": "ad320806a89b628d"
  },
  {
   "metadata": {},
   "cell_type": "raw",
   "source": [
    "alpha = 0.05\n",
    "# Perform tests for Table 2a (Baseline)\n",
    "print(\"Table 2a (Baseline) Results:\")\n",
    "print(\"=\" * 50)\n",
    "\n",
    "# Test 1: Observations Only vs Observations + SES\n",
    "test1 = f_test_r2(\n",
    "    r2_reduced=0.092,\n",
    "    r2_full=0.223,\n",
    "    n=n_0,\n",
    "    p_reduced=p_obs_0,\n",
    "    p_full=p_obs_ses_0\n",
    ")\n",
    "print(f\"Test 1 (Obs vs Obs+SES): F={test1['f_statistic']:.4f}, p={test1['p_value']:.4e}\")\n",
    "if test1['p_value'] < 0.05:\n",
    "    print(f\"The full model provides a statistically significant improvement over the reduced model.\")\n",
    "else:\n",
    "    print(\"There is not enough evidence\")\n",
    "\n",
    "# Test 2: Observations + PCs vs Observations + SES + PCs\n",
    "test2 = f_test_r2(\n",
    "    r2_reduced=0.185,\n",
    "    r2_full=0.261,\n",
    "    n=n_0,\n",
    "    p_reduced=p_obs_pc_0,\n",
    "    p_full=p_obs_ses_pc_0\n",
    ")\n",
    "print(f\"Test 2 (Obs+PCs vs Obs+SES+PCs): F={test2['f_statistic']:.4f}, p={test2['p_value']:.4e}\")\n",
    "if test2['p_value'] < 0.05:\n",
    "    print(f\"The full model provides a statistically significant improvement over the reduced model.\")\n",
    "else:\n",
    "    print(\"There is not enough evidence\")\n",
    "\n",
    "# Test 3: Observations + SES vs Observations + SES + PCs\n",
    "test3 = f_test_r2(\n",
    "    r2_reduced=0.223,\n",
    "    r2_full=0.261,\n",
    "    n=n_0,\n",
    "    p_reduced=p_obs_ses_0,\n",
    "    p_full=p_obs_ses_pc_0\n",
    ")\n",
    "print(f\"Test 3 (Obs+SES vs Obs+SES+PCs): F={test3['f_statistic']:.4f}, p={test3['p_value']:.4e}\")\n",
    "if test3['p_value'] < 0.05:\n",
    "    print(f\"The full model provides a statistically significant improvement over the reduced model.\")\n",
    "else:\n",
    "    print(\"There is not enough evidence\")\n",
    "\n",
    "# Perform tests for Table 2b (Follow-up)\n",
    "print(\"\\nTable 2b (Follow-up) Results:\")\n",
    "print(\"=\" * 50)\n",
    "\n",
    "# Test 4: Observations Only vs Observations + SES\n",
    "test4 = f_test_r2(\n",
    "    r2_reduced=0.024,\n",
    "    r2_full=0.188,\n",
    "    n=n_1,\n",
    "    p_reduced=p_obs_1,\n",
    "    p_full=p_obs_ses_1\n",
    ")\n",
    "print(f\"Test 4 (Obs vs Obs+SES): F={test4['f_statistic']:.4f}, p={test4['p_value']:.4e}\")\n",
    "if test4['p_value'] < 0.05:\n",
    "    print(f\"The full model provides a statistically significant improvement over the reduced model.\")\n",
    "else:\n",
    "    print(\"There is not enough evidence\")\n",
    "\n",
    "# Test 5: Observations + PCs vs Observations + SES + PCs\n",
    "test5 = f_test_r2(\n",
    "    r2_reduced=0.152,\n",
    "    r2_full=0.241,\n",
    "    n=n_1,\n",
    "    p_reduced=p_obs_pc_1,\n",
    "    p_full=p_obs_ses_pc_1\n",
    ")\n",
    "print(f\"Test 5 (Obs+PCs vs Obs+SES+PCs): F={test5['f_statistic']:.4f}, p={test5['p_value']:.4e}\")\n",
    "if test5['p_value'] < 0.05:\n",
    "    print(f\"The full model provides a statistically significant improvement over the reduced model.\")\n",
    "else:\n",
    "    print(\"There is not enough evidence\")\n",
    "\n",
    "# Test 6: Observations + SES vs Observations + SES + PCs\n",
    "test6 = f_test_r2(\n",
    "    r2_reduced=0.188,\n",
    "    r2_full=0.241,\n",
    "    n=n_1,\n",
    "    p_reduced=p_obs_ses_1,\n",
    "    p_full=p_obs_ses_pc_1\n",
    ")\n",
    "print(f\"Test 6 (Obs+SES vs Obs+SES+PCs): F={test6['f_statistic']:.4f}, p={test6['p_value']:.4e}\")\n",
    "if test6['p_value'] < 0.05:\n",
    "    print(f\"The full model provides a statistically significant improvement over the reduced model.\")\n",
    "else:\n",
    "    print(\"There is not enough evidence\")"
   ],
   "id": "e1609982c42da3f0"
  },
  {
   "metadata": {},
   "cell_type": "markdown",
   "source": [
    "## Answer 2*:\n",
    "The SES features significantly improve model performance on their own and provide unique information that isn't captured by PCs. Their value is consistent across both time points."
   ],
   "id": "cfbe0f2508255a28"
  },
  {
   "metadata": {},
   "cell_type": "markdown",
   "source": [
    "## Question 3:\n",
    "Is it possible to move towards network summary statistics without loss of explained variation?"
   ],
   "id": "5acb51b8e870865a"
  },
  {
   "metadata": {},
   "cell_type": "markdown",
   "source": [
    "There are several questions that need to be asked. First, we need to understand whether network summary statistics increase the amount of explained variance. If yes, then which one. We need to compare the following:\n",
    "* How much variance can network stats explain alone?\n",
    "* Does adding network stats to the original data help?\n",
    "* Do network stats provide new information that wasn't captured by the PCs?\n",
    "* Can they replace PCs?"
   ],
   "id": "da599b64192a72d"
  },
  {
   "metadata": {
    "ExecuteTime": {
     "end_time": "2025-09-21T18:50:00.752373Z",
     "start_time": "2025-09-21T18:50:00.748549Z"
    }
   },
   "cell_type": "code",
   "source": "regions = pd.read_csv('../data/raw/gordon_sub_cere_parcels.csv')",
   "id": "cad7e27cf3c028f1",
   "outputs": [],
   "execution_count": 13
  },
  {
   "metadata": {
    "ExecuteTime": {
     "end_time": "2025-09-21T18:50:19.424957Z",
     "start_time": "2025-09-21T18:50:19.423320Z"
    }
   },
   "cell_type": "code",
   "source": "from src.network.statistics import compute_one_statistic",
   "id": "4ddda6e483f909de",
   "outputs": [],
   "execution_count": 15
  },
  {
   "metadata": {},
   "cell_type": "markdown",
   "source": [
    "## Strength:\n",
    "* Strength metrics (avg_positive_strength, avg_negative_strength, avg_total_strength) follow\n",
    "          definitions of node strength in weighted networks [Barrat et al., 2004; Rubinov & Sporns, 2010].\n",
    "          Positive/negative separation follows signed-network convention [Rubinov, 2011].\n",
    "* Within- and between-system means (within_positive_mean, etc.) are standard summaries of\n",
    "          functional connectivity [Power et al., 2011].\n",
    "* Segregation metrics:\n",
    "    * segregation_ratio: within-system positive mean / between-system positive mean (used in several FC studies).\n",
    "    * segregation_index: (within-system positive mean – between-system positive mean) / within-system positive mean,\n",
    "              as defined by Chan et al. (2014, PNAS).This function calculates the following statistics for each network:\n",
    "\n"
   ],
   "id": "ac5ba843b3502614"
  },
  {
   "metadata": {
    "ExecuteTime": {
     "end_time": "2025-09-21T19:26:32.774534Z",
     "start_time": "2025-09-21T19:25:52.550101Z"
    }
   },
   "cell_type": "code",
   "source": [
    "avg_pos_strength_baseline_B = compute_one_statistic(df_features=main_baseline_B,\n",
    "                          df_network=conn_B_baseline_df,\n",
    "                          regions=regions,\n",
    "                          stat_name=\"avg_positive_strength\",\n",
    "                          mode=\"all\",\n",
    "                          node_order=None,\n",
    "                          matrix_size=418,\n",
    "                          diag_value=0.0)"
   ],
   "id": "c4fb9cdc158261a0",
   "outputs": [
    {
     "name": "stderr",
     "output_type": "stream",
     "text": [
      "100%|██████████| 4321/4321 [00:35<00:00, 122.78it/s]\n"
     ]
    }
   ],
   "execution_count": 20
  },
  {
   "metadata": {
    "ExecuteTime": {
     "end_time": "2025-09-21T19:26:37.379261Z",
     "start_time": "2025-09-21T19:26:37.201871Z"
    }
   },
   "cell_type": "code",
   "source": [
    "baseline_B_plus = combine_data(main_baseline_B , avg_pos_strength_baseline_B)\n",
    "results_no_network, models_no_network = run_cross_validation(baseline_B_plus , y_baseline_B, use_network=False)\n",
    "print_cross_val_results(results_no_network)"
   ],
   "id": "8ed0272b76d41377",
   "outputs": [
    {
     "name": "stdout",
     "output_type": "stream",
     "text": [
      "Dropping duplicate columns: ['Subject', 'site_id_l']\n"
     ]
    },
    {
     "name": "stderr",
     "output_type": "stream",
     "text": [
      "Cross-validation progress: 100%|██████████| 20/20 [00:00<00:00, 126.89it/s]"
     ]
    },
    {
     "name": "stdout",
     "output_type": "stream",
     "text": [
      "\n",
      "Site: site02 | Pearson r = 0.479 (p=0.000) | Partial η² = 0.132\n",
      "\n",
      "Site: site03 | Pearson r = 0.436 (p=0.000) | Partial η² = 0.166\n",
      "\n",
      "Site: site04 | Pearson r = 0.497 (p=0.000) | Partial η² = 0.246\n",
      "\n",
      "Site: site05 | Pearson r = 0.585 (p=0.000) | Partial η² = 0.339\n",
      "\n",
      "Site: site06 | Pearson r = 0.451 (p=0.000) | Partial η² = 0.187\n",
      "\n",
      "Site: site07 | Pearson r = 0.650 (p=0.000) | Partial η² = 0.395\n",
      "\n",
      "Site: site08 | Pearson r = 0.472 (p=0.000) | Partial η² = 0.101\n",
      "\n",
      "Site: site09 | Pearson r = 0.431 (p=0.000) | Partial η² = 0.069\n",
      "\n",
      "Site: site10 | Pearson r = 0.469 (p=0.000) | Partial η² = 0.214\n",
      "\n",
      "Site: site11 | Pearson r = 0.575 (p=0.000) | Partial η² = 0.302\n",
      "\n",
      "Site: site12 | Pearson r = 0.422 (p=0.000) | Partial η² = 0.098\n",
      "\n",
      "Site: site13 | Pearson r = 0.564 (p=0.000) | Partial η² = 0.307\n",
      "\n",
      "Site: site14 | Pearson r = 0.479 (p=0.000) | Partial η² = 0.224\n",
      "\n",
      "Site: site15 | Pearson r = 0.618 (p=0.000) | Partial η² = 0.375\n",
      "\n",
      "Site: site16 | Pearson r = 0.520 (p=0.000) | Partial η² = 0.260\n",
      "\n",
      "Site: site17 | Pearson r = 0.390 (p=0.000) | Partial η² = 0.132\n",
      "\n",
      "Site: site18 | Pearson r = 0.434 (p=0.000) | Partial η² = 0.164\n",
      "\n",
      "Site: site19 | Pearson r = 0.574 (p=0.000) | Partial η² = 0.305\n",
      "\n",
      "Site: site20 | Pearson r = 0.467 (p=0.000) | Partial η² = 0.171\n",
      "\n",
      "Site: site21 | Pearson r = 0.550 (p=0.000) | Partial η² = 0.290\n",
      "Cross-validated Performance Metrics:\n",
      "Average Pearson's r: 0.503\n",
      "Partial eta squared: 0.224\n",
      "R²: 0.224\n"
     ]
    },
    {
     "name": "stderr",
     "output_type": "stream",
     "text": [
      "\n"
     ]
    }
   ],
   "execution_count": 21
  },
  {
   "metadata": {
    "ExecuteTime": {
     "end_time": "2025-09-21T19:30:11.999216Z",
     "start_time": "2025-09-21T19:29:42.245111Z"
    }
   },
   "cell_type": "code",
   "source": [
    "avg_pos_strength_followup_B = compute_one_statistic(df_features=main_followup_B,\n",
    "                          df_network=conn_B_followup_df,\n",
    "                          regions=regions,\n",
    "                          stat_name=\"avg_positive_strength\",\n",
    "                          mode=\"all\",\n",
    "                          node_order=None,\n",
    "                          matrix_size=418,\n",
    "                          diag_value=0.0)"
   ],
   "id": "ddfff54f0f6653c0",
   "outputs": [
    {
     "name": "stderr",
     "output_type": "stream",
     "text": [
      "100%|██████████| 2756/2756 [00:22<00:00, 124.65it/s]\n"
     ]
    }
   ],
   "execution_count": 22
  },
  {
   "metadata": {
    "ExecuteTime": {
     "end_time": "2025-09-21T19:32:35.470407Z",
     "start_time": "2025-09-21T19:32:35.391771Z"
    }
   },
   "cell_type": "code",
   "source": [
    "followup_B_plus = combine_data(main_followup_B, avg_pos_strength_followup_B)\n",
    "results_no_network, models_no_network = run_cross_validation(followup_B_plus.fillna(0.0), y_followup_B, use_network=False)\n",
    "print_cross_val_results(results_no_network)"
   ],
   "id": "3cf8403c3f7e77a1",
   "outputs": [
    {
     "name": "stdout",
     "output_type": "stream",
     "text": [
      "Dropping duplicate columns: ['Subject', 'site_id_l']\n"
     ]
    },
    {
     "name": "stderr",
     "output_type": "stream",
     "text": [
      "Cross-validation progress: 100%|██████████| 20/20 [00:00<00:00, 279.29it/s]"
     ]
    },
    {
     "name": "stdout",
     "output_type": "stream",
     "text": [
      "\n",
      "Site: site02 | Pearson r = 0.400 (p=0.000) | Partial η² = 0.155\n",
      "\n",
      "Site: site03 | Pearson r = 0.376 (p=0.000) | Partial η² = 0.132\n",
      "\n",
      "Site: site04 | Pearson r = 0.442 (p=0.000) | Partial η² = 0.127\n",
      "\n",
      "Site: site05 | Pearson r = 0.572 (p=0.000) | Partial η² = 0.306\n",
      "\n",
      "Site: site06 | Pearson r = 0.294 (p=0.003) | Partial η² = 0.018\n",
      "\n",
      "Site: site07 | Pearson r = 0.532 (p=0.000) | Partial η² = 0.256\n",
      "\n",
      "Site: site08 | Pearson r = 0.364 (p=0.001) | Partial η² = 0.040\n",
      "\n",
      "Site: site09 | Pearson r = 0.373 (p=0.006) | Partial η² = 0.031\n",
      "\n",
      "Site: site10 | Pearson r = 0.521 (p=0.000) | Partial η² = 0.260\n",
      "\n",
      "Site: site11 | Pearson r = 0.517 (p=0.000) | Partial η² = 0.212\n",
      "\n",
      "Site: site12 | Pearson r = 0.505 (p=0.000) | Partial η² = 0.253\n",
      "\n",
      "Site: site13 | Pearson r = 0.455 (p=0.000) | Partial η² = 0.200\n",
      "\n",
      "Site: site14 | Pearson r = 0.484 (p=0.000) | Partial η² = 0.233\n",
      "\n",
      "Site: site15 | Pearson r = 0.740 (p=0.000) | Partial η² = 0.489\n",
      "\n",
      "Site: site16 | Pearson r = 0.369 (p=0.000) | Partial η² = 0.128\n",
      "\n",
      "Site: site17 | Pearson r = 0.347 (p=0.000) | Partial η² = -0.054\n",
      "\n",
      "Site: site18 | Pearson r = 0.375 (p=0.000) | Partial η² = 0.131\n",
      "\n",
      "Site: site19 | Pearson r = 0.339 (p=0.002) | Partial η² = 0.075\n",
      "\n",
      "Site: site20 | Pearson r = 0.579 (p=0.000) | Partial η² = 0.307\n",
      "\n",
      "Site: site21 | Pearson r = 0.616 (p=0.000) | Partial η² = 0.370\n",
      "Cross-validated Performance Metrics:\n",
      "Average Pearson's r: 0.460\n",
      "Partial eta squared: 0.183\n",
      "R²: 0.183\n"
     ]
    },
    {
     "name": "stderr",
     "output_type": "stream",
     "text": [
      "\n"
     ]
    }
   ],
   "execution_count": 24
  },
  {
   "metadata": {
    "ExecuteTime": {
     "end_time": "2025-09-21T20:03:50.125284Z",
     "start_time": "2025-09-21T19:58:56.697215Z"
    }
   },
   "cell_type": "code",
   "source": [
    "results_network, models_network = run_cross_validation(main_baseline_B, y_baseline_B, use_network=True,\n",
    "                                                       X_network=conn_B_baseline_df, num_pc=15)\n",
    "print_cross_val_results(results_network)"
   ],
   "id": "c2180b92c1f01705",
   "outputs": [
    {
     "name": "stderr",
     "output_type": "stream",
     "text": [
      "Cross-validation progress:   5%|▌         | 1/20 [00:24<07:51, 24.81s/it]"
     ]
    },
    {
     "name": "stdout",
     "output_type": "stream",
     "text": [
      "\n",
      "Site: site02 | Pearson r = 0.445 (p=0.000) | Partial η² = 0.111\n"
     ]
    },
    {
     "name": "stderr",
     "output_type": "stream",
     "text": [
      "Cross-validation progress:  10%|█         | 2/20 [00:44<06:33, 21.85s/it]"
     ]
    },
    {
     "name": "stdout",
     "output_type": "stream",
     "text": [
      "\n",
      "Site: site03 | Pearson r = 0.440 (p=0.000) | Partial η² = 0.176\n"
     ]
    },
    {
     "name": "stderr",
     "output_type": "stream",
     "text": [
      "Cross-validation progress:  15%|█▌        | 3/20 [01:01<05:34, 19.70s/it]"
     ]
    },
    {
     "name": "stdout",
     "output_type": "stream",
     "text": [
      "\n",
      "Site: site04 | Pearson r = 0.500 (p=0.000) | Partial η² = 0.250\n"
     ]
    },
    {
     "name": "stderr",
     "output_type": "stream",
     "text": [
      "Cross-validation progress:  20%|██        | 4/20 [01:19<05:00, 18.76s/it]"
     ]
    },
    {
     "name": "stdout",
     "output_type": "stream",
     "text": [
      "\n",
      "Site: site05 | Pearson r = 0.584 (p=0.000) | Partial η² = 0.339\n"
     ]
    },
    {
     "name": "stderr",
     "output_type": "stream",
     "text": [
      "Cross-validation progress:  25%|██▌       | 5/20 [01:35<04:30, 18.02s/it]"
     ]
    },
    {
     "name": "stdout",
     "output_type": "stream",
     "text": [
      "\n",
      "Site: site06 | Pearson r = 0.466 (p=0.000) | Partial η² = 0.206\n"
     ]
    },
    {
     "name": "stderr",
     "output_type": "stream",
     "text": [
      "Cross-validation progress:  30%|███       | 6/20 [01:51<04:02, 17.29s/it]"
     ]
    },
    {
     "name": "stdout",
     "output_type": "stream",
     "text": [
      "\n",
      "Site: site07 | Pearson r = 0.665 (p=0.000) | Partial η² = 0.413\n"
     ]
    },
    {
     "name": "stderr",
     "output_type": "stream",
     "text": [
      "Cross-validation progress:  35%|███▌      | 7/20 [02:07<03:40, 16.99s/it]"
     ]
    },
    {
     "name": "stdout",
     "output_type": "stream",
     "text": [
      "\n",
      "Site: site08 | Pearson r = 0.500 (p=0.000) | Partial η² = 0.149\n"
     ]
    },
    {
     "name": "stderr",
     "output_type": "stream",
     "text": [
      "Cross-validation progress:  40%|████      | 8/20 [02:24<03:21, 16.79s/it]"
     ]
    },
    {
     "name": "stdout",
     "output_type": "stream",
     "text": [
      "\n",
      "Site: site09 | Pearson r = 0.468 (p=0.000) | Partial η² = 0.140\n"
     ]
    },
    {
     "name": "stderr",
     "output_type": "stream",
     "text": [
      "Cross-validation progress:  45%|████▌     | 9/20 [02:37<02:51, 15.59s/it]"
     ]
    },
    {
     "name": "stdout",
     "output_type": "stream",
     "text": [
      "\n",
      "Site: site10 | Pearson r = 0.459 (p=0.000) | Partial η² = 0.207\n"
     ]
    },
    {
     "name": "stderr",
     "output_type": "stream",
     "text": [
      "Cross-validation progress:  50%|█████     | 10/20 [02:50<02:29, 14.92s/it]"
     ]
    },
    {
     "name": "stdout",
     "output_type": "stream",
     "text": [
      "\n",
      "Site: site11 | Pearson r = 0.577 (p=0.000) | Partial η² = 0.310\n"
     ]
    },
    {
     "name": "stderr",
     "output_type": "stream",
     "text": [
      "Cross-validation progress:  55%|█████▌    | 11/20 [03:03<02:09, 14.34s/it]"
     ]
    },
    {
     "name": "stdout",
     "output_type": "stream",
     "text": [
      "\n",
      "Site: site12 | Pearson r = 0.402 (p=0.000) | Partial η² = 0.068\n"
     ]
    },
    {
     "name": "stderr",
     "output_type": "stream",
     "text": [
      "Cross-validation progress:  60%|██████    | 12/20 [03:13<01:44, 13.00s/it]"
     ]
    },
    {
     "name": "stdout",
     "output_type": "stream",
     "text": [
      "\n",
      "Site: site13 | Pearson r = 0.576 (p=0.000) | Partial η² = 0.322\n"
     ]
    },
    {
     "name": "stderr",
     "output_type": "stream",
     "text": [
      "Cross-validation progress:  65%|██████▌   | 13/20 [03:26<01:30, 12.94s/it]"
     ]
    },
    {
     "name": "stdout",
     "output_type": "stream",
     "text": [
      "\n",
      "Site: site14 | Pearson r = 0.540 (p=0.000) | Partial η² = 0.286\n"
     ]
    },
    {
     "name": "stderr",
     "output_type": "stream",
     "text": [
      "Cross-validation progress:  70%|███████   | 14/20 [03:39<01:18, 13.01s/it]"
     ]
    },
    {
     "name": "stdout",
     "output_type": "stream",
     "text": [
      "\n",
      "Site: site15 | Pearson r = 0.621 (p=0.000) | Partial η² = 0.384\n"
     ]
    },
    {
     "name": "stderr",
     "output_type": "stream",
     "text": [
      "Cross-validation progress:  75%|███████▌  | 15/20 [03:49<00:59, 11.92s/it]"
     ]
    },
    {
     "name": "stdout",
     "output_type": "stream",
     "text": [
      "\n",
      "Site: site16 | Pearson r = 0.530 (p=0.000) | Partial η² = 0.272\n"
     ]
    },
    {
     "name": "stderr",
     "output_type": "stream",
     "text": [
      "Cross-validation progress:  80%|████████  | 16/20 [04:02<00:49, 12.28s/it]"
     ]
    },
    {
     "name": "stdout",
     "output_type": "stream",
     "text": [
      "\n",
      "Site: site17 | Pearson r = 0.381 (p=0.000) | Partial η² = 0.116\n"
     ]
    },
    {
     "name": "stderr",
     "output_type": "stream",
     "text": [
      "Cross-validation progress:  85%|████████▌ | 17/20 [04:15<00:37, 12.63s/it]"
     ]
    },
    {
     "name": "stdout",
     "output_type": "stream",
     "text": [
      "\n",
      "Site: site18 | Pearson r = 0.439 (p=0.000) | Partial η² = 0.177\n"
     ]
    },
    {
     "name": "stderr",
     "output_type": "stream",
     "text": [
      "Cross-validation progress:  90%|█████████ | 18/20 [04:28<00:25, 12.74s/it]"
     ]
    },
    {
     "name": "stdout",
     "output_type": "stream",
     "text": [
      "\n",
      "Site: site19 | Pearson r = 0.594 (p=0.000) | Partial η² = 0.335\n"
     ]
    },
    {
     "name": "stderr",
     "output_type": "stream",
     "text": [
      "Cross-validation progress:  95%|█████████▌| 19/20 [04:41<00:12, 12.65s/it]"
     ]
    },
    {
     "name": "stdout",
     "output_type": "stream",
     "text": [
      "\n",
      "Site: site20 | Pearson r = 0.486 (p=0.000) | Partial η² = 0.180\n"
     ]
    },
    {
     "name": "stderr",
     "output_type": "stream",
     "text": [
      "Cross-validation progress: 100%|██████████| 20/20 [04:53<00:00, 14.66s/it]"
     ]
    },
    {
     "name": "stdout",
     "output_type": "stream",
     "text": [
      "\n",
      "Site: site21 | Pearson r = 0.562 (p=0.000) | Partial η² = 0.303\n",
      "Cross-validated Performance Metrics:\n",
      "Average Pearson's r: 0.512\n",
      "Partial eta squared: 0.237\n",
      "R²: 0.237\n"
     ]
    },
    {
     "name": "stderr",
     "output_type": "stream",
     "text": [
      "\n"
     ]
    }
   ],
   "execution_count": 25
  },
  {
   "metadata": {
    "ExecuteTime": {
     "end_time": "2025-09-21T20:07:13.438996Z",
     "start_time": "2025-09-21T20:04:48.288643Z"
    }
   },
   "cell_type": "code",
   "source": [
    "results_network, models_network = run_cross_validation(main_followup_B, y_followup_B, use_network=True,\n",
    "                                                       X_network=conn_B_followup_df, num_pc=15)\n",
    "print_cross_val_results(results_network)"
   ],
   "id": "de512e2b13123f28",
   "outputs": [
    {
     "name": "stderr",
     "output_type": "stream",
     "text": [
      "Cross-validation progress:   5%|▌         | 1/20 [00:16<05:22, 16.99s/it]"
     ]
    },
    {
     "name": "stdout",
     "output_type": "stream",
     "text": [
      "\n",
      "Site: site02 | Pearson r = 0.423 (p=0.000) | Partial η² = 0.170\n"
     ]
    },
    {
     "name": "stderr",
     "output_type": "stream",
     "text": [
      "Cross-validation progress:  10%|█         | 2/20 [00:23<03:14, 10.82s/it]"
     ]
    },
    {
     "name": "stdout",
     "output_type": "stream",
     "text": [
      "\n",
      "Site: site03 | Pearson r = 0.396 (p=0.000) | Partial η² = 0.153\n"
     ]
    },
    {
     "name": "stderr",
     "output_type": "stream",
     "text": [
      "Cross-validation progress:  15%|█▌        | 3/20 [00:29<02:29,  8.79s/it]"
     ]
    },
    {
     "name": "stdout",
     "output_type": "stream",
     "text": [
      "\n",
      "Site: site04 | Pearson r = 0.459 (p=0.000) | Partial η² = 0.150\n"
     ]
    },
    {
     "name": "stderr",
     "output_type": "stream",
     "text": [
      "Cross-validation progress:  20%|██        | 4/20 [00:36<02:08,  8.01s/it]"
     ]
    },
    {
     "name": "stdout",
     "output_type": "stream",
     "text": [
      "\n",
      "Site: site05 | Pearson r = 0.574 (p=0.000) | Partial η² = 0.305\n"
     ]
    },
    {
     "name": "stderr",
     "output_type": "stream",
     "text": [
      "Cross-validation progress:  25%|██▌       | 5/20 [00:46<02:08,  8.56s/it]"
     ]
    },
    {
     "name": "stdout",
     "output_type": "stream",
     "text": [
      "\n",
      "Site: site06 | Pearson r = 0.317 (p=0.001) | Partial η² = 0.047\n"
     ]
    },
    {
     "name": "stderr",
     "output_type": "stream",
     "text": [
      "Cross-validation progress:  30%|███       | 6/20 [00:52<01:50,  7.90s/it]"
     ]
    },
    {
     "name": "stdout",
     "output_type": "stream",
     "text": [
      "\n",
      "Site: site07 | Pearson r = 0.572 (p=0.000) | Partial η² = 0.297\n"
     ]
    },
    {
     "name": "stderr",
     "output_type": "stream",
     "text": [
      "Cross-validation progress:  35%|███▌      | 7/20 [00:59<01:36,  7.42s/it]"
     ]
    },
    {
     "name": "stdout",
     "output_type": "stream",
     "text": [
      "\n",
      "Site: site08 | Pearson r = 0.380 (p=0.001) | Partial η² = 0.052\n"
     ]
    },
    {
     "name": "stderr",
     "output_type": "stream",
     "text": [
      "Cross-validation progress:  40%|████      | 8/20 [01:05<01:25,  7.10s/it]"
     ]
    },
    {
     "name": "stdout",
     "output_type": "stream",
     "text": [
      "\n",
      "Site: site09 | Pearson r = 0.402 (p=0.003) | Partial η² = 0.059\n"
     ]
    },
    {
     "name": "stderr",
     "output_type": "stream",
     "text": [
      "Cross-validation progress:  45%|████▌     | 9/20 [01:11<01:14,  6.76s/it]"
     ]
    },
    {
     "name": "stdout",
     "output_type": "stream",
     "text": [
      "\n",
      "Site: site10 | Pearson r = 0.519 (p=0.000) | Partial η² = 0.262\n"
     ]
    },
    {
     "name": "stderr",
     "output_type": "stream",
     "text": [
      "Cross-validation progress:  50%|█████     | 10/20 [01:18<01:06,  6.67s/it]"
     ]
    },
    {
     "name": "stdout",
     "output_type": "stream",
     "text": [
      "\n",
      "Site: site11 | Pearson r = 0.567 (p=0.000) | Partial η² = 0.297\n"
     ]
    },
    {
     "name": "stderr",
     "output_type": "stream",
     "text": [
      "Cross-validation progress:  55%|█████▌    | 11/20 [01:24<00:59,  6.60s/it]"
     ]
    },
    {
     "name": "stdout",
     "output_type": "stream",
     "text": [
      "\n",
      "Site: site12 | Pearson r = 0.517 (p=0.000) | Partial η² = 0.265\n"
     ]
    },
    {
     "name": "stderr",
     "output_type": "stream",
     "text": [
      "Cross-validation progress:  60%|██████    | 12/20 [01:31<00:52,  6.54s/it]"
     ]
    },
    {
     "name": "stdout",
     "output_type": "stream",
     "text": [
      "\n",
      "Site: site13 | Pearson r = 0.464 (p=0.000) | Partial η² = 0.209\n"
     ]
    },
    {
     "name": "stderr",
     "output_type": "stream",
     "text": [
      "Cross-validation progress:  65%|██████▌   | 13/20 [01:38<00:48,  6.97s/it]"
     ]
    },
    {
     "name": "stdout",
     "output_type": "stream",
     "text": [
      "\n",
      "Site: site14 | Pearson r = 0.505 (p=0.000) | Partial η² = 0.254\n"
     ]
    },
    {
     "name": "stderr",
     "output_type": "stream",
     "text": [
      "Cross-validation progress:  70%|███████   | 14/20 [01:45<00:41,  6.87s/it]"
     ]
    },
    {
     "name": "stdout",
     "output_type": "stream",
     "text": [
      "\n",
      "Site: site15 | Pearson r = 0.741 (p=0.000) | Partial η² = 0.504\n"
     ]
    },
    {
     "name": "stderr",
     "output_type": "stream",
     "text": [
      "Cross-validation progress:  75%|███████▌  | 15/20 [01:51<00:32,  6.56s/it]"
     ]
    },
    {
     "name": "stdout",
     "output_type": "stream",
     "text": [
      "\n",
      "Site: site16 | Pearson r = 0.369 (p=0.000) | Partial η² = 0.122\n"
     ]
    },
    {
     "name": "stderr",
     "output_type": "stream",
     "text": [
      "Cross-validation progress:  80%|████████  | 16/20 [01:59<00:28,  7.11s/it]"
     ]
    },
    {
     "name": "stdout",
     "output_type": "stream",
     "text": [
      "\n",
      "Site: site17 | Pearson r = 0.361 (p=0.000) | Partial η² = -0.072\n"
     ]
    },
    {
     "name": "stderr",
     "output_type": "stream",
     "text": [
      "Cross-validation progress:  85%|████████▌ | 17/20 [02:06<00:20,  6.94s/it]"
     ]
    },
    {
     "name": "stdout",
     "output_type": "stream",
     "text": [
      "\n",
      "Site: site18 | Pearson r = 0.390 (p=0.000) | Partial η² = 0.143\n"
     ]
    },
    {
     "name": "stderr",
     "output_type": "stream",
     "text": [
      "Cross-validation progress:  90%|█████████ | 18/20 [02:12<00:13,  6.78s/it]"
     ]
    },
    {
     "name": "stdout",
     "output_type": "stream",
     "text": [
      "\n",
      "Site: site19 | Pearson r = 0.338 (p=0.002) | Partial η² = 0.063\n"
     ]
    },
    {
     "name": "stderr",
     "output_type": "stream",
     "text": [
      "Cross-validation progress:  95%|█████████▌| 19/20 [02:18<00:06,  6.56s/it]"
     ]
    },
    {
     "name": "stdout",
     "output_type": "stream",
     "text": [
      "\n",
      "Site: site20 | Pearson r = 0.584 (p=0.000) | Partial η² = 0.308\n"
     ]
    },
    {
     "name": "stderr",
     "output_type": "stream",
     "text": [
      "Cross-validation progress: 100%|██████████| 20/20 [02:25<00:00,  7.25s/it]"
     ]
    },
    {
     "name": "stdout",
     "output_type": "stream",
     "text": [
      "\n",
      "Site: site21 | Pearson r = 0.592 (p=0.000) | Partial η² = 0.345\n",
      "Cross-validated Performance Metrics:\n",
      "Average Pearson's r: 0.473\n",
      "Partial eta squared: 0.197\n",
      "R²: 0.197\n"
     ]
    },
    {
     "name": "stderr",
     "output_type": "stream",
     "text": [
      "\n"
     ]
    }
   ],
   "execution_count": 26
  },
  {
   "metadata": {},
   "cell_type": "markdown",
   "source": [
    "#### Positive strength (one value for each region, 15 values total)\n",
    "| **Case**                | **PC Condition** | **Average Pearson's r** | **Cross-validated Partial η² (avg)** |\n",
    "|-------------------------|------------------|-------------------------|--------------------------------------|\n",
    "| B\\_baseline + statistic |                  | 0.503                   | 0.224                                |\n",
    "| B\\_baseline             | none             | 0.502                   | 0.223                                |\n",
    "| B\\_baseline             | 15 PCs           | 0.512                   | 0.237                                |\n",
    "| B\\_baseline             | 100 PCs          | 0.530                   | 0.261                                |\n",
    "| B\\_followup + statistic |                  | 0.460                   | 0.183                                |\n",
    "| B\\_followup             | none             | 0.463                   | 0.188                                |\n",
    "| B\\_followup             | 15 PCs           | 0.473                   | 0.197                                |\n",
    "| B\\_followup             | 100 PCs          | 0.519                   | 0.241                                |\n",
    "\n",
    "\n"
   ],
   "id": "2853283a3d5fe317"
  },
  {
   "metadata": {
    "ExecuteTime": {
     "end_time": "2025-09-21T20:18:32.917445Z",
     "start_time": "2025-09-21T20:17:44.283611Z"
    }
   },
   "cell_type": "code",
   "source": [
    "avg_neg_strength_baseline_B = compute_one_statistic(df_features=main_baseline_B,\n",
    "                                                    df_network=conn_B_baseline_df,\n",
    "                                                    regions=regions,\n",
    "                                                    stat_name=\"avg_negative_strength\",\n",
    "                                                    mode=\"all\",\n",
    "                                                    node_order=None,\n",
    "                                                    matrix_size=418,\n",
    "                                                    diag_value=0.0)"
   ],
   "id": "5668851dd52ea6e1",
   "outputs": [
    {
     "name": "stderr",
     "output_type": "stream",
     "text": [
      "100%|██████████| 4321/4321 [00:36<00:00, 118.46it/s]\n"
     ]
    }
   ],
   "execution_count": 27
  },
  {
   "metadata": {
    "ExecuteTime": {
     "end_time": "2025-09-21T20:18:33.030979Z",
     "start_time": "2025-09-21T20:18:32.930307Z"
    }
   },
   "cell_type": "code",
   "source": [
    "baseline_B_plus = combine_data(main_baseline_B, avg_neg_strength_baseline_B)\n",
    "results_no_network, models_no_network = run_cross_validation(baseline_B_plus, y_baseline_B, use_network=False)\n",
    "print_cross_val_results(results_no_network)"
   ],
   "id": "3331da2c3f42913b",
   "outputs": [
    {
     "name": "stdout",
     "output_type": "stream",
     "text": [
      "Dropping duplicate columns: ['Subject', 'site_id_l']\n"
     ]
    },
    {
     "name": "stderr",
     "output_type": "stream",
     "text": [
      "Cross-validation progress: 100%|██████████| 20/20 [00:00<00:00, 231.57it/s]"
     ]
    },
    {
     "name": "stdout",
     "output_type": "stream",
     "text": [
      "\n",
      "Site: site02 | Pearson r = 0.457 (p=0.000) | Partial η² = 0.110\n",
      "\n",
      "Site: site03 | Pearson r = 0.427 (p=0.000) | Partial η² = 0.152\n",
      "\n",
      "Site: site04 | Pearson r = 0.495 (p=0.000) | Partial η² = 0.245\n",
      "\n",
      "Site: site05 | Pearson r = 0.580 (p=0.000) | Partial η² = 0.334\n",
      "\n",
      "Site: site06 | Pearson r = 0.456 (p=0.000) | Partial η² = 0.190\n",
      "\n",
      "Site: site07 | Pearson r = 0.643 (p=0.000) | Partial η² = 0.387\n",
      "\n",
      "Site: site08 | Pearson r = 0.468 (p=0.000) | Partial η² = 0.086\n",
      "\n",
      "Site: site09 | Pearson r = 0.442 (p=0.000) | Partial η² = 0.096\n",
      "\n",
      "Site: site10 | Pearson r = 0.467 (p=0.000) | Partial η² = 0.211\n",
      "\n",
      "Site: site11 | Pearson r = 0.574 (p=0.000) | Partial η² = 0.305\n",
      "\n",
      "Site: site12 | Pearson r = 0.417 (p=0.000) | Partial η² = 0.095\n",
      "\n",
      "Site: site13 | Pearson r = 0.563 (p=0.000) | Partial η² = 0.307\n",
      "\n",
      "Site: site14 | Pearson r = 0.481 (p=0.000) | Partial η² = 0.226\n",
      "\n",
      "Site: site15 | Pearson r = 0.625 (p=0.000) | Partial η² = 0.383\n",
      "\n",
      "Site: site16 | Pearson r = 0.516 (p=0.000) | Partial η² = 0.257\n",
      "\n",
      "Site: site17 | Pearson r = 0.403 (p=0.000) | Partial η² = 0.141\n",
      "\n",
      "Site: site18 | Pearson r = 0.424 (p=0.000) | Partial η² = 0.166\n",
      "\n",
      "Site: site19 | Pearson r = 0.563 (p=0.000) | Partial η² = 0.308\n",
      "\n",
      "Site: site20 | Pearson r = 0.457 (p=0.000) | Partial η² = 0.158\n",
      "\n",
      "Site: site21 | Pearson r = 0.550 (p=0.000) | Partial η² = 0.291\n",
      "Cross-validated Performance Metrics:\n",
      "Average Pearson's r: 0.500\n",
      "Partial eta squared: 0.222\n",
      "R²: 0.222\n"
     ]
    },
    {
     "name": "stderr",
     "output_type": "stream",
     "text": [
      "\n"
     ]
    }
   ],
   "execution_count": 28
  },
  {
   "metadata": {
    "ExecuteTime": {
     "end_time": "2025-09-21T20:18:57.312555Z",
     "start_time": "2025-09-21T20:18:33.090331Z"
    }
   },
   "cell_type": "code",
   "source": [
    "avg_neg_strength_followup_B = compute_one_statistic(df_features=main_followup_B,\n",
    "                                                    df_network=conn_B_followup_df,\n",
    "                                                    regions=regions,\n",
    "                                                    stat_name=\"avg_negative_strength\",\n",
    "                                                    mode=\"all\",\n",
    "                                                    node_order=None,\n",
    "                                                    matrix_size=418,\n",
    "                                                    diag_value=0.0)\n"
   ],
   "id": "c5c7949ca82b5b5a",
   "outputs": [
    {
     "name": "stderr",
     "output_type": "stream",
     "text": [
      "100%|██████████| 2756/2756 [00:19<00:00, 138.42it/s]\n"
     ]
    }
   ],
   "execution_count": 29
  },
  {
   "metadata": {
    "ExecuteTime": {
     "end_time": "2025-09-21T20:18:57.465057Z",
     "start_time": "2025-09-21T20:18:57.364588Z"
    }
   },
   "cell_type": "code",
   "source": [
    "followup_B_plus = combine_data(main_followup_B, avg_neg_strength_followup_B)\n",
    "results_no_network, models_no_network = run_cross_validation(followup_B_plus.fillna(0.0), y_followup_B,\n",
    "                                                             use_network=False)\n",
    "print_cross_val_results(results_no_network)"
   ],
   "id": "c0d95c7da61b033e",
   "outputs": [
    {
     "name": "stdout",
     "output_type": "stream",
     "text": [
      "Dropping duplicate columns: ['Subject', 'site_id_l']\n"
     ]
    },
    {
     "name": "stderr",
     "output_type": "stream",
     "text": [
      "Cross-validation progress: 100%|██████████| 20/20 [00:00<00:00, 228.78it/s]"
     ]
    },
    {
     "name": "stdout",
     "output_type": "stream",
     "text": [
      "\n",
      "Site: site02 | Pearson r = 0.419 (p=0.000) | Partial η² = 0.170\n",
      "\n",
      "Site: site03 | Pearson r = 0.371 (p=0.000) | Partial η² = 0.128\n",
      "\n",
      "Site: site04 | Pearson r = 0.452 (p=0.000) | Partial η² = 0.155\n",
      "\n",
      "Site: site05 | Pearson r = 0.557 (p=0.000) | Partial η² = 0.288\n",
      "\n",
      "Site: site06 | Pearson r = 0.304 (p=0.002) | Partial η² = 0.030\n",
      "\n",
      "Site: site07 | Pearson r = 0.557 (p=0.000) | Partial η² = 0.279\n",
      "\n",
      "Site: site08 | Pearson r = 0.351 (p=0.002) | Partial η² = -0.000\n",
      "\n",
      "Site: site09 | Pearson r = 0.436 (p=0.001) | Partial η² = 0.105\n",
      "\n",
      "Site: site10 | Pearson r = 0.518 (p=0.000) | Partial η² = 0.258\n",
      "\n",
      "Site: site11 | Pearson r = 0.544 (p=0.000) | Partial η² = 0.287\n",
      "\n",
      "Site: site12 | Pearson r = 0.489 (p=0.000) | Partial η² = 0.237\n",
      "\n",
      "Site: site13 | Pearson r = 0.440 (p=0.000) | Partial η² = 0.182\n",
      "\n",
      "Site: site14 | Pearson r = 0.458 (p=0.000) | Partial η² = 0.209\n",
      "\n",
      "Site: site15 | Pearson r = 0.735 (p=0.000) | Partial η² = 0.484\n",
      "\n",
      "Site: site16 | Pearson r = 0.392 (p=0.000) | Partial η² = 0.145\n",
      "\n",
      "Site: site17 | Pearson r = 0.385 (p=0.000) | Partial η² = -0.046\n",
      "\n",
      "Site: site18 | Pearson r = 0.388 (p=0.000) | Partial η² = 0.144\n",
      "\n",
      "Site: site19 | Pearson r = 0.322 (p=0.003) | Partial η² = 0.053\n",
      "\n",
      "Site: site20 | Pearson r = 0.567 (p=0.000) | Partial η² = 0.287\n",
      "\n",
      "Site: site21 | Pearson r = 0.596 (p=0.000) | Partial η² = 0.350\n",
      "Cross-validated Performance Metrics:\n",
      "Average Pearson's r: 0.464\n",
      "Partial eta squared: 0.187\n",
      "R²: 0.187\n"
     ]
    },
    {
     "name": "stderr",
     "output_type": "stream",
     "text": [
      "\n"
     ]
    }
   ],
   "execution_count": 30
  },
  {
   "metadata": {},
   "cell_type": "markdown",
   "source": [
    "#### Negative strength (one value for each region, 15 values total)\n",
    "| **Case**                | **PC Condition** | **Average Pearson's r** | **Cross-validated Partial η² (avg)** |\n",
    "|-------------------------|------------------|-------------------------|--------------------------------------|\n",
    "| B\\_baseline + statistic |                  | 0.500                   | 0.222                                |\n",
    "| B\\_baseline             | none             | 0.502                   | 0.223                                |\n",
    "| B\\_baseline             | 15 PCs           | 0.512                   | 0.237                                |\n",
    "| B\\_baseline             | 100 PCs          | 0.530                   | 0.261                                |\n",
    "| B\\_followup + statistic |                  | 0.464                   | 0.187                                |\n",
    "| B\\_followup             | none             | 0.463                   | 0.188                                |\n",
    "| B\\_followup             | 15 PCs           | 0.473                   | 0.197                                |\n",
    "| B\\_followup             | 100 PCs          | 0.519                   | 0.241                                |"
   ],
   "id": "e178ac4c61440ec5"
  },
  {
   "metadata": {
    "ExecuteTime": {
     "end_time": "2025-09-21T20:27:20.425019Z",
     "start_time": "2025-09-21T20:26:36.525552Z"
    }
   },
   "cell_type": "code",
   "source": [
    "avg_total_strength_baseline_B = compute_one_statistic(df_features=main_baseline_B,\n",
    "                                                    df_network=conn_B_baseline_df,\n",
    "                                                    regions=regions,\n",
    "                                                    stat_name=\"avg_total_strength\",\n",
    "                                                    mode=\"all\",\n",
    "                                                    node_order=None,\n",
    "                                                    matrix_size=418,\n",
    "                                                    diag_value=0.0)\n",
    "baseline_B_plus = combine_data(main_baseline_B, avg_total_strength_baseline_B)\n",
    "results_no_network, models_no_network = run_cross_validation(baseline_B_plus, y_baseline_B, use_network=False)\n",
    "print_cross_val_results(results_no_network)"
   ],
   "id": "7137f5edecf6a1a2",
   "outputs": [
    {
     "name": "stderr",
     "output_type": "stream",
     "text": [
      "100%|██████████| 4321/4321 [00:38<00:00, 113.48it/s]\n"
     ]
    },
    {
     "name": "stdout",
     "output_type": "stream",
     "text": [
      "Dropping duplicate columns: ['Subject', 'site_id_l']\n"
     ]
    },
    {
     "name": "stderr",
     "output_type": "stream",
     "text": [
      "Cross-validation progress: 100%|██████████| 20/20 [00:00<00:00, 212.39it/s]"
     ]
    },
    {
     "name": "stdout",
     "output_type": "stream",
     "text": [
      "\n",
      "Site: site02 | Pearson r = 0.474 (p=0.000) | Partial η² = 0.124\n",
      "\n",
      "Site: site03 | Pearson r = 0.430 (p=0.000) | Partial η² = 0.153\n",
      "\n",
      "Site: site04 | Pearson r = 0.502 (p=0.000) | Partial η² = 0.250\n",
      "\n",
      "Site: site05 | Pearson r = 0.587 (p=0.000) | Partial η² = 0.341\n",
      "\n",
      "Site: site06 | Pearson r = 0.454 (p=0.000) | Partial η² = 0.191\n",
      "\n",
      "Site: site07 | Pearson r = 0.650 (p=0.000) | Partial η² = 0.394\n",
      "\n",
      "Site: site08 | Pearson r = 0.472 (p=0.000) | Partial η² = 0.090\n",
      "\n",
      "Site: site09 | Pearson r = 0.427 (p=0.000) | Partial η² = 0.071\n",
      "\n",
      "Site: site10 | Pearson r = 0.468 (p=0.000) | Partial η² = 0.212\n",
      "\n",
      "Site: site11 | Pearson r = 0.573 (p=0.000) | Partial η² = 0.300\n",
      "\n",
      "Site: site12 | Pearson r = 0.431 (p=0.000) | Partial η² = 0.115\n",
      "\n",
      "Site: site13 | Pearson r = 0.569 (p=0.000) | Partial η² = 0.317\n",
      "\n",
      "Site: site14 | Pearson r = 0.476 (p=0.000) | Partial η² = 0.222\n",
      "\n",
      "Site: site15 | Pearson r = 0.620 (p=0.000) | Partial η² = 0.375\n",
      "\n",
      "Site: site16 | Pearson r = 0.518 (p=0.000) | Partial η² = 0.260\n",
      "\n",
      "Site: site17 | Pearson r = 0.389 (p=0.000) | Partial η² = 0.128\n",
      "\n",
      "Site: site18 | Pearson r = 0.431 (p=0.000) | Partial η² = 0.160\n",
      "\n",
      "Site: site19 | Pearson r = 0.569 (p=0.000) | Partial η² = 0.306\n",
      "\n",
      "Site: site20 | Pearson r = 0.462 (p=0.000) | Partial η² = 0.163\n",
      "\n",
      "Site: site21 | Pearson r = 0.548 (p=0.000) | Partial η² = 0.289\n",
      "Cross-validated Performance Metrics:\n",
      "Average Pearson's r: 0.502\n",
      "Partial eta squared: 0.223\n",
      "R²: 0.223\n"
     ]
    },
    {
     "name": "stderr",
     "output_type": "stream",
     "text": [
      "\n"
     ]
    }
   ],
   "execution_count": 31
  },
  {
   "metadata": {
    "ExecuteTime": {
     "end_time": "2025-09-21T20:28:23.269911Z",
     "start_time": "2025-09-21T20:27:58.615646Z"
    }
   },
   "cell_type": "code",
   "source": [
    "avg_total_strength_followup_B = compute_one_statistic(df_features=main_followup_B,\n",
    "                                                    df_network=conn_B_followup_df,\n",
    "                                                    regions=regions,\n",
    "                                                    stat_name=\"avg_total_strength\",\n",
    "                                                    mode=\"all\",\n",
    "                                                    node_order=None,\n",
    "                                                    matrix_size=418,\n",
    "                                                    diag_value=0.0)\n",
    "\n",
    "followup_B_plus = combine_data(main_followup_B, avg_total_strength_followup_B)\n",
    "results_no_network, models_no_network = run_cross_validation(followup_B_plus.fillna(0.0), y_followup_B,\n",
    "                                                             use_network=False)\n",
    "print_cross_val_results(results_no_network)"
   ],
   "id": "1ce7a80d1a7593f6",
   "outputs": [
    {
     "name": "stderr",
     "output_type": "stream",
     "text": [
      "100%|██████████| 2756/2756 [00:20<00:00, 134.64it/s]\n"
     ]
    },
    {
     "name": "stdout",
     "output_type": "stream",
     "text": [
      "Dropping duplicate columns: ['Subject', 'site_id_l']\n"
     ]
    },
    {
     "name": "stderr",
     "output_type": "stream",
     "text": [
      "Cross-validation progress: 100%|██████████| 20/20 [00:00<00:00, 300.52it/s]"
     ]
    },
    {
     "name": "stdout",
     "output_type": "stream",
     "text": [
      "\n",
      "Site: site02 | Pearson r = 0.422 (p=0.000) | Partial η² = 0.173\n",
      "\n",
      "Site: site03 | Pearson r = 0.379 (p=0.000) | Partial η² = 0.134\n",
      "\n",
      "Site: site04 | Pearson r = 0.449 (p=0.000) | Partial η² = 0.139\n",
      "\n",
      "Site: site05 | Pearson r = 0.572 (p=0.000) | Partial η² = 0.308\n",
      "\n",
      "Site: site06 | Pearson r = 0.310 (p=0.002) | Partial η² = 0.037\n",
      "\n",
      "Site: site07 | Pearson r = 0.538 (p=0.000) | Partial η² = 0.261\n",
      "\n",
      "Site: site08 | Pearson r = 0.363 (p=0.001) | Partial η² = 0.028\n",
      "\n",
      "Site: site09 | Pearson r = 0.395 (p=0.003) | Partial η² = 0.064\n",
      "\n",
      "Site: site10 | Pearson r = 0.510 (p=0.000) | Partial η² = 0.249\n",
      "\n",
      "Site: site11 | Pearson r = 0.548 (p=0.000) | Partial η² = 0.270\n",
      "\n",
      "Site: site12 | Pearson r = 0.496 (p=0.000) | Partial η² = 0.243\n",
      "\n",
      "Site: site13 | Pearson r = 0.446 (p=0.000) | Partial η² = 0.191\n",
      "\n",
      "Site: site14 | Pearson r = 0.472 (p=0.000) | Partial η² = 0.220\n",
      "\n",
      "Site: site15 | Pearson r = 0.745 (p=0.000) | Partial η² = 0.500\n",
      "\n",
      "Site: site16 | Pearson r = 0.378 (p=0.000) | Partial η² = 0.134\n",
      "\n",
      "Site: site17 | Pearson r = 0.362 (p=0.000) | Partial η² = -0.030\n",
      "\n",
      "Site: site18 | Pearson r = 0.368 (p=0.000) | Partial η² = 0.125\n",
      "\n",
      "Site: site19 | Pearson r = 0.350 (p=0.001) | Partial η² = 0.086\n",
      "\n",
      "Site: site20 | Pearson r = 0.577 (p=0.000) | Partial η² = 0.304\n",
      "\n",
      "Site: site21 | Pearson r = 0.602 (p=0.000) | Partial η² = 0.355\n",
      "Cross-validated Performance Metrics:\n",
      "Average Pearson's r: 0.464\n",
      "Partial eta squared: 0.190\n",
      "R²: 0.190\n"
     ]
    },
    {
     "name": "stderr",
     "output_type": "stream",
     "text": [
      "\n"
     ]
    }
   ],
   "execution_count": 32
  },
  {
   "metadata": {},
   "cell_type": "markdown",
   "source": [
    "#### Total strength (one value for each region, 15 values total)\n",
    "| **Case**                | **PC Condition** | **Average Pearson's r** | **Cross-validated Partial η² (avg)** |\n",
    "|-------------------------|------------------|-------------------------|--------------------------------------|\n",
    "| B\\_baseline + statistic |                  | 0.502                   | 0.223                                |\n",
    "| B\\_baseline             | none             | 0.502                   | 0.223                                |\n",
    "| B\\_baseline             | 15 PCs           | 0.512                   | 0.237                                |\n",
    "| B\\_baseline             | 100 PCs          | 0.530                   | 0.261                                |\n",
    "| B\\_followup + statistic |                  | 0.464                   | 0.190                                |\n",
    "| B\\_followup             | none             | 0.463                   | 0.188                                |\n",
    "| B\\_followup             | 15 PCs           | 0.473                   | 0.197                                |\n",
    "| B\\_followup             | 100 PCs          | 0.519                   | 0.241                                |"
   ],
   "id": "32e92b784871f60e"
  },
  {
   "metadata": {
    "ExecuteTime": {
     "end_time": "2025-09-21T20:34:42.598200Z",
     "start_time": "2025-09-21T20:33:58.740982Z"
    }
   },
   "cell_type": "code",
   "source": [
    "within_pos_mean_baseline_B = compute_one_statistic(df_features=main_baseline_B,\n",
    "                                                    df_network=conn_B_baseline_df,\n",
    "                                                    regions=regions,\n",
    "                                                    stat_name=\"within_positive_mean\",\n",
    "                                                    mode=\"all\",\n",
    "                                                    node_order=None,\n",
    "                                                    matrix_size=418,\n",
    "                                                    diag_value=0.0)\n"
   ],
   "id": "9e77ef135747da0c",
   "outputs": [
    {
     "name": "stderr",
     "output_type": "stream",
     "text": [
      "100%|██████████| 4321/4321 [00:37<00:00, 116.10it/s]\n"
     ]
    }
   ],
   "execution_count": 33
  },
  {
   "metadata": {
    "ExecuteTime": {
     "end_time": "2025-09-21T20:35:01.164574Z",
     "start_time": "2025-09-21T20:35:01.063435Z"
    }
   },
   "cell_type": "code",
   "source": [
    "baseline_B_plus = combine_data(main_baseline_B, within_pos_mean_baseline_B)\n",
    "results_no_network, models_no_network = run_cross_validation(baseline_B_plus, y_baseline_B, use_network=False)\n",
    "print_cross_val_results(results_no_network)"
   ],
   "id": "854542aca8f8a587",
   "outputs": [
    {
     "name": "stdout",
     "output_type": "stream",
     "text": [
      "Dropping duplicate columns: ['Subject', 'site_id_l']\n"
     ]
    },
    {
     "name": "stderr",
     "output_type": "stream",
     "text": [
      "Cross-validation progress: 100%|██████████| 20/20 [00:00<00:00, 211.69it/s]"
     ]
    },
    {
     "name": "stdout",
     "output_type": "stream",
     "text": [
      "\n",
      "Site: site02 | Pearson r = 0.461 (p=0.000) | Partial η² = 0.082\n",
      "\n",
      "Site: site03 | Pearson r = 0.434 (p=0.000) | Partial η² = 0.166\n",
      "\n",
      "Site: site04 | Pearson r = 0.495 (p=0.000) | Partial η² = 0.243\n",
      "\n",
      "Site: site05 | Pearson r = 0.581 (p=0.000) | Partial η² = 0.335\n",
      "\n",
      "Site: site06 | Pearson r = 0.458 (p=0.000) | Partial η² = 0.195\n",
      "\n",
      "Site: site07 | Pearson r = 0.644 (p=0.000) | Partial η² = 0.391\n",
      "\n",
      "Site: site08 | Pearson r = 0.462 (p=0.000) | Partial η² = 0.073\n",
      "\n",
      "Site: site09 | Pearson r = 0.442 (p=0.000) | Partial η² = 0.094\n",
      "\n",
      "Site: site10 | Pearson r = 0.469 (p=0.000) | Partial η² = 0.215\n",
      "\n",
      "Site: site11 | Pearson r = 0.588 (p=0.000) | Partial η² = 0.305\n",
      "\n",
      "Site: site12 | Pearson r = 0.427 (p=0.000) | Partial η² = 0.108\n",
      "\n",
      "Site: site13 | Pearson r = 0.553 (p=0.000) | Partial η² = 0.298\n",
      "\n",
      "Site: site14 | Pearson r = 0.481 (p=0.000) | Partial η² = 0.226\n",
      "\n",
      "Site: site15 | Pearson r = 0.631 (p=0.000) | Partial η² = 0.388\n",
      "\n",
      "Site: site16 | Pearson r = 0.521 (p=0.000) | Partial η² = 0.265\n",
      "\n",
      "Site: site17 | Pearson r = 0.390 (p=0.000) | Partial η² = 0.106\n",
      "\n",
      "Site: site18 | Pearson r = 0.427 (p=0.000) | Partial η² = 0.155\n",
      "\n",
      "Site: site19 | Pearson r = 0.566 (p=0.000) | Partial η² = 0.302\n",
      "\n",
      "Site: site20 | Pearson r = 0.464 (p=0.000) | Partial η² = 0.168\n",
      "\n",
      "Site: site21 | Pearson r = 0.565 (p=0.000) | Partial η² = 0.304\n",
      "Cross-validated Performance Metrics:\n",
      "Average Pearson's r: 0.503\n",
      "Partial eta squared: 0.221\n",
      "R²: 0.221\n"
     ]
    },
    {
     "name": "stderr",
     "output_type": "stream",
     "text": [
      "\n"
     ]
    }
   ],
   "execution_count": 35
  },
  {
   "metadata": {
    "ExecuteTime": {
     "end_time": "2025-09-21T20:36:32.636163Z",
     "start_time": "2025-09-21T20:36:05.538067Z"
    }
   },
   "cell_type": "code",
   "source": [
    "within_pos_mean_followup_B = compute_one_statistic(df_features=main_followup_B,\n",
    "                                                    df_network=conn_B_followup_df,\n",
    "                                                    regions=regions,\n",
    "                                                    stat_name=\"within_positive_mean\",\n",
    "                                                    mode=\"all\",\n",
    "                                                    node_order=None,\n",
    "                                                    matrix_size=418,\n",
    "                                                    diag_value=0.0)\n",
    "\n",
    "followup_B_plus = combine_data(main_followup_B,within_pos_mean_followup_B )\n",
    "results_no_network, models_no_network = run_cross_validation(followup_B_plus.fillna(0.0), y_followup_B,\n",
    "                                                             use_network=False)\n",
    "print_cross_val_results(results_no_network)"
   ],
   "id": "96c8d8205b3eaea8",
   "outputs": [
    {
     "name": "stderr",
     "output_type": "stream",
     "text": [
      "100%|██████████| 2756/2756 [00:21<00:00, 128.57it/s]\n"
     ]
    },
    {
     "name": "stdout",
     "output_type": "stream",
     "text": [
      "Dropping duplicate columns: ['Subject', 'site_id_l']\n"
     ]
    },
    {
     "name": "stderr",
     "output_type": "stream",
     "text": [
      "Cross-validation progress: 100%|██████████| 20/20 [00:00<00:00, 339.80it/s]"
     ]
    },
    {
     "name": "stdout",
     "output_type": "stream",
     "text": [
      "\n",
      "Site: site02 | Pearson r = 0.403 (p=0.000) | Partial η² = 0.148\n",
      "\n",
      "Site: site03 | Pearson r = 0.358 (p=0.000) | Partial η² = 0.116\n",
      "\n",
      "Site: site04 | Pearson r = 0.436 (p=0.000) | Partial η² = 0.132\n",
      "\n",
      "Site: site05 | Pearson r = 0.558 (p=0.000) | Partial η² = 0.287\n",
      "\n",
      "Site: site06 | Pearson r = 0.301 (p=0.002) | Partial η² = 0.029\n",
      "\n",
      "Site: site07 | Pearson r = 0.544 (p=0.000) | Partial η² = 0.274\n",
      "\n",
      "Site: site08 | Pearson r = 0.354 (p=0.001) | Partial η² = 0.022\n",
      "\n",
      "Site: site09 | Pearson r = 0.394 (p=0.003) | Partial η² = 0.064\n",
      "\n",
      "Site: site10 | Pearson r = 0.514 (p=0.000) | Partial η² = 0.248\n",
      "\n",
      "Site: site11 | Pearson r = 0.545 (p=0.000) | Partial η² = 0.293\n",
      "\n",
      "Site: site12 | Pearson r = 0.512 (p=0.000) | Partial η² = 0.262\n",
      "\n",
      "Site: site13 | Pearson r = 0.454 (p=0.000) | Partial η² = 0.196\n",
      "\n",
      "Site: site14 | Pearson r = 0.495 (p=0.000) | Partial η² = 0.244\n",
      "\n",
      "Site: site15 | Pearson r = 0.718 (p=0.000) | Partial η² = 0.452\n",
      "\n",
      "Site: site16 | Pearson r = 0.349 (p=0.000) | Partial η² = 0.110\n",
      "\n",
      "Site: site17 | Pearson r = 0.369 (p=0.000) | Partial η² = -0.094\n",
      "\n",
      "Site: site18 | Pearson r = 0.403 (p=0.000) | Partial η² = 0.155\n",
      "\n",
      "Site: site19 | Pearson r = 0.329 (p=0.002) | Partial η² = 0.060\n",
      "\n",
      "Site: site20 | Pearson r = 0.583 (p=0.000) | Partial η² = 0.304\n",
      "\n",
      "Site: site21 | Pearson r = 0.618 (p=0.000) | Partial η² = 0.373\n",
      "Cross-validated Performance Metrics:\n",
      "Average Pearson's r: 0.462\n",
      "Partial eta squared: 0.184\n",
      "R²: 0.184\n"
     ]
    },
    {
     "name": "stderr",
     "output_type": "stream",
     "text": [
      "\n"
     ]
    }
   ],
   "execution_count": 36
  },
  {
   "metadata": {},
   "cell_type": "markdown",
   "source": [
    "#### Within positive connectivity (one value for each region, 15 values total)\n",
    "| **Case**                | **PC Condition** | **Average Pearson's r** | **Cross-validated Partial η² (avg)** |\n",
    "|-------------------------|------------------|-------------------------|--------------------------------------|\n",
    "| B\\_baseline + statistic |                  | 0.503                   | 0.221                                |\n",
    "| B\\_baseline             | none             | 0.502                   | 0.223                                |\n",
    "| B\\_baseline             | 15 PCs           | 0.512                   | 0.237                                |\n",
    "| B\\_baseline             | 100 PCs          | 0.530                   | 0.261                                |\n",
    "| B\\_followup + statistic |                  | 0.462                   | 0.184                                |\n",
    "| B\\_followup             | none             | 0.463                   | 0.188                                |\n",
    "| B\\_followup             | 15 PCs           | 0.473                   | 0.197                                |\n",
    "| B\\_followup             | 100 PCs          | 0.519                   | 0.241                                |"
   ],
   "id": "853156b5ca834773"
  },
  {
   "metadata": {
    "ExecuteTime": {
     "end_time": "2025-09-21T20:53:24.928759Z",
     "start_time": "2025-09-21T20:52:42.667206Z"
    }
   },
   "cell_type": "code",
   "source": [
    "between_pos_mean_baseline_B = compute_one_statistic(df_features=main_baseline_B,\n",
    "                                                    df_network=conn_B_baseline_df,\n",
    "                                                    regions=regions,\n",
    "                                                    stat_name=\"between_positive_mean\",\n",
    "                                                    mode=\"all\",\n",
    "                                                    node_order=None,\n",
    "                                                    matrix_size=418,\n",
    "                                                    diag_value=0.0)\n",
    "baseline_B_plus = combine_data(main_baseline_B, between_pos_mean_baseline_B)\n",
    "results_no_network, models_no_network = run_cross_validation(baseline_B_plus, y_baseline_B, use_network=False)\n",
    "print_cross_val_results(results_no_network)"
   ],
   "id": "53bc0c6d0ce9e1f0",
   "outputs": [
    {
     "name": "stderr",
     "output_type": "stream",
     "text": [
      "100%|██████████| 4321/4321 [00:36<00:00, 118.50it/s]\n"
     ]
    },
    {
     "name": "stdout",
     "output_type": "stream",
     "text": [
      "Dropping duplicate columns: ['Subject', 'site_id_l']\n"
     ]
    },
    {
     "name": "stderr",
     "output_type": "stream",
     "text": [
      "Cross-validation progress: 100%|██████████| 20/20 [00:00<00:00, 206.71it/s]"
     ]
    },
    {
     "name": "stdout",
     "output_type": "stream",
     "text": [
      "\n",
      "Site: site02 | Pearson r = 0.478 (p=0.000) | Partial η² = 0.137\n",
      "\n",
      "Site: site03 | Pearson r = 0.437 (p=0.000) | Partial η² = 0.166\n",
      "\n",
      "Site: site04 | Pearson r = 0.497 (p=0.000) | Partial η² = 0.247\n",
      "\n",
      "Site: site05 | Pearson r = 0.582 (p=0.000) | Partial η² = 0.335\n",
      "\n",
      "Site: site06 | Pearson r = 0.459 (p=0.000) | Partial η² = 0.194\n",
      "\n",
      "Site: site07 | Pearson r = 0.648 (p=0.000) | Partial η² = 0.392\n",
      "\n",
      "Site: site08 | Pearson r = 0.475 (p=0.000) | Partial η² = 0.108\n",
      "\n",
      "Site: site09 | Pearson r = 0.428 (p=0.000) | Partial η² = 0.060\n",
      "\n",
      "Site: site10 | Pearson r = 0.467 (p=0.000) | Partial η² = 0.212\n",
      "\n",
      "Site: site11 | Pearson r = 0.573 (p=0.000) | Partial η² = 0.303\n",
      "\n",
      "Site: site12 | Pearson r = 0.427 (p=0.000) | Partial η² = 0.102\n",
      "\n",
      "Site: site13 | Pearson r = 0.563 (p=0.000) | Partial η² = 0.303\n",
      "\n",
      "Site: site14 | Pearson r = 0.481 (p=0.000) | Partial η² = 0.224\n",
      "\n",
      "Site: site15 | Pearson r = 0.618 (p=0.000) | Partial η² = 0.375\n",
      "\n",
      "Site: site16 | Pearson r = 0.520 (p=0.000) | Partial η² = 0.260\n",
      "\n",
      "Site: site17 | Pearson r = 0.395 (p=0.000) | Partial η² = 0.138\n",
      "\n",
      "Site: site18 | Pearson r = 0.425 (p=0.000) | Partial η² = 0.163\n",
      "\n",
      "Site: site19 | Pearson r = 0.569 (p=0.000) | Partial η² = 0.305\n",
      "\n",
      "Site: site20 | Pearson r = 0.465 (p=0.000) | Partial η² = 0.171\n",
      "\n",
      "Site: site21 | Pearson r = 0.548 (p=0.000) | Partial η² = 0.287\n",
      "Cross-validated Performance Metrics:\n",
      "Average Pearson's r: 0.503\n",
      "Partial eta squared: 0.224\n",
      "R²: 0.224\n"
     ]
    },
    {
     "name": "stderr",
     "output_type": "stream",
     "text": [
      "\n"
     ]
    }
   ],
   "execution_count": 37
  },
  {
   "metadata": {
    "ExecuteTime": {
     "end_time": "2025-09-21T20:54:01.163273Z",
     "start_time": "2025-09-21T20:53:34.671286Z"
    }
   },
   "cell_type": "code",
   "source": [
    "between_pos_mean_followup_B = compute_one_statistic(df_features=main_followup_B,\n",
    "                                                    df_network=conn_B_followup_df,\n",
    "                                                    regions=regions,\n",
    "                                                    stat_name=\"between_positive_mean\",\n",
    "                                                    mode=\"all\",\n",
    "                                                    node_order=None,\n",
    "                                                    matrix_size=418,\n",
    "                                                    diag_value=0.0)\n",
    "\n",
    "followup_B_plus = combine_data(main_followup_B,between_pos_mean_followup_B )\n",
    "results_no_network, models_no_network = run_cross_validation(followup_B_plus.fillna(0.0), y_followup_B,\n",
    "                                                             use_network=False)\n",
    "print_cross_val_results(results_no_network)"
   ],
   "id": "5d6ccea75257c8fd",
   "outputs": [
    {
     "name": "stderr",
     "output_type": "stream",
     "text": [
      "100%|██████████| 2756/2756 [00:21<00:00, 127.42it/s]\n"
     ]
    },
    {
     "name": "stdout",
     "output_type": "stream",
     "text": [
      "Dropping duplicate columns: ['Subject', 'site_id_l']\n"
     ]
    },
    {
     "name": "stderr",
     "output_type": "stream",
     "text": [
      "Cross-validation progress: 100%|██████████| 20/20 [00:00<00:00, 253.31it/s]"
     ]
    },
    {
     "name": "stdout",
     "output_type": "stream",
     "text": [
      "\n",
      "Site: site02 | Pearson r = 0.403 (p=0.000) | Partial η² = 0.158\n",
      "\n",
      "Site: site03 | Pearson r = 0.380 (p=0.000) | Partial η² = 0.136\n",
      "\n",
      "Site: site04 | Pearson r = 0.449 (p=0.000) | Partial η² = 0.133\n",
      "\n",
      "Site: site05 | Pearson r = 0.574 (p=0.000) | Partial η² = 0.309\n",
      "\n",
      "Site: site06 | Pearson r = 0.295 (p=0.003) | Partial η² = 0.021\n",
      "\n",
      "Site: site07 | Pearson r = 0.537 (p=0.000) | Partial η² = 0.256\n",
      "\n",
      "Site: site08 | Pearson r = 0.369 (p=0.001) | Partial η² = 0.045\n",
      "\n",
      "Site: site09 | Pearson r = 0.380 (p=0.005) | Partial η² = 0.035\n",
      "\n",
      "Site: site10 | Pearson r = 0.516 (p=0.000) | Partial η² = 0.257\n",
      "\n",
      "Site: site11 | Pearson r = 0.509 (p=0.000) | Partial η² = 0.186\n",
      "\n",
      "Site: site12 | Pearson r = 0.505 (p=0.000) | Partial η² = 0.253\n",
      "\n",
      "Site: site13 | Pearson r = 0.457 (p=0.000) | Partial η² = 0.203\n",
      "\n",
      "Site: site14 | Pearson r = 0.474 (p=0.000) | Partial η² = 0.223\n",
      "\n",
      "Site: site15 | Pearson r = 0.736 (p=0.000) | Partial η² = 0.493\n",
      "\n",
      "Site: site16 | Pearson r = 0.383 (p=0.000) | Partial η² = 0.140\n",
      "\n",
      "Site: site17 | Pearson r = 0.348 (p=0.000) | Partial η² = -0.050\n",
      "\n",
      "Site: site18 | Pearson r = 0.368 (p=0.000) | Partial η² = 0.126\n",
      "\n",
      "Site: site19 | Pearson r = 0.344 (p=0.001) | Partial η² = 0.076\n",
      "\n",
      "Site: site20 | Pearson r = 0.580 (p=0.000) | Partial η² = 0.311\n",
      "\n",
      "Site: site21 | Pearson r = 0.615 (p=0.000) | Partial η² = 0.369\n",
      "Cross-validated Performance Metrics:\n",
      "Average Pearson's r: 0.461\n",
      "Partial eta squared: 0.184\n",
      "R²: 0.184\n"
     ]
    },
    {
     "name": "stderr",
     "output_type": "stream",
     "text": [
      "\n"
     ]
    }
   ],
   "execution_count": 38
  },
  {
   "metadata": {},
   "cell_type": "markdown",
   "source": [
    "#### Between positive connectivity (one value for each region, 15 values total)\n",
    "| **Case**                | **PC Condition** | **Average Pearson's r** | **Cross-validated Partial η² (avg)** |\n",
    "|-------------------------|------------------|-------------------------|--------------------------------------|\n",
    "| B\\_baseline + statistic |                  | 0.503                   | 0.224                                |\n",
    "| B\\_baseline             | none             | 0.502                   | 0.223                                |\n",
    "| B\\_baseline             | 15 PCs           | 0.512                   | 0.237                                |\n",
    "| B\\_baseline             | 100 PCs          | 0.530                   | 0.261                                |\n",
    "| B\\_followup + statistic |                  | 0.461                   | 0.184                                |\n",
    "| B\\_followup             | none             | 0.463                   | 0.188                                |\n",
    "| B\\_followup             | 15 PCs           | 0.473                   | 0.197                                |\n",
    "| B\\_followup             | 100 PCs          | 0.519                   | 0.241                                |"
   ],
   "id": "f2fee79352006dc1"
  },
  {
   "metadata": {
    "ExecuteTime": {
     "end_time": "2025-09-21T21:00:17.479454Z",
     "start_time": "2025-09-21T20:59:34.192174Z"
    }
   },
   "cell_type": "code",
   "source": [
    "within_neg_mean_baseline_B = compute_one_statistic(df_features=main_baseline_B,\n",
    "                                                    df_network=conn_B_baseline_df,\n",
    "                                                    regions=regions,\n",
    "                                                    stat_name=\"within_negative_mean\",\n",
    "                                                    mode=\"all\",\n",
    "                                                    node_order=None,\n",
    "                                                    matrix_size=418,\n",
    "                                                    diag_value=0.0)\n",
    "baseline_B_plus = combine_data(main_baseline_B, within_neg_mean_baseline_B)\n",
    "results_no_network, models_no_network = run_cross_validation(baseline_B_plus, y_baseline_B, use_network=False)\n",
    "print_cross_val_results(results_no_network)"
   ],
   "id": "542b124d27be9d3a",
   "outputs": [
    {
     "name": "stderr",
     "output_type": "stream",
     "text": [
      "100%|██████████| 4321/4321 [00:37<00:00, 116.19it/s]\n"
     ]
    },
    {
     "name": "stdout",
     "output_type": "stream",
     "text": [
      "Dropping duplicate columns: ['Subject', 'site_id_l']\n"
     ]
    },
    {
     "name": "stderr",
     "output_type": "stream",
     "text": [
      "Cross-validation progress: 100%|██████████| 20/20 [00:00<00:00, 202.54it/s]"
     ]
    },
    {
     "name": "stdout",
     "output_type": "stream",
     "text": [
      "\n",
      "Site: site02 | Pearson r = 0.451 (p=0.000) | Partial η² = 0.087\n",
      "\n",
      "Site: site03 | Pearson r = 0.431 (p=0.000) | Partial η² = 0.156\n",
      "\n",
      "Site: site04 | Pearson r = 0.498 (p=0.000) | Partial η² = 0.246\n",
      "\n",
      "Site: site05 | Pearson r = 0.576 (p=0.000) | Partial η² = 0.328\n",
      "\n",
      "Site: site06 | Pearson r = 0.440 (p=0.000) | Partial η² = 0.177\n",
      "\n",
      "Site: site07 | Pearson r = 0.645 (p=0.000) | Partial η² = 0.388\n",
      "\n",
      "Site: site08 | Pearson r = 0.475 (p=0.000) | Partial η² = 0.073\n",
      "\n",
      "Site: site09 | Pearson r = 0.454 (p=0.000) | Partial η² = 0.104\n",
      "\n",
      "Site: site10 | Pearson r = 0.449 (p=0.000) | Partial η² = 0.190\n",
      "\n",
      "Site: site11 | Pearson r = 0.578 (p=0.000) | Partial η² = 0.305\n",
      "\n",
      "Site: site12 | Pearson r = 0.415 (p=0.000) | Partial η² = 0.103\n",
      "\n",
      "Site: site13 | Pearson r = 0.570 (p=0.000) | Partial η² = 0.319\n",
      "\n",
      "Site: site14 | Pearson r = 0.476 (p=0.000) | Partial η² = 0.220\n",
      "\n",
      "Site: site15 | Pearson r = 0.625 (p=0.000) | Partial η² = 0.382\n",
      "\n",
      "Site: site16 | Pearson r = 0.510 (p=0.000) | Partial η² = 0.254\n",
      "\n",
      "Site: site17 | Pearson r = 0.404 (p=0.000) | Partial η² = 0.141\n",
      "\n",
      "Site: site18 | Pearson r = 0.429 (p=0.000) | Partial η² = 0.148\n",
      "\n",
      "Site: site19 | Pearson r = 0.566 (p=0.000) | Partial η² = 0.305\n",
      "\n",
      "Site: site20 | Pearson r = 0.466 (p=0.000) | Partial η² = 0.172\n",
      "\n",
      "Site: site21 | Pearson r = 0.559 (p=0.000) | Partial η² = 0.297\n",
      "Cross-validated Performance Metrics:\n",
      "Average Pearson's r: 0.501\n",
      "Partial eta squared: 0.220\n",
      "R²: 0.220\n"
     ]
    },
    {
     "name": "stderr",
     "output_type": "stream",
     "text": [
      "\n"
     ]
    }
   ],
   "execution_count": 40
  },
  {
   "metadata": {
    "ExecuteTime": {
     "end_time": "2025-09-21T21:00:41.155645Z",
     "start_time": "2025-09-21T21:00:17.576386Z"
    }
   },
   "cell_type": "code",
   "source": [
    "within_neg_mean_followup_B = compute_one_statistic(df_features=main_followup_B,\n",
    "                                                    df_network=conn_B_followup_df,\n",
    "                                                    regions=regions,\n",
    "                                                    stat_name=\"within_negative_mean\",\n",
    "                                                    mode=\"all\",\n",
    "                                                    node_order=None,\n",
    "                                                    matrix_size=418,\n",
    "                                                    diag_value=0.0)\n",
    "\n",
    "followup_B_plus = combine_data(main_followup_B, within_neg_mean_followup_B )\n",
    "results_no_network, models_no_network = run_cross_validation(followup_B_plus.fillna(0.0), y_followup_B,\n",
    "                                                             use_network=False)\n",
    "print_cross_val_results(results_no_network)"
   ],
   "id": "e0cfac4d2e9c5c45",
   "outputs": [
    {
     "name": "stderr",
     "output_type": "stream",
     "text": [
      "100%|██████████| 2756/2756 [00:19<00:00, 140.35it/s]\n"
     ]
    },
    {
     "name": "stdout",
     "output_type": "stream",
     "text": [
      "Dropping duplicate columns: ['Subject', 'site_id_l']\n"
     ]
    },
    {
     "name": "stderr",
     "output_type": "stream",
     "text": [
      "Cross-validation progress: 100%|██████████| 20/20 [00:00<00:00, 323.71it/s]"
     ]
    },
    {
     "name": "stdout",
     "output_type": "stream",
     "text": [
      "\n",
      "Site: site02 | Pearson r = 0.415 (p=0.000) | Partial η² = 0.166\n",
      "\n",
      "Site: site03 | Pearson r = 0.376 (p=0.000) | Partial η² = 0.133\n",
      "\n",
      "Site: site04 | Pearson r = 0.427 (p=0.000) | Partial η² = 0.132\n",
      "\n",
      "Site: site05 | Pearson r = 0.566 (p=0.000) | Partial η² = 0.296\n",
      "\n",
      "Site: site06 | Pearson r = 0.272 (p=0.006) | Partial η² = -0.024\n",
      "\n",
      "Site: site07 | Pearson r = 0.550 (p=0.000) | Partial η² = 0.265\n",
      "\n",
      "Site: site08 | Pearson r = 0.347 (p=0.002) | Partial η² = 0.010\n",
      "\n",
      "Site: site09 | Pearson r = 0.447 (p=0.001) | Partial η² = 0.104\n",
      "\n",
      "Site: site10 | Pearson r = 0.524 (p=0.000) | Partial η² = 0.264\n",
      "\n",
      "Site: site11 | Pearson r = 0.547 (p=0.000) | Partial η² = 0.290\n",
      "\n",
      "Site: site12 | Pearson r = 0.479 (p=0.000) | Partial η² = 0.227\n",
      "\n",
      "Site: site13 | Pearson r = 0.440 (p=0.000) | Partial η² = 0.182\n",
      "\n",
      "Site: site14 | Pearson r = 0.462 (p=0.000) | Partial η² = 0.213\n",
      "\n",
      "Site: site15 | Pearson r = 0.746 (p=0.000) | Partial η² = 0.489\n",
      "\n",
      "Site: site16 | Pearson r = 0.376 (p=0.000) | Partial η² = 0.133\n",
      "\n",
      "Site: site17 | Pearson r = 0.376 (p=0.000) | Partial η² = -0.047\n",
      "\n",
      "Site: site18 | Pearson r = 0.418 (p=0.000) | Partial η² = 0.169\n",
      "\n",
      "Site: site19 | Pearson r = 0.337 (p=0.002) | Partial η² = 0.072\n",
      "\n",
      "Site: site20 | Pearson r = 0.567 (p=0.000) | Partial η² = 0.287\n",
      "\n",
      "Site: site21 | Pearson r = 0.601 (p=0.000) | Partial η² = 0.354\n",
      "Cross-validated Performance Metrics:\n",
      "Average Pearson's r: 0.464\n",
      "Partial eta squared: 0.186\n",
      "R²: 0.186\n"
     ]
    },
    {
     "name": "stderr",
     "output_type": "stream",
     "text": [
      "\n"
     ]
    }
   ],
   "execution_count": 41
  },
  {
   "metadata": {},
   "cell_type": "markdown",
   "source": [
    "#### Within negative connectivity (one value for each region, 15 values total)\n",
    "| **Case**                | **PC Condition** | **Average Pearson's r** | **Cross-validated Partial η² (avg)** |\n",
    "|-------------------------|------------------|-------------------------|--------------------------------------|\n",
    "| B\\_baseline + statistic |                  | 0.501                   | 0.220                                |\n",
    "| B\\_baseline             | none             | 0.502                   | 0.223                                |\n",
    "| B\\_baseline             | 15 PCs           | 0.512                   | 0.237                                |\n",
    "| B\\_baseline             | 100 PCs          | 0.530                   | 0.261                                |\n",
    "| B\\_followup + statistic |                  | 0.464                   | 0.186                                |\n",
    "| B\\_followup             | none             | 0.463                   | 0.188                                |\n",
    "| B\\_followup             | 15 PCs           | 0.473                   | 0.197                                |\n",
    "| B\\_followup             | 100 PCs          | 0.519                   | 0.241                                |"
   ],
   "id": "9c8a5f3b3bd9062b"
  },
  {
   "metadata": {
    "ExecuteTime": {
     "end_time": "2025-09-21T21:12:54.717844Z",
     "start_time": "2025-09-21T21:12:11.664462Z"
    }
   },
   "cell_type": "code",
   "source": [
    "between_neg_mean_baseline_B = compute_one_statistic(df_features=main_baseline_B,\n",
    "                                                    df_network=conn_B_baseline_df,\n",
    "                                                    regions=regions,\n",
    "                                                    stat_name=\"between_negative_mean\",\n",
    "                                                    mode=\"all\",\n",
    "                                                    node_order=None,\n",
    "                                                    matrix_size=418,\n",
    "                                                    diag_value=0.0)\n",
    "baseline_B_plus = combine_data(main_baseline_B, between_neg_mean_baseline_B)\n",
    "results_no_network, models_no_network = run_cross_validation(baseline_B_plus, y_baseline_B, use_network=False)\n",
    "print_cross_val_results(results_no_network)"
   ],
   "id": "b25e1d62c456e98c",
   "outputs": [
    {
     "name": "stderr",
     "output_type": "stream",
     "text": [
      "100%|██████████| 4321/4321 [00:35<00:00, 121.45it/s]\n"
     ]
    },
    {
     "name": "stdout",
     "output_type": "stream",
     "text": [
      "Dropping duplicate columns: ['Subject', 'site_id_l']\n"
     ]
    },
    {
     "name": "stderr",
     "output_type": "stream",
     "text": [
      "Cross-validation progress: 100%|██████████| 20/20 [00:00<00:00, 238.12it/s]"
     ]
    },
    {
     "name": "stdout",
     "output_type": "stream",
     "text": [
      "\n",
      "Site: site02 | Pearson r = 0.456 (p=0.000) | Partial η² = 0.109\n",
      "\n",
      "Site: site03 | Pearson r = 0.427 (p=0.000) | Partial η² = 0.152\n",
      "\n",
      "Site: site04 | Pearson r = 0.495 (p=0.000) | Partial η² = 0.245\n",
      "\n",
      "Site: site05 | Pearson r = 0.579 (p=0.000) | Partial η² = 0.332\n",
      "\n",
      "Site: site06 | Pearson r = 0.459 (p=0.000) | Partial η² = 0.193\n",
      "\n",
      "Site: site07 | Pearson r = 0.643 (p=0.000) | Partial η² = 0.387\n",
      "\n",
      "Site: site08 | Pearson r = 0.468 (p=0.000) | Partial η² = 0.086\n",
      "\n",
      "Site: site09 | Pearson r = 0.443 (p=0.000) | Partial η² = 0.098\n",
      "\n",
      "Site: site10 | Pearson r = 0.467 (p=0.000) | Partial η² = 0.211\n",
      "\n",
      "Site: site11 | Pearson r = 0.574 (p=0.000) | Partial η² = 0.305\n",
      "\n",
      "Site: site12 | Pearson r = 0.414 (p=0.000) | Partial η² = 0.091\n",
      "\n",
      "Site: site13 | Pearson r = 0.563 (p=0.000) | Partial η² = 0.307\n",
      "\n",
      "Site: site14 | Pearson r = 0.480 (p=0.000) | Partial η² = 0.225\n",
      "\n",
      "Site: site15 | Pearson r = 0.626 (p=0.000) | Partial η² = 0.383\n",
      "\n",
      "Site: site16 | Pearson r = 0.516 (p=0.000) | Partial η² = 0.258\n",
      "\n",
      "Site: site17 | Pearson r = 0.404 (p=0.000) | Partial η² = 0.141\n",
      "\n",
      "Site: site18 | Pearson r = 0.424 (p=0.000) | Partial η² = 0.166\n",
      "\n",
      "Site: site19 | Pearson r = 0.564 (p=0.000) | Partial η² = 0.308\n",
      "\n",
      "Site: site20 | Pearson r = 0.457 (p=0.000) | Partial η² = 0.158\n",
      "\n",
      "Site: site21 | Pearson r = 0.549 (p=0.000) | Partial η² = 0.290\n",
      "Cross-validated Performance Metrics:\n",
      "Average Pearson's r: 0.500\n",
      "Partial eta squared: 0.222\n",
      "R²: 0.222\n"
     ]
    },
    {
     "name": "stderr",
     "output_type": "stream",
     "text": [
      "\n"
     ]
    }
   ],
   "execution_count": 42
  },
  {
   "metadata": {
    "ExecuteTime": {
     "end_time": "2025-09-21T21:13:18.033618Z",
     "start_time": "2025-09-21T21:12:54.812821Z"
    }
   },
   "cell_type": "code",
   "source": [
    "between_neg_mean_followup_B = compute_one_statistic(df_features=main_followup_B,\n",
    "                                                    df_network=conn_B_followup_df,\n",
    "                                                    regions=regions,\n",
    "                                                    stat_name=\"between_negative_mean\",\n",
    "                                                    mode=\"all\",\n",
    "                                                    node_order=None,\n",
    "                                                    matrix_size=418,\n",
    "                                                    diag_value=0.0)\n",
    "\n",
    "followup_B_plus = combine_data(main_followup_B, between_neg_mean_followup_B)\n",
    "results_no_network, models_no_network = run_cross_validation(followup_B_plus.fillna(0.0), y_followup_B,\n",
    "                                                             use_network=False)\n",
    "print_cross_val_results(results_no_network)"
   ],
   "id": "e4f57019c05b52d1",
   "outputs": [
    {
     "name": "stderr",
     "output_type": "stream",
     "text": [
      "100%|██████████| 2756/2756 [00:20<00:00, 137.71it/s]\n"
     ]
    },
    {
     "name": "stdout",
     "output_type": "stream",
     "text": [
      "Dropping duplicate columns: ['Subject', 'site_id_l']\n"
     ]
    },
    {
     "name": "stderr",
     "output_type": "stream",
     "text": [
      "Cross-validation progress: 100%|██████████| 20/20 [00:00<00:00, 263.03it/s]"
     ]
    },
    {
     "name": "stdout",
     "output_type": "stream",
     "text": [
      "\n",
      "Site: site02 | Pearson r = 0.417 (p=0.000) | Partial η² = 0.168\n",
      "\n",
      "Site: site03 | Pearson r = 0.371 (p=0.000) | Partial η² = 0.127\n",
      "\n",
      "Site: site04 | Pearson r = 0.452 (p=0.000) | Partial η² = 0.155\n",
      "\n",
      "Site: site05 | Pearson r = 0.556 (p=0.000) | Partial η² = 0.288\n",
      "\n",
      "Site: site06 | Pearson r = 0.308 (p=0.002) | Partial η² = 0.035\n",
      "\n",
      "Site: site07 | Pearson r = 0.558 (p=0.000) | Partial η² = 0.282\n",
      "\n",
      "Site: site08 | Pearson r = 0.351 (p=0.002) | Partial η² = -0.001\n",
      "\n",
      "Site: site09 | Pearson r = 0.437 (p=0.001) | Partial η² = 0.106\n",
      "\n",
      "Site: site10 | Pearson r = 0.517 (p=0.000) | Partial η² = 0.257\n",
      "\n",
      "Site: site11 | Pearson r = 0.544 (p=0.000) | Partial η² = 0.287\n",
      "\n",
      "Site: site12 | Pearson r = 0.489 (p=0.000) | Partial η² = 0.237\n",
      "\n",
      "Site: site13 | Pearson r = 0.440 (p=0.000) | Partial η² = 0.182\n",
      "\n",
      "Site: site14 | Pearson r = 0.458 (p=0.000) | Partial η² = 0.210\n",
      "\n",
      "Site: site15 | Pearson r = 0.737 (p=0.000) | Partial η² = 0.485\n",
      "\n",
      "Site: site16 | Pearson r = 0.393 (p=0.000) | Partial η² = 0.145\n",
      "\n",
      "Site: site17 | Pearson r = 0.385 (p=0.000) | Partial η² = -0.049\n",
      "\n",
      "Site: site18 | Pearson r = 0.387 (p=0.000) | Partial η² = 0.144\n",
      "\n",
      "Site: site19 | Pearson r = 0.320 (p=0.003) | Partial η² = 0.050\n",
      "\n",
      "Site: site20 | Pearson r = 0.565 (p=0.000) | Partial η² = 0.286\n",
      "\n",
      "Site: site21 | Pearson r = 0.597 (p=0.000) | Partial η² = 0.351\n",
      "Cross-validated Performance Metrics:\n",
      "Average Pearson's r: 0.464\n",
      "Partial eta squared: 0.187\n",
      "R²: 0.187\n"
     ]
    },
    {
     "name": "stderr",
     "output_type": "stream",
     "text": [
      "\n"
     ]
    }
   ],
   "execution_count": 43
  },
  {
   "metadata": {},
   "cell_type": "markdown",
   "source": [
    "#### Between negative connectivity (one value for each region, 15 values total)\n",
    "| **Case**                | **PC Condition** | **Average Pearson's r** | **Cross-validated Partial η² (avg)** |\n",
    "|-------------------------|------------------|-------------------------|--------------------------------------|\n",
    "| B\\_baseline + statistic |                  | 0.500                   | 0.222                                |\n",
    "| B\\_baseline             | none             | 0.502                   | 0.223                                |\n",
    "| B\\_baseline             | 15 PCs           | 0.512                   | 0.237                                |\n",
    "| B\\_baseline             | 100 PCs          | 0.530                   | 0.261                                |\n",
    "| B\\_followup + statistic |                  | 0.464                   | 0.187                                |\n",
    "| B\\_followup             | none             | 0.463                   | 0.188                                |\n",
    "| B\\_followup             | 15 PCs           | 0.473                   | 0.197                                |\n",
    "| B\\_followup             | 100 PCs          | 0.519                   | 0.241                                |"
   ],
   "id": "682c948a640fda74"
  },
  {
   "metadata": {
    "ExecuteTime": {
     "end_time": "2025-09-21T21:23:41.318617Z",
     "start_time": "2025-09-21T21:22:56.110646Z"
    }
   },
   "cell_type": "code",
   "source": [
    "segregation_ratio_baseline_B = compute_one_statistic(df_features=main_baseline_B,\n",
    "                                                    df_network=conn_B_baseline_df,\n",
    "                                                    regions=regions,\n",
    "                                                    stat_name=\"segregation_ratio\",\n",
    "                                                    mode=\"all\",\n",
    "                                                    node_order=None,\n",
    "                                                    matrix_size=418,\n",
    "                                                    diag_value=0.0)\n",
    "baseline_B_plus = combine_data(main_baseline_B, segregation_ratio_baseline_B)\n",
    "results_no_network, models_no_network = run_cross_validation(baseline_B_plus, y_baseline_B, use_network=False)\n",
    "print_cross_val_results(results_no_network)"
   ],
   "id": "8c88d97a5bacaa0a",
   "outputs": [
    {
     "name": "stderr",
     "output_type": "stream",
     "text": [
      "100%|██████████| 4321/4321 [00:38<00:00, 111.90it/s]\n"
     ]
    },
    {
     "name": "stdout",
     "output_type": "stream",
     "text": [
      "Dropping duplicate columns: ['Subject', 'site_id_l']\n"
     ]
    },
    {
     "name": "stderr",
     "output_type": "stream",
     "text": [
      "Cross-validation progress: 100%|██████████| 20/20 [00:00<00:00, 230.25it/s]"
     ]
    },
    {
     "name": "stdout",
     "output_type": "stream",
     "text": [
      "\n",
      "Site: site02 | Pearson r = 0.459 (p=0.000) | Partial η² = 0.106\n",
      "\n",
      "Site: site03 | Pearson r = 0.452 (p=0.000) | Partial η² = 0.181\n",
      "\n",
      "Site: site04 | Pearson r = 0.496 (p=0.000) | Partial η² = 0.244\n",
      "\n",
      "Site: site05 | Pearson r = 0.582 (p=0.000) | Partial η² = 0.336\n",
      "\n",
      "Site: site06 | Pearson r = 0.482 (p=0.000) | Partial η² = 0.221\n",
      "\n",
      "Site: site07 | Pearson r = 0.653 (p=0.000) | Partial η² = 0.401\n",
      "\n",
      "Site: site08 | Pearson r = 0.464 (p=0.000) | Partial η² = 0.081\n",
      "\n",
      "Site: site09 | Pearson r = 0.438 (p=0.000) | Partial η² = 0.098\n",
      "\n",
      "Site: site10 | Pearson r = 0.476 (p=0.000) | Partial η² = 0.220\n",
      "\n",
      "Site: site11 | Pearson r = 0.585 (p=0.000) | Partial η² = 0.299\n",
      "\n",
      "Site: site12 | Pearson r = 0.420 (p=0.000) | Partial η² = 0.097\n",
      "\n",
      "Site: site13 | Pearson r = 0.555 (p=0.000) | Partial η² = 0.303\n",
      "\n",
      "Site: site14 | Pearson r = 0.507 (p=0.000) | Partial η² = 0.253\n",
      "\n",
      "Site: site15 | Pearson r = 0.635 (p=0.000) | Partial η² = 0.393\n",
      "\n",
      "Site: site16 | Pearson r = 0.528 (p=0.000) | Partial η² = 0.270\n",
      "\n",
      "Site: site17 | Pearson r = 0.390 (p=0.000) | Partial η² = 0.099\n",
      "\n",
      "Site: site18 | Pearson r = 0.435 (p=0.000) | Partial η² = 0.166\n",
      "\n",
      "Site: site19 | Pearson r = 0.564 (p=0.000) | Partial η² = 0.307\n",
      "\n",
      "Site: site20 | Pearson r = 0.464 (p=0.000) | Partial η² = 0.162\n",
      "\n",
      "Site: site21 | Pearson r = 0.547 (p=0.000) | Partial η² = 0.290\n",
      "Cross-validated Performance Metrics:\n",
      "Average Pearson's r: 0.507\n",
      "Partial eta squared: 0.226\n",
      "R²: 0.226\n"
     ]
    },
    {
     "name": "stderr",
     "output_type": "stream",
     "text": [
      "\n"
     ]
    }
   ],
   "execution_count": 44
  },
  {
   "metadata": {
    "ExecuteTime": {
     "end_time": "2025-09-21T21:25:48.173836Z",
     "start_time": "2025-09-21T21:25:21.616802Z"
    }
   },
   "cell_type": "code",
   "source": [
    "segregation_ratio_followup_B = compute_one_statistic(df_features=main_followup_B,\n",
    "                                                    df_network=conn_B_followup_df,\n",
    "                                                    regions=regions,\n",
    "                                                    stat_name=\"segregation_ratio\",\n",
    "                                                    mode=\"all\",\n",
    "                                                    node_order=None,\n",
    "                                                    matrix_size=418,\n",
    "                                                    diag_value=0.0)\n",
    "\n",
    "followup_B_plus = combine_data(main_followup_B, segregation_ratio_followup_B)\n",
    "results_no_network, models_no_network = run_cross_validation(followup_B_plus.fillna(0.0), y_followup_B,\n",
    "                                                             use_network=False)\n",
    "print_cross_val_results(results_no_network)"
   ],
   "id": "2fa1b9cf001f586c",
   "outputs": [
    {
     "name": "stderr",
     "output_type": "stream",
     "text": [
      "100%|██████████| 2756/2756 [00:21<00:00, 130.34it/s]\n"
     ]
    },
    {
     "name": "stdout",
     "output_type": "stream",
     "text": [
      "Dropping duplicate columns: ['Subject', 'site_id_l']\n"
     ]
    },
    {
     "name": "stderr",
     "output_type": "stream",
     "text": [
      "Cross-validation progress: 100%|██████████| 20/20 [00:00<00:00, 289.93it/s]"
     ]
    },
    {
     "name": "stdout",
     "output_type": "stream",
     "text": [
      "\n",
      "Site: site02 | Pearson r = 0.391 (p=0.000) | Partial η² = 0.145\n",
      "\n",
      "Site: site03 | Pearson r = 0.361 (p=0.000) | Partial η² = 0.117\n",
      "\n",
      "Site: site04 | Pearson r = 0.436 (p=0.000) | Partial η² = 0.141\n",
      "\n",
      "Site: site05 | Pearson r = 0.562 (p=0.000) | Partial η² = 0.290\n",
      "\n",
      "Site: site06 | Pearson r = 0.320 (p=0.001) | Partial η² = 0.052\n",
      "\n",
      "Site: site07 | Pearson r = 0.573 (p=0.000) | Partial η² = 0.300\n",
      "\n",
      "Site: site08 | Pearson r = 0.373 (p=0.001) | Partial η² = 0.032\n",
      "\n",
      "Site: site09 | Pearson r = 0.409 (p=0.002) | Partial η² = 0.081\n",
      "\n",
      "Site: site10 | Pearson r = 0.513 (p=0.000) | Partial η² = 0.250\n",
      "\n",
      "Site: site11 | Pearson r = 0.554 (p=0.000) | Partial η² = 0.303\n",
      "\n",
      "Site: site12 | Pearson r = 0.504 (p=0.000) | Partial η² = 0.253\n",
      "\n",
      "Site: site13 | Pearson r = 0.447 (p=0.000) | Partial η² = 0.189\n",
      "\n",
      "Site: site14 | Pearson r = 0.487 (p=0.000) | Partial η² = 0.236\n",
      "\n",
      "Site: site15 | Pearson r = 0.706 (p=0.000) | Partial η² = 0.452\n",
      "\n",
      "Site: site16 | Pearson r = 0.384 (p=0.000) | Partial η² = 0.141\n",
      "\n",
      "Site: site17 | Pearson r = 0.377 (p=0.000) | Partial η² = -0.087\n",
      "\n",
      "Site: site18 | Pearson r = 0.380 (p=0.000) | Partial η² = 0.133\n",
      "\n",
      "Site: site19 | Pearson r = 0.337 (p=0.002) | Partial η² = 0.062\n",
      "\n",
      "Site: site20 | Pearson r = 0.583 (p=0.000) | Partial η² = 0.305\n",
      "\n",
      "Site: site21 | Pearson r = 0.625 (p=0.000) | Partial η² = 0.384\n",
      "Cross-validated Performance Metrics:\n",
      "Average Pearson's r: 0.466\n",
      "Partial eta squared: 0.189\n",
      "R²: 0.189\n"
     ]
    },
    {
     "name": "stderr",
     "output_type": "stream",
     "text": [
      "\n"
     ]
    }
   ],
   "execution_count": 45
  },
  {
   "metadata": {},
   "cell_type": "markdown",
   "source": [
    "#### Segregation ratio (one value for each region, 15 values total)\n",
    "| **Case**                | **PC Condition** | **Average Pearson's r** | **Cross-validated Partial η² (avg)** |\n",
    "|-------------------------|------------------|-------------------------|--------------------------------------|\n",
    "| B\\_baseline + statistic |                  | 0.507                   | 0.226                                |\n",
    "| B\\_baseline             | none             | 0.502                   | 0.223                                |\n",
    "| B\\_baseline             | 15 PCs           | 0.512                   | 0.237                                |\n",
    "| B\\_baseline             | 100 PCs          | 0.530                   | 0.261                                |\n",
    "| B\\_followup + statistic |                  | 0.466                   | 0.189                                |\n",
    "| B\\_followup             | none             | 0.463                   | 0.188                                |\n",
    "| B\\_followup             | 15 PCs           | 0.473                   | 0.197                                |\n",
    "| B\\_followup             | 100 PCs          | 0.519                   | 0.241                                |"
   ],
   "id": "6111cf31a101e8ed"
  },
  {
   "metadata": {
    "ExecuteTime": {
     "end_time": "2025-09-21T21:28:03.335401Z",
     "start_time": "2025-09-21T21:27:18.748798Z"
    }
   },
   "cell_type": "code",
   "source": [
    "segregation_index_baseline_B = compute_one_statistic(df_features=main_baseline_B,\n",
    "                                                    df_network=conn_B_baseline_df,\n",
    "                                                    regions=regions,\n",
    "                                                    stat_name=\"segregation_index\",\n",
    "                                                    mode=\"all\",\n",
    "                                                    node_order=None,\n",
    "                                                    matrix_size=418,\n",
    "                                                    diag_value=0.0)\n",
    "baseline_B_plus = combine_data(main_baseline_B, segregation_index_baseline_B)\n",
    "results_no_network, models_no_network = run_cross_validation(baseline_B_plus, y_baseline_B, use_network=False)\n",
    "print_cross_val_results(results_no_network)"
   ],
   "id": "ebe98534793e187d",
   "outputs": [
    {
     "name": "stderr",
     "output_type": "stream",
     "text": [
      "100%|██████████| 4321/4321 [00:38<00:00, 113.19it/s]\n"
     ]
    },
    {
     "name": "stdout",
     "output_type": "stream",
     "text": [
      "Dropping duplicate columns: ['Subject', 'site_id_l']\n"
     ]
    },
    {
     "name": "stderr",
     "output_type": "stream",
     "text": [
      "Cross-validation progress: 100%|██████████| 20/20 [00:00<00:00, 231.91it/s]"
     ]
    },
    {
     "name": "stdout",
     "output_type": "stream",
     "text": [
      "\n",
      "Site: site02 | Pearson r = 0.459 (p=0.000) | Partial η² = 0.100\n",
      "\n",
      "Site: site03 | Pearson r = 0.442 (p=0.000) | Partial η² = 0.170\n",
      "\n",
      "Site: site04 | Pearson r = 0.496 (p=0.000) | Partial η² = 0.244\n",
      "\n",
      "Site: site05 | Pearson r = 0.580 (p=0.000) | Partial η² = 0.334\n",
      "\n",
      "Site: site06 | Pearson r = 0.489 (p=0.000) | Partial η² = 0.227\n",
      "\n",
      "Site: site07 | Pearson r = 0.654 (p=0.000) | Partial η² = 0.399\n",
      "\n",
      "Site: site08 | Pearson r = 0.461 (p=0.000) | Partial η² = 0.077\n",
      "\n",
      "Site: site09 | Pearson r = 0.433 (p=0.000) | Partial η² = 0.092\n",
      "\n",
      "Site: site10 | Pearson r = 0.472 (p=0.000) | Partial η² = 0.215\n",
      "\n",
      "Site: site11 | Pearson r = 0.581 (p=0.000) | Partial η² = 0.296\n",
      "\n",
      "Site: site12 | Pearson r = 0.436 (p=0.000) | Partial η² = 0.117\n",
      "\n",
      "Site: site13 | Pearson r = 0.562 (p=0.000) | Partial η² = 0.310\n",
      "\n",
      "Site: site14 | Pearson r = 0.498 (p=0.000) | Partial η² = 0.245\n",
      "\n",
      "Site: site15 | Pearson r = 0.637 (p=0.000) | Partial η² = 0.394\n",
      "\n",
      "Site: site16 | Pearson r = 0.530 (p=0.000) | Partial η² = 0.273\n",
      "\n",
      "Site: site17 | Pearson r = 0.385 (p=0.000) | Partial η² = 0.097\n",
      "\n",
      "Site: site18 | Pearson r = 0.438 (p=0.000) | Partial η² = 0.171\n",
      "\n",
      "Site: site19 | Pearson r = 0.568 (p=0.000) | Partial η² = 0.310\n",
      "\n",
      "Site: site20 | Pearson r = 0.473 (p=0.000) | Partial η² = 0.175\n",
      "\n",
      "Site: site21 | Pearson r = 0.551 (p=0.000) | Partial η² = 0.293\n",
      "Cross-validated Performance Metrics:\n",
      "Average Pearson's r: 0.507\n",
      "Partial eta squared: 0.227\n",
      "R²: 0.227\n"
     ]
    },
    {
     "name": "stderr",
     "output_type": "stream",
     "text": [
      "\n"
     ]
    }
   ],
   "execution_count": 46
  },
  {
   "metadata": {
    "ExecuteTime": {
     "end_time": "2025-09-21T21:28:40.315357Z",
     "start_time": "2025-09-21T21:28:14.629465Z"
    }
   },
   "cell_type": "code",
   "source": [
    "segregation_index_followup_B = compute_one_statistic(df_features=main_followup_B,\n",
    "                                                    df_network=conn_B_followup_df,\n",
    "                                                    regions=regions,\n",
    "                                                    stat_name=\"segregation_index\",\n",
    "                                                    mode=\"all\",\n",
    "                                                    node_order=None,\n",
    "                                                    matrix_size=418,\n",
    "                                                    diag_value=0.0)\n",
    "\n",
    "followup_B_plus = combine_data(main_followup_B, segregation_index_followup_B)\n",
    "results_no_network, models_no_network = run_cross_validation(followup_B_plus.fillna(0.0), y_followup_B,\n",
    "                                                             use_network=False)\n",
    "print_cross_val_results(results_no_network)"
   ],
   "id": "c11575664b1514a0",
   "outputs": [
    {
     "name": "stderr",
     "output_type": "stream",
     "text": [
      "100%|██████████| 2756/2756 [00:20<00:00, 132.86it/s]\n"
     ]
    },
    {
     "name": "stdout",
     "output_type": "stream",
     "text": [
      "Dropping duplicate columns: ['Subject', 'site_id_l']\n"
     ]
    },
    {
     "name": "stderr",
     "output_type": "stream",
     "text": [
      "Cross-validation progress: 100%|██████████| 20/20 [00:00<00:00, 316.06it/s]"
     ]
    },
    {
     "name": "stdout",
     "output_type": "stream",
     "text": [
      "\n",
      "Site: site02 | Pearson r = 0.377 (p=0.000) | Partial η² = 0.134\n",
      "\n",
      "Site: site03 | Pearson r = 0.358 (p=0.000) | Partial η² = 0.115\n",
      "\n",
      "Site: site04 | Pearson r = 0.436 (p=0.000) | Partial η² = 0.141\n",
      "\n",
      "Site: site05 | Pearson r = 0.558 (p=0.000) | Partial η² = 0.289\n",
      "\n",
      "Site: site06 | Pearson r = 0.309 (p=0.002) | Partial η² = 0.040\n",
      "\n",
      "Site: site07 | Pearson r = 0.585 (p=0.000) | Partial η² = 0.305\n",
      "\n",
      "Site: site08 | Pearson r = 0.346 (p=0.002) | Partial η² = 0.006\n",
      "\n",
      "Site: site09 | Pearson r = 0.398 (p=0.003) | Partial η² = 0.073\n",
      "\n",
      "Site: site10 | Pearson r = 0.511 (p=0.000) | Partial η² = 0.246\n",
      "\n",
      "Site: site11 | Pearson r = 0.566 (p=0.000) | Partial η² = 0.311\n",
      "\n",
      "Site: site12 | Pearson r = 0.508 (p=0.000) | Partial η² = 0.257\n",
      "\n",
      "Site: site13 | Pearson r = 0.433 (p=0.000) | Partial η² = 0.173\n",
      "\n",
      "Site: site14 | Pearson r = 0.464 (p=0.000) | Partial η² = 0.215\n",
      "\n",
      "Site: site15 | Pearson r = 0.742 (p=0.000) | Partial η² = 0.501\n",
      "\n",
      "Site: site16 | Pearson r = 0.389 (p=0.000) | Partial η² = 0.146\n",
      "\n",
      "Site: site17 | Pearson r = 0.358 (p=0.000) | Partial η² = -0.100\n",
      "\n",
      "Site: site18 | Pearson r = 0.388 (p=0.000) | Partial η² = 0.142\n",
      "\n",
      "Site: site19 | Pearson r = 0.353 (p=0.001) | Partial η² = 0.085\n",
      "\n",
      "Site: site20 | Pearson r = 0.580 (p=0.000) | Partial η² = 0.299\n",
      "\n",
      "Site: site21 | Pearson r = 0.621 (p=0.000) | Partial η² = 0.378\n",
      "Cross-validated Performance Metrics:\n",
      "Average Pearson's r: 0.464\n",
      "Partial eta squared: 0.188\n",
      "R²: 0.188\n"
     ]
    },
    {
     "name": "stderr",
     "output_type": "stream",
     "text": [
      "\n"
     ]
    }
   ],
   "execution_count": 47
  },
  {
   "metadata": {},
   "cell_type": "markdown",
   "source": [
    "#### Segregation index (one value for each region, 15 values total)\n",
    "| **Case**                | **PC Condition** | **Average Pearson's r** | **Cross-validated Partial η² (avg)** |\n",
    "|-------------------------|------------------|-------------------------|--------------------------------------|\n",
    "| B\\_baseline + statistic |                  | 0.507                   | 0.227                                |\n",
    "| B\\_baseline             | none             | 0.502                   | 0.223                                |\n",
    "| B\\_baseline             | 15 PCs           | 0.512                   | 0.237                                |\n",
    "| B\\_baseline             | 100 PCs          | 0.530                   | 0.261                                |\n",
    "| B\\_followup + statistic |                  | 0.464                   | 0.188                                |\n",
    "| B\\_followup             | none             | 0.463                   | 0.188                                |\n",
    "| B\\_followup             | 15 PCs           | 0.473                   | 0.197                                |\n",
    "| B\\_followup             | 100 PCs          | 0.519                   | 0.241                                |"
   ],
   "id": "930f54827dda9617"
  },
  {
   "metadata": {},
   "cell_type": "code",
   "outputs": [],
   "execution_count": null,
   "source": "",
   "id": "4b0f96875eea6ea6"
  },
  {
   "metadata": {},
   "cell_type": "code",
   "outputs": [],
   "execution_count": null,
   "source": "",
   "id": "7120dd86c495632e"
  },
  {
   "metadata": {},
   "cell_type": "code",
   "outputs": [],
   "execution_count": null,
   "source": "",
   "id": "da126f33e2239fb8"
  },
  {
   "metadata": {},
   "cell_type": "code",
   "outputs": [],
   "execution_count": null,
   "source": "",
   "id": "915b4ee17dad521a"
  },
  {
   "metadata": {},
   "cell_type": "code",
   "outputs": [],
   "execution_count": null,
   "source": "",
   "id": "b9921a959357309c"
  },
  {
   "metadata": {},
   "cell_type": "code",
   "outputs": [],
   "execution_count": null,
   "source": "",
   "id": "d80e5f965e3b3690"
  },
  {
   "metadata": {
    "ExecuteTime": {
     "end_time": "2025-09-09T19:17:54.397736Z",
     "start_time": "2025-09-09T19:17:54.287621Z"
    }
   },
   "cell_type": "code",
   "source": [
    "import networkx as nx\n",
    "def weighted_clustering_coefficient(correlation_matrix, community_sizes, net_order, subj_id, site_id):\n",
    "    \"\"\"\n",
    "    Compute weighted clustering coefficient (Onnela's definition) aggregated by regions.\n",
    "\n",
    "    Args:\n",
    "        correlation_matrix: np.ndarray, symmetric connectivity matrix\n",
    "        community_sizes: list of ints, sizes of each community in net_order\n",
    "        net_order: list of network identifiers, in the order matching community_sizes\n",
    "        subj_id: Subject identifier (str or int)\n",
    "        site_id: Site identifier (str or int)\n",
    "\n",
    "    Returns:\n",
    "        DataFrame with a single row: Subject, site_id_l, and clustering[net_id] columns\n",
    "    \"\"\"\n",
    "    # Build graph with absolute correlation values\n",
    "    G = nx.from_numpy_array(np.abs(correlation_matrix))\n",
    "\n",
    "    # Get clustering coefficient for each node\n",
    "    clustering_dict = nx.clustering(G, weight=\"weight\")\n",
    "\n",
    "    # Convert to array for indexing\n",
    "    clustering_values = np.array([clustering_dict[i] for i in range(len(correlation_matrix))])\n",
    "\n",
    "    # Build dictionary for row output\n",
    "    row_dict = {\"Subject\": subj_id, \"site_id_l\": site_id}\n",
    "    start = 0\n",
    "    for size, net_id in zip(community_sizes, net_order):\n",
    "        region_vals = clustering_values[start:start+size]\n",
    "        avg_val = np.mean(region_vals)\n",
    "        row_dict[f\"clustering[{net_id}]\"] = avg_val\n",
    "        start += size\n",
    "\n",
    "    return pd.DataFrame([row_dict])\n"
   ],
   "id": "34e987f588560698",
   "outputs": [],
   "execution_count": 37
  },
  {
   "metadata": {
    "ExecuteTime": {
     "end_time": "2025-09-09T19:17:57.304765Z",
     "start_time": "2025-09-09T19:17:57.301656Z"
    }
   },
   "cell_type": "code",
   "source": [
    "def compute_clustering_for_all(df_features, df_network, community_sizes, net_order):\n",
    "    \"\"\"\n",
    "    Compute weighted clustering coefficient for each subject in df_network.\n",
    "\n",
    "    Args:\n",
    "        df_features: DataFrame with Subject and site_id_l columns\n",
    "        df_network: DataFrame with Subject, flattened correlation matrices\n",
    "        community_sizes: list of ints, community sizes\n",
    "        net_order: list of network identifiers\n",
    "\n",
    "    Returns:\n",
    "        DataFrame with one row per subject:\n",
    "        Subject, site_id_l, and clustering[net_id] columns\n",
    "    \"\"\"\n",
    "    result = []\n",
    "\n",
    "    # Create subject-to-site mapping dictionary\n",
    "    subject_site_map = df_features.set_index('Subject')['site_id_l'].to_dict()\n",
    "    df_network['site_id_l'] = df_network['Subject'].map(subject_site_map)\n",
    "\n",
    "    for row in tqdm(df_network.itertuples(index=False), total=len(df_network)):\n",
    "        subj_id = row.Subject\n",
    "        site_id = row.site_id_l\n",
    "\n",
    "        # Reconstruct matrix from flattened vector\n",
    "        matrix_values = [v for k, v in row._asdict().items() if k not in (\"Subject\", \"site_id_l\")]\n",
    "        corr_matrix = vector_to_symmetric_matrix(matrix_values, 418)\n",
    "\n",
    "        # Compute clustering (returns single-row df)\n",
    "        df_clust = weighted_clustering_coefficient(corr_matrix, community_sizes, net_order, subj_id, site_id)\n",
    "\n",
    "        # Convert to dict and append\n",
    "        result.append(df_clust.iloc[0].to_dict())\n",
    "\n",
    "    return pd.DataFrame(result)\n"
   ],
   "id": "ea457ef84d2e78ad",
   "outputs": [],
   "execution_count": 38
  },
  {
   "metadata": {},
   "cell_type": "code",
   "outputs": [],
   "execution_count": null,
   "source": [
    "clustering_baseline = compute_clustering_for_all(\n",
    "    df_features=article_features_baseline,\n",
    "    df_network=flattened_baseline_df,\n",
    "    community_sizes=community_sizes,\n",
    "    net_order=net_order)"
   ],
   "id": "5ba78d0ba83fc341"
  },
  {
   "metadata": {
    "ExecuteTime": {
     "end_time": "2025-09-09T19:18:07.638834Z",
     "start_time": "2025-09-09T19:18:07.631224Z"
    }
   },
   "cell_type": "code",
   "source": [
    "def compute_efficiency_metrics(symmetric_matrix, threshold=None, eps=1e-12, renorm=True):\n",
    "    \"\"\"\n",
    "    symmetric_matrix : Fisher z-transformed correlations (symmetric, NxN)\n",
    "    threshold        : optional abs(Pearson) cutoff to sparsify (e.g., 0.1 or 0.2)\n",
    "    eps              : small constant to avoid division by zero\n",
    "    renorm           : if True and threshold is set, rescale weights so max=1 and threshold->0\n",
    "\n",
    "    Returns: global_eff, local_eff (both in [0,1])\n",
    "    \"\"\"\n",
    "    # Convert back to Pearson\n",
    "    pearson = np.tanh(symmetric_matrix).astype(float)\n",
    "    np.fill_diagonal(pearson, 0.0)\n",
    "\n",
    "    # Keep non-negative strengths (use absolute correlations as connectivity strength)\n",
    "    w = np.abs(pearson)\n",
    "\n",
    "    # Apply threshold (remove weak edges)\n",
    "    if threshold is not None:\n",
    "        w[w < threshold] = 0.0\n",
    "        if renorm and threshold < 1.0:\n",
    "            # Map [threshold, 1] -> [0, 1]\n",
    "            w = np.clip((w - threshold) / (1.0 - threshold), 0.0, 1.0)\n",
    "\n",
    "    # Build graph with edge *length* = 1/strength\n",
    "    n = w.shape[0]\n",
    "    G = nx.Graph()\n",
    "    G.add_nodes_from(range(n))\n",
    "    # Add only positive-strength edges\n",
    "    rows, cols = np.where(w > 0.0)\n",
    "    for i, j in zip(rows, cols):\n",
    "        if i < j:\n",
    "            strength = w[i, j]\n",
    "            length = 1.0 / (strength + eps)  # large when strength small; 1 when strength=1\n",
    "            G.add_edge(i, j, length=length)\n",
    "\n",
    "    if G.number_of_edges() == 0:\n",
    "        return 0.0, 0.0\n",
    "\n",
    "    # --- Global efficiency (normalize by n(n-1)) ---\n",
    "    lengths = dict(nx.all_pairs_dijkstra_path_length(G, weight=\"length\"))\n",
    "    tot = 0.0\n",
    "    denom = n * (n - 1)\n",
    "    for u in range(n):\n",
    "        Lu = lengths.get(u, {})\n",
    "        for v in range(n):\n",
    "            if u == v:\n",
    "                continue\n",
    "            d = Lu.get(v, None)\n",
    "            if d is not None and d > 0:\n",
    "                tot += 1.0 / d\n",
    "            # else unreachable => contributes 0\n",
    "    global_eff = tot / denom if denom > 0 else 0.0\n",
    "\n",
    "    # --- Local efficiency: average over ego-neighborhoods ---\n",
    "    local_vals = []\n",
    "    for i in G.nodes():\n",
    "        nbrs = list(G.neighbors(i))\n",
    "        k = len(nbrs)\n",
    "        if k < 2:\n",
    "            continue\n",
    "        H = G.subgraph(nbrs)\n",
    "        Lsub = dict(nx.all_pairs_dijkstra_path_length(H, weight=\"length\"))\n",
    "\n",
    "        # sum over ordered pairs (u,v), u != v; normalize by k(k-1)\n",
    "        tot_loc = 0.0\n",
    "        denom_loc = k * (k - 1)\n",
    "        for u in nbrs:\n",
    "            Lu = Lsub.get(u, {})\n",
    "            for v in nbrs:\n",
    "                if u == v:\n",
    "                    continue\n",
    "                d = Lu.get(v, None)\n",
    "                if d is not None and d > 0:\n",
    "                    tot_loc += 1.0 / d\n",
    "        local_vals.append(tot_loc / denom_loc)\n",
    "\n",
    "    local_eff = float(np.mean(local_vals)) if local_vals else 0.0\n",
    "\n",
    "    # --- Sanity: clamp tiny FP drift and assert ---\n",
    "    global_eff = float(np.clip(global_eff, 0.0, 1.0))\n",
    "    local_eff  = float(np.clip(local_eff,  0.0, 1.0))\n",
    "\n",
    "    assert 0.0 <= global_eff <= 1.0 + 1e-9, f\"global_eff out of range {global_eff}\"\n",
    "    assert 0.0 <= local_eff  <= 1.0 + 1e-9, f\"local_eff out of range {local_eff}\"\n",
    "\n",
    "    return global_eff, local_eff\n",
    "\n",
    "\n",
    "# --- driver: run for all subjects safely ---\n",
    "def compute_efficiency_for_all(df_features, df_network, threshold=None, n_nodes=418):\n",
    "    \"\"\"\n",
    "    Returns a DataFrame with columns: Subject | site_id_l | global_efficiency | local_efficiency\n",
    "    \"\"\"\n",
    "    # Basic schema checks\n",
    "    assert \"Subject\" in df_features.columns, \"df_features must have 'Subject'\"\n",
    "    assert \"site_id_l\" in df_features.columns, \"df_features must have 'site_id_l'\"\n",
    "    assert \"Subject\" in df_network.columns,  \"df_network must have 'Subject'\"\n",
    "\n",
    "    # Map Subject -> site_id_l\n",
    "    subject_site = df_features.set_index(\"Subject\")[\"site_id_l\"].to_dict()\n",
    "    df_network = df_network.copy()\n",
    "    df_network[\"site_id_l\"] = df_network[\"Subject\"].map(subject_site)\n",
    "\n",
    "    results = []\n",
    "    expected_len = n_nodes * (n_nodes - 1) // 2\n",
    "\n",
    "    for row in tqdm(df_network.itertuples(index=False), total=len(df_network)):\n",
    "        subj_id = row.Subject\n",
    "        site_id = row.site_id_l\n",
    "\n",
    "        # Pull flattened upper-tri values\n",
    "        vec = [v for k, v in row._asdict().items() if k not in (\"Subject\", \"site_id_l\")]\n",
    "        vec = np.asarray(vec, dtype=float)\n",
    "        assert vec.size == expected_len, f\"{subj_id}: expected {expected_len} values, got {vec.size}\"\n",
    "\n",
    "        # Rebuild symmetric Fisher-z matrix\n",
    "        zmat = vector_to_symmetric_matrix(vec, n_nodes)\n",
    "        assert zmat.shape == (n_nodes, n_nodes), f\"{subj_id}: bad shape {zmat.shape}\"\n",
    "        if not np.isfinite(zmat).all():\n",
    "            raise ValueError(f\"{subj_id}: NaN/Inf in matrix\")\n",
    "\n",
    "        try:\n",
    "            g_eff, l_eff = compute_efficiency_metrics(zmat, threshold=threshold)\n",
    "        except Exception as e:\n",
    "            raise RuntimeError(f\"Efficiency failed for {subj_id}: {e}\")\n",
    "\n",
    "        # Final guard (with tiny tolerance)\n",
    "        if not (0.0 - 1e-9 <= g_eff <= 1.0 + 1e-9):\n",
    "            raise ValueError(f\"{subj_id}: global_eff out of range {g_eff}\")\n",
    "        if not (0.0 - 1e-9 <= l_eff <= 1.0 + 1e-9):\n",
    "            raise ValueError(f\"{subj_id}: local_eff out of range {l_eff}\")\n",
    "\n",
    "        results.append({\n",
    "            \"Subject\": subj_id,\n",
    "            \"site_id_l\": site_id,\n",
    "            \"global_efficiency\": float(g_eff),\n",
    "            \"local_efficiency\": float(l_eff),\n",
    "        })\n",
    "\n",
    "    return pd.DataFrame(results)\n"
   ],
   "id": "2a28252da50a67eb",
   "outputs": [],
   "execution_count": 39
  },
  {
   "metadata": {
    "ExecuteTime": {
     "end_time": "2025-09-07T22:06:46.989218Z",
     "start_time": "2025-09-07T21:48:23.864031Z"
    }
   },
   "cell_type": "code",
   "source": [
    "efficiency_baseline = compute_efficiency_for_all(\n",
    "    df_features=article_features_baseline,\n",
    "    df_network=flattened_baseline_df,\n",
    "    threshold=0.5)"
   ],
   "id": "f50b526cd8fdd339",
   "outputs": [
    {
     "name": "stderr",
     "output_type": "stream",
     "text": [
      "100%|██████████| 4321/4321 [18:18<00:00,  3.93it/s]  \n"
     ]
    }
   ],
   "execution_count": 136
  },
  {
   "metadata": {
    "ExecuteTime": {
     "end_time": "2025-09-07T22:06:57.027514Z",
     "start_time": "2025-09-07T22:06:56.890159Z"
    }
   },
   "cell_type": "code",
   "source": [
    "results_no_network, models_no_network = run_cross_validation(efficiency_baseline, y_baseline,\n",
    "                                                             use_network=False)\n",
    "print_cross_val_results(results_no_network)\n",
    "\n",
    "features_efficiency_baseline = combine_data(article_features_baseline, efficiency_baseline)\n",
    "results_no_network, models_no_network = run_cross_validation(features_efficiency_baseline, y_baseline,\n",
    "                                                             use_network=False)\n",
    "print_cross_val_results(results_no_network)\n",
    "\n",
    "features_ses_efficiency_baseline = combine_data(features_efficiency_baseline, ses_baseline)\n",
    "results_no_network, models_no_network = run_cross_validation(features_ses_efficiency_baseline, y_baseline,\n",
    "                                                             use_network=False)\n",
    "print_cross_val_results(results_no_network)"
   ],
   "id": "173eda8613f02cc4",
   "outputs": [
    {
     "name": "stdout",
     "output_type": "stream",
     "text": [
      "Cross-validated Performance Metrics:\n",
      "Average Pearson's r: 0.059\n",
      "Partial eta squared: -0.077\n",
      "R²: -0.077\n",
      "Cross-validated Performance Metrics:\n",
      "Average Pearson's r: 0.402\n",
      "Partial eta squared: 0.089\n",
      "R²: 0.089\n",
      "Cross-validated Performance Metrics:\n",
      "Average Pearson's r: 0.501\n",
      "Partial eta squared: 0.222\n",
      "R²: 0.222\n"
     ]
    }
   ],
   "execution_count": 137
  },
  {
   "metadata": {
    "ExecuteTime": {
     "end_time": "2025-09-07T23:07:41.047379Z",
     "start_time": "2025-09-07T23:07:35.769615Z"
    }
   },
   "cell_type": "code",
   "source": "flattened_followup_df.fillna(0, inplace=True)",
   "id": "a9f2cb708f1a1a86",
   "outputs": [],
   "execution_count": 156
  },
  {
   "metadata": {
    "ExecuteTime": {
     "end_time": "2025-09-07T23:41:03.645439Z",
     "start_time": "2025-09-07T23:39:02.126586Z"
    }
   },
   "cell_type": "code",
   "source": [
    "efficiency_followup = compute_efficiency_for_all(\n",
    "    df_features=article_features_followup,\n",
    "    df_network=flattened_followup_df,\n",
    "    threshold=0.6)"
   ],
   "id": "5c0513bb2e470f09",
   "outputs": [
    {
     "name": "stderr",
     "output_type": "stream",
     "text": [
      " 73%|███████▎  | 2021/2756 [01:55<00:41, 17.57it/s]\n"
     ]
    },
    {
     "ename": "KeyboardInterrupt",
     "evalue": "",
     "output_type": "error",
     "traceback": [
      "\u001B[0;31m---------------------------------------------------------------------------\u001B[0m",
      "\u001B[0;31mKeyboardInterrupt\u001B[0m                         Traceback (most recent call last)",
      "Cell \u001B[0;32mIn[170], line 1\u001B[0m\n\u001B[0;32m----> 1\u001B[0m efficiency_followup \u001B[38;5;241m=\u001B[39m \u001B[43mcompute_efficiency_for_all\u001B[49m\u001B[43m(\u001B[49m\n\u001B[1;32m      2\u001B[0m \u001B[43m    \u001B[49m\u001B[43mdf_features\u001B[49m\u001B[38;5;241;43m=\u001B[39;49m\u001B[43marticle_features_followup\u001B[49m\u001B[43m,\u001B[49m\n\u001B[1;32m      3\u001B[0m \u001B[43m    \u001B[49m\u001B[43mdf_network\u001B[49m\u001B[38;5;241;43m=\u001B[39;49m\u001B[43mflattened_followup_df\u001B[49m\u001B[43m,\u001B[49m\n\u001B[1;32m      4\u001B[0m \u001B[43m    \u001B[49m\u001B[43mthreshold\u001B[49m\u001B[38;5;241;43m=\u001B[39;49m\u001B[38;5;241;43m0.6\u001B[39;49m\u001B[43m)\u001B[49m\n",
      "Cell \u001B[0;32mIn[167], line 123\u001B[0m, in \u001B[0;36mcompute_efficiency_for_all\u001B[0;34m(df_features, df_network, threshold, n_nodes)\u001B[0m\n\u001B[1;32m    120\u001B[0m     \u001B[38;5;28;01mraise\u001B[39;00m \u001B[38;5;167;01mValueError\u001B[39;00m(\u001B[38;5;124mf\u001B[39m\u001B[38;5;124m\"\u001B[39m\u001B[38;5;132;01m{\u001B[39;00msubj_id\u001B[38;5;132;01m}\u001B[39;00m\u001B[38;5;124m: NaN/Inf in matrix\u001B[39m\u001B[38;5;124m\"\u001B[39m)\n\u001B[1;32m    122\u001B[0m \u001B[38;5;28;01mtry\u001B[39;00m:\n\u001B[0;32m--> 123\u001B[0m     g_eff, l_eff \u001B[38;5;241m=\u001B[39m \u001B[43mcompute_efficiency_metrics\u001B[49m\u001B[43m(\u001B[49m\u001B[43mzmat\u001B[49m\u001B[43m,\u001B[49m\u001B[43m \u001B[49m\u001B[43mthreshold\u001B[49m\u001B[38;5;241;43m=\u001B[39;49m\u001B[43mthreshold\u001B[49m\u001B[43m)\u001B[49m\n\u001B[1;32m    124\u001B[0m \u001B[38;5;28;01mexcept\u001B[39;00m \u001B[38;5;167;01mException\u001B[39;00m \u001B[38;5;28;01mas\u001B[39;00m e:\n\u001B[1;32m    125\u001B[0m     \u001B[38;5;28;01mraise\u001B[39;00m \u001B[38;5;167;01mRuntimeError\u001B[39;00m(\u001B[38;5;124mf\u001B[39m\u001B[38;5;124m\"\u001B[39m\u001B[38;5;124mEfficiency failed for \u001B[39m\u001B[38;5;132;01m{\u001B[39;00msubj_id\u001B[38;5;132;01m}\u001B[39;00m\u001B[38;5;124m: \u001B[39m\u001B[38;5;132;01m{\u001B[39;00me\u001B[38;5;132;01m}\u001B[39;00m\u001B[38;5;124m\"\u001B[39m)\n",
      "Cell \u001B[0;32mIn[167], line 62\u001B[0m, in \u001B[0;36mcompute_efficiency_metrics\u001B[0;34m(symmetric_matrix, threshold, eps, renorm)\u001B[0m\n\u001B[1;32m     60\u001B[0m     \u001B[38;5;28;01mcontinue\u001B[39;00m\n\u001B[1;32m     61\u001B[0m H \u001B[38;5;241m=\u001B[39m G\u001B[38;5;241m.\u001B[39msubgraph(nbrs)\n\u001B[0;32m---> 62\u001B[0m Lsub \u001B[38;5;241m=\u001B[39m \u001B[38;5;28;43mdict\u001B[39;49m\u001B[43m(\u001B[49m\u001B[43mnx\u001B[49m\u001B[38;5;241;43m.\u001B[39;49m\u001B[43mall_pairs_dijkstra_path_length\u001B[49m\u001B[43m(\u001B[49m\u001B[43mH\u001B[49m\u001B[43m,\u001B[49m\u001B[43m \u001B[49m\u001B[43mweight\u001B[49m\u001B[38;5;241;43m=\u001B[39;49m\u001B[38;5;124;43m\"\u001B[39;49m\u001B[38;5;124;43mlength\u001B[39;49m\u001B[38;5;124;43m\"\u001B[39;49m\u001B[43m)\u001B[49m\u001B[43m)\u001B[49m\n\u001B[1;32m     64\u001B[0m \u001B[38;5;66;03m# sum over ordered pairs (u,v), u != v; normalize by k(k-1)\u001B[39;00m\n\u001B[1;32m     65\u001B[0m tot_loc \u001B[38;5;241m=\u001B[39m \u001B[38;5;241m0.0\u001B[39m\n",
      "File \u001B[0;32m~/PycharmProjects/PythonProject/.venv/lib/python3.12/site-packages/networkx/algorithms/shortest_paths/weighted.py:1083\u001B[0m, in \u001B[0;36mall_pairs_dijkstra_path_length\u001B[0;34m(G, cutoff, weight)\u001B[0m\n\u001B[1;32m   1081\u001B[0m length \u001B[38;5;241m=\u001B[39m single_source_dijkstra_path_length\n\u001B[1;32m   1082\u001B[0m \u001B[38;5;28;01mfor\u001B[39;00m n \u001B[38;5;129;01min\u001B[39;00m G:\n\u001B[0;32m-> 1083\u001B[0m     \u001B[38;5;28;01myield\u001B[39;00m (n, \u001B[43mlength\u001B[49m\u001B[43m(\u001B[49m\u001B[43mG\u001B[49m\u001B[43m,\u001B[49m\u001B[43m \u001B[49m\u001B[43mn\u001B[49m\u001B[43m,\u001B[49m\u001B[43m \u001B[49m\u001B[43mcutoff\u001B[49m\u001B[38;5;241;43m=\u001B[39;49m\u001B[43mcutoff\u001B[49m\u001B[43m,\u001B[49m\u001B[43m \u001B[49m\u001B[43mweight\u001B[49m\u001B[38;5;241;43m=\u001B[39;49m\u001B[43mweight\u001B[49m\u001B[43m)\u001B[49m)\n",
      "File \u001B[0;32m<class 'networkx.utils.decorators.argmap'> compilation 28:3\u001B[0m, in \u001B[0;36margmap_single_source_dijkstra_path_length_25\u001B[0;34m(G, source, cutoff, weight, backend, **backend_kwargs)\u001B[0m\n\u001B[1;32m      1\u001B[0m \u001B[38;5;28;01mimport\u001B[39;00m\u001B[38;5;250m \u001B[39m\u001B[38;5;21;01mbz2\u001B[39;00m\n\u001B[1;32m      2\u001B[0m \u001B[38;5;28;01mimport\u001B[39;00m\u001B[38;5;250m \u001B[39m\u001B[38;5;21;01mcollections\u001B[39;00m\n\u001B[0;32m----> 3\u001B[0m \u001B[38;5;28;01mimport\u001B[39;00m\u001B[38;5;250m \u001B[39m\u001B[38;5;21;01mgzip\u001B[39;00m\n\u001B[1;32m      4\u001B[0m \u001B[38;5;28;01mimport\u001B[39;00m\u001B[38;5;250m \u001B[39m\u001B[38;5;21;01minspect\u001B[39;00m\n\u001B[1;32m      5\u001B[0m \u001B[38;5;28;01mimport\u001B[39;00m\u001B[38;5;250m \u001B[39m\u001B[38;5;21;01mitertools\u001B[39;00m\n",
      "File \u001B[0;32m~/PycharmProjects/PythonProject/.venv/lib/python3.12/site-packages/networkx/utils/backends.py:535\u001B[0m, in \u001B[0;36m_dispatchable._call_if_no_backends_installed\u001B[0;34m(self, backend, *args, **kwargs)\u001B[0m\n\u001B[1;32m    529\u001B[0m \u001B[38;5;28;01mif\u001B[39;00m \u001B[38;5;124m\"\u001B[39m\u001B[38;5;124mnetworkx\u001B[39m\u001B[38;5;124m\"\u001B[39m \u001B[38;5;129;01mnot\u001B[39;00m \u001B[38;5;129;01min\u001B[39;00m \u001B[38;5;28mself\u001B[39m\u001B[38;5;241m.\u001B[39mbackends:\n\u001B[1;32m    530\u001B[0m     \u001B[38;5;28;01mraise\u001B[39;00m \u001B[38;5;167;01mNotImplementedError\u001B[39;00m(\n\u001B[1;32m    531\u001B[0m         \u001B[38;5;124mf\u001B[39m\u001B[38;5;124m\"\u001B[39m\u001B[38;5;124m'\u001B[39m\u001B[38;5;132;01m{\u001B[39;00m\u001B[38;5;28mself\u001B[39m\u001B[38;5;241m.\u001B[39mname\u001B[38;5;132;01m}\u001B[39;00m\u001B[38;5;124m'\u001B[39m\u001B[38;5;124m is not implemented by \u001B[39m\u001B[38;5;124m'\u001B[39m\u001B[38;5;124mnetworkx\u001B[39m\u001B[38;5;124m'\u001B[39m\u001B[38;5;124m backend. \u001B[39m\u001B[38;5;124m\"\u001B[39m\n\u001B[1;32m    532\u001B[0m         \u001B[38;5;124m\"\u001B[39m\u001B[38;5;124mThis function is included in NetworkX as an API to dispatch to \u001B[39m\u001B[38;5;124m\"\u001B[39m\n\u001B[1;32m    533\u001B[0m         \u001B[38;5;124m\"\u001B[39m\u001B[38;5;124mother backends.\u001B[39m\u001B[38;5;124m\"\u001B[39m\n\u001B[1;32m    534\u001B[0m     )\n\u001B[0;32m--> 535\u001B[0m \u001B[38;5;28;01mreturn\u001B[39;00m \u001B[38;5;28;43mself\u001B[39;49m\u001B[38;5;241;43m.\u001B[39;49m\u001B[43morig_func\u001B[49m\u001B[43m(\u001B[49m\u001B[38;5;241;43m*\u001B[39;49m\u001B[43margs\u001B[49m\u001B[43m,\u001B[49m\u001B[43m \u001B[49m\u001B[38;5;241;43m*\u001B[39;49m\u001B[38;5;241;43m*\u001B[39;49m\u001B[43mkwargs\u001B[49m\u001B[43m)\u001B[49m\n",
      "File \u001B[0;32m~/PycharmProjects/PythonProject/.venv/lib/python3.12/site-packages/networkx/algorithms/shortest_paths/weighted.py:389\u001B[0m, in \u001B[0;36msingle_source_dijkstra_path_length\u001B[0;34m(G, source, cutoff, weight)\u001B[0m\n\u001B[1;32m    320\u001B[0m \u001B[38;5;129m@nx\u001B[39m\u001B[38;5;241m.\u001B[39m_dispatchable(edge_attrs\u001B[38;5;241m=\u001B[39m\u001B[38;5;124m\"\u001B[39m\u001B[38;5;124mweight\u001B[39m\u001B[38;5;124m\"\u001B[39m)\n\u001B[1;32m    321\u001B[0m \u001B[38;5;28;01mdef\u001B[39;00m\u001B[38;5;250m \u001B[39m\u001B[38;5;21msingle_source_dijkstra_path_length\u001B[39m(G, source, cutoff\u001B[38;5;241m=\u001B[39m\u001B[38;5;28;01mNone\u001B[39;00m, weight\u001B[38;5;241m=\u001B[39m\u001B[38;5;124m\"\u001B[39m\u001B[38;5;124mweight\u001B[39m\u001B[38;5;124m\"\u001B[39m):\n\u001B[1;32m    322\u001B[0m \u001B[38;5;250m    \u001B[39m\u001B[38;5;124;03m\"\"\"Find shortest weighted path lengths in G from a source node.\u001B[39;00m\n\u001B[1;32m    323\u001B[0m \n\u001B[1;32m    324\u001B[0m \u001B[38;5;124;03m    Compute the shortest path length between source and all other\u001B[39;00m\n\u001B[0;32m   (...)\u001B[0m\n\u001B[1;32m    387\u001B[0m \n\u001B[1;32m    388\u001B[0m \u001B[38;5;124;03m    \"\"\"\u001B[39;00m\n\u001B[0;32m--> 389\u001B[0m     \u001B[38;5;28;01mreturn\u001B[39;00m \u001B[43mmulti_source_dijkstra_path_length\u001B[49m\u001B[43m(\u001B[49m\u001B[43mG\u001B[49m\u001B[43m,\u001B[49m\u001B[43m \u001B[49m\u001B[43m{\u001B[49m\u001B[43msource\u001B[49m\u001B[43m}\u001B[49m\u001B[43m,\u001B[49m\u001B[43m \u001B[49m\u001B[43mcutoff\u001B[49m\u001B[38;5;241;43m=\u001B[39;49m\u001B[43mcutoff\u001B[49m\u001B[43m,\u001B[49m\u001B[43m \u001B[49m\u001B[43mweight\u001B[49m\u001B[38;5;241;43m=\u001B[39;49m\u001B[43mweight\u001B[49m\u001B[43m)\u001B[49m\n",
      "File \u001B[0;32m<class 'networkx.utils.decorators.argmap'> compilation 32:3\u001B[0m, in \u001B[0;36margmap_multi_source_dijkstra_path_length_29\u001B[0;34m(G, sources, cutoff, weight, backend, **backend_kwargs)\u001B[0m\n\u001B[1;32m      1\u001B[0m \u001B[38;5;28;01mimport\u001B[39;00m\u001B[38;5;250m \u001B[39m\u001B[38;5;21;01mbz2\u001B[39;00m\n\u001B[1;32m      2\u001B[0m \u001B[38;5;28;01mimport\u001B[39;00m\u001B[38;5;250m \u001B[39m\u001B[38;5;21;01mcollections\u001B[39;00m\n\u001B[0;32m----> 3\u001B[0m \u001B[38;5;28;01mimport\u001B[39;00m\u001B[38;5;250m \u001B[39m\u001B[38;5;21;01mgzip\u001B[39;00m\n\u001B[1;32m      4\u001B[0m \u001B[38;5;28;01mimport\u001B[39;00m\u001B[38;5;250m \u001B[39m\u001B[38;5;21;01minspect\u001B[39;00m\n\u001B[1;32m      5\u001B[0m \u001B[38;5;28;01mimport\u001B[39;00m\u001B[38;5;250m \u001B[39m\u001B[38;5;21;01mitertools\u001B[39;00m\n",
      "File \u001B[0;32m~/PycharmProjects/PythonProject/.venv/lib/python3.12/site-packages/networkx/utils/backends.py:535\u001B[0m, in \u001B[0;36m_dispatchable._call_if_no_backends_installed\u001B[0;34m(self, backend, *args, **kwargs)\u001B[0m\n\u001B[1;32m    529\u001B[0m \u001B[38;5;28;01mif\u001B[39;00m \u001B[38;5;124m\"\u001B[39m\u001B[38;5;124mnetworkx\u001B[39m\u001B[38;5;124m\"\u001B[39m \u001B[38;5;129;01mnot\u001B[39;00m \u001B[38;5;129;01min\u001B[39;00m \u001B[38;5;28mself\u001B[39m\u001B[38;5;241m.\u001B[39mbackends:\n\u001B[1;32m    530\u001B[0m     \u001B[38;5;28;01mraise\u001B[39;00m \u001B[38;5;167;01mNotImplementedError\u001B[39;00m(\n\u001B[1;32m    531\u001B[0m         \u001B[38;5;124mf\u001B[39m\u001B[38;5;124m\"\u001B[39m\u001B[38;5;124m'\u001B[39m\u001B[38;5;132;01m{\u001B[39;00m\u001B[38;5;28mself\u001B[39m\u001B[38;5;241m.\u001B[39mname\u001B[38;5;132;01m}\u001B[39;00m\u001B[38;5;124m'\u001B[39m\u001B[38;5;124m is not implemented by \u001B[39m\u001B[38;5;124m'\u001B[39m\u001B[38;5;124mnetworkx\u001B[39m\u001B[38;5;124m'\u001B[39m\u001B[38;5;124m backend. \u001B[39m\u001B[38;5;124m\"\u001B[39m\n\u001B[1;32m    532\u001B[0m         \u001B[38;5;124m\"\u001B[39m\u001B[38;5;124mThis function is included in NetworkX as an API to dispatch to \u001B[39m\u001B[38;5;124m\"\u001B[39m\n\u001B[1;32m    533\u001B[0m         \u001B[38;5;124m\"\u001B[39m\u001B[38;5;124mother backends.\u001B[39m\u001B[38;5;124m\"\u001B[39m\n\u001B[1;32m    534\u001B[0m     )\n\u001B[0;32m--> 535\u001B[0m \u001B[38;5;28;01mreturn\u001B[39;00m \u001B[38;5;28;43mself\u001B[39;49m\u001B[38;5;241;43m.\u001B[39;49m\u001B[43morig_func\u001B[49m\u001B[43m(\u001B[49m\u001B[38;5;241;43m*\u001B[39;49m\u001B[43margs\u001B[49m\u001B[43m,\u001B[49m\u001B[43m \u001B[49m\u001B[38;5;241;43m*\u001B[39;49m\u001B[38;5;241;43m*\u001B[39;49m\u001B[43mkwargs\u001B[49m\u001B[43m)\u001B[49m\n",
      "File \u001B[0;32m~/PycharmProjects/PythonProject/.venv/lib/python3.12/site-packages/networkx/algorithms/shortest_paths/weighted.py:647\u001B[0m, in \u001B[0;36mmulti_source_dijkstra_path_length\u001B[0;34m(G, sources, cutoff, weight)\u001B[0m\n\u001B[1;32m    645\u001B[0m         \u001B[38;5;28;01mraise\u001B[39;00m nx\u001B[38;5;241m.\u001B[39mNodeNotFound(\u001B[38;5;124mf\u001B[39m\u001B[38;5;124m\"\u001B[39m\u001B[38;5;124mNode \u001B[39m\u001B[38;5;132;01m{\u001B[39;00ms\u001B[38;5;132;01m}\u001B[39;00m\u001B[38;5;124m not found in graph\u001B[39m\u001B[38;5;124m\"\u001B[39m)\n\u001B[1;32m    646\u001B[0m weight \u001B[38;5;241m=\u001B[39m _weight_function(G, weight)\n\u001B[0;32m--> 647\u001B[0m \u001B[38;5;28;01mreturn\u001B[39;00m \u001B[43m_dijkstra_multisource\u001B[49m\u001B[43m(\u001B[49m\u001B[43mG\u001B[49m\u001B[43m,\u001B[49m\u001B[43m \u001B[49m\u001B[43msources\u001B[49m\u001B[43m,\u001B[49m\u001B[43m \u001B[49m\u001B[43mweight\u001B[49m\u001B[43m,\u001B[49m\u001B[43m \u001B[49m\u001B[43mcutoff\u001B[49m\u001B[38;5;241;43m=\u001B[39;49m\u001B[43mcutoff\u001B[49m\u001B[43m)\u001B[49m\n",
      "File \u001B[0;32m~/PycharmProjects/PythonProject/.venv/lib/python3.12/site-packages/networkx/algorithms/shortest_paths/weighted.py:855\u001B[0m, in \u001B[0;36m_dijkstra_multisource\u001B[0;34m(G, sources, weight, pred, paths, cutoff, target)\u001B[0m\n\u001B[1;32m    853\u001B[0m \u001B[38;5;28;01mif\u001B[39;00m v \u001B[38;5;241m==\u001B[39m target:\n\u001B[1;32m    854\u001B[0m     \u001B[38;5;28;01mbreak\u001B[39;00m\n\u001B[0;32m--> 855\u001B[0m \u001B[43m\u001B[49m\u001B[38;5;28;43;01mfor\u001B[39;49;00m\u001B[43m \u001B[49m\u001B[43mu\u001B[49m\u001B[43m,\u001B[49m\u001B[43m \u001B[49m\u001B[43me\u001B[49m\u001B[43m \u001B[49m\u001B[38;5;129;43;01min\u001B[39;49;00m\u001B[43m \u001B[49m\u001B[43mG_succ\u001B[49m\u001B[43m[\u001B[49m\u001B[43mv\u001B[49m\u001B[43m]\u001B[49m\u001B[38;5;241;43m.\u001B[39;49m\u001B[43mitems\u001B[49m\u001B[43m(\u001B[49m\u001B[43m)\u001B[49m\u001B[43m:\u001B[49m\n\u001B[1;32m    856\u001B[0m \u001B[43m    \u001B[49m\u001B[43mcost\u001B[49m\u001B[43m \u001B[49m\u001B[38;5;241;43m=\u001B[39;49m\u001B[43m \u001B[49m\u001B[43mweight\u001B[49m\u001B[43m(\u001B[49m\u001B[43mv\u001B[49m\u001B[43m,\u001B[49m\u001B[43m \u001B[49m\u001B[43mu\u001B[49m\u001B[43m,\u001B[49m\u001B[43m \u001B[49m\u001B[43me\u001B[49m\u001B[43m)\u001B[49m\n\u001B[1;32m    857\u001B[0m \u001B[43m    \u001B[49m\u001B[38;5;28;43;01mif\u001B[39;49;00m\u001B[43m \u001B[49m\u001B[43mcost\u001B[49m\u001B[43m \u001B[49m\u001B[38;5;129;43;01mis\u001B[39;49;00m\u001B[43m \u001B[49m\u001B[38;5;28;43;01mNone\u001B[39;49;00m\u001B[43m:\u001B[49m\n",
      "File \u001B[0;32m<frozen _collections_abc>:893\u001B[0m, in \u001B[0;36m__iter__\u001B[0;34m(self)\u001B[0m\n",
      "File \u001B[0;32m~/PycharmProjects/PythonProject/.venv/lib/python3.12/site-packages/networkx/classes/coreviews.py:300\u001B[0m, in \u001B[0;36m<genexpr>\u001B[0;34m(.0)\u001B[0m\n\u001B[1;32m    298\u001B[0m \u001B[38;5;28;01mif\u001B[39;00m node_ok_shorter:\n\u001B[1;32m    299\u001B[0m     \u001B[38;5;28;01mreturn\u001B[39;00m (n \u001B[38;5;28;01mfor\u001B[39;00m n \u001B[38;5;129;01min\u001B[39;00m \u001B[38;5;28mself\u001B[39m\u001B[38;5;241m.\u001B[39mNODE_OK\u001B[38;5;241m.\u001B[39mnodes \u001B[38;5;28;01mif\u001B[39;00m n \u001B[38;5;129;01min\u001B[39;00m \u001B[38;5;28mself\u001B[39m\u001B[38;5;241m.\u001B[39m_atlas)\n\u001B[0;32m--> 300\u001B[0m \u001B[38;5;28;01mreturn\u001B[39;00m (n \u001B[38;5;28;01mfor\u001B[39;00m n \u001B[38;5;129;01min\u001B[39;00m \u001B[38;5;28mself\u001B[39m\u001B[38;5;241m.\u001B[39m_atlas \u001B[38;5;28;01mif\u001B[39;00m \u001B[38;5;28;43mself\u001B[39;49m\u001B[38;5;241;43m.\u001B[39;49m\u001B[43mNODE_OK\u001B[49m\u001B[43m(\u001B[49m\u001B[43mn\u001B[49m\u001B[43m)\u001B[49m)\n",
      "File \u001B[0;32m~/PycharmProjects/PythonProject/.venv/lib/python3.12/site-packages/networkx/classes/coreviews.py:355\u001B[0m, in \u001B[0;36mFilterAdjacency.__getitem__.<locals>.new_node_ok\u001B[0;34m(nbr)\u001B[0m\n\u001B[1;32m    354\u001B[0m \u001B[38;5;28;01mdef\u001B[39;00m\u001B[38;5;250m \u001B[39m\u001B[38;5;21mnew_node_ok\u001B[39m(nbr):\n\u001B[0;32m--> 355\u001B[0m     \u001B[38;5;28;01mreturn\u001B[39;00m \u001B[38;5;28;43mself\u001B[39;49m\u001B[38;5;241;43m.\u001B[39;49m\u001B[43mNODE_OK\u001B[49m\u001B[43m(\u001B[49m\u001B[43mnbr\u001B[49m\u001B[43m)\u001B[49m \u001B[38;5;129;01mand\u001B[39;00m \u001B[38;5;28mself\u001B[39m\u001B[38;5;241m.\u001B[39mEDGE_OK(node, nbr)\n",
      "File \u001B[0;32m~/PycharmProjects/PythonProject/.venv/lib/python3.12/site-packages/networkx/classes/filters.py:70\u001B[0m, in \u001B[0;36mshow_nodes.__call__\u001B[0;34m(self, node)\u001B[0m\n\u001B[1;32m     67\u001B[0m \u001B[38;5;28;01mdef\u001B[39;00m\u001B[38;5;250m \u001B[39m\u001B[38;5;21m__init__\u001B[39m(\u001B[38;5;28mself\u001B[39m, nodes):\n\u001B[1;32m     68\u001B[0m     \u001B[38;5;28mself\u001B[39m\u001B[38;5;241m.\u001B[39mnodes \u001B[38;5;241m=\u001B[39m \u001B[38;5;28mset\u001B[39m(nodes)\n\u001B[0;32m---> 70\u001B[0m \u001B[38;5;28;01mdef\u001B[39;00m\u001B[38;5;250m \u001B[39m\u001B[38;5;21m__call__\u001B[39m(\u001B[38;5;28mself\u001B[39m, node):\n\u001B[1;32m     71\u001B[0m     \u001B[38;5;28;01mreturn\u001B[39;00m node \u001B[38;5;129;01min\u001B[39;00m \u001B[38;5;28mself\u001B[39m\u001B[38;5;241m.\u001B[39mnodes\n",
      "\u001B[0;31mKeyboardInterrupt\u001B[0m: "
     ]
    }
   ],
   "execution_count": 170
  },
  {
   "metadata": {},
   "cell_type": "code",
   "outputs": [],
   "execution_count": null,
   "source": [
    "results_no_network, models_no_network = run_cross_validation(efficiency_followup, y_followup,\n",
    "                                                             use_network=False)\n",
    "print_cross_val_results(results_no_network)\n",
    "\n",
    "features_efficiency_followup = combine_data(article_features_followup, efficiency_followup)\n",
    "results_no_network, models_no_network = run_cross_validation(features_efficiency_followup, y_followup,\n",
    "                                                             use_network=False)\n",
    "print_cross_val_results(results_no_network)\n",
    "\n",
    "features_ses_efficiency_followup = combine_data(features_efficiency_followup, ses_followup)\n",
    "results_no_network, models_no_network = run_cross_validation(features_ses_efficiency_followup, y_followup,\n",
    "                                                             use_network=False)\n",
    "print_cross_val_results(results_no_network)"
   ],
   "id": "a00974c08ddc27f5"
  },
  {
   "metadata": {},
   "cell_type": "markdown",
   "source": "## Two time poins data",
   "id": "f2038a0ce6aad2ee"
  },
  {
   "metadata": {},
   "cell_type": "markdown",
   "source": [
    "### Summary table 4:\n",
    "PCs [5, 10, 25, 50, 100] or 5 if only one value\n",
    "| Description                  | Pearson's correlation | Partial $\\eta^2$ | Coefficient of Determination |\n",
    "|------------------------------|-----------------------|------------------|------------------------------|\n",
    "| Baseline features + PCs      | 0.381/0.373/0.364/ 0.360 / 0.371  | 0.055/ 0.053/ 0.048/ 0.045 / 0.041    | 0.055 /0.053/ 0.048/ 0.045 / 0.041                |\n",
    "| Baseline features only       | 0.385                 | 0.057            | 0.057                        |\n",
    "| Baseline SES only            | 0.349                 | 0.095            | 0.095                        |\n",
    "| Baseline SES + PCs           | 0.348                 | 0.094            | 0.094                         |\n",
    "| Baseline features + SES      | 0.476                 | 0.188            | 0.188                        |\n",
    "| Baseline features+ SES + PCs | 0.474/0.472/0.466/ 0.464 / 0.458 | 0.187/0.184/0.178/0.177 / 0.174    | 0.187/0.184 /0.178/0.177 / 0.174|\n",
    "| Followup features + PCs      | 0.317/0.312/0.309/ 0.298 / 0.284         | 0.012/0.010/0.008/-0.001 /-0.013  |0.012/0.010/0.008/-0.001 /-0.013 |\n",
    "| Followup features only       | 0.320                 | 0.015            | 0.015                        |\n",
    "| Followup SES only            | 0.387                 | 0.120            | 0.120                        |\n",
    "| Followup SES + PCs           | 0.385        | 0.118    |0.118             |\n",
    "| Followup features + SES      | 0.446                 | 0.165            | 0.165                        |\n",
    "| Followup features+ SES + PCs | 0.444/0.441/ 0.437/0.429 / 0.423         | 0.162/0.160/0.157/0.147 / 0.140    | 0.162/0.160/0.157/0.147 / 0.140         |"
   ],
   "id": "21c4c98ab4f10a6a"
  },
  {
   "metadata": {
    "ExecuteTime": {
     "end_time": "2025-09-09T20:10:13.871121Z",
     "start_time": "2025-09-09T20:08:59.573625Z"
    }
   },
   "cell_type": "code",
   "source": [
    "segregation_baseline = compute_one_statistic(\n",
    "    df_features=features_0_aligned,\n",
    "    df_network=networks_aligned_baseline_df,\n",
    "    community_sizes=community_sizes,\n",
    "    net_order=net_order,\n",
    "    mode=\"segregation\",\n",
    "    stat_name=\"segregation\"\n",
    ")"
   ],
   "id": "2e0f17ad46f11cec",
   "outputs": [
    {
     "name": "stderr",
     "output_type": "stream",
     "text": [
      "100%|██████████| 2478/2478 [01:11<00:00, 34.53it/s]\n"
     ]
    }
   ],
   "execution_count": 62
  },
  {
   "metadata": {
    "ExecuteTime": {
     "end_time": "2025-09-09T23:37:27.927772Z",
     "start_time": "2025-09-09T23:37:27.841868Z"
    }
   },
   "cell_type": "code",
   "source": [
    "features_ses_segregation_baseline = combine_data(combined_baseline_2, segregation_baseline)\n",
    "results_no_network, models_no_network = run_cross_validation(features_ses_segregation_baseline, y_baseline_2,\n",
    "                                                             use_network=False)\n",
    "print_cross_val_results(results_no_network)"
   ],
   "id": "1fdf146b33d9462a",
   "outputs": [
    {
     "name": "stdout",
     "output_type": "stream",
     "text": [
      "Cross-validated Performance Metrics:\n",
      "Average Pearson's r: 0.467\n",
      "Partial eta squared: 0.180\n",
      "R²: 0.180\n"
     ]
    }
   ],
   "execution_count": 108
  },
  {
   "metadata": {
    "ExecuteTime": {
     "end_time": "2025-09-09T23:39:13.648418Z",
     "start_time": "2025-09-09T23:39:12.944178Z"
    }
   },
   "cell_type": "code",
   "source": [
    "# Get segregation feature names (excluding metadata columns)\n",
    "segregation_features = [col for col in segregation_baseline.columns\n",
    "                          if col not in ['Subject', 'site_id_l']]\n",
    "\n",
    "# Initialize results storage\n",
    "#results = []\n",
    "\n",
    "# Test individual features first\n",
    "print(\"Testing individual features...\")\n",
    "for feature in tqdm(segregation_features):\n",
    "    # Create enhanced feature set\n",
    "    X_enhanced = combined_baseline_2.merge(\n",
    "            segregation_baseline[['Subject', 'site_id_l', feature]],\n",
    "            on=['Subject', 'site_id_l'],\n",
    "            how='left'\n",
    "    )\n",
    "    results_no_network, models_no_network = run_cross_validation(X_enhanced, y_baseline_2,\n",
    "                                                             use_network=False)\n",
    "    print_cross_val_results(results_no_network)\n"
   ],
   "id": "519a9da08cbaed68",
   "outputs": [
    {
     "name": "stdout",
     "output_type": "stream",
     "text": [
      "Testing individual features...\n"
     ]
    },
    {
     "name": "stderr",
     "output_type": "stream",
     "text": [
      " 13%|█▎        | 2/15 [00:00<00:00, 19.12it/s]"
     ]
    },
    {
     "name": "stdout",
     "output_type": "stream",
     "text": [
      "Cross-validated Performance Metrics:\n",
      "Average Pearson's r: 0.475\n",
      "Partial eta squared: 0.187\n",
      "R²: 0.187\n",
      "Cross-validated Performance Metrics:\n",
      "Average Pearson's r: 0.475\n",
      "Partial eta squared: 0.187\n",
      "R²: 0.187\n",
      "Cross-validated Performance Metrics:\n",
      "Average Pearson's r: 0.477\n",
      "Partial eta squared: 0.190\n",
      "R²: 0.190\n",
      "Cross-validated Performance Metrics:\n",
      "Average Pearson's r: 0.475\n",
      "Partial eta squared: 0.187\n",
      "R²: 0.187\n"
     ]
    },
    {
     "name": "stderr",
     "output_type": "stream",
     "text": [
      " 33%|███▎      | 5/15 [00:00<00:00, 21.22it/s]"
     ]
    },
    {
     "name": "stdout",
     "output_type": "stream",
     "text": [
      "Cross-validated Performance Metrics:\n",
      "Average Pearson's r: 0.475\n",
      "Partial eta squared: 0.187\n",
      "R²: 0.187\n"
     ]
    },
    {
     "name": "stderr",
     "output_type": "stream",
     "text": [
      " 53%|█████▎    | 8/15 [00:00<00:00, 21.57it/s]"
     ]
    },
    {
     "name": "stdout",
     "output_type": "stream",
     "text": [
      "Cross-validated Performance Metrics:\n",
      "Average Pearson's r: 0.476\n",
      "Partial eta squared: 0.188\n",
      "R²: 0.188\n",
      "Cross-validated Performance Metrics:\n",
      "Average Pearson's r: 0.476\n",
      "Partial eta squared: 0.188\n",
      "R²: 0.188\n",
      "Cross-validated Performance Metrics:\n",
      "Average Pearson's r: 0.475\n",
      "Partial eta squared: 0.188\n",
      "R²: 0.188\n",
      "Cross-validated Performance Metrics:\n",
      "Average Pearson's r: 0.475\n",
      "Partial eta squared: 0.188\n",
      "R²: 0.188\n",
      "Cross-validated Performance Metrics:\n",
      "Average Pearson's r: 0.475\n",
      "Partial eta squared: 0.188\n",
      "R²: 0.188\n"
     ]
    },
    {
     "name": "stderr",
     "output_type": "stream",
     "text": [
      " 93%|█████████▎| 14/15 [00:00<00:00, 22.23it/s]"
     ]
    },
    {
     "name": "stdout",
     "output_type": "stream",
     "text": [
      "Cross-validated Performance Metrics:\n",
      "Average Pearson's r: 0.475\n",
      "Partial eta squared: 0.188\n",
      "R²: 0.188\n",
      "Cross-validated Performance Metrics:\n",
      "Average Pearson's r: 0.476\n",
      "Partial eta squared: 0.189\n",
      "R²: 0.189\n",
      "Cross-validated Performance Metrics:\n",
      "Average Pearson's r: 0.475\n",
      "Partial eta squared: 0.187\n",
      "R²: 0.187\n",
      "Cross-validated Performance Metrics:\n",
      "Average Pearson's r: 0.475\n",
      "Partial eta squared: 0.188\n",
      "R²: 0.188\n"
     ]
    },
    {
     "name": "stderr",
     "output_type": "stream",
     "text": [
      "100%|██████████| 15/15 [00:00<00:00, 21.66it/s]"
     ]
    },
    {
     "name": "stdout",
     "output_type": "stream",
     "text": [
      "Cross-validated Performance Metrics:\n",
      "Average Pearson's r: 0.475\n",
      "Partial eta squared: 0.186\n",
      "R²: 0.186\n"
     ]
    },
    {
     "name": "stderr",
     "output_type": "stream",
     "text": [
      "\n"
     ]
    }
   ],
   "execution_count": 110
  },
  {
   "metadata": {
    "ExecuteTime": {
     "end_time": "2025-09-09T23:41:06.480176Z",
     "start_time": "2025-09-09T23:41:06.464727Z"
    }
   },
   "cell_type": "code",
   "source": [
    "from sklearn.model_selection import LeaveOneGroupOut\n",
    "\n",
    "from sklearn.metrics import mean_squared_error, r2_score\n",
    "from scipy.stats import pearsonr\n",
    "import itertools\n",
    "\n",
    "def partial_eta_squared(y_true, y_pred):\n",
    "    sse = np.sum((y_true - y_pred) ** 2)\n",
    "    sst = np.sum((y_true - np.mean(y_true)) ** 2)\n",
    "    return 1 - (sse / sst) if sst != 0 else 0\n",
    "\n",
    "def evaluate_feature_subsets(X_features, y, segregation_df, max_features=5):\n",
    "    \"\"\"\n",
    "    Evaluate different subsets of segregation features to find the optimal combination.\n",
    "\n",
    "    Args:\n",
    "        X_features: DataFrame with main features including 'Subject' and 'site_id_l'\n",
    "        y: Target variable\n",
    "        segregation_df: DataFrame with segregation features for each network\n",
    "        max_features: Maximum number of features to consider in combinations\n",
    "\n",
    "    Returns:\n",
    "        DataFrame with performance results for each feature subset\n",
    "    \"\"\"\n",
    "    # Get segregation feature names (excluding metadata columns)\n",
    "    segregation_features = [col for col in segregation_df.columns\n",
    "                          if col not in ['Subject', 'site_id_l']]\n",
    "\n",
    "    # Initialize results storage\n",
    "    results = []\n",
    "\n",
    "    # Test individual features first\n",
    "    print(\"Testing individual features...\")\n",
    "    for feature in tqdm(segregation_features):\n",
    "        # Create enhanced feature set\n",
    "        X_enhanced = X_features.merge(\n",
    "            segregation_df[['Subject', 'site_id_l', feature]],\n",
    "            on=['Subject', 'site_id_l'],\n",
    "            how='left'\n",
    "        )\n",
    "\n",
    "        # Run cross-validation\n",
    "        cv_results, _ = run_cross_validation(X_enhanced, y, use_network=False)\n",
    "        avg_metrics = calculate_average_metrics(cv_results)\n",
    "\n",
    "        results.append({\n",
    "            'features': feature,\n",
    "            'num_features': 1,\n",
    "            'pearson_r': avg_metrics['Mean Pearson r'],\n",
    "            'r2': avg_metrics['Mean R²'],\n",
    "            'mse': avg_metrics['Mean MSE']\n",
    "        })\n",
    "\n",
    "    # Test combinations of features\n",
    "    print(\"Testing feature combinations...\")\n",
    "    for n_features in range(2, min(max_features + 1, len(segregation_features) + 1)):\n",
    "        # Generate all combinations of n features\n",
    "        for feature_combo in tqdm(itertools.combinations(segregation_features, n_features)):\n",
    "            # Create enhanced feature set\n",
    "            X_enhanced = X_features.merge(\n",
    "                segregation_df[['Subject', 'site_id_l'] + list(feature_combo)],\n",
    "                on=['Subject', 'site_id_l'],\n",
    "                how='left'\n",
    "            )\n",
    "\n",
    "            # Run cross-validation\n",
    "            cv_results, _ = run_cross_validation(X_enhanced, y, use_network=False)\n",
    "            avg_metrics = calculate_average_metrics(cv_results)\n",
    "\n",
    "            results.append({\n",
    "                'features': ','.join(feature_combo),\n",
    "                'num_features': n_features,\n",
    "                'pearson_r': avg_metrics['Mean Pearson r'],\n",
    "                'r2': avg_metrics['Mean R²'],\n",
    "                'mse': avg_metrics['Mean MSE']\n",
    "            })\n",
    "\n",
    "    return pd.DataFrame(results)\n",
    "\n",
    "def calculate_average_metrics(results_list):\n",
    "    \"\"\"Calculate average metrics from a list of result dictionaries.\"\"\"\n",
    "    return {\n",
    "        'Mean Pearson r': np.mean([r['pearson_r'] for r in results_list]),\n",
    "        'Mean R²': np.mean([r['r2'] for r in results_list]),\n",
    "        'Mean MSE': np.mean([r['mse'] for r in results_list])\n",
    "    }\n",
    "\n",
    "def run_cross_validation(X_features, y, use_network=False, X_network=None):\n",
    "    \"\"\"\n",
    "    Run cross-validation with or without network data.\n",
    "    This is similar to your existing function but simplified for this use case.\n",
    "    \"\"\"\n",
    "    logo = LeaveOneGroupOut()\n",
    "    results = []\n",
    "    trained_models = []\n",
    "\n",
    "    groups = X_features['site_id_l']\n",
    "\n",
    "    for train_idx, test_idx in logo.split(X_features, y, groups=groups):\n",
    "        # Drop non-feature columns\n",
    "        non_feature_cols = ['site_id_l', 'Subject']\n",
    "        X_train = X_features.iloc[train_idx].drop(columns=non_feature_cols)\n",
    "        X_test = X_features.iloc[test_idx].drop(columns=non_feature_cols)\n",
    "        y_train = y.iloc[train_idx]\n",
    "        y_test = y.iloc[test_idx]\n",
    "\n",
    "        # Train model\n",
    "        model = LinearRegression()\n",
    "        model.fit(X_train, y_train)\n",
    "        y_pred = model.predict(X_test)\n",
    "\n",
    "        # Calculate metrics\n",
    "        r, p = pearsonr(y_test, y_pred)\n",
    "        eta = partial_eta_squared(y_test, y_pred)\n",
    "        mse = mean_squared_error(y_test, y_pred)\n",
    "        r2 = r2_score(y_test, y_pred)\n",
    "\n",
    "        results.append({\n",
    "            'pearson_r': r,\n",
    "            'pearson_p': p,\n",
    "            'partial_eta_squared': eta,\n",
    "            'mse': mse,\n",
    "            'r2': r2,\n",
    "            'n_train': len(X_train),\n",
    "            'n_test': len(X_test)\n",
    "        })\n",
    "\n",
    "        trained_models.append(model)\n",
    "\n",
    "    return results, trained_models\n"
   ],
   "id": "f81c7e86a6b71113",
   "outputs": [],
   "execution_count": 111
  },
  {
   "metadata": {
    "ExecuteTime": {
     "end_time": "2025-09-09T23:42:33.028006Z",
     "start_time": "2025-09-09T23:42:02.713094Z"
    }
   },
   "cell_type": "code",
   "source": "results_df = evaluate_feature_subsets(combined_baseline_2, y_baseline_2, segregation_baseline, max_features=3)",
   "id": "a640a02fc2fd3f05",
   "outputs": [
    {
     "name": "stdout",
     "output_type": "stream",
     "text": [
      "Testing individual features...\n"
     ]
    },
    {
     "name": "stderr",
     "output_type": "stream",
     "text": [
      "100%|██████████| 15/15 [00:00<00:00, 19.12it/s]\n"
     ]
    },
    {
     "name": "stdout",
     "output_type": "stream",
     "text": [
      "Testing feature combinations...\n"
     ]
    },
    {
     "name": "stderr",
     "output_type": "stream",
     "text": [
      "105it [00:05, 18.94it/s]\n",
      "455it [00:23, 18.97it/s]\n"
     ]
    }
   ],
   "execution_count": 112
  },
  {
   "metadata": {
    "ExecuteTime": {
     "end_time": "2025-09-09T23:46:02.031623Z",
     "start_time": "2025-09-09T23:46:02.024026Z"
    }
   },
   "cell_type": "code",
   "source": [
    "import matplotlib.pyplot as plt\n",
    "import seaborn as sns\n",
    "\n",
    "def visualize_feature_selection_results(results_df):\n",
    "    \"\"\"Visualize the results of feature selection experiments.\"\"\"\n",
    "\n",
    "    # Plot performance vs. number of features\n",
    "    plt.figure(figsize=(10, 6))\n",
    "    sns.lineplot(data=results_df, x='num_features', y='r2', estimator='mean', errorbar='sd')\n",
    "    plt.title('Model Performance vs. Number of Segregation Features')\n",
    "    plt.xlabel('Number of Features')\n",
    "    plt.ylabel('R²')\n",
    "    plt.show()\n",
    "\n",
    "    # Find the best performing feature set\n",
    "    best_result = results_df.loc[results_df['r2'].idxmax()]\n",
    "    print(f\"Best feature set: {best_result['features']}\")\n",
    "    print(f\"Best R²: {best_result['r2']:.4f}\")\n",
    "\n",
    "    # Plot performance of individual features\n",
    "    individual_features = results_df[results_df['num_features'] == 1]\n",
    "    individual_features = individual_features.sort_values('r2', ascending=False)\n",
    "\n",
    "    plt.figure(figsize=(12, 6))\n",
    "    sns.barplot(data=individual_features, x='features', y='r2')\n",
    "    plt.title('Performance of Individual Segregation Features')\n",
    "    plt.xlabel('Feature')\n",
    "    plt.ylabel('R²')\n",
    "    plt.xticks(rotation=45)\n",
    "    plt.tight_layout()\n",
    "    plt.show()\n",
    "\n",
    "    return best_result"
   ],
   "id": "79d4165ec81ea06a",
   "outputs": [],
   "execution_count": 115
  },
  {
   "metadata": {
    "ExecuteTime": {
     "end_time": "2025-09-09T23:46:16.995104Z",
     "start_time": "2025-09-09T23:46:16.684284Z"
    }
   },
   "cell_type": "code",
   "source": "best_features = visualize_feature_selection_results(results_df)",
   "id": "84271080ee466717",
   "outputs": [
    {
     "data": {
      "text/plain": [
       "<Figure size 1000x600 with 1 Axes>"
      ],
      "image/png": "[encoded data removed]"
     },
     "metadata": {},
     "output_type": "display_data"
    },
    {
     "name": "stdout",
     "output_type": "stream",
     "text": [
      "Best feature set: segregation[3.0],segregation[7.0],segregation[13.0]\n",
      "Best R²: 0.1898\n"
     ]
    },
    {
     "data": {
      "text/plain": [
       "<Figure size 1200x600 with 1 Axes>"
      ],
      "image/png": "[encoded data removed]"
     },
     "metadata": {},
     "output_type": "display_data"
    }
   ],
   "execution_count": 116
  },
  {
   "metadata": {
    "ExecuteTime": {
     "end_time": "2025-09-09T23:51:37.635500Z",
     "start_time": "2025-09-09T23:51:37.632967Z"
    }
   },
   "cell_type": "code",
   "source": "best_segregation_set = segregation_baseline[['segregation[3.0]','segregation[7.0]','segregation[13.0]']]",
   "id": "90d69fd1031fdaeb",
   "outputs": [],
   "execution_count": 118
  },
  {
   "metadata": {
    "ExecuteTime": {
     "end_time": "2025-09-09T23:51:38.685021Z",
     "start_time": "2025-09-09T23:51:38.616021Z"
    }
   },
   "cell_type": "code",
   "source": [
    "features_ses_segregation_baseline = combine_data(combined_baseline_2, best_segregation_set)\n",
    "results_no_network, models_no_network = run_cross_validation(features_ses_segregation_baseline, y_baseline_2,\n",
    "                                                             use_network=False)\n",
    "print_cross_val_results(results_no_network)"
   ],
   "id": "fc6a531500bfa72b",
   "outputs": [
    {
     "name": "stdout",
     "output_type": "stream",
     "text": [
      "Cross-validated Performance Metrics:\n",
      "Average Pearson's r: 0.477\n",
      "Partial eta squared: 0.190\n",
      "R²: 0.190\n"
     ]
    }
   ],
   "execution_count": 119
  },
  {
   "metadata": {
    "ExecuteTime": {
     "end_time": "2025-09-09T23:56:33.966859Z",
     "start_time": "2025-09-09T23:56:33.963798Z"
    }
   },
   "cell_type": "code",
   "source": [
    "# Test 1: Observations + SES vs Observations + SES + Segregation best set\n",
    "test1 = f_test_r2(\n",
    "    r2_reduced=0.188,\n",
    "    r2_full=0.190,\n",
    "    n=combined_baseline_2.shape[0],\n",
    "    p_reduced=combined_baseline_2.shape[1] - 1,\n",
    "    p_full=combined_baseline_2.shape[1] + 2,\n",
    ")\n",
    "print(f\"Test 1 (Obs vs Obs+SES): F={test1['f_statistic']:.4f}, p={test1['p_value']:.4e}\")\n",
    "if test1['p_value'] < 0.05:\n",
    "    print(f\"The full model provides a statistically significant improvement over the reduced model.\")\n",
    "else:\n",
    "    print(\"There is not enough evidence\")"
   ],
   "id": "3f7d707125aa1769",
   "outputs": [
    {
     "name": "stdout",
     "output_type": "stream",
     "text": [
      "Test 1 (Obs vs Obs+SES): F=2.0255, p=1.0824e-01\n",
      "There is not enough evidence\n"
     ]
    }
   ],
   "execution_count": 122
  },
  {
   "metadata": {
    "ExecuteTime": {
     "end_time": "2025-09-09T23:58:55.116087Z",
     "start_time": "2025-09-09T23:57:41.479869Z"
    }
   },
   "cell_type": "code",
   "source": [
    "segregation_followup = compute_one_statistic(\n",
    "    df_features=features_1_aligned,\n",
    "    df_network=networks_aligned_followup_df,\n",
    "    community_sizes=community_sizes,\n",
    "    net_order=net_order,\n",
    "    mode=\"segregation\",\n",
    "    stat_name=\"segregation\"\n",
    ")"
   ],
   "id": "d7c2c78188351780",
   "outputs": [
    {
     "name": "stderr",
     "output_type": "stream",
     "text": [
      "100%|██████████| 2478/2478 [01:09<00:00, 35.90it/s]\n"
     ]
    }
   ],
   "execution_count": 123
  },
  {
   "metadata": {
    "ExecuteTime": {
     "end_time": "2025-09-09T23:59:52.360270Z",
     "start_time": "2025-09-09T23:59:52.274991Z"
    }
   },
   "cell_type": "code",
   "source": [
    "features_ses_segregation_followup = combine_data(combined_followup_2, segregation_followup)\n",
    "results_no_network, models_no_network = run_cross_validation(features_ses_segregation_followup, y_followup_2,\n",
    "                                                             use_network=False)\n",
    "print_cross_val_results(results_no_network)"
   ],
   "id": "26581e5171acba79",
   "outputs": [
    {
     "name": "stdout",
     "output_type": "stream",
     "text": [
      "Cross-validated Performance Metrics:\n",
      "Average Pearson's r: 0.443\n",
      "Partial eta squared: 0.162\n",
      "R²: 0.162\n"
     ]
    }
   ],
   "execution_count": 124
  },
  {
   "metadata": {
    "ExecuteTime": {
     "end_time": "2025-09-10T00:02:05.532226Z",
     "start_time": "2025-09-10T00:01:36.083508Z"
    }
   },
   "cell_type": "code",
   "source": "results_df = evaluate_feature_subsets(combined_followup_2, y_followup_2, segregation_followup, max_features=3)",
   "id": "1c5af0c96fdb186c",
   "outputs": [
    {
     "name": "stdout",
     "output_type": "stream",
     "text": [
      "Testing individual features...\n"
     ]
    },
    {
     "name": "stderr",
     "output_type": "stream",
     "text": [
      "100%|██████████| 15/15 [00:00<00:00, 20.20it/s]\n"
     ]
    },
    {
     "name": "stdout",
     "output_type": "stream",
     "text": [
      "Testing feature combinations...\n"
     ]
    },
    {
     "name": "stderr",
     "output_type": "stream",
     "text": [
      "105it [00:05, 20.21it/s]\n",
      "455it [00:23, 19.36it/s]\n"
     ]
    }
   ],
   "execution_count": 125
  },
  {
   "metadata": {
    "ExecuteTime": {
     "end_time": "2025-09-10T00:02:12.794373Z",
     "start_time": "2025-09-10T00:02:12.631590Z"
    }
   },
   "cell_type": "code",
   "source": "visualize_feature_selection_results(results_df)",
   "id": "69bfc168eb1ff43d",
   "outputs": [
    {
     "data": {
      "text/plain": [
       "<Figure size 1000x600 with 1 Axes>"
      ],
      "image/png": "[encoded data removed]"
     },
     "metadata": {},
     "output_type": "display_data"
    },
    {
     "name": "stdout",
     "output_type": "stream",
     "text": [
      "Best feature set: segregation[3.0],segregation[10.0],segregation[11.0]\n",
      "Best R²: 0.1677\n"
     ]
    },
    {
     "data": {
      "text/plain": [
       "<Figure size 1200x600 with 1 Axes>"
      ],
      "image/png": "[encoded data removed]"
     },
     "metadata": {},
     "output_type": "display_data"
    },
    {
     "data": {
      "text/plain": [
       "features        segregation[3.0],segregation[10.0],segregation...\n",
       "num_features                                                    3\n",
       "pearson_r                                                0.447961\n",
       "r2                                                       0.167662\n",
       "mse                                                      0.467685\n",
       "Name: 334, dtype: object"
      ]
     },
     "execution_count": 126,
     "metadata": {},
     "output_type": "execute_result"
    }
   ],
   "execution_count": 126
  },
  {
   "metadata": {
    "ExecuteTime": {
     "end_time": "2025-09-10T00:22:55.026382Z",
     "start_time": "2025-09-10T00:22:55.016758Z"
    }
   },
   "cell_type": "code",
   "source": "best_segregation_set = segregation_followup[['segregation[3.0]', 'segregation[10.0]', 'segregation[11.0]']]",
   "id": "691698c9aba0c42d",
   "outputs": [],
   "execution_count": 129
  },
  {
   "metadata": {
    "ExecuteTime": {
     "end_time": "2025-09-10T00:23:03.123942Z",
     "start_time": "2025-09-10T00:23:03.059650Z"
    }
   },
   "cell_type": "code",
   "source": [
    "features_ses_segregation_followup = combine_data(combined_followup_2, best_segregation_set)\n",
    "results_no_network, models_no_network = run_cross_validation(features_ses_segregation_followup, y_followup_2,\n",
    "                                                             use_network=False)\n",
    "print_cross_val_results(results_no_network)"
   ],
   "id": "4c497e66486b51e9",
   "outputs": [
    {
     "name": "stdout",
     "output_type": "stream",
     "text": [
      "Cross-validated Performance Metrics:\n",
      "Average Pearson's r: 0.448\n",
      "Partial eta squared: 0.168\n",
      "R²: 0.168\n"
     ]
    }
   ],
   "execution_count": 130
  },
  {
   "metadata": {},
   "cell_type": "code",
   "outputs": [],
   "execution_count": null,
   "source": "",
   "id": "d0ef575fd79baf55"
  }
 ],
 "metadata": {
  "kernelspec": {
   "display_name": "Python 3",
   "language": "python",
   "name": "python3"
  },
  "language_info": {
   "codemirror_mode": {
    "name": "ipython",
    "version": 2
   },
   "file_extension": ".py",
   "mimetype": "text/x-python",
   "name": "python",
   "nbconvert_exporter": "python",
   "pygments_lexer": "ipython2",
   "version": "2.7.6"
  }
 },
 "nbformat": 4,
 "nbformat_minor": 5
}
