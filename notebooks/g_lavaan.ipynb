{
 "cells": [
  {
   "metadata": {
    "ExecuteTime": {
     "end_time": "2025-09-20T21:07:17.191452Z",
     "start_time": "2025-09-20T21:07:16.861225Z"
    }
   },
   "cell_type": "code",
   "source": [
    "import pandas as pd\n",
    "import numpy as np\n",
    "from pathlib import Path"
   ],
   "id": "50419e18549085d3",
   "outputs": [],
   "execution_count": 1
  },
  {
   "metadata": {},
   "cell_type": "markdown",
   "source": [
    "# Methodological replication of the \"Brain-wide functional connectivity patterns support general cognitive ability and mediate effects of socioeconomic status in youth\"\n",
    "https://pmc.ncbi.nlm.nih.gov/articles/PMC8575890/"
   ],
   "id": "17313f26c820a948"
  },
  {
   "metadata": {},
   "cell_type": "markdown",
   "source": [
    "Can not find this exact release data version, so the full replication of the study is not possible. We can move on to the methodological replication. We will test the generalizability of the method across data versions and cohorts.\n",
    "The original study used ABCD Release 2.0.1. Our analysis uses most recent release due to availability. Notable differences between these releases include initial number of subjects and the number of cohorts. Therefore, a direct replication is not possible."
   ],
   "id": "29218c4ad0c7ca32"
  },
  {
   "metadata": {},
   "cell_type": "markdown",
   "source": [
    "## Question 1:\n",
    "When we apply the authors' exact method to a different iteration of the ABCD dataset, do we get a similar result?"
   ],
   "id": "23e90f45fa6123af"
  },
  {
   "metadata": {},
   "cell_type": "markdown",
   "source": [
    "### Data Source and Sample:\n",
    "\n",
    "* Original Paper's Data: ABCD Release 2.0.1\n",
    "* New Sample Size: 13274 (total number of observations), 11535 (with g_score), 7674 (baseline cohort), 5600 (followup cohort)"
   ],
   "id": "6db820b67dc74312"
  },
  {
   "metadata": {
    "ExecuteTime": {
     "end_time": "2025-09-20T21:16:18.563182Z",
     "start_time": "2025-09-20T21:16:14.730824Z"
    }
   },
   "cell_type": "code",
   "source": [
    "# Define paths\n",
    "version_B_dir = Path(\"data/processed/version_B\")\n",
    "\n",
    "# Load features\n",
    "features_B_baseline = pd.read_csv(version_B_dir / \"features_baseline.csv\")\n",
    "features_B_followup = pd.read_csv(version_B_dir / \"features_followup.csv\")\n",
    "\n",
    "# Load connectomes\n",
    "conn_B_baseline = np.load(version_B_dir / \"connectomes_baseline.npy\")\n",
    "conn_B_followup = np.load(version_B_dir / \"connectomes_followup.npy\")\n",
    "\n",
    "# Load subjects (separate for baseline/followup)\n",
    "subs_B_baseline = pd.read_csv(version_B_dir / \"subjects_baseline.csv\")[\"Subject\"].tolist()\n",
    "subs_B_followup = pd.read_csv(version_B_dir / \"subjects_followup.csv\")[\"Subject\"].tolist()\n",
    "\n",
    "print(\"Version B\")\n",
    "print(\"Baseline features:\", features_B_baseline.shape)\n",
    "print(\"Followup features:\", features_B_followup.shape)\n",
    "print(\"Baseline connectomes:\", conn_B_baseline.shape)\n",
    "print(\"Followup connectomes:\", conn_B_followup.shape)\n",
    "print(\"Baseline subjects:\", len(subs_B_baseline))\n",
    "print(\"Followup subjects:\", len(subs_B_followup))\n"
   ],
   "id": "308698ffc957b331",
   "outputs": [
    {
     "name": "stdout",
     "output_type": "stream",
     "text": [
      "Version B\n",
      "Baseline features: (4321, 13)\n",
      "Followup features: (2756, 13)\n",
      "Baseline connectomes: (4321, 87153)\n",
      "Followup connectomes: (2756, 87153)\n",
      "Baseline subjects: 4321\n",
      "Followup subjects: 2756\n"
     ]
    }
   ],
   "execution_count": 4
  },
  {
   "metadata": {},
   "cell_type": "markdown",
   "source": [
    "#### Demographic characteristics of subjects included in neuroimaging analysis (baseline cohort):\n",
    "* Age (mean (s.d.))       $~~~~~~~~~     9.98~(0.62)$\n",
    "* Female (%) $~~~~~~~~~~~~~~~~~~ 2217~(51.3)$\n",
    "* Race ethnicity (%):\n",
    "* White $~~~~~~~~~~~~~~~~~~~~~~~~~~ 3071~(71.1)$\n",
    "* Black $~~~~~~~~~~~~~~~~~~~~~~~~~~~ 529~(12.2)$\n",
    "* Asian $~~~~~~~~~~~~~~~~~~~~~~~~~~~ 90~(2.1)$\n",
    "* Other/Mixed $~~~~~~~~~~~~~~~~~ 631~(14.6)$\n",
    "* Hispanic (%):\n",
    "* No $~~~~~~~~~~~~~~~~~~~~~~~~~~~~~~ 3591~(83.1)$\n",
    "* Yes $~~~~~~~~~~~~~~~~~~~~~~~~~~~~~ 730~(16.9)$\n",
    "* Household income(%):\n",
    "* $< 50k ~~~~~~~~~~~~~~~~~~~~~~~~~~~~ 1158 ~(26.8)$\n",
    "* $ \\geq 50k < 100k ~~~~~~~~~~~~~~~ 1244 ~(28.8)$\n",
    "* $ \\geq 100k ~~~~~~~~~~~~~~~~~~~~~~~~~~ 1919 ~(44.4)$"
   ],
   "id": "41195f6f0101d654"
  },
  {
   "metadata": {},
   "cell_type": "markdown",
   "source": [
    "#### Demographic characteristics of subjects included in neuroimaging analysis (followup cohort):\n",
    "* Age (mean (s.d.))       $~~~~~~~~~     11.92~(0.65)$\n",
    "* Female (%) $~~~~~~~~~~~~~~~~~~ 1357~(49.2)$\n",
    "* Race ethnicity (%):\n",
    "* White $~~~~~~~~~~~~~~~~~~~~~~~~~~ 1923~(69.78)$\n",
    "* Black $~~~~~~~~~~~~~~~~~~~~~~~~~~~ 310~(11.25)$\n",
    "* Asian $~~~~~~~~~~~~~~~~~~~~~~~~~~~ 63~(2.29)$\n",
    "* Other/Mixed $~~~~~~~~~~~~~~~~~ 460~(16.7)$\n",
    "* Hispanic (%):\n",
    "* No $~~~~~~~~~~~~~~~~~~~~~~~~~~~~~~ 2234~(81.1)$\n",
    "* Yes $~~~~~~~~~~~~~~~~~~~~~~~~~~~~~ 522~(18.9)$\n",
    "* Household income(%):\n",
    "* $< 50k ~~~~~~~~~~~~~~~~~~~~~~~~~~~~ 696 ~(25.2)$\n",
    "* $ \\geq 50k < 100k ~~~~~~~~~~~~~~~ 790 ~(28.7)$\n",
    "* $ \\geq 100k ~~~~~~~~~~~~~~~~~~~~~~~~~~ 1270 ~(46.1)$"
   ],
   "id": "5c7127a4d5021fc5"
  },
  {
   "metadata": {
    "ExecuteTime": {
     "end_time": "2025-09-20T21:19:46.053342Z",
     "start_time": "2025-09-20T21:19:46.020125Z"
    }
   },
   "cell_type": "code",
   "source": "features_B_baseline.head()",
   "id": "153329f2a47d651d",
   "outputs": [
    {
     "data": {
      "text/plain": [
       "   g_lavaan site_id_l    age          Subject    meanFD  race.4level hisp  \\\n",
       "0  0.546203    site06  131.0  NDARINV003RTV85  0.229358        White   No   \n",
       "1 -0.549130    site03  109.0  NDARINV00LH735Y  0.201762        White  Yes   \n",
       "2 -0.631114    site17  118.0  NDARINV00NPMHND  0.173233        White   No   \n",
       "3 -1.098507    site04  130.0  NDARINV00U4FTRU  0.264265  Other/Mixed   No   \n",
       "4  0.433796    site16  129.0  NDARINV01NAYMZH  0.171448        White   No   \n",
       "\n",
       "   sex  EdYearsHighest  IncCombinedMidpoint  Income2Needs  \\\n",
       "0  2.0            12.0              87500.0      2.299002   \n",
       "1  1.0            12.0              42500.0      1.259632   \n",
       "2  2.0            16.0              87500.0      3.556911   \n",
       "3  2.0            12.0              42500.0      1.116658   \n",
       "4  1.0            16.0             150000.0      2.584425   \n",
       "\n",
       "                 Married income_group  \n",
       "0      Currently Married       medium  \n",
       "1      Currently Married          low  \n",
       "2      Currently Married       medium  \n",
       "3  Not Currently Married          low  \n",
       "4      Currently Married         high  "
      ],
      "text/html": [
       "<div>\n",
       "<style scoped>\n",
       "    .dataframe tbody tr th:only-of-type {\n",
       "        vertical-align: middle;\n",
       "    }\n",
       "\n",
       "    .dataframe tbody tr th {\n",
       "        vertical-align: top;\n",
       "    }\n",
       "\n",
       "    .dataframe thead th {\n",
       "        text-align: right;\n",
       "    }\n",
       "</style>\n",
       "<table border=\"1\" class=\"dataframe\">\n",
       "  <thead>\n",
       "    <tr style=\"text-align: right;\">\n",
       "      <th></th>\n",
       "      <th>g_lavaan</th>\n",
       "      <th>site_id_l</th>\n",
       "      <th>age</th>\n",
       "      <th>Subject</th>\n",
       "      <th>meanFD</th>\n",
       "      <th>race.4level</th>\n",
       "      <th>hisp</th>\n",
       "      <th>sex</th>\n",
       "      <th>EdYearsHighest</th>\n",
       "      <th>IncCombinedMidpoint</th>\n",
       "      <th>Income2Needs</th>\n",
       "      <th>Married</th>\n",
       "      <th>income_group</th>\n",
       "    </tr>\n",
       "  </thead>\n",
       "  <tbody>\n",
       "    <tr>\n",
       "      <th>0</th>\n",
       "      <td>0.546203</td>\n",
       "      <td>site06</td>\n",
       "      <td>131.0</td>\n",
       "      <td>NDARINV003RTV85</td>\n",
       "      <td>0.229358</td>\n",
       "      <td>White</td>\n",
       "      <td>No</td>\n",
       "      <td>2.0</td>\n",
       "      <td>12.0</td>\n",
       "      <td>87500.0</td>\n",
       "      <td>2.299002</td>\n",
       "      <td>Currently Married</td>\n",
       "      <td>medium</td>\n",
       "    </tr>\n",
       "    <tr>\n",
       "      <th>1</th>\n",
       "      <td>-0.549130</td>\n",
       "      <td>site03</td>\n",
       "      <td>109.0</td>\n",
       "      <td>NDARINV00LH735Y</td>\n",
       "      <td>0.201762</td>\n",
       "      <td>White</td>\n",
       "      <td>Yes</td>\n",
       "      <td>1.0</td>\n",
       "      <td>12.0</td>\n",
       "      <td>42500.0</td>\n",
       "      <td>1.259632</td>\n",
       "      <td>Currently Married</td>\n",
       "      <td>low</td>\n",
       "    </tr>\n",
       "    <tr>\n",
       "      <th>2</th>\n",
       "      <td>-0.631114</td>\n",
       "      <td>site17</td>\n",
       "      <td>118.0</td>\n",
       "      <td>NDARINV00NPMHND</td>\n",
       "      <td>0.173233</td>\n",
       "      <td>White</td>\n",
       "      <td>No</td>\n",
       "      <td>2.0</td>\n",
       "      <td>16.0</td>\n",
       "      <td>87500.0</td>\n",
       "      <td>3.556911</td>\n",
       "      <td>Currently Married</td>\n",
       "      <td>medium</td>\n",
       "    </tr>\n",
       "    <tr>\n",
       "      <th>3</th>\n",
       "      <td>-1.098507</td>\n",
       "      <td>site04</td>\n",
       "      <td>130.0</td>\n",
       "      <td>NDARINV00U4FTRU</td>\n",
       "      <td>0.264265</td>\n",
       "      <td>Other/Mixed</td>\n",
       "      <td>No</td>\n",
       "      <td>2.0</td>\n",
       "      <td>12.0</td>\n",
       "      <td>42500.0</td>\n",
       "      <td>1.116658</td>\n",
       "      <td>Not Currently Married</td>\n",
       "      <td>low</td>\n",
       "    </tr>\n",
       "    <tr>\n",
       "      <th>4</th>\n",
       "      <td>0.433796</td>\n",
       "      <td>site16</td>\n",
       "      <td>129.0</td>\n",
       "      <td>NDARINV01NAYMZH</td>\n",
       "      <td>0.171448</td>\n",
       "      <td>White</td>\n",
       "      <td>No</td>\n",
       "      <td>1.0</td>\n",
       "      <td>16.0</td>\n",
       "      <td>150000.0</td>\n",
       "      <td>2.584425</td>\n",
       "      <td>Currently Married</td>\n",
       "      <td>high</td>\n",
       "    </tr>\n",
       "  </tbody>\n",
       "</table>\n",
       "</div>"
      ]
     },
     "execution_count": 5,
     "metadata": {},
     "output_type": "execute_result"
    }
   ],
   "execution_count": 5
  },
  {
   "metadata": {},
   "cell_type": "markdown",
   "source": "### Prepare features we want to include in a model without network information",
   "id": "2fae7892f3dcf53b"
  },
  {
   "metadata": {
    "ExecuteTime": {
     "end_time": "2025-09-20T21:31:33.885135Z",
     "start_time": "2025-09-20T21:31:33.874022Z"
    }
   },
   "cell_type": "code",
   "outputs": [],
   "execution_count": 6,
   "source": "from src.features.extraction import extract_article_features",
   "id": "edef5bc0a53d4805"
  },
  {
   "metadata": {
    "ExecuteTime": {
     "end_time": "2025-09-20T21:32:42.713233Z",
     "start_time": "2025-09-20T21:32:42.688271Z"
    }
   },
   "cell_type": "code",
   "outputs": [
    {
     "name": "stdout",
     "output_type": "stream",
     "text": [
      "(4321, 9) (4321,)\n",
      "(2756, 9) (2756,)\n"
     ]
    }
   ],
   "execution_count": 7,
   "source": [
    "X_baseline_B, y_baseline_B = extract_article_features(features_B_baseline)\n",
    "X_followup_B, y_followup_B = extract_article_features(features_B_followup)\n",
    "\n",
    "print(X_baseline_B.shape, y_baseline_B.shape)\n",
    "print(X_followup_B.shape, y_followup_B.shape)\n"
   ],
   "id": "5c35b6eb0bb37429"
  },
  {
   "metadata": {},
   "cell_type": "code",
   "outputs": [],
   "execution_count": null,
   "source": "",
   "id": "1d3ec79f6946dbc1"
  },
  {
   "metadata": {},
   "cell_type": "code",
   "outputs": [],
   "execution_count": null,
   "source": "",
   "id": "1ded3f8cbf459951"
  },
  {
   "metadata": {},
   "cell_type": "code",
   "outputs": [],
   "execution_count": null,
   "source": "",
   "id": "b9d78600734ab2e2"
  },
  {
   "metadata": {
    "ExecuteTime": {
     "end_time": "2025-09-20T21:46:07.910845Z",
     "start_time": "2025-09-20T21:46:07.899099Z"
    }
   },
   "cell_type": "code",
   "outputs": [
    {
     "ename": "ImportError",
     "evalue": "cannot import name 'extract_ses_features' from 'src.features.extraction' (/Users/kostina/my-project~607/src/features/extraction.py)",
     "output_type": "error",
     "traceback": [
      "\u001B[31m---------------------------------------------------------------------------\u001B[39m",
      "\u001B[31mImportError\u001B[39m                               Traceback (most recent call last)",
      "\u001B[36mCell\u001B[39m\u001B[36m \u001B[39m\u001B[32mIn[11]\u001B[39m\u001B[32m, line 1\u001B[39m\n\u001B[32m----> \u001B[39m\u001B[32m1\u001B[39m \u001B[38;5;28;01mfrom\u001B[39;00m\u001B[38;5;250m \u001B[39m\u001B[34;01msrc\u001B[39;00m\u001B[34;01m.\u001B[39;00m\u001B[34;01mfeatures\u001B[39;00m\u001B[34;01m.\u001B[39;00m\u001B[34;01mextraction\u001B[39;00m\u001B[38;5;250m \u001B[39m\u001B[38;5;28;01mimport\u001B[39;00m extract_ses_features\n",
      "\u001B[31mImportError\u001B[39m: cannot import name 'extract_ses_features' from 'src.features.extraction' (/Users/kostina/my-project~607/src/features/extraction.py)"
     ]
    }
   ],
   "execution_count": 11,
   "source": "from src.features.extraction import extract_ses_features",
   "id": "2fdb5817fdb67fee"
  },
  {
   "metadata": {},
   "cell_type": "code",
   "outputs": [],
   "execution_count": null,
   "source": "",
   "id": "2607ad711642fbc7"
  },
  {
   "metadata": {},
   "cell_type": "code",
   "outputs": [],
   "execution_count": null,
   "source": "",
   "id": "f8d644624a50a1dc"
  },
  {
   "metadata": {
    "ExecuteTime": {
     "end_time": "2025-09-09T19:15:20.525524Z",
     "start_time": "2025-09-09T19:15:20.519281Z"
    }
   },
   "cell_type": "code",
   "outputs": [],
   "execution_count": 6,
   "source": [
    "# brain parcelation .csv\n",
    "regions = pd.read_csv('../data/gordon_sub_cere_parcels.csv')\n",
    "assert regions.shape[0] == 418"
   ],
   "id": "f4bec85971c5bf5a"
  },
  {
   "metadata": {
    "ExecuteTime": {
     "end_time": "2025-09-09T19:15:28.098427Z",
     "start_time": "2025-09-09T19:15:28.093573Z"
    }
   },
   "cell_type": "code",
   "outputs": [],
   "execution_count": 10,
   "source": [
    "# Create a mapping from ParcelId to NetworkNumber\n",
    "parcel_to_community = dict(zip(regions[\"ParcelID\"], regions[\"NetworkNumber\"]))\n",
    "\n",
    "# Get the number of communities\n",
    "num_communities = regions[\"NetworkNumber\"].nunique()\n",
    "community_sizes = regions[\"NetworkNumber\"].value_counts(sort=False).sort_index().tolist()\n",
    "\n",
    "value_counts = Counter(parcel_to_community.values())\n",
    "community_sizes_ordered = []\n",
    "# To print the count of keys for each value\n",
    "for value, count in dict(sorted(value_counts.items())).items():\n",
    "    #print(f\"Value: {value} - Count of keys: {count}\")\n",
    "    community_sizes_ordered.append(count)\n",
    "#print(community_sizes_ordered)"
   ],
   "id": "abf6ba38174af203"
  },
  {
   "metadata": {
    "ExecuteTime": {
     "end_time": "2025-09-09T19:15:31.176124Z",
     "start_time": "2025-09-09T19:15:30.533431Z"
    }
   },
   "cell_type": "code",
   "outputs": [
    {
     "name": "stdout",
     "output_type": "stream",
     "text": [
      "Saved to: edge_level.png\n"
     ]
    },
    {
     "data": {
      "text/plain": [
       "<Figure size 1200x1000 with 2 Axes>"
      ],
      "image/png": "[encoded data removed]"
     },
     "metadata": {},
     "output_type": "display_data"
    }
   ],
   "execution_count": 11,
   "source": [
    "# test\n",
    "test_symmetric_matrix, net_order, comm_sizes = process_connectivity_data(new_matrix_1, regions)\n",
    "plot_network_matrix(test_symmetric_matrix, net_order, comm_sizes, save_path=\"edge_level.png\")"
   ],
   "id": "3da3c4fe43a5fac4"
  },
  {
   "metadata": {},
   "cell_type": "markdown",
   "source": "========================================================================================================================================",
   "id": "ebaf45c3b2e71e62"
  },
  {
   "metadata": {},
   "cell_type": "markdown",
   "source": "### Leave-One-Site-Out Cross Validation",
   "id": "99ec779662754918"
  },
  {
   "metadata": {
    "ExecuteTime": {
     "end_time": "2025-09-09T19:16:16.457272Z",
     "start_time": "2025-09-09T19:16:16.455240Z"
    }
   },
   "cell_type": "code",
   "source": [
    "from sklearn.model_selection import LeaveOneGroupOut\n",
    "from sklearn.linear_model import LinearRegression\n",
    "from sklearn.metrics import mean_squared_error, r2_score\n",
    "from sklearn.pipeline import make_pipeline"
   ],
   "id": "c3150a57c7975f7f",
   "outputs": [],
   "execution_count": 20
  },
  {
   "metadata": {
    "ExecuteTime": {
     "end_time": "2025-09-09T19:16:19.463562Z",
     "start_time": "2025-09-09T19:16:19.440427Z"
    }
   },
   "cell_type": "code",
   "source": [
    "from scipy.stats import pearsonr\n",
    "from sklearn.decomposition import PCA\n",
    "from sklearn.base import clone"
   ],
   "id": "a244202b65414595",
   "outputs": [],
   "execution_count": 21
  },
  {
   "metadata": {
    "ExecuteTime": {
     "end_time": "2025-09-09T19:16:20.612166Z",
     "start_time": "2025-09-09T19:16:20.605036Z"
    }
   },
   "cell_type": "code",
   "source": [
    "def cross_val_pearson(model, X, y, groups, cv_strategy):\n",
    "    \"\"\"\n",
    "    Calculate cross-validated Pearson correlation between predicted and observed values\n",
    "\n",
    "    Returns:\n",
    "    - List of (r, p-value) tuples for each fold\n",
    "    - Array of predictions\n",
    "    \"\"\"\n",
    "    correlations = []\n",
    "    all_y_true = []\n",
    "    all_y_pred = []\n",
    "\n",
    "    for train_idx, test_idx in cv_strategy.split(X, y, groups=groups):\n",
    "        X_train, X_test = X[train_idx], X[test_idx]\n",
    "        y_train, y_test = y[train_idx], y[test_idx]\n",
    "\n",
    "        fold_model = clone(model)\n",
    "        fold_model.fit(X_train, y_train)\n",
    "        y_pred = fold_model.predict(X_test)\n",
    "\n",
    "        r, p = pearsonr(y_test, y_pred)\n",
    "        correlations.append((r, p))\n",
    "        all_y_true.append(y_test)\n",
    "        all_y_pred.append(y_pred)\n",
    "\n",
    "    return correlations, np.concatenate(all_y_true), np.concatenate(all_y_pred)\n",
    "\n",
    "\n",
    "def partial_eta_squared(y_true, y_pred):\n",
    "    sse = np.sum((y_true - y_pred) ** 2)\n",
    "    sst = np.sum((y_true - np.mean(y_true)) ** 2)\n",
    "    return 1 - (sse / sst) if sst != 0 else 0\n",
    "\n",
    "\n",
    "def cross_val_partial_eta(model, X, y, groups, cv_strategy):\n",
    "    \"\"\"Calculate cross-validated partial eta squared\"\"\"\n",
    "    eta_scores = []\n",
    "\n",
    "    for train_idx, test_idx in cv_strategy.split(X, y, groups=groups):\n",
    "        X_train, X_test = X[train_idx], X[test_idx]\n",
    "        y_train, y_test = y[train_idx], y[test_idx]\n",
    "\n",
    "        fold_model = clone(model)\n",
    "        fold_model.fit(X_train, y_train)\n",
    "        y_pred = fold_model.predict(X_test)\n",
    "\n",
    "        eta = partial_eta_squared(y_test, y_pred)\n",
    "        eta_scores.append(eta)\n",
    "\n",
    "    return np.mean(eta_scores), eta_scores\n",
    "\n",
    "\n",
    "def run_cross_validation(X_features, y, use_network=False, X_network=None, num_pc=50):\n",
    "    logo = LeaveOneGroupOut()\n",
    "    results = []\n",
    "    trained_models = []\n",
    "\n",
    "    groups = X_features['site_id_l']\n",
    "\n",
    "    for train_idx, test_idx in logo.split(X_features, y, groups=groups):\n",
    "        test_site = X_features.iloc[test_idx]['site_id_l'].iloc[0]\n",
    "\n",
    "        X_train_main = X_features.iloc[train_idx].drop(columns=['site_id_l', 'Subject'])\n",
    "        X_test_main = X_features.iloc[test_idx].drop(columns=['site_id_l', 'Subject'])\n",
    "        y_train = y.iloc[train_idx]\n",
    "        y_test = y.iloc[test_idx]\n",
    "\n",
    "        if use_network:\n",
    "            if X_network is None:\n",
    "                raise ValueError(\"X_network must be provided when use_network is True\")\n",
    "\n",
    "            # Create subject-to-site mapping dictionary\n",
    "            subject_site_map = X_features[['Subject', 'site_id_l']].set_index('Subject')['site_id_l'].to_dict()\n",
    "\n",
    "            X_network['site_id_l'] = X_network['Subject'].map(subject_site_map)\n",
    "            X_network.fillna(0, inplace=True)\n",
    "\n",
    "            train_subjects = X_features.iloc[train_idx]['Subject'].unique()\n",
    "            test_subjects = X_features.iloc[test_idx]['Subject'].unique()\n",
    "\n",
    "            X_train_network = X_network[\n",
    "                (X_network['Subject'].isin(train_subjects)) &\n",
    "                (X_network['site_id_l'] != test_site)\n",
    "            ].drop(columns=['site_id_l', 'Subject'])\n",
    "\n",
    "            X_test_network = X_network[\n",
    "                X_network['Subject'].isin(test_subjects)\n",
    "            ].drop(columns=['site_id_l', 'Subject'])\n",
    "\n",
    "            pca_pipe = make_pipeline(\n",
    "                StandardScaler(),\n",
    "                PCA(n_components=num_pc, random_state=123)\n",
    "            )\n",
    "            X_train_network_pca = pca_pipe.fit_transform(X_train_network)\n",
    "            X_test_network_pca = pca_pipe.transform(X_test_network)\n",
    "\n",
    "            feature_names = (\n",
    "                list(X_train_main.columns) +\n",
    "                [f'network_pc_{i}' for i in range(X_train_network_pca.shape[1])]\n",
    "            )\n",
    "\n",
    "            X_train = np.hstack([X_train_main.values, X_train_network_pca])\n",
    "            X_test = np.hstack([X_test_main.values, X_test_network_pca])\n",
    "        else:\n",
    "            X_train = X_train_main.values\n",
    "            X_test = X_test_main.values\n",
    "\n",
    "        fold_model = LinearRegression()\n",
    "        fold_model.fit(X_train, y_train)\n",
    "        trained_models.append(fold_model)\n",
    "        y_pred = fold_model.predict(X_test)\n",
    "\n",
    "        r, p = pearsonr(y_test, y_pred)\n",
    "        eta = partial_eta_squared(y_test, y_pred)\n",
    "        mse = mean_squared_error(y_test, y_pred)\n",
    "        r2 = r2_score(y_test, y_pred)\n",
    "\n",
    "        results.append({\n",
    "            'test_site': test_site,\n",
    "            'pearson_r': r,\n",
    "            'pearson_p': p,\n",
    "            'partial_eta_squared': eta,\n",
    "            'mse': mse,\n",
    "            'r2': r2,\n",
    "            'n_train': len(X_train),\n",
    "            'n_test': len(X_test)\n",
    "        })\n",
    "\n",
    "    return results, trained_models"
   ],
   "id": "b7dfc4a18c1942f3",
   "outputs": [],
   "execution_count": 22
  },
  {
   "metadata": {
    "ExecuteTime": {
     "end_time": "2025-09-09T19:16:25.394925Z",
     "start_time": "2025-09-09T19:16:25.392446Z"
    }
   },
   "cell_type": "code",
   "source": [
    "def print_cross_val_results(df):\n",
    "    # Convert results to DataFrame\n",
    "    results_df = pd.DataFrame(df)\n",
    "\n",
    "    # Calculate mean metrics across folds\n",
    "    mean_metrics = {\n",
    "        'Mean Pearson r': results_df['pearson_r'].mean(),\n",
    "        'Mean Partial η²': results_df['partial_eta_squared'].mean(),\n",
    "        'Mean R²': results_df['r2'].mean(),\n",
    "        'Mean MSE': results_df['mse'].mean()\n",
    "    }\n",
    "\n",
    "    print(\"Cross-validated Performance Metrics:\")\n",
    "    print(f\"Average Pearson's r: {mean_metrics['Mean Pearson r']:.3f}\")\n",
    "    print(f\"Partial eta squared: {mean_metrics['Mean Partial η²']:.3f}\")\n",
    "    print(f\"R²: {mean_metrics['Mean R²']:.3f}\")"
   ],
   "id": "43865e052af710e6",
   "outputs": [],
   "execution_count": 23
  },
  {
   "metadata": {
    "ExecuteTime": {
     "end_time": "2025-09-02T21:21:24.173878Z",
     "start_time": "2025-09-02T21:13:28.697199Z"
    }
   },
   "cell_type": "code",
   "source": "results_network, models_network = run_cross_validation(article_features_baseline, y_baseline, use_network=True, X_network=flattened_baseline_df, num_pc=100)",
   "id": "9f4dc0b26faa17e4",
   "outputs": [],
   "execution_count": 143
  },
  {
   "metadata": {
    "ExecuteTime": {
     "end_time": "2025-09-04T22:23:14.235973Z",
     "start_time": "2025-09-04T22:23:14.158537Z"
    }
   },
   "cell_type": "code",
   "source": "results_no_network, models_no_network = run_cross_validation(article_features_baseline, y_baseline, use_network=False)",
   "id": "d740acfa6cccca8b",
   "outputs": [],
   "execution_count": 70
  },
  {
   "metadata": {
    "ExecuteTime": {
     "end_time": "2025-09-02T21:40:50.671823Z",
     "start_time": "2025-09-02T21:40:50.668836Z"
    }
   },
   "cell_type": "code",
   "source": "print_cross_val_results(results_no_network)",
   "id": "d11f84462a4e7fbb",
   "outputs": [
    {
     "name": "stdout",
     "output_type": "stream",
     "text": [
      "Cross-validated Performance Metrics:\n",
      "Average Pearson's r: 0.404\n",
      "Partial eta squared: 0.092\n",
      "R²: 0.092\n"
     ]
    }
   ],
   "execution_count": 151
  },
  {
   "metadata": {
    "ExecuteTime": {
     "end_time": "2025-09-02T21:40:54.826101Z",
     "start_time": "2025-09-02T21:40:54.823327Z"
    }
   },
   "cell_type": "code",
   "source": "print_cross_val_results(results_network)",
   "id": "a5d9d42c93ac3404",
   "outputs": [
    {
     "name": "stdout",
     "output_type": "stream",
     "text": [
      "Cross-validated Performance Metrics:\n",
      "Average Pearson's r: 0.473\n",
      "Partial eta squared: 0.185\n",
      "R²: 0.185\n"
     ]
    }
   ],
   "execution_count": 152
  },
  {
   "metadata": {
    "ExecuteTime": {
     "end_time": "2025-09-02T21:55:37.175505Z",
     "start_time": "2025-09-02T21:51:58.834553Z"
    }
   },
   "cell_type": "code",
   "source": [
    "results_network, models_network = run_cross_validation(article_features_followup, y_followup, use_network=True,\n",
    "                                                       X_network=flattened_followup_df, num_pc=100)\n",
    "results_no_network, models_no_network = run_cross_validation(article_features_followup, y_followup, use_network=False)"
   ],
   "id": "3eee14aa3def3269",
   "outputs": [],
   "execution_count": 165
  },
  {
   "metadata": {
    "ExecuteTime": {
     "end_time": "2025-09-02T21:55:48.606476Z",
     "start_time": "2025-09-02T21:55:48.603212Z"
    }
   },
   "cell_type": "code",
   "source": [
    "print_cross_val_results(results_no_network)\n",
    "print_cross_val_results(results_network)"
   ],
   "id": "c8f9eaeccf4d9b6",
   "outputs": [
    {
     "name": "stdout",
     "output_type": "stream",
     "text": [
      "Cross-validated Performance Metrics:\n",
      "Average Pearson's r: 0.325\n",
      "Partial eta squared: 0.024\n",
      "R²: 0.024\n",
      "Cross-validated Performance Metrics:\n",
      "Average Pearson's r: 0.457\n",
      "Partial eta squared: 0.152\n",
      "R²: 0.152\n"
     ]
    }
   ],
   "execution_count": 166
  },
  {
   "metadata": {},
   "cell_type": "markdown",
   "source": [
    "### Summary table:\n",
    "| Description                 | Pearson's correlation | Partial $\\eta^2$ | Coefficient of Determination |\n",
    "|-----------------------------|-----------------------|------------------|------------------------------|\n",
    "| Baseline observations + PCs | 0.473                 | 0.185            | 0.185                        |\n",
    "| Baseline observations only  | 0.404                 | 0.092            | 0.092                        |\n",
    "| Followup observations + PCs | 0.457                 | 0.152            | 0.152                        |\n",
    "| Followup observations only  | 0.325                 | 0.024            | 0.024                        |\n",
    "\n",
    "\n",
    "\n"
   ],
   "id": "8417b8b650e36ddf"
  },
  {
   "metadata": {},
   "cell_type": "markdown",
   "source": "The original finding is robust. We worked with the different data but results on the baseline data are almost identical tho the article claim. For the followup data results are not so good, but still we observe an impovement when comparing to observations only model.  Thus, he brain-cognition relationship captured by the model generalizes across similar cohorts.",
   "id": "3c3df1e9cd9c8721"
  },
  {
   "metadata": {},
   "cell_type": "markdown",
   "source": [
    "## Answer 1:\n",
    "Yes, we do get the similar results for the baseline cohort. Moreover, results for followup data also show significant improvement when adding PCs to observations only model."
   ],
   "id": "a6db78e12e6e4022"
  },
  {
   "metadata": {},
   "cell_type": "markdown",
   "source": "## Question 2: What is the effect of SES features?",
   "id": "ff0b5f28999e4f1c"
  },
  {
   "metadata": {
    "ExecuteTime": {
     "end_time": "2025-09-07T18:27:35.100978Z",
     "start_time": "2025-09-07T18:27:35.094615Z"
    }
   },
   "cell_type": "code",
   "source": [
    "ses_baseline = ses_features(df_baseline_fg)\n",
    "ses_followup = ses_features(df_followup_fg)"
   ],
   "id": "4b178cf0809e407f",
   "outputs": [],
   "execution_count": 30
  },
  {
   "metadata": {
    "ExecuteTime": {
     "end_time": "2025-09-02T22:20:38.502095Z",
     "start_time": "2025-09-02T22:10:11.914103Z"
    }
   },
   "cell_type": "code",
   "outputs": [
    {
     "name": "stdout",
     "output_type": "stream",
     "text": [
      "Cross-validated Performance Metrics:\n",
      "Average Pearson's r: 0.375\n",
      "Partial eta squared: 0.114\n",
      "R²: 0.114\n",
      "Cross-validated Performance Metrics:\n",
      "Average Pearson's r: 0.437\n",
      "Partial eta squared: 0.174\n",
      "R²: 0.174\n"
     ]
    }
   ],
   "execution_count": 174,
   "source": [
    "results_network, models_network = run_cross_validation(ses_baseline, y_baseline, use_network=True,\n",
    "                                                       X_network=flattened_baseline_df, num_pc=100)\n",
    "results_no_network, models_no_network = run_cross_validation(ses_baseline, y_baseline, use_network=False)\n",
    "print_cross_val_results(results_no_network)\n",
    "print_cross_val_results(results_network)"
   ],
   "id": "725e37b5cd7cfa65"
  },
  {
   "metadata": {
    "ExecuteTime": {
     "end_time": "2025-09-07T18:27:38.100988Z",
     "start_time": "2025-09-07T18:27:38.092716Z"
    }
   },
   "cell_type": "code",
   "source": "combined_baseline = combine_data(article_features_baseline, ses_baseline)",
   "id": "f334b3219bed6a50",
   "outputs": [],
   "execution_count": 31
  },
  {
   "metadata": {
    "ExecuteTime": {
     "end_time": "2025-09-02T22:28:01.618760Z",
     "start_time": "2025-09-02T22:20:59.679336Z"
    }
   },
   "cell_type": "code",
   "source": [
    "results_network, models_network = run_cross_validation(combined_baseline, y_baseline, use_network=True,\n",
    "                                                       X_network=flattened_baseline_df, num_pc=100)\n",
    "results_no_network, models_no_network = run_cross_validation(combined_baseline, y_baseline, use_network=False)\n",
    "print_cross_val_results(results_no_network)\n",
    "print_cross_val_results(results_network)"
   ],
   "id": "a0aea7dc188fb306",
   "outputs": [
    {
     "name": "stdout",
     "output_type": "stream",
     "text": [
      "Cross-validated Performance Metrics:\n",
      "Average Pearson's r: 0.502\n",
      "Partial eta squared: 0.223\n",
      "R²: 0.223\n",
      "Cross-validated Performance Metrics:\n",
      "Average Pearson's r: 0.530\n",
      "Partial eta squared: 0.261\n",
      "R²: 0.261\n"
     ]
    }
   ],
   "execution_count": 177
  },
  {
   "metadata": {},
   "cell_type": "markdown",
   "source": [
    "### Summary table 2 a:\n",
    "| Description                  | Pearson's correlation | Partial $\\eta^2$ | Coefficient of Determination |\n",
    "|------------------------------|-----------------------|------------------|-----------------------------|\n",
    "| Baseline features + PCs      | 0.473                 | 0.185            | 0.185                       |\n",
    "| Baseline featurres only      | 0.404                 | 0.092            | 0.092                       |\n",
    "| Baseline SES only            | 0.375                 | 0.114            | 0.114                       |\n",
    "| Baseline SES + PCs           | 0.437                 | 0.174            | 0.174                       |\n",
    "| Baseline features + SES      | 0.502                 | 0.223            | 0.223                       |\n",
    "| Baseline features+ SES + PCs | 0.530                 | 0.261            | 0.261                       |\n",
    "\n"
   ],
   "id": "cb909c8803162fc4"
  },
  {
   "metadata": {
    "ExecuteTime": {
     "end_time": "2025-09-02T23:17:44.591080Z",
     "start_time": "2025-09-02T23:12:51.652020Z"
    }
   },
   "cell_type": "code",
   "source": [
    "results_network, models_network = run_cross_validation(ses_followup, y_followup, use_network=True,\n",
    "                                                       X_network=flattened_followup_df, num_pc=100)\n",
    "results_no_network, models_no_network = run_cross_validation(ses_followup, y_followup, use_network=False)\n",
    "print_cross_val_results(results_no_network)\n",
    "print_cross_val_results(results_network)"
   ],
   "id": "84ccdc4d87afed7a",
   "outputs": [
    {
     "name": "stdout",
     "output_type": "stream",
     "text": [
      "Cross-validated Performance Metrics:\n",
      "Average Pearson's r: 0.405\n",
      "Partial eta squared: 0.137\n",
      "R²: 0.137\n",
      "Cross-validated Performance Metrics:\n",
      "Average Pearson's r: 0.487\n",
      "Partial eta squared: 0.197\n",
      "R²: 0.197\n"
     ]
    }
   ],
   "execution_count": 178
  },
  {
   "metadata": {
    "ExecuteTime": {
     "end_time": "2025-09-07T18:27:42.504396Z",
     "start_time": "2025-09-07T18:27:42.498892Z"
    }
   },
   "cell_type": "code",
   "source": "combined_followup = combine_data(article_features_followup, ses_followup)",
   "id": "ee199caeada0bdb0",
   "outputs": [],
   "execution_count": 32
  },
  {
   "metadata": {
    "ExecuteTime": {
     "end_time": "2025-09-02T23:23:03.576801Z",
     "start_time": "2025-09-02T23:19:09.382660Z"
    }
   },
   "cell_type": "code",
   "source": [
    "results_network, models_network = run_cross_validation(combined_followup, y_followup, use_network=True,\n",
    "                                                       X_network=flattened_followup_df, num_pc=100)\n",
    "results_no_network, models_no_network = run_cross_validation(combined_followup, y_followup, use_network=False)\n",
    "print_cross_val_results(results_no_network)\n",
    "print_cross_val_results(results_network)"
   ],
   "id": "fa7657c8570b61ec",
   "outputs": [
    {
     "name": "stdout",
     "output_type": "stream",
     "text": [
      "Cross-validated Performance Metrics:\n",
      "Average Pearson's r: 0.463\n",
      "Partial eta squared: 0.188\n",
      "R²: 0.188\n",
      "Cross-validated Performance Metrics:\n",
      "Average Pearson's r: 0.519\n",
      "Partial eta squared: 0.241\n",
      "R²: 0.241\n"
     ]
    }
   ],
   "execution_count": 179
  },
  {
   "metadata": {},
   "cell_type": "markdown",
   "source": [
    "### Summary table 2 b:\n",
    "| Description                      | Pearson's correlation | Partial $\\eta^2$ | Coefficient of Determination |\n",
    "|----------------------------------|-----------------------|------------------|------------------------------|\n",
    "| Followup observations + PCs      | 0.457                 | 0.152            | 0.152                        |\n",
    "| Followup observations only       | 0.325                 | 0.024            | 0.024                        |\n",
    "| Followup SES only                | 0.405                 | 0.137            | 0.137                        |\n",
    "| Followup SES + PCs               | 0.487                 | 0.197            | 0.197                        |\n",
    "| Followup observations + SES      | 0.463                 | 0.188            | 0.188                        |\n",
    "| Followup observations+ SES + PCs | 0.519                 | 0.241            | 0.241                        |\n"
   ],
   "id": "cda9b3afd9e52cd9"
  },
  {
   "metadata": {},
   "cell_type": "markdown",
   "source": [
    "## Answer 2:\n",
    "Yes, the new features (SES) help improve the quality of the models!\n",
    "We have the evidence to support this finding from both tables:\n",
    "\n",
    "* SES alone is a better predictor than your original features alone\n",
    "* Adding SES to original feautures provides a larger boost in explained variance than adding PCs does.\n",
    "* The best model in both cases is the full model that includes the original features, the new SES features, and the PCs."
   ],
   "id": "3273effff4281507"
  },
  {
   "metadata": {},
   "cell_type": "markdown",
   "source": "## Question 2*: Are this results statistically significant?\n",
   "id": "b80b38b84f987789"
  },
  {
   "metadata": {
    "ExecuteTime": {
     "end_time": "2025-09-09T19:16:49.214378Z",
     "start_time": "2025-09-09T19:16:49.212580Z"
    }
   },
   "cell_type": "code",
   "source": "from scipy.stats import f",
   "id": "53b4ba7b18a2812d",
   "outputs": [],
   "execution_count": 26
  },
  {
   "metadata": {
    "ExecuteTime": {
     "end_time": "2025-09-09T19:16:49.980743Z",
     "start_time": "2025-09-09T19:16:49.978154Z"
    }
   },
   "cell_type": "code",
   "source": [
    "def f_test_r2(r2_reduced, r2_full, n, p_reduced, p_full):\n",
    "    \"\"\"\n",
    "    Perform F-test for nested models using R-squared values.\n",
    "\n",
    "    Parameters:\n",
    "    r2_reduced (float): R-squared of the reduced model\n",
    "    r2_full (float): R-squared of the full model\n",
    "    n (int): Sample size\n",
    "    p_reduced (int): Number of parameters in reduced model (including intercept)\n",
    "    p_full (int): Number of parameters in full model (including intercept)\n",
    "\n",
    "    Returns:\n",
    "    dict: F-statistic and p-value\n",
    "    \"\"\"\n",
    "    # Calculate degrees of freedom\n",
    "    df_diff = p_full - p_reduced  # Numerator degrees of freedom\n",
    "    df_full = n - p_full - 1      # Denominator degrees of freedom\n",
    "\n",
    "    # Calculate F-statistic\n",
    "    f_stat = ((r2_full - r2_reduced) / df_diff) / ((1 - r2_full) / df_full)\n",
    "\n",
    "    # Calculate p-value\n",
    "    p_value = f.sf(f_stat, df_diff, df_full)  # Survival function (1 - CDF)\n",
    "\n",
    "    return {'f_statistic': f_stat, 'p_value': p_value}"
   ],
   "id": "f29a098908693932",
   "outputs": [],
   "execution_count": 27
  },
  {
   "metadata": {},
   "cell_type": "code",
   "outputs": [],
   "execution_count": null,
   "source": [
    "n_0 = article_features_baseline.shape[0] #sample size\n",
    "n_1 = article_features_followup.shape[0]\n",
    "p_obs_0 = article_features_baseline.shape[1] - 1  # Number of parameters in \"Observations Only\" model (features + intercept) (-2 for Subject and site_id )\n",
    "p_obs_1 = article_features_followup.shape[1] - 1\n",
    "p_ses_0 = ses_baseline.shape[1] - 1 # Number of parameters in \"SES Only\" model (features + intercept)\n",
    "p_ses_1 = ses_followup.shape[1] - 1\n",
    "p_pc = 100    # Number of parameters represented by the PCs\n",
    "\n",
    "p_obs_ses_0 = combined_baseline.shape[1]- 1\n",
    "p_obs_ses_1 = combined_followup.shape[1] - 1\n",
    "p_obs_pc_0 = p_obs_0 + p_pc - 1\n",
    "p_obs_pc_1 = p_obs_1 + p_pc - 1\n",
    "p_obs_ses_pc_0 = p_obs_0 + p_ses_0 + p_pc - 2\n",
    "p_obs_ses_pc_1 = p_obs_1 + p_ses_1 + p_pc - 2\n"
   ],
   "id": "11b33fef489007a2"
  },
  {
   "metadata": {
    "ExecuteTime": {
     "end_time": "2025-09-03T00:01:58.917679Z",
     "start_time": "2025-09-03T00:01:58.911135Z"
    }
   },
   "cell_type": "code",
   "source": [
    "alpha = 0.05\n",
    "# Perform tests for Table 2a (Baseline)\n",
    "print(\"Table 2a (Baseline) Results:\")\n",
    "print(\"=\" * 50)\n",
    "\n",
    "# Test 1: Observations Only vs Observations + SES\n",
    "test1 = f_test_r2(\n",
    "    r2_reduced=0.092,\n",
    "    r2_full=0.223,\n",
    "    n=n_0,\n",
    "    p_reduced=p_obs_0,\n",
    "    p_full=p_obs_ses_0\n",
    ")\n",
    "print(f\"Test 1 (Obs vs Obs+SES): F={test1['f_statistic']:.4f}, p={test1['p_value']:.4e}\")\n",
    "if test1['p_value'] < 0.05:\n",
    "    print(f\"The full model provides a statistically significant improvement over the reduced model.\")\n",
    "else:\n",
    "    print(\"There is not enough evidence\")\n",
    "\n",
    "# Test 2: Observations + PCs vs Observations + SES + PCs\n",
    "test2 = f_test_r2(\n",
    "    r2_reduced=0.185,\n",
    "    r2_full=0.261,\n",
    "    n=n_0,\n",
    "    p_reduced=p_obs_pc_0,\n",
    "    p_full=p_obs_ses_pc_0\n",
    ")\n",
    "print(f\"Test 2 (Obs+PCs vs Obs+SES+PCs): F={test2['f_statistic']:.4f}, p={test2['p_value']:.4e}\")\n",
    "if test2['p_value'] < 0.05:\n",
    "    print(f\"The full model provides a statistically significant improvement over the reduced model.\")\n",
    "else:\n",
    "    print(\"There is not enough evidence\")\n",
    "\n",
    "# Test 3: Observations + SES vs Observations + SES + PCs\n",
    "test3 = f_test_r2(\n",
    "    r2_reduced=0.223,\n",
    "    r2_full=0.261,\n",
    "    n=n_0,\n",
    "    p_reduced=p_obs_ses_0,\n",
    "    p_full=p_obs_ses_pc_0\n",
    ")\n",
    "print(f\"Test 3 (Obs+SES vs Obs+SES+PCs): F={test3['f_statistic']:.4f}, p={test3['p_value']:.4e}\")\n",
    "if test3['p_value'] < 0.05:\n",
    "    print(f\"The full model provides a statistically significant improvement over the reduced model.\")\n",
    "else:\n",
    "    print(\"There is not enough evidence\")\n",
    "\n",
    "# Perform tests for Table 2b (Follow-up)\n",
    "print(\"\\nTable 2b (Follow-up) Results:\")\n",
    "print(\"=\" * 50)\n",
    "\n",
    "# Test 4: Observations Only vs Observations + SES\n",
    "test4 = f_test_r2(\n",
    "    r2_reduced=0.024,\n",
    "    r2_full=0.188,\n",
    "    n=n_1,\n",
    "    p_reduced=p_obs_1,\n",
    "    p_full=p_obs_ses_1\n",
    ")\n",
    "print(f\"Test 4 (Obs vs Obs+SES): F={test4['f_statistic']:.4f}, p={test4['p_value']:.4e}\")\n",
    "if test4['p_value'] < 0.05:\n",
    "    print(f\"The full model provides a statistically significant improvement over the reduced model.\")\n",
    "else:\n",
    "    print(\"There is not enough evidence\")\n",
    "\n",
    "# Test 5: Observations + PCs vs Observations + SES + PCs\n",
    "test5 = f_test_r2(\n",
    "    r2_reduced=0.152,\n",
    "    r2_full=0.241,\n",
    "    n=n_1,\n",
    "    p_reduced=p_obs_pc_1,\n",
    "    p_full=p_obs_ses_pc_1\n",
    ")\n",
    "print(f\"Test 5 (Obs+PCs vs Obs+SES+PCs): F={test5['f_statistic']:.4f}, p={test5['p_value']:.4e}\")\n",
    "if test5['p_value'] < 0.05:\n",
    "    print(f\"The full model provides a statistically significant improvement over the reduced model.\")\n",
    "else:\n",
    "    print(\"There is not enough evidence\")\n",
    "\n",
    "# Test 6: Observations + SES vs Observations + SES + PCs\n",
    "test6 = f_test_r2(\n",
    "    r2_reduced=0.188,\n",
    "    r2_full=0.241,\n",
    "    n=n_1,\n",
    "    p_reduced=p_obs_ses_1,\n",
    "    p_full=p_obs_ses_pc_1\n",
    ")\n",
    "print(f\"Test 6 (Obs+SES vs Obs+SES+PCs): F={test6['f_statistic']:.4f}, p={test6['p_value']:.4e}\")\n",
    "if test6['p_value'] < 0.05:\n",
    "    print(f\"The full model provides a statistically significant improvement over the reduced model.\")\n",
    "else:\n",
    "    print(\"There is not enough evidence\")"
   ],
   "id": "a5ba9bbadb905dcd",
   "outputs": [
    {
     "name": "stdout",
     "output_type": "stream",
     "text": [
      "Table 2a (Baseline) Results:\n",
      "==================================================\n",
      "Test 1 (Obs vs Obs+SES): F=145.2296, p=7.9583e-143\n",
      "The full model provides a statistically significant improvement over the reduced model.\n",
      "Test 2 (Obs+PCs vs Obs+SES+PCs): F=86.5516, p=7.4319e-87\n",
      "The full model provides a statistically significant improvement over the reduced model.\n",
      "Test 3 (Obs+SES vs Obs+SES+PCs): F=2.1856, p=2.2096e-10\n",
      "The full model provides a statistically significant improvement over the reduced model.\n",
      "\n",
      "Table 2b (Follow-up) Results:\n",
      "==================================================\n",
      "Test 4 (Obs vs Obs+SES): F=110.7606, p=7.7369e-107\n",
      "The full model provides a statistically significant improvement over the reduced model.\n",
      "Test 5 (Obs+PCs vs Obs+SES+PCs): F=61.9834, p=2.8751e-61\n",
      "The full model provides a statistically significant improvement over the reduced model.\n",
      "Test 6 (Obs+SES vs Obs+SES+PCs): F=1.8642, p=8.1639e-07\n",
      "The full model provides a statistically significant improvement over the reduced model.\n"
     ]
    }
   ],
   "execution_count": 185
  },
  {
   "metadata": {},
   "cell_type": "markdown",
   "source": [
    "## Answer 2*:\n",
    "The SES features significantly improve model performance on their own and provide unique information that isn't captured by PCs. Their value is consistent across both time points."
   ],
   "id": "cfbe0f2508255a28"
  },
  {
   "metadata": {},
   "cell_type": "markdown",
   "source": [
    "## Question 3:\n",
    "Is it possible to move towards network summary statistics without loss of explained variation?"
   ],
   "id": "5acb51b8e870865a"
  },
  {
   "metadata": {},
   "cell_type": "markdown",
   "source": [
    "There are several questions that need to be asked. First, we need to understand whether network summary statistics increase the amount of explained variance. If yes, then which one. We need to compare the following:\n",
    "* How much variance can network stats explain alone?\n",
    "* Does adding network stats to the original data help?\n",
    "* Do network stats provide new information that wasn't captured by the PCs?\n",
    "* Can they replace PCs?"
   ],
   "id": "da599b64192a72d"
  },
  {
   "metadata": {
    "ExecuteTime": {
     "end_time": "2025-09-09T19:17:11.640059Z",
     "start_time": "2025-09-09T19:17:11.637909Z"
    }
   },
   "cell_type": "code",
   "source": [
    "def vector_to_symmetric_matrix(vector, size):\n",
    "    # Create empty matrix\n",
    "    matrix = np.zeros((size, size))\n",
    "    # Get upper triangular indices\n",
    "    triu_indices = np.triu_indices(size, k=1)\n",
    "\n",
    "    # Check input length matches expected\n",
    "    expected_len = len(triu_indices[0])\n",
    "    if len(vector) != expected_len:\n",
    "        raise ValueError(f\"Vector length {len(vector)} doesn't match expected length {expected_len} for size {size}\")\n",
    "    # Fill upper triangle\n",
    "    matrix[triu_indices] = vector\n",
    "    # Make symmetric (copy upper to lower)\n",
    "    matrix = matrix + matrix.T - np.diag(matrix.diagonal())\n",
    "\n",
    "    return matrix"
   ],
   "id": "42496eb1fd3caca2",
   "outputs": [],
   "execution_count": 29
  },
  {
   "metadata": {
    "ExecuteTime": {
     "end_time": "2025-09-07T18:28:15.477086Z",
     "start_time": "2025-09-07T18:28:14.962700Z"
    }
   },
   "cell_type": "code",
   "source": [
    "# test cell\n",
    "subject_data = flattened_baseline_df[flattened_baseline_df['Subject'] == flattened_baseline_df['Subject'][0]].drop(columns=['Subject']).squeeze()\n",
    "# Convert to numpy array\n",
    "vector = subject_data.values\n",
    "matrix = vector_to_symmetric_matrix(vector, 418)"
   ],
   "id": "7160f1625bb78c9b",
   "outputs": [],
   "execution_count": 37
  },
  {
   "metadata": {
    "ExecuteTime": {
     "end_time": "2025-09-07T18:29:10.828865Z",
     "start_time": "2025-09-07T18:29:10.824531Z"
    }
   },
   "cell_type": "code",
   "source": "matrix",
   "id": "3a13756640577454",
   "outputs": [
    {
     "data": {
      "text/plain": [
       "array([[ 0.        , -0.02008326, -0.06839134, ..., -0.01961556,\n",
       "        -0.03908072, -0.02745361],\n",
       "       [-0.02008326,  0.        , -0.00890651, ...,  0.01479209,\n",
       "        -0.08329057, -0.00540667],\n",
       "       [-0.06839134, -0.00890651,  0.        , ...,  0.00898704,\n",
       "        -0.01248931, -0.02522349],\n",
       "       ...,\n",
       "       [-0.01961556,  0.01479209,  0.00898704, ...,  0.        ,\n",
       "         0.01907114, -0.06792023],\n",
       "       [-0.03908072, -0.08329057, -0.01248931, ...,  0.01907114,\n",
       "         0.        ,  0.02833297],\n",
       "       [-0.02745361, -0.00540667, -0.02522349, ..., -0.06792023,\n",
       "         0.02833297,  0.        ]], shape=(418, 418))"
      ]
     },
     "execution_count": 38,
     "metadata": {},
     "output_type": "execute_result"
    }
   ],
   "execution_count": 38
  },
  {
   "metadata": {},
   "cell_type": "markdown",
   "source": [
    "## Strength\n",
    "* Node Strength:\n",
    "For a given brain region (a \"node\"), its strength is the total weight of its connections to all other regions. It's the weighted version of \"degree\" (which just counts the number of connections). A region with high strength is a highly connected \"hub\" in the functional network.\n",
    "* Global Strength:\n",
    "The average strength across all nodes in the brain. It's a measure of the overall level of functional connectivity in the brain. Higher global strength generally indicates greater integration and synchrony across the entire brain network."
   ],
   "id": "84533563ef167666"
  },
  {
   "metadata": {
    "ExecuteTime": {
     "end_time": "2025-09-09T19:17:22.012577Z",
     "start_time": "2025-09-09T19:17:22.009828Z"
    }
   },
   "cell_type": "code",
   "source": [
    "def compute_positive_strength(correlation_matrix):\n",
    "    positive_matrix = correlation_matrix.copy()\n",
    "    positive_matrix[positive_matrix < 0] = 0\n",
    "    return np.sum(positive_matrix, axis=0)\n",
    "\n",
    "def compute_negative_strength(correlation_matrix):\n",
    "    negative_matrix = correlation_matrix.copy()\n",
    "    negative_matrix[negative_matrix > 0] = 0\n",
    "    return np.sum(np.abs(negative_matrix), axis=0) # Sum the magnitude of negative connections"
   ],
   "id": "9d0d124585c130a2",
   "outputs": [],
   "execution_count": 30
  },
  {
   "metadata": {
    "ExecuteTime": {
     "end_time": "2025-09-09T19:17:23.381732Z",
     "start_time": "2025-09-09T19:17:23.379120Z"
    }
   },
   "cell_type": "code",
   "source": [
    "def compute_global_positive_strength(correlation_matrix):\n",
    "    return compute_negative_strength(correlation_matrix).mean()\n",
    "\n",
    "def compute_global_negative_strength(correlation_matrix):\n",
    "    return compute_negative_strength(correlation_matrix).mean()"
   ],
   "id": "1ad3b842a6d16416",
   "outputs": [],
   "execution_count": 31
  },
  {
   "metadata": {
    "ExecuteTime": {
     "end_time": "2025-09-09T19:17:25.020556Z",
     "start_time": "2025-09-09T19:17:25.015820Z"
    }
   },
   "cell_type": "code",
   "source": "regions = pd.read_csv('../data/gordon_sub_cere_parcels.csv')",
   "id": "a41df99baa630bcf",
   "outputs": [],
   "execution_count": 32
  },
  {
   "metadata": {
    "ExecuteTime": {
     "end_time": "2025-09-09T19:17:27.116524Z",
     "start_time": "2025-09-09T19:17:27.113263Z"
    }
   },
   "cell_type": "code",
   "source": [
    "# Create a mapping from ParcelId to NetworkNumber\n",
    "parcel_to_community = dict(zip(regions[\"ParcelID\"], regions[\"NetworkNumber\"]))\n",
    "\n",
    "# Get the number of communities\n",
    "num_communities = regions[\"NetworkNumber\"].nunique()\n",
    "community_sizes = regions[\"NetworkNumber\"].value_counts(sort=False).sort_index().tolist()\n",
    "\n",
    "value_counts = Counter(parcel_to_community.values())\n",
    "community_sizes_ordered = []\n",
    "# To print the count of keys for each value\n",
    "for value, count in dict(sorted(value_counts.items())).items():\n",
    "    #print(f\"Value: {value} - Count of keys: {count}\")\n",
    "    community_sizes_ordered.append(count)\n",
    "print(community_sizes_ordered)"
   ],
   "id": "6e789f126a65e32e",
   "outputs": [
    {
     "name": "stdout",
     "output_type": "stream",
     "text": [
      "[38, 8, 40, 24, 41, 39, 24, 4, 54, 23, 32, 31, 47, 5, 8]\n"
     ]
    }
   ],
   "execution_count": 33
  },
  {
   "metadata": {},
   "cell_type": "markdown",
   "source": [
    "This function calculates the following statistics for each network:\n",
    "\n",
    "* Average positive strength: Mean of positive connection strengths for nodes in the network\n",
    "* Average negative strength: Mean of negative connection strengths for nodes in the network\n",
    "* Average total strength: Mean of total connection strengths for nodes in the network\n",
    "\"Strength = weighted degree\"\n",
    "* Within-network positive connectivity: Average positive connectivity within the network\n",
    "* Within-network negative connectivity: Average negative connectivity within the network\n",
    "* Between-network positive connectivity: Average positive connectivity from this network to all other networks\n",
    "* Between-network negative connectivity: Average negative connectivity from this network to all other networks\n",
    "These are usually called “within-system connectivity” and “between-system connectivity”, or sometimes “within-module density” and “between-module density”.\n",
    "* Segregation: Ratio of within-network to between-network connectivity (a measure of how segregated the network is)"
   ],
   "id": "ac5ba843b3502614"
  },
  {
   "metadata": {},
   "cell_type": "raw",
   "source": [
    "def compute_network_statistics(correlation_matrix, community_sizes, network_order, mode=\"all\"):\n",
    "    \"\"\"\n",
    "    Compute network-level statistics for each network in the connectivity matrix.\n",
    "\n",
    "    Args:\n",
    "        correlation_matrix: Symmetric connectivity matrix reordered by network\n",
    "        community_sizes: List of sizes for each network\n",
    "        network_order: Ordered list of network identifiers\n",
    "        mode: Which statistics to compute (\"all\", \"strengths\", \"connectivity\", \"segregation\")\n",
    "\n",
    "    Returns:\n",
    "        DataFrame with network statistics for each network\n",
    "    \"\"\"\n",
    "    network_stats = []\n",
    "    cumulative_sizes = np.cumsum([0] + community_sizes)\n",
    "\n",
    "    # Precompute only if needed\n",
    "    if mode in [\"all\", \"strengths\"]:\n",
    "        positive_strengths = compute_positive_strength(correlation_matrix)\n",
    "        negative_strengths = compute_negative_strength(correlation_matrix)\n",
    "        total_strengths = positive_strengths + negative_strengths\n",
    "\n",
    "    for i, (network_id, size) in enumerate(zip(network_order, community_sizes)):\n",
    "        start_idx = cumulative_sizes[i]\n",
    "        end_idx = cumulative_sizes[i+1]\n",
    "        network_indices = list(range(start_idx, end_idx))\n",
    "\n",
    "        stat_dict = {\"network_id\": network_id, \"size\": size}\n",
    "\n",
    "        # Strengths\n",
    "        if mode in [\"all\", \"strengths\"]:\n",
    "            stat_dict.update({\n",
    "                \"avg_positive_strength\": np.mean(positive_strengths[network_indices]),\n",
    "                \"avg_negative_strength\": np.mean(negative_strengths[network_indices]),\n",
    "                \"avg_total_strength\": np.mean(total_strengths[network_indices])\n",
    "            })\n",
    "\n",
    "        # Connectivity\n",
    "        if mode in [\"all\", \"connectivity\", \"segregation\"]:\n",
    "            network_matrix = correlation_matrix[np.ix_(network_indices, network_indices)]\n",
    "            within_positive = np.sum(network_matrix[network_matrix > 0])\n",
    "            within_negative = np.sum(np.abs(network_matrix[network_matrix < 0]))\n",
    "            within_connections = size * (size - 1) / 2\n",
    "\n",
    "            other_indices = [idx for idx in range(correlation_matrix.shape[0]) if idx not in network_indices]\n",
    "            between_matrix = correlation_matrix[np.ix_(network_indices, other_indices)]\n",
    "            between_positive = np.sum(between_matrix[between_matrix > 0])\n",
    "            between_negative = np.sum(np.abs(between_matrix[between_matrix < 0]))\n",
    "            between_connections = size * (correlation_matrix.shape[0] - size)\n",
    "\n",
    "            stat_dict.update({\n",
    "                \"within_positive_connectivity\": within_positive / within_connections if within_connections > 0 else 0,\n",
    "                \"within_negative_connectivity\": within_negative / within_connections if within_connections > 0 else 0,\n",
    "                \"between_positive_connectivity\": between_positive / between_connections if between_connections > 0 else 0,\n",
    "                \"between_negative_connectivity\": between_negative / between_connections if between_connections > 0 else 0\n",
    "            })\n",
    "\n",
    "            # Segregation only if needed\n",
    "            if mode in [\"all\", \"segregation\"]:\n",
    "                if between_connections > 0 and within_connections > 0:\n",
    "                    segregation = (within_positive / within_connections) / (between_positive / between_connections)\n",
    "                else:\n",
    "                    segregation = np.nan\n",
    "                stat_dict[\"segregation\"] = segregation\n",
    "\n",
    "        network_stats.append(stat_dict)\n",
    "\n",
    "    return pd.DataFrame(network_stats)\n"
   ],
   "id": "9df8ada4d9126f89"
  },
  {
   "metadata": {},
   "cell_type": "code",
   "outputs": [],
   "execution_count": null,
   "source": [
    "def compute_network_statistics(correlation_matrix, community_sizes, network_order, mode=\"all\"):\n",
    "    \"\"\"\n",
    "    Compute network-level statistics for each network in the connectivity matrix.\n",
    "\n",
    "    Args:\n",
    "        correlation_matrix: Symmetric connectivity matrix reordered by network\n",
    "        community_sizes: List of sizes for each network\n",
    "        network_order: Ordered list of network identifiers\n",
    "        mode: Which statistics to compute (\"all\", \"strengths\", \"connectivity\", \"segregation\")\n",
    "\n",
    "    Returns:\n",
    "        DataFrame with network statistics for each network\n",
    "\n",
    "    Notes:\n",
    "        - Strength metrics (avg_positive_strength, avg_negative_strength, avg_total_strength) follow\n",
    "          definitions of node strength in weighted networks [Barrat et al., 2004; Rubinov & Sporns, 2010].\n",
    "          Positive/negative separation follows signed-network convention [Rubinov, 2011].\n",
    "\n",
    "        - Within- and between-system means (within_positive_mean, etc.) are standard summaries of\n",
    "          functional connectivity [Power et al., 2011].\n",
    "\n",
    "        - Segregation metrics:\n",
    "            * segregation_ratio: within-system positive mean / between-system positive mean (used in several FC studies)\n",
    "            * segregation_index: (within-system positive mean – between-system positive mean) / within-system positive mean,\n",
    "              as defined by Chan et al. (2014, PNAS).\n",
    "\n",
    "    References:\n",
    "        - Barrat, A. et al. (2004). The architecture of complex weighted networks. PNAS.\n",
    "        - Rubinov, M. & Sporns, O. (2010). Complex network measures of brain connectivity. NeuroImage.\n",
    "        - Rubinov, M. (2011). Weight-conserving characterization of complex functional brain networks. NeuroImage.\n",
    "        - Power, J.D. et al. (2011). Functional network organization of the human brain. Neuron.\n",
    "        - Chan, M.Y. et al. (2014). Decreased segregation of brain systems across the healthy adult lifespan. PNAS.\n",
    "    \"\"\"\n",
    "\n",
    "    network_stats = []\n",
    "    cumulative_sizes = np.cumsum([0] + community_sizes)\n",
    "\n",
    "    # Precompute strengths only if needed\n",
    "    if mode in [\"all\", \"strengths\"]:\n",
    "        positive_strengths = compute_positive_strength(correlation_matrix)\n",
    "        negative_strengths = compute_negative_strength(correlation_matrix)  # keep signed negatives\n",
    "        total_strengths = positive_strengths + negative_strengths\n",
    "\n",
    "    for i, (network_id, size) in enumerate(zip(network_order, community_sizes)):\n",
    "        start_idx = cumulative_sizes[i]\n",
    "        end_idx = cumulative_sizes[i+1]\n",
    "        network_indices = list(range(start_idx, end_idx))\n",
    "\n",
    "        stat_dict = {\"network_id\": network_id, \"size\": size}\n",
    "\n",
    "        # Strengths\n",
    "        if mode in [\"all\", \"strengths\"]:\n",
    "            stat_dict.update({\n",
    "                \"avg_positive_strength\": np.mean(positive_strengths[network_indices]),\n",
    "                \"avg_negative_strength\": np.mean(negative_strengths[network_indices]),\n",
    "                \"avg_total_strength\": np.mean(total_strengths[network_indices])\n",
    "            })\n",
    "\n",
    "        # Connectivity\n",
    "        if mode in [\"all\", \"connectivity\", \"segregation\"]:\n",
    "            network_matrix = correlation_matrix[np.ix_(network_indices, network_indices)]\n",
    "            within_positive = np.sum(network_matrix[network_matrix > 0])\n",
    "            within_negative = np.sum(network_matrix[network_matrix < 0])  # keep negatives\n",
    "            within_connections = size * (size - 1) / 2\n",
    "\n",
    "            other_indices = [idx for idx in range(correlation_matrix.shape[0]) if idx not in network_indices]\n",
    "            between_matrix = correlation_matrix[np.ix_(network_indices, other_indices)]\n",
    "            between_positive = np.sum(between_matrix[between_matrix > 0])\n",
    "            between_negative = np.sum(between_matrix[between_matrix < 0])  # keep negatives\n",
    "            between_connections = size * (correlation_matrix.shape[0] - size)\n",
    "\n",
    "            # Compute means\n",
    "            within_positive_mean = within_positive / within_connections if within_connections > 0 else np.nan\n",
    "            within_negative_mean = within_negative / within_connections if within_connections > 0 else np.nan\n",
    "            between_positive_mean = between_positive / between_connections if between_connections > 0 else np.nan\n",
    "            between_negative_mean = between_negative / between_connections if between_connections > 0 else np.nan\n",
    "\n",
    "            stat_dict.update({\n",
    "                \"within_positive_mean\": within_positive_mean,\n",
    "                \"within_negative_mean\": within_negative_mean,\n",
    "                \"between_positive_mean\": between_positive_mean,\n",
    "                \"between_negative_mean\": between_negative_mean\n",
    "            })\n",
    "\n",
    "            # Segregation (two variants)\n",
    "            if mode in [\"all\", \"segregation\"]:\n",
    "                if within_connections > 0 and between_connections > 0:\n",
    "                    # Ratio (your original definition)\n",
    "                    segregation_ratio = within_positive_mean / between_positive_mean if between_positive_mean != 0 else np.nan\n",
    "                    # Chan et al. (2014) definition\n",
    "                    segregation_index = (within_positive_mean - between_positive_mean) / within_positive_mean if within_positive_mean != 0 else np.nan\n",
    "                else:\n",
    "                    segregation_ratio, segregation_index = np.nan, np.nan\n",
    "\n",
    "                stat_dict.update({\n",
    "                    \"segregation_ratio\": segregation_ratio,\n",
    "                    \"segregation_index\": segregation_index\n",
    "                })\n",
    "\n",
    "        network_stats.append(stat_dict)\n",
    "\n",
    "    return pd.DataFrame(network_stats)\n"
   ],
   "id": "76f67a6fe91876e6"
  },
  {
   "metadata": {
    "ExecuteTime": {
     "end_time": "2025-09-07T18:29:31.259226Z",
     "start_time": "2025-09-07T18:29:31.248616Z"
    }
   },
   "cell_type": "code",
   "source": [
    "#test cell\n",
    "test_f = compute_network_statistics(matrix, community_sizes, net_order, mode=\"all\")"
   ],
   "id": "9ee3e475ba99f12",
   "outputs": [],
   "execution_count": 44
  },
  {
   "metadata": {
    "ExecuteTime": {
     "end_time": "2025-09-09T19:17:33.462827Z",
     "start_time": "2025-09-09T19:17:33.460588Z"
    }
   },
   "cell_type": "code",
   "source": "from tqdm import tqdm",
   "id": "91e1e2d69071219f",
   "outputs": [],
   "execution_count": 35
  },
  {
   "metadata": {
    "ExecuteTime": {
     "end_time": "2025-09-09T19:17:36.064741Z",
     "start_time": "2025-09-09T19:17:36.061929Z"
    }
   },
   "cell_type": "code",
   "source": [
    "def compute_one_statistic(df_features, df_network, community_sizes, net_order, mode, stat_name):\n",
    "    result = []\n",
    "    # Create subject-to-site mapping dictionary\n",
    "    subject_site_map = df_features.set_index('Subject')['site_id_l'].to_dict()\n",
    "\n",
    "    df_network['site_id_l'] = df_network['Subject'].map(subject_site_map)\n",
    "    #df_network.fillna(0, inplace=True)\n",
    "\n",
    "    for row in tqdm(df_network.itertuples(index=False), total=len(df_network)):\n",
    "        subj_id = row.Subject\n",
    "        site_id = row.site_id_l\n",
    "\n",
    "        # Reconstruct matrix from flattened vector\n",
    "        matrix_values = matrix_values = [v for k,v in row._asdict().items() if k not in (\"Subject\", \"site_id_l\")]\n",
    "        corr_matrix = vector_to_symmetric_matrix(matrix_values, 418)\n",
    "\n",
    "        # Compute stats\n",
    "        network_stats = compute_network_statistics(corr_matrix, community_sizes, net_order, mode=mode)\n",
    "\n",
    "        # Build one dictionary per subject\n",
    "        row_dict = {\"Subject\": subj_id, \"site_id_l\": site_id}\n",
    "        for _, stat_row in network_stats.iterrows():\n",
    "            net_id = stat_row[\"network_id\"]\n",
    "            if stat_name in stat_row:\n",
    "                row_dict[f\"{stat_name}[{net_id}]\"] = stat_row[stat_name]\n",
    "        result.append(row_dict)\n",
    "    return pd.DataFrame(result)\n"
   ],
   "id": "ae66f834b800d736",
   "outputs": [],
   "execution_count": 36
  },
  {
   "metadata": {
    "ExecuteTime": {
     "end_time": "2025-09-07T23:06:10.643998Z",
     "start_time": "2025-09-07T23:00:31.405708Z"
    }
   },
   "cell_type": "code",
   "outputs": [],
   "execution_count": 154,
   "source": [
    "flattened_baseline_df =pd.read_csv('../notebooks/flattened_baseline_df.csv')\n",
    "df_baseline_fg = pd.read_csv('../notebooks/df_baseline_fg.csv')\n",
    "flattened_followup_df = pd.read_csv('../notebooks/flattened_followup_df.csv')\n",
    "df_followup_fg = pd.read_csv('../notebooks/df_followup_fg.csv')"
   ],
   "id": "2648d0fda2ef6d05"
  },
  {
   "metadata": {
    "ExecuteTime": {
     "end_time": "2025-09-07T18:32:11.314791Z",
     "start_time": "2025-09-07T18:30:10.295416Z"
    }
   },
   "cell_type": "code",
   "source": [
    "# Compute only avg_positive_strength\n",
    "avg_pos_strength_baseline = compute_one_statistic(\n",
    "    df_features=article_features_baseline,\n",
    "    df_network=flattened_baseline_df,\n",
    "    community_sizes=community_sizes,\n",
    "    net_order=net_order,\n",
    "    mode=\"strengths\",\n",
    "    stat_name=\"avg_positive_strength\"\n",
    ")\n"
   ],
   "id": "e57886dd65858e0e",
   "outputs": [
    {
     "name": "stderr",
     "output_type": "stream",
     "text": [
      "100%|██████████| 4321/4321 [01:58<00:00, 36.57it/s]\n"
     ]
    }
   ],
   "execution_count": 49
  },
  {
   "metadata": {
    "ExecuteTime": {
     "end_time": "2025-09-07T18:34:29.190181Z",
     "start_time": "2025-09-07T18:32:20.267736Z"
    }
   },
   "cell_type": "code",
   "source": [
    "# Compute only avg_negative_strength\n",
    "avg_neg_strength_baseline = compute_one_statistic(\n",
    "    df_features=article_features_baseline,\n",
    "    df_network=flattened_baseline_df,\n",
    "    community_sizes=community_sizes,\n",
    "    net_order=net_order,\n",
    "    mode=\"strengths\",\n",
    "    stat_name=\"avg_negative_strength\"\n",
    ")"
   ],
   "id": "43818e4b21ce162a",
   "outputs": [
    {
     "name": "stderr",
     "output_type": "stream",
     "text": [
      "100%|██████████| 4321/4321 [02:06<00:00, 34.20it/s]\n"
     ]
    }
   ],
   "execution_count": 50
  },
  {
   "metadata": {
    "ExecuteTime": {
     "end_time": "2025-09-07T18:34:32.192645Z",
     "start_time": "2025-09-07T18:34:32.188260Z"
    }
   },
   "cell_type": "code",
   "source": "combined_strength_baseline = combine_data(avg_pos_strength_baseline, avg_neg_strength_baseline)",
   "id": "957738f243d997c8",
   "outputs": [],
   "execution_count": 51
  },
  {
   "metadata": {
    "ExecuteTime": {
     "end_time": "2025-09-07T18:34:35.561145Z",
     "start_time": "2025-09-07T18:34:35.416209Z"
    }
   },
   "cell_type": "code",
   "source": "results_no_network, models_no_network = run_cross_validation(combined_strength_baseline, y_baseline, use_network=False)",
   "id": "7a17e2681c4df30e",
   "outputs": [],
   "execution_count": 52
  },
  {
   "metadata": {
    "ExecuteTime": {
     "end_time": "2025-09-07T18:35:03.518424Z",
     "start_time": "2025-09-07T18:35:03.515709Z"
    }
   },
   "cell_type": "code",
   "source": "print_cross_val_results(results_no_network)",
   "id": "989a65be54221870",
   "outputs": [
    {
     "name": "stdout",
     "output_type": "stream",
     "text": [
      "Cross-validated Performance Metrics:\n",
      "Average Pearson's r: 0.148\n",
      "Partial eta squared: -0.047\n",
      "R²: -0.047\n"
     ]
    }
   ],
   "execution_count": 53
  },
  {
   "metadata": {
    "ExecuteTime": {
     "end_time": "2025-09-07T18:35:25.246561Z",
     "start_time": "2025-09-07T18:35:25.241715Z"
    }
   },
   "cell_type": "code",
   "source": "features_strength_baseline = combine_data(article_features_baseline,combined_strength_baseline)",
   "id": "ee7ff6c6986317cf",
   "outputs": [],
   "execution_count": 54
  },
  {
   "metadata": {
    "ExecuteTime": {
     "end_time": "2025-09-07T18:35:44.132863Z",
     "start_time": "2025-09-07T18:35:43.974421Z"
    }
   },
   "cell_type": "code",
   "source": [
    "results_no_network, models_no_network = run_cross_validation(features_strength_baseline, y_baseline, use_network=False)\n",
    "print_cross_val_results(results_no_network)"
   ],
   "id": "df60a767fb75dc81",
   "outputs": [
    {
     "name": "stdout",
     "output_type": "stream",
     "text": [
      "Cross-validated Performance Metrics:\n",
      "Average Pearson's r: 0.399\n",
      "Partial eta squared: 0.097\n",
      "R²: 0.097\n"
     ]
    }
   ],
   "execution_count": 55
  },
  {
   "metadata": {
    "ExecuteTime": {
     "end_time": "2025-09-07T18:36:29.993525Z",
     "start_time": "2025-09-07T18:36:29.989402Z"
    }
   },
   "cell_type": "code",
   "source": "features_ses_strength_baseline = combine_data(ses_baseline,features_strength_baseline)",
   "id": "72b51d4c42e693c5",
   "outputs": [],
   "execution_count": 56
  },
  {
   "metadata": {
    "ExecuteTime": {
     "end_time": "2025-09-07T18:36:57.989050Z",
     "start_time": "2025-09-07T18:36:57.840952Z"
    }
   },
   "cell_type": "code",
   "source": [
    "results_no_network, models_no_network = run_cross_validation(features_ses_strength_baseline, y_baseline, use_network=False)\n",
    "print_cross_val_results(results_no_network)"
   ],
   "id": "51ef1427a75b0019",
   "outputs": [
    {
     "name": "stdout",
     "output_type": "stream",
     "text": [
      "Cross-validated Performance Metrics:\n",
      "Average Pearson's r: 0.498\n",
      "Partial eta squared: 0.221\n",
      "R²: 0.221\n"
     ]
    }
   ],
   "execution_count": 57
  },
  {
   "metadata": {
    "ExecuteTime": {
     "end_time": "2025-09-07T18:41:13.688141Z",
     "start_time": "2025-09-07T18:39:01.056944Z"
    }
   },
   "cell_type": "code",
   "source": [
    "within_positive_connectivity_baseline = compute_one_statistic(\n",
    "    df_features=article_features_baseline,\n",
    "    df_network=flattened_baseline_df,\n",
    "    community_sizes=community_sizes,\n",
    "    net_order=net_order,\n",
    "    mode=\"connectivity\",\n",
    "    stat_name=\"within_positive_connectivity\"\n",
    ")"
   ],
   "id": "d748714aadf28a5b",
   "outputs": [
    {
     "name": "stderr",
     "output_type": "stream",
     "text": [
      "100%|██████████| 4321/4321 [02:10<00:00, 33.22it/s]\n"
     ]
    }
   ],
   "execution_count": 58
  },
  {
   "metadata": {
    "ExecuteTime": {
     "end_time": "2025-09-07T18:41:21.641441Z",
     "start_time": "2025-09-07T18:41:21.636697Z"
    }
   },
   "cell_type": "code",
   "source": "within_positive_connectivity_baseline.shape",
   "id": "aa474f22dba8063c",
   "outputs": [
    {
     "data": {
      "text/plain": [
       "(4321, 17)"
      ]
     },
     "execution_count": 59,
     "metadata": {},
     "output_type": "execute_result"
    }
   ],
   "execution_count": 59
  },
  {
   "metadata": {
    "ExecuteTime": {
     "end_time": "2025-09-07T18:41:56.292472Z",
     "start_time": "2025-09-07T18:41:56.285255Z"
    }
   },
   "cell_type": "code",
   "source": "within_positive_connectivity_baseline.head()",
   "id": "e6f2ee2d2e581f38",
   "outputs": [
    {
     "data": {
      "text/plain": [
       "           Subject site_id_l  within_positive_connectivity[1.0]  \\\n",
       "0  NDARINV003RTV85    site06                           0.156225   \n",
       "1  NDARINV00LH735Y    site03                           0.166484   \n",
       "2  NDARINV00NPMHND    site17                           0.135771   \n",
       "3  NDARINV00U4FTRU    site04                           0.142019   \n",
       "4  NDARINV01NAYMZH    site16                           0.104862   \n",
       "\n",
       "   within_positive_connectivity[2.0]  within_positive_connectivity[3.0]  \\\n",
       "0                           0.275470                           0.279468   \n",
       "1                           0.234919                           0.210021   \n",
       "2                           0.305354                           0.299830   \n",
       "3                           0.340289                           0.203022   \n",
       "4                           0.157979                           0.183218   \n",
       "\n",
       "   within_positive_connectivity[4.0]  within_positive_connectivity[5.0]  \\\n",
       "0                           0.300581                           0.180875   \n",
       "1                           0.233504                           0.175496   \n",
       "2                           0.248413                           0.129962   \n",
       "3                           0.241620                           0.133217   \n",
       "4                           0.221004                           0.139348   \n",
       "\n",
       "   within_positive_connectivity[7.0]  within_positive_connectivity[8.0]  \\\n",
       "0                           0.140126                           0.277151   \n",
       "1                           0.147248                           0.296304   \n",
       "2                           0.135243                           0.304510   \n",
       "3                           0.116540                           0.277087   \n",
       "4                           0.110362                           0.156215   \n",
       "\n",
       "   within_positive_connectivity[9.0]  within_positive_connectivity[10.0]  \\\n",
       "0                           0.665897                            0.227293   \n",
       "1                           0.740962                            0.198100   \n",
       "2                           0.765887                            0.248784   \n",
       "3                           0.843348                            0.183302   \n",
       "4                           0.178885                            0.216042   \n",
       "\n",
       "   within_positive_connectivity[11.0]  within_positive_connectivity[12.0]  \\\n",
       "0                            0.143918                            0.161973   \n",
       "1                            0.182647                            0.160282   \n",
       "2                            0.115470                            0.112916   \n",
       "3                            0.136292                            0.117048   \n",
       "4                            0.129755                            0.129438   \n",
       "\n",
       "   within_positive_connectivity[13.0]  within_positive_connectivity[14.0]  \\\n",
       "0                            0.129757                            0.142386   \n",
       "1                            0.098911                            0.103371   \n",
       "2                            0.142660                            0.149611   \n",
       "3                            0.078735                            0.080841   \n",
       "4                            0.086984                            0.109413   \n",
       "\n",
       "   within_positive_connectivity[15.0]  within_positive_connectivity[16.0]  \n",
       "0                            0.363335                            0.077775  \n",
       "1                            0.235107                            0.055134  \n",
       "2                            0.266550                            0.090931  \n",
       "3                            0.243794                            0.068095  \n",
       "4                            0.407182                            0.085487  "
      ],
      "text/html": [
       "<div>\n",
       "<style scoped>\n",
       "    .dataframe tbody tr th:only-of-type {\n",
       "        vertical-align: middle;\n",
       "    }\n",
       "\n",
       "    .dataframe tbody tr th {\n",
       "        vertical-align: top;\n",
       "    }\n",
       "\n",
       "    .dataframe thead th {\n",
       "        text-align: right;\n",
       "    }\n",
       "</style>\n",
       "<table border=\"1\" class=\"dataframe\">\n",
       "  <thead>\n",
       "    <tr style=\"text-align: right;\">\n",
       "      <th></th>\n",
       "      <th>Subject</th>\n",
       "      <th>site_id_l</th>\n",
       "      <th>within_positive_connectivity[1.0]</th>\n",
       "      <th>within_positive_connectivity[2.0]</th>\n",
       "      <th>within_positive_connectivity[3.0]</th>\n",
       "      <th>within_positive_connectivity[4.0]</th>\n",
       "      <th>within_positive_connectivity[5.0]</th>\n",
       "      <th>within_positive_connectivity[7.0]</th>\n",
       "      <th>within_positive_connectivity[8.0]</th>\n",
       "      <th>within_positive_connectivity[9.0]</th>\n",
       "      <th>within_positive_connectivity[10.0]</th>\n",
       "      <th>within_positive_connectivity[11.0]</th>\n",
       "      <th>within_positive_connectivity[12.0]</th>\n",
       "      <th>within_positive_connectivity[13.0]</th>\n",
       "      <th>within_positive_connectivity[14.0]</th>\n",
       "      <th>within_positive_connectivity[15.0]</th>\n",
       "      <th>within_positive_connectivity[16.0]</th>\n",
       "    </tr>\n",
       "  </thead>\n",
       "  <tbody>\n",
       "    <tr>\n",
       "      <th>0</th>\n",
       "      <td>NDARINV003RTV85</td>\n",
       "      <td>site06</td>\n",
       "      <td>0.156225</td>\n",
       "      <td>0.275470</td>\n",
       "      <td>0.279468</td>\n",
       "      <td>0.300581</td>\n",
       "      <td>0.180875</td>\n",
       "      <td>0.140126</td>\n",
       "      <td>0.277151</td>\n",
       "      <td>0.665897</td>\n",
       "      <td>0.227293</td>\n",
       "      <td>0.143918</td>\n",
       "      <td>0.161973</td>\n",
       "      <td>0.129757</td>\n",
       "      <td>0.142386</td>\n",
       "      <td>0.363335</td>\n",
       "      <td>0.077775</td>\n",
       "    </tr>\n",
       "    <tr>\n",
       "      <th>1</th>\n",
       "      <td>NDARINV00LH735Y</td>\n",
       "      <td>site03</td>\n",
       "      <td>0.166484</td>\n",
       "      <td>0.234919</td>\n",
       "      <td>0.210021</td>\n",
       "      <td>0.233504</td>\n",
       "      <td>0.175496</td>\n",
       "      <td>0.147248</td>\n",
       "      <td>0.296304</td>\n",
       "      <td>0.740962</td>\n",
       "      <td>0.198100</td>\n",
       "      <td>0.182647</td>\n",
       "      <td>0.160282</td>\n",
       "      <td>0.098911</td>\n",
       "      <td>0.103371</td>\n",
       "      <td>0.235107</td>\n",
       "      <td>0.055134</td>\n",
       "    </tr>\n",
       "    <tr>\n",
       "      <th>2</th>\n",
       "      <td>NDARINV00NPMHND</td>\n",
       "      <td>site17</td>\n",
       "      <td>0.135771</td>\n",
       "      <td>0.305354</td>\n",
       "      <td>0.299830</td>\n",
       "      <td>0.248413</td>\n",
       "      <td>0.129962</td>\n",
       "      <td>0.135243</td>\n",
       "      <td>0.304510</td>\n",
       "      <td>0.765887</td>\n",
       "      <td>0.248784</td>\n",
       "      <td>0.115470</td>\n",
       "      <td>0.112916</td>\n",
       "      <td>0.142660</td>\n",
       "      <td>0.149611</td>\n",
       "      <td>0.266550</td>\n",
       "      <td>0.090931</td>\n",
       "    </tr>\n",
       "    <tr>\n",
       "      <th>3</th>\n",
       "      <td>NDARINV00U4FTRU</td>\n",
       "      <td>site04</td>\n",
       "      <td>0.142019</td>\n",
       "      <td>0.340289</td>\n",
       "      <td>0.203022</td>\n",
       "      <td>0.241620</td>\n",
       "      <td>0.133217</td>\n",
       "      <td>0.116540</td>\n",
       "      <td>0.277087</td>\n",
       "      <td>0.843348</td>\n",
       "      <td>0.183302</td>\n",
       "      <td>0.136292</td>\n",
       "      <td>0.117048</td>\n",
       "      <td>0.078735</td>\n",
       "      <td>0.080841</td>\n",
       "      <td>0.243794</td>\n",
       "      <td>0.068095</td>\n",
       "    </tr>\n",
       "    <tr>\n",
       "      <th>4</th>\n",
       "      <td>NDARINV01NAYMZH</td>\n",
       "      <td>site16</td>\n",
       "      <td>0.104862</td>\n",
       "      <td>0.157979</td>\n",
       "      <td>0.183218</td>\n",
       "      <td>0.221004</td>\n",
       "      <td>0.139348</td>\n",
       "      <td>0.110362</td>\n",
       "      <td>0.156215</td>\n",
       "      <td>0.178885</td>\n",
       "      <td>0.216042</td>\n",
       "      <td>0.129755</td>\n",
       "      <td>0.129438</td>\n",
       "      <td>0.086984</td>\n",
       "      <td>0.109413</td>\n",
       "      <td>0.407182</td>\n",
       "      <td>0.085487</td>\n",
       "    </tr>\n",
       "  </tbody>\n",
       "</table>\n",
       "</div>"
      ]
     },
     "execution_count": 61,
     "metadata": {},
     "output_type": "execute_result"
    }
   ],
   "execution_count": 61
  },
  {
   "metadata": {
    "ExecuteTime": {
     "end_time": "2025-09-07T18:41:33.851682Z",
     "start_time": "2025-09-07T18:41:33.762360Z"
    }
   },
   "cell_type": "code",
   "source": [
    "results_no_network, models_no_network = run_cross_validation(within_positive_connectivity_baseline, y_baseline, use_network=False)\n",
    "print_cross_val_results(results_no_network)"
   ],
   "id": "b6d33303784e5ee6",
   "outputs": [
    {
     "name": "stdout",
     "output_type": "stream",
     "text": [
      "Cross-validated Performance Metrics:\n",
      "Average Pearson's r: 0.146\n",
      "Partial eta squared: -0.054\n",
      "R²: -0.054\n"
     ]
    }
   ],
   "execution_count": 60
  },
  {
   "metadata": {
    "ExecuteTime": {
     "end_time": "2025-09-07T18:43:18.807395Z",
     "start_time": "2025-09-07T18:43:18.731841Z"
    }
   },
   "cell_type": "code",
   "source": [
    "features_pos_con_baseline = combine_data(article_features_baseline,within_positive_connectivity_baseline)\n",
    "results_no_network, models_no_network = run_cross_validation(features_pos_con_baseline, y_baseline, use_network=False)\n",
    "print_cross_val_results(results_no_network)"
   ],
   "id": "45c6d06311629e4c",
   "outputs": [
    {
     "name": "stdout",
     "output_type": "stream",
     "text": [
      "Cross-validated Performance Metrics:\n",
      "Average Pearson's r: 0.409\n",
      "Partial eta squared: 0.100\n",
      "R²: 0.100\n"
     ]
    }
   ],
   "execution_count": 62
  },
  {
   "metadata": {
    "ExecuteTime": {
     "end_time": "2025-09-07T18:44:29.366582Z",
     "start_time": "2025-09-07T18:44:29.281407Z"
    }
   },
   "cell_type": "code",
   "source": [
    "features_ses_pos_con_baseline = combine_data(features_pos_con_baseline,ses_baseline)\n",
    "results_no_network, models_no_network = run_cross_validation(features_ses_pos_con_baseline, y_baseline, use_network=False)\n",
    "print_cross_val_results(results_no_network)"
   ],
   "id": "de9df9eefa1d88db",
   "outputs": [
    {
     "name": "stdout",
     "output_type": "stream",
     "text": [
      "Cross-validated Performance Metrics:\n",
      "Average Pearson's r: 0.502\n",
      "Partial eta squared: 0.224\n",
      "R²: 0.224\n"
     ]
    }
   ],
   "execution_count": 63
  },
  {
   "metadata": {
    "ExecuteTime": {
     "end_time": "2025-09-07T18:47:15.288203Z",
     "start_time": "2025-09-07T18:44:59.761708Z"
    }
   },
   "cell_type": "code",
   "source": [
    "within_negative_connectivity_baseline = compute_one_statistic(\n",
    "    df_features=article_features_baseline,\n",
    "    df_network=flattened_baseline_df,\n",
    "    community_sizes=community_sizes,\n",
    "    net_order=net_order,\n",
    "    mode=\"connectivity\",\n",
    "    stat_name=\"within_negative_connectivity\"\n",
    ")"
   ],
   "id": "50c96790d7f2bb2a",
   "outputs": [
    {
     "name": "stderr",
     "output_type": "stream",
     "text": [
      "100%|██████████| 4321/4321 [02:12<00:00, 32.52it/s]\n"
     ]
    }
   ],
   "execution_count": 64
  },
  {
   "metadata": {
    "ExecuteTime": {
     "end_time": "2025-09-07T18:47:43.295479Z",
     "start_time": "2025-09-07T18:47:43.236732Z"
    }
   },
   "cell_type": "code",
   "source": [
    "results_no_network, models_no_network = run_cross_validation(within_negative_connectivity_baseline, y_baseline,\n",
    "                                                             use_network=False)\n",
    "print_cross_val_results(results_no_network)\n"
   ],
   "id": "94968cf682565895",
   "outputs": [
    {
     "name": "stdout",
     "output_type": "stream",
     "text": [
      "Cross-validated Performance Metrics:\n",
      "Average Pearson's r: 0.107\n",
      "Partial eta squared: -0.064\n",
      "R²: -0.064\n"
     ]
    }
   ],
   "execution_count": 65
  },
  {
   "metadata": {
    "ExecuteTime": {
     "end_time": "2025-09-07T18:47:49.912412Z",
     "start_time": "2025-09-07T18:47:49.839879Z"
    }
   },
   "cell_type": "code",
   "source": [
    "features_neg_con_baseline = combine_data(article_features_baseline, within_negative_connectivity_baseline)\n",
    "results_no_network, models_no_network = run_cross_validation(features_neg_con_baseline, y_baseline, use_network=False)\n",
    "print_cross_val_results(results_no_network)\n"
   ],
   "id": "a45a28a90c58ba69",
   "outputs": [
    {
     "name": "stdout",
     "output_type": "stream",
     "text": [
      "Cross-validated Performance Metrics:\n",
      "Average Pearson's r: 0.401\n",
      "Partial eta squared: 0.090\n",
      "R²: 0.090\n"
     ]
    }
   ],
   "execution_count": 66
  },
  {
   "metadata": {
    "ExecuteTime": {
     "end_time": "2025-09-07T18:47:56.106822Z",
     "start_time": "2025-09-07T18:47:56.027939Z"
    }
   },
   "cell_type": "code",
   "source": [
    "features_ses_neg_con_baseline = combine_data(features_neg_con_baseline, ses_baseline)\n",
    "results_no_network, models_no_network = run_cross_validation(features_ses_neg_con_baseline, y_baseline,\n",
    "                                                             use_network=False)\n",
    "print_cross_val_results(results_no_network)"
   ],
   "id": "555bac6cb7f9caca",
   "outputs": [
    {
     "name": "stdout",
     "output_type": "stream",
     "text": [
      "Cross-validated Performance Metrics:\n",
      "Average Pearson's r: 0.500\n",
      "Partial eta squared: 0.220\n",
      "R²: 0.220\n"
     ]
    }
   ],
   "execution_count": 67
  },
  {
   "metadata": {
    "ExecuteTime": {
     "end_time": "2025-09-07T18:48:04.210663Z",
     "start_time": "2025-09-07T18:48:04.208193Z"
    }
   },
   "cell_type": "code",
   "source": "combined_within_connectivity_baseline = combine_data(within_positive_connectivity_baseline, within_negative_connectivity_baseline)",
   "id": "4d5ba4167ddda06a",
   "outputs": [],
   "execution_count": 68
  },
  {
   "metadata": {
    "ExecuteTime": {
     "end_time": "2025-09-07T18:48:37.153506Z",
     "start_time": "2025-09-07T18:48:37.064968Z"
    }
   },
   "cell_type": "code",
   "source": [
    "results_no_network, models_no_network = run_cross_validation(combined_within_connectivity_baseline, y_baseline,\n",
    "                                                             use_network=False)\n",
    "print_cross_val_results(results_no_network)"
   ],
   "id": "ba41d90c5bb93a36",
   "outputs": [
    {
     "name": "stdout",
     "output_type": "stream",
     "text": [
      "Cross-validated Performance Metrics:\n",
      "Average Pearson's r: 0.170\n",
      "Partial eta squared: -0.046\n",
      "R²: -0.046\n"
     ]
    }
   ],
   "execution_count": 69
  },
  {
   "metadata": {
    "ExecuteTime": {
     "end_time": "2025-09-07T18:49:21.165953Z",
     "start_time": "2025-09-07T18:49:21.161061Z"
    }
   },
   "cell_type": "code",
   "source": "features_within_con_baseline = combine_data(article_features_baseline, combined_within_connectivity_baseline)",
   "id": "db29c11005e7e0f1",
   "outputs": [],
   "execution_count": 70
  },
  {
   "metadata": {
    "ExecuteTime": {
     "end_time": "2025-09-07T18:49:35.747905Z",
     "start_time": "2025-09-07T18:49:35.612336Z"
    }
   },
   "cell_type": "code",
   "source": [
    "results_no_network, models_no_network = run_cross_validation(features_within_con_baseline, y_baseline,\n",
    "                                                             use_network=False)\n",
    "print_cross_val_results(results_no_network)"
   ],
   "id": "fa395315e4375600",
   "outputs": [
    {
     "name": "stdout",
     "output_type": "stream",
     "text": [
      "Cross-validated Performance Metrics:\n",
      "Average Pearson's r: 0.405\n",
      "Partial eta squared: 0.096\n",
      "R²: 0.096\n"
     ]
    }
   ],
   "execution_count": 71
  },
  {
   "metadata": {
    "ExecuteTime": {
     "end_time": "2025-09-07T18:50:37.443441Z",
     "start_time": "2025-09-07T18:50:37.292234Z"
    }
   },
   "cell_type": "code",
   "source": [
    "features_ses_within_con_baseline = combine_data(ses_baseline, features_within_con_baseline)\n",
    "results_no_network, models_no_network = run_cross_validation(features_ses_within_con_baseline, y_baseline,\n",
    "                                                             use_network=False)\n",
    "print_cross_val_results(results_no_network)"
   ],
   "id": "c65d28eba2b2d8f9",
   "outputs": [
    {
     "name": "stdout",
     "output_type": "stream",
     "text": [
      "Cross-validated Performance Metrics:\n",
      "Average Pearson's r: 0.500\n",
      "Partial eta squared: 0.221\n",
      "R²: 0.221\n"
     ]
    }
   ],
   "execution_count": 72
  },
  {
   "metadata": {
    "ExecuteTime": {
     "end_time": "2025-09-07T18:53:26.946596Z",
     "start_time": "2025-09-07T18:51:12.903478Z"
    }
   },
   "cell_type": "code",
   "source": [
    "between_positive_connectivity_baseline = compute_one_statistic(\n",
    "    df_features=article_features_baseline,\n",
    "    df_network=flattened_baseline_df,\n",
    "    community_sizes=community_sizes,\n",
    "    net_order=net_order,\n",
    "    mode=\"connectivity\",\n",
    "    stat_name=\"between_positive_connectivity\"\n",
    ")"
   ],
   "id": "bcd1950834589d6",
   "outputs": [
    {
     "name": "stderr",
     "output_type": "stream",
     "text": [
      "100%|██████████| 4321/4321 [02:11<00:00, 32.79it/s]\n"
     ]
    }
   ],
   "execution_count": 73
  },
  {
   "metadata": {
    "ExecuteTime": {
     "end_time": "2025-09-07T18:53:39.343169Z",
     "start_time": "2025-09-07T18:53:39.282762Z"
    }
   },
   "cell_type": "code",
   "source": [
    "results_no_network, models_no_network = run_cross_validation(between_positive_connectivity_baseline, y_baseline,\n",
    "                                                             use_network=False)\n",
    "print_cross_val_results(results_no_network)"
   ],
   "id": "68986452f51ac731",
   "outputs": [
    {
     "name": "stdout",
     "output_type": "stream",
     "text": [
      "Cross-validated Performance Metrics:\n",
      "Average Pearson's r: 0.056\n",
      "Partial eta squared: -0.077\n",
      "R²: -0.077\n"
     ]
    }
   ],
   "execution_count": 74
  },
  {
   "metadata": {
    "ExecuteTime": {
     "end_time": "2025-09-07T18:53:42.055778Z",
     "start_time": "2025-09-07T18:53:41.982736Z"
    }
   },
   "cell_type": "code",
   "source": [
    "features_pos_con_between_baseline = combine_data(article_features_baseline, between_positive_connectivity_baseline)\n",
    "results_no_network, models_no_network = run_cross_validation(features_pos_con_between_baseline, y_baseline, use_network=False)\n",
    "print_cross_val_results(results_no_network)"
   ],
   "id": "c7695a1721be7cbf",
   "outputs": [
    {
     "name": "stdout",
     "output_type": "stream",
     "text": [
      "Cross-validated Performance Metrics:\n",
      "Average Pearson's r: 0.400\n",
      "Partial eta squared: 0.092\n",
      "R²: 0.092\n"
     ]
    }
   ],
   "execution_count": 75
  },
  {
   "metadata": {
    "ExecuteTime": {
     "end_time": "2025-09-07T18:53:45.674927Z",
     "start_time": "2025-09-07T18:53:45.594926Z"
    }
   },
   "cell_type": "code",
   "source": [
    "features_ses_pos_con_between_baseline = combine_data(features_pos_con_between_baseline, ses_baseline)\n",
    "results_no_network, models_no_network = run_cross_validation(features_ses_pos_con_between_baseline, y_baseline,\n",
    "                                                             use_network=False)\n",
    "print_cross_val_results(results_no_network)"
   ],
   "id": "ca0e81b685c6441a",
   "outputs": [
    {
     "name": "stdout",
     "output_type": "stream",
     "text": [
      "Cross-validated Performance Metrics:\n",
      "Average Pearson's r: 0.500\n",
      "Partial eta squared: 0.222\n",
      "R²: 0.222\n"
     ]
    }
   ],
   "execution_count": 76
  },
  {
   "metadata": {
    "ExecuteTime": {
     "end_time": "2025-09-07T18:54:56.919179Z",
     "start_time": "2025-09-07T18:54:56.916282Z"
    }
   },
   "cell_type": "code",
   "source": "combined_pos_connectivity_baseline = combine_data(within_positive_connectivity_baseline, between_positive_connectivity_baseline)",
   "id": "3c4fe1835492d01b",
   "outputs": [],
   "execution_count": 77
  },
  {
   "metadata": {
    "ExecuteTime": {
     "end_time": "2025-09-07T18:55:17.483338Z",
     "start_time": "2025-09-07T18:55:17.363205Z"
    }
   },
   "cell_type": "code",
   "source": [
    "results_no_network, models_no_network = run_cross_validation(combined_pos_connectivity_baseline, y_baseline,\n",
    "                                                             use_network=False)\n",
    "print_cross_val_results(results_no_network)"
   ],
   "id": "f0597b7dd2fa5a1f",
   "outputs": [
    {
     "name": "stdout",
     "output_type": "stream",
     "text": [
      "Cross-validated Performance Metrics:\n",
      "Average Pearson's r: 0.176\n",
      "Partial eta squared: -0.038\n",
      "R²: -0.038\n"
     ]
    }
   ],
   "execution_count": 78
  },
  {
   "metadata": {
    "ExecuteTime": {
     "end_time": "2025-09-07T18:56:03.153687Z",
     "start_time": "2025-09-07T18:56:03.048700Z"
    }
   },
   "cell_type": "code",
   "source": [
    "features_combined_pos_connectivity_baseline = combine_data(article_features_baseline, combined_pos_connectivity_baseline)\n",
    "results_no_network, models_no_network = run_cross_validation(features_combined_pos_connectivity_baseline , y_baseline, use_network=False)\n",
    "print_cross_val_results(results_no_network)"
   ],
   "id": "153a86aae01e9945",
   "outputs": [
    {
     "name": "stdout",
     "output_type": "stream",
     "text": [
      "Cross-validated Performance Metrics:\n",
      "Average Pearson's r: 0.412\n",
      "Partial eta squared: 0.106\n",
      "R²: 0.106\n"
     ]
    }
   ],
   "execution_count": 79
  },
  {
   "metadata": {
    "ExecuteTime": {
     "end_time": "2025-09-07T18:57:11.442998Z",
     "start_time": "2025-09-07T18:57:11.325481Z"
    }
   },
   "cell_type": "code",
   "source": [
    "features_ses_combined_pos_connectivity_baseline = combine_data(features_combined_pos_connectivity_baseline, ses_baseline)\n",
    "results_no_network, models_no_network = run_cross_validation(features_ses_combined_pos_connectivity_baseline, y_baseline,\n",
    "                                                             use_network=False)\n",
    "print_cross_val_results(results_no_network)"
   ],
   "id": "614e9166d3dc6333",
   "outputs": [
    {
     "name": "stdout",
     "output_type": "stream",
     "text": [
      "Cross-validated Performance Metrics:\n",
      "Average Pearson's r: 0.502\n",
      "Partial eta squared: 0.224\n",
      "R²: 0.224\n"
     ]
    }
   ],
   "execution_count": 80
  },
  {
   "metadata": {
    "ExecuteTime": {
     "end_time": "2025-09-07T19:00:29.825544Z",
     "start_time": "2025-09-07T18:58:21.069849Z"
    }
   },
   "cell_type": "code",
   "source": [
    "between_negative_connectivity_baseline = compute_one_statistic(\n",
    "    df_features=article_features_baseline,\n",
    "    df_network=flattened_baseline_df,\n",
    "    community_sizes=community_sizes,\n",
    "    net_order=net_order,\n",
    "    mode=\"connectivity\",\n",
    "    stat_name=\"between_negative_connectivity\"\n",
    ")"
   ],
   "id": "7722f62e9435063c",
   "outputs": [
    {
     "name": "stderr",
     "output_type": "stream",
     "text": [
      "100%|██████████| 4321/4321 [02:06<00:00, 34.18it/s]\n"
     ]
    }
   ],
   "execution_count": 81
  },
  {
   "metadata": {
    "ExecuteTime": {
     "end_time": "2025-09-07T19:02:56.367619Z",
     "start_time": "2025-09-07T19:02:56.308118Z"
    }
   },
   "cell_type": "code",
   "source": [
    "results_no_network, models_no_network = run_cross_validation(between_negative_connectivity_baseline, y_baseline,\n",
    "                                                             use_network=False)\n",
    "print_cross_val_results(results_no_network)"
   ],
   "id": "785ea8e50a98cca6",
   "outputs": [
    {
     "name": "stdout",
     "output_type": "stream",
     "text": [
      "Cross-validated Performance Metrics:\n",
      "Average Pearson's r: 0.134\n",
      "Partial eta squared: -0.054\n",
      "R²: -0.054\n"
     ]
    }
   ],
   "execution_count": 82
  },
  {
   "metadata": {
    "ExecuteTime": {
     "end_time": "2025-09-07T19:03:25.524730Z",
     "start_time": "2025-09-07T19:03:25.452045Z"
    }
   },
   "cell_type": "code",
   "source": [
    "features_neg_con_between_baseline = combine_data(article_features_baseline, between_negative_connectivity_baseline)\n",
    "results_no_network, models_no_network = run_cross_validation(features_neg_con_between_baseline, y_baseline,\n",
    "                                                             use_network=False)\n",
    "print_cross_val_results(results_no_network)"
   ],
   "id": "fc16cdbf78b15c8a",
   "outputs": [
    {
     "name": "stdout",
     "output_type": "stream",
     "text": [
      "Cross-validated Performance Metrics:\n",
      "Average Pearson's r: 0.401\n",
      "Partial eta squared: 0.092\n",
      "R²: 0.092\n"
     ]
    }
   ],
   "execution_count": 83
  },
  {
   "metadata": {
    "ExecuteTime": {
     "end_time": "2025-09-07T19:03:58.775009Z",
     "start_time": "2025-09-07T19:03:58.666455Z"
    }
   },
   "cell_type": "code",
   "source": [
    "features_ses_neg_con_between_baseline = combine_data(features_neg_con_between_baseline, ses_baseline)\n",
    "results_no_network, models_no_network = run_cross_validation(features_ses_neg_con_between_baseline, y_baseline,\n",
    "                                                             use_network=False)\n",
    "print_cross_val_results(results_no_network)"
   ],
   "id": "4b32534bb7f35b8e",
   "outputs": [
    {
     "name": "stdout",
     "output_type": "stream",
     "text": [
      "Cross-validated Performance Metrics:\n",
      "Average Pearson's r: 0.500\n",
      "Partial eta squared: 0.222\n",
      "R²: 0.222\n"
     ]
    }
   ],
   "execution_count": 84
  },
  {
   "metadata": {
    "ExecuteTime": {
     "end_time": "2025-09-07T19:06:05.280504Z",
     "start_time": "2025-09-07T19:06:05.275052Z"
    }
   },
   "cell_type": "code",
   "source": "combined_connectivity_between_baseline = combine_data(between_positive_connectivity_baseline, between_negative_connectivity_baseline)",
   "id": "5d4c20b64eb7ebc3",
   "outputs": [],
   "execution_count": 85
  },
  {
   "metadata": {
    "ExecuteTime": {
     "end_time": "2025-09-07T19:06:15.506381Z",
     "start_time": "2025-09-07T19:06:15.415889Z"
    }
   },
   "cell_type": "code",
   "source": [
    "results_no_network, models_no_network = run_cross_validation(combined_connectivity_between_baseline, y_baseline,\n",
    "                                                             use_network=False)\n",
    "print_cross_val_results(results_no_network)"
   ],
   "id": "442f1284556c16c0",
   "outputs": [
    {
     "name": "stdout",
     "output_type": "stream",
     "text": [
      "Cross-validated Performance Metrics:\n",
      "Average Pearson's r: 0.142\n",
      "Partial eta squared: -0.049\n",
      "R²: -0.049\n"
     ]
    }
   ],
   "execution_count": 86
  },
  {
   "metadata": {
    "ExecuteTime": {
     "end_time": "2025-09-07T19:07:15.059830Z",
     "start_time": "2025-09-07T19:07:15.055891Z"
    }
   },
   "cell_type": "code",
   "source": "features_combined_con_between_baseline = combine_data(article_features_baseline, combined_connectivity_between_baseline)",
   "id": "953a4e8bd1cd73d7",
   "outputs": [],
   "execution_count": 88
  },
  {
   "metadata": {
    "ExecuteTime": {
     "end_time": "2025-09-07T19:07:31.655115Z",
     "start_time": "2025-09-07T19:07:31.552853Z"
    }
   },
   "cell_type": "code",
   "source": [
    "results_no_network, models_no_network = run_cross_validation(features_combined_con_between_baseline, y_baseline,\n",
    "                                                             use_network=False)\n",
    "print_cross_val_results(results_no_network)"
   ],
   "id": "38a2faed11257616",
   "outputs": [
    {
     "name": "stdout",
     "output_type": "stream",
     "text": [
      "Cross-validated Performance Metrics:\n",
      "Average Pearson's r: 0.398\n",
      "Partial eta squared: 0.097\n",
      "R²: 0.097\n"
     ]
    }
   ],
   "execution_count": 89
  },
  {
   "metadata": {
    "ExecuteTime": {
     "end_time": "2025-09-07T19:08:26.923198Z",
     "start_time": "2025-09-07T19:08:26.812927Z"
    }
   },
   "cell_type": "code",
   "source": [
    "features_ses_combined_con_between_baseline = combine_data(ses_baseline, features_combined_con_between_baseline)\n",
    "results_no_network, models_no_network = run_cross_validation(features_ses_combined_con_between_baseline, y_baseline,\n",
    "                                                             use_network=False)\n",
    "print_cross_val_results(results_no_network)"
   ],
   "id": "8679691f5441cd43",
   "outputs": [
    {
     "name": "stdout",
     "output_type": "stream",
     "text": [
      "Cross-validated Performance Metrics:\n",
      "Average Pearson's r: 0.498\n",
      "Partial eta squared: 0.221\n",
      "R²: 0.221\n"
     ]
    }
   ],
   "execution_count": 91
  },
  {
   "metadata": {
    "ExecuteTime": {
     "end_time": "2025-09-07T19:10:02.638417Z",
     "start_time": "2025-09-07T19:10:02.632504Z"
    }
   },
   "cell_type": "code",
   "source": "all_connectivity_baseline = combine_data(combined_connectivity_between_baseline, combined_within_connectivity_baseline)",
   "id": "ee8ceb54570be710",
   "outputs": [],
   "execution_count": 92
  },
  {
   "metadata": {
    "ExecuteTime": {
     "end_time": "2025-09-07T19:10:24.520586Z",
     "start_time": "2025-09-07T19:10:24.315616Z"
    }
   },
   "cell_type": "code",
   "source": [
    "results_no_network, models_no_network = run_cross_validation(all_connectivity_baseline, y_baseline,\n",
    "                                                             use_network=False)\n",
    "print_cross_val_results(results_no_network)"
   ],
   "id": "83f2dce622887fa3",
   "outputs": [
    {
     "name": "stdout",
     "output_type": "stream",
     "text": [
      "Cross-validated Performance Metrics:\n",
      "Average Pearson's r: 0.202\n",
      "Partial eta squared: -0.028\n",
      "R²: -0.028\n"
     ]
    }
   ],
   "execution_count": 93
  },
  {
   "metadata": {
    "ExecuteTime": {
     "end_time": "2025-09-07T19:11:04.203367Z",
     "start_time": "2025-09-07T19:11:03.962818Z"
    }
   },
   "cell_type": "code",
   "source": [
    "features_all_connectivity_baseline = combine_data(all_connectivity_baseline, article_features_baseline)\n",
    "results_no_network, models_no_network = run_cross_validation(features_all_connectivity_baseline, y_baseline,\n",
    "                                                             use_network=False)\n",
    "print_cross_val_results(results_no_network)"
   ],
   "id": "2230a46968bdf84d",
   "outputs": [
    {
     "name": "stdout",
     "output_type": "stream",
     "text": [
      "Cross-validated Performance Metrics:\n",
      "Average Pearson's r: 0.411\n",
      "Partial eta squared: 0.104\n",
      "R²: 0.104\n"
     ]
    }
   ],
   "execution_count": 94
  },
  {
   "metadata": {
    "ExecuteTime": {
     "end_time": "2025-09-07T19:11:41.856585Z",
     "start_time": "2025-09-07T19:11:41.593815Z"
    }
   },
   "cell_type": "code",
   "source": [
    "features_ses_all_connectivity_baseline = combine_data(features_all_connectivity_baseline, ses_baseline)\n",
    "results_no_network, models_no_network = run_cross_validation(features_ses_all_connectivity_baseline, y_baseline,\n",
    "                                                             use_network=False)\n",
    "print_cross_val_results(results_no_network)"
   ],
   "id": "79f1127faf33a125",
   "outputs": [
    {
     "name": "stdout",
     "output_type": "stream",
     "text": [
      "Cross-validated Performance Metrics:\n",
      "Average Pearson's r: 0.500\n",
      "Partial eta squared: 0.221\n",
      "R²: 0.221\n"
     ]
    }
   ],
   "execution_count": 95
  },
  {
   "metadata": {
    "ExecuteTime": {
     "end_time": "2025-09-07T19:14:17.587920Z",
     "start_time": "2025-09-07T19:12:00.661782Z"
    }
   },
   "cell_type": "code",
   "source": [
    "segregation_baseline = compute_one_statistic(\n",
    "    df_features=article_features_baseline,\n",
    "    df_network=flattened_baseline_df,\n",
    "    community_sizes=community_sizes,\n",
    "    net_order=net_order,\n",
    "    mode=\"segregation\",\n",
    "    stat_name=\"segregation\"\n",
    ")"
   ],
   "id": "c3d61b6851c85e05",
   "outputs": [
    {
     "name": "stderr",
     "output_type": "stream",
     "text": [
      "100%|██████████| 4321/4321 [02:14<00:00, 32.19it/s]\n"
     ]
    }
   ],
   "execution_count": 96
  },
  {
   "metadata": {
    "ExecuteTime": {
     "end_time": "2025-09-07T19:14:20.314133Z",
     "start_time": "2025-09-07T19:14:20.253793Z"
    }
   },
   "cell_type": "code",
   "source": [
    "results_no_network, models_no_network = run_cross_validation(segregation_baseline, y_baseline,\n",
    "                                                             use_network=False)\n",
    "print_cross_val_results(results_no_network)"
   ],
   "id": "ef138f9cd5d64fb8",
   "outputs": [
    {
     "name": "stdout",
     "output_type": "stream",
     "text": [
      "Cross-validated Performance Metrics:\n",
      "Average Pearson's r: 0.166\n",
      "Partial eta squared: -0.043\n",
      "R²: -0.043\n"
     ]
    }
   ],
   "execution_count": 97
  },
  {
   "metadata": {
    "ExecuteTime": {
     "end_time": "2025-09-07T19:14:22.237864Z",
     "start_time": "2025-09-07T19:14:22.166320Z"
    }
   },
   "cell_type": "code",
   "source": [
    "features_segregation_baseline = combine_data(article_features_baseline, segregation_baseline)\n",
    "results_no_network, models_no_network = run_cross_validation(features_segregation_baseline, y_baseline,\n",
    "                                                             use_network=False)\n",
    "print_cross_val_results(results_no_network)"
   ],
   "id": "3010a24d605dc0f",
   "outputs": [
    {
     "name": "stdout",
     "output_type": "stream",
     "text": [
      "Cross-validated Performance Metrics:\n",
      "Average Pearson's r: 0.411\n",
      "Partial eta squared: 0.103\n",
      "R²: 0.103\n"
     ]
    }
   ],
   "execution_count": 98
  },
  {
   "metadata": {
    "ExecuteTime": {
     "end_time": "2025-09-07T19:14:25.708442Z",
     "start_time": "2025-09-07T19:14:25.620848Z"
    }
   },
   "cell_type": "code",
   "source": [
    "features_ses_segregation_baseline = combine_data(features_segregation_baseline, ses_baseline)\n",
    "results_no_network, models_no_network = run_cross_validation(features_ses_segregation_baseline, y_baseline,\n",
    "                                                             use_network=False)\n",
    "print_cross_val_results(results_no_network)"
   ],
   "id": "dc3c8d48934711bd",
   "outputs": [
    {
     "name": "stdout",
     "output_type": "stream",
     "text": [
      "Cross-validated Performance Metrics:\n",
      "Average Pearson's r: 0.502\n",
      "Partial eta squared: 0.224\n",
      "R²: 0.224\n"
     ]
    }
   ],
   "execution_count": 99
  },
  {
   "metadata": {},
   "cell_type": "markdown",
   "source": [
    "### Summary table 3 a:\n",
    "| Description                 | Pearson's correlation | Partial $\\eta^2$ | Coefficient of Determination |\n",
    "|-----------------------------|-----------------------|------------------|-----------------------------|\n",
    "| Positive between strength |\n",
    "| Positive between strength + baseline features|\n",
    "| Positive between strength + baseline features +SES|\n",
    "| Negative between strength |\n",
    "| Negative between strength + baseline features|\n",
    "| Negative between strength + baseline features +SES|\n",
    "| Combined between strength|\n",
    "| Combined between strength + baseline features|\n",
    "| Combined between strength + baseline features+SES|\n",
    "| Positive within strength |\n",
    "| Positive within strength + baseline features|\n",
    "| Positive within strength + baseline features +SES|\n",
    "| Negative within strength |\n",
    "| Negative within strength + baseline features|\n",
    "| Negative within strength + baseline features +SES|\n",
    "| Combined within strength| 0.142| -0.049|-0.049|\n",
    "| Combined within strength + baseline features| 0.398 | 0.097| 0.097|\n",
    "| Combined within strength + baseline features+SES| 0.498 | 0.221| 0.221|\n",
    "| All strength| 0.202 |- 0.028 | -0.028|\n",
    "| All strength + baseline features| 0.411| 0.104 | 0.104|\n",
    "| All strength + baseline features + SES| 0.5             | 0.221            | 0.221                       |\n",
    "| Segregation|                      0.166                 | -0.043           | -0.043                      |\n",
    "| Segregation + baseline features|  0.411                 | 0.103            | 0.103                       |\n",
    "| Segregation + baseline features + SES| 0.502            | 0.224            | 0.224                       |\n",
    "| Baseline observations+ SES + PCs| 0.530                 | 0.261            | 0.261                       |"
   ],
   "id": "ee4e4e4a70be410a"
  },
  {
   "metadata": {
    "ExecuteTime": {
     "end_time": "2025-09-07T19:33:03.124720Z",
     "start_time": "2025-09-07T19:31:46.673445Z"
    }
   },
   "cell_type": "code",
   "source": [
    "avg_pos_strength_followup = compute_one_statistic(\n",
    "    df_features=article_features_followup,\n",
    "    df_network=flattened_followup_df,\n",
    "    community_sizes=community_sizes,\n",
    "    net_order=net_order,\n",
    "    mode=\"strengths\",\n",
    "    stat_name=\"avg_positive_strength\"\n",
    ")"
   ],
   "id": "153da62bca88af69",
   "outputs": [
    {
     "name": "stderr",
     "output_type": "stream",
     "text": [
      "100%|██████████| 2756/2756 [01:13<00:00, 37.62it/s]\n"
     ]
    }
   ],
   "execution_count": 100
  },
  {
   "metadata": {
    "ExecuteTime": {
     "end_time": "2025-09-07T20:44:23.681531Z",
     "start_time": "2025-09-07T20:43:06.998232Z"
    }
   },
   "cell_type": "code",
   "source": [
    "# Compute only avg_negative_strength\n",
    "avg_neg_strength_followup = compute_one_statistic(\n",
    "    df_features=article_features_followup,\n",
    "    df_network=flattened_followup_df,\n",
    "    community_sizes=community_sizes,\n",
    "    net_order=net_order,\n",
    "    mode=\"strengths\",\n",
    "    stat_name=\"avg_negative_strength\"\n",
    ")"
   ],
   "id": "951a57b2eadcf712",
   "outputs": [
    {
     "name": "stderr",
     "output_type": "stream",
     "text": [
      "100%|██████████| 2756/2756 [01:13<00:00, 37.37it/s]\n"
     ]
    }
   ],
   "execution_count": 101
  },
  {
   "metadata": {
    "ExecuteTime": {
     "end_time": "2025-09-07T20:48:29.671694Z",
     "start_time": "2025-09-07T20:48:29.666518Z"
    }
   },
   "cell_type": "code",
   "source": [
    "avg_neg_strength_followup.fillna(0, inplace=True)\n",
    "avg_pos_strength_followup.fillna(0, inplace=True)"
   ],
   "id": "30f93e2bac5db18c",
   "outputs": [],
   "execution_count": 110
  },
  {
   "metadata": {
    "ExecuteTime": {
     "end_time": "2025-09-07T20:48:34.747292Z",
     "start_time": "2025-09-07T20:48:34.662188Z"
    }
   },
   "cell_type": "code",
   "source": [
    "combined_strength_followup = combine_data(avg_pos_strength_followup, avg_neg_strength_followup)\n",
    "results_no_network, models_no_network = run_cross_validation(combined_strength_followup, y_followup, use_network=False)\n",
    "print_cross_val_results(results_no_network)"
   ],
   "id": "e957f3ea958c3397",
   "outputs": [
    {
     "name": "stdout",
     "output_type": "stream",
     "text": [
      "Cross-validated Performance Metrics:\n",
      "Average Pearson's r: 0.202\n",
      "Partial eta squared: -0.044\n",
      "R²: -0.044\n"
     ]
    }
   ],
   "execution_count": 111
  },
  {
   "metadata": {
    "ExecuteTime": {
     "end_time": "2025-09-07T20:49:19.459403Z",
     "start_time": "2025-09-07T20:49:19.375993Z"
    }
   },
   "cell_type": "code",
   "source": [
    "features_strength_followup = combine_data(article_features_followup, combined_strength_followup)\n",
    "results_no_network, models_no_network = run_cross_validation(features_strength_followup, y_followup, use_network=False)\n",
    "print_cross_val_results(results_no_network)"
   ],
   "id": "3b51fb205001b631",
   "outputs": [
    {
     "name": "stdout",
     "output_type": "stream",
     "text": [
      "Cross-validated Performance Metrics:\n",
      "Average Pearson's r: 0.335\n",
      "Partial eta squared: 0.038\n",
      "R²: 0.038\n"
     ]
    }
   ],
   "execution_count": 112
  },
  {
   "metadata": {
    "ExecuteTime": {
     "end_time": "2025-09-07T20:49:48.276218Z",
     "start_time": "2025-09-07T20:49:48.142700Z"
    }
   },
   "cell_type": "code",
   "source": [
    "features_ses_strength_followup = combine_data(ses_followup, features_strength_followup)\n",
    "results_no_network, models_no_network = run_cross_validation(features_ses_strength_followup, y_followup,\n",
    "                                                             use_network=False)\n",
    "print_cross_val_results(results_no_network)"
   ],
   "id": "42d9af56e7885b16",
   "outputs": [
    {
     "name": "stdout",
     "output_type": "stream",
     "text": [
      "Cross-validated Performance Metrics:\n",
      "Average Pearson's r: 0.462\n",
      "Partial eta squared: 0.187\n",
      "R²: 0.187\n"
     ]
    }
   ],
   "execution_count": 113
  },
  {
   "metadata": {
    "ExecuteTime": {
     "end_time": "2025-09-07T20:55:32.708669Z",
     "start_time": "2025-09-07T20:54:09.522109Z"
    }
   },
   "cell_type": "code",
   "source": [
    "segregation_followup = compute_one_statistic(\n",
    "    df_features=article_features_followup,\n",
    "    df_network=flattened_followup_df,\n",
    "    community_sizes=community_sizes,\n",
    "    net_order=net_order,\n",
    "    mode=\"segregation\",\n",
    "    stat_name=\"segregation\"\n",
    ")\n",
    "results_no_network, models_no_network = run_cross_validation(segregation_followup, y_followup,\n",
    "                                                             use_network=False)\n",
    "print_cross_val_results(results_no_network)\n",
    "\n",
    "features_segregation_followup = combine_data(article_features_followup, segregation_followup)\n",
    "results_no_network, models_no_network = run_cross_validation(features_segregation_followup, y_followup,\n",
    "                                                             use_network=False)\n",
    "print_cross_val_results(results_no_network)\n",
    "\n",
    "features_ses_segregation_followup = combine_data(features_segregation_followup, ses_followup)\n",
    "results_no_network, models_no_network = run_cross_validation(features_ses_segregation_followup, y_followup,\n",
    "                                                             use_network=False)\n",
    "print_cross_val_results(results_no_network)\n"
   ],
   "id": "5979301e315900ac",
   "outputs": [
    {
     "name": "stderr",
     "output_type": "stream",
     "text": [
      "100%|██████████| 2756/2756 [01:19<00:00, 34.53it/s]\n"
     ]
    },
    {
     "name": "stdout",
     "output_type": "stream",
     "text": [
      "Cross-validated Performance Metrics:\n",
      "Average Pearson's r: 0.164\n",
      "Partial eta squared: -0.067\n",
      "R²: -0.067\n",
      "Cross-validated Performance Metrics:\n",
      "Average Pearson's r: 0.331\n",
      "Partial eta squared: 0.026\n",
      "R²: 0.026\n",
      "Cross-validated Performance Metrics:\n",
      "Average Pearson's r: 0.460\n",
      "Partial eta squared: 0.184\n",
      "R²: 0.184\n"
     ]
    }
   ],
   "execution_count": 115
  },
  {
   "metadata": {},
   "cell_type": "code",
   "source": "",
   "id": "6c15bccc5621dba1",
   "outputs": [],
   "execution_count": null
  },
  {
   "metadata": {
    "ExecuteTime": {
     "end_time": "2025-09-09T19:17:54.397736Z",
     "start_time": "2025-09-09T19:17:54.287621Z"
    }
   },
   "cell_type": "code",
   "source": [
    "import networkx as nx\n",
    "def weighted_clustering_coefficient(correlation_matrix, community_sizes, net_order, subj_id, site_id):\n",
    "    \"\"\"\n",
    "    Compute weighted clustering coefficient (Onnela's definition) aggregated by regions.\n",
    "\n",
    "    Args:\n",
    "        correlation_matrix: np.ndarray, symmetric connectivity matrix\n",
    "        community_sizes: list of ints, sizes of each community in net_order\n",
    "        net_order: list of network identifiers, in the order matching community_sizes\n",
    "        subj_id: Subject identifier (str or int)\n",
    "        site_id: Site identifier (str or int)\n",
    "\n",
    "    Returns:\n",
    "        DataFrame with a single row: Subject, site_id_l, and clustering[net_id] columns\n",
    "    \"\"\"\n",
    "    # Build graph with absolute correlation values\n",
    "    G = nx.from_numpy_array(np.abs(correlation_matrix))\n",
    "\n",
    "    # Get clustering coefficient for each node\n",
    "    clustering_dict = nx.clustering(G, weight=\"weight\")\n",
    "\n",
    "    # Convert to array for indexing\n",
    "    clustering_values = np.array([clustering_dict[i] for i in range(len(correlation_matrix))])\n",
    "\n",
    "    # Build dictionary for row output\n",
    "    row_dict = {\"Subject\": subj_id, \"site_id_l\": site_id}\n",
    "    start = 0\n",
    "    for size, net_id in zip(community_sizes, net_order):\n",
    "        region_vals = clustering_values[start:start+size]\n",
    "        avg_val = np.mean(region_vals)\n",
    "        row_dict[f\"clustering[{net_id}]\"] = avg_val\n",
    "        start += size\n",
    "\n",
    "    return pd.DataFrame([row_dict])\n"
   ],
   "id": "34e987f588560698",
   "outputs": [],
   "execution_count": 37
  },
  {
   "metadata": {
    "ExecuteTime": {
     "end_time": "2025-09-09T19:17:57.304765Z",
     "start_time": "2025-09-09T19:17:57.301656Z"
    }
   },
   "cell_type": "code",
   "source": [
    "def compute_clustering_for_all(df_features, df_network, community_sizes, net_order):\n",
    "    \"\"\"\n",
    "    Compute weighted clustering coefficient for each subject in df_network.\n",
    "\n",
    "    Args:\n",
    "        df_features: DataFrame with Subject and site_id_l columns\n",
    "        df_network: DataFrame with Subject, flattened correlation matrices\n",
    "        community_sizes: list of ints, community sizes\n",
    "        net_order: list of network identifiers\n",
    "\n",
    "    Returns:\n",
    "        DataFrame with one row per subject:\n",
    "        Subject, site_id_l, and clustering[net_id] columns\n",
    "    \"\"\"\n",
    "    result = []\n",
    "\n",
    "    # Create subject-to-site mapping dictionary\n",
    "    subject_site_map = df_features.set_index('Subject')['site_id_l'].to_dict()\n",
    "    df_network['site_id_l'] = df_network['Subject'].map(subject_site_map)\n",
    "\n",
    "    for row in tqdm(df_network.itertuples(index=False), total=len(df_network)):\n",
    "        subj_id = row.Subject\n",
    "        site_id = row.site_id_l\n",
    "\n",
    "        # Reconstruct matrix from flattened vector\n",
    "        matrix_values = [v for k, v in row._asdict().items() if k not in (\"Subject\", \"site_id_l\")]\n",
    "        corr_matrix = vector_to_symmetric_matrix(matrix_values, 418)\n",
    "\n",
    "        # Compute clustering (returns single-row df)\n",
    "        df_clust = weighted_clustering_coefficient(corr_matrix, community_sizes, net_order, subj_id, site_id)\n",
    "\n",
    "        # Convert to dict and append\n",
    "        result.append(df_clust.iloc[0].to_dict())\n",
    "\n",
    "    return pd.DataFrame(result)\n"
   ],
   "id": "ea457ef84d2e78ad",
   "outputs": [],
   "execution_count": 38
  },
  {
   "metadata": {},
   "cell_type": "code",
   "outputs": [],
   "execution_count": null,
   "source": [
    "clustering_baseline = compute_clustering_for_all(\n",
    "    df_features=article_features_baseline,\n",
    "    df_network=flattened_baseline_df,\n",
    "    community_sizes=community_sizes,\n",
    "    net_order=net_order)"
   ],
   "id": "5ba78d0ba83fc341"
  },
  {
   "metadata": {
    "ExecuteTime": {
     "end_time": "2025-09-09T19:18:07.638834Z",
     "start_time": "2025-09-09T19:18:07.631224Z"
    }
   },
   "cell_type": "code",
   "source": [
    "def compute_efficiency_metrics(symmetric_matrix, threshold=None, eps=1e-12, renorm=True):\n",
    "    \"\"\"\n",
    "    symmetric_matrix : Fisher z-transformed correlations (symmetric, NxN)\n",
    "    threshold        : optional abs(Pearson) cutoff to sparsify (e.g., 0.1 or 0.2)\n",
    "    eps              : small constant to avoid division by zero\n",
    "    renorm           : if True and threshold is set, rescale weights so max=1 and threshold->0\n",
    "\n",
    "    Returns: global_eff, local_eff (both in [0,1])\n",
    "    \"\"\"\n",
    "    # Convert back to Pearson\n",
    "    pearson = np.tanh(symmetric_matrix).astype(float)\n",
    "    np.fill_diagonal(pearson, 0.0)\n",
    "\n",
    "    # Keep non-negative strengths (use absolute correlations as connectivity strength)\n",
    "    w = np.abs(pearson)\n",
    "\n",
    "    # Apply threshold (remove weak edges)\n",
    "    if threshold is not None:\n",
    "        w[w < threshold] = 0.0\n",
    "        if renorm and threshold < 1.0:\n",
    "            # Map [threshold, 1] -> [0, 1]\n",
    "            w = np.clip((w - threshold) / (1.0 - threshold), 0.0, 1.0)\n",
    "\n",
    "    # Build graph with edge *length* = 1/strength\n",
    "    n = w.shape[0]\n",
    "    G = nx.Graph()\n",
    "    G.add_nodes_from(range(n))\n",
    "    # Add only positive-strength edges\n",
    "    rows, cols = np.where(w > 0.0)\n",
    "    for i, j in zip(rows, cols):\n",
    "        if i < j:\n",
    "            strength = w[i, j]\n",
    "            length = 1.0 / (strength + eps)  # large when strength small; 1 when strength=1\n",
    "            G.add_edge(i, j, length=length)\n",
    "\n",
    "    if G.number_of_edges() == 0:\n",
    "        return 0.0, 0.0\n",
    "\n",
    "    # --- Global efficiency (normalize by n(n-1)) ---\n",
    "    lengths = dict(nx.all_pairs_dijkstra_path_length(G, weight=\"length\"))\n",
    "    tot = 0.0\n",
    "    denom = n * (n - 1)\n",
    "    for u in range(n):\n",
    "        Lu = lengths.get(u, {})\n",
    "        for v in range(n):\n",
    "            if u == v:\n",
    "                continue\n",
    "            d = Lu.get(v, None)\n",
    "            if d is not None and d > 0:\n",
    "                tot += 1.0 / d\n",
    "            # else unreachable => contributes 0\n",
    "    global_eff = tot / denom if denom > 0 else 0.0\n",
    "\n",
    "    # --- Local efficiency: average over ego-neighborhoods ---\n",
    "    local_vals = []\n",
    "    for i in G.nodes():\n",
    "        nbrs = list(G.neighbors(i))\n",
    "        k = len(nbrs)\n",
    "        if k < 2:\n",
    "            continue\n",
    "        H = G.subgraph(nbrs)\n",
    "        Lsub = dict(nx.all_pairs_dijkstra_path_length(H, weight=\"length\"))\n",
    "\n",
    "        # sum over ordered pairs (u,v), u != v; normalize by k(k-1)\n",
    "        tot_loc = 0.0\n",
    "        denom_loc = k * (k - 1)\n",
    "        for u in nbrs:\n",
    "            Lu = Lsub.get(u, {})\n",
    "            for v in nbrs:\n",
    "                if u == v:\n",
    "                    continue\n",
    "                d = Lu.get(v, None)\n",
    "                if d is not None and d > 0:\n",
    "                    tot_loc += 1.0 / d\n",
    "        local_vals.append(tot_loc / denom_loc)\n",
    "\n",
    "    local_eff = float(np.mean(local_vals)) if local_vals else 0.0\n",
    "\n",
    "    # --- Sanity: clamp tiny FP drift and assert ---\n",
    "    global_eff = float(np.clip(global_eff, 0.0, 1.0))\n",
    "    local_eff  = float(np.clip(local_eff,  0.0, 1.0))\n",
    "\n",
    "    assert 0.0 <= global_eff <= 1.0 + 1e-9, f\"global_eff out of range {global_eff}\"\n",
    "    assert 0.0 <= local_eff  <= 1.0 + 1e-9, f\"local_eff out of range {local_eff}\"\n",
    "\n",
    "    return global_eff, local_eff\n",
    "\n",
    "\n",
    "# --- driver: run for all subjects safely ---\n",
    "def compute_efficiency_for_all(df_features, df_network, threshold=None, n_nodes=418):\n",
    "    \"\"\"\n",
    "    Returns a DataFrame with columns: Subject | site_id_l | global_efficiency | local_efficiency\n",
    "    \"\"\"\n",
    "    # Basic schema checks\n",
    "    assert \"Subject\" in df_features.columns, \"df_features must have 'Subject'\"\n",
    "    assert \"site_id_l\" in df_features.columns, \"df_features must have 'site_id_l'\"\n",
    "    assert \"Subject\" in df_network.columns,  \"df_network must have 'Subject'\"\n",
    "\n",
    "    # Map Subject -> site_id_l\n",
    "    subject_site = df_features.set_index(\"Subject\")[\"site_id_l\"].to_dict()\n",
    "    df_network = df_network.copy()\n",
    "    df_network[\"site_id_l\"] = df_network[\"Subject\"].map(subject_site)\n",
    "\n",
    "    results = []\n",
    "    expected_len = n_nodes * (n_nodes - 1) // 2\n",
    "\n",
    "    for row in tqdm(df_network.itertuples(index=False), total=len(df_network)):\n",
    "        subj_id = row.Subject\n",
    "        site_id = row.site_id_l\n",
    "\n",
    "        # Pull flattened upper-tri values\n",
    "        vec = [v for k, v in row._asdict().items() if k not in (\"Subject\", \"site_id_l\")]\n",
    "        vec = np.asarray(vec, dtype=float)\n",
    "        assert vec.size == expected_len, f\"{subj_id}: expected {expected_len} values, got {vec.size}\"\n",
    "\n",
    "        # Rebuild symmetric Fisher-z matrix\n",
    "        zmat = vector_to_symmetric_matrix(vec, n_nodes)\n",
    "        assert zmat.shape == (n_nodes, n_nodes), f\"{subj_id}: bad shape {zmat.shape}\"\n",
    "        if not np.isfinite(zmat).all():\n",
    "            raise ValueError(f\"{subj_id}: NaN/Inf in matrix\")\n",
    "\n",
    "        try:\n",
    "            g_eff, l_eff = compute_efficiency_metrics(zmat, threshold=threshold)\n",
    "        except Exception as e:\n",
    "            raise RuntimeError(f\"Efficiency failed for {subj_id}: {e}\")\n",
    "\n",
    "        # Final guard (with tiny tolerance)\n",
    "        if not (0.0 - 1e-9 <= g_eff <= 1.0 + 1e-9):\n",
    "            raise ValueError(f\"{subj_id}: global_eff out of range {g_eff}\")\n",
    "        if not (0.0 - 1e-9 <= l_eff <= 1.0 + 1e-9):\n",
    "            raise ValueError(f\"{subj_id}: local_eff out of range {l_eff}\")\n",
    "\n",
    "        results.append({\n",
    "            \"Subject\": subj_id,\n",
    "            \"site_id_l\": site_id,\n",
    "            \"global_efficiency\": float(g_eff),\n",
    "            \"local_efficiency\": float(l_eff),\n",
    "        })\n",
    "\n",
    "    return pd.DataFrame(results)\n"
   ],
   "id": "2a28252da50a67eb",
   "outputs": [],
   "execution_count": 39
  },
  {
   "metadata": {
    "ExecuteTime": {
     "end_time": "2025-09-07T22:06:46.989218Z",
     "start_time": "2025-09-07T21:48:23.864031Z"
    }
   },
   "cell_type": "code",
   "source": [
    "efficiency_baseline = compute_efficiency_for_all(\n",
    "    df_features=article_features_baseline,\n",
    "    df_network=flattened_baseline_df,\n",
    "    threshold=0.5)"
   ],
   "id": "f50b526cd8fdd339",
   "outputs": [
    {
     "name": "stderr",
     "output_type": "stream",
     "text": [
      "100%|██████████| 4321/4321 [18:18<00:00,  3.93it/s]  \n"
     ]
    }
   ],
   "execution_count": 136
  },
  {
   "metadata": {
    "ExecuteTime": {
     "end_time": "2025-09-07T22:06:57.027514Z",
     "start_time": "2025-09-07T22:06:56.890159Z"
    }
   },
   "cell_type": "code",
   "source": [
    "results_no_network, models_no_network = run_cross_validation(efficiency_baseline, y_baseline,\n",
    "                                                             use_network=False)\n",
    "print_cross_val_results(results_no_network)\n",
    "\n",
    "features_efficiency_baseline = combine_data(article_features_baseline, efficiency_baseline)\n",
    "results_no_network, models_no_network = run_cross_validation(features_efficiency_baseline, y_baseline,\n",
    "                                                             use_network=False)\n",
    "print_cross_val_results(results_no_network)\n",
    "\n",
    "features_ses_efficiency_baseline = combine_data(features_efficiency_baseline, ses_baseline)\n",
    "results_no_network, models_no_network = run_cross_validation(features_ses_efficiency_baseline, y_baseline,\n",
    "                                                             use_network=False)\n",
    "print_cross_val_results(results_no_network)"
   ],
   "id": "173eda8613f02cc4",
   "outputs": [
    {
     "name": "stdout",
     "output_type": "stream",
     "text": [
      "Cross-validated Performance Metrics:\n",
      "Average Pearson's r: 0.059\n",
      "Partial eta squared: -0.077\n",
      "R²: -0.077\n",
      "Cross-validated Performance Metrics:\n",
      "Average Pearson's r: 0.402\n",
      "Partial eta squared: 0.089\n",
      "R²: 0.089\n",
      "Cross-validated Performance Metrics:\n",
      "Average Pearson's r: 0.501\n",
      "Partial eta squared: 0.222\n",
      "R²: 0.222\n"
     ]
    }
   ],
   "execution_count": 137
  },
  {
   "metadata": {
    "ExecuteTime": {
     "end_time": "2025-09-07T23:07:41.047379Z",
     "start_time": "2025-09-07T23:07:35.769615Z"
    }
   },
   "cell_type": "code",
   "source": "flattened_followup_df.fillna(0, inplace=True)",
   "id": "a9f2cb708f1a1a86",
   "outputs": [],
   "execution_count": 156
  },
  {
   "metadata": {
    "ExecuteTime": {
     "end_time": "2025-09-07T23:41:03.645439Z",
     "start_time": "2025-09-07T23:39:02.126586Z"
    }
   },
   "cell_type": "code",
   "source": [
    "efficiency_followup = compute_efficiency_for_all(\n",
    "    df_features=article_features_followup,\n",
    "    df_network=flattened_followup_df,\n",
    "    threshold=0.6)"
   ],
   "id": "5c0513bb2e470f09",
   "outputs": [
    {
     "name": "stderr",
     "output_type": "stream",
     "text": [
      " 73%|███████▎  | 2021/2756 [01:55<00:41, 17.57it/s]\n"
     ]
    },
    {
     "ename": "KeyboardInterrupt",
     "evalue": "",
     "output_type": "error",
     "traceback": [
      "\u001B[0;31m---------------------------------------------------------------------------\u001B[0m",
      "\u001B[0;31mKeyboardInterrupt\u001B[0m                         Traceback (most recent call last)",
      "Cell \u001B[0;32mIn[170], line 1\u001B[0m\n\u001B[0;32m----> 1\u001B[0m efficiency_followup \u001B[38;5;241m=\u001B[39m \u001B[43mcompute_efficiency_for_all\u001B[49m\u001B[43m(\u001B[49m\n\u001B[1;32m      2\u001B[0m \u001B[43m    \u001B[49m\u001B[43mdf_features\u001B[49m\u001B[38;5;241;43m=\u001B[39;49m\u001B[43marticle_features_followup\u001B[49m\u001B[43m,\u001B[49m\n\u001B[1;32m      3\u001B[0m \u001B[43m    \u001B[49m\u001B[43mdf_network\u001B[49m\u001B[38;5;241;43m=\u001B[39;49m\u001B[43mflattened_followup_df\u001B[49m\u001B[43m,\u001B[49m\n\u001B[1;32m      4\u001B[0m \u001B[43m    \u001B[49m\u001B[43mthreshold\u001B[49m\u001B[38;5;241;43m=\u001B[39;49m\u001B[38;5;241;43m0.6\u001B[39;49m\u001B[43m)\u001B[49m\n",
      "Cell \u001B[0;32mIn[167], line 123\u001B[0m, in \u001B[0;36mcompute_efficiency_for_all\u001B[0;34m(df_features, df_network, threshold, n_nodes)\u001B[0m\n\u001B[1;32m    120\u001B[0m     \u001B[38;5;28;01mraise\u001B[39;00m \u001B[38;5;167;01mValueError\u001B[39;00m(\u001B[38;5;124mf\u001B[39m\u001B[38;5;124m\"\u001B[39m\u001B[38;5;132;01m{\u001B[39;00msubj_id\u001B[38;5;132;01m}\u001B[39;00m\u001B[38;5;124m: NaN/Inf in matrix\u001B[39m\u001B[38;5;124m\"\u001B[39m)\n\u001B[1;32m    122\u001B[0m \u001B[38;5;28;01mtry\u001B[39;00m:\n\u001B[0;32m--> 123\u001B[0m     g_eff, l_eff \u001B[38;5;241m=\u001B[39m \u001B[43mcompute_efficiency_metrics\u001B[49m\u001B[43m(\u001B[49m\u001B[43mzmat\u001B[49m\u001B[43m,\u001B[49m\u001B[43m \u001B[49m\u001B[43mthreshold\u001B[49m\u001B[38;5;241;43m=\u001B[39;49m\u001B[43mthreshold\u001B[49m\u001B[43m)\u001B[49m\n\u001B[1;32m    124\u001B[0m \u001B[38;5;28;01mexcept\u001B[39;00m \u001B[38;5;167;01mException\u001B[39;00m \u001B[38;5;28;01mas\u001B[39;00m e:\n\u001B[1;32m    125\u001B[0m     \u001B[38;5;28;01mraise\u001B[39;00m \u001B[38;5;167;01mRuntimeError\u001B[39;00m(\u001B[38;5;124mf\u001B[39m\u001B[38;5;124m\"\u001B[39m\u001B[38;5;124mEfficiency failed for \u001B[39m\u001B[38;5;132;01m{\u001B[39;00msubj_id\u001B[38;5;132;01m}\u001B[39;00m\u001B[38;5;124m: \u001B[39m\u001B[38;5;132;01m{\u001B[39;00me\u001B[38;5;132;01m}\u001B[39;00m\u001B[38;5;124m\"\u001B[39m)\n",
      "Cell \u001B[0;32mIn[167], line 62\u001B[0m, in \u001B[0;36mcompute_efficiency_metrics\u001B[0;34m(symmetric_matrix, threshold, eps, renorm)\u001B[0m\n\u001B[1;32m     60\u001B[0m     \u001B[38;5;28;01mcontinue\u001B[39;00m\n\u001B[1;32m     61\u001B[0m H \u001B[38;5;241m=\u001B[39m G\u001B[38;5;241m.\u001B[39msubgraph(nbrs)\n\u001B[0;32m---> 62\u001B[0m Lsub \u001B[38;5;241m=\u001B[39m \u001B[38;5;28;43mdict\u001B[39;49m\u001B[43m(\u001B[49m\u001B[43mnx\u001B[49m\u001B[38;5;241;43m.\u001B[39;49m\u001B[43mall_pairs_dijkstra_path_length\u001B[49m\u001B[43m(\u001B[49m\u001B[43mH\u001B[49m\u001B[43m,\u001B[49m\u001B[43m \u001B[49m\u001B[43mweight\u001B[49m\u001B[38;5;241;43m=\u001B[39;49m\u001B[38;5;124;43m\"\u001B[39;49m\u001B[38;5;124;43mlength\u001B[39;49m\u001B[38;5;124;43m\"\u001B[39;49m\u001B[43m)\u001B[49m\u001B[43m)\u001B[49m\n\u001B[1;32m     64\u001B[0m \u001B[38;5;66;03m# sum over ordered pairs (u,v), u != v; normalize by k(k-1)\u001B[39;00m\n\u001B[1;32m     65\u001B[0m tot_loc \u001B[38;5;241m=\u001B[39m \u001B[38;5;241m0.0\u001B[39m\n",
      "File \u001B[0;32m~/PycharmProjects/PythonProject/.venv/lib/python3.12/site-packages/networkx/algorithms/shortest_paths/weighted.py:1083\u001B[0m, in \u001B[0;36mall_pairs_dijkstra_path_length\u001B[0;34m(G, cutoff, weight)\u001B[0m\n\u001B[1;32m   1081\u001B[0m length \u001B[38;5;241m=\u001B[39m single_source_dijkstra_path_length\n\u001B[1;32m   1082\u001B[0m \u001B[38;5;28;01mfor\u001B[39;00m n \u001B[38;5;129;01min\u001B[39;00m G:\n\u001B[0;32m-> 1083\u001B[0m     \u001B[38;5;28;01myield\u001B[39;00m (n, \u001B[43mlength\u001B[49m\u001B[43m(\u001B[49m\u001B[43mG\u001B[49m\u001B[43m,\u001B[49m\u001B[43m \u001B[49m\u001B[43mn\u001B[49m\u001B[43m,\u001B[49m\u001B[43m \u001B[49m\u001B[43mcutoff\u001B[49m\u001B[38;5;241;43m=\u001B[39;49m\u001B[43mcutoff\u001B[49m\u001B[43m,\u001B[49m\u001B[43m \u001B[49m\u001B[43mweight\u001B[49m\u001B[38;5;241;43m=\u001B[39;49m\u001B[43mweight\u001B[49m\u001B[43m)\u001B[49m)\n",
      "File \u001B[0;32m<class 'networkx.utils.decorators.argmap'> compilation 28:3\u001B[0m, in \u001B[0;36margmap_single_source_dijkstra_path_length_25\u001B[0;34m(G, source, cutoff, weight, backend, **backend_kwargs)\u001B[0m\n\u001B[1;32m      1\u001B[0m \u001B[38;5;28;01mimport\u001B[39;00m\u001B[38;5;250m \u001B[39m\u001B[38;5;21;01mbz2\u001B[39;00m\n\u001B[1;32m      2\u001B[0m \u001B[38;5;28;01mimport\u001B[39;00m\u001B[38;5;250m \u001B[39m\u001B[38;5;21;01mcollections\u001B[39;00m\n\u001B[0;32m----> 3\u001B[0m \u001B[38;5;28;01mimport\u001B[39;00m\u001B[38;5;250m \u001B[39m\u001B[38;5;21;01mgzip\u001B[39;00m\n\u001B[1;32m      4\u001B[0m \u001B[38;5;28;01mimport\u001B[39;00m\u001B[38;5;250m \u001B[39m\u001B[38;5;21;01minspect\u001B[39;00m\n\u001B[1;32m      5\u001B[0m \u001B[38;5;28;01mimport\u001B[39;00m\u001B[38;5;250m \u001B[39m\u001B[38;5;21;01mitertools\u001B[39;00m\n",
      "File \u001B[0;32m~/PycharmProjects/PythonProject/.venv/lib/python3.12/site-packages/networkx/utils/backends.py:535\u001B[0m, in \u001B[0;36m_dispatchable._call_if_no_backends_installed\u001B[0;34m(self, backend, *args, **kwargs)\u001B[0m\n\u001B[1;32m    529\u001B[0m \u001B[38;5;28;01mif\u001B[39;00m \u001B[38;5;124m\"\u001B[39m\u001B[38;5;124mnetworkx\u001B[39m\u001B[38;5;124m\"\u001B[39m \u001B[38;5;129;01mnot\u001B[39;00m \u001B[38;5;129;01min\u001B[39;00m \u001B[38;5;28mself\u001B[39m\u001B[38;5;241m.\u001B[39mbackends:\n\u001B[1;32m    530\u001B[0m     \u001B[38;5;28;01mraise\u001B[39;00m \u001B[38;5;167;01mNotImplementedError\u001B[39;00m(\n\u001B[1;32m    531\u001B[0m         \u001B[38;5;124mf\u001B[39m\u001B[38;5;124m\"\u001B[39m\u001B[38;5;124m'\u001B[39m\u001B[38;5;132;01m{\u001B[39;00m\u001B[38;5;28mself\u001B[39m\u001B[38;5;241m.\u001B[39mname\u001B[38;5;132;01m}\u001B[39;00m\u001B[38;5;124m'\u001B[39m\u001B[38;5;124m is not implemented by \u001B[39m\u001B[38;5;124m'\u001B[39m\u001B[38;5;124mnetworkx\u001B[39m\u001B[38;5;124m'\u001B[39m\u001B[38;5;124m backend. \u001B[39m\u001B[38;5;124m\"\u001B[39m\n\u001B[1;32m    532\u001B[0m         \u001B[38;5;124m\"\u001B[39m\u001B[38;5;124mThis function is included in NetworkX as an API to dispatch to \u001B[39m\u001B[38;5;124m\"\u001B[39m\n\u001B[1;32m    533\u001B[0m         \u001B[38;5;124m\"\u001B[39m\u001B[38;5;124mother backends.\u001B[39m\u001B[38;5;124m\"\u001B[39m\n\u001B[1;32m    534\u001B[0m     )\n\u001B[0;32m--> 535\u001B[0m \u001B[38;5;28;01mreturn\u001B[39;00m \u001B[38;5;28;43mself\u001B[39;49m\u001B[38;5;241;43m.\u001B[39;49m\u001B[43morig_func\u001B[49m\u001B[43m(\u001B[49m\u001B[38;5;241;43m*\u001B[39;49m\u001B[43margs\u001B[49m\u001B[43m,\u001B[49m\u001B[43m \u001B[49m\u001B[38;5;241;43m*\u001B[39;49m\u001B[38;5;241;43m*\u001B[39;49m\u001B[43mkwargs\u001B[49m\u001B[43m)\u001B[49m\n",
      "File \u001B[0;32m~/PycharmProjects/PythonProject/.venv/lib/python3.12/site-packages/networkx/algorithms/shortest_paths/weighted.py:389\u001B[0m, in \u001B[0;36msingle_source_dijkstra_path_length\u001B[0;34m(G, source, cutoff, weight)\u001B[0m\n\u001B[1;32m    320\u001B[0m \u001B[38;5;129m@nx\u001B[39m\u001B[38;5;241m.\u001B[39m_dispatchable(edge_attrs\u001B[38;5;241m=\u001B[39m\u001B[38;5;124m\"\u001B[39m\u001B[38;5;124mweight\u001B[39m\u001B[38;5;124m\"\u001B[39m)\n\u001B[1;32m    321\u001B[0m \u001B[38;5;28;01mdef\u001B[39;00m\u001B[38;5;250m \u001B[39m\u001B[38;5;21msingle_source_dijkstra_path_length\u001B[39m(G, source, cutoff\u001B[38;5;241m=\u001B[39m\u001B[38;5;28;01mNone\u001B[39;00m, weight\u001B[38;5;241m=\u001B[39m\u001B[38;5;124m\"\u001B[39m\u001B[38;5;124mweight\u001B[39m\u001B[38;5;124m\"\u001B[39m):\n\u001B[1;32m    322\u001B[0m \u001B[38;5;250m    \u001B[39m\u001B[38;5;124;03m\"\"\"Find shortest weighted path lengths in G from a source node.\u001B[39;00m\n\u001B[1;32m    323\u001B[0m \n\u001B[1;32m    324\u001B[0m \u001B[38;5;124;03m    Compute the shortest path length between source and all other\u001B[39;00m\n\u001B[0;32m   (...)\u001B[0m\n\u001B[1;32m    387\u001B[0m \n\u001B[1;32m    388\u001B[0m \u001B[38;5;124;03m    \"\"\"\u001B[39;00m\n\u001B[0;32m--> 389\u001B[0m     \u001B[38;5;28;01mreturn\u001B[39;00m \u001B[43mmulti_source_dijkstra_path_length\u001B[49m\u001B[43m(\u001B[49m\u001B[43mG\u001B[49m\u001B[43m,\u001B[49m\u001B[43m \u001B[49m\u001B[43m{\u001B[49m\u001B[43msource\u001B[49m\u001B[43m}\u001B[49m\u001B[43m,\u001B[49m\u001B[43m \u001B[49m\u001B[43mcutoff\u001B[49m\u001B[38;5;241;43m=\u001B[39;49m\u001B[43mcutoff\u001B[49m\u001B[43m,\u001B[49m\u001B[43m \u001B[49m\u001B[43mweight\u001B[49m\u001B[38;5;241;43m=\u001B[39;49m\u001B[43mweight\u001B[49m\u001B[43m)\u001B[49m\n",
      "File \u001B[0;32m<class 'networkx.utils.decorators.argmap'> compilation 32:3\u001B[0m, in \u001B[0;36margmap_multi_source_dijkstra_path_length_29\u001B[0;34m(G, sources, cutoff, weight, backend, **backend_kwargs)\u001B[0m\n\u001B[1;32m      1\u001B[0m \u001B[38;5;28;01mimport\u001B[39;00m\u001B[38;5;250m \u001B[39m\u001B[38;5;21;01mbz2\u001B[39;00m\n\u001B[1;32m      2\u001B[0m \u001B[38;5;28;01mimport\u001B[39;00m\u001B[38;5;250m \u001B[39m\u001B[38;5;21;01mcollections\u001B[39;00m\n\u001B[0;32m----> 3\u001B[0m \u001B[38;5;28;01mimport\u001B[39;00m\u001B[38;5;250m \u001B[39m\u001B[38;5;21;01mgzip\u001B[39;00m\n\u001B[1;32m      4\u001B[0m \u001B[38;5;28;01mimport\u001B[39;00m\u001B[38;5;250m \u001B[39m\u001B[38;5;21;01minspect\u001B[39;00m\n\u001B[1;32m      5\u001B[0m \u001B[38;5;28;01mimport\u001B[39;00m\u001B[38;5;250m \u001B[39m\u001B[38;5;21;01mitertools\u001B[39;00m\n",
      "File \u001B[0;32m~/PycharmProjects/PythonProject/.venv/lib/python3.12/site-packages/networkx/utils/backends.py:535\u001B[0m, in \u001B[0;36m_dispatchable._call_if_no_backends_installed\u001B[0;34m(self, backend, *args, **kwargs)\u001B[0m\n\u001B[1;32m    529\u001B[0m \u001B[38;5;28;01mif\u001B[39;00m \u001B[38;5;124m\"\u001B[39m\u001B[38;5;124mnetworkx\u001B[39m\u001B[38;5;124m\"\u001B[39m \u001B[38;5;129;01mnot\u001B[39;00m \u001B[38;5;129;01min\u001B[39;00m \u001B[38;5;28mself\u001B[39m\u001B[38;5;241m.\u001B[39mbackends:\n\u001B[1;32m    530\u001B[0m     \u001B[38;5;28;01mraise\u001B[39;00m \u001B[38;5;167;01mNotImplementedError\u001B[39;00m(\n\u001B[1;32m    531\u001B[0m         \u001B[38;5;124mf\u001B[39m\u001B[38;5;124m\"\u001B[39m\u001B[38;5;124m'\u001B[39m\u001B[38;5;132;01m{\u001B[39;00m\u001B[38;5;28mself\u001B[39m\u001B[38;5;241m.\u001B[39mname\u001B[38;5;132;01m}\u001B[39;00m\u001B[38;5;124m'\u001B[39m\u001B[38;5;124m is not implemented by \u001B[39m\u001B[38;5;124m'\u001B[39m\u001B[38;5;124mnetworkx\u001B[39m\u001B[38;5;124m'\u001B[39m\u001B[38;5;124m backend. \u001B[39m\u001B[38;5;124m\"\u001B[39m\n\u001B[1;32m    532\u001B[0m         \u001B[38;5;124m\"\u001B[39m\u001B[38;5;124mThis function is included in NetworkX as an API to dispatch to \u001B[39m\u001B[38;5;124m\"\u001B[39m\n\u001B[1;32m    533\u001B[0m         \u001B[38;5;124m\"\u001B[39m\u001B[38;5;124mother backends.\u001B[39m\u001B[38;5;124m\"\u001B[39m\n\u001B[1;32m    534\u001B[0m     )\n\u001B[0;32m--> 535\u001B[0m \u001B[38;5;28;01mreturn\u001B[39;00m \u001B[38;5;28;43mself\u001B[39;49m\u001B[38;5;241;43m.\u001B[39;49m\u001B[43morig_func\u001B[49m\u001B[43m(\u001B[49m\u001B[38;5;241;43m*\u001B[39;49m\u001B[43margs\u001B[49m\u001B[43m,\u001B[49m\u001B[43m \u001B[49m\u001B[38;5;241;43m*\u001B[39;49m\u001B[38;5;241;43m*\u001B[39;49m\u001B[43mkwargs\u001B[49m\u001B[43m)\u001B[49m\n",
      "File \u001B[0;32m~/PycharmProjects/PythonProject/.venv/lib/python3.12/site-packages/networkx/algorithms/shortest_paths/weighted.py:647\u001B[0m, in \u001B[0;36mmulti_source_dijkstra_path_length\u001B[0;34m(G, sources, cutoff, weight)\u001B[0m\n\u001B[1;32m    645\u001B[0m         \u001B[38;5;28;01mraise\u001B[39;00m nx\u001B[38;5;241m.\u001B[39mNodeNotFound(\u001B[38;5;124mf\u001B[39m\u001B[38;5;124m\"\u001B[39m\u001B[38;5;124mNode \u001B[39m\u001B[38;5;132;01m{\u001B[39;00ms\u001B[38;5;132;01m}\u001B[39;00m\u001B[38;5;124m not found in graph\u001B[39m\u001B[38;5;124m\"\u001B[39m)\n\u001B[1;32m    646\u001B[0m weight \u001B[38;5;241m=\u001B[39m _weight_function(G, weight)\n\u001B[0;32m--> 647\u001B[0m \u001B[38;5;28;01mreturn\u001B[39;00m \u001B[43m_dijkstra_multisource\u001B[49m\u001B[43m(\u001B[49m\u001B[43mG\u001B[49m\u001B[43m,\u001B[49m\u001B[43m \u001B[49m\u001B[43msources\u001B[49m\u001B[43m,\u001B[49m\u001B[43m \u001B[49m\u001B[43mweight\u001B[49m\u001B[43m,\u001B[49m\u001B[43m \u001B[49m\u001B[43mcutoff\u001B[49m\u001B[38;5;241;43m=\u001B[39;49m\u001B[43mcutoff\u001B[49m\u001B[43m)\u001B[49m\n",
      "File \u001B[0;32m~/PycharmProjects/PythonProject/.venv/lib/python3.12/site-packages/networkx/algorithms/shortest_paths/weighted.py:855\u001B[0m, in \u001B[0;36m_dijkstra_multisource\u001B[0;34m(G, sources, weight, pred, paths, cutoff, target)\u001B[0m\n\u001B[1;32m    853\u001B[0m \u001B[38;5;28;01mif\u001B[39;00m v \u001B[38;5;241m==\u001B[39m target:\n\u001B[1;32m    854\u001B[0m     \u001B[38;5;28;01mbreak\u001B[39;00m\n\u001B[0;32m--> 855\u001B[0m \u001B[43m\u001B[49m\u001B[38;5;28;43;01mfor\u001B[39;49;00m\u001B[43m \u001B[49m\u001B[43mu\u001B[49m\u001B[43m,\u001B[49m\u001B[43m \u001B[49m\u001B[43me\u001B[49m\u001B[43m \u001B[49m\u001B[38;5;129;43;01min\u001B[39;49;00m\u001B[43m \u001B[49m\u001B[43mG_succ\u001B[49m\u001B[43m[\u001B[49m\u001B[43mv\u001B[49m\u001B[43m]\u001B[49m\u001B[38;5;241;43m.\u001B[39;49m\u001B[43mitems\u001B[49m\u001B[43m(\u001B[49m\u001B[43m)\u001B[49m\u001B[43m:\u001B[49m\n\u001B[1;32m    856\u001B[0m \u001B[43m    \u001B[49m\u001B[43mcost\u001B[49m\u001B[43m \u001B[49m\u001B[38;5;241;43m=\u001B[39;49m\u001B[43m \u001B[49m\u001B[43mweight\u001B[49m\u001B[43m(\u001B[49m\u001B[43mv\u001B[49m\u001B[43m,\u001B[49m\u001B[43m \u001B[49m\u001B[43mu\u001B[49m\u001B[43m,\u001B[49m\u001B[43m \u001B[49m\u001B[43me\u001B[49m\u001B[43m)\u001B[49m\n\u001B[1;32m    857\u001B[0m \u001B[43m    \u001B[49m\u001B[38;5;28;43;01mif\u001B[39;49;00m\u001B[43m \u001B[49m\u001B[43mcost\u001B[49m\u001B[43m \u001B[49m\u001B[38;5;129;43;01mis\u001B[39;49;00m\u001B[43m \u001B[49m\u001B[38;5;28;43;01mNone\u001B[39;49;00m\u001B[43m:\u001B[49m\n",
      "File \u001B[0;32m<frozen _collections_abc>:893\u001B[0m, in \u001B[0;36m__iter__\u001B[0;34m(self)\u001B[0m\n",
      "File \u001B[0;32m~/PycharmProjects/PythonProject/.venv/lib/python3.12/site-packages/networkx/classes/coreviews.py:300\u001B[0m, in \u001B[0;36m<genexpr>\u001B[0;34m(.0)\u001B[0m\n\u001B[1;32m    298\u001B[0m \u001B[38;5;28;01mif\u001B[39;00m node_ok_shorter:\n\u001B[1;32m    299\u001B[0m     \u001B[38;5;28;01mreturn\u001B[39;00m (n \u001B[38;5;28;01mfor\u001B[39;00m n \u001B[38;5;129;01min\u001B[39;00m \u001B[38;5;28mself\u001B[39m\u001B[38;5;241m.\u001B[39mNODE_OK\u001B[38;5;241m.\u001B[39mnodes \u001B[38;5;28;01mif\u001B[39;00m n \u001B[38;5;129;01min\u001B[39;00m \u001B[38;5;28mself\u001B[39m\u001B[38;5;241m.\u001B[39m_atlas)\n\u001B[0;32m--> 300\u001B[0m \u001B[38;5;28;01mreturn\u001B[39;00m (n \u001B[38;5;28;01mfor\u001B[39;00m n \u001B[38;5;129;01min\u001B[39;00m \u001B[38;5;28mself\u001B[39m\u001B[38;5;241m.\u001B[39m_atlas \u001B[38;5;28;01mif\u001B[39;00m \u001B[38;5;28;43mself\u001B[39;49m\u001B[38;5;241;43m.\u001B[39;49m\u001B[43mNODE_OK\u001B[49m\u001B[43m(\u001B[49m\u001B[43mn\u001B[49m\u001B[43m)\u001B[49m)\n",
      "File \u001B[0;32m~/PycharmProjects/PythonProject/.venv/lib/python3.12/site-packages/networkx/classes/coreviews.py:355\u001B[0m, in \u001B[0;36mFilterAdjacency.__getitem__.<locals>.new_node_ok\u001B[0;34m(nbr)\u001B[0m\n\u001B[1;32m    354\u001B[0m \u001B[38;5;28;01mdef\u001B[39;00m\u001B[38;5;250m \u001B[39m\u001B[38;5;21mnew_node_ok\u001B[39m(nbr):\n\u001B[0;32m--> 355\u001B[0m     \u001B[38;5;28;01mreturn\u001B[39;00m \u001B[38;5;28;43mself\u001B[39;49m\u001B[38;5;241;43m.\u001B[39;49m\u001B[43mNODE_OK\u001B[49m\u001B[43m(\u001B[49m\u001B[43mnbr\u001B[49m\u001B[43m)\u001B[49m \u001B[38;5;129;01mand\u001B[39;00m \u001B[38;5;28mself\u001B[39m\u001B[38;5;241m.\u001B[39mEDGE_OK(node, nbr)\n",
      "File \u001B[0;32m~/PycharmProjects/PythonProject/.venv/lib/python3.12/site-packages/networkx/classes/filters.py:70\u001B[0m, in \u001B[0;36mshow_nodes.__call__\u001B[0;34m(self, node)\u001B[0m\n\u001B[1;32m     67\u001B[0m \u001B[38;5;28;01mdef\u001B[39;00m\u001B[38;5;250m \u001B[39m\u001B[38;5;21m__init__\u001B[39m(\u001B[38;5;28mself\u001B[39m, nodes):\n\u001B[1;32m     68\u001B[0m     \u001B[38;5;28mself\u001B[39m\u001B[38;5;241m.\u001B[39mnodes \u001B[38;5;241m=\u001B[39m \u001B[38;5;28mset\u001B[39m(nodes)\n\u001B[0;32m---> 70\u001B[0m \u001B[38;5;28;01mdef\u001B[39;00m\u001B[38;5;250m \u001B[39m\u001B[38;5;21m__call__\u001B[39m(\u001B[38;5;28mself\u001B[39m, node):\n\u001B[1;32m     71\u001B[0m     \u001B[38;5;28;01mreturn\u001B[39;00m node \u001B[38;5;129;01min\u001B[39;00m \u001B[38;5;28mself\u001B[39m\u001B[38;5;241m.\u001B[39mnodes\n",
      "\u001B[0;31mKeyboardInterrupt\u001B[0m: "
     ]
    }
   ],
   "execution_count": 170
  },
  {
   "metadata": {},
   "cell_type": "code",
   "outputs": [],
   "execution_count": null,
   "source": [
    "results_no_network, models_no_network = run_cross_validation(efficiency_followup, y_followup,\n",
    "                                                             use_network=False)\n",
    "print_cross_val_results(results_no_network)\n",
    "\n",
    "features_efficiency_followup = combine_data(article_features_followup, efficiency_followup)\n",
    "results_no_network, models_no_network = run_cross_validation(features_efficiency_followup, y_followup,\n",
    "                                                             use_network=False)\n",
    "print_cross_val_results(results_no_network)\n",
    "\n",
    "features_ses_efficiency_followup = combine_data(features_efficiency_followup, ses_followup)\n",
    "results_no_network, models_no_network = run_cross_validation(features_ses_efficiency_followup, y_followup,\n",
    "                                                             use_network=False)\n",
    "print_cross_val_results(results_no_network)"
   ],
   "id": "a00974c08ddc27f5"
  },
  {
   "metadata": {},
   "cell_type": "markdown",
   "source": "## Two time poins data",
   "id": "f2038a0ce6aad2ee"
  },
  {
   "metadata": {
    "ExecuteTime": {
     "end_time": "2025-09-09T19:18:52.237960Z",
     "start_time": "2025-09-09T19:18:52.228362Z"
    }
   },
   "cell_type": "code",
   "source": "features_0_aligned, features_1_aligned = align_subjects(features_0, features_1)",
   "id": "bc453b129ce16165",
   "outputs": [
    {
     "name": "stdout",
     "output_type": "stream",
     "text": [
      "Subject columns are identical.\n"
     ]
    }
   ],
   "execution_count": 40
  },
  {
   "metadata": {
    "ExecuteTime": {
     "end_time": "2025-09-09T19:18:54.396654Z",
     "start_time": "2025-09-09T19:18:54.390Z"
    }
   },
   "cell_type": "code",
   "source": "features_0_aligned.shape",
   "id": "5286200869cd7665",
   "outputs": [
    {
     "data": {
      "text/plain": [
       "(2480, 20)"
      ]
     },
     "execution_count": 41,
     "metadata": {},
     "output_type": "execute_result"
    }
   ],
   "execution_count": 41
  },
  {
   "metadata": {
    "ExecuteTime": {
     "end_time": "2025-09-09T19:22:26.555170Z",
     "start_time": "2025-09-09T19:18:56.777145Z"
    }
   },
   "cell_type": "code",
   "source": [
    "networks_baseline, networks_followup, subjects = create_pca_matrix_by_subject(number_of_subjects=2480,\n",
    "                                                                            data=features_0_aligned)"
   ],
   "id": "655cd6aeaec0acf4",
   "outputs": [
    {
     "name": "stdout",
     "output_type": "stream",
     "text": [
      "Error processing subject NDARINVYXRGTMYM! setting an array element with a sequence. The requested array has an inhomogeneous shape after 1 dimensions. The detected shape was (341,) + inhomogeneous part.\n",
      "Shape of flattened connectomes: (2479, 87153)\n",
      "Shape of flattened connectomes: (2479, 87153)\n"
     ]
    }
   ],
   "execution_count": 42
  },
  {
   "metadata": {
    "ExecuteTime": {
     "end_time": "2025-09-09T19:22:39.949584Z",
     "start_time": "2025-09-09T19:22:39.939149Z"
    }
   },
   "cell_type": "code",
   "source": [
    "features_0_aligned = features_0_aligned[features_0_aligned[\"Subject\"]!= \"NDARINVYXRGTMYM\"]\n",
    "features_1_aligned = features_1_aligned[features_1_aligned[\"Subject\"]!= \"NDARINVYXRGTMYM\"]"
   ],
   "id": "84c9b3797271d866",
   "outputs": [],
   "execution_count": 43
  },
  {
   "metadata": {
    "ExecuteTime": {
     "end_time": "2025-09-09T19:22:42.767968Z",
     "start_time": "2025-09-09T19:22:42.733998Z"
    }
   },
   "cell_type": "code",
   "source": [
    "networks_baseline_df = pd.DataFrame(networks_baseline)\n",
    "networks_followup_df = pd.DataFrame(networks_followup)\n",
    "networks_baseline_df[\"Subject\"] = features_0_aligned[\"Subject\"]\n",
    "networks_followup_df[\"Subject\"] = features_1_aligned[\"Subject\"]"
   ],
   "id": "643cf46acefca99a",
   "outputs": [],
   "execution_count": 44
  },
  {
   "metadata": {
    "ExecuteTime": {
     "end_time": "2025-09-09T19:22:47.783747Z",
     "start_time": "2025-09-09T19:22:45.000200Z"
    }
   },
   "cell_type": "code",
   "source": "features_0_aligned, networks_aligned_baseline_df = align_subjects(features_0_aligned, networks_baseline_df)",
   "id": "a819e465700c170c",
   "outputs": [
    {
     "name": "stdout",
     "output_type": "stream",
     "text": [
      "Subjects in flattened matrices but not in features: [nan]\n",
      "Subjects in features but not in flattened matrices: ['NDARINVZZZ2ALR6']\n",
      "Dropping non-overlapping subjects. Keeping 2478 subjects.\n"
     ]
    }
   ],
   "execution_count": 45
  },
  {
   "metadata": {
    "ExecuteTime": {
     "end_time": "2025-09-09T19:22:54.671819Z",
     "start_time": "2025-09-09T19:22:51.206079Z"
    }
   },
   "cell_type": "code",
   "source": "features_1_aligned, networks_aligned_followup_df = align_subjects(features_1_aligned, networks_followup_df)",
   "id": "fa45b09bbf93ec3f",
   "outputs": [
    {
     "name": "stdout",
     "output_type": "stream",
     "text": [
      "Subjects in flattened matrices but not in features: [nan]\n",
      "Subjects in features but not in flattened matrices: ['NDARINVZZZ2ALR6']\n",
      "Dropping non-overlapping subjects. Keeping 2478 subjects.\n"
     ]
    }
   ],
   "execution_count": 46
  },
  {
   "metadata": {
    "ExecuteTime": {
     "end_time": "2025-09-09T21:11:51.731893Z",
     "start_time": "2025-09-09T21:11:51.729289Z"
    }
   },
   "cell_type": "code",
   "source": [
    "def article_features_2(df):\n",
    "    y = df['g_lavaan']\n",
    "    features = df.drop(columns=['src_subject_id', 'rel_family_id', 'income_group','g_lavaan','GoodRun_5', 'censor_5', 'confounds_nocensor', 'TRs', 'IncCombinedMidpoint', 'Income2Needs', 'Married', 'EdYearsHighest', 'Session', 'eventname'])\n",
    "\n",
    "    # in the article some additional features were used so we need to add them\n",
    "    features['age_squared'] = features['interview_age'] * features['interview_age']\n",
    "    features['meanFD_squared'] = features['meanFD'] * features['meanFD']\n",
    "\n",
    "    # Simple mapping for binary categories\n",
    "    features['sex_encoded'] = features['sex'].map({'male': 1, 'female': 2})\n",
    "    features['hisp_encoded'] = features['hisp'].map({'Yes': 1, 'No': 0})\n",
    "    features['race.4level'].unique()\n",
    "    # Manual mapping for ordinal data\n",
    "    race_mapping = {\n",
    "        'White': 0,\n",
    "        'Other/Mixed': 1,\n",
    "        'Black': 2,\n",
    "        'Asian': 3\n",
    "    }\n",
    "    features['race_encoded'] = features['race.4level'].map(race_mapping)\n",
    "    features = features.drop(columns=['race.4level', 'hisp', 'sex'])\n",
    "    return features, y"
   ],
   "id": "bf7bfc7e485a8ae1",
   "outputs": [],
   "execution_count": 75
  },
  {
   "metadata": {
    "ExecuteTime": {
     "end_time": "2025-09-09T21:11:53.692082Z",
     "start_time": "2025-09-09T21:11:53.685378Z"
    }
   },
   "cell_type": "code",
   "source": [
    "article_features_2_baseline, y_baseline_2 = article_features_2(features_0_aligned)\n",
    "article_features_2_followup, y_followup_2 = article_features_2(features_1_aligned)"
   ],
   "id": "63d3042d75d58de",
   "outputs": [],
   "execution_count": 76
  },
  {
   "metadata": {
    "ExecuteTime": {
     "end_time": "2025-09-09T21:11:55.062552Z",
     "start_time": "2025-09-09T21:11:55.056816Z"
    }
   },
   "cell_type": "code",
   "source": "article_features_2_baseline",
   "id": "bd49830374c4e31e",
   "outputs": [
    {
     "data": {
      "text/plain": [
       "     site_id_l  interview_age          Subject    meanFD  age_squared  \\\n",
       "0       site20          130.0  NDARINV00CY2MDM  0.250281      16900.0   \n",
       "1       site04          130.0  NDARINV00U4FTRU  0.264265      16900.0   \n",
       "2       site16          123.0  NDARINV01AJ15N9  0.117279      15129.0   \n",
       "3       site19          113.0  NDARINV01EN91PG  0.325335      12769.0   \n",
       "4       site16          129.0  NDARINV01NAYMZH  0.171448      16641.0   \n",
       "...        ...            ...              ...       ...          ...   \n",
       "2473    site21          110.0  NDARINVZYB94X1J  0.336874      12100.0   \n",
       "2474    site01          108.0  NDARINVZYLV9BMB  0.249796      11664.0   \n",
       "2475    site05          110.0  NDARINVZYTK0K1Y  0.286715      12100.0   \n",
       "2476    site18          123.0  NDARINVZZ4XNM65  0.232109      15129.0   \n",
       "2477    site06          124.0  NDARINVZZ6ZJ2KY  0.123336      15376.0   \n",
       "\n",
       "      meanFD_squared  sex_encoded  hisp_encoded  race_encoded  \n",
       "0           0.062641            1             0             0  \n",
       "1           0.069836            2             0             1  \n",
       "2           0.013754            1             0             0  \n",
       "3           0.105843            2             0             0  \n",
       "4           0.029395            1             0             0  \n",
       "...              ...          ...           ...           ...  \n",
       "2473        0.113484            1             0             0  \n",
       "2474        0.062398            1             1             1  \n",
       "2475        0.082205            2             0             0  \n",
       "2476        0.053874            2             0             2  \n",
       "2477        0.015212            2             0             0  \n",
       "\n",
       "[2478 rows x 9 columns]"
      ],
      "text/html": [
       "<div>\n",
       "<style scoped>\n",
       "    .dataframe tbody tr th:only-of-type {\n",
       "        vertical-align: middle;\n",
       "    }\n",
       "\n",
       "    .dataframe tbody tr th {\n",
       "        vertical-align: top;\n",
       "    }\n",
       "\n",
       "    .dataframe thead th {\n",
       "        text-align: right;\n",
       "    }\n",
       "</style>\n",
       "<table border=\"1\" class=\"dataframe\">\n",
       "  <thead>\n",
       "    <tr style=\"text-align: right;\">\n",
       "      <th></th>\n",
       "      <th>site_id_l</th>\n",
       "      <th>interview_age</th>\n",
       "      <th>Subject</th>\n",
       "      <th>meanFD</th>\n",
       "      <th>age_squared</th>\n",
       "      <th>meanFD_squared</th>\n",
       "      <th>sex_encoded</th>\n",
       "      <th>hisp_encoded</th>\n",
       "      <th>race_encoded</th>\n",
       "    </tr>\n",
       "  </thead>\n",
       "  <tbody>\n",
       "    <tr>\n",
       "      <th>0</th>\n",
       "      <td>site20</td>\n",
       "      <td>130.0</td>\n",
       "      <td>NDARINV00CY2MDM</td>\n",
       "      <td>0.250281</td>\n",
       "      <td>16900.0</td>\n",
       "      <td>0.062641</td>\n",
       "      <td>1</td>\n",
       "      <td>0</td>\n",
       "      <td>0</td>\n",
       "    </tr>\n",
       "    <tr>\n",
       "      <th>1</th>\n",
       "      <td>site04</td>\n",
       "      <td>130.0</td>\n",
       "      <td>NDARINV00U4FTRU</td>\n",
       "      <td>0.264265</td>\n",
       "      <td>16900.0</td>\n",
       "      <td>0.069836</td>\n",
       "      <td>2</td>\n",
       "      <td>0</td>\n",
       "      <td>1</td>\n",
       "    </tr>\n",
       "    <tr>\n",
       "      <th>2</th>\n",
       "      <td>site16</td>\n",
       "      <td>123.0</td>\n",
       "      <td>NDARINV01AJ15N9</td>\n",
       "      <td>0.117279</td>\n",
       "      <td>15129.0</td>\n",
       "      <td>0.013754</td>\n",
       "      <td>1</td>\n",
       "      <td>0</td>\n",
       "      <td>0</td>\n",
       "    </tr>\n",
       "    <tr>\n",
       "      <th>3</th>\n",
       "      <td>site19</td>\n",
       "      <td>113.0</td>\n",
       "      <td>NDARINV01EN91PG</td>\n",
       "      <td>0.325335</td>\n",
       "      <td>12769.0</td>\n",
       "      <td>0.105843</td>\n",
       "      <td>2</td>\n",
       "      <td>0</td>\n",
       "      <td>0</td>\n",
       "    </tr>\n",
       "    <tr>\n",
       "      <th>4</th>\n",
       "      <td>site16</td>\n",
       "      <td>129.0</td>\n",
       "      <td>NDARINV01NAYMZH</td>\n",
       "      <td>0.171448</td>\n",
       "      <td>16641.0</td>\n",
       "      <td>0.029395</td>\n",
       "      <td>1</td>\n",
       "      <td>0</td>\n",
       "      <td>0</td>\n",
       "    </tr>\n",
       "    <tr>\n",
       "      <th>...</th>\n",
       "      <td>...</td>\n",
       "      <td>...</td>\n",
       "      <td>...</td>\n",
       "      <td>...</td>\n",
       "      <td>...</td>\n",
       "      <td>...</td>\n",
       "      <td>...</td>\n",
       "      <td>...</td>\n",
       "      <td>...</td>\n",
       "    </tr>\n",
       "    <tr>\n",
       "      <th>2473</th>\n",
       "      <td>site21</td>\n",
       "      <td>110.0</td>\n",
       "      <td>NDARINVZYB94X1J</td>\n",
       "      <td>0.336874</td>\n",
       "      <td>12100.0</td>\n",
       "      <td>0.113484</td>\n",
       "      <td>1</td>\n",
       "      <td>0</td>\n",
       "      <td>0</td>\n",
       "    </tr>\n",
       "    <tr>\n",
       "      <th>2474</th>\n",
       "      <td>site01</td>\n",
       "      <td>108.0</td>\n",
       "      <td>NDARINVZYLV9BMB</td>\n",
       "      <td>0.249796</td>\n",
       "      <td>11664.0</td>\n",
       "      <td>0.062398</td>\n",
       "      <td>1</td>\n",
       "      <td>1</td>\n",
       "      <td>1</td>\n",
       "    </tr>\n",
       "    <tr>\n",
       "      <th>2475</th>\n",
       "      <td>site05</td>\n",
       "      <td>110.0</td>\n",
       "      <td>NDARINVZYTK0K1Y</td>\n",
       "      <td>0.286715</td>\n",
       "      <td>12100.0</td>\n",
       "      <td>0.082205</td>\n",
       "      <td>2</td>\n",
       "      <td>0</td>\n",
       "      <td>0</td>\n",
       "    </tr>\n",
       "    <tr>\n",
       "      <th>2476</th>\n",
       "      <td>site18</td>\n",
       "      <td>123.0</td>\n",
       "      <td>NDARINVZZ4XNM65</td>\n",
       "      <td>0.232109</td>\n",
       "      <td>15129.0</td>\n",
       "      <td>0.053874</td>\n",
       "      <td>2</td>\n",
       "      <td>0</td>\n",
       "      <td>2</td>\n",
       "    </tr>\n",
       "    <tr>\n",
       "      <th>2477</th>\n",
       "      <td>site06</td>\n",
       "      <td>124.0</td>\n",
       "      <td>NDARINVZZ6ZJ2KY</td>\n",
       "      <td>0.123336</td>\n",
       "      <td>15376.0</td>\n",
       "      <td>0.015212</td>\n",
       "      <td>2</td>\n",
       "      <td>0</td>\n",
       "      <td>0</td>\n",
       "    </tr>\n",
       "  </tbody>\n",
       "</table>\n",
       "<p>2478 rows × 9 columns</p>\n",
       "</div>"
      ]
     },
     "execution_count": 77,
     "metadata": {},
     "output_type": "execute_result"
    }
   ],
   "execution_count": 77
  },
  {
   "metadata": {
    "ExecuteTime": {
     "end_time": "2025-09-09T21:12:09.162254Z",
     "start_time": "2025-09-09T21:12:09.157556Z"
    }
   },
   "cell_type": "code",
   "source": [
    "def run_cross_validation(X_features, y, use_network=False, X_network=None, num_pc=50):\n",
    "    logo = LeaveOneGroupOut()\n",
    "    results = []\n",
    "    trained_models = []\n",
    "\n",
    "    groups = X_features['site_id_l']\n",
    "\n",
    "    for train_idx, test_idx in logo.split(X_features, y, groups=groups):\n",
    "        test_site = X_features.iloc[test_idx]['site_id_l'].iloc[0]\n",
    "\n",
    "        X_train_main = X_features.iloc[train_idx].drop(columns=['site_id_l', 'Subject'])\n",
    "\n",
    "\n",
    "        X_test_main = X_features.iloc[test_idx].drop(columns=['site_id_l', 'Subject'])\n",
    "\n",
    "\n",
    "        y_train = y.iloc[train_idx]\n",
    "        y_test = y.iloc[test_idx]\n",
    "\n",
    "\n",
    "        if use_network:\n",
    "            if X_network is None:\n",
    "                raise ValueError(\"X_network must be provided when use_network is True\")\n",
    "\n",
    "            # Create subject-to-site mapping dictionary\n",
    "            subject_site_map = X_features[['Subject', 'site_id_l']].set_index('Subject')['site_id_l'].to_dict()\n",
    "\n",
    "            X_network['site_id_l'] = X_network['Subject'].map(subject_site_map)\n",
    "            X_network.fillna(0, inplace=True)\n",
    "\n",
    "\n",
    "            train_subjects = X_features.iloc[train_idx]['Subject']\n",
    "            network_train_subjects = X_network['Subject'][(X_network['Subject'].isin(train_subjects)) &\n",
    "                                    (X_network['site_id_l'] != test_site)\n",
    "                                    ]\n",
    "\n",
    "            missing_subjects = set(train_subjects) - set(network_train_subjects)\n",
    "            #print(\"Subjects in X_train_main but missing in X_train_network:\", missing_subjects)\n",
    "\n",
    "\n",
    "            test_subjects = X_features.iloc[test_idx]['Subject'].unique()\n",
    "\n",
    "            X_train_network = X_network[\n",
    "                (X_network['Subject'].isin(train_subjects)) &\n",
    "                (X_network['site_id_l'] != test_site)\n",
    "            ].drop(columns=['site_id_l', 'Subject'])\n",
    "\n",
    "            X_test_network = X_network[\n",
    "                X_network['Subject'].isin(test_subjects)\n",
    "            ].drop(columns=['site_id_l', 'Subject'])\n",
    "\n",
    "            pca_pipe = make_pipeline(\n",
    "                StandardScaler(),\n",
    "                PCA(n_components=num_pc, random_state=123)\n",
    "            )\n",
    "            X_train_network_pca = pca_pipe.fit_transform(X_train_network)\n",
    "            X_test_network_pca = pca_pipe.transform(X_test_network)\n",
    "\n",
    "            feature_names = (\n",
    "                list(X_train_main.columns) +\n",
    "                [f'network_pc_{i}' for i in range(X_train_network_pca.shape[1])]\n",
    "            )\n",
    "            assert X_train_main.shape[0] == X_train_network_pca.shape[0], \"Train row mismatch!\"\n",
    "            assert X_test_main.shape[0] == X_test_network_pca.shape[0], \"Test row mismatch!\"\n",
    "            X_train = np.hstack([X_train_main.values, X_train_network_pca])\n",
    "            X_test = np.hstack([X_test_main.values, X_test_network_pca])\n",
    "        else:\n",
    "            X_train = X_train_main.values\n",
    "            X_test = X_test_main.values\n",
    "\n",
    "        fold_model = LinearRegression()\n",
    "        fold_model.fit(X_train, y_train)\n",
    "        trained_models.append(fold_model)\n",
    "        y_pred = fold_model.predict(X_test)\n",
    "\n",
    "        r, p = pearsonr(y_test, y_pred)\n",
    "        eta = partial_eta_squared(y_test, y_pred)\n",
    "        mse = mean_squared_error(y_test, y_pred)\n",
    "        r2 = r2_score(y_test, y_pred)\n",
    "\n",
    "        results.append({\n",
    "            'test_site': test_site,\n",
    "            'pearson_r': r,\n",
    "            'pearson_p': p,\n",
    "            'partial_eta_squared': eta,\n",
    "            'mse': mse,\n",
    "            'r2': r2,\n",
    "            'n_train': len(X_train),\n",
    "            'n_test': len(X_test)\n",
    "        })\n",
    "\n",
    "    return results, trained_models"
   ],
   "id": "7971b5aeb84d7d52",
   "outputs": [],
   "execution_count": 78
  },
  {
   "metadata": {
    "ExecuteTime": {
     "end_time": "2025-09-09T21:14:53.545744Z",
     "start_time": "2025-09-09T21:12:30.685271Z"
    }
   },
   "cell_type": "code",
   "source": [
    "results_network, models_network = run_cross_validation(article_features_2_baseline, y_baseline_2, use_network=True,\n",
    "                                                       X_network=networks_aligned_baseline_df, num_pc=5)\n",
    "results_no_network, models_no_network = run_cross_validation(article_features_2_baseline, y_baseline_2, use_network=False)\n",
    "print_cross_val_results(results_no_network)\n",
    "print_cross_val_results(results_network)"
   ],
   "id": "9d96b17b1ec941ad",
   "outputs": [
    {
     "name": "stdout",
     "output_type": "stream",
     "text": [
      "Cross-validated Performance Metrics:\n",
      "Average Pearson's r: 0.385\n",
      "Partial eta squared: 0.057\n",
      "R²: 0.057\n",
      "Cross-validated Performance Metrics:\n",
      "Average Pearson's r: 0.381\n",
      "Partial eta squared: 0.055\n",
      "R²: 0.055\n"
     ]
    }
   ],
   "execution_count": 79
  },
  {
   "metadata": {
    "ExecuteTime": {
     "end_time": "2025-09-09T21:32:53.581274Z",
     "start_time": "2025-09-09T21:18:03.517536Z"
    }
   },
   "cell_type": "code",
   "source": [
    "for num_pc in [5, 10, 25, 50, 100]:\n",
    "    results_network, models_network = run_cross_validation(article_features_2_baseline, y_baseline_2, use_network=True,\n",
    "                                                           X_network=networks_aligned_baseline_df, num_pc=num_pc)\n",
    "\n",
    "    print_cross_val_results(results_network)"
   ],
   "id": "16471284e5b8110f",
   "outputs": [
    {
     "name": "stdout",
     "output_type": "stream",
     "text": [
      "Cross-validated Performance Metrics:\n",
      "Average Pearson's r: 0.381\n",
      "Partial eta squared: 0.055\n",
      "R²: 0.055\n",
      "Cross-validated Performance Metrics:\n",
      "Average Pearson's r: 0.373\n",
      "Partial eta squared: 0.053\n",
      "R²: 0.053\n",
      "Cross-validated Performance Metrics:\n",
      "Average Pearson's r: 0.367\n",
      "Partial eta squared: 0.048\n",
      "R²: 0.048\n",
      "Cross-validated Performance Metrics:\n",
      "Average Pearson's r: 0.364\n",
      "Partial eta squared: 0.045\n",
      "R²: 0.045\n",
      "Cross-validated Performance Metrics:\n",
      "Average Pearson's r: 0.360\n",
      "Partial eta squared: 0.041\n",
      "R²: 0.041\n"
     ]
    }
   ],
   "execution_count": 80
  },
  {
   "metadata": {
    "ExecuteTime": {
     "end_time": "2025-09-09T21:35:13.090838Z",
     "start_time": "2025-09-09T21:35:13.033594Z"
    }
   },
   "cell_type": "code",
   "source": [
    "results_no_network, models_no_network = run_cross_validation(article_features_2_followup, y_followup_2, use_network=False)\n",
    "print_cross_val_results(results_no_network)"
   ],
   "id": "56b7d0e6658df8ba",
   "outputs": [
    {
     "name": "stdout",
     "output_type": "stream",
     "text": [
      "Cross-validated Performance Metrics:\n",
      "Average Pearson's r: 0.320\n",
      "Partial eta squared: 0.015\n",
      "R²: 0.015\n"
     ]
    }
   ],
   "execution_count": 81
  },
  {
   "metadata": {
    "ExecuteTime": {
     "end_time": "2025-09-09T23:05:37.311971Z",
     "start_time": "2025-09-09T22:53:06.516931Z"
    }
   },
   "cell_type": "code",
   "source": [
    "for num_pc in [5, 10, 25, 50, 100]:\n",
    "    results_network, models_network = run_cross_validation(article_features_2_followup, y_followup_2, use_network=True,\n",
    "                                                       X_network=networks_aligned_followup_df, num_pc=num_pc)\n",
    "\n",
    "    print_cross_val_results(results_network)"
   ],
   "id": "1035af54480b5663",
   "outputs": [
    {
     "name": "stdout",
     "output_type": "stream",
     "text": [
      "Cross-validated Performance Metrics:\n",
      "Average Pearson's r: 0.317\n",
      "Partial eta squared: 0.012\n",
      "R²: 0.012\n",
      "Cross-validated Performance Metrics:\n",
      "Average Pearson's r: 0.312\n",
      "Partial eta squared: 0.010\n",
      "R²: 0.010\n",
      "Cross-validated Performance Metrics:\n",
      "Average Pearson's r: 0.309\n",
      "Partial eta squared: 0.008\n",
      "R²: 0.008\n",
      "Cross-validated Performance Metrics:\n",
      "Average Pearson's r: 0.298\n",
      "Partial eta squared: -0.001\n",
      "R²: -0.001\n",
      "Cross-validated Performance Metrics:\n",
      "Average Pearson's r: 0.284\n",
      "Partial eta squared: -0.013\n",
      "R²: -0.013\n"
     ]
    }
   ],
   "execution_count": 103
  },
  {
   "metadata": {
    "ExecuteTime": {
     "end_time": "2025-09-09T21:38:46.077512Z",
     "start_time": "2025-09-09T21:38:46.075292Z"
    }
   },
   "cell_type": "code",
   "outputs": [],
   "execution_count": 93,
   "source": [
    "def ses_features_2(df):\n",
    "    ses_features = df.drop(\n",
    "    columns=['g_lavaan','GoodRun_5', 'censor_5', 'confounds_nocensor', 'TRs', 'meanFD',  'interview_age', 'sex',\n",
    "             'hisp', 'race.4level', 'src_subject_id', 'eventname', 'rel_family_id', 'Session'])  # Features (exclude target and site ID)\n",
    "    # Simple mapping for binary categories\n",
    "    ses_features['married_encoded'] = ses_features['Married'].map({'Currently Married': 1, 'Not Currently Married': 0})\n",
    "\n",
    "    # Manual mapping for ordinal data\n",
    "    income_mapping = {\n",
    "        'low': 0,\n",
    "        'medium': 1,\n",
    "        'high': 2\n",
    "    }\n",
    "    ses_features['income_encoded'] = ses_features['income_group'].map(income_mapping)\n",
    "    ses_features = ses_features.drop(columns=['Married', 'income_group'])\n",
    "\n",
    "    return ses_features"
   ],
   "id": "d3a08ed8744b339c"
  },
  {
   "metadata": {
    "ExecuteTime": {
     "end_time": "2025-09-09T21:38:48.599549Z",
     "start_time": "2025-09-09T21:38:48.594164Z"
    }
   },
   "cell_type": "code",
   "outputs": [],
   "execution_count": 94,
   "source": [
    "ses_baseline_2 = ses_features_2(features_0_aligned)\n",
    "ses_followup_2 = ses_features_2(features_1_aligned)"
   ],
   "id": "ed9db8672f43a359"
  },
  {
   "metadata": {
    "ExecuteTime": {
     "end_time": "2025-09-09T21:38:49.544646Z",
     "start_time": "2025-09-09T21:38:49.540127Z"
    }
   },
   "cell_type": "code",
   "source": "ses_baseline_2.head()",
   "id": "967e891da536dba4",
   "outputs": [
    {
     "data": {
      "text/plain": [
       "  site_id_l          Subject  EdYearsHighest  IncCombinedMidpoint  \\\n",
       "0    site20  NDARINV00CY2MDM            14.0              42500.0   \n",
       "1    site04  NDARINV00U4FTRU            12.0              42500.0   \n",
       "2    site16  NDARINV01AJ15N9            16.0             150000.0   \n",
       "3    site19  NDARINV01EN91PG            16.0             150000.0   \n",
       "4    site16  NDARINV01NAYMZH            16.0             150000.0   \n",
       "\n",
       "   Income2Needs  married_encoded income_encoded  \n",
       "0      1.476720                0              0  \n",
       "1      1.116658                0              0  \n",
       "2      4.038772                1              2  \n",
       "3      5.211953                1              2  \n",
       "4      2.584425                1              2  "
      ],
      "text/html": [
       "<div>\n",
       "<style scoped>\n",
       "    .dataframe tbody tr th:only-of-type {\n",
       "        vertical-align: middle;\n",
       "    }\n",
       "\n",
       "    .dataframe tbody tr th {\n",
       "        vertical-align: top;\n",
       "    }\n",
       "\n",
       "    .dataframe thead th {\n",
       "        text-align: right;\n",
       "    }\n",
       "</style>\n",
       "<table border=\"1\" class=\"dataframe\">\n",
       "  <thead>\n",
       "    <tr style=\"text-align: right;\">\n",
       "      <th></th>\n",
       "      <th>site_id_l</th>\n",
       "      <th>Subject</th>\n",
       "      <th>EdYearsHighest</th>\n",
       "      <th>IncCombinedMidpoint</th>\n",
       "      <th>Income2Needs</th>\n",
       "      <th>married_encoded</th>\n",
       "      <th>income_encoded</th>\n",
       "    </tr>\n",
       "  </thead>\n",
       "  <tbody>\n",
       "    <tr>\n",
       "      <th>0</th>\n",
       "      <td>site20</td>\n",
       "      <td>NDARINV00CY2MDM</td>\n",
       "      <td>14.0</td>\n",
       "      <td>42500.0</td>\n",
       "      <td>1.476720</td>\n",
       "      <td>0</td>\n",
       "      <td>0</td>\n",
       "    </tr>\n",
       "    <tr>\n",
       "      <th>1</th>\n",
       "      <td>site04</td>\n",
       "      <td>NDARINV00U4FTRU</td>\n",
       "      <td>12.0</td>\n",
       "      <td>42500.0</td>\n",
       "      <td>1.116658</td>\n",
       "      <td>0</td>\n",
       "      <td>0</td>\n",
       "    </tr>\n",
       "    <tr>\n",
       "      <th>2</th>\n",
       "      <td>site16</td>\n",
       "      <td>NDARINV01AJ15N9</td>\n",
       "      <td>16.0</td>\n",
       "      <td>150000.0</td>\n",
       "      <td>4.038772</td>\n",
       "      <td>1</td>\n",
       "      <td>2</td>\n",
       "    </tr>\n",
       "    <tr>\n",
       "      <th>3</th>\n",
       "      <td>site19</td>\n",
       "      <td>NDARINV01EN91PG</td>\n",
       "      <td>16.0</td>\n",
       "      <td>150000.0</td>\n",
       "      <td>5.211953</td>\n",
       "      <td>1</td>\n",
       "      <td>2</td>\n",
       "    </tr>\n",
       "    <tr>\n",
       "      <th>4</th>\n",
       "      <td>site16</td>\n",
       "      <td>NDARINV01NAYMZH</td>\n",
       "      <td>16.0</td>\n",
       "      <td>150000.0</td>\n",
       "      <td>2.584425</td>\n",
       "      <td>1</td>\n",
       "      <td>2</td>\n",
       "    </tr>\n",
       "  </tbody>\n",
       "</table>\n",
       "</div>"
      ]
     },
     "execution_count": 95,
     "metadata": {},
     "output_type": "execute_result"
    }
   ],
   "execution_count": 95
  },
  {
   "metadata": {
    "ExecuteTime": {
     "end_time": "2025-09-09T21:39:25.785901Z",
     "start_time": "2025-09-09T21:39:25.739799Z"
    }
   },
   "cell_type": "code",
   "source": [
    "results_no_network, models_no_network = run_cross_validation(ses_baseline_2, y_baseline_2, use_network=False)\n",
    "print_cross_val_results(results_no_network)"
   ],
   "id": "ed2ccc4204037543",
   "outputs": [
    {
     "name": "stdout",
     "output_type": "stream",
     "text": [
      "Cross-validated Performance Metrics:\n",
      "Average Pearson's r: 0.349\n",
      "Partial eta squared: 0.095\n",
      "R²: 0.095\n"
     ]
    }
   ],
   "execution_count": 96
  },
  {
   "metadata": {
    "ExecuteTime": {
     "end_time": "2025-09-09T21:41:41.777254Z",
     "start_time": "2025-09-09T21:39:45.870269Z"
    }
   },
   "cell_type": "code",
   "source": [
    "results_network, models_network = run_cross_validation(ses_baseline_2, y_baseline_2, use_network=True,\n",
    "                                                       X_network=networks_aligned_baseline_df, num_pc=5)\n",
    "print_cross_val_results(results_network)"
   ],
   "id": "a6ec9f5b6de305e0",
   "outputs": [
    {
     "name": "stdout",
     "output_type": "stream",
     "text": [
      "Cross-validated Performance Metrics:\n",
      "Average Pearson's r: 0.348\n",
      "Partial eta squared: 0.094\n",
      "R²: 0.094\n"
     ]
    }
   ],
   "execution_count": 97
  },
  {
   "metadata": {
    "ExecuteTime": {
     "end_time": "2025-09-09T23:12:14.638869Z",
     "start_time": "2025-09-09T23:12:14.570303Z"
    }
   },
   "cell_type": "code",
   "source": [
    "results_no_network, models_no_network = run_cross_validation(ses_followup_2, y_followup_2, use_network=False)\n",
    "print_cross_val_results(results_no_network)"
   ],
   "id": "f5317145d486558e",
   "outputs": [
    {
     "name": "stdout",
     "output_type": "stream",
     "text": [
      "Cross-validated Performance Metrics:\n",
      "Average Pearson's r: 0.387\n",
      "Partial eta squared: 0.120\n",
      "R²: 0.120\n"
     ]
    }
   ],
   "execution_count": 104
  },
  {
   "metadata": {
    "ExecuteTime": {
     "end_time": "2025-09-09T23:14:08.697682Z",
     "start_time": "2025-09-09T23:12:17.531053Z"
    }
   },
   "cell_type": "code",
   "source": [
    "results_network, models_network = run_cross_validation(ses_followup_2, y_followup_2, use_network=True,\n",
    "                                                       X_network=networks_aligned_followup_df, num_pc=5)\n",
    "print_cross_val_results(results_network)"
   ],
   "id": "a85bc26a6aca24d5",
   "outputs": [
    {
     "name": "stdout",
     "output_type": "stream",
     "text": [
      "Cross-validated Performance Metrics:\n",
      "Average Pearson's r: 0.385\n",
      "Partial eta squared: 0.118\n",
      "R²: 0.118\n"
     ]
    }
   ],
   "execution_count": 105
  },
  {
   "metadata": {
    "ExecuteTime": {
     "end_time": "2025-09-09T21:44:12.680981Z",
     "start_time": "2025-09-09T21:44:12.673135Z"
    }
   },
   "cell_type": "code",
   "source": [
    "combined_baseline_2 = combine_data(ses_baseline_2, article_features_2_baseline)\n",
    "combined_followup_2 = combine_data(ses_followup_2, article_features_2_followup)"
   ],
   "id": "3bbce96665992768",
   "outputs": [],
   "execution_count": 98
  },
  {
   "metadata": {
    "ExecuteTime": {
     "end_time": "2025-09-09T21:44:13.595295Z",
     "start_time": "2025-09-09T21:44:13.592779Z"
    }
   },
   "cell_type": "code",
   "source": "combined_baseline_2.columns",
   "id": "fd9acdbed37b2899",
   "outputs": [
    {
     "data": {
      "text/plain": [
       "Index(['site_id_l', 'Subject', 'EdYearsHighest', 'IncCombinedMidpoint',\n",
       "       'Income2Needs', 'married_encoded', 'income_encoded', 'interview_age',\n",
       "       'meanFD', 'age_squared', 'meanFD_squared', 'sex_encoded',\n",
       "       'hisp_encoded', 'race_encoded'],\n",
       "      dtype='object')"
      ]
     },
     "execution_count": 99,
     "metadata": {},
     "output_type": "execute_result"
    }
   ],
   "execution_count": 99
  },
  {
   "metadata": {
    "ExecuteTime": {
     "end_time": "2025-09-09T21:44:36.640970Z",
     "start_time": "2025-09-09T21:44:36.585335Z"
    }
   },
   "cell_type": "code",
   "source": [
    "results_no_network, models_no_network = run_cross_validation(combined_baseline_2, y_baseline_2, use_network=False)\n",
    "print_cross_val_results(results_no_network)"
   ],
   "id": "2a6ab26496cff0b8",
   "outputs": [
    {
     "name": "stdout",
     "output_type": "stream",
     "text": [
      "Cross-validated Performance Metrics:\n",
      "Average Pearson's r: 0.476\n",
      "Partial eta squared: 0.188\n",
      "R²: 0.188\n"
     ]
    }
   ],
   "execution_count": 100
  },
  {
   "metadata": {
    "ExecuteTime": {
     "end_time": "2025-09-09T22:01:13.891961Z",
     "start_time": "2025-09-09T21:46:43.058042Z"
    }
   },
   "cell_type": "code",
   "source": [
    "for num_pc in [5, 10, 25, 50, 100]:\n",
    "    results_network, models_network = run_cross_validation(combined_baseline_2, y_baseline_2, use_network=True,\n",
    "                                                       X_network=networks_aligned_baseline_df, num_pc=num_pc)\n",
    "\n",
    "    print_cross_val_results(results_network)"
   ],
   "id": "1db188d638fb1b93",
   "outputs": [
    {
     "name": "stdout",
     "output_type": "stream",
     "text": [
      "Cross-validated Performance Metrics:\n",
      "Average Pearson's r: 0.474\n",
      "Partial eta squared: 0.187\n",
      "R²: 0.187\n",
      "Cross-validated Performance Metrics:\n",
      "Average Pearson's r: 0.472\n",
      "Partial eta squared: 0.184\n",
      "R²: 0.184\n",
      "Cross-validated Performance Metrics:\n",
      "Average Pearson's r: 0.466\n",
      "Partial eta squared: 0.178\n",
      "R²: 0.178\n",
      "Cross-validated Performance Metrics:\n",
      "Average Pearson's r: 0.464\n",
      "Partial eta squared: 0.177\n",
      "R²: 0.177\n",
      "Cross-validated Performance Metrics:\n",
      "Average Pearson's r: 0.458\n",
      "Partial eta squared: 0.174\n",
      "R²: 0.174\n"
     ]
    }
   ],
   "execution_count": 101
  },
  {
   "metadata": {
    "ExecuteTime": {
     "end_time": "2025-09-09T23:18:11.843907Z",
     "start_time": "2025-09-09T23:18:11.788283Z"
    }
   },
   "cell_type": "code",
   "source": [
    "results_no_network, models_no_network = run_cross_validation(combined_followup_2, y_followup_2, use_network=False)\n",
    "print_cross_val_results(results_no_network)"
   ],
   "id": "3a2abebd4a25c073",
   "outputs": [
    {
     "name": "stdout",
     "output_type": "stream",
     "text": [
      "Cross-validated Performance Metrics:\n",
      "Average Pearson's r: 0.446\n",
      "Partial eta squared: 0.165\n",
      "R²: 0.165\n"
     ]
    }
   ],
   "execution_count": 106
  },
  {
   "metadata": {
    "ExecuteTime": {
     "end_time": "2025-09-09T23:31:02.408302Z",
     "start_time": "2025-09-09T23:18:53.712836Z"
    }
   },
   "cell_type": "code",
   "source": [
    "for num_pc in [5, 10, 25, 50, 100]:\n",
    "    results_network, models_network = run_cross_validation(combined_followup_2, y_followup_2, use_network=True,\n",
    "                                                       X_network=networks_aligned_followup_df, num_pc=num_pc)\n",
    "    print_cross_val_results(results_network)"
   ],
   "id": "8e07432eea40df34",
   "outputs": [
    {
     "name": "stdout",
     "output_type": "stream",
     "text": [
      "Cross-validated Performance Metrics:\n",
      "Average Pearson's r: 0.444\n",
      "Partial eta squared: 0.162\n",
      "R²: 0.162\n",
      "Cross-validated Performance Metrics:\n",
      "Average Pearson's r: 0.441\n",
      "Partial eta squared: 0.160\n",
      "R²: 0.160\n",
      "Cross-validated Performance Metrics:\n",
      "Average Pearson's r: 0.437\n",
      "Partial eta squared: 0.157\n",
      "R²: 0.157\n",
      "Cross-validated Performance Metrics:\n",
      "Average Pearson's r: 0.429\n",
      "Partial eta squared: 0.147\n",
      "R²: 0.147\n",
      "Cross-validated Performance Metrics:\n",
      "Average Pearson's r: 0.423\n",
      "Partial eta squared: 0.140\n",
      "R²: 0.140\n"
     ]
    }
   ],
   "execution_count": 107
  },
  {
   "metadata": {},
   "cell_type": "markdown",
   "source": [
    "### Summary table 4:\n",
    "PCs [5, 10, 25, 50, 100] or 5 if only one value\n",
    "| Description                  | Pearson's correlation | Partial $\\eta^2$ | Coefficient of Determination |\n",
    "|------------------------------|-----------------------|------------------|------------------------------|\n",
    "| Baseline features + PCs      | 0.381/0.373/0.364/ 0.360 / 0.371  | 0.055/ 0.053/ 0.048/ 0.045 / 0.041    | 0.055 /0.053/ 0.048/ 0.045 / 0.041                |\n",
    "| Baseline features only       | 0.385                 | 0.057            | 0.057                        |\n",
    "| Baseline SES only            | 0.349                 | 0.095            | 0.095                        |\n",
    "| Baseline SES + PCs           | 0.348                 | 0.094            | 0.094                         |\n",
    "| Baseline features + SES      | 0.476                 | 0.188            | 0.188                        |\n",
    "| Baseline features+ SES + PCs | 0.474/0.472/0.466/ 0.464 / 0.458 | 0.187/0.184/0.178/0.177 / 0.174    | 0.187/0.184 /0.178/0.177 / 0.174|\n",
    "| Followup features + PCs      | 0.317/0.312/0.309/ 0.298 / 0.284         | 0.012/0.010/0.008/-0.001 /-0.013  |0.012/0.010/0.008/-0.001 /-0.013 |\n",
    "| Followup features only       | 0.320                 | 0.015            | 0.015                        |\n",
    "| Followup SES only            | 0.387                 | 0.120            | 0.120                        |\n",
    "| Followup SES + PCs           | 0.385        | 0.118    |0.118             |\n",
    "| Followup features + SES      | 0.446                 | 0.165            | 0.165                        |\n",
    "| Followup features+ SES + PCs | 0.444/0.441/ 0.437/0.429 / 0.423         | 0.162/0.160/0.157/0.147 / 0.140    | 0.162/0.160/0.157/0.147 / 0.140         |"
   ],
   "id": "21c4c98ab4f10a6a"
  },
  {
   "metadata": {
    "ExecuteTime": {
     "end_time": "2025-09-09T20:10:13.871121Z",
     "start_time": "2025-09-09T20:08:59.573625Z"
    }
   },
   "cell_type": "code",
   "source": [
    "segregation_baseline = compute_one_statistic(\n",
    "    df_features=features_0_aligned,\n",
    "    df_network=networks_aligned_baseline_df,\n",
    "    community_sizes=community_sizes,\n",
    "    net_order=net_order,\n",
    "    mode=\"segregation\",\n",
    "    stat_name=\"segregation\"\n",
    ")"
   ],
   "id": "2e0f17ad46f11cec",
   "outputs": [
    {
     "name": "stderr",
     "output_type": "stream",
     "text": [
      "100%|██████████| 2478/2478 [01:11<00:00, 34.53it/s]\n"
     ]
    }
   ],
   "execution_count": 62
  },
  {
   "metadata": {
    "ExecuteTime": {
     "end_time": "2025-09-09T23:37:27.927772Z",
     "start_time": "2025-09-09T23:37:27.841868Z"
    }
   },
   "cell_type": "code",
   "source": [
    "features_ses_segregation_baseline = combine_data(combined_baseline_2, segregation_baseline)\n",
    "results_no_network, models_no_network = run_cross_validation(features_ses_segregation_baseline, y_baseline_2,\n",
    "                                                             use_network=False)\n",
    "print_cross_val_results(results_no_network)"
   ],
   "id": "1fdf146b33d9462a",
   "outputs": [
    {
     "name": "stdout",
     "output_type": "stream",
     "text": [
      "Cross-validated Performance Metrics:\n",
      "Average Pearson's r: 0.467\n",
      "Partial eta squared: 0.180\n",
      "R²: 0.180\n"
     ]
    }
   ],
   "execution_count": 108
  },
  {
   "metadata": {
    "ExecuteTime": {
     "end_time": "2025-09-09T23:39:13.648418Z",
     "start_time": "2025-09-09T23:39:12.944178Z"
    }
   },
   "cell_type": "code",
   "source": [
    "# Get segregation feature names (excluding metadata columns)\n",
    "segregation_features = [col for col in segregation_baseline.columns\n",
    "                          if col not in ['Subject', 'site_id_l']]\n",
    "\n",
    "# Initialize results storage\n",
    "#results = []\n",
    "\n",
    "# Test individual features first\n",
    "print(\"Testing individual features...\")\n",
    "for feature in tqdm(segregation_features):\n",
    "    # Create enhanced feature set\n",
    "    X_enhanced = combined_baseline_2.merge(\n",
    "            segregation_baseline[['Subject', 'site_id_l', feature]],\n",
    "            on=['Subject', 'site_id_l'],\n",
    "            how='left'\n",
    "    )\n",
    "    results_no_network, models_no_network = run_cross_validation(X_enhanced, y_baseline_2,\n",
    "                                                             use_network=False)\n",
    "    print_cross_val_results(results_no_network)\n"
   ],
   "id": "519a9da08cbaed68",
   "outputs": [
    {
     "name": "stdout",
     "output_type": "stream",
     "text": [
      "Testing individual features...\n"
     ]
    },
    {
     "name": "stderr",
     "output_type": "stream",
     "text": [
      " 13%|█▎        | 2/15 [00:00<00:00, 19.12it/s]"
     ]
    },
    {
     "name": "stdout",
     "output_type": "stream",
     "text": [
      "Cross-validated Performance Metrics:\n",
      "Average Pearson's r: 0.475\n",
      "Partial eta squared: 0.187\n",
      "R²: 0.187\n",
      "Cross-validated Performance Metrics:\n",
      "Average Pearson's r: 0.475\n",
      "Partial eta squared: 0.187\n",
      "R²: 0.187\n",
      "Cross-validated Performance Metrics:\n",
      "Average Pearson's r: 0.477\n",
      "Partial eta squared: 0.190\n",
      "R²: 0.190\n",
      "Cross-validated Performance Metrics:\n",
      "Average Pearson's r: 0.475\n",
      "Partial eta squared: 0.187\n",
      "R²: 0.187\n"
     ]
    },
    {
     "name": "stderr",
     "output_type": "stream",
     "text": [
      " 33%|███▎      | 5/15 [00:00<00:00, 21.22it/s]"
     ]
    },
    {
     "name": "stdout",
     "output_type": "stream",
     "text": [
      "Cross-validated Performance Metrics:\n",
      "Average Pearson's r: 0.475\n",
      "Partial eta squared: 0.187\n",
      "R²: 0.187\n"
     ]
    },
    {
     "name": "stderr",
     "output_type": "stream",
     "text": [
      " 53%|█████▎    | 8/15 [00:00<00:00, 21.57it/s]"
     ]
    },
    {
     "name": "stdout",
     "output_type": "stream",
     "text": [
      "Cross-validated Performance Metrics:\n",
      "Average Pearson's r: 0.476\n",
      "Partial eta squared: 0.188\n",
      "R²: 0.188\n",
      "Cross-validated Performance Metrics:\n",
      "Average Pearson's r: 0.476\n",
      "Partial eta squared: 0.188\n",
      "R²: 0.188\n",
      "Cross-validated Performance Metrics:\n",
      "Average Pearson's r: 0.475\n",
      "Partial eta squared: 0.188\n",
      "R²: 0.188\n",
      "Cross-validated Performance Metrics:\n",
      "Average Pearson's r: 0.475\n",
      "Partial eta squared: 0.188\n",
      "R²: 0.188\n",
      "Cross-validated Performance Metrics:\n",
      "Average Pearson's r: 0.475\n",
      "Partial eta squared: 0.188\n",
      "R²: 0.188\n"
     ]
    },
    {
     "name": "stderr",
     "output_type": "stream",
     "text": [
      " 93%|█████████▎| 14/15 [00:00<00:00, 22.23it/s]"
     ]
    },
    {
     "name": "stdout",
     "output_type": "stream",
     "text": [
      "Cross-validated Performance Metrics:\n",
      "Average Pearson's r: 0.475\n",
      "Partial eta squared: 0.188\n",
      "R²: 0.188\n",
      "Cross-validated Performance Metrics:\n",
      "Average Pearson's r: 0.476\n",
      "Partial eta squared: 0.189\n",
      "R²: 0.189\n",
      "Cross-validated Performance Metrics:\n",
      "Average Pearson's r: 0.475\n",
      "Partial eta squared: 0.187\n",
      "R²: 0.187\n",
      "Cross-validated Performance Metrics:\n",
      "Average Pearson's r: 0.475\n",
      "Partial eta squared: 0.188\n",
      "R²: 0.188\n"
     ]
    },
    {
     "name": "stderr",
     "output_type": "stream",
     "text": [
      "100%|██████████| 15/15 [00:00<00:00, 21.66it/s]"
     ]
    },
    {
     "name": "stdout",
     "output_type": "stream",
     "text": [
      "Cross-validated Performance Metrics:\n",
      "Average Pearson's r: 0.475\n",
      "Partial eta squared: 0.186\n",
      "R²: 0.186\n"
     ]
    },
    {
     "name": "stderr",
     "output_type": "stream",
     "text": [
      "\n"
     ]
    }
   ],
   "execution_count": 110
  },
  {
   "metadata": {
    "ExecuteTime": {
     "end_time": "2025-09-09T23:41:06.480176Z",
     "start_time": "2025-09-09T23:41:06.464727Z"
    }
   },
   "cell_type": "code",
   "source": [
    "from sklearn.model_selection import LeaveOneGroupOut\n",
    "\n",
    "from sklearn.metrics import mean_squared_error, r2_score\n",
    "from scipy.stats import pearsonr\n",
    "import itertools\n",
    "\n",
    "def partial_eta_squared(y_true, y_pred):\n",
    "    sse = np.sum((y_true - y_pred) ** 2)\n",
    "    sst = np.sum((y_true - np.mean(y_true)) ** 2)\n",
    "    return 1 - (sse / sst) if sst != 0 else 0\n",
    "\n",
    "def evaluate_feature_subsets(X_features, y, segregation_df, max_features=5):\n",
    "    \"\"\"\n",
    "    Evaluate different subsets of segregation features to find the optimal combination.\n",
    "\n",
    "    Args:\n",
    "        X_features: DataFrame with main features including 'Subject' and 'site_id_l'\n",
    "        y: Target variable\n",
    "        segregation_df: DataFrame with segregation features for each network\n",
    "        max_features: Maximum number of features to consider in combinations\n",
    "\n",
    "    Returns:\n",
    "        DataFrame with performance results for each feature subset\n",
    "    \"\"\"\n",
    "    # Get segregation feature names (excluding metadata columns)\n",
    "    segregation_features = [col for col in segregation_df.columns\n",
    "                          if col not in ['Subject', 'site_id_l']]\n",
    "\n",
    "    # Initialize results storage\n",
    "    results = []\n",
    "\n",
    "    # Test individual features first\n",
    "    print(\"Testing individual features...\")\n",
    "    for feature in tqdm(segregation_features):\n",
    "        # Create enhanced feature set\n",
    "        X_enhanced = X_features.merge(\n",
    "            segregation_df[['Subject', 'site_id_l', feature]],\n",
    "            on=['Subject', 'site_id_l'],\n",
    "            how='left'\n",
    "        )\n",
    "\n",
    "        # Run cross-validation\n",
    "        cv_results, _ = run_cross_validation(X_enhanced, y, use_network=False)\n",
    "        avg_metrics = calculate_average_metrics(cv_results)\n",
    "\n",
    "        results.append({\n",
    "            'features': feature,\n",
    "            'num_features': 1,\n",
    "            'pearson_r': avg_metrics['Mean Pearson r'],\n",
    "            'r2': avg_metrics['Mean R²'],\n",
    "            'mse': avg_metrics['Mean MSE']\n",
    "        })\n",
    "\n",
    "    # Test combinations of features\n",
    "    print(\"Testing feature combinations...\")\n",
    "    for n_features in range(2, min(max_features + 1, len(segregation_features) + 1)):\n",
    "        # Generate all combinations of n features\n",
    "        for feature_combo in tqdm(itertools.combinations(segregation_features, n_features)):\n",
    "            # Create enhanced feature set\n",
    "            X_enhanced = X_features.merge(\n",
    "                segregation_df[['Subject', 'site_id_l'] + list(feature_combo)],\n",
    "                on=['Subject', 'site_id_l'],\n",
    "                how='left'\n",
    "            )\n",
    "\n",
    "            # Run cross-validation\n",
    "            cv_results, _ = run_cross_validation(X_enhanced, y, use_network=False)\n",
    "            avg_metrics = calculate_average_metrics(cv_results)\n",
    "\n",
    "            results.append({\n",
    "                'features': ','.join(feature_combo),\n",
    "                'num_features': n_features,\n",
    "                'pearson_r': avg_metrics['Mean Pearson r'],\n",
    "                'r2': avg_metrics['Mean R²'],\n",
    "                'mse': avg_metrics['Mean MSE']\n",
    "            })\n",
    "\n",
    "    return pd.DataFrame(results)\n",
    "\n",
    "def calculate_average_metrics(results_list):\n",
    "    \"\"\"Calculate average metrics from a list of result dictionaries.\"\"\"\n",
    "    return {\n",
    "        'Mean Pearson r': np.mean([r['pearson_r'] for r in results_list]),\n",
    "        'Mean R²': np.mean([r['r2'] for r in results_list]),\n",
    "        'Mean MSE': np.mean([r['mse'] for r in results_list])\n",
    "    }\n",
    "\n",
    "def run_cross_validation(X_features, y, use_network=False, X_network=None):\n",
    "    \"\"\"\n",
    "    Run cross-validation with or without network data.\n",
    "    This is similar to your existing function but simplified for this use case.\n",
    "    \"\"\"\n",
    "    logo = LeaveOneGroupOut()\n",
    "    results = []\n",
    "    trained_models = []\n",
    "\n",
    "    groups = X_features['site_id_l']\n",
    "\n",
    "    for train_idx, test_idx in logo.split(X_features, y, groups=groups):\n",
    "        # Drop non-feature columns\n",
    "        non_feature_cols = ['site_id_l', 'Subject']\n",
    "        X_train = X_features.iloc[train_idx].drop(columns=non_feature_cols)\n",
    "        X_test = X_features.iloc[test_idx].drop(columns=non_feature_cols)\n",
    "        y_train = y.iloc[train_idx]\n",
    "        y_test = y.iloc[test_idx]\n",
    "\n",
    "        # Train model\n",
    "        model = LinearRegression()\n",
    "        model.fit(X_train, y_train)\n",
    "        y_pred = model.predict(X_test)\n",
    "\n",
    "        # Calculate metrics\n",
    "        r, p = pearsonr(y_test, y_pred)\n",
    "        eta = partial_eta_squared(y_test, y_pred)\n",
    "        mse = mean_squared_error(y_test, y_pred)\n",
    "        r2 = r2_score(y_test, y_pred)\n",
    "\n",
    "        results.append({\n",
    "            'pearson_r': r,\n",
    "            'pearson_p': p,\n",
    "            'partial_eta_squared': eta,\n",
    "            'mse': mse,\n",
    "            'r2': r2,\n",
    "            'n_train': len(X_train),\n",
    "            'n_test': len(X_test)\n",
    "        })\n",
    "\n",
    "        trained_models.append(model)\n",
    "\n",
    "    return results, trained_models\n"
   ],
   "id": "f81c7e86a6b71113",
   "outputs": [],
   "execution_count": 111
  },
  {
   "metadata": {
    "ExecuteTime": {
     "end_time": "2025-09-09T23:42:33.028006Z",
     "start_time": "2025-09-09T23:42:02.713094Z"
    }
   },
   "cell_type": "code",
   "source": "results_df = evaluate_feature_subsets(combined_baseline_2, y_baseline_2, segregation_baseline, max_features=3)",
   "id": "a640a02fc2fd3f05",
   "outputs": [
    {
     "name": "stdout",
     "output_type": "stream",
     "text": [
      "Testing individual features...\n"
     ]
    },
    {
     "name": "stderr",
     "output_type": "stream",
     "text": [
      "100%|██████████| 15/15 [00:00<00:00, 19.12it/s]\n"
     ]
    },
    {
     "name": "stdout",
     "output_type": "stream",
     "text": [
      "Testing feature combinations...\n"
     ]
    },
    {
     "name": "stderr",
     "output_type": "stream",
     "text": [
      "105it [00:05, 18.94it/s]\n",
      "455it [00:23, 18.97it/s]\n"
     ]
    }
   ],
   "execution_count": 112
  },
  {
   "metadata": {
    "ExecuteTime": {
     "end_time": "2025-09-09T23:46:02.031623Z",
     "start_time": "2025-09-09T23:46:02.024026Z"
    }
   },
   "cell_type": "code",
   "source": [
    "import matplotlib.pyplot as plt\n",
    "import seaborn as sns\n",
    "\n",
    "def visualize_feature_selection_results(results_df):\n",
    "    \"\"\"Visualize the results of feature selection experiments.\"\"\"\n",
    "\n",
    "    # Plot performance vs. number of features\n",
    "    plt.figure(figsize=(10, 6))\n",
    "    sns.lineplot(data=results_df, x='num_features', y='r2', estimator='mean', errorbar='sd')\n",
    "    plt.title('Model Performance vs. Number of Segregation Features')\n",
    "    plt.xlabel('Number of Features')\n",
    "    plt.ylabel('R²')\n",
    "    plt.show()\n",
    "\n",
    "    # Find the best performing feature set\n",
    "    best_result = results_df.loc[results_df['r2'].idxmax()]\n",
    "    print(f\"Best feature set: {best_result['features']}\")\n",
    "    print(f\"Best R²: {best_result['r2']:.4f}\")\n",
    "\n",
    "    # Plot performance of individual features\n",
    "    individual_features = results_df[results_df['num_features'] == 1]\n",
    "    individual_features = individual_features.sort_values('r2', ascending=False)\n",
    "\n",
    "    plt.figure(figsize=(12, 6))\n",
    "    sns.barplot(data=individual_features, x='features', y='r2')\n",
    "    plt.title('Performance of Individual Segregation Features')\n",
    "    plt.xlabel('Feature')\n",
    "    plt.ylabel('R²')\n",
    "    plt.xticks(rotation=45)\n",
    "    plt.tight_layout()\n",
    "    plt.show()\n",
    "\n",
    "    return best_result"
   ],
   "id": "79d4165ec81ea06a",
   "outputs": [],
   "execution_count": 115
  },
  {
   "metadata": {
    "ExecuteTime": {
     "end_time": "2025-09-09T23:46:16.995104Z",
     "start_time": "2025-09-09T23:46:16.684284Z"
    }
   },
   "cell_type": "code",
   "source": "best_features = visualize_feature_selection_results(results_df)",
   "id": "84271080ee466717",
   "outputs": [
    {
     "data": {
      "text/plain": [
       "<Figure size 1000x600 with 1 Axes>"
      ],
      "image/png": "[encoded data removed]"
     },
     "metadata": {},
     "output_type": "display_data"
    },
    {
     "name": "stdout",
     "output_type": "stream",
     "text": [
      "Best feature set: segregation[3.0],segregation[7.0],segregation[13.0]\n",
      "Best R²: 0.1898\n"
     ]
    },
    {
     "data": {
      "text/plain": [
       "<Figure size 1200x600 with 1 Axes>"
      ],
      "image/png": "[encoded data removed]"
     },
     "metadata": {},
     "output_type": "display_data"
    }
   ],
   "execution_count": 116
  },
  {
   "metadata": {
    "ExecuteTime": {
     "end_time": "2025-09-09T23:51:37.635500Z",
     "start_time": "2025-09-09T23:51:37.632967Z"
    }
   },
   "cell_type": "code",
   "source": "best_segregation_set = segregation_baseline[['segregation[3.0]','segregation[7.0]','segregation[13.0]']]",
   "id": "90d69fd1031fdaeb",
   "outputs": [],
   "execution_count": 118
  },
  {
   "metadata": {
    "ExecuteTime": {
     "end_time": "2025-09-09T23:51:38.685021Z",
     "start_time": "2025-09-09T23:51:38.616021Z"
    }
   },
   "cell_type": "code",
   "source": [
    "features_ses_segregation_baseline = combine_data(combined_baseline_2, best_segregation_set)\n",
    "results_no_network, models_no_network = run_cross_validation(features_ses_segregation_baseline, y_baseline_2,\n",
    "                                                             use_network=False)\n",
    "print_cross_val_results(results_no_network)"
   ],
   "id": "fc6a531500bfa72b",
   "outputs": [
    {
     "name": "stdout",
     "output_type": "stream",
     "text": [
      "Cross-validated Performance Metrics:\n",
      "Average Pearson's r: 0.477\n",
      "Partial eta squared: 0.190\n",
      "R²: 0.190\n"
     ]
    }
   ],
   "execution_count": 119
  },
  {
   "metadata": {
    "ExecuteTime": {
     "end_time": "2025-09-09T23:56:33.966859Z",
     "start_time": "2025-09-09T23:56:33.963798Z"
    }
   },
   "cell_type": "code",
   "source": [
    "# Test 1: Observations + SES vs Observations + SES + Segregation best set\n",
    "test1 = f_test_r2(\n",
    "    r2_reduced=0.188,\n",
    "    r2_full=0.190,\n",
    "    n=combined_baseline_2.shape[0],\n",
    "    p_reduced=combined_baseline_2.shape[1] - 1,\n",
    "    p_full=combined_baseline_2.shape[1] + 2,\n",
    ")\n",
    "print(f\"Test 1 (Obs vs Obs+SES): F={test1['f_statistic']:.4f}, p={test1['p_value']:.4e}\")\n",
    "if test1['p_value'] < 0.05:\n",
    "    print(f\"The full model provides a statistically significant improvement over the reduced model.\")\n",
    "else:\n",
    "    print(\"There is not enough evidence\")"
   ],
   "id": "3f7d707125aa1769",
   "outputs": [
    {
     "name": "stdout",
     "output_type": "stream",
     "text": [
      "Test 1 (Obs vs Obs+SES): F=2.0255, p=1.0824e-01\n",
      "There is not enough evidence\n"
     ]
    }
   ],
   "execution_count": 122
  },
  {
   "metadata": {
    "ExecuteTime": {
     "end_time": "2025-09-09T23:58:55.116087Z",
     "start_time": "2025-09-09T23:57:41.479869Z"
    }
   },
   "cell_type": "code",
   "source": [
    "segregation_followup = compute_one_statistic(\n",
    "    df_features=features_1_aligned,\n",
    "    df_network=networks_aligned_followup_df,\n",
    "    community_sizes=community_sizes,\n",
    "    net_order=net_order,\n",
    "    mode=\"segregation\",\n",
    "    stat_name=\"segregation\"\n",
    ")"
   ],
   "id": "d7c2c78188351780",
   "outputs": [
    {
     "name": "stderr",
     "output_type": "stream",
     "text": [
      "100%|██████████| 2478/2478 [01:09<00:00, 35.90it/s]\n"
     ]
    }
   ],
   "execution_count": 123
  },
  {
   "metadata": {
    "ExecuteTime": {
     "end_time": "2025-09-09T23:59:52.360270Z",
     "start_time": "2025-09-09T23:59:52.274991Z"
    }
   },
   "cell_type": "code",
   "source": [
    "features_ses_segregation_followup = combine_data(combined_followup_2, segregation_followup)\n",
    "results_no_network, models_no_network = run_cross_validation(features_ses_segregation_followup, y_followup_2,\n",
    "                                                             use_network=False)\n",
    "print_cross_val_results(results_no_network)"
   ],
   "id": "26581e5171acba79",
   "outputs": [
    {
     "name": "stdout",
     "output_type": "stream",
     "text": [
      "Cross-validated Performance Metrics:\n",
      "Average Pearson's r: 0.443\n",
      "Partial eta squared: 0.162\n",
      "R²: 0.162\n"
     ]
    }
   ],
   "execution_count": 124
  },
  {
   "metadata": {
    "ExecuteTime": {
     "end_time": "2025-09-10T00:02:05.532226Z",
     "start_time": "2025-09-10T00:01:36.083508Z"
    }
   },
   "cell_type": "code",
   "source": "results_df = evaluate_feature_subsets(combined_followup_2, y_followup_2, segregation_followup, max_features=3)",
   "id": "1c5af0c96fdb186c",
   "outputs": [
    {
     "name": "stdout",
     "output_type": "stream",
     "text": [
      "Testing individual features...\n"
     ]
    },
    {
     "name": "stderr",
     "output_type": "stream",
     "text": [
      "100%|██████████| 15/15 [00:00<00:00, 20.20it/s]\n"
     ]
    },
    {
     "name": "stdout",
     "output_type": "stream",
     "text": [
      "Testing feature combinations...\n"
     ]
    },
    {
     "name": "stderr",
     "output_type": "stream",
     "text": [
      "105it [00:05, 20.21it/s]\n",
      "455it [00:23, 19.36it/s]\n"
     ]
    }
   ],
   "execution_count": 125
  },
  {
   "metadata": {
    "ExecuteTime": {
     "end_time": "2025-09-10T00:02:12.794373Z",
     "start_time": "2025-09-10T00:02:12.631590Z"
    }
   },
   "cell_type": "code",
   "source": "visualize_feature_selection_results(results_df)",
   "id": "69bfc168eb1ff43d",
   "outputs": [
    {
     "data": {
      "text/plain": [
       "<Figure size 1000x600 with 1 Axes>"
      ],
      "image/png": "[encoded data removed]"
     },
     "metadata": {},
     "output_type": "display_data"
    },
    {
     "name": "stdout",
     "output_type": "stream",
     "text": [
      "Best feature set: segregation[3.0],segregation[10.0],segregation[11.0]\n",
      "Best R²: 0.1677\n"
     ]
    },
    {
     "data": {
      "text/plain": [
       "<Figure size 1200x600 with 1 Axes>"
      ],
      "image/png": "[encoded data removed]"
     },
     "metadata": {},
     "output_type": "display_data"
    },
    {
     "data": {
      "text/plain": [
       "features        segregation[3.0],segregation[10.0],segregation...\n",
       "num_features                                                    3\n",
       "pearson_r                                                0.447961\n",
       "r2                                                       0.167662\n",
       "mse                                                      0.467685\n",
       "Name: 334, dtype: object"
      ]
     },
     "execution_count": 126,
     "metadata": {},
     "output_type": "execute_result"
    }
   ],
   "execution_count": 126
  },
  {
   "metadata": {
    "ExecuteTime": {
     "end_time": "2025-09-10T00:22:55.026382Z",
     "start_time": "2025-09-10T00:22:55.016758Z"
    }
   },
   "cell_type": "code",
   "source": "best_segregation_set = segregation_followup[['segregation[3.0]', 'segregation[10.0]', 'segregation[11.0]']]",
   "id": "691698c9aba0c42d",
   "outputs": [],
   "execution_count": 129
  },
  {
   "metadata": {
    "ExecuteTime": {
     "end_time": "2025-09-10T00:23:03.123942Z",
     "start_time": "2025-09-10T00:23:03.059650Z"
    }
   },
   "cell_type": "code",
   "source": [
    "features_ses_segregation_followup = combine_data(combined_followup_2, best_segregation_set)\n",
    "results_no_network, models_no_network = run_cross_validation(features_ses_segregation_followup, y_followup_2,\n",
    "                                                             use_network=False)\n",
    "print_cross_val_results(results_no_network)"
   ],
   "id": "4c497e66486b51e9",
   "outputs": [
    {
     "name": "stdout",
     "output_type": "stream",
     "text": [
      "Cross-validated Performance Metrics:\n",
      "Average Pearson's r: 0.448\n",
      "Partial eta squared: 0.168\n",
      "R²: 0.168\n"
     ]
    }
   ],
   "execution_count": 130
  },
  {
   "metadata": {
    "ExecuteTime": {
     "end_time": "2025-09-10T00:25:30.897409Z",
     "start_time": "2025-09-10T00:25:30.892369Z"
    }
   },
   "cell_type": "code",
   "source": [
    "# Test 2: Observations + SES vs Observations + SES + Segregation best set\n",
    "test2 = f_test_r2(\n",
    "    r2_reduced=0.165,\n",
    "    r2_full=0.168,\n",
    "    n=combined_followup_2.shape[0],\n",
    "    p_reduced=combined_followup_2.shape[1] - 1,\n",
    "    p_full=combined_followup_2.shape[1] + 2,\n",
    ")\n",
    "print(f\"Test 2 (Obs vs Obs+SES): F={test2['f_statistic']:.4f}, p={test2['p_value']:.4e}\")\n",
    "if test2['p_value'] < 0.05:\n",
    "    print(f\"The full model provides a statistically significant improvement over the reduced model.\")\n",
    "else:\n",
    "    print(\"There is not enough evidence\")"
   ],
   "id": "35dcfff5da8dbea8",
   "outputs": [
    {
     "name": "stdout",
     "output_type": "stream",
     "text": [
      "Test 2 (Obs vs Obs+SES): F=2.9579, p=3.1216e-02\n",
      "The full model provides a statistically significant improvement over the reduced model.\n"
     ]
    }
   ],
   "execution_count": 131
  },
  {
   "metadata": {
    "ExecuteTime": {
     "end_time": "2025-09-10T00:28:20.619888Z",
     "start_time": "2025-09-10T00:28:20.617598Z"
    }
   },
   "cell_type": "code",
   "source": "new_y_baseline = segregation_baseline['segregation[3.0]']",
   "id": "f524e63f708579ef",
   "outputs": [],
   "execution_count": 136
  },
  {
   "metadata": {
    "ExecuteTime": {
     "end_time": "2025-09-10T00:28:21.045661Z",
     "start_time": "2025-09-10T00:28:21.041904Z"
    }
   },
   "cell_type": "code",
   "source": "new_y_baseline",
   "id": "1275a7fafb3bb244",
   "outputs": [
    {
     "data": {
      "text/plain": [
       "0       3.354894\n",
       "1       3.522341\n",
       "2       2.832126\n",
       "3       3.640498\n",
       "4       3.459631\n",
       "          ...   \n",
       "2473    3.264094\n",
       "2474    3.660942\n",
       "2475    3.368934\n",
       "2476    3.397706\n",
       "2477    3.234928\n",
       "Name: segregation[3.0], Length: 2478, dtype: float64"
      ]
     },
     "execution_count": 137,
     "metadata": {},
     "output_type": "execute_result"
    }
   ],
   "execution_count": 137
  },
  {
   "metadata": {
    "ExecuteTime": {
     "end_time": "2025-09-10T00:28:24.720801Z",
     "start_time": "2025-09-10T00:28:24.652914Z"
    }
   },
   "cell_type": "code",
   "source": [
    "results_no_network, models_no_network = run_cross_validation(combined_baseline_2, new_y_baseline,\n",
    "                                                             use_network=False)\n",
    "print_cross_val_results(results_no_network)"
   ],
   "id": "95a96d2c0517935d",
   "outputs": [
    {
     "name": "stdout",
     "output_type": "stream",
     "text": [
      "Cross-validated Performance Metrics:\n",
      "Average Pearson's r: -0.058\n",
      "Partial eta squared: -0.029\n",
      "R²: -0.029\n"
     ]
    }
   ],
   "execution_count": 138
  },
  {
   "metadata": {
    "ExecuteTime": {
     "end_time": "2025-09-10T00:42:46.037473Z",
     "start_time": "2025-09-10T00:42:46.030296Z"
    }
   },
   "cell_type": "code",
   "source": [
    "def compute_network_statistics_2(correlation_matrix, community_sizes, network_order, mode=\"all\"):\n",
    "    \"\"\"\n",
    "    Compute network-level statistics for each network in the connectivity matrix.\n",
    "\n",
    "    Args:\n",
    "        correlation_matrix: Symmetric connectivity matrix reordered by network\n",
    "        community_sizes: List of sizes for each network\n",
    "        network_order: Ordered list of network identifiers\n",
    "        mode: Which statistics to compute (\"all\", \"strengths\", \"connectivity\", \"segregation\")\n",
    "\n",
    "    Returns:\n",
    "        DataFrame with network statistics for each network\n",
    "    \"\"\"\n",
    "    network_stats = []\n",
    "    cumulative_sizes = np.cumsum([0] + community_sizes)\n",
    "\n",
    "    # Precompute only if needed\n",
    "    if mode in [\"all\", \"strengths\"]:\n",
    "        positive_strengths = compute_positive_strength(correlation_matrix)\n",
    "        negative_strengths = compute_negative_strength(correlation_matrix)\n",
    "        total_strengths = positive_strengths + negative_strengths\n",
    "\n",
    "    for i, (network_id, size) in enumerate(zip(network_order, community_sizes)):\n",
    "        start_idx = cumulative_sizes[i]\n",
    "        end_idx = cumulative_sizes[i + 1]\n",
    "        network_indices = list(range(start_idx, end_idx))\n",
    "\n",
    "        stat_dict = {\"network_id\": network_id, \"size\": size}\n",
    "\n",
    "        # Strengths\n",
    "        if mode in [\"all\", \"strengths\"]:\n",
    "            stat_dict.update({\n",
    "                \"avg_positive_strength\": np.mean(positive_strengths[network_indices]),\n",
    "                \"avg_negative_strength\": np.mean(negative_strengths[network_indices]),\n",
    "                \"avg_total_strength\": np.mean(total_strengths[network_indices])\n",
    "            })\n",
    "\n",
    "        # Connectivity\n",
    "        if mode in [\"all\", \"connectivity\", \"segregation\"]:\n",
    "            network_matrix = correlation_matrix[np.ix_(network_indices, network_indices)]\n",
    "            within_positive = np.sum(network_matrix[network_matrix > 0])\n",
    "            within_negative = np.sum(np.abs(network_matrix[network_matrix < 0]))\n",
    "            within_connections = size * (size - 1) / 2\n",
    "\n",
    "            other_indices = [idx for idx in range(correlation_matrix.shape[0]) if idx not in network_indices]\n",
    "            between_matrix = correlation_matrix[np.ix_(network_indices, other_indices)]\n",
    "            between_positive = np.sum(between_matrix[between_matrix > 0])\n",
    "            between_negative = np.sum(np.abs(between_matrix[between_matrix < 0]))\n",
    "            between_connections = size * (correlation_matrix.shape[0] - size)\n",
    "\n",
    "            stat_dict.update({\n",
    "                \"within_positive_connectivity\": within_positive / within_connections if within_connections > 0 else 0,\n",
    "                \"within_negative_connectivity\": within_negative / within_connections if within_connections > 0 else 0,\n",
    "                \"between_positive_connectivity\": between_positive / between_connections if between_connections > 0 else 0,\n",
    "                \"between_negative_connectivity\": between_negative / between_connections if between_connections > 0 else 0\n",
    "            })\n",
    "\n",
    "            # Segregation only if needed\n",
    "            if mode in [\"all\", \"segregation\"]:\n",
    "                avg_within = within_positive / within_connections if within_connections > 0 else np.nan\n",
    "                avg_between = between_positive / between_connections if between_connections > 0 else np.nan\n",
    "\n",
    "                if not np.isnan(avg_within) and not np.isnan(avg_between):\n",
    "                    # Ratio-based segregation (your version)\n",
    "                    segregation_ratio = avg_within / avg_between if avg_between > 0 else np.nan\n",
    "                    # Difference-based segregation (literature version)\n",
    "                    segregation_diff = (avg_within - avg_between) / avg_within if avg_within > 0 else np.nan\n",
    "                else:\n",
    "                    segregation_ratio, segregation_diff = np.nan, np.nan\n",
    "\n",
    "                stat_dict[\"segregation_ratio\"] = segregation_ratio\n",
    "                stat_dict[\"segregation_diff\"] = segregation_diff\n",
    "\n",
    "        network_stats.append(stat_dict)\n",
    "\n",
    "    return pd.DataFrame(network_stats)"
   ],
   "id": "4c9d303811c9cc35",
   "outputs": [],
   "execution_count": 142
  },
  {
   "metadata": {
    "ExecuteTime": {
     "end_time": "2025-09-10T00:42:48.932181Z",
     "start_time": "2025-09-10T00:42:48.925987Z"
    }
   },
   "cell_type": "code",
   "source": [
    "def compute_one_statistic_2(df_features, df_network, community_sizes, net_order, mode, stat_name):\n",
    "    result = []\n",
    "    # Create subject-to-site mapping dictionary\n",
    "    subject_site_map = df_features.set_index('Subject')['site_id_l'].to_dict()\n",
    "\n",
    "    df_network['site_id_l'] = df_network['Subject'].map(subject_site_map)\n",
    "    #df_network.fillna(0, inplace=True)\n",
    "\n",
    "    for row in tqdm(df_network.itertuples(index=False), total=len(df_network)):\n",
    "        subj_id = row.Subject\n",
    "        site_id = row.site_id_l\n",
    "\n",
    "        # Reconstruct matrix from flattened vector\n",
    "        matrix_values = matrix_values = [v for k,v in row._asdict().items() if k not in (\"Subject\", \"site_id_l\")]\n",
    "        corr_matrix = vector_to_symmetric_matrix(matrix_values, 418)\n",
    "\n",
    "        # Compute stats\n",
    "        network_stats = compute_network_statistics_2(corr_matrix, community_sizes, net_order, mode=mode)\n",
    "\n",
    "        # Build one dictionary per subject\n",
    "        row_dict = {\"Subject\": subj_id, \"site_id_l\": site_id}\n",
    "        for _, stat_row in network_stats.iterrows():\n",
    "            net_id = stat_row[\"network_id\"]\n",
    "            if stat_name in stat_row:\n",
    "                row_dict[f\"{stat_name}[{net_id}]\"] = stat_row[stat_name]\n",
    "        result.append(row_dict)\n",
    "    return pd.DataFrame(result)"
   ],
   "id": "34b92c9c39387a97",
   "outputs": [],
   "execution_count": 143
  },
  {
   "metadata": {
    "ExecuteTime": {
     "end_time": "2025-09-10T00:46:11.599775Z",
     "start_time": "2025-09-10T00:44:59.065388Z"
    }
   },
   "cell_type": "code",
   "source": [
    "segregation_ratio_followup = compute_one_statistic_2(\n",
    "    df_features=features_1_aligned,\n",
    "    df_network=networks_aligned_followup_df,\n",
    "    community_sizes=community_sizes,\n",
    "    net_order=net_order,\n",
    "    mode=\"segregation\",\n",
    "    stat_name=\"segregation_ratio\"\n",
    ")"
   ],
   "id": "b6c0898251307289",
   "outputs": [
    {
     "name": "stderr",
     "output_type": "stream",
     "text": [
      "100%|██████████| 2478/2478 [01:08<00:00, 36.10it/s]\n"
     ]
    }
   ],
   "execution_count": 146
  },
  {
   "metadata": {
    "ExecuteTime": {
     "end_time": "2025-09-10T00:46:33.010152Z",
     "start_time": "2025-09-10T00:46:32.998837Z"
    }
   },
   "cell_type": "code",
   "source": "segregation_ratio_followup.head()",
   "id": "feba0b3c82d510c6",
   "outputs": [
    {
     "data": {
      "text/plain": [
       "           Subject site_id_l  segregation_ratio[1.0]  segregation_ratio[2.0]  \\\n",
       "0  NDARINV00CY2MDM    site20                2.377146                3.608000   \n",
       "1  NDARINV00U4FTRU    site04                2.679662                4.209667   \n",
       "2  NDARINV01AJ15N9    site16                2.714924                5.521429   \n",
       "3  NDARINV01EN91PG    site19                2.462500                4.567372   \n",
       "4  NDARINV01NAYMZH    site16                2.405506                4.924863   \n",
       "\n",
       "   segregation_ratio[3.0]  segregation_ratio[4.0]  segregation_ratio[5.0]  \\\n",
       "0                3.429073                3.769751                3.004767   \n",
       "1                3.305061                4.245677                3.167072   \n",
       "2                3.029452                4.102286                2.952932   \n",
       "3                3.770744                4.113343                2.572776   \n",
       "4                3.507637                4.253568                2.756554   \n",
       "\n",
       "   segregation_ratio[7.0]  segregation_ratio[8.0]  segregation_ratio[9.0]  \\\n",
       "0                2.203309                3.558529                4.392775   \n",
       "1                2.384166                4.702205               17.423184   \n",
       "2                2.042508                4.790092                7.055470   \n",
       "3                2.353984                3.957682                7.661305   \n",
       "4                2.217883                4.939120               10.412989   \n",
       "\n",
       "   segregation_ratio[10.0]  segregation_ratio[11.0]  segregation_ratio[12.0]  \\\n",
       "0                 3.270808                 3.092700                 2.789221   \n",
       "1                 3.741852                 3.089738                 3.812125   \n",
       "2                 3.477717                 2.853764                 3.190687   \n",
       "3                 3.329712                 2.430159                 3.415643   \n",
       "4                 3.231110                 2.866647                 3.543177   \n",
       "\n",
       "   segregation_ratio[13.0]  segregation_ratio[14.0]  segregation_ratio[15.0]  \\\n",
       "0                 2.709454                 2.618214                 4.452076   \n",
       "1                 2.425534                 3.319339                11.454687   \n",
       "2                 2.635544                 2.536393                 5.776752   \n",
       "3                 2.945402                 3.391205                 6.034700   \n",
       "4                 2.210996                 2.992603                 5.046030   \n",
       "\n",
       "   segregation_ratio[16.0]  \n",
       "0                 2.421374  \n",
       "1                 3.465319  \n",
       "2                 3.316870  \n",
       "3                 2.242120  \n",
       "4                 3.626323  "
      ],
      "text/html": [
       "<div>\n",
       "<style scoped>\n",
       "    .dataframe tbody tr th:only-of-type {\n",
       "        vertical-align: middle;\n",
       "    }\n",
       "\n",
       "    .dataframe tbody tr th {\n",
       "        vertical-align: top;\n",
       "    }\n",
       "\n",
       "    .dataframe thead th {\n",
       "        text-align: right;\n",
       "    }\n",
       "</style>\n",
       "<table border=\"1\" class=\"dataframe\">\n",
       "  <thead>\n",
       "    <tr style=\"text-align: right;\">\n",
       "      <th></th>\n",
       "      <th>Subject</th>\n",
       "      <th>site_id_l</th>\n",
       "      <th>segregation_ratio[1.0]</th>\n",
       "      <th>segregation_ratio[2.0]</th>\n",
       "      <th>segregation_ratio[3.0]</th>\n",
       "      <th>segregation_ratio[4.0]</th>\n",
       "      <th>segregation_ratio[5.0]</th>\n",
       "      <th>segregation_ratio[7.0]</th>\n",
       "      <th>segregation_ratio[8.0]</th>\n",
       "      <th>segregation_ratio[9.0]</th>\n",
       "      <th>segregation_ratio[10.0]</th>\n",
       "      <th>segregation_ratio[11.0]</th>\n",
       "      <th>segregation_ratio[12.0]</th>\n",
       "      <th>segregation_ratio[13.0]</th>\n",
       "      <th>segregation_ratio[14.0]</th>\n",
       "      <th>segregation_ratio[15.0]</th>\n",
       "      <th>segregation_ratio[16.0]</th>\n",
       "    </tr>\n",
       "  </thead>\n",
       "  <tbody>\n",
       "    <tr>\n",
       "      <th>0</th>\n",
       "      <td>NDARINV00CY2MDM</td>\n",
       "      <td>site20</td>\n",
       "      <td>2.377146</td>\n",
       "      <td>3.608000</td>\n",
       "      <td>3.429073</td>\n",
       "      <td>3.769751</td>\n",
       "      <td>3.004767</td>\n",
       "      <td>2.203309</td>\n",
       "      <td>3.558529</td>\n",
       "      <td>4.392775</td>\n",
       "      <td>3.270808</td>\n",
       "      <td>3.092700</td>\n",
       "      <td>2.789221</td>\n",
       "      <td>2.709454</td>\n",
       "      <td>2.618214</td>\n",
       "      <td>4.452076</td>\n",
       "      <td>2.421374</td>\n",
       "    </tr>\n",
       "    <tr>\n",
       "      <th>1</th>\n",
       "      <td>NDARINV00U4FTRU</td>\n",
       "      <td>site04</td>\n",
       "      <td>2.679662</td>\n",
       "      <td>4.209667</td>\n",
       "      <td>3.305061</td>\n",
       "      <td>4.245677</td>\n",
       "      <td>3.167072</td>\n",
       "      <td>2.384166</td>\n",
       "      <td>4.702205</td>\n",
       "      <td>17.423184</td>\n",
       "      <td>3.741852</td>\n",
       "      <td>3.089738</td>\n",
       "      <td>3.812125</td>\n",
       "      <td>2.425534</td>\n",
       "      <td>3.319339</td>\n",
       "      <td>11.454687</td>\n",
       "      <td>3.465319</td>\n",
       "    </tr>\n",
       "    <tr>\n",
       "      <th>2</th>\n",
       "      <td>NDARINV01AJ15N9</td>\n",
       "      <td>site16</td>\n",
       "      <td>2.714924</td>\n",
       "      <td>5.521429</td>\n",
       "      <td>3.029452</td>\n",
       "      <td>4.102286</td>\n",
       "      <td>2.952932</td>\n",
       "      <td>2.042508</td>\n",
       "      <td>4.790092</td>\n",
       "      <td>7.055470</td>\n",
       "      <td>3.477717</td>\n",
       "      <td>2.853764</td>\n",
       "      <td>3.190687</td>\n",
       "      <td>2.635544</td>\n",
       "      <td>2.536393</td>\n",
       "      <td>5.776752</td>\n",
       "      <td>3.316870</td>\n",
       "    </tr>\n",
       "    <tr>\n",
       "      <th>3</th>\n",
       "      <td>NDARINV01EN91PG</td>\n",
       "      <td>site19</td>\n",
       "      <td>2.462500</td>\n",
       "      <td>4.567372</td>\n",
       "      <td>3.770744</td>\n",
       "      <td>4.113343</td>\n",
       "      <td>2.572776</td>\n",
       "      <td>2.353984</td>\n",
       "      <td>3.957682</td>\n",
       "      <td>7.661305</td>\n",
       "      <td>3.329712</td>\n",
       "      <td>2.430159</td>\n",
       "      <td>3.415643</td>\n",
       "      <td>2.945402</td>\n",
       "      <td>3.391205</td>\n",
       "      <td>6.034700</td>\n",
       "      <td>2.242120</td>\n",
       "    </tr>\n",
       "    <tr>\n",
       "      <th>4</th>\n",
       "      <td>NDARINV01NAYMZH</td>\n",
       "      <td>site16</td>\n",
       "      <td>2.405506</td>\n",
       "      <td>4.924863</td>\n",
       "      <td>3.507637</td>\n",
       "      <td>4.253568</td>\n",
       "      <td>2.756554</td>\n",
       "      <td>2.217883</td>\n",
       "      <td>4.939120</td>\n",
       "      <td>10.412989</td>\n",
       "      <td>3.231110</td>\n",
       "      <td>2.866647</td>\n",
       "      <td>3.543177</td>\n",
       "      <td>2.210996</td>\n",
       "      <td>2.992603</td>\n",
       "      <td>5.046030</td>\n",
       "      <td>3.626323</td>\n",
       "    </tr>\n",
       "  </tbody>\n",
       "</table>\n",
       "</div>"
      ]
     },
     "execution_count": 147,
     "metadata": {},
     "output_type": "execute_result"
    }
   ],
   "execution_count": 147
  },
  {
   "metadata": {
    "ExecuteTime": {
     "end_time": "2025-09-10T00:47:44.774922Z",
     "start_time": "2025-09-10T00:47:44.670998Z"
    }
   },
   "cell_type": "code",
   "source": [
    "features_ses_segregation_ratio_followup = combine_data(combined_followup_2, segregation_ratio_followup)\n",
    "results_no_network, models_no_network = run_cross_validation(features_ses_segregation_ratio_followup, y_followup_2,\n",
    "                                                             use_network=False)\n",
    "print_cross_val_results(results_no_network)"
   ],
   "id": "b49243799b5d9d0",
   "outputs": [
    {
     "name": "stdout",
     "output_type": "stream",
     "text": [
      "Cross-validated Performance Metrics:\n",
      "Average Pearson's r: 0.443\n",
      "Partial eta squared: 0.162\n",
      "R²: 0.162\n"
     ]
    }
   ],
   "execution_count": 148
  },
  {
   "metadata": {},
   "cell_type": "code",
   "outputs": [],
   "execution_count": null,
   "source": "",
   "id": "d0ef575fd79baf55"
  }
 ],
 "metadata": {
  "kernelspec": {
   "display_name": "Python 3",
   "language": "python",
   "name": "python3"
  },
  "language_info": {
   "codemirror_mode": {
    "name": "ipython",
    "version": 2
   },
   "file_extension": ".py",
   "mimetype": "text/x-python",
   "name": "python",
   "nbconvert_exporter": "python",
   "pygments_lexer": "ipython2",
   "version": "2.7.6"
  }
 },
 "nbformat": 4,
 "nbformat_minor": 5
}
