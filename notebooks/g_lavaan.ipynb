{
 "cells": [
  {
   "metadata": {
    "ExecuteTime": {
     "end_time": "2025-09-22T15:26:34.186804Z",
     "start_time": "2025-09-22T15:26:33.762407Z"
    }
   },
   "cell_type": "code",
   "source": [
    "import pandas as pd\n",
    "import numpy as np\n",
    "from pathlib import Path"
   ],
   "id": "50419e18549085d3",
   "outputs": [],
   "execution_count": 1
  },
  {
   "metadata": {},
   "cell_type": "markdown",
   "source": [
    "# Methodological replication of the \"Brain-wide functional connectivity patterns support general cognitive ability and mediate effects of socioeconomic status in youth\"\n",
    "https://pmc.ncbi.nlm.nih.gov/articles/PMC8575890/"
   ],
   "id": "17313f26c820a948"
  },
  {
   "metadata": {},
   "cell_type": "markdown",
   "source": [
    "Can not find this exact release data version, so the full replication of the study is not possible. We can move on to the methodological replication. We will test the generalizability of the method across data versions and cohorts.\n",
    "The original study used ABCD Release 2.0.1. Our analysis uses most recent release due to availability. Notable differences between these releases include initial number of subjects and the number of cohorts. Therefore, a direct replication is not possible."
   ],
   "id": "29218c4ad0c7ca32"
  },
  {
   "metadata": {},
   "cell_type": "markdown",
   "source": [
    "## Question 1:\n",
    "When we apply the authors' exact method to a different iteration of the ABCD dataset, do we get a similar result?"
   ],
   "id": "23e90f45fa6123af"
  },
  {
   "metadata": {},
   "cell_type": "markdown",
   "source": [
    "### Data Source and Sample:\n",
    "\n",
    "* Original Paper's Data: ABCD Release 2.0.1\n",
    "* New Sample Size: 13274 (total number of observations), 11535 (with g_score), 7674 (baseline cohort), 5600 (followup cohort)"
   ],
   "id": "6db820b67dc74312"
  },
  {
   "metadata": {
    "ExecuteTime": {
     "end_time": "2025-09-22T15:26:42.367291Z",
     "start_time": "2025-09-22T15:26:39.802804Z"
    }
   },
   "cell_type": "code",
   "source": [
    "# Define paths\n",
    "version_B_dir = Path(\"data/processed/version_B\")\n",
    "\n",
    "# Load features\n",
    "features_B_baseline = pd.read_csv(version_B_dir / \"features_baseline.csv\")\n",
    "features_B_followup = pd.read_csv(version_B_dir / \"features_followup.csv\")\n",
    "\n",
    "# Load connectomes\n",
    "conn_B_baseline = np.load(version_B_dir / \"connectomes_baseline.npy\")\n",
    "conn_B_followup = np.load(version_B_dir / \"connectomes_followup.npy\")\n",
    "\n",
    "# Load subjects (separate for baseline/followup)\n",
    "subs_B_baseline = pd.read_csv(version_B_dir / \"subjects_baseline.csv\")[\"Subject\"].tolist()\n",
    "subs_B_followup = pd.read_csv(version_B_dir / \"subjects_followup.csv\")[\"Subject\"].tolist()\n",
    "\n",
    "print(\"Version B\")\n",
    "print(\"Baseline features:\", features_B_baseline.shape)\n",
    "print(\"Followup features:\", features_B_followup.shape)\n",
    "print(\"Baseline connectomes:\", conn_B_baseline.shape)\n",
    "print(\"Followup connectomes:\", conn_B_followup.shape)\n",
    "print(\"Baseline subjects:\", len(subs_B_baseline))\n",
    "print(\"Followup subjects:\", len(subs_B_followup))\n"
   ],
   "id": "308698ffc957b331",
   "outputs": [
    {
     "name": "stdout",
     "output_type": "stream",
     "text": [
      "Version B\n",
      "Baseline features: (4321, 13)\n",
      "Followup features: (2432, 13)\n",
      "Baseline connectomes: (4321, 87153)\n",
      "Followup connectomes: (2432, 87153)\n",
      "Baseline subjects: 4321\n",
      "Followup subjects: 2432\n"
     ]
    }
   ],
   "execution_count": 2
  },
  {
   "metadata": {},
   "cell_type": "markdown",
   "source": [
    "#### Demographic characteristics of subjects included in neuroimaging analysis (baseline cohort):\n",
    "* Age (mean (s.d.))       $~~~~~~~~~     9.98~(0.62)$\n",
    "* Female (%) $~~~~~~~~~~~~~~~~~~ 2217~(51.3)$\n",
    "* Race ethnicity (%):\n",
    "* White $~~~~~~~~~~~~~~~~~~~~~~~~~~ 3071~(71.1)$\n",
    "* Black $~~~~~~~~~~~~~~~~~~~~~~~~~~~ 529~(12.2)$\n",
    "* Asian $~~~~~~~~~~~~~~~~~~~~~~~~~~~ 90~(2.1)$\n",
    "* Other/Mixed $~~~~~~~~~~~~~~~~~ 631~(14.6)$\n",
    "* Hispanic (%):\n",
    "* No $~~~~~~~~~~~~~~~~~~~~~~~~~~~~~~ 3591~(83.1)$\n",
    "* Yes $~~~~~~~~~~~~~~~~~~~~~~~~~~~~~ 730~(16.9)$\n",
    "* Household income(%):\n",
    "* $< 50k ~~~~~~~~~~~~~~~~~~~~~~~~~~~~ 1158 ~(26.8)$\n",
    "* $ \\geq 50k < 100k ~~~~~~~~~~~~~~~ 1244 ~(28.8)$\n",
    "* $ \\geq 100k ~~~~~~~~~~~~~~~~~~~~~~~~~~ 1919 ~(44.4)$"
   ],
   "id": "41195f6f0101d654"
  },
  {
   "metadata": {},
   "cell_type": "markdown",
   "source": [
    "#### Demographic characteristics of subjects included in neuroimaging analysis (followup cohort):\n",
    "* Age (mean (s.d.))       $~~~~~~~~~     11.92~(0.65)$\n",
    "* Female (%) $~~~~~~~~~~~~~~~~~~ 1357~(49.2)$\n",
    "* Race ethnicity (%):\n",
    "* White $~~~~~~~~~~~~~~~~~~~~~~~~~~ 1923~(69.78)$\n",
    "* Black $~~~~~~~~~~~~~~~~~~~~~~~~~~~ 310~(11.25)$\n",
    "* Asian $~~~~~~~~~~~~~~~~~~~~~~~~~~~ 63~(2.29)$\n",
    "* Other/Mixed $~~~~~~~~~~~~~~~~~ 460~(16.7)$\n",
    "* Hispanic (%):\n",
    "* No $~~~~~~~~~~~~~~~~~~~~~~~~~~~~~~ 2234~(81.1)$\n",
    "* Yes $~~~~~~~~~~~~~~~~~~~~~~~~~~~~~ 522~(18.9)$\n",
    "* Household income(%):\n",
    "* $< 50k ~~~~~~~~~~~~~~~~~~~~~~~~~~~~ 696 ~(25.2)$\n",
    "* $ \\geq 50k < 100k ~~~~~~~~~~~~~~~ 790 ~(28.7)$\n",
    "* $ \\geq 100k ~~~~~~~~~~~~~~~~~~~~~~~~~~ 1270 ~(46.1)$"
   ],
   "id": "5c7127a4d5021fc5"
  },
  {
   "metadata": {
    "ExecuteTime": {
     "end_time": "2025-09-23T22:58:55.027885Z",
     "start_time": "2025-09-23T22:58:55.025249Z"
    }
   },
   "cell_type": "code",
   "source": "#features_B_baseline.head()",
   "id": "153329f2a47d651d",
   "outputs": [],
   "execution_count": 1
  },
  {
   "metadata": {},
   "cell_type": "markdown",
   "source": "### Prepare features we want to include in a model without network information",
   "id": "2fae7892f3dcf53b"
  },
  {
   "metadata": {
    "ExecuteTime": {
     "end_time": "2025-09-22T15:26:49.563012Z",
     "start_time": "2025-09-22T15:26:49.557094Z"
    }
   },
   "cell_type": "code",
   "source": "from src.features.extraction import extract_article_features, extract_ses_features, combine_data",
   "id": "edef5bc0a53d4805",
   "outputs": [],
   "execution_count": 3
  },
  {
   "metadata": {
    "ExecuteTime": {
     "end_time": "2025-09-22T15:26:51.265785Z",
     "start_time": "2025-09-22T15:26:51.243486Z"
    }
   },
   "cell_type": "code",
   "source": [
    "X_baseline_B, y_baseline_B = extract_article_features(features_B_baseline)\n",
    "X_followup_B, y_followup_B = extract_article_features(features_B_followup)\n",
    "\n",
    "print(X_baseline_B.shape, y_baseline_B.shape)\n",
    "print(X_followup_B.shape, y_followup_B.shape)\n"
   ],
   "id": "5c35b6eb0bb37429",
   "outputs": [
    {
     "name": "stdout",
     "output_type": "stream",
     "text": [
      "(4321, 9) (4321,)\n",
      "(2432, 9) (2432,)\n"
     ]
    }
   ],
   "execution_count": 4
  },
  {
   "metadata": {
    "ExecuteTime": {
     "end_time": "2025-09-22T15:26:58.840391Z",
     "start_time": "2025-09-22T15:26:58.816194Z"
    }
   },
   "cell_type": "code",
   "source": [
    "# Convert NumPy array to DataFrame with placeholder column names\n",
    "conn_B_baseline_df = pd.DataFrame(\n",
    "    conn_B_baseline,\n",
    "    columns=[f\"conn_{i}\" for i in range(conn_B_baseline.shape[1])]\n",
    ")\n",
    "\n",
    "# Add Subject column\n",
    "conn_B_baseline_df.insert(0, \"Subject\", subs_B_baseline)"
   ],
   "id": "459ef89c434f264",
   "outputs": [],
   "execution_count": 5
  },
  {
   "metadata": {
    "ExecuteTime": {
     "end_time": "2025-09-22T15:27:00.978878Z",
     "start_time": "2025-09-22T15:27:00.954413Z"
    }
   },
   "cell_type": "code",
   "source": [
    "conn_B_followup_df = pd.DataFrame(\n",
    "    conn_B_followup,\n",
    "    columns=[f\"conn_{i}\" for i in range(conn_B_followup.shape[1])]\n",
    ")\n",
    "\n",
    "# Add Subject column\n",
    "conn_B_followup_df.insert(0, \"Subject\", subs_B_followup)"
   ],
   "id": "4f4862a6a31c3b44",
   "outputs": [],
   "execution_count": 6
  },
  {
   "metadata": {
    "ExecuteTime": {
     "end_time": "2025-09-22T15:27:03.691886Z",
     "start_time": "2025-09-22T15:27:02.711821Z"
    }
   },
   "cell_type": "code",
   "source": "from src.evaluation.cross_validation import run_cross_validation, print_cross_val_results",
   "id": "1d3ec79f6946dbc1",
   "outputs": [],
   "execution_count": 7
  },
  {
   "metadata": {
    "ExecuteTime": {
     "end_time": "2025-09-21T00:16:01.419471Z",
     "start_time": "2025-09-21T00:16:01.328616Z"
    }
   },
   "cell_type": "code",
   "source": "results_no_network, models_no_network = run_cross_validation(X_baseline_B, y_baseline_B, use_network=False)",
   "id": "1c3bdf00aa0ed759",
   "outputs": [
    {
     "name": "stderr",
     "output_type": "stream",
     "text": [
      "Cross-validation progress: 100%|██████████| 20/20 [00:00<00:00, 271.95it/s]"
     ]
    },
    {
     "name": "stdout",
     "output_type": "stream",
     "text": [
      "\n",
      "Site: site02 | Pearson r = 0.401 (p=0.000) | Partial η² = 0.097\n",
      "\n",
      "Site: site03 | Pearson r = 0.345 (p=0.000) | Partial η² = 0.068\n",
      "\n",
      "Site: site04 | Pearson r = 0.337 (p=0.000) | Partial η² = 0.100\n",
      "\n",
      "Site: site05 | Pearson r = 0.498 (p=0.000) | Partial η² = 0.237\n",
      "\n",
      "Site: site06 | Pearson r = 0.317 (p=0.000) | Partial η² = 0.051\n",
      "\n",
      "Site: site07 | Pearson r = 0.443 (p=0.000) | Partial η² = 0.188\n",
      "\n",
      "Site: site08 | Pearson r = 0.314 (p=0.000) | Partial η² = -0.351\n",
      "\n",
      "Site: site09 | Pearson r = 0.439 (p=0.000) | Partial η² = -0.024\n",
      "\n",
      "Site: site10 | Pearson r = 0.393 (p=0.000) | Partial η² = 0.151\n",
      "\n",
      "Site: site11 | Pearson r = 0.483 (p=0.000) | Partial η² = 0.164\n",
      "\n",
      "Site: site12 | Pearson r = 0.258 (p=0.024) | Partial η² = -0.118\n",
      "\n",
      "Site: site13 | Pearson r = 0.414 (p=0.000) | Partial η² = 0.168\n",
      "\n",
      "Site: site14 | Pearson r = 0.398 (p=0.000) | Partial η² = 0.151\n",
      "\n",
      "Site: site15 | Pearson r = 0.507 (p=0.000) | Partial η² = 0.166\n",
      "\n",
      "Site: site16 | Pearson r = 0.441 (p=0.000) | Partial η² = 0.194\n",
      "\n",
      "Site: site17 | Pearson r = 0.340 (p=0.000) | Partial η² = 0.014\n",
      "\n",
      "Site: site18 | Pearson r = 0.296 (p=0.001) | Partial η² = 0.025\n",
      "\n",
      "Site: site19 | Pearson r = 0.444 (p=0.000) | Partial η² = 0.180\n",
      "\n",
      "Site: site20 | Pearson r = 0.491 (p=0.000) | Partial η² = 0.146\n",
      "\n",
      "Site: site21 | Pearson r = 0.517 (p=0.000) | Partial η² = 0.231\n"
     ]
    },
    {
     "name": "stderr",
     "output_type": "stream",
     "text": [
      "\n"
     ]
    }
   ],
   "execution_count": 10
  },
  {
   "metadata": {
    "ExecuteTime": {
     "end_time": "2025-09-21T00:16:06.526764Z",
     "start_time": "2025-09-21T00:16:06.520962Z"
    }
   },
   "cell_type": "code",
   "source": "print_cross_val_results(results_no_network)",
   "id": "db1cdb46424b5d74",
   "outputs": [
    {
     "name": "stdout",
     "output_type": "stream",
     "text": [
      "Cross-validated Performance Metrics:\n",
      "Average Pearson's r: 0.404\n",
      "Partial eta squared: 0.092\n",
      "R²: 0.092\n"
     ]
    }
   ],
   "execution_count": 11
  },
  {
   "metadata": {
    "ExecuteTime": {
     "end_time": "2025-09-21T00:25:30.780187Z",
     "start_time": "2025-09-21T00:16:09.675490Z"
    }
   },
   "cell_type": "code",
   "source": "results_network, models_network = run_cross_validation(X_baseline_B, y_baseline_B, use_network=True, X_network=conn_B_baseline_df, num_pc=100)",
   "id": "1ded3f8cbf459951",
   "outputs": [
    {
     "name": "stderr",
     "output_type": "stream",
     "text": [
      "Cross-validation progress:   5%|▌         | 1/20 [00:49<15:32, 49.09s/it]"
     ]
    },
    {
     "name": "stdout",
     "output_type": "stream",
     "text": [
      "\n",
      "Site: site02 | Pearson r = 0.410 (p=0.000) | Partial η² = 0.126\n"
     ]
    },
    {
     "name": "stderr",
     "output_type": "stream",
     "text": [
      "Cross-validation progress:  10%|█         | 2/20 [01:32<13:40, 45.60s/it]"
     ]
    },
    {
     "name": "stdout",
     "output_type": "stream",
     "text": [
      "\n",
      "Site: site03 | Pearson r = 0.465 (p=0.000) | Partial η² = 0.211\n"
     ]
    },
    {
     "name": "stderr",
     "output_type": "stream",
     "text": [
      "Cross-validation progress:  15%|█▌        | 3/20 [02:11<12:03, 42.58s/it]"
     ]
    },
    {
     "name": "stdout",
     "output_type": "stream",
     "text": [
      "\n",
      "Site: site04 | Pearson r = 0.418 (p=0.000) | Partial η² = 0.161\n"
     ]
    },
    {
     "name": "stderr",
     "output_type": "stream",
     "text": [
      "Cross-validation progress:  20%|██        | 4/20 [02:45<10:31, 39.47s/it]"
     ]
    },
    {
     "name": "stdout",
     "output_type": "stream",
     "text": [
      "\n",
      "Site: site05 | Pearson r = 0.550 (p=0.000) | Partial η² = 0.298\n"
     ]
    },
    {
     "name": "stderr",
     "output_type": "stream",
     "text": [
      "Cross-validation progress:  25%|██▌       | 5/20 [03:17<09:08, 36.54s/it]"
     ]
    },
    {
     "name": "stdout",
     "output_type": "stream",
     "text": [
      "\n",
      "Site: site06 | Pearson r = 0.419 (p=0.000) | Partial η² = 0.168\n"
     ]
    },
    {
     "name": "stderr",
     "output_type": "stream",
     "text": [
      "Cross-validation progress:  30%|███       | 6/20 [03:44<07:45, 33.24s/it]"
     ]
    },
    {
     "name": "stdout",
     "output_type": "stream",
     "text": [
      "\n",
      "Site: site07 | Pearson r = 0.564 (p=0.000) | Partial η² = 0.306\n"
     ]
    },
    {
     "name": "stderr",
     "output_type": "stream",
     "text": [
      "Cross-validation progress:  35%|███▌      | 7/20 [04:09<06:37, 30.56s/it]"
     ]
    },
    {
     "name": "stdout",
     "output_type": "stream",
     "text": [
      "\n",
      "Site: site08 | Pearson r = 0.398 (p=0.000) | Partial η² = -0.049\n"
     ]
    },
    {
     "name": "stderr",
     "output_type": "stream",
     "text": [
      "Cross-validation progress:  40%|████      | 8/20 [04:34<05:46, 28.87s/it]"
     ]
    },
    {
     "name": "stdout",
     "output_type": "stream",
     "text": [
      "\n",
      "Site: site09 | Pearson r = 0.539 (p=0.000) | Partial η² = 0.183\n"
     ]
    },
    {
     "name": "stderr",
     "output_type": "stream",
     "text": [
      "Cross-validation progress:  45%|████▌     | 9/20 [04:58<04:59, 27.23s/it]"
     ]
    },
    {
     "name": "stdout",
     "output_type": "stream",
     "text": [
      "\n",
      "Site: site10 | Pearson r = 0.398 (p=0.000) | Partial η² = 0.144\n"
     ]
    },
    {
     "name": "stderr",
     "output_type": "stream",
     "text": [
      "Cross-validation progress:  50%|█████     | 10/20 [05:21<04:19, 25.92s/it]"
     ]
    },
    {
     "name": "stdout",
     "output_type": "stream",
     "text": [
      "\n",
      "Site: site11 | Pearson r = 0.535 (p=0.000) | Partial η² = 0.259\n"
     ]
    },
    {
     "name": "stderr",
     "output_type": "stream",
     "text": [
      "Cross-validation progress:  55%|█████▌    | 11/20 [05:43<03:44, 24.94s/it]"
     ]
    },
    {
     "name": "stdout",
     "output_type": "stream",
     "text": [
      "\n",
      "Site: site12 | Pearson r = 0.372 (p=0.001) | Partial η² = -0.044\n"
     ]
    },
    {
     "name": "stderr",
     "output_type": "stream",
     "text": [
      "Cross-validation progress:  60%|██████    | 12/20 [06:08<03:19, 24.89s/it]"
     ]
    },
    {
     "name": "stdout",
     "output_type": "stream",
     "text": [
      "\n",
      "Site: site13 | Pearson r = 0.482 (p=0.000) | Partial η² = 0.230\n"
     ]
    },
    {
     "name": "stderr",
     "output_type": "stream",
     "text": [
      "Cross-validation progress:  65%|██████▌   | 13/20 [06:33<02:54, 24.99s/it]"
     ]
    },
    {
     "name": "stdout",
     "output_type": "stream",
     "text": [
      "\n",
      "Site: site14 | Pearson r = 0.522 (p=0.000) | Partial η² = 0.272\n"
     ]
    },
    {
     "name": "stderr",
     "output_type": "stream",
     "text": [
      "Cross-validation progress:  70%|███████   | 14/20 [06:59<02:32, 25.37s/it]"
     ]
    },
    {
     "name": "stdout",
     "output_type": "stream",
     "text": [
      "\n",
      "Site: site15 | Pearson r = 0.595 (p=0.000) | Partial η² = 0.327\n"
     ]
    },
    {
     "name": "stderr",
     "output_type": "stream",
     "text": [
      "Cross-validation progress:  75%|███████▌  | 15/20 [07:22<02:02, 24.56s/it]"
     ]
    },
    {
     "name": "stdout",
     "output_type": "stream",
     "text": [
      "\n",
      "Site: site16 | Pearson r = 0.500 (p=0.000) | Partial η² = 0.247\n"
     ]
    },
    {
     "name": "stderr",
     "output_type": "stream",
     "text": [
      "Cross-validation progress:  80%|████████  | 16/20 [07:45<01:35, 23.99s/it]"
     ]
    },
    {
     "name": "stdout",
     "output_type": "stream",
     "text": [
      "\n",
      "Site: site17 | Pearson r = 0.332 (p=0.000) | Partial η² = -0.007\n"
     ]
    },
    {
     "name": "stderr",
     "output_type": "stream",
     "text": [
      "Cross-validation progress:  85%|████████▌ | 17/20 [08:09<01:11, 23.96s/it]"
     ]
    },
    {
     "name": "stdout",
     "output_type": "stream",
     "text": [
      "\n",
      "Site: site18 | Pearson r = 0.366 (p=0.000) | Partial η² = 0.107\n"
     ]
    },
    {
     "name": "stderr",
     "output_type": "stream",
     "text": [
      "Cross-validation progress:  90%|█████████ | 18/20 [08:31<00:47, 23.60s/it]"
     ]
    },
    {
     "name": "stdout",
     "output_type": "stream",
     "text": [
      "\n",
      "Site: site19 | Pearson r = 0.513 (p=0.000) | Partial η² = 0.242\n"
     ]
    },
    {
     "name": "stderr",
     "output_type": "stream",
     "text": [
      "Cross-validation progress:  95%|█████████▌| 19/20 [08:55<00:23, 23.66s/it]"
     ]
    },
    {
     "name": "stdout",
     "output_type": "stream",
     "text": [
      "\n",
      "Site: site20 | Pearson r = 0.534 (p=0.000) | Partial η² = 0.229\n"
     ]
    },
    {
     "name": "stderr",
     "output_type": "stream",
     "text": [
      "Cross-validation progress: 100%|██████████| 20/20 [09:20<00:00, 28.04s/it]"
     ]
    },
    {
     "name": "stdout",
     "output_type": "stream",
     "text": [
      "\n",
      "Site: site21 | Pearson r = 0.554 (p=0.000) | Partial η² = 0.290\n"
     ]
    },
    {
     "name": "stderr",
     "output_type": "stream",
     "text": [
      "\n"
     ]
    }
   ],
   "execution_count": 12
  },
  {
   "metadata": {
    "ExecuteTime": {
     "end_time": "2025-09-21T00:25:31.047883Z",
     "start_time": "2025-09-21T00:25:31.042624Z"
    }
   },
   "cell_type": "code",
   "source": "print_cross_val_results(results_network)",
   "id": "b9d78600734ab2e2",
   "outputs": [
    {
     "name": "stdout",
     "output_type": "stream",
     "text": [
      "Cross-validated Performance Metrics:\n",
      "Average Pearson's r: 0.473\n",
      "Partial eta squared: 0.185\n",
      "R²: 0.185\n"
     ]
    }
   ],
   "execution_count": 13
  },
  {
   "metadata": {},
   "cell_type": "code",
   "outputs": [],
   "execution_count": null,
   "source": [
    "results_no_network, models_no_network = run_cross_validation(X_followup_B, y_followup_B, use_network=False)\n",
    "print_cross_val_results(results_no_network)"
   ],
   "id": "39b8502334abe830"
  },
  {
   "metadata": {},
   "cell_type": "code",
   "outputs": [],
   "execution_count": null,
   "source": "results_network, models_network = run_cross_validation(X_followup_B, y_followup_B, use_network=True, X_network=conn_B_followup_df, num_pc=100)",
   "id": "4f78fe9843ab985c"
  },
  {
   "metadata": {},
   "cell_type": "code",
   "outputs": [],
   "execution_count": null,
   "source": "print_cross_val_results(results_network)",
   "id": "3a0174afcfae6085"
  },
  {
   "metadata": {},
   "cell_type": "markdown",
   "source": [
    "### Summary table:\n",
    "| Description                    | Pearson's correlation | Partial $\\eta^2$ | Coefficient of Determination |\n",
    "|--------------------------------|-----------------------|------------------|------------------------------|\n",
    "| Baseline: Basic features + PCs | 0.473                 | 0.185            | 0.185                        |\n",
    "| Baseline: Basic features  only | 0.404                 | 0.092            | 0.092                        |\n",
    "| Followup: Basic features + PCs | 0.457                 | 0.152            | 0.152                        |\n",
    "| Followup: Basic features only  | 0.325                 | 0.024            | 0.024                        |\n",
    "\n",
    "\n",
    "\n"
   ],
   "id": "8417b8b650e36ddf"
  },
  {
   "metadata": {},
   "cell_type": "markdown",
   "source": "The original finding is robust. We worked with the different data but results on the baseline data are almost identical tho the article claim. For the followup data results are not so good, but still we observe an impovement when comparing to observations only model.  Thus, he brain-cognition relationship captured by the model generalizes across similar cohorts.",
   "id": "3c3df1e9cd9c8721"
  },
  {
   "metadata": {},
   "cell_type": "markdown",
   "source": [
    "## Answer 1:\n",
    "Yes, we do get the similar results for the baseline cohort. Moreover, results for followup data also show significant improvement when adding PCs to observations only model."
   ],
   "id": "a6db78e12e6e4022"
  },
  {
   "metadata": {},
   "cell_type": "markdown",
   "source": "## Question 2: What is the effect of SES features?",
   "id": "ff0b5f28999e4f1c"
  },
  {
   "metadata": {
    "ExecuteTime": {
     "end_time": "2025-09-21T18:49:26.545876Z",
     "start_time": "2025-09-21T18:49:26.540069Z"
    }
   },
   "cell_type": "code",
   "source": [
    "ses_baseline_B = extract_ses_features(features_B_baseline)\n",
    "ses_followup_B = extract_ses_features(features_B_followup)"
   ],
   "id": "529360779deea78f",
   "outputs": [],
   "execution_count": 9
  },
  {
   "metadata": {
    "ExecuteTime": {
     "end_time": "2025-09-21T18:49:27.895676Z",
     "start_time": "2025-09-21T18:49:27.890706Z"
    }
   },
   "cell_type": "code",
   "source": [
    "main_baseline_B =combine_data(ses_baseline_B, X_baseline_B)\n",
    "main_followup_B = combine_data(ses_followup_B, X_followup_B)"
   ],
   "id": "9890c5fd3e69bf5c",
   "outputs": [
    {
     "name": "stdout",
     "output_type": "stream",
     "text": [
      "Dropping duplicate columns: ['site_id_l', 'Subject']\n",
      "Dropping duplicate columns: ['site_id_l', 'Subject']\n"
     ]
    }
   ],
   "execution_count": 10
  },
  {
   "metadata": {
    "ExecuteTime": {
     "end_time": "2025-09-21T00:39:38.176706Z",
     "start_time": "2025-09-21T00:39:38.113742Z"
    }
   },
   "cell_type": "code",
   "source": [
    "results_no_network, models_no_network = run_cross_validation(main_baseline_B, y_baseline_B, use_network=False)\n",
    "print_cross_val_results(results_no_network)"
   ],
   "id": "31115eaf4c3ac6a9",
   "outputs": [
    {
     "name": "stderr",
     "output_type": "stream",
     "text": [
      "Cross-validation progress: 100%|██████████| 20/20 [00:00<00:00, 350.83it/s]"
     ]
    },
    {
     "name": "stdout",
     "output_type": "stream",
     "text": [
      "\n",
      "Site: site02 | Pearson r = 0.460 (p=0.000) | Partial η² = 0.102\n",
      "\n",
      "Site: site03 | Pearson r = 0.423 (p=0.000) | Partial η² = 0.150\n",
      "\n",
      "Site: site04 | Pearson r = 0.501 (p=0.000) | Partial η² = 0.250\n",
      "\n",
      "Site: site05 | Pearson r = 0.584 (p=0.000) | Partial η² = 0.337\n",
      "\n",
      "Site: site06 | Pearson r = 0.458 (p=0.000) | Partial η² = 0.194\n",
      "\n",
      "Site: site07 | Pearson r = 0.650 (p=0.000) | Partial η² = 0.393\n",
      "\n",
      "Site: site08 | Pearson r = 0.470 (p=0.000) | Partial η² = 0.080\n",
      "\n",
      "Site: site09 | Pearson r = 0.449 (p=0.000) | Partial η² = 0.091\n",
      "\n",
      "Site: site10 | Pearson r = 0.461 (p=0.000) | Partial η² = 0.206\n",
      "\n",
      "Site: site11 | Pearson r = 0.575 (p=0.000) | Partial η² = 0.300\n",
      "\n",
      "Site: site12 | Pearson r = 0.415 (p=0.000) | Partial η² = 0.100\n",
      "\n",
      "Site: site13 | Pearson r = 0.567 (p=0.000) | Partial η² = 0.316\n",
      "\n",
      "Site: site14 | Pearson r = 0.489 (p=0.000) | Partial η² = 0.234\n",
      "\n",
      "Site: site15 | Pearson r = 0.625 (p=0.000) | Partial η² = 0.378\n",
      "\n",
      "Site: site16 | Pearson r = 0.509 (p=0.000) | Partial η² = 0.253\n",
      "\n",
      "Site: site17 | Pearson r = 0.403 (p=0.000) | Partial η² = 0.140\n",
      "\n",
      "Site: site18 | Pearson r = 0.413 (p=0.000) | Partial η² = 0.152\n",
      "\n",
      "Site: site19 | Pearson r = 0.564 (p=0.000) | Partial η² = 0.305\n",
      "\n",
      "Site: site20 | Pearson r = 0.462 (p=0.000) | Partial η² = 0.173\n",
      "\n",
      "Site: site21 | Pearson r = 0.564 (p=0.000) | Partial η² = 0.301\n",
      "Cross-validated Performance Metrics:\n",
      "Average Pearson's r: 0.502\n",
      "Partial eta squared: 0.223\n",
      "R²: 0.223\n"
     ]
    },
    {
     "name": "stderr",
     "output_type": "stream",
     "text": [
      "\n"
     ]
    }
   ],
   "execution_count": 27
  },
  {
   "metadata": {
    "ExecuteTime": {
     "end_time": "2025-09-21T00:47:52.971301Z",
     "start_time": "2025-09-21T00:40:22.727702Z"
    }
   },
   "cell_type": "code",
   "source": [
    "results_network, models_network = run_cross_validation(main_baseline_B, y_baseline_B, use_network=True,\n",
    "                                                       X_network=conn_B_baseline_df, num_pc=100)\n",
    "print_cross_val_results(results_network)"
   ],
   "id": "7f9af206bcf87ce2",
   "outputs": [
    {
     "name": "stderr",
     "output_type": "stream",
     "text": [
      "Cross-validation progress:   5%|▌         | 1/20 [00:39<12:33, 39.64s/it]"
     ]
    },
    {
     "name": "stdout",
     "output_type": "stream",
     "text": [
      "\n",
      "Site: site02 | Pearson r = 0.462 (p=0.000) | Partial η² = 0.156\n"
     ]
    },
    {
     "name": "stderr",
     "output_type": "stream",
     "text": [
      "Cross-validation progress:  10%|█         | 2/20 [01:04<09:18, 31.01s/it]"
     ]
    },
    {
     "name": "stdout",
     "output_type": "stream",
     "text": [
      "\n",
      "Site: site03 | Pearson r = 0.490 (p=0.000) | Partial η² = 0.233\n"
     ]
    },
    {
     "name": "stderr",
     "output_type": "stream",
     "text": [
      "Cross-validation progress:  15%|█▌        | 3/20 [01:25<07:31, 26.57s/it]"
     ]
    },
    {
     "name": "stdout",
     "output_type": "stream",
     "text": [
      "\n",
      "Site: site04 | Pearson r = 0.529 (p=0.000) | Partial η² = 0.277\n"
     ]
    },
    {
     "name": "stderr",
     "output_type": "stream",
     "text": [
      "Cross-validation progress:  20%|██        | 4/20 [01:46<06:28, 24.26s/it]"
     ]
    },
    {
     "name": "stdout",
     "output_type": "stream",
     "text": [
      "\n",
      "Site: site05 | Pearson r = 0.605 (p=0.000) | Partial η² = 0.364\n"
     ]
    },
    {
     "name": "stderr",
     "output_type": "stream",
     "text": [
      "Cross-validation progress:  25%|██▌       | 5/20 [02:07<05:44, 22.94s/it]"
     ]
    },
    {
     "name": "stdout",
     "output_type": "stream",
     "text": [
      "\n",
      "Site: site06 | Pearson r = 0.496 (p=0.000) | Partial η² = 0.244\n"
     ]
    },
    {
     "name": "stderr",
     "output_type": "stream",
     "text": [
      "Cross-validation progress:  30%|███       | 6/20 [02:28<05:13, 22.40s/it]"
     ]
    },
    {
     "name": "stdout",
     "output_type": "stream",
     "text": [
      "\n",
      "Site: site07 | Pearson r = 0.676 (p=0.000) | Partial η² = 0.435\n"
     ]
    },
    {
     "name": "stderr",
     "output_type": "stream",
     "text": [
      "Cross-validation progress:  35%|███▌      | 7/20 [02:49<04:44, 21.88s/it]"
     ]
    },
    {
     "name": "stdout",
     "output_type": "stream",
     "text": [
      "\n",
      "Site: site08 | Pearson r = 0.498 (p=0.000) | Partial η² = 0.166\n"
     ]
    },
    {
     "name": "stderr",
     "output_type": "stream",
     "text": [
      "Cross-validation progress:  40%|████      | 8/20 [03:08<04:13, 21.12s/it]"
     ]
    },
    {
     "name": "stdout",
     "output_type": "stream",
     "text": [
      "\n",
      "Site: site09 | Pearson r = 0.523 (p=0.000) | Partial η² = 0.216\n"
     ]
    },
    {
     "name": "stderr",
     "output_type": "stream",
     "text": [
      "Cross-validation progress:  45%|████▌     | 9/20 [03:27<03:44, 20.39s/it]"
     ]
    },
    {
     "name": "stdout",
     "output_type": "stream",
     "text": [
      "\n",
      "Site: site10 | Pearson r = 0.469 (p=0.000) | Partial η² = 0.216\n"
     ]
    },
    {
     "name": "stderr",
     "output_type": "stream",
     "text": [
      "Cross-validation progress:  50%|█████     | 10/20 [03:46<03:18, 19.86s/it]"
     ]
    },
    {
     "name": "stdout",
     "output_type": "stream",
     "text": [
      "\n",
      "Site: site11 | Pearson r = 0.596 (p=0.000) | Partial η² = 0.337\n"
     ]
    },
    {
     "name": "stderr",
     "output_type": "stream",
     "text": [
      "Cross-validation progress:  55%|█████▌    | 11/20 [04:09<03:07, 20.81s/it]"
     ]
    },
    {
     "name": "stdout",
     "output_type": "stream",
     "text": [
      "\n",
      "Site: site12 | Pearson r = 0.423 (p=0.000) | Partial η² = 0.081\n"
     ]
    },
    {
     "name": "stderr",
     "output_type": "stream",
     "text": [
      "Cross-validation progress:  60%|██████    | 12/20 [04:32<02:52, 21.53s/it]"
     ]
    },
    {
     "name": "stdout",
     "output_type": "stream",
     "text": [
      "\n",
      "Site: site13 | Pearson r = 0.593 (p=0.000) | Partial η² = 0.346\n"
     ]
    },
    {
     "name": "stderr",
     "output_type": "stream",
     "text": [
      "Cross-validation progress:  65%|██████▌   | 13/20 [04:52<02:27, 21.00s/it]"
     ]
    },
    {
     "name": "stdout",
     "output_type": "stream",
     "text": [
      "\n",
      "Site: site14 | Pearson r = 0.559 (p=0.000) | Partial η² = 0.308\n"
     ]
    },
    {
     "name": "stderr",
     "output_type": "stream",
     "text": [
      "Cross-validation progress:  70%|███████   | 14/20 [05:15<02:10, 21.76s/it]"
     ]
    },
    {
     "name": "stdout",
     "output_type": "stream",
     "text": [
      "\n",
      "Site: site15 | Pearson r = 0.638 (p=0.000) | Partial η² = 0.406\n"
     ]
    },
    {
     "name": "stderr",
     "output_type": "stream",
     "text": [
      "Cross-validation progress:  75%|███████▌  | 15/20 [05:32<01:41, 20.34s/it]"
     ]
    },
    {
     "name": "stdout",
     "output_type": "stream",
     "text": [
      "\n",
      "Site: site16 | Pearson r = 0.549 (p=0.000) | Partial η² = 0.292\n"
     ]
    },
    {
     "name": "stderr",
     "output_type": "stream",
     "text": [
      "Cross-validation progress:  80%|████████  | 16/20 [05:53<01:21, 20.45s/it]"
     ]
    },
    {
     "name": "stdout",
     "output_type": "stream",
     "text": [
      "\n",
      "Site: site17 | Pearson r = 0.399 (p=0.000) | Partial η² = 0.117\n"
     ]
    },
    {
     "name": "stderr",
     "output_type": "stream",
     "text": [
      "Cross-validation progress:  85%|████████▌ | 17/20 [06:14<01:02, 20.74s/it]"
     ]
    },
    {
     "name": "stdout",
     "output_type": "stream",
     "text": [
      "\n",
      "Site: site18 | Pearson r = 0.456 (p=0.000) | Partial η² = 0.197\n"
     ]
    },
    {
     "name": "stderr",
     "output_type": "stream",
     "text": [
      "Cross-validation progress:  90%|█████████ | 18/20 [06:35<00:41, 20.79s/it]"
     ]
    },
    {
     "name": "stdout",
     "output_type": "stream",
     "text": [
      "\n",
      "Site: site19 | Pearson r = 0.573 (p=0.000) | Partial η² = 0.315\n"
     ]
    },
    {
     "name": "stderr",
     "output_type": "stream",
     "text": [
      "Cross-validation progress:  95%|█████████▌| 19/20 [07:03<00:22, 22.97s/it]"
     ]
    },
    {
     "name": "stdout",
     "output_type": "stream",
     "text": [
      "\n",
      "Site: site20 | Pearson r = 0.492 (p=0.000) | Partial η² = 0.188\n"
     ]
    },
    {
     "name": "stderr",
     "output_type": "stream",
     "text": [
      "Cross-validation progress: 100%|██████████| 20/20 [07:29<00:00, 22.50s/it]"
     ]
    },
    {
     "name": "stdout",
     "output_type": "stream",
     "text": [
      "\n",
      "Site: site21 | Pearson r = 0.577 (p=0.000) | Partial η² = 0.324\n",
      "Cross-validated Performance Metrics:\n",
      "Average Pearson's r: 0.530\n",
      "Partial eta squared: 0.261\n",
      "R²: 0.261\n"
     ]
    },
    {
     "name": "stderr",
     "output_type": "stream",
     "text": [
      "\n"
     ]
    }
   ],
   "execution_count": 28
  },
  {
   "metadata": {},
   "cell_type": "markdown",
   "source": [
    "### Summary table 2 a:\n",
    "| Description                         | Pearson's correlation | Partial $\\eta^2$ | Coefficient of Determination |\n",
    "|-------------------------------------|-----------------------|------------------|-----------------------------|\n",
    "| Baseline: Basic features + PCs      | 0.473                 | 0.185            | 0.185                       |\n",
    "| Baseline: Basic featurres only      | 0.404                 | 0.092            | 0.092                       |\n",
    "| Baseline: SES only                  | 0.375                 | 0.114            | 0.114                       |\n",
    "| Baseline: SES + PCs                 | 0.437                 | 0.174            | 0.174                       |\n",
    "| Baseline: Basic features + SES      | 0.502                 | 0.223            | 0.223                       |\n",
    "| Baseline: Basic features+ SES + PCs | 0.530                 | 0.261            | 0.261                       |\n",
    "\n"
   ],
   "id": "cb909c8803162fc4"
  },
  {
   "metadata": {
    "ExecuteTime": {
     "end_time": "2025-09-21T00:49:58.076711Z",
     "start_time": "2025-09-21T00:49:58.015800Z"
    }
   },
   "cell_type": "code",
   "source": [
    "results_no_network, models_no_network = run_cross_validation(main_followup_B, y_followup_B, use_network=False)\n",
    "print_cross_val_results(results_no_network)"
   ],
   "id": "2607ad711642fbc7",
   "outputs": [
    {
     "name": "stderr",
     "output_type": "stream",
     "text": [
      "Cross-validation progress: 100%|██████████| 20/20 [00:00<00:00, 382.23it/s]"
     ]
    },
    {
     "name": "stdout",
     "output_type": "stream",
     "text": [
      "\n",
      "Site: site02 | Pearson r = 0.393 (p=0.000) | Partial η² = 0.145\n",
      "\n",
      "Site: site03 | Pearson r = 0.357 (p=0.000) | Partial η² = 0.117\n",
      "\n",
      "Site: site04 | Pearson r = 0.449 (p=0.000) | Partial η² = 0.160\n",
      "\n",
      "Site: site05 | Pearson r = 0.548 (p=0.000) | Partial η² = 0.278\n",
      "\n",
      "Site: site06 | Pearson r = 0.284 (p=0.004) | Partial η² = 0.008\n",
      "\n",
      "Site: site07 | Pearson r = 0.557 (p=0.000) | Partial η² = 0.279\n",
      "\n",
      "Site: site08 | Pearson r = 0.342 (p=0.002) | Partial η² = 0.012\n",
      "\n",
      "Site: site09 | Pearson r = 0.441 (p=0.001) | Partial η² = 0.107\n",
      "\n",
      "Site: site10 | Pearson r = 0.520 (p=0.000) | Partial η² = 0.259\n",
      "\n",
      "Site: site11 | Pearson r = 0.547 (p=0.000) | Partial η² = 0.296\n",
      "\n",
      "Site: site12 | Pearson r = 0.491 (p=0.000) | Partial η² = 0.240\n",
      "\n",
      "Site: site13 | Pearson r = 0.455 (p=0.000) | Partial η² = 0.199\n",
      "\n",
      "Site: site14 | Pearson r = 0.482 (p=0.000) | Partial η² = 0.232\n",
      "\n",
      "Site: site15 | Pearson r = 0.735 (p=0.000) | Partial η² = 0.470\n",
      "\n",
      "Site: site16 | Pearson r = 0.373 (p=0.000) | Partial η² = 0.132\n",
      "\n",
      "Site: site17 | Pearson r = 0.357 (p=0.000) | Partial η² = -0.066\n",
      "\n",
      "Site: site18 | Pearson r = 0.407 (p=0.000) | Partial η² = 0.161\n",
      "\n",
      "Site: site19 | Pearson r = 0.340 (p=0.002) | Partial η² = 0.078\n",
      "\n",
      "Site: site20 | Pearson r = 0.582 (p=0.000) | Partial η² = 0.304\n",
      "\n",
      "Site: site21 | Pearson r = 0.604 (p=0.000) | Partial η² = 0.358\n",
      "Cross-validated Performance Metrics:\n",
      "Average Pearson's r: 0.463\n",
      "Partial eta squared: 0.188\n",
      "R²: 0.188\n"
     ]
    },
    {
     "name": "stderr",
     "output_type": "stream",
     "text": [
      "\n"
     ]
    }
   ],
   "execution_count": 29
  },
  {
   "metadata": {
    "ExecuteTime": {
     "end_time": "2025-09-21T00:54:26.812863Z",
     "start_time": "2025-09-21T00:50:01.302895Z"
    }
   },
   "cell_type": "code",
   "source": [
    "results_network, models_network = run_cross_validation(main_followup_B, y_followup_B, use_network=True,\n",
    "                                                       X_network=conn_B_followup_df, num_pc=100)\n",
    "print_cross_val_results(results_network)"
   ],
   "id": "60ce71d1d0c40426",
   "outputs": [
    {
     "name": "stderr",
     "output_type": "stream",
     "text": [
      "Cross-validation progress:   5%|▌         | 1/20 [00:23<07:34, 23.91s/it]"
     ]
    },
    {
     "name": "stdout",
     "output_type": "stream",
     "text": [
      "\n",
      "Site: site02 | Pearson r = 0.461 (p=0.000) | Partial η² = 0.205\n"
     ]
    },
    {
     "name": "stderr",
     "output_type": "stream",
     "text": [
      "Cross-validation progress:  10%|█         | 2/20 [00:36<05:06, 17.03s/it]"
     ]
    },
    {
     "name": "stdout",
     "output_type": "stream",
     "text": [
      "\n",
      "Site: site03 | Pearson r = 0.439 (p=0.000) | Partial η² = 0.185\n"
     ]
    },
    {
     "name": "stderr",
     "output_type": "stream",
     "text": [
      "Cross-validation progress:  15%|█▌        | 3/20 [00:53<04:52, 17.19s/it]"
     ]
    },
    {
     "name": "stdout",
     "output_type": "stream",
     "text": [
      "\n",
      "Site: site04 | Pearson r = 0.503 (p=0.000) | Partial η² = 0.182\n"
     ]
    },
    {
     "name": "stderr",
     "output_type": "stream",
     "text": [
      "Cross-validation progress:  20%|██        | 4/20 [01:16<05:14, 19.66s/it]"
     ]
    },
    {
     "name": "stdout",
     "output_type": "stream",
     "text": [
      "\n",
      "Site: site05 | Pearson r = 0.622 (p=0.000) | Partial η² = 0.355\n"
     ]
    },
    {
     "name": "stderr",
     "output_type": "stream",
     "text": [
      "Cross-validation progress:  25%|██▌       | 5/20 [01:29<04:18, 17.24s/it]"
     ]
    },
    {
     "name": "stdout",
     "output_type": "stream",
     "text": [
      "\n",
      "Site: site06 | Pearson r = 0.392 (p=0.000) | Partial η² = 0.108\n"
     ]
    },
    {
     "name": "stderr",
     "output_type": "stream",
     "text": [
      "Cross-validation progress:  30%|███       | 6/20 [01:43<03:44, 16.04s/it]"
     ]
    },
    {
     "name": "stdout",
     "output_type": "stream",
     "text": [
      "\n",
      "Site: site07 | Pearson r = 0.594 (p=0.000) | Partial η² = 0.310\n"
     ]
    },
    {
     "name": "stderr",
     "output_type": "stream",
     "text": [
      "Cross-validation progress:  35%|███▌      | 7/20 [01:57<03:17, 15.18s/it]"
     ]
    },
    {
     "name": "stdout",
     "output_type": "stream",
     "text": [
      "\n",
      "Site: site08 | Pearson r = 0.474 (p=0.000) | Partial η² = 0.163\n"
     ]
    },
    {
     "name": "stderr",
     "output_type": "stream",
     "text": [
      "Cross-validation progress:  40%|████      | 8/20 [02:08<02:49, 14.14s/it]"
     ]
    },
    {
     "name": "stdout",
     "output_type": "stream",
     "text": [
      "\n",
      "Site: site09 | Pearson r = 0.536 (p=0.000) | Partial η² = 0.162\n"
     ]
    },
    {
     "name": "stderr",
     "output_type": "stream",
     "text": [
      "Cross-validation progress:  45%|████▌     | 9/20 [02:18<02:21, 12.86s/it]"
     ]
    },
    {
     "name": "stdout",
     "output_type": "stream",
     "text": [
      "\n",
      "Site: site10 | Pearson r = 0.533 (p=0.000) | Partial η² = 0.282\n"
     ]
    },
    {
     "name": "stderr",
     "output_type": "stream",
     "text": [
      "Cross-validation progress:  50%|█████     | 10/20 [02:31<02:06, 12.64s/it]"
     ]
    },
    {
     "name": "stdout",
     "output_type": "stream",
     "text": [
      "\n",
      "Site: site11 | Pearson r = 0.547 (p=0.000) | Partial η² = 0.227\n"
     ]
    },
    {
     "name": "stderr",
     "output_type": "stream",
     "text": [
      "Cross-validation progress:  55%|█████▌    | 11/20 [02:43<01:53, 12.59s/it]"
     ]
    },
    {
     "name": "stdout",
     "output_type": "stream",
     "text": [
      "\n",
      "Site: site12 | Pearson r = 0.596 (p=0.000) | Partial η² = 0.354\n"
     ]
    },
    {
     "name": "stderr",
     "output_type": "stream",
     "text": [
      "Cross-validation progress:  60%|██████    | 12/20 [02:53<01:35, 11.90s/it]"
     ]
    },
    {
     "name": "stdout",
     "output_type": "stream",
     "text": [
      "\n",
      "Site: site13 | Pearson r = 0.504 (p=0.000) | Partial η² = 0.244\n"
     ]
    },
    {
     "name": "stderr",
     "output_type": "stream",
     "text": [
      "Cross-validation progress:  65%|██████▌   | 13/20 [03:04<01:19, 11.40s/it]"
     ]
    },
    {
     "name": "stdout",
     "output_type": "stream",
     "text": [
      "\n",
      "Site: site14 | Pearson r = 0.564 (p=0.000) | Partial η² = 0.317\n"
     ]
    },
    {
     "name": "stderr",
     "output_type": "stream",
     "text": [
      "Cross-validation progress:  70%|███████   | 14/20 [03:16<01:10, 11.76s/it]"
     ]
    },
    {
     "name": "stdout",
     "output_type": "stream",
     "text": [
      "\n",
      "Site: site15 | Pearson r = 0.736 (p=0.000) | Partial η² = 0.502\n"
     ]
    },
    {
     "name": "stderr",
     "output_type": "stream",
     "text": [
      "Cross-validation progress:  75%|███████▌  | 15/20 [03:26<00:56, 11.21s/it]"
     ]
    },
    {
     "name": "stdout",
     "output_type": "stream",
     "text": [
      "\n",
      "Site: site16 | Pearson r = 0.443 (p=0.000) | Partial η² = 0.180\n"
     ]
    },
    {
     "name": "stderr",
     "output_type": "stream",
     "text": [
      "Cross-validation progress:  80%|████████  | 16/20 [03:36<00:43, 10.82s/it]"
     ]
    },
    {
     "name": "stdout",
     "output_type": "stream",
     "text": [
      "\n",
      "Site: site17 | Pearson r = 0.454 (p=0.000) | Partial η² = 0.073\n"
     ]
    },
    {
     "name": "stderr",
     "output_type": "stream",
     "text": [
      "Cross-validation progress:  85%|████████▌ | 17/20 [03:49<00:34, 11.43s/it]"
     ]
    },
    {
     "name": "stdout",
     "output_type": "stream",
     "text": [
      "\n",
      "Site: site18 | Pearson r = 0.381 (p=0.000) | Partial η² = 0.128\n"
     ]
    },
    {
     "name": "stderr",
     "output_type": "stream",
     "text": [
      "Cross-validation progress:  90%|█████████ | 18/20 [04:02<00:23, 11.98s/it]"
     ]
    },
    {
     "name": "stdout",
     "output_type": "stream",
     "text": [
      "\n",
      "Site: site19 | Pearson r = 0.368 (p=0.001) | Partial η² = 0.103\n"
     ]
    },
    {
     "name": "stderr",
     "output_type": "stream",
     "text": [
      "Cross-validation progress:  95%|█████████▌| 19/20 [04:13<00:11, 11.57s/it]"
     ]
    },
    {
     "name": "stdout",
     "output_type": "stream",
     "text": [
      "\n",
      "Site: site20 | Pearson r = 0.603 (p=0.000) | Partial η² = 0.339\n"
     ]
    },
    {
     "name": "stderr",
     "output_type": "stream",
     "text": [
      "Cross-validation progress: 100%|██████████| 20/20 [04:25<00:00, 13.27s/it]"
     ]
    },
    {
     "name": "stdout",
     "output_type": "stream",
     "text": [
      "\n",
      "Site: site21 | Pearson r = 0.630 (p=0.000) | Partial η² = 0.389\n",
      "Cross-validated Performance Metrics:\n",
      "Average Pearson's r: 0.519\n",
      "Partial eta squared: 0.241\n",
      "R²: 0.241\n"
     ]
    },
    {
     "name": "stderr",
     "output_type": "stream",
     "text": [
      "\n"
     ]
    }
   ],
   "execution_count": 30
  },
  {
   "metadata": {},
   "cell_type": "markdown",
   "source": [
    "### Summary table 2 b:\n",
    "| Description                          | Pearson's correlation | Partial $\\eta^2$ | Coefficient of Determination |\n",
    "|--------------------------------------|-----------------------|------------------|------------------------------|\n",
    "| Followup: Basic features + PCs       | 0.457                 | 0.152            | 0.152                        |\n",
    "| Followup: Basic features only        | 0.325                 | 0.024            | 0.024                        |\n",
    "| Followup: SES only                   | 0.405                 | 0.137            | 0.137                        |\n",
    "| Followup: SES + PCs                  | 0.487                 | 0.197            | 0.197                        |\n",
    "| Followup: Basic features + SES       | 0.463                 | 0.188            | 0.188                        |\n",
    "| Followup: Basic features + SES + PCs | 0.519                 | 0.241            | 0.241                        |\n"
   ],
   "id": "cda9b3afd9e52cd9"
  },
  {
   "metadata": {},
   "cell_type": "markdown",
   "source": [
    "## Answer 2:\n",
    "Yes, the new features (SES) help improve the quality of the models!\n",
    "We have the evidence to support this finding from both tables:\n",
    "\n",
    "* SES alone is a better predictor than basic features alone.\n",
    "* Adding SES to basic features provides a larger boost in explained variance than adding PCs does.\n",
    "* The best model in both cases is the full model that includes basic features, the new SES features and the PCs."
   ],
   "id": "3273effff4281507"
  },
  {
   "metadata": {},
   "cell_type": "markdown",
   "source": [
    "## Question 3:\n",
    "Is it possible to move towards network summary statistics without loss of explained variation?"
   ],
   "id": "5acb51b8e870865a"
  },
  {
   "metadata": {},
   "cell_type": "markdown",
   "source": [
    "There are several questions that need to be asked. First, we need to understand whether network summary statistics increase the amount of explained variance. If yes, then which one. We need to compare the following:\n",
    "* How much variance can network stats explain alone?\n",
    "* Does adding network stats to the original data help?\n",
    "* Do network stats provide new information that wasn't captured by the PCs?\n",
    "* Can they replace PCs?"
   ],
   "id": "da599b64192a72d"
  },
  {
   "metadata": {
    "ExecuteTime": {
     "end_time": "2025-09-22T15:27:24.076279Z",
     "start_time": "2025-09-22T15:27:24.070737Z"
    }
   },
   "cell_type": "code",
   "source": "regions = pd.read_csv('../data/raw/gordon_sub_cere_parcels.csv')",
   "id": "cad7e27cf3c028f1",
   "outputs": [],
   "execution_count": 8
  },
  {
   "metadata": {
    "ExecuteTime": {
     "end_time": "2025-09-22T15:27:25.524816Z",
     "start_time": "2025-09-22T15:27:25.519744Z"
    }
   },
   "cell_type": "code",
   "source": "from src.network.statistics import compute_one_statistic",
   "id": "4ddda6e483f909de",
   "outputs": [],
   "execution_count": 9
  },
  {
   "metadata": {},
   "cell_type": "markdown",
   "source": [
    "## Strength:\n",
    "* Strength metrics (avg_positive_strength, avg_negative_strength, avg_total_strength) follow\n",
    "          definitions of node strength in weighted networks [Barrat et al., 2004; Rubinov & Sporns, 2010].\n",
    "          Positive/negative separation follows signed-network convention [Rubinov, 2011].\n",
    "* Within- and between-system means (within_positive_mean, etc.) are standard summaries of\n",
    "          functional connectivity [Power et al., 2011].\n",
    "* Segregation metrics:\n",
    "    * segregation_ratio: within-system positive mean / between-system positive mean (used in several FC studies).\n",
    "    * segregation_index: (within-system positive mean – between-system positive mean) / within-system positive mean,\n",
    "              as defined by Chan et al. (2014, PNAS).This function calculates the following statistics for each network:\n",
    "\n"
   ],
   "id": "ac5ba843b3502614"
  },
  {
   "metadata": {
    "ExecuteTime": {
     "end_time": "2025-09-21T19:26:32.774534Z",
     "start_time": "2025-09-21T19:25:52.550101Z"
    }
   },
   "cell_type": "code",
   "source": [
    "avg_pos_strength_baseline_B = compute_one_statistic(df_features=main_baseline_B,\n",
    "                          df_network=conn_B_baseline_df,\n",
    "                          regions=regions,\n",
    "                          stat_name=\"avg_positive_strength\",\n",
    "                          mode=\"all\",\n",
    "                          node_order=None,\n",
    "                          matrix_size=418,\n",
    "                          diag_value=0.0)"
   ],
   "id": "c4fb9cdc158261a0",
   "outputs": [
    {
     "name": "stderr",
     "output_type": "stream",
     "text": [
      "100%|██████████| 4321/4321 [00:35<00:00, 122.78it/s]\n"
     ]
    }
   ],
   "execution_count": 20
  },
  {
   "metadata": {
    "ExecuteTime": {
     "end_time": "2025-09-21T19:26:37.379261Z",
     "start_time": "2025-09-21T19:26:37.201871Z"
    }
   },
   "cell_type": "code",
   "source": [
    "baseline_B_plus = combine_data(main_baseline_B , avg_pos_strength_baseline_B)\n",
    "results_no_network, models_no_network = run_cross_validation(baseline_B_plus , y_baseline_B, use_network=False)\n",
    "print_cross_val_results(results_no_network)"
   ],
   "id": "8ed0272b76d41377",
   "outputs": [
    {
     "name": "stdout",
     "output_type": "stream",
     "text": [
      "Dropping duplicate columns: ['Subject', 'site_id_l']\n"
     ]
    },
    {
     "name": "stderr",
     "output_type": "stream",
     "text": [
      "Cross-validation progress: 100%|██████████| 20/20 [00:00<00:00, 126.89it/s]"
     ]
    },
    {
     "name": "stdout",
     "output_type": "stream",
     "text": [
      "\n",
      "Site: site02 | Pearson r = 0.479 (p=0.000) | Partial η² = 0.132\n",
      "\n",
      "Site: site03 | Pearson r = 0.436 (p=0.000) | Partial η² = 0.166\n",
      "\n",
      "Site: site04 | Pearson r = 0.497 (p=0.000) | Partial η² = 0.246\n",
      "\n",
      "Site: site05 | Pearson r = 0.585 (p=0.000) | Partial η² = 0.339\n",
      "\n",
      "Site: site06 | Pearson r = 0.451 (p=0.000) | Partial η² = 0.187\n",
      "\n",
      "Site: site07 | Pearson r = 0.650 (p=0.000) | Partial η² = 0.395\n",
      "\n",
      "Site: site08 | Pearson r = 0.472 (p=0.000) | Partial η² = 0.101\n",
      "\n",
      "Site: site09 | Pearson r = 0.431 (p=0.000) | Partial η² = 0.069\n",
      "\n",
      "Site: site10 | Pearson r = 0.469 (p=0.000) | Partial η² = 0.214\n",
      "\n",
      "Site: site11 | Pearson r = 0.575 (p=0.000) | Partial η² = 0.302\n",
      "\n",
      "Site: site12 | Pearson r = 0.422 (p=0.000) | Partial η² = 0.098\n",
      "\n",
      "Site: site13 | Pearson r = 0.564 (p=0.000) | Partial η² = 0.307\n",
      "\n",
      "Site: site14 | Pearson r = 0.479 (p=0.000) | Partial η² = 0.224\n",
      "\n",
      "Site: site15 | Pearson r = 0.618 (p=0.000) | Partial η² = 0.375\n",
      "\n",
      "Site: site16 | Pearson r = 0.520 (p=0.000) | Partial η² = 0.260\n",
      "\n",
      "Site: site17 | Pearson r = 0.390 (p=0.000) | Partial η² = 0.132\n",
      "\n",
      "Site: site18 | Pearson r = 0.434 (p=0.000) | Partial η² = 0.164\n",
      "\n",
      "Site: site19 | Pearson r = 0.574 (p=0.000) | Partial η² = 0.305\n",
      "\n",
      "Site: site20 | Pearson r = 0.467 (p=0.000) | Partial η² = 0.171\n",
      "\n",
      "Site: site21 | Pearson r = 0.550 (p=0.000) | Partial η² = 0.290\n",
      "Cross-validated Performance Metrics:\n",
      "Average Pearson's r: 0.503\n",
      "Partial eta squared: 0.224\n",
      "R²: 0.224\n"
     ]
    },
    {
     "name": "stderr",
     "output_type": "stream",
     "text": [
      "\n"
     ]
    }
   ],
   "execution_count": 21
  },
  {
   "metadata": {
    "ExecuteTime": {
     "end_time": "2025-09-21T19:30:11.999216Z",
     "start_time": "2025-09-21T19:29:42.245111Z"
    }
   },
   "cell_type": "code",
   "source": [
    "avg_pos_strength_followup_B = compute_one_statistic(df_features=main_followup_B,\n",
    "                          df_network=conn_B_followup_df,\n",
    "                          regions=regions,\n",
    "                          stat_name=\"avg_positive_strength\",\n",
    "                          mode=\"all\",\n",
    "                          node_order=None,\n",
    "                          matrix_size=418,\n",
    "                          diag_value=0.0)"
   ],
   "id": "ddfff54f0f6653c0",
   "outputs": [
    {
     "name": "stderr",
     "output_type": "stream",
     "text": [
      "100%|██████████| 2756/2756 [00:22<00:00, 124.65it/s]\n"
     ]
    }
   ],
   "execution_count": 22
  },
  {
   "metadata": {
    "ExecuteTime": {
     "end_time": "2025-09-21T19:32:35.470407Z",
     "start_time": "2025-09-21T19:32:35.391771Z"
    }
   },
   "cell_type": "code",
   "source": [
    "followup_B_plus = combine_data(main_followup_B, avg_pos_strength_followup_B)\n",
    "results_no_network, models_no_network = run_cross_validation(followup_B_plus.fillna(0.0), y_followup_B, use_network=False)\n",
    "print_cross_val_results(results_no_network)"
   ],
   "id": "3cf8403c3f7e77a1",
   "outputs": [
    {
     "name": "stdout",
     "output_type": "stream",
     "text": [
      "Dropping duplicate columns: ['Subject', 'site_id_l']\n"
     ]
    },
    {
     "name": "stderr",
     "output_type": "stream",
     "text": [
      "Cross-validation progress: 100%|██████████| 20/20 [00:00<00:00, 279.29it/s]"
     ]
    },
    {
     "name": "stdout",
     "output_type": "stream",
     "text": [
      "\n",
      "Site: site02 | Pearson r = 0.400 (p=0.000) | Partial η² = 0.155\n",
      "\n",
      "Site: site03 | Pearson r = 0.376 (p=0.000) | Partial η² = 0.132\n",
      "\n",
      "Site: site04 | Pearson r = 0.442 (p=0.000) | Partial η² = 0.127\n",
      "\n",
      "Site: site05 | Pearson r = 0.572 (p=0.000) | Partial η² = 0.306\n",
      "\n",
      "Site: site06 | Pearson r = 0.294 (p=0.003) | Partial η² = 0.018\n",
      "\n",
      "Site: site07 | Pearson r = 0.532 (p=0.000) | Partial η² = 0.256\n",
      "\n",
      "Site: site08 | Pearson r = 0.364 (p=0.001) | Partial η² = 0.040\n",
      "\n",
      "Site: site09 | Pearson r = 0.373 (p=0.006) | Partial η² = 0.031\n",
      "\n",
      "Site: site10 | Pearson r = 0.521 (p=0.000) | Partial η² = 0.260\n",
      "\n",
      "Site: site11 | Pearson r = 0.517 (p=0.000) | Partial η² = 0.212\n",
      "\n",
      "Site: site12 | Pearson r = 0.505 (p=0.000) | Partial η² = 0.253\n",
      "\n",
      "Site: site13 | Pearson r = 0.455 (p=0.000) | Partial η² = 0.200\n",
      "\n",
      "Site: site14 | Pearson r = 0.484 (p=0.000) | Partial η² = 0.233\n",
      "\n",
      "Site: site15 | Pearson r = 0.740 (p=0.000) | Partial η² = 0.489\n",
      "\n",
      "Site: site16 | Pearson r = 0.369 (p=0.000) | Partial η² = 0.128\n",
      "\n",
      "Site: site17 | Pearson r = 0.347 (p=0.000) | Partial η² = -0.054\n",
      "\n",
      "Site: site18 | Pearson r = 0.375 (p=0.000) | Partial η² = 0.131\n",
      "\n",
      "Site: site19 | Pearson r = 0.339 (p=0.002) | Partial η² = 0.075\n",
      "\n",
      "Site: site20 | Pearson r = 0.579 (p=0.000) | Partial η² = 0.307\n",
      "\n",
      "Site: site21 | Pearson r = 0.616 (p=0.000) | Partial η² = 0.370\n",
      "Cross-validated Performance Metrics:\n",
      "Average Pearson's r: 0.460\n",
      "Partial eta squared: 0.183\n",
      "R²: 0.183\n"
     ]
    },
    {
     "name": "stderr",
     "output_type": "stream",
     "text": [
      "\n"
     ]
    }
   ],
   "execution_count": 24
  },
  {
   "metadata": {
    "ExecuteTime": {
     "end_time": "2025-09-21T20:03:50.125284Z",
     "start_time": "2025-09-21T19:58:56.697215Z"
    }
   },
   "cell_type": "code",
   "source": [
    "results_network, models_network = run_cross_validation(main_baseline_B, y_baseline_B, use_network=True,\n",
    "                                                       X_network=conn_B_baseline_df, num_pc=15)\n",
    "print_cross_val_results(results_network)"
   ],
   "id": "c2180b92c1f01705",
   "outputs": [
    {
     "name": "stderr",
     "output_type": "stream",
     "text": [
      "Cross-validation progress:   5%|▌         | 1/20 [00:24<07:51, 24.81s/it]"
     ]
    },
    {
     "name": "stdout",
     "output_type": "stream",
     "text": [
      "\n",
      "Site: site02 | Pearson r = 0.445 (p=0.000) | Partial η² = 0.111\n"
     ]
    },
    {
     "name": "stderr",
     "output_type": "stream",
     "text": [
      "Cross-validation progress:  10%|█         | 2/20 [00:44<06:33, 21.85s/it]"
     ]
    },
    {
     "name": "stdout",
     "output_type": "stream",
     "text": [
      "\n",
      "Site: site03 | Pearson r = 0.440 (p=0.000) | Partial η² = 0.176\n"
     ]
    },
    {
     "name": "stderr",
     "output_type": "stream",
     "text": [
      "Cross-validation progress:  15%|█▌        | 3/20 [01:01<05:34, 19.70s/it]"
     ]
    },
    {
     "name": "stdout",
     "output_type": "stream",
     "text": [
      "\n",
      "Site: site04 | Pearson r = 0.500 (p=0.000) | Partial η² = 0.250\n"
     ]
    },
    {
     "name": "stderr",
     "output_type": "stream",
     "text": [
      "Cross-validation progress:  20%|██        | 4/20 [01:19<05:00, 18.76s/it]"
     ]
    },
    {
     "name": "stdout",
     "output_type": "stream",
     "text": [
      "\n",
      "Site: site05 | Pearson r = 0.584 (p=0.000) | Partial η² = 0.339\n"
     ]
    },
    {
     "name": "stderr",
     "output_type": "stream",
     "text": [
      "Cross-validation progress:  25%|██▌       | 5/20 [01:35<04:30, 18.02s/it]"
     ]
    },
    {
     "name": "stdout",
     "output_type": "stream",
     "text": [
      "\n",
      "Site: site06 | Pearson r = 0.466 (p=0.000) | Partial η² = 0.206\n"
     ]
    },
    {
     "name": "stderr",
     "output_type": "stream",
     "text": [
      "Cross-validation progress:  30%|███       | 6/20 [01:51<04:02, 17.29s/it]"
     ]
    },
    {
     "name": "stdout",
     "output_type": "stream",
     "text": [
      "\n",
      "Site: site07 | Pearson r = 0.665 (p=0.000) | Partial η² = 0.413\n"
     ]
    },
    {
     "name": "stderr",
     "output_type": "stream",
     "text": [
      "Cross-validation progress:  35%|███▌      | 7/20 [02:07<03:40, 16.99s/it]"
     ]
    },
    {
     "name": "stdout",
     "output_type": "stream",
     "text": [
      "\n",
      "Site: site08 | Pearson r = 0.500 (p=0.000) | Partial η² = 0.149\n"
     ]
    },
    {
     "name": "stderr",
     "output_type": "stream",
     "text": [
      "Cross-validation progress:  40%|████      | 8/20 [02:24<03:21, 16.79s/it]"
     ]
    },
    {
     "name": "stdout",
     "output_type": "stream",
     "text": [
      "\n",
      "Site: site09 | Pearson r = 0.468 (p=0.000) | Partial η² = 0.140\n"
     ]
    },
    {
     "name": "stderr",
     "output_type": "stream",
     "text": [
      "Cross-validation progress:  45%|████▌     | 9/20 [02:37<02:51, 15.59s/it]"
     ]
    },
    {
     "name": "stdout",
     "output_type": "stream",
     "text": [
      "\n",
      "Site: site10 | Pearson r = 0.459 (p=0.000) | Partial η² = 0.207\n"
     ]
    },
    {
     "name": "stderr",
     "output_type": "stream",
     "text": [
      "Cross-validation progress:  50%|█████     | 10/20 [02:50<02:29, 14.92s/it]"
     ]
    },
    {
     "name": "stdout",
     "output_type": "stream",
     "text": [
      "\n",
      "Site: site11 | Pearson r = 0.577 (p=0.000) | Partial η² = 0.310\n"
     ]
    },
    {
     "name": "stderr",
     "output_type": "stream",
     "text": [
      "Cross-validation progress:  55%|█████▌    | 11/20 [03:03<02:09, 14.34s/it]"
     ]
    },
    {
     "name": "stdout",
     "output_type": "stream",
     "text": [
      "\n",
      "Site: site12 | Pearson r = 0.402 (p=0.000) | Partial η² = 0.068\n"
     ]
    },
    {
     "name": "stderr",
     "output_type": "stream",
     "text": [
      "Cross-validation progress:  60%|██████    | 12/20 [03:13<01:44, 13.00s/it]"
     ]
    },
    {
     "name": "stdout",
     "output_type": "stream",
     "text": [
      "\n",
      "Site: site13 | Pearson r = 0.576 (p=0.000) | Partial η² = 0.322\n"
     ]
    },
    {
     "name": "stderr",
     "output_type": "stream",
     "text": [
      "Cross-validation progress:  65%|██████▌   | 13/20 [03:26<01:30, 12.94s/it]"
     ]
    },
    {
     "name": "stdout",
     "output_type": "stream",
     "text": [
      "\n",
      "Site: site14 | Pearson r = 0.540 (p=0.000) | Partial η² = 0.286\n"
     ]
    },
    {
     "name": "stderr",
     "output_type": "stream",
     "text": [
      "Cross-validation progress:  70%|███████   | 14/20 [03:39<01:18, 13.01s/it]"
     ]
    },
    {
     "name": "stdout",
     "output_type": "stream",
     "text": [
      "\n",
      "Site: site15 | Pearson r = 0.621 (p=0.000) | Partial η² = 0.384\n"
     ]
    },
    {
     "name": "stderr",
     "output_type": "stream",
     "text": [
      "Cross-validation progress:  75%|███████▌  | 15/20 [03:49<00:59, 11.92s/it]"
     ]
    },
    {
     "name": "stdout",
     "output_type": "stream",
     "text": [
      "\n",
      "Site: site16 | Pearson r = 0.530 (p=0.000) | Partial η² = 0.272\n"
     ]
    },
    {
     "name": "stderr",
     "output_type": "stream",
     "text": [
      "Cross-validation progress:  80%|████████  | 16/20 [04:02<00:49, 12.28s/it]"
     ]
    },
    {
     "name": "stdout",
     "output_type": "stream",
     "text": [
      "\n",
      "Site: site17 | Pearson r = 0.381 (p=0.000) | Partial η² = 0.116\n"
     ]
    },
    {
     "name": "stderr",
     "output_type": "stream",
     "text": [
      "Cross-validation progress:  85%|████████▌ | 17/20 [04:15<00:37, 12.63s/it]"
     ]
    },
    {
     "name": "stdout",
     "output_type": "stream",
     "text": [
      "\n",
      "Site: site18 | Pearson r = 0.439 (p=0.000) | Partial η² = 0.177\n"
     ]
    },
    {
     "name": "stderr",
     "output_type": "stream",
     "text": [
      "Cross-validation progress:  90%|█████████ | 18/20 [04:28<00:25, 12.74s/it]"
     ]
    },
    {
     "name": "stdout",
     "output_type": "stream",
     "text": [
      "\n",
      "Site: site19 | Pearson r = 0.594 (p=0.000) | Partial η² = 0.335\n"
     ]
    },
    {
     "name": "stderr",
     "output_type": "stream",
     "text": [
      "Cross-validation progress:  95%|█████████▌| 19/20 [04:41<00:12, 12.65s/it]"
     ]
    },
    {
     "name": "stdout",
     "output_type": "stream",
     "text": [
      "\n",
      "Site: site20 | Pearson r = 0.486 (p=0.000) | Partial η² = 0.180\n"
     ]
    },
    {
     "name": "stderr",
     "output_type": "stream",
     "text": [
      "Cross-validation progress: 100%|██████████| 20/20 [04:53<00:00, 14.66s/it]"
     ]
    },
    {
     "name": "stdout",
     "output_type": "stream",
     "text": [
      "\n",
      "Site: site21 | Pearson r = 0.562 (p=0.000) | Partial η² = 0.303\n",
      "Cross-validated Performance Metrics:\n",
      "Average Pearson's r: 0.512\n",
      "Partial eta squared: 0.237\n",
      "R²: 0.237\n"
     ]
    },
    {
     "name": "stderr",
     "output_type": "stream",
     "text": [
      "\n"
     ]
    }
   ],
   "execution_count": 25
  },
  {
   "metadata": {
    "ExecuteTime": {
     "end_time": "2025-09-21T20:07:13.438996Z",
     "start_time": "2025-09-21T20:04:48.288643Z"
    }
   },
   "cell_type": "code",
   "source": [
    "results_network, models_network = run_cross_validation(main_followup_B, y_followup_B, use_network=True,\n",
    "                                                       X_network=conn_B_followup_df, num_pc=15)\n",
    "print_cross_val_results(results_network)"
   ],
   "id": "de512e2b13123f28",
   "outputs": [
    {
     "name": "stderr",
     "output_type": "stream",
     "text": [
      "Cross-validation progress:   5%|▌         | 1/20 [00:16<05:22, 16.99s/it]"
     ]
    },
    {
     "name": "stdout",
     "output_type": "stream",
     "text": [
      "\n",
      "Site: site02 | Pearson r = 0.423 (p=0.000) | Partial η² = 0.170\n"
     ]
    },
    {
     "name": "stderr",
     "output_type": "stream",
     "text": [
      "Cross-validation progress:  10%|█         | 2/20 [00:23<03:14, 10.82s/it]"
     ]
    },
    {
     "name": "stdout",
     "output_type": "stream",
     "text": [
      "\n",
      "Site: site03 | Pearson r = 0.396 (p=0.000) | Partial η² = 0.153\n"
     ]
    },
    {
     "name": "stderr",
     "output_type": "stream",
     "text": [
      "Cross-validation progress:  15%|█▌        | 3/20 [00:29<02:29,  8.79s/it]"
     ]
    },
    {
     "name": "stdout",
     "output_type": "stream",
     "text": [
      "\n",
      "Site: site04 | Pearson r = 0.459 (p=0.000) | Partial η² = 0.150\n"
     ]
    },
    {
     "name": "stderr",
     "output_type": "stream",
     "text": [
      "Cross-validation progress:  20%|██        | 4/20 [00:36<02:08,  8.01s/it]"
     ]
    },
    {
     "name": "stdout",
     "output_type": "stream",
     "text": [
      "\n",
      "Site: site05 | Pearson r = 0.574 (p=0.000) | Partial η² = 0.305\n"
     ]
    },
    {
     "name": "stderr",
     "output_type": "stream",
     "text": [
      "Cross-validation progress:  25%|██▌       | 5/20 [00:46<02:08,  8.56s/it]"
     ]
    },
    {
     "name": "stdout",
     "output_type": "stream",
     "text": [
      "\n",
      "Site: site06 | Pearson r = 0.317 (p=0.001) | Partial η² = 0.047\n"
     ]
    },
    {
     "name": "stderr",
     "output_type": "stream",
     "text": [
      "Cross-validation progress:  30%|███       | 6/20 [00:52<01:50,  7.90s/it]"
     ]
    },
    {
     "name": "stdout",
     "output_type": "stream",
     "text": [
      "\n",
      "Site: site07 | Pearson r = 0.572 (p=0.000) | Partial η² = 0.297\n"
     ]
    },
    {
     "name": "stderr",
     "output_type": "stream",
     "text": [
      "Cross-validation progress:  35%|███▌      | 7/20 [00:59<01:36,  7.42s/it]"
     ]
    },
    {
     "name": "stdout",
     "output_type": "stream",
     "text": [
      "\n",
      "Site: site08 | Pearson r = 0.380 (p=0.001) | Partial η² = 0.052\n"
     ]
    },
    {
     "name": "stderr",
     "output_type": "stream",
     "text": [
      "Cross-validation progress:  40%|████      | 8/20 [01:05<01:25,  7.10s/it]"
     ]
    },
    {
     "name": "stdout",
     "output_type": "stream",
     "text": [
      "\n",
      "Site: site09 | Pearson r = 0.402 (p=0.003) | Partial η² = 0.059\n"
     ]
    },
    {
     "name": "stderr",
     "output_type": "stream",
     "text": [
      "Cross-validation progress:  45%|████▌     | 9/20 [01:11<01:14,  6.76s/it]"
     ]
    },
    {
     "name": "stdout",
     "output_type": "stream",
     "text": [
      "\n",
      "Site: site10 | Pearson r = 0.519 (p=0.000) | Partial η² = 0.262\n"
     ]
    },
    {
     "name": "stderr",
     "output_type": "stream",
     "text": [
      "Cross-validation progress:  50%|█████     | 10/20 [01:18<01:06,  6.67s/it]"
     ]
    },
    {
     "name": "stdout",
     "output_type": "stream",
     "text": [
      "\n",
      "Site: site11 | Pearson r = 0.567 (p=0.000) | Partial η² = 0.297\n"
     ]
    },
    {
     "name": "stderr",
     "output_type": "stream",
     "text": [
      "Cross-validation progress:  55%|█████▌    | 11/20 [01:24<00:59,  6.60s/it]"
     ]
    },
    {
     "name": "stdout",
     "output_type": "stream",
     "text": [
      "\n",
      "Site: site12 | Pearson r = 0.517 (p=0.000) | Partial η² = 0.265\n"
     ]
    },
    {
     "name": "stderr",
     "output_type": "stream",
     "text": [
      "Cross-validation progress:  60%|██████    | 12/20 [01:31<00:52,  6.54s/it]"
     ]
    },
    {
     "name": "stdout",
     "output_type": "stream",
     "text": [
      "\n",
      "Site: site13 | Pearson r = 0.464 (p=0.000) | Partial η² = 0.209\n"
     ]
    },
    {
     "name": "stderr",
     "output_type": "stream",
     "text": [
      "Cross-validation progress:  65%|██████▌   | 13/20 [01:38<00:48,  6.97s/it]"
     ]
    },
    {
     "name": "stdout",
     "output_type": "stream",
     "text": [
      "\n",
      "Site: site14 | Pearson r = 0.505 (p=0.000) | Partial η² = 0.254\n"
     ]
    },
    {
     "name": "stderr",
     "output_type": "stream",
     "text": [
      "Cross-validation progress:  70%|███████   | 14/20 [01:45<00:41,  6.87s/it]"
     ]
    },
    {
     "name": "stdout",
     "output_type": "stream",
     "text": [
      "\n",
      "Site: site15 | Pearson r = 0.741 (p=0.000) | Partial η² = 0.504\n"
     ]
    },
    {
     "name": "stderr",
     "output_type": "stream",
     "text": [
      "Cross-validation progress:  75%|███████▌  | 15/20 [01:51<00:32,  6.56s/it]"
     ]
    },
    {
     "name": "stdout",
     "output_type": "stream",
     "text": [
      "\n",
      "Site: site16 | Pearson r = 0.369 (p=0.000) | Partial η² = 0.122\n"
     ]
    },
    {
     "name": "stderr",
     "output_type": "stream",
     "text": [
      "Cross-validation progress:  80%|████████  | 16/20 [01:59<00:28,  7.11s/it]"
     ]
    },
    {
     "name": "stdout",
     "output_type": "stream",
     "text": [
      "\n",
      "Site: site17 | Pearson r = 0.361 (p=0.000) | Partial η² = -0.072\n"
     ]
    },
    {
     "name": "stderr",
     "output_type": "stream",
     "text": [
      "Cross-validation progress:  85%|████████▌ | 17/20 [02:06<00:20,  6.94s/it]"
     ]
    },
    {
     "name": "stdout",
     "output_type": "stream",
     "text": [
      "\n",
      "Site: site18 | Pearson r = 0.390 (p=0.000) | Partial η² = 0.143\n"
     ]
    },
    {
     "name": "stderr",
     "output_type": "stream",
     "text": [
      "Cross-validation progress:  90%|█████████ | 18/20 [02:12<00:13,  6.78s/it]"
     ]
    },
    {
     "name": "stdout",
     "output_type": "stream",
     "text": [
      "\n",
      "Site: site19 | Pearson r = 0.338 (p=0.002) | Partial η² = 0.063\n"
     ]
    },
    {
     "name": "stderr",
     "output_type": "stream",
     "text": [
      "Cross-validation progress:  95%|█████████▌| 19/20 [02:18<00:06,  6.56s/it]"
     ]
    },
    {
     "name": "stdout",
     "output_type": "stream",
     "text": [
      "\n",
      "Site: site20 | Pearson r = 0.584 (p=0.000) | Partial η² = 0.308\n"
     ]
    },
    {
     "name": "stderr",
     "output_type": "stream",
     "text": [
      "Cross-validation progress: 100%|██████████| 20/20 [02:25<00:00,  7.25s/it]"
     ]
    },
    {
     "name": "stdout",
     "output_type": "stream",
     "text": [
      "\n",
      "Site: site21 | Pearson r = 0.592 (p=0.000) | Partial η² = 0.345\n",
      "Cross-validated Performance Metrics:\n",
      "Average Pearson's r: 0.473\n",
      "Partial eta squared: 0.197\n",
      "R²: 0.197\n"
     ]
    },
    {
     "name": "stderr",
     "output_type": "stream",
     "text": [
      "\n"
     ]
    }
   ],
   "execution_count": 26
  },
  {
   "metadata": {},
   "cell_type": "markdown",
   "source": [
    "#### Positive strength (one value for each region, 15 values total)\n",
    "| **Case**                | **PC Condition** | **Average Pearson's r** | **Cross-validated Partial η² (avg)** |\n",
    "|-------------------------|------------------|-------------------------|--------------------------------------|\n",
    "| B\\_baseline + statistic |                  | 0.503                   | 0.224                                |\n",
    "| B\\_baseline             | none             | 0.502                   | 0.223                                |\n",
    "| B\\_baseline             | 15 PCs           | 0.512                   | 0.237                                |\n",
    "| B\\_baseline             | 100 PCs          | 0.530                   | 0.261                                |\n",
    "| B\\_followup + statistic |                  | 0.460                   | 0.183                                |\n",
    "| B\\_followup             | none             | 0.463                   | 0.188                                |\n",
    "| B\\_followup             | 15 PCs           | 0.473                   | 0.197                                |\n",
    "| B\\_followup             | 100 PCs          | 0.519                   | 0.241                                |\n",
    "\n",
    "\n"
   ],
   "id": "2853283a3d5fe317"
  },
  {
   "metadata": {
    "ExecuteTime": {
     "end_time": "2025-09-21T20:18:32.917445Z",
     "start_time": "2025-09-21T20:17:44.283611Z"
    }
   },
   "cell_type": "code",
   "source": [
    "avg_neg_strength_baseline_B = compute_one_statistic(df_features=main_baseline_B,\n",
    "                                                    df_network=conn_B_baseline_df,\n",
    "                                                    regions=regions,\n",
    "                                                    stat_name=\"avg_negative_strength\",\n",
    "                                                    mode=\"all\",\n",
    "                                                    node_order=None,\n",
    "                                                    matrix_size=418,\n",
    "                                                    diag_value=0.0)"
   ],
   "id": "5668851dd52ea6e1",
   "outputs": [
    {
     "name": "stderr",
     "output_type": "stream",
     "text": [
      "100%|██████████| 4321/4321 [00:36<00:00, 118.46it/s]\n"
     ]
    }
   ],
   "execution_count": 27
  },
  {
   "metadata": {
    "ExecuteTime": {
     "end_time": "2025-09-21T20:18:33.030979Z",
     "start_time": "2025-09-21T20:18:32.930307Z"
    }
   },
   "cell_type": "code",
   "source": [
    "baseline_B_plus = combine_data(main_baseline_B, avg_neg_strength_baseline_B)\n",
    "results_no_network, models_no_network = run_cross_validation(baseline_B_plus, y_baseline_B, use_network=False)\n",
    "print_cross_val_results(results_no_network)"
   ],
   "id": "3331da2c3f42913b",
   "outputs": [
    {
     "name": "stdout",
     "output_type": "stream",
     "text": [
      "Dropping duplicate columns: ['Subject', 'site_id_l']\n"
     ]
    },
    {
     "name": "stderr",
     "output_type": "stream",
     "text": [
      "Cross-validation progress: 100%|██████████| 20/20 [00:00<00:00, 231.57it/s]"
     ]
    },
    {
     "name": "stdout",
     "output_type": "stream",
     "text": [
      "\n",
      "Site: site02 | Pearson r = 0.457 (p=0.000) | Partial η² = 0.110\n",
      "\n",
      "Site: site03 | Pearson r = 0.427 (p=0.000) | Partial η² = 0.152\n",
      "\n",
      "Site: site04 | Pearson r = 0.495 (p=0.000) | Partial η² = 0.245\n",
      "\n",
      "Site: site05 | Pearson r = 0.580 (p=0.000) | Partial η² = 0.334\n",
      "\n",
      "Site: site06 | Pearson r = 0.456 (p=0.000) | Partial η² = 0.190\n",
      "\n",
      "Site: site07 | Pearson r = 0.643 (p=0.000) | Partial η² = 0.387\n",
      "\n",
      "Site: site08 | Pearson r = 0.468 (p=0.000) | Partial η² = 0.086\n",
      "\n",
      "Site: site09 | Pearson r = 0.442 (p=0.000) | Partial η² = 0.096\n",
      "\n",
      "Site: site10 | Pearson r = 0.467 (p=0.000) | Partial η² = 0.211\n",
      "\n",
      "Site: site11 | Pearson r = 0.574 (p=0.000) | Partial η² = 0.305\n",
      "\n",
      "Site: site12 | Pearson r = 0.417 (p=0.000) | Partial η² = 0.095\n",
      "\n",
      "Site: site13 | Pearson r = 0.563 (p=0.000) | Partial η² = 0.307\n",
      "\n",
      "Site: site14 | Pearson r = 0.481 (p=0.000) | Partial η² = 0.226\n",
      "\n",
      "Site: site15 | Pearson r = 0.625 (p=0.000) | Partial η² = 0.383\n",
      "\n",
      "Site: site16 | Pearson r = 0.516 (p=0.000) | Partial η² = 0.257\n",
      "\n",
      "Site: site17 | Pearson r = 0.403 (p=0.000) | Partial η² = 0.141\n",
      "\n",
      "Site: site18 | Pearson r = 0.424 (p=0.000) | Partial η² = 0.166\n",
      "\n",
      "Site: site19 | Pearson r = 0.563 (p=0.000) | Partial η² = 0.308\n",
      "\n",
      "Site: site20 | Pearson r = 0.457 (p=0.000) | Partial η² = 0.158\n",
      "\n",
      "Site: site21 | Pearson r = 0.550 (p=0.000) | Partial η² = 0.291\n",
      "Cross-validated Performance Metrics:\n",
      "Average Pearson's r: 0.500\n",
      "Partial eta squared: 0.222\n",
      "R²: 0.222\n"
     ]
    },
    {
     "name": "stderr",
     "output_type": "stream",
     "text": [
      "\n"
     ]
    }
   ],
   "execution_count": 28
  },
  {
   "metadata": {
    "ExecuteTime": {
     "end_time": "2025-09-21T20:18:57.312555Z",
     "start_time": "2025-09-21T20:18:33.090331Z"
    }
   },
   "cell_type": "code",
   "source": [
    "avg_neg_strength_followup_B = compute_one_statistic(df_features=main_followup_B,\n",
    "                                                    df_network=conn_B_followup_df,\n",
    "                                                    regions=regions,\n",
    "                                                    stat_name=\"avg_negative_strength\",\n",
    "                                                    mode=\"all\",\n",
    "                                                    node_order=None,\n",
    "                                                    matrix_size=418,\n",
    "                                                    diag_value=0.0)\n"
   ],
   "id": "c5c7949ca82b5b5a",
   "outputs": [
    {
     "name": "stderr",
     "output_type": "stream",
     "text": [
      "100%|██████████| 2756/2756 [00:19<00:00, 138.42it/s]\n"
     ]
    }
   ],
   "execution_count": 29
  },
  {
   "metadata": {
    "ExecuteTime": {
     "end_time": "2025-09-21T20:18:57.465057Z",
     "start_time": "2025-09-21T20:18:57.364588Z"
    }
   },
   "cell_type": "code",
   "source": [
    "followup_B_plus = combine_data(main_followup_B, avg_neg_strength_followup_B)\n",
    "results_no_network, models_no_network = run_cross_validation(followup_B_plus.fillna(0.0), y_followup_B,\n",
    "                                                             use_network=False)\n",
    "print_cross_val_results(results_no_network)"
   ],
   "id": "c0d95c7da61b033e",
   "outputs": [
    {
     "name": "stdout",
     "output_type": "stream",
     "text": [
      "Dropping duplicate columns: ['Subject', 'site_id_l']\n"
     ]
    },
    {
     "name": "stderr",
     "output_type": "stream",
     "text": [
      "Cross-validation progress: 100%|██████████| 20/20 [00:00<00:00, 228.78it/s]"
     ]
    },
    {
     "name": "stdout",
     "output_type": "stream",
     "text": [
      "\n",
      "Site: site02 | Pearson r = 0.419 (p=0.000) | Partial η² = 0.170\n",
      "\n",
      "Site: site03 | Pearson r = 0.371 (p=0.000) | Partial η² = 0.128\n",
      "\n",
      "Site: site04 | Pearson r = 0.452 (p=0.000) | Partial η² = 0.155\n",
      "\n",
      "Site: site05 | Pearson r = 0.557 (p=0.000) | Partial η² = 0.288\n",
      "\n",
      "Site: site06 | Pearson r = 0.304 (p=0.002) | Partial η² = 0.030\n",
      "\n",
      "Site: site07 | Pearson r = 0.557 (p=0.000) | Partial η² = 0.279\n",
      "\n",
      "Site: site08 | Pearson r = 0.351 (p=0.002) | Partial η² = -0.000\n",
      "\n",
      "Site: site09 | Pearson r = 0.436 (p=0.001) | Partial η² = 0.105\n",
      "\n",
      "Site: site10 | Pearson r = 0.518 (p=0.000) | Partial η² = 0.258\n",
      "\n",
      "Site: site11 | Pearson r = 0.544 (p=0.000) | Partial η² = 0.287\n",
      "\n",
      "Site: site12 | Pearson r = 0.489 (p=0.000) | Partial η² = 0.237\n",
      "\n",
      "Site: site13 | Pearson r = 0.440 (p=0.000) | Partial η² = 0.182\n",
      "\n",
      "Site: site14 | Pearson r = 0.458 (p=0.000) | Partial η² = 0.209\n",
      "\n",
      "Site: site15 | Pearson r = 0.735 (p=0.000) | Partial η² = 0.484\n",
      "\n",
      "Site: site16 | Pearson r = 0.392 (p=0.000) | Partial η² = 0.145\n",
      "\n",
      "Site: site17 | Pearson r = 0.385 (p=0.000) | Partial η² = -0.046\n",
      "\n",
      "Site: site18 | Pearson r = 0.388 (p=0.000) | Partial η² = 0.144\n",
      "\n",
      "Site: site19 | Pearson r = 0.322 (p=0.003) | Partial η² = 0.053\n",
      "\n",
      "Site: site20 | Pearson r = 0.567 (p=0.000) | Partial η² = 0.287\n",
      "\n",
      "Site: site21 | Pearson r = 0.596 (p=0.000) | Partial η² = 0.350\n",
      "Cross-validated Performance Metrics:\n",
      "Average Pearson's r: 0.464\n",
      "Partial eta squared: 0.187\n",
      "R²: 0.187\n"
     ]
    },
    {
     "name": "stderr",
     "output_type": "stream",
     "text": [
      "\n"
     ]
    }
   ],
   "execution_count": 30
  },
  {
   "metadata": {},
   "cell_type": "markdown",
   "source": [
    "#### Negative strength (one value for each region, 15 values total)\n",
    "| **Case**                | **PC Condition** | **Average Pearson's r** | **Cross-validated Partial η² (avg)** |\n",
    "|-------------------------|------------------|-------------------------|--------------------------------------|\n",
    "| B\\_baseline + statistic |                  | 0.500                   | 0.222                                |\n",
    "| B\\_baseline             | none             | 0.502                   | 0.223                                |\n",
    "| B\\_baseline             | 15 PCs           | 0.512                   | 0.237                                |\n",
    "| B\\_baseline             | 100 PCs          | 0.530                   | 0.261                                |\n",
    "| B\\_followup + statistic |                  | 0.464                   | 0.187                                |\n",
    "| B\\_followup             | none             | 0.463                   | 0.188                                |\n",
    "| B\\_followup             | 15 PCs           | 0.473                   | 0.197                                |\n",
    "| B\\_followup             | 100 PCs          | 0.519                   | 0.241                                |"
   ],
   "id": "e178ac4c61440ec5"
  },
  {
   "metadata": {
    "ExecuteTime": {
     "end_time": "2025-09-21T20:27:20.425019Z",
     "start_time": "2025-09-21T20:26:36.525552Z"
    }
   },
   "cell_type": "code",
   "source": [
    "avg_total_strength_baseline_B = compute_one_statistic(df_features=main_baseline_B,\n",
    "                                                    df_network=conn_B_baseline_df,\n",
    "                                                    regions=regions,\n",
    "                                                    stat_name=\"avg_total_strength\",\n",
    "                                                    mode=\"all\",\n",
    "                                                    node_order=None,\n",
    "                                                    matrix_size=418,\n",
    "                                                    diag_value=0.0)\n",
    "baseline_B_plus = combine_data(main_baseline_B, avg_total_strength_baseline_B)\n",
    "results_no_network, models_no_network = run_cross_validation(baseline_B_plus, y_baseline_B, use_network=False)\n",
    "print_cross_val_results(results_no_network)"
   ],
   "id": "7137f5edecf6a1a2",
   "outputs": [
    {
     "name": "stderr",
     "output_type": "stream",
     "text": [
      "100%|██████████| 4321/4321 [00:38<00:00, 113.48it/s]\n"
     ]
    },
    {
     "name": "stdout",
     "output_type": "stream",
     "text": [
      "Dropping duplicate columns: ['Subject', 'site_id_l']\n"
     ]
    },
    {
     "name": "stderr",
     "output_type": "stream",
     "text": [
      "Cross-validation progress: 100%|██████████| 20/20 [00:00<00:00, 212.39it/s]"
     ]
    },
    {
     "name": "stdout",
     "output_type": "stream",
     "text": [
      "\n",
      "Site: site02 | Pearson r = 0.474 (p=0.000) | Partial η² = 0.124\n",
      "\n",
      "Site: site03 | Pearson r = 0.430 (p=0.000) | Partial η² = 0.153\n",
      "\n",
      "Site: site04 | Pearson r = 0.502 (p=0.000) | Partial η² = 0.250\n",
      "\n",
      "Site: site05 | Pearson r = 0.587 (p=0.000) | Partial η² = 0.341\n",
      "\n",
      "Site: site06 | Pearson r = 0.454 (p=0.000) | Partial η² = 0.191\n",
      "\n",
      "Site: site07 | Pearson r = 0.650 (p=0.000) | Partial η² = 0.394\n",
      "\n",
      "Site: site08 | Pearson r = 0.472 (p=0.000) | Partial η² = 0.090\n",
      "\n",
      "Site: site09 | Pearson r = 0.427 (p=0.000) | Partial η² = 0.071\n",
      "\n",
      "Site: site10 | Pearson r = 0.468 (p=0.000) | Partial η² = 0.212\n",
      "\n",
      "Site: site11 | Pearson r = 0.573 (p=0.000) | Partial η² = 0.300\n",
      "\n",
      "Site: site12 | Pearson r = 0.431 (p=0.000) | Partial η² = 0.115\n",
      "\n",
      "Site: site13 | Pearson r = 0.569 (p=0.000) | Partial η² = 0.317\n",
      "\n",
      "Site: site14 | Pearson r = 0.476 (p=0.000) | Partial η² = 0.222\n",
      "\n",
      "Site: site15 | Pearson r = 0.620 (p=0.000) | Partial η² = 0.375\n",
      "\n",
      "Site: site16 | Pearson r = 0.518 (p=0.000) | Partial η² = 0.260\n",
      "\n",
      "Site: site17 | Pearson r = 0.389 (p=0.000) | Partial η² = 0.128\n",
      "\n",
      "Site: site18 | Pearson r = 0.431 (p=0.000) | Partial η² = 0.160\n",
      "\n",
      "Site: site19 | Pearson r = 0.569 (p=0.000) | Partial η² = 0.306\n",
      "\n",
      "Site: site20 | Pearson r = 0.462 (p=0.000) | Partial η² = 0.163\n",
      "\n",
      "Site: site21 | Pearson r = 0.548 (p=0.000) | Partial η² = 0.289\n",
      "Cross-validated Performance Metrics:\n",
      "Average Pearson's r: 0.502\n",
      "Partial eta squared: 0.223\n",
      "R²: 0.223\n"
     ]
    },
    {
     "name": "stderr",
     "output_type": "stream",
     "text": [
      "\n"
     ]
    }
   ],
   "execution_count": 31
  },
  {
   "metadata": {
    "ExecuteTime": {
     "end_time": "2025-09-21T20:28:23.269911Z",
     "start_time": "2025-09-21T20:27:58.615646Z"
    }
   },
   "cell_type": "code",
   "source": [
    "avg_total_strength_followup_B = compute_one_statistic(df_features=main_followup_B,\n",
    "                                                    df_network=conn_B_followup_df,\n",
    "                                                    regions=regions,\n",
    "                                                    stat_name=\"avg_total_strength\",\n",
    "                                                    mode=\"all\",\n",
    "                                                    node_order=None,\n",
    "                                                    matrix_size=418,\n",
    "                                                    diag_value=0.0)\n",
    "\n",
    "followup_B_plus = combine_data(main_followup_B, avg_total_strength_followup_B)\n",
    "results_no_network, models_no_network = run_cross_validation(followup_B_plus.fillna(0.0), y_followup_B,\n",
    "                                                             use_network=False)\n",
    "print_cross_val_results(results_no_network)"
   ],
   "id": "1ce7a80d1a7593f6",
   "outputs": [
    {
     "name": "stderr",
     "output_type": "stream",
     "text": [
      "100%|██████████| 2756/2756 [00:20<00:00, 134.64it/s]\n"
     ]
    },
    {
     "name": "stdout",
     "output_type": "stream",
     "text": [
      "Dropping duplicate columns: ['Subject', 'site_id_l']\n"
     ]
    },
    {
     "name": "stderr",
     "output_type": "stream",
     "text": [
      "Cross-validation progress: 100%|██████████| 20/20 [00:00<00:00, 300.52it/s]"
     ]
    },
    {
     "name": "stdout",
     "output_type": "stream",
     "text": [
      "\n",
      "Site: site02 | Pearson r = 0.422 (p=0.000) | Partial η² = 0.173\n",
      "\n",
      "Site: site03 | Pearson r = 0.379 (p=0.000) | Partial η² = 0.134\n",
      "\n",
      "Site: site04 | Pearson r = 0.449 (p=0.000) | Partial η² = 0.139\n",
      "\n",
      "Site: site05 | Pearson r = 0.572 (p=0.000) | Partial η² = 0.308\n",
      "\n",
      "Site: site06 | Pearson r = 0.310 (p=0.002) | Partial η² = 0.037\n",
      "\n",
      "Site: site07 | Pearson r = 0.538 (p=0.000) | Partial η² = 0.261\n",
      "\n",
      "Site: site08 | Pearson r = 0.363 (p=0.001) | Partial η² = 0.028\n",
      "\n",
      "Site: site09 | Pearson r = 0.395 (p=0.003) | Partial η² = 0.064\n",
      "\n",
      "Site: site10 | Pearson r = 0.510 (p=0.000) | Partial η² = 0.249\n",
      "\n",
      "Site: site11 | Pearson r = 0.548 (p=0.000) | Partial η² = 0.270\n",
      "\n",
      "Site: site12 | Pearson r = 0.496 (p=0.000) | Partial η² = 0.243\n",
      "\n",
      "Site: site13 | Pearson r = 0.446 (p=0.000) | Partial η² = 0.191\n",
      "\n",
      "Site: site14 | Pearson r = 0.472 (p=0.000) | Partial η² = 0.220\n",
      "\n",
      "Site: site15 | Pearson r = 0.745 (p=0.000) | Partial η² = 0.500\n",
      "\n",
      "Site: site16 | Pearson r = 0.378 (p=0.000) | Partial η² = 0.134\n",
      "\n",
      "Site: site17 | Pearson r = 0.362 (p=0.000) | Partial η² = -0.030\n",
      "\n",
      "Site: site18 | Pearson r = 0.368 (p=0.000) | Partial η² = 0.125\n",
      "\n",
      "Site: site19 | Pearson r = 0.350 (p=0.001) | Partial η² = 0.086\n",
      "\n",
      "Site: site20 | Pearson r = 0.577 (p=0.000) | Partial η² = 0.304\n",
      "\n",
      "Site: site21 | Pearson r = 0.602 (p=0.000) | Partial η² = 0.355\n",
      "Cross-validated Performance Metrics:\n",
      "Average Pearson's r: 0.464\n",
      "Partial eta squared: 0.190\n",
      "R²: 0.190\n"
     ]
    },
    {
     "name": "stderr",
     "output_type": "stream",
     "text": [
      "\n"
     ]
    }
   ],
   "execution_count": 32
  },
  {
   "metadata": {},
   "cell_type": "markdown",
   "source": [
    "#### Total strength (one value for each region, 15 values total)\n",
    "| **Case**                | **PC Condition** | **Average Pearson's r** | **Cross-validated Partial η² (avg)** |\n",
    "|-------------------------|------------------|-------------------------|--------------------------------------|\n",
    "| B\\_baseline + statistic |                  | 0.502                   | 0.223                                |\n",
    "| B\\_baseline             | none             | 0.502                   | 0.223                                |\n",
    "| B\\_baseline             | 15 PCs           | 0.512                   | 0.237                                |\n",
    "| B\\_baseline             | 100 PCs          | 0.530                   | 0.261                                |\n",
    "| B\\_followup + statistic |                  | 0.464                   | 0.190                                |\n",
    "| B\\_followup             | none             | 0.463                   | 0.188                                |\n",
    "| B\\_followup             | 15 PCs           | 0.473                   | 0.197                                |\n",
    "| B\\_followup             | 100 PCs          | 0.519                   | 0.241                                |"
   ],
   "id": "32e92b784871f60e"
  },
  {
   "metadata": {
    "ExecuteTime": {
     "end_time": "2025-09-21T20:34:42.598200Z",
     "start_time": "2025-09-21T20:33:58.740982Z"
    }
   },
   "cell_type": "code",
   "source": [
    "within_pos_mean_baseline_B = compute_one_statistic(df_features=main_baseline_B,\n",
    "                                                    df_network=conn_B_baseline_df,\n",
    "                                                    regions=regions,\n",
    "                                                    stat_name=\"within_positive_mean\",\n",
    "                                                    mode=\"all\",\n",
    "                                                    node_order=None,\n",
    "                                                    matrix_size=418,\n",
    "                                                    diag_value=0.0)\n"
   ],
   "id": "9e77ef135747da0c",
   "outputs": [
    {
     "name": "stderr",
     "output_type": "stream",
     "text": [
      "100%|██████████| 4321/4321 [00:37<00:00, 116.10it/s]\n"
     ]
    }
   ],
   "execution_count": 33
  },
  {
   "metadata": {
    "ExecuteTime": {
     "end_time": "2025-09-21T20:35:01.164574Z",
     "start_time": "2025-09-21T20:35:01.063435Z"
    }
   },
   "cell_type": "code",
   "source": [
    "baseline_B_plus = combine_data(main_baseline_B, within_pos_mean_baseline_B)\n",
    "results_no_network, models_no_network = run_cross_validation(baseline_B_plus, y_baseline_B, use_network=False)\n",
    "print_cross_val_results(results_no_network)"
   ],
   "id": "854542aca8f8a587",
   "outputs": [
    {
     "name": "stdout",
     "output_type": "stream",
     "text": [
      "Dropping duplicate columns: ['Subject', 'site_id_l']\n"
     ]
    },
    {
     "name": "stderr",
     "output_type": "stream",
     "text": [
      "Cross-validation progress: 100%|██████████| 20/20 [00:00<00:00, 211.69it/s]"
     ]
    },
    {
     "name": "stdout",
     "output_type": "stream",
     "text": [
      "\n",
      "Site: site02 | Pearson r = 0.461 (p=0.000) | Partial η² = 0.082\n",
      "\n",
      "Site: site03 | Pearson r = 0.434 (p=0.000) | Partial η² = 0.166\n",
      "\n",
      "Site: site04 | Pearson r = 0.495 (p=0.000) | Partial η² = 0.243\n",
      "\n",
      "Site: site05 | Pearson r = 0.581 (p=0.000) | Partial η² = 0.335\n",
      "\n",
      "Site: site06 | Pearson r = 0.458 (p=0.000) | Partial η² = 0.195\n",
      "\n",
      "Site: site07 | Pearson r = 0.644 (p=0.000) | Partial η² = 0.391\n",
      "\n",
      "Site: site08 | Pearson r = 0.462 (p=0.000) | Partial η² = 0.073\n",
      "\n",
      "Site: site09 | Pearson r = 0.442 (p=0.000) | Partial η² = 0.094\n",
      "\n",
      "Site: site10 | Pearson r = 0.469 (p=0.000) | Partial η² = 0.215\n",
      "\n",
      "Site: site11 | Pearson r = 0.588 (p=0.000) | Partial η² = 0.305\n",
      "\n",
      "Site: site12 | Pearson r = 0.427 (p=0.000) | Partial η² = 0.108\n",
      "\n",
      "Site: site13 | Pearson r = 0.553 (p=0.000) | Partial η² = 0.298\n",
      "\n",
      "Site: site14 | Pearson r = 0.481 (p=0.000) | Partial η² = 0.226\n",
      "\n",
      "Site: site15 | Pearson r = 0.631 (p=0.000) | Partial η² = 0.388\n",
      "\n",
      "Site: site16 | Pearson r = 0.521 (p=0.000) | Partial η² = 0.265\n",
      "\n",
      "Site: site17 | Pearson r = 0.390 (p=0.000) | Partial η² = 0.106\n",
      "\n",
      "Site: site18 | Pearson r = 0.427 (p=0.000) | Partial η² = 0.155\n",
      "\n",
      "Site: site19 | Pearson r = 0.566 (p=0.000) | Partial η² = 0.302\n",
      "\n",
      "Site: site20 | Pearson r = 0.464 (p=0.000) | Partial η² = 0.168\n",
      "\n",
      "Site: site21 | Pearson r = 0.565 (p=0.000) | Partial η² = 0.304\n",
      "Cross-validated Performance Metrics:\n",
      "Average Pearson's r: 0.503\n",
      "Partial eta squared: 0.221\n",
      "R²: 0.221\n"
     ]
    },
    {
     "name": "stderr",
     "output_type": "stream",
     "text": [
      "\n"
     ]
    }
   ],
   "execution_count": 35
  },
  {
   "metadata": {
    "ExecuteTime": {
     "end_time": "2025-09-21T20:36:32.636163Z",
     "start_time": "2025-09-21T20:36:05.538067Z"
    }
   },
   "cell_type": "code",
   "source": [
    "within_pos_mean_followup_B = compute_one_statistic(df_features=main_followup_B,\n",
    "                                                    df_network=conn_B_followup_df,\n",
    "                                                    regions=regions,\n",
    "                                                    stat_name=\"within_positive_mean\",\n",
    "                                                    mode=\"all\",\n",
    "                                                    node_order=None,\n",
    "                                                    matrix_size=418,\n",
    "                                                    diag_value=0.0)\n",
    "\n",
    "followup_B_plus = combine_data(main_followup_B,within_pos_mean_followup_B )\n",
    "results_no_network, models_no_network = run_cross_validation(followup_B_plus.fillna(0.0), y_followup_B,\n",
    "                                                             use_network=False)\n",
    "print_cross_val_results(results_no_network)"
   ],
   "id": "96c8d8205b3eaea8",
   "outputs": [
    {
     "name": "stderr",
     "output_type": "stream",
     "text": [
      "100%|██████████| 2756/2756 [00:21<00:00, 128.57it/s]\n"
     ]
    },
    {
     "name": "stdout",
     "output_type": "stream",
     "text": [
      "Dropping duplicate columns: ['Subject', 'site_id_l']\n"
     ]
    },
    {
     "name": "stderr",
     "output_type": "stream",
     "text": [
      "Cross-validation progress: 100%|██████████| 20/20 [00:00<00:00, 339.80it/s]"
     ]
    },
    {
     "name": "stdout",
     "output_type": "stream",
     "text": [
      "\n",
      "Site: site02 | Pearson r = 0.403 (p=0.000) | Partial η² = 0.148\n",
      "\n",
      "Site: site03 | Pearson r = 0.358 (p=0.000) | Partial η² = 0.116\n",
      "\n",
      "Site: site04 | Pearson r = 0.436 (p=0.000) | Partial η² = 0.132\n",
      "\n",
      "Site: site05 | Pearson r = 0.558 (p=0.000) | Partial η² = 0.287\n",
      "\n",
      "Site: site06 | Pearson r = 0.301 (p=0.002) | Partial η² = 0.029\n",
      "\n",
      "Site: site07 | Pearson r = 0.544 (p=0.000) | Partial η² = 0.274\n",
      "\n",
      "Site: site08 | Pearson r = 0.354 (p=0.001) | Partial η² = 0.022\n",
      "\n",
      "Site: site09 | Pearson r = 0.394 (p=0.003) | Partial η² = 0.064\n",
      "\n",
      "Site: site10 | Pearson r = 0.514 (p=0.000) | Partial η² = 0.248\n",
      "\n",
      "Site: site11 | Pearson r = 0.545 (p=0.000) | Partial η² = 0.293\n",
      "\n",
      "Site: site12 | Pearson r = 0.512 (p=0.000) | Partial η² = 0.262\n",
      "\n",
      "Site: site13 | Pearson r = 0.454 (p=0.000) | Partial η² = 0.196\n",
      "\n",
      "Site: site14 | Pearson r = 0.495 (p=0.000) | Partial η² = 0.244\n",
      "\n",
      "Site: site15 | Pearson r = 0.718 (p=0.000) | Partial η² = 0.452\n",
      "\n",
      "Site: site16 | Pearson r = 0.349 (p=0.000) | Partial η² = 0.110\n",
      "\n",
      "Site: site17 | Pearson r = 0.369 (p=0.000) | Partial η² = -0.094\n",
      "\n",
      "Site: site18 | Pearson r = 0.403 (p=0.000) | Partial η² = 0.155\n",
      "\n",
      "Site: site19 | Pearson r = 0.329 (p=0.002) | Partial η² = 0.060\n",
      "\n",
      "Site: site20 | Pearson r = 0.583 (p=0.000) | Partial η² = 0.304\n",
      "\n",
      "Site: site21 | Pearson r = 0.618 (p=0.000) | Partial η² = 0.373\n",
      "Cross-validated Performance Metrics:\n",
      "Average Pearson's r: 0.462\n",
      "Partial eta squared: 0.184\n",
      "R²: 0.184\n"
     ]
    },
    {
     "name": "stderr",
     "output_type": "stream",
     "text": [
      "\n"
     ]
    }
   ],
   "execution_count": 36
  },
  {
   "metadata": {},
   "cell_type": "markdown",
   "source": [
    "#### Within positive connectivity (one value for each region, 15 values total)\n",
    "| **Case**                | **PC Condition** | **Average Pearson's r** | **Cross-validated Partial η² (avg)** |\n",
    "|-------------------------|------------------|-------------------------|--------------------------------------|\n",
    "| B\\_baseline + statistic |                  | 0.503                   | 0.221                                |\n",
    "| B\\_baseline             | none             | 0.502                   | 0.223                                |\n",
    "| B\\_baseline             | 15 PCs           | 0.512                   | 0.237                                |\n",
    "| B\\_baseline             | 100 PCs          | 0.530                   | 0.261                                |\n",
    "| B\\_followup + statistic |                  | 0.462                   | 0.184                                |\n",
    "| B\\_followup             | none             | 0.463                   | 0.188                                |\n",
    "| B\\_followup             | 15 PCs           | 0.473                   | 0.197                                |\n",
    "| B\\_followup             | 100 PCs          | 0.519                   | 0.241                                |"
   ],
   "id": "853156b5ca834773"
  },
  {
   "metadata": {
    "ExecuteTime": {
     "end_time": "2025-09-21T20:53:24.928759Z",
     "start_time": "2025-09-21T20:52:42.667206Z"
    }
   },
   "cell_type": "code",
   "source": [
    "between_pos_mean_baseline_B = compute_one_statistic(df_features=main_baseline_B,\n",
    "                                                    df_network=conn_B_baseline_df,\n",
    "                                                    regions=regions,\n",
    "                                                    stat_name=\"between_positive_mean\",\n",
    "                                                    mode=\"all\",\n",
    "                                                    node_order=None,\n",
    "                                                    matrix_size=418,\n",
    "                                                    diag_value=0.0)\n",
    "baseline_B_plus = combine_data(main_baseline_B, between_pos_mean_baseline_B)\n",
    "results_no_network, models_no_network = run_cross_validation(baseline_B_plus, y_baseline_B, use_network=False)\n",
    "print_cross_val_results(results_no_network)"
   ],
   "id": "53bc0c6d0ce9e1f0",
   "outputs": [
    {
     "name": "stderr",
     "output_type": "stream",
     "text": [
      "100%|██████████| 4321/4321 [00:36<00:00, 118.50it/s]\n"
     ]
    },
    {
     "name": "stdout",
     "output_type": "stream",
     "text": [
      "Dropping duplicate columns: ['Subject', 'site_id_l']\n"
     ]
    },
    {
     "name": "stderr",
     "output_type": "stream",
     "text": [
      "Cross-validation progress: 100%|██████████| 20/20 [00:00<00:00, 206.71it/s]"
     ]
    },
    {
     "name": "stdout",
     "output_type": "stream",
     "text": [
      "\n",
      "Site: site02 | Pearson r = 0.478 (p=0.000) | Partial η² = 0.137\n",
      "\n",
      "Site: site03 | Pearson r = 0.437 (p=0.000) | Partial η² = 0.166\n",
      "\n",
      "Site: site04 | Pearson r = 0.497 (p=0.000) | Partial η² = 0.247\n",
      "\n",
      "Site: site05 | Pearson r = 0.582 (p=0.000) | Partial η² = 0.335\n",
      "\n",
      "Site: site06 | Pearson r = 0.459 (p=0.000) | Partial η² = 0.194\n",
      "\n",
      "Site: site07 | Pearson r = 0.648 (p=0.000) | Partial η² = 0.392\n",
      "\n",
      "Site: site08 | Pearson r = 0.475 (p=0.000) | Partial η² = 0.108\n",
      "\n",
      "Site: site09 | Pearson r = 0.428 (p=0.000) | Partial η² = 0.060\n",
      "\n",
      "Site: site10 | Pearson r = 0.467 (p=0.000) | Partial η² = 0.212\n",
      "\n",
      "Site: site11 | Pearson r = 0.573 (p=0.000) | Partial η² = 0.303\n",
      "\n",
      "Site: site12 | Pearson r = 0.427 (p=0.000) | Partial η² = 0.102\n",
      "\n",
      "Site: site13 | Pearson r = 0.563 (p=0.000) | Partial η² = 0.303\n",
      "\n",
      "Site: site14 | Pearson r = 0.481 (p=0.000) | Partial η² = 0.224\n",
      "\n",
      "Site: site15 | Pearson r = 0.618 (p=0.000) | Partial η² = 0.375\n",
      "\n",
      "Site: site16 | Pearson r = 0.520 (p=0.000) | Partial η² = 0.260\n",
      "\n",
      "Site: site17 | Pearson r = 0.395 (p=0.000) | Partial η² = 0.138\n",
      "\n",
      "Site: site18 | Pearson r = 0.425 (p=0.000) | Partial η² = 0.163\n",
      "\n",
      "Site: site19 | Pearson r = 0.569 (p=0.000) | Partial η² = 0.305\n",
      "\n",
      "Site: site20 | Pearson r = 0.465 (p=0.000) | Partial η² = 0.171\n",
      "\n",
      "Site: site21 | Pearson r = 0.548 (p=0.000) | Partial η² = 0.287\n",
      "Cross-validated Performance Metrics:\n",
      "Average Pearson's r: 0.503\n",
      "Partial eta squared: 0.224\n",
      "R²: 0.224\n"
     ]
    },
    {
     "name": "stderr",
     "output_type": "stream",
     "text": [
      "\n"
     ]
    }
   ],
   "execution_count": 37
  },
  {
   "metadata": {
    "ExecuteTime": {
     "end_time": "2025-09-21T20:54:01.163273Z",
     "start_time": "2025-09-21T20:53:34.671286Z"
    }
   },
   "cell_type": "code",
   "source": [
    "between_pos_mean_followup_B = compute_one_statistic(df_features=main_followup_B,\n",
    "                                                    df_network=conn_B_followup_df,\n",
    "                                                    regions=regions,\n",
    "                                                    stat_name=\"between_positive_mean\",\n",
    "                                                    mode=\"all\",\n",
    "                                                    node_order=None,\n",
    "                                                    matrix_size=418,\n",
    "                                                    diag_value=0.0)\n",
    "\n",
    "followup_B_plus = combine_data(main_followup_B,between_pos_mean_followup_B )\n",
    "results_no_network, models_no_network = run_cross_validation(followup_B_plus.fillna(0.0), y_followup_B,\n",
    "                                                             use_network=False)\n",
    "print_cross_val_results(results_no_network)"
   ],
   "id": "5d6ccea75257c8fd",
   "outputs": [
    {
     "name": "stderr",
     "output_type": "stream",
     "text": [
      "100%|██████████| 2756/2756 [00:21<00:00, 127.42it/s]\n"
     ]
    },
    {
     "name": "stdout",
     "output_type": "stream",
     "text": [
      "Dropping duplicate columns: ['Subject', 'site_id_l']\n"
     ]
    },
    {
     "name": "stderr",
     "output_type": "stream",
     "text": [
      "Cross-validation progress: 100%|██████████| 20/20 [00:00<00:00, 253.31it/s]"
     ]
    },
    {
     "name": "stdout",
     "output_type": "stream",
     "text": [
      "\n",
      "Site: site02 | Pearson r = 0.403 (p=0.000) | Partial η² = 0.158\n",
      "\n",
      "Site: site03 | Pearson r = 0.380 (p=0.000) | Partial η² = 0.136\n",
      "\n",
      "Site: site04 | Pearson r = 0.449 (p=0.000) | Partial η² = 0.133\n",
      "\n",
      "Site: site05 | Pearson r = 0.574 (p=0.000) | Partial η² = 0.309\n",
      "\n",
      "Site: site06 | Pearson r = 0.295 (p=0.003) | Partial η² = 0.021\n",
      "\n",
      "Site: site07 | Pearson r = 0.537 (p=0.000) | Partial η² = 0.256\n",
      "\n",
      "Site: site08 | Pearson r = 0.369 (p=0.001) | Partial η² = 0.045\n",
      "\n",
      "Site: site09 | Pearson r = 0.380 (p=0.005) | Partial η² = 0.035\n",
      "\n",
      "Site: site10 | Pearson r = 0.516 (p=0.000) | Partial η² = 0.257\n",
      "\n",
      "Site: site11 | Pearson r = 0.509 (p=0.000) | Partial η² = 0.186\n",
      "\n",
      "Site: site12 | Pearson r = 0.505 (p=0.000) | Partial η² = 0.253\n",
      "\n",
      "Site: site13 | Pearson r = 0.457 (p=0.000) | Partial η² = 0.203\n",
      "\n",
      "Site: site14 | Pearson r = 0.474 (p=0.000) | Partial η² = 0.223\n",
      "\n",
      "Site: site15 | Pearson r = 0.736 (p=0.000) | Partial η² = 0.493\n",
      "\n",
      "Site: site16 | Pearson r = 0.383 (p=0.000) | Partial η² = 0.140\n",
      "\n",
      "Site: site17 | Pearson r = 0.348 (p=0.000) | Partial η² = -0.050\n",
      "\n",
      "Site: site18 | Pearson r = 0.368 (p=0.000) | Partial η² = 0.126\n",
      "\n",
      "Site: site19 | Pearson r = 0.344 (p=0.001) | Partial η² = 0.076\n",
      "\n",
      "Site: site20 | Pearson r = 0.580 (p=0.000) | Partial η² = 0.311\n",
      "\n",
      "Site: site21 | Pearson r = 0.615 (p=0.000) | Partial η² = 0.369\n",
      "Cross-validated Performance Metrics:\n",
      "Average Pearson's r: 0.461\n",
      "Partial eta squared: 0.184\n",
      "R²: 0.184\n"
     ]
    },
    {
     "name": "stderr",
     "output_type": "stream",
     "text": [
      "\n"
     ]
    }
   ],
   "execution_count": 38
  },
  {
   "metadata": {},
   "cell_type": "markdown",
   "source": [
    "#### Between positive connectivity (one value for each region, 15 values total)\n",
    "| **Case**                | **PC Condition** | **Average Pearson's r** | **Cross-validated Partial η² (avg)** |\n",
    "|-------------------------|------------------|-------------------------|--------------------------------------|\n",
    "| B\\_baseline + statistic |                  | 0.503                   | 0.224                                |\n",
    "| B\\_baseline             | none             | 0.502                   | 0.223                                |\n",
    "| B\\_baseline             | 15 PCs           | 0.512                   | 0.237                                |\n",
    "| B\\_baseline             | 100 PCs          | 0.530                   | 0.261                                |\n",
    "| B\\_followup + statistic |                  | 0.461                   | 0.184                                |\n",
    "| B\\_followup             | none             | 0.463                   | 0.188                                |\n",
    "| B\\_followup             | 15 PCs           | 0.473                   | 0.197                                |\n",
    "| B\\_followup             | 100 PCs          | 0.519                   | 0.241                                |"
   ],
   "id": "f2fee79352006dc1"
  },
  {
   "metadata": {
    "ExecuteTime": {
     "end_time": "2025-09-21T21:00:17.479454Z",
     "start_time": "2025-09-21T20:59:34.192174Z"
    }
   },
   "cell_type": "code",
   "source": [
    "within_neg_mean_baseline_B = compute_one_statistic(df_features=main_baseline_B,\n",
    "                                                    df_network=conn_B_baseline_df,\n",
    "                                                    regions=regions,\n",
    "                                                    stat_name=\"within_negative_mean\",\n",
    "                                                    mode=\"all\",\n",
    "                                                    node_order=None,\n",
    "                                                    matrix_size=418,\n",
    "                                                    diag_value=0.0)\n",
    "baseline_B_plus = combine_data(main_baseline_B, within_neg_mean_baseline_B)\n",
    "results_no_network, models_no_network = run_cross_validation(baseline_B_plus, y_baseline_B, use_network=False)\n",
    "print_cross_val_results(results_no_network)"
   ],
   "id": "542b124d27be9d3a",
   "outputs": [
    {
     "name": "stderr",
     "output_type": "stream",
     "text": [
      "100%|██████████| 4321/4321 [00:37<00:00, 116.19it/s]\n"
     ]
    },
    {
     "name": "stdout",
     "output_type": "stream",
     "text": [
      "Dropping duplicate columns: ['Subject', 'site_id_l']\n"
     ]
    },
    {
     "name": "stderr",
     "output_type": "stream",
     "text": [
      "Cross-validation progress: 100%|██████████| 20/20 [00:00<00:00, 202.54it/s]"
     ]
    },
    {
     "name": "stdout",
     "output_type": "stream",
     "text": [
      "\n",
      "Site: site02 | Pearson r = 0.451 (p=0.000) | Partial η² = 0.087\n",
      "\n",
      "Site: site03 | Pearson r = 0.431 (p=0.000) | Partial η² = 0.156\n",
      "\n",
      "Site: site04 | Pearson r = 0.498 (p=0.000) | Partial η² = 0.246\n",
      "\n",
      "Site: site05 | Pearson r = 0.576 (p=0.000) | Partial η² = 0.328\n",
      "\n",
      "Site: site06 | Pearson r = 0.440 (p=0.000) | Partial η² = 0.177\n",
      "\n",
      "Site: site07 | Pearson r = 0.645 (p=0.000) | Partial η² = 0.388\n",
      "\n",
      "Site: site08 | Pearson r = 0.475 (p=0.000) | Partial η² = 0.073\n",
      "\n",
      "Site: site09 | Pearson r = 0.454 (p=0.000) | Partial η² = 0.104\n",
      "\n",
      "Site: site10 | Pearson r = 0.449 (p=0.000) | Partial η² = 0.190\n",
      "\n",
      "Site: site11 | Pearson r = 0.578 (p=0.000) | Partial η² = 0.305\n",
      "\n",
      "Site: site12 | Pearson r = 0.415 (p=0.000) | Partial η² = 0.103\n",
      "\n",
      "Site: site13 | Pearson r = 0.570 (p=0.000) | Partial η² = 0.319\n",
      "\n",
      "Site: site14 | Pearson r = 0.476 (p=0.000) | Partial η² = 0.220\n",
      "\n",
      "Site: site15 | Pearson r = 0.625 (p=0.000) | Partial η² = 0.382\n",
      "\n",
      "Site: site16 | Pearson r = 0.510 (p=0.000) | Partial η² = 0.254\n",
      "\n",
      "Site: site17 | Pearson r = 0.404 (p=0.000) | Partial η² = 0.141\n",
      "\n",
      "Site: site18 | Pearson r = 0.429 (p=0.000) | Partial η² = 0.148\n",
      "\n",
      "Site: site19 | Pearson r = 0.566 (p=0.000) | Partial η² = 0.305\n",
      "\n",
      "Site: site20 | Pearson r = 0.466 (p=0.000) | Partial η² = 0.172\n",
      "\n",
      "Site: site21 | Pearson r = 0.559 (p=0.000) | Partial η² = 0.297\n",
      "Cross-validated Performance Metrics:\n",
      "Average Pearson's r: 0.501\n",
      "Partial eta squared: 0.220\n",
      "R²: 0.220\n"
     ]
    },
    {
     "name": "stderr",
     "output_type": "stream",
     "text": [
      "\n"
     ]
    }
   ],
   "execution_count": 40
  },
  {
   "metadata": {
    "ExecuteTime": {
     "end_time": "2025-09-21T21:00:41.155645Z",
     "start_time": "2025-09-21T21:00:17.576386Z"
    }
   },
   "cell_type": "code",
   "source": [
    "within_neg_mean_followup_B = compute_one_statistic(df_features=main_followup_B,\n",
    "                                                    df_network=conn_B_followup_df,\n",
    "                                                    regions=regions,\n",
    "                                                    stat_name=\"within_negative_mean\",\n",
    "                                                    mode=\"all\",\n",
    "                                                    node_order=None,\n",
    "                                                    matrix_size=418,\n",
    "                                                    diag_value=0.0)\n",
    "\n",
    "followup_B_plus = combine_data(main_followup_B, within_neg_mean_followup_B )\n",
    "results_no_network, models_no_network = run_cross_validation(followup_B_plus.fillna(0.0), y_followup_B,\n",
    "                                                             use_network=False)\n",
    "print_cross_val_results(results_no_network)"
   ],
   "id": "e0cfac4d2e9c5c45",
   "outputs": [
    {
     "name": "stderr",
     "output_type": "stream",
     "text": [
      "100%|██████████| 2756/2756 [00:19<00:00, 140.35it/s]\n"
     ]
    },
    {
     "name": "stdout",
     "output_type": "stream",
     "text": [
      "Dropping duplicate columns: ['Subject', 'site_id_l']\n"
     ]
    },
    {
     "name": "stderr",
     "output_type": "stream",
     "text": [
      "Cross-validation progress: 100%|██████████| 20/20 [00:00<00:00, 323.71it/s]"
     ]
    },
    {
     "name": "stdout",
     "output_type": "stream",
     "text": [
      "\n",
      "Site: site02 | Pearson r = 0.415 (p=0.000) | Partial η² = 0.166\n",
      "\n",
      "Site: site03 | Pearson r = 0.376 (p=0.000) | Partial η² = 0.133\n",
      "\n",
      "Site: site04 | Pearson r = 0.427 (p=0.000) | Partial η² = 0.132\n",
      "\n",
      "Site: site05 | Pearson r = 0.566 (p=0.000) | Partial η² = 0.296\n",
      "\n",
      "Site: site06 | Pearson r = 0.272 (p=0.006) | Partial η² = -0.024\n",
      "\n",
      "Site: site07 | Pearson r = 0.550 (p=0.000) | Partial η² = 0.265\n",
      "\n",
      "Site: site08 | Pearson r = 0.347 (p=0.002) | Partial η² = 0.010\n",
      "\n",
      "Site: site09 | Pearson r = 0.447 (p=0.001) | Partial η² = 0.104\n",
      "\n",
      "Site: site10 | Pearson r = 0.524 (p=0.000) | Partial η² = 0.264\n",
      "\n",
      "Site: site11 | Pearson r = 0.547 (p=0.000) | Partial η² = 0.290\n",
      "\n",
      "Site: site12 | Pearson r = 0.479 (p=0.000) | Partial η² = 0.227\n",
      "\n",
      "Site: site13 | Pearson r = 0.440 (p=0.000) | Partial η² = 0.182\n",
      "\n",
      "Site: site14 | Pearson r = 0.462 (p=0.000) | Partial η² = 0.213\n",
      "\n",
      "Site: site15 | Pearson r = 0.746 (p=0.000) | Partial η² = 0.489\n",
      "\n",
      "Site: site16 | Pearson r = 0.376 (p=0.000) | Partial η² = 0.133\n",
      "\n",
      "Site: site17 | Pearson r = 0.376 (p=0.000) | Partial η² = -0.047\n",
      "\n",
      "Site: site18 | Pearson r = 0.418 (p=0.000) | Partial η² = 0.169\n",
      "\n",
      "Site: site19 | Pearson r = 0.337 (p=0.002) | Partial η² = 0.072\n",
      "\n",
      "Site: site20 | Pearson r = 0.567 (p=0.000) | Partial η² = 0.287\n",
      "\n",
      "Site: site21 | Pearson r = 0.601 (p=0.000) | Partial η² = 0.354\n",
      "Cross-validated Performance Metrics:\n",
      "Average Pearson's r: 0.464\n",
      "Partial eta squared: 0.186\n",
      "R²: 0.186\n"
     ]
    },
    {
     "name": "stderr",
     "output_type": "stream",
     "text": [
      "\n"
     ]
    }
   ],
   "execution_count": 41
  },
  {
   "metadata": {},
   "cell_type": "markdown",
   "source": [
    "#### Within negative connectivity (one value for each region, 15 values total)\n",
    "| **Case**                | **PC Condition** | **Average Pearson's r** | **Cross-validated Partial η² (avg)** |\n",
    "|-------------------------|------------------|-------------------------|--------------------------------------|\n",
    "| B\\_baseline + statistic |                  | 0.501                   | 0.220                                |\n",
    "| B\\_baseline             | none             | 0.502                   | 0.223                                |\n",
    "| B\\_baseline             | 15 PCs           | 0.512                   | 0.237                                |\n",
    "| B\\_baseline             | 100 PCs          | 0.530                   | 0.261                                |\n",
    "| B\\_followup + statistic |                  | 0.464                   | 0.186                                |\n",
    "| B\\_followup             | none             | 0.463                   | 0.188                                |\n",
    "| B\\_followup             | 15 PCs           | 0.473                   | 0.197                                |\n",
    "| B\\_followup             | 100 PCs          | 0.519                   | 0.241                                |"
   ],
   "id": "9c8a5f3b3bd9062b"
  },
  {
   "metadata": {
    "ExecuteTime": {
     "end_time": "2025-09-21T21:12:54.717844Z",
     "start_time": "2025-09-21T21:12:11.664462Z"
    }
   },
   "cell_type": "code",
   "source": [
    "between_neg_mean_baseline_B = compute_one_statistic(df_features=main_baseline_B,\n",
    "                                                    df_network=conn_B_baseline_df,\n",
    "                                                    regions=regions,\n",
    "                                                    stat_name=\"between_negative_mean\",\n",
    "                                                    mode=\"all\",\n",
    "                                                    node_order=None,\n",
    "                                                    matrix_size=418,\n",
    "                                                    diag_value=0.0)\n",
    "baseline_B_plus = combine_data(main_baseline_B, between_neg_mean_baseline_B)\n",
    "results_no_network, models_no_network = run_cross_validation(baseline_B_plus, y_baseline_B, use_network=False)\n",
    "print_cross_val_results(results_no_network)"
   ],
   "id": "b25e1d62c456e98c",
   "outputs": [
    {
     "name": "stderr",
     "output_type": "stream",
     "text": [
      "100%|██████████| 4321/4321 [00:35<00:00, 121.45it/s]\n"
     ]
    },
    {
     "name": "stdout",
     "output_type": "stream",
     "text": [
      "Dropping duplicate columns: ['Subject', 'site_id_l']\n"
     ]
    },
    {
     "name": "stderr",
     "output_type": "stream",
     "text": [
      "Cross-validation progress: 100%|██████████| 20/20 [00:00<00:00, 238.12it/s]"
     ]
    },
    {
     "name": "stdout",
     "output_type": "stream",
     "text": [
      "\n",
      "Site: site02 | Pearson r = 0.456 (p=0.000) | Partial η² = 0.109\n",
      "\n",
      "Site: site03 | Pearson r = 0.427 (p=0.000) | Partial η² = 0.152\n",
      "\n",
      "Site: site04 | Pearson r = 0.495 (p=0.000) | Partial η² = 0.245\n",
      "\n",
      "Site: site05 | Pearson r = 0.579 (p=0.000) | Partial η² = 0.332\n",
      "\n",
      "Site: site06 | Pearson r = 0.459 (p=0.000) | Partial η² = 0.193\n",
      "\n",
      "Site: site07 | Pearson r = 0.643 (p=0.000) | Partial η² = 0.387\n",
      "\n",
      "Site: site08 | Pearson r = 0.468 (p=0.000) | Partial η² = 0.086\n",
      "\n",
      "Site: site09 | Pearson r = 0.443 (p=0.000) | Partial η² = 0.098\n",
      "\n",
      "Site: site10 | Pearson r = 0.467 (p=0.000) | Partial η² = 0.211\n",
      "\n",
      "Site: site11 | Pearson r = 0.574 (p=0.000) | Partial η² = 0.305\n",
      "\n",
      "Site: site12 | Pearson r = 0.414 (p=0.000) | Partial η² = 0.091\n",
      "\n",
      "Site: site13 | Pearson r = 0.563 (p=0.000) | Partial η² = 0.307\n",
      "\n",
      "Site: site14 | Pearson r = 0.480 (p=0.000) | Partial η² = 0.225\n",
      "\n",
      "Site: site15 | Pearson r = 0.626 (p=0.000) | Partial η² = 0.383\n",
      "\n",
      "Site: site16 | Pearson r = 0.516 (p=0.000) | Partial η² = 0.258\n",
      "\n",
      "Site: site17 | Pearson r = 0.404 (p=0.000) | Partial η² = 0.141\n",
      "\n",
      "Site: site18 | Pearson r = 0.424 (p=0.000) | Partial η² = 0.166\n",
      "\n",
      "Site: site19 | Pearson r = 0.564 (p=0.000) | Partial η² = 0.308\n",
      "\n",
      "Site: site20 | Pearson r = 0.457 (p=0.000) | Partial η² = 0.158\n",
      "\n",
      "Site: site21 | Pearson r = 0.549 (p=0.000) | Partial η² = 0.290\n",
      "Cross-validated Performance Metrics:\n",
      "Average Pearson's r: 0.500\n",
      "Partial eta squared: 0.222\n",
      "R²: 0.222\n"
     ]
    },
    {
     "name": "stderr",
     "output_type": "stream",
     "text": [
      "\n"
     ]
    }
   ],
   "execution_count": 42
  },
  {
   "metadata": {
    "ExecuteTime": {
     "end_time": "2025-09-21T21:13:18.033618Z",
     "start_time": "2025-09-21T21:12:54.812821Z"
    }
   },
   "cell_type": "code",
   "source": [
    "between_neg_mean_followup_B = compute_one_statistic(df_features=main_followup_B,\n",
    "                                                    df_network=conn_B_followup_df,\n",
    "                                                    regions=regions,\n",
    "                                                    stat_name=\"between_negative_mean\",\n",
    "                                                    mode=\"all\",\n",
    "                                                    node_order=None,\n",
    "                                                    matrix_size=418,\n",
    "                                                    diag_value=0.0)\n",
    "\n",
    "followup_B_plus = combine_data(main_followup_B, between_neg_mean_followup_B)\n",
    "results_no_network, models_no_network = run_cross_validation(followup_B_plus.fillna(0.0), y_followup_B,\n",
    "                                                             use_network=False)\n",
    "print_cross_val_results(results_no_network)"
   ],
   "id": "e4f57019c05b52d1",
   "outputs": [
    {
     "name": "stderr",
     "output_type": "stream",
     "text": [
      "100%|██████████| 2756/2756 [00:20<00:00, 137.71it/s]\n"
     ]
    },
    {
     "name": "stdout",
     "output_type": "stream",
     "text": [
      "Dropping duplicate columns: ['Subject', 'site_id_l']\n"
     ]
    },
    {
     "name": "stderr",
     "output_type": "stream",
     "text": [
      "Cross-validation progress: 100%|██████████| 20/20 [00:00<00:00, 263.03it/s]"
     ]
    },
    {
     "name": "stdout",
     "output_type": "stream",
     "text": [
      "\n",
      "Site: site02 | Pearson r = 0.417 (p=0.000) | Partial η² = 0.168\n",
      "\n",
      "Site: site03 | Pearson r = 0.371 (p=0.000) | Partial η² = 0.127\n",
      "\n",
      "Site: site04 | Pearson r = 0.452 (p=0.000) | Partial η² = 0.155\n",
      "\n",
      "Site: site05 | Pearson r = 0.556 (p=0.000) | Partial η² = 0.288\n",
      "\n",
      "Site: site06 | Pearson r = 0.308 (p=0.002) | Partial η² = 0.035\n",
      "\n",
      "Site: site07 | Pearson r = 0.558 (p=0.000) | Partial η² = 0.282\n",
      "\n",
      "Site: site08 | Pearson r = 0.351 (p=0.002) | Partial η² = -0.001\n",
      "\n",
      "Site: site09 | Pearson r = 0.437 (p=0.001) | Partial η² = 0.106\n",
      "\n",
      "Site: site10 | Pearson r = 0.517 (p=0.000) | Partial η² = 0.257\n",
      "\n",
      "Site: site11 | Pearson r = 0.544 (p=0.000) | Partial η² = 0.287\n",
      "\n",
      "Site: site12 | Pearson r = 0.489 (p=0.000) | Partial η² = 0.237\n",
      "\n",
      "Site: site13 | Pearson r = 0.440 (p=0.000) | Partial η² = 0.182\n",
      "\n",
      "Site: site14 | Pearson r = 0.458 (p=0.000) | Partial η² = 0.210\n",
      "\n",
      "Site: site15 | Pearson r = 0.737 (p=0.000) | Partial η² = 0.485\n",
      "\n",
      "Site: site16 | Pearson r = 0.393 (p=0.000) | Partial η² = 0.145\n",
      "\n",
      "Site: site17 | Pearson r = 0.385 (p=0.000) | Partial η² = -0.049\n",
      "\n",
      "Site: site18 | Pearson r = 0.387 (p=0.000) | Partial η² = 0.144\n",
      "\n",
      "Site: site19 | Pearson r = 0.320 (p=0.003) | Partial η² = 0.050\n",
      "\n",
      "Site: site20 | Pearson r = 0.565 (p=0.000) | Partial η² = 0.286\n",
      "\n",
      "Site: site21 | Pearson r = 0.597 (p=0.000) | Partial η² = 0.351\n",
      "Cross-validated Performance Metrics:\n",
      "Average Pearson's r: 0.464\n",
      "Partial eta squared: 0.187\n",
      "R²: 0.187\n"
     ]
    },
    {
     "name": "stderr",
     "output_type": "stream",
     "text": [
      "\n"
     ]
    }
   ],
   "execution_count": 43
  },
  {
   "metadata": {},
   "cell_type": "markdown",
   "source": [
    "#### Between negative connectivity (one value for each region, 15 values total)\n",
    "| **Case**                | **PC Condition** | **Average Pearson's r** | **Cross-validated Partial η² (avg)** |\n",
    "|-------------------------|------------------|-------------------------|--------------------------------------|\n",
    "| B\\_baseline + statistic |                  | 0.500                   | 0.222                                |\n",
    "| B\\_baseline             | none             | 0.502                   | 0.223                                |\n",
    "| B\\_baseline             | 15 PCs           | 0.512                   | 0.237                                |\n",
    "| B\\_baseline             | 100 PCs          | 0.530                   | 0.261                                |\n",
    "| B\\_followup + statistic |                  | 0.464                   | 0.187                                |\n",
    "| B\\_followup             | none             | 0.463                   | 0.188                                |\n",
    "| B\\_followup             | 15 PCs           | 0.473                   | 0.197                                |\n",
    "| B\\_followup             | 100 PCs          | 0.519                   | 0.241                                |"
   ],
   "id": "682c948a640fda74"
  },
  {
   "metadata": {
    "ExecuteTime": {
     "end_time": "2025-09-21T21:23:41.318617Z",
     "start_time": "2025-09-21T21:22:56.110646Z"
    }
   },
   "cell_type": "code",
   "source": [
    "segregation_ratio_baseline_B = compute_one_statistic(df_features=main_baseline_B,\n",
    "                                                    df_network=conn_B_baseline_df,\n",
    "                                                    regions=regions,\n",
    "                                                    stat_name=\"segregation_ratio\",\n",
    "                                                    mode=\"all\",\n",
    "                                                    node_order=None,\n",
    "                                                    matrix_size=418,\n",
    "                                                    diag_value=0.0)\n",
    "baseline_B_plus = combine_data(main_baseline_B, segregation_ratio_baseline_B)\n",
    "results_no_network, models_no_network = run_cross_validation(baseline_B_plus, y_baseline_B, use_network=False)\n",
    "print_cross_val_results(results_no_network)"
   ],
   "id": "8c88d97a5bacaa0a",
   "outputs": [
    {
     "name": "stderr",
     "output_type": "stream",
     "text": [
      "100%|██████████| 4321/4321 [00:38<00:00, 111.90it/s]\n"
     ]
    },
    {
     "name": "stdout",
     "output_type": "stream",
     "text": [
      "Dropping duplicate columns: ['Subject', 'site_id_l']\n"
     ]
    },
    {
     "name": "stderr",
     "output_type": "stream",
     "text": [
      "Cross-validation progress: 100%|██████████| 20/20 [00:00<00:00, 230.25it/s]"
     ]
    },
    {
     "name": "stdout",
     "output_type": "stream",
     "text": [
      "\n",
      "Site: site02 | Pearson r = 0.459 (p=0.000) | Partial η² = 0.106\n",
      "\n",
      "Site: site03 | Pearson r = 0.452 (p=0.000) | Partial η² = 0.181\n",
      "\n",
      "Site: site04 | Pearson r = 0.496 (p=0.000) | Partial η² = 0.244\n",
      "\n",
      "Site: site05 | Pearson r = 0.582 (p=0.000) | Partial η² = 0.336\n",
      "\n",
      "Site: site06 | Pearson r = 0.482 (p=0.000) | Partial η² = 0.221\n",
      "\n",
      "Site: site07 | Pearson r = 0.653 (p=0.000) | Partial η² = 0.401\n",
      "\n",
      "Site: site08 | Pearson r = 0.464 (p=0.000) | Partial η² = 0.081\n",
      "\n",
      "Site: site09 | Pearson r = 0.438 (p=0.000) | Partial η² = 0.098\n",
      "\n",
      "Site: site10 | Pearson r = 0.476 (p=0.000) | Partial η² = 0.220\n",
      "\n",
      "Site: site11 | Pearson r = 0.585 (p=0.000) | Partial η² = 0.299\n",
      "\n",
      "Site: site12 | Pearson r = 0.420 (p=0.000) | Partial η² = 0.097\n",
      "\n",
      "Site: site13 | Pearson r = 0.555 (p=0.000) | Partial η² = 0.303\n",
      "\n",
      "Site: site14 | Pearson r = 0.507 (p=0.000) | Partial η² = 0.253\n",
      "\n",
      "Site: site15 | Pearson r = 0.635 (p=0.000) | Partial η² = 0.393\n",
      "\n",
      "Site: site16 | Pearson r = 0.528 (p=0.000) | Partial η² = 0.270\n",
      "\n",
      "Site: site17 | Pearson r = 0.390 (p=0.000) | Partial η² = 0.099\n",
      "\n",
      "Site: site18 | Pearson r = 0.435 (p=0.000) | Partial η² = 0.166\n",
      "\n",
      "Site: site19 | Pearson r = 0.564 (p=0.000) | Partial η² = 0.307\n",
      "\n",
      "Site: site20 | Pearson r = 0.464 (p=0.000) | Partial η² = 0.162\n",
      "\n",
      "Site: site21 | Pearson r = 0.547 (p=0.000) | Partial η² = 0.290\n",
      "Cross-validated Performance Metrics:\n",
      "Average Pearson's r: 0.507\n",
      "Partial eta squared: 0.226\n",
      "R²: 0.226\n"
     ]
    },
    {
     "name": "stderr",
     "output_type": "stream",
     "text": [
      "\n"
     ]
    }
   ],
   "execution_count": 44
  },
  {
   "metadata": {
    "ExecuteTime": {
     "end_time": "2025-09-21T21:25:48.173836Z",
     "start_time": "2025-09-21T21:25:21.616802Z"
    }
   },
   "cell_type": "code",
   "source": [
    "segregation_ratio_followup_B = compute_one_statistic(df_features=main_followup_B,\n",
    "                                                    df_network=conn_B_followup_df,\n",
    "                                                    regions=regions,\n",
    "                                                    stat_name=\"segregation_ratio\",\n",
    "                                                    mode=\"all\",\n",
    "                                                    node_order=None,\n",
    "                                                    matrix_size=418,\n",
    "                                                    diag_value=0.0)\n",
    "\n",
    "followup_B_plus = combine_data(main_followup_B, segregation_ratio_followup_B)\n",
    "results_no_network, models_no_network = run_cross_validation(followup_B_plus.fillna(0.0), y_followup_B,\n",
    "                                                             use_network=False)\n",
    "print_cross_val_results(results_no_network)"
   ],
   "id": "2fa1b9cf001f586c",
   "outputs": [
    {
     "name": "stderr",
     "output_type": "stream",
     "text": [
      "100%|██████████| 2756/2756 [00:21<00:00, 130.34it/s]\n"
     ]
    },
    {
     "name": "stdout",
     "output_type": "stream",
     "text": [
      "Dropping duplicate columns: ['Subject', 'site_id_l']\n"
     ]
    },
    {
     "name": "stderr",
     "output_type": "stream",
     "text": [
      "Cross-validation progress: 100%|██████████| 20/20 [00:00<00:00, 289.93it/s]"
     ]
    },
    {
     "name": "stdout",
     "output_type": "stream",
     "text": [
      "\n",
      "Site: site02 | Pearson r = 0.391 (p=0.000) | Partial η² = 0.145\n",
      "\n",
      "Site: site03 | Pearson r = 0.361 (p=0.000) | Partial η² = 0.117\n",
      "\n",
      "Site: site04 | Pearson r = 0.436 (p=0.000) | Partial η² = 0.141\n",
      "\n",
      "Site: site05 | Pearson r = 0.562 (p=0.000) | Partial η² = 0.290\n",
      "\n",
      "Site: site06 | Pearson r = 0.320 (p=0.001) | Partial η² = 0.052\n",
      "\n",
      "Site: site07 | Pearson r = 0.573 (p=0.000) | Partial η² = 0.300\n",
      "\n",
      "Site: site08 | Pearson r = 0.373 (p=0.001) | Partial η² = 0.032\n",
      "\n",
      "Site: site09 | Pearson r = 0.409 (p=0.002) | Partial η² = 0.081\n",
      "\n",
      "Site: site10 | Pearson r = 0.513 (p=0.000) | Partial η² = 0.250\n",
      "\n",
      "Site: site11 | Pearson r = 0.554 (p=0.000) | Partial η² = 0.303\n",
      "\n",
      "Site: site12 | Pearson r = 0.504 (p=0.000) | Partial η² = 0.253\n",
      "\n",
      "Site: site13 | Pearson r = 0.447 (p=0.000) | Partial η² = 0.189\n",
      "\n",
      "Site: site14 | Pearson r = 0.487 (p=0.000) | Partial η² = 0.236\n",
      "\n",
      "Site: site15 | Pearson r = 0.706 (p=0.000) | Partial η² = 0.452\n",
      "\n",
      "Site: site16 | Pearson r = 0.384 (p=0.000) | Partial η² = 0.141\n",
      "\n",
      "Site: site17 | Pearson r = 0.377 (p=0.000) | Partial η² = -0.087\n",
      "\n",
      "Site: site18 | Pearson r = 0.380 (p=0.000) | Partial η² = 0.133\n",
      "\n",
      "Site: site19 | Pearson r = 0.337 (p=0.002) | Partial η² = 0.062\n",
      "\n",
      "Site: site20 | Pearson r = 0.583 (p=0.000) | Partial η² = 0.305\n",
      "\n",
      "Site: site21 | Pearson r = 0.625 (p=0.000) | Partial η² = 0.384\n",
      "Cross-validated Performance Metrics:\n",
      "Average Pearson's r: 0.466\n",
      "Partial eta squared: 0.189\n",
      "R²: 0.189\n"
     ]
    },
    {
     "name": "stderr",
     "output_type": "stream",
     "text": [
      "\n"
     ]
    }
   ],
   "execution_count": 45
  },
  {
   "metadata": {},
   "cell_type": "markdown",
   "source": [
    "#### Segregation ratio (one value for each region, 15 values total)\n",
    "| **Case**                | **PC Condition** | **Average Pearson's r** | **Cross-validated Partial η² (avg)** |\n",
    "|-------------------------|------------------|-------------------------|--------------------------------------|\n",
    "| B\\_baseline + statistic |                  | 0.507                   | 0.226                                |\n",
    "| B\\_baseline             | none             | 0.502                   | 0.223                                |\n",
    "| B\\_baseline             | 15 PCs           | 0.512                   | 0.237                                |\n",
    "| B\\_baseline             | 100 PCs          | 0.530                   | 0.261                                |\n",
    "| B\\_followup + statistic |                  | 0.466                   | 0.189                                |\n",
    "| B\\_followup             | none             | 0.463                   | 0.188                                |\n",
    "| B\\_followup             | 15 PCs           | 0.473                   | 0.197                                |\n",
    "| B\\_followup             | 100 PCs          | 0.519                   | 0.241                                |"
   ],
   "id": "6111cf31a101e8ed"
  },
  {
   "metadata": {
    "ExecuteTime": {
     "end_time": "2025-09-21T21:28:03.335401Z",
     "start_time": "2025-09-21T21:27:18.748798Z"
    }
   },
   "cell_type": "code",
   "source": [
    "segregation_index_baseline_B = compute_one_statistic(df_features=main_baseline_B,\n",
    "                                                    df_network=conn_B_baseline_df,\n",
    "                                                    regions=regions,\n",
    "                                                    stat_name=\"segregation_index\",\n",
    "                                                    mode=\"all\",\n",
    "                                                    node_order=None,\n",
    "                                                    matrix_size=418,\n",
    "                                                    diag_value=0.0)\n",
    "baseline_B_plus = combine_data(main_baseline_B, segregation_index_baseline_B)\n",
    "results_no_network, models_no_network = run_cross_validation(baseline_B_plus, y_baseline_B, use_network=False)\n",
    "print_cross_val_results(results_no_network)"
   ],
   "id": "ebe98534793e187d",
   "outputs": [
    {
     "name": "stderr",
     "output_type": "stream",
     "text": [
      "100%|██████████| 4321/4321 [00:38<00:00, 113.19it/s]\n"
     ]
    },
    {
     "name": "stdout",
     "output_type": "stream",
     "text": [
      "Dropping duplicate columns: ['Subject', 'site_id_l']\n"
     ]
    },
    {
     "name": "stderr",
     "output_type": "stream",
     "text": [
      "Cross-validation progress: 100%|██████████| 20/20 [00:00<00:00, 231.91it/s]"
     ]
    },
    {
     "name": "stdout",
     "output_type": "stream",
     "text": [
      "\n",
      "Site: site02 | Pearson r = 0.459 (p=0.000) | Partial η² = 0.100\n",
      "\n",
      "Site: site03 | Pearson r = 0.442 (p=0.000) | Partial η² = 0.170\n",
      "\n",
      "Site: site04 | Pearson r = 0.496 (p=0.000) | Partial η² = 0.244\n",
      "\n",
      "Site: site05 | Pearson r = 0.580 (p=0.000) | Partial η² = 0.334\n",
      "\n",
      "Site: site06 | Pearson r = 0.489 (p=0.000) | Partial η² = 0.227\n",
      "\n",
      "Site: site07 | Pearson r = 0.654 (p=0.000) | Partial η² = 0.399\n",
      "\n",
      "Site: site08 | Pearson r = 0.461 (p=0.000) | Partial η² = 0.077\n",
      "\n",
      "Site: site09 | Pearson r = 0.433 (p=0.000) | Partial η² = 0.092\n",
      "\n",
      "Site: site10 | Pearson r = 0.472 (p=0.000) | Partial η² = 0.215\n",
      "\n",
      "Site: site11 | Pearson r = 0.581 (p=0.000) | Partial η² = 0.296\n",
      "\n",
      "Site: site12 | Pearson r = 0.436 (p=0.000) | Partial η² = 0.117\n",
      "\n",
      "Site: site13 | Pearson r = 0.562 (p=0.000) | Partial η² = 0.310\n",
      "\n",
      "Site: site14 | Pearson r = 0.498 (p=0.000) | Partial η² = 0.245\n",
      "\n",
      "Site: site15 | Pearson r = 0.637 (p=0.000) | Partial η² = 0.394\n",
      "\n",
      "Site: site16 | Pearson r = 0.530 (p=0.000) | Partial η² = 0.273\n",
      "\n",
      "Site: site17 | Pearson r = 0.385 (p=0.000) | Partial η² = 0.097\n",
      "\n",
      "Site: site18 | Pearson r = 0.438 (p=0.000) | Partial η² = 0.171\n",
      "\n",
      "Site: site19 | Pearson r = 0.568 (p=0.000) | Partial η² = 0.310\n",
      "\n",
      "Site: site20 | Pearson r = 0.473 (p=0.000) | Partial η² = 0.175\n",
      "\n",
      "Site: site21 | Pearson r = 0.551 (p=0.000) | Partial η² = 0.293\n",
      "Cross-validated Performance Metrics:\n",
      "Average Pearson's r: 0.507\n",
      "Partial eta squared: 0.227\n",
      "R²: 0.227\n"
     ]
    },
    {
     "name": "stderr",
     "output_type": "stream",
     "text": [
      "\n"
     ]
    }
   ],
   "execution_count": 46
  },
  {
   "metadata": {
    "ExecuteTime": {
     "end_time": "2025-09-21T21:28:40.315357Z",
     "start_time": "2025-09-21T21:28:14.629465Z"
    }
   },
   "cell_type": "code",
   "source": [
    "segregation_index_followup_B = compute_one_statistic(df_features=main_followup_B,\n",
    "                                                    df_network=conn_B_followup_df,\n",
    "                                                    regions=regions,\n",
    "                                                    stat_name=\"segregation_index\",\n",
    "                                                    mode=\"all\",\n",
    "                                                    node_order=None,\n",
    "                                                    matrix_size=418,\n",
    "                                                    diag_value=0.0)\n",
    "\n",
    "followup_B_plus = combine_data(main_followup_B, segregation_index_followup_B)\n",
    "results_no_network, models_no_network = run_cross_validation(followup_B_plus.fillna(0.0), y_followup_B,\n",
    "                                                             use_network=False)\n",
    "print_cross_val_results(results_no_network)"
   ],
   "id": "c11575664b1514a0",
   "outputs": [
    {
     "name": "stderr",
     "output_type": "stream",
     "text": [
      "100%|██████████| 2756/2756 [00:20<00:00, 132.86it/s]\n"
     ]
    },
    {
     "name": "stdout",
     "output_type": "stream",
     "text": [
      "Dropping duplicate columns: ['Subject', 'site_id_l']\n"
     ]
    },
    {
     "name": "stderr",
     "output_type": "stream",
     "text": [
      "Cross-validation progress: 100%|██████████| 20/20 [00:00<00:00, 316.06it/s]"
     ]
    },
    {
     "name": "stdout",
     "output_type": "stream",
     "text": [
      "\n",
      "Site: site02 | Pearson r = 0.377 (p=0.000) | Partial η² = 0.134\n",
      "\n",
      "Site: site03 | Pearson r = 0.358 (p=0.000) | Partial η² = 0.115\n",
      "\n",
      "Site: site04 | Pearson r = 0.436 (p=0.000) | Partial η² = 0.141\n",
      "\n",
      "Site: site05 | Pearson r = 0.558 (p=0.000) | Partial η² = 0.289\n",
      "\n",
      "Site: site06 | Pearson r = 0.309 (p=0.002) | Partial η² = 0.040\n",
      "\n",
      "Site: site07 | Pearson r = 0.585 (p=0.000) | Partial η² = 0.305\n",
      "\n",
      "Site: site08 | Pearson r = 0.346 (p=0.002) | Partial η² = 0.006\n",
      "\n",
      "Site: site09 | Pearson r = 0.398 (p=0.003) | Partial η² = 0.073\n",
      "\n",
      "Site: site10 | Pearson r = 0.511 (p=0.000) | Partial η² = 0.246\n",
      "\n",
      "Site: site11 | Pearson r = 0.566 (p=0.000) | Partial η² = 0.311\n",
      "\n",
      "Site: site12 | Pearson r = 0.508 (p=0.000) | Partial η² = 0.257\n",
      "\n",
      "Site: site13 | Pearson r = 0.433 (p=0.000) | Partial η² = 0.173\n",
      "\n",
      "Site: site14 | Pearson r = 0.464 (p=0.000) | Partial η² = 0.215\n",
      "\n",
      "Site: site15 | Pearson r = 0.742 (p=0.000) | Partial η² = 0.501\n",
      "\n",
      "Site: site16 | Pearson r = 0.389 (p=0.000) | Partial η² = 0.146\n",
      "\n",
      "Site: site17 | Pearson r = 0.358 (p=0.000) | Partial η² = -0.100\n",
      "\n",
      "Site: site18 | Pearson r = 0.388 (p=0.000) | Partial η² = 0.142\n",
      "\n",
      "Site: site19 | Pearson r = 0.353 (p=0.001) | Partial η² = 0.085\n",
      "\n",
      "Site: site20 | Pearson r = 0.580 (p=0.000) | Partial η² = 0.299\n",
      "\n",
      "Site: site21 | Pearson r = 0.621 (p=0.000) | Partial η² = 0.378\n",
      "Cross-validated Performance Metrics:\n",
      "Average Pearson's r: 0.464\n",
      "Partial eta squared: 0.188\n",
      "R²: 0.188\n"
     ]
    },
    {
     "name": "stderr",
     "output_type": "stream",
     "text": [
      "\n"
     ]
    }
   ],
   "execution_count": 47
  },
  {
   "metadata": {},
   "cell_type": "markdown",
   "source": [
    "#### Segregation index (one value for each region, 15 values total)\n",
    "| **Case**                | **PC Condition** | **Average Pearson's r** | **Cross-validated Partial η² (avg)** |\n",
    "|-------------------------|------------------|-------------------------|--------------------------------------|\n",
    "| B\\_baseline + statistic |                  | 0.507                   | 0.227                                |\n",
    "| B\\_baseline             | none             | 0.502                   | 0.223                                |\n",
    "| B\\_baseline             | 15 PCs           | 0.512                   | 0.237                                |\n",
    "| B\\_baseline             | 100 PCs          | 0.530                   | 0.261                                |\n",
    "| B\\_followup + statistic |                  | 0.464                   | 0.188                                |\n",
    "| B\\_followup             | none             | 0.463                   | 0.188                                |\n",
    "| B\\_followup             | 15 PCs           | 0.473                   | 0.197                                |\n",
    "| B\\_followup             | 100 PCs          | 0.519                   | 0.241                                |"
   ],
   "id": "930f54827dda9617"
  },
  {
   "metadata": {},
   "cell_type": "markdown",
   "source": [
    "####  Option B preprocessed baseline data summary table:\n",
    "| **Model Description**             | **Average Pearson's r** | **Cross-validated Partial η² (avg)** |\n",
    "|-----------------------------------|-------------------------|--------------------------------------|\n",
    "| Full features                     | 0.502                   | 0.223                                |\n",
    "| Full features + 15 PCs            | 0.512                   | 0.237                                |\n",
    "| Full features + 100 PCs           | 0.530                   | 0.261                                |\n",
    "| Full features + pos strength      | 0.503                   | 0.224                                |\n",
    "| Full features + neg strength      | 0.500                   | 0.222                                |\n",
    "| Full features + total strength    | 0.502                   | 0.223                                |\n",
    "| Full features + within positive   | 0.503                   | 0.221                                |\n",
    "| Full features + between positive  | 0.503                   | 0.224                                |\n",
    "| Full features + within negative   | 0.501                   | 0.220                                |\n",
    "| Full features + between negative  | 0.500                   | 0.222                                |\n",
    "| Full features + segregation ratio | 0.507                   | 0.226                                |\n",
    "| Full features + segregation index | 0.507                   | 0.227                                |\n",
    "\n",
    "\n",
    "####  Option B preprocessed followup data summary table:\n",
    "| **Model Description**             | **Average Pearson's r** | **Cross-validated Partial η² (avg)** |\n",
    "|-----------------------------------|-------------------------|--------------------------------------|\n",
    "| Full features                     | 0.463                   | 0.188                                |\n",
    "| Full features + 15 PCs            | 0.473                   | 0.197                                |\n",
    "| Full features + 100 PCs           | 0.519                   | 0.241                                |\n",
    "| Full features + pos strength      | 0.460                   | 0.183                                |\n",
    "| Full features + neg strength      | 0.464                   | 0.187                                |\n",
    "| Full features + total strength    | 0.464                   | 0.190                                |\n",
    "| Full features + within positive   | 0.462                   | 0.184                                |\n",
    "| Full features + between positive  | 0.461                   | 0.184                                |\n",
    "| Full features + within negative   | 0.464                   | 0.186                                |\n",
    "| Full features + between negative  | 0.464                   | 0.187                                |\n",
    "| Full features + segregation ratio | 0.466                   | 0.189                                |\n",
    "| Full features + segregation index | 0.464                   | 0.188                                |\n",
    "\n",
    "\n"
   ],
   "id": "122d42036976510b"
  },
  {
   "metadata": {},
   "cell_type": "markdown",
   "source": "## Option A data preprocessing:",
   "id": "ba5d536b243fc100"
  },
  {
   "metadata": {
    "ExecuteTime": {
     "end_time": "2025-09-22T15:27:53.959771Z",
     "start_time": "2025-09-22T15:27:52.482624Z"
    }
   },
   "cell_type": "code",
   "source": [
    "# Define paths\n",
    "version_A_dir = Path(\"data/processed/version_A\")\n",
    "\n",
    "# Load features\n",
    "features_A_baseline = pd.read_csv(version_A_dir / \"features_baseline.csv\")\n",
    "features_A_followup = pd.read_csv(version_A_dir / \"features_followup.csv\")\n",
    "\n",
    "# Load connectomes\n",
    "conn_A_baseline = np.load(version_A_dir / \"connectomes_baseline.npy\")\n",
    "conn_A_followup = np.load(version_A_dir / \"connectomes_followup.npy\")\n",
    "\n",
    "# Load subjects (separate for baseline/followup)\n",
    "subs_A_baseline = pd.read_csv(version_A_dir / \"subjects.csv\")[\"Subject\"].tolist()\n",
    "subs_A_followup = pd.read_csv(version_A_dir / \"subjects.csv\")[\"Subject\"].tolist()\n",
    "\n",
    "print(\"Version A\")\n",
    "print(\"Baseline features:\", features_A_baseline.shape)\n",
    "print(\"Followup features:\", features_A_followup.shape)\n",
    "print(\"Baseline connectomes:\", conn_A_baseline.shape)\n",
    "print(\"Followup connectomes:\", conn_A_followup.shape)\n",
    "print(\"Baseline subjects:\", len(subs_A_baseline))\n",
    "print(\"Followup subjects:\", len(subs_A_followup))"
   ],
   "id": "915b4ee17dad521a",
   "outputs": [
    {
     "name": "stdout",
     "output_type": "stream",
     "text": [
      "Version A\n",
      "Baseline features: (2409, 13)\n",
      "Followup features: (2409, 13)\n",
      "Baseline connectomes: (2409, 87153)\n",
      "Followup connectomes: (2409, 87153)\n",
      "Baseline subjects: 2409\n",
      "Followup subjects: 2409\n"
     ]
    }
   ],
   "execution_count": 10
  },
  {
   "metadata": {},
   "cell_type": "raw",
   "source": [
    "#### Demographic characteristics of subjects included in neuroimaging analysis (baseline cohort):\n",
    "* Age (mean (s.d.))       $~~~~~~~~~     9.98~(0.62)$\n",
    "* Female (%) $~~~~~~~~~~~~~~~~~~ 2217~(51.3)$\n",
    "* Race ethnicity (%):\n",
    "* White $~~~~~~~~~~~~~~~~~~~~~~~~~~ 3071~(71.1)$\n",
    "* Black $~~~~~~~~~~~~~~~~~~~~~~~~~~~ 529~(12.2)$\n",
    "* Asian $~~~~~~~~~~~~~~~~~~~~~~~~~~~ 90~(2.1)$\n",
    "* Other/Mixed $~~~~~~~~~~~~~~~~~ 631~(14.6)$\n",
    "* Hispanic (%):\n",
    "* No $~~~~~~~~~~~~~~~~~~~~~~~~~~~~~~ 3591~(83.1)$\n",
    "* Yes $~~~~~~~~~~~~~~~~~~~~~~~~~~~~~ 730~(16.9)$\n",
    "* Household income(%):\n",
    "* $< 50k ~~~~~~~~~~~~~~~~~~~~~~~~~~~~ 1158 ~(26.8)$\n",
    "* $ \\geq 50k < 100k ~~~~~~~~~~~~~~~ 1244 ~(28.8)$\n",
    "* $ \\geq 100k ~~~~~~~~~~~~~~~~~~~~~~~~~~ 1919 ~(44.4)$"
   ],
   "id": "d1aa18727947fb6e"
  },
  {
   "metadata": {},
   "cell_type": "raw",
   "source": [
    "#### Demographic characteristics of subjects included in neuroimaging analysis (followup cohort):\n",
    "* Age (mean (s.d.))       $~~~~~~~~~     11.92~(0.65)$\n",
    "* Female (%) $~~~~~~~~~~~~~~~~~~ 1357~(49.2)$\n",
    "* Race ethnicity (%):\n",
    "* White $~~~~~~~~~~~~~~~~~~~~~~~~~~ 1923~(69.78)$\n",
    "* Black $~~~~~~~~~~~~~~~~~~~~~~~~~~~ 310~(11.25)$\n",
    "* Asian $~~~~~~~~~~~~~~~~~~~~~~~~~~~ 63~(2.29)$\n",
    "* Other/Mixed $~~~~~~~~~~~~~~~~~ 460~(16.7)$\n",
    "* Hispanic (%):\n",
    "* No $~~~~~~~~~~~~~~~~~~~~~~~~~~~~~~ 2234~(81.1)$\n",
    "* Yes $~~~~~~~~~~~~~~~~~~~~~~~~~~~~~ 522~(18.9)$\n",
    "* Household income(%):\n",
    "* $< 50k ~~~~~~~~~~~~~~~~~~~~~~~~~~~~ 696 ~(25.2)$\n",
    "* $ \\geq 50k < 100k ~~~~~~~~~~~~~~~ 790 ~(28.7)$\n",
    "* $ \\geq 100k ~~~~~~~~~~~~~~~~~~~~~~~~~~ 1270 ~(46.1)$"
   ],
   "id": "cc0a2a50f8b068b7"
  },
  {
   "metadata": {
    "ExecuteTime": {
     "end_time": "2025-09-22T15:28:02.853966Z",
     "start_time": "2025-09-22T15:28:02.840446Z"
    }
   },
   "cell_type": "code",
   "source": [
    "X_baseline_A, y_baseline_A = extract_article_features(features_A_baseline)\n",
    "X_followup_A, y_followup_A = extract_article_features(features_A_followup)\n",
    "\n",
    "print(X_baseline_A.shape, y_baseline_A.shape)\n",
    "print(X_followup_A.shape, y_followup_A.shape)"
   ],
   "id": "727a4668aaf5b72e",
   "outputs": [
    {
     "name": "stdout",
     "output_type": "stream",
     "text": [
      "(2409, 9) (2409,)\n",
      "(2409, 9) (2409,)\n"
     ]
    }
   ],
   "execution_count": 11
  },
  {
   "metadata": {
    "ExecuteTime": {
     "end_time": "2025-09-22T15:28:04.896685Z",
     "start_time": "2025-09-22T15:28:04.852555Z"
    }
   },
   "cell_type": "code",
   "source": [
    "# Convert NumPy array to DataFrame with placeholder column names\n",
    "conn_A_baseline_df = pd.DataFrame(\n",
    "    conn_A_baseline,\n",
    "    columns=[f\"conn_{i}\" for i in range(conn_A_baseline.shape[1])]\n",
    ")\n",
    "\n",
    "# Add Subject column\n",
    "conn_A_baseline_df.insert(0, \"Subject\", subs_A_baseline)\n",
    "\n",
    "conn_A_followup_df = pd.DataFrame(\n",
    "    conn_A_followup,\n",
    "    columns=[f\"conn_{i}\" for i in range(conn_A_followup.shape[1])]\n",
    ")\n",
    "\n",
    "# Add Subject column\n",
    "conn_A_followup_df.insert(0, \"Subject\", subs_A_followup)\n"
   ],
   "id": "c428a69f31713f",
   "outputs": [],
   "execution_count": 12
  },
  {
   "metadata": {
    "ExecuteTime": {
     "end_time": "2025-09-22T15:28:08.182173Z",
     "start_time": "2025-09-22T15:28:08.082424Z"
    }
   },
   "cell_type": "code",
   "source": [
    "results_no_network, models_no_network = run_cross_validation(X_baseline_A, y_baseline_A, use_network=False)\n",
    "print_cross_val_results(results_no_network)"
   ],
   "id": "21ce9dd92490224b",
   "outputs": [
    {
     "name": "stderr",
     "output_type": "stream",
     "text": [
      "Cross-validation progress: 100%|██████████| 19/19 [00:00<00:00, 262.28it/s]"
     ]
    },
    {
     "name": "stdout",
     "output_type": "stream",
     "text": [
      "\n",
      "Site: site02 | Pearson r = 0.251 (p=0.002) | Partial η² = 0.017\n",
      "\n",
      "Site: site03 | Pearson r = 0.212 (p=0.009) | Partial η² = -0.000\n",
      "\n",
      "Site: site04 | Pearson r = 0.344 (p=0.000) | Partial η² = 0.094\n",
      "\n",
      "Site: site05 | Pearson r = 0.454 (p=0.000) | Partial η² = 0.192\n",
      "\n",
      "Site: site06 | Pearson r = 0.414 (p=0.000) | Partial η² = 0.139\n",
      "\n",
      "Site: site08 | Pearson r = 0.293 (p=0.025) | Partial η² = -0.592\n",
      "\n",
      "Site: site09 | Pearson r = 0.276 (p=0.028) | Partial η² = -0.217\n",
      "\n",
      "Site: site10 | Pearson r = 0.320 (p=0.000) | Partial η² = 0.077\n",
      "\n",
      "Site: site11 | Pearson r = 0.393 (p=0.001) | Partial η² = 0.144\n",
      "\n",
      "Site: site12 | Pearson r = 0.353 (p=0.010) | Partial η² = 0.064\n",
      "\n",
      "Site: site13 | Pearson r = 0.298 (p=0.000) | Partial η² = 0.069\n",
      "\n",
      "Site: site14 | Pearson r = 0.363 (p=0.000) | Partial η² = 0.124\n",
      "\n",
      "Site: site15 | Pearson r = 0.621 (p=0.000) | Partial η² = 0.217\n",
      "\n",
      "Site: site16 | Pearson r = 0.413 (p=0.000) | Partial η² = 0.168\n",
      "\n",
      "Site: site17 | Pearson r = 0.296 (p=0.003) | Partial η² = -0.117\n",
      "\n",
      "Site: site18 | Pearson r = 0.368 (p=0.000) | Partial η² = 0.117\n",
      "\n",
      "Site: site19 | Pearson r = 0.408 (p=0.001) | Partial η² = 0.136\n",
      "\n",
      "Site: site20 | Pearson r = 0.430 (p=0.000) | Partial η² = 0.061\n",
      "\n",
      "Site: site21 | Pearson r = 0.508 (p=0.000) | Partial η² = 0.208\n",
      "Cross-validated Performance Metrics:\n",
      "Average Pearson's r: 0.369\n",
      "Partial eta squared: 0.047\n",
      "R²: 0.047\n"
     ]
    },
    {
     "name": "stderr",
     "output_type": "stream",
     "text": [
      "\n"
     ]
    }
   ],
   "execution_count": 13
  },
  {
   "metadata": {
    "ExecuteTime": {
     "end_time": "2025-09-22T15:29:15.869917Z",
     "start_time": "2025-09-22T15:29:15.801580Z"
    }
   },
   "cell_type": "code",
   "source": [
    "results_no_network, models_no_network = run_cross_validation(X_followup_A, y_followup_A, use_network=False)\n",
    "print_cross_val_results(results_no_network)"
   ],
   "id": "38d763073687ce1e",
   "outputs": [
    {
     "name": "stderr",
     "output_type": "stream",
     "text": [
      "Cross-validation progress: 100%|██████████| 19/19 [00:00<00:00, 312.72it/s]"
     ]
    },
    {
     "name": "stdout",
     "output_type": "stream",
     "text": [
      "\n",
      "Site: site02 | Pearson r = 0.218 (p=0.008) | Partial η² = 0.027\n",
      "\n",
      "Site: site03 | Pearson r = 0.184 (p=0.024) | Partial η² = 0.008\n",
      "\n",
      "Site: site04 | Pearson r = 0.267 (p=0.000) | Partial η² = 0.017\n",
      "\n",
      "Site: site05 | Pearson r = 0.489 (p=0.000) | Partial η² = 0.176\n",
      "\n",
      "Site: site06 | Pearson r = 0.260 (p=0.001) | Partial η² = 0.045\n",
      "\n",
      "Site: site08 | Pearson r = 0.154 (p=0.231) | Partial η² = -0.629\n",
      "\n",
      "Site: site09 | Pearson r = 0.202 (p=0.115) | Partial η² = -0.245\n",
      "\n",
      "Site: site10 | Pearson r = 0.339 (p=0.000) | Partial η² = 0.112\n",
      "\n",
      "Site: site11 | Pearson r = 0.435 (p=0.000) | Partial η² = 0.179\n",
      "\n",
      "Site: site12 | Pearson r = 0.333 (p=0.013) | Partial η² = 0.091\n",
      "\n",
      "Site: site13 | Pearson r = 0.272 (p=0.001) | Partial η² = 0.050\n",
      "\n",
      "Site: site14 | Pearson r = 0.273 (p=0.000) | Partial η² = 0.069\n",
      "\n",
      "Site: site15 | Pearson r = 0.593 (p=0.000) | Partial η² = 0.055\n",
      "\n",
      "Site: site16 | Pearson r = 0.340 (p=0.000) | Partial η² = 0.113\n",
      "\n",
      "Site: site17 | Pearson r = 0.191 (p=0.065) | Partial η² = -0.268\n",
      "\n",
      "Site: site18 | Pearson r = 0.227 (p=0.032) | Partial η² = -0.020\n",
      "\n",
      "Site: site19 | Pearson r = 0.370 (p=0.002) | Partial η² = 0.124\n",
      "\n",
      "Site: site20 | Pearson r = 0.517 (p=0.000) | Partial η² = 0.197\n",
      "\n",
      "Site: site21 | Pearson r = 0.557 (p=0.000) | Partial η² = 0.262\n",
      "Cross-validated Performance Metrics:\n",
      "Average Pearson's r: 0.327\n",
      "Partial eta squared: 0.019\n",
      "R²: 0.019\n"
     ]
    },
    {
     "name": "stderr",
     "output_type": "stream",
     "text": [
      "\n"
     ]
    }
   ],
   "execution_count": 14
  },
  {
   "metadata": {
    "ExecuteTime": {
     "end_time": "2025-09-22T15:29:42.288693Z",
     "start_time": "2025-09-22T15:29:42.279199Z"
    }
   },
   "cell_type": "code",
   "source": [
    "ses_baseline_A = extract_ses_features(features_A_baseline)\n",
    "ses_followup_A = extract_ses_features(features_A_followup)"
   ],
   "id": "d827847118ab001",
   "outputs": [],
   "execution_count": 15
  },
  {
   "metadata": {
    "ExecuteTime": {
     "end_time": "2025-09-22T15:29:47.077378Z",
     "start_time": "2025-09-22T15:29:47.069977Z"
    }
   },
   "cell_type": "code",
   "source": [
    "main_baseline_A = combine_data(ses_baseline_A, X_baseline_A)\n",
    "main_followup_A = combine_data(ses_followup_A, X_followup_A)"
   ],
   "id": "ef9534eecd3de391",
   "outputs": [
    {
     "name": "stdout",
     "output_type": "stream",
     "text": [
      "Dropping duplicate columns: ['site_id_l', 'Subject']\n",
      "Dropping duplicate columns: ['site_id_l', 'Subject']\n"
     ]
    }
   ],
   "execution_count": 16
  },
  {
   "metadata": {
    "ExecuteTime": {
     "end_time": "2025-09-22T15:29:50.364163Z",
     "start_time": "2025-09-22T15:29:50.310289Z"
    }
   },
   "cell_type": "code",
   "source": [
    "results_no_network, models_no_network = run_cross_validation(main_baseline_A, y_baseline_A, use_network=False)\n",
    "print_cross_val_results(results_no_network)"
   ],
   "id": "ffb35d1078cb719d",
   "outputs": [
    {
     "name": "stderr",
     "output_type": "stream",
     "text": [
      "Cross-validation progress: 100%|██████████| 19/19 [00:00<00:00, 391.63it/s]"
     ]
    },
    {
     "name": "stdout",
     "output_type": "stream",
     "text": [
      "\n",
      "Site: site02 | Pearson r = 0.385 (p=0.000) | Partial η² = 0.096\n",
      "\n",
      "Site: site03 | Pearson r = 0.329 (p=0.000) | Partial η² = 0.083\n",
      "\n",
      "Site: site04 | Pearson r = 0.485 (p=0.000) | Partial η² = 0.234\n",
      "\n",
      "Site: site05 | Pearson r = 0.530 (p=0.000) | Partial η² = 0.274\n",
      "\n",
      "Site: site06 | Pearson r = 0.408 (p=0.000) | Partial η² = 0.160\n",
      "\n",
      "Site: site08 | Pearson r = 0.388 (p=0.002) | Partial η² = -0.131\n",
      "\n",
      "Site: site09 | Pearson r = 0.462 (p=0.000) | Partial η² = 0.071\n",
      "\n",
      "Site: site10 | Pearson r = 0.415 (p=0.000) | Partial η² = 0.165\n",
      "\n",
      "Site: site11 | Pearson r = 0.508 (p=0.000) | Partial η² = 0.241\n",
      "\n",
      "Site: site12 | Pearson r = 0.397 (p=0.003) | Partial η² = 0.121\n",
      "\n",
      "Site: site13 | Pearson r = 0.472 (p=0.000) | Partial η² = 0.211\n",
      "\n",
      "Site: site14 | Pearson r = 0.507 (p=0.000) | Partial η² = 0.244\n",
      "\n",
      "Site: site15 | Pearson r = 0.662 (p=0.000) | Partial η² = 0.397\n",
      "\n",
      "Site: site16 | Pearson r = 0.476 (p=0.000) | Partial η² = 0.225\n",
      "\n",
      "Site: site17 | Pearson r = 0.435 (p=0.000) | Partial η² = 0.117\n",
      "\n",
      "Site: site18 | Pearson r = 0.424 (p=0.000) | Partial η² = 0.177\n",
      "\n",
      "Site: site19 | Pearson r = 0.423 (p=0.000) | Partial η² = 0.171\n",
      "\n",
      "Site: site20 | Pearson r = 0.456 (p=0.000) | Partial η² = 0.164\n",
      "\n",
      "Site: site21 | Pearson r = 0.481 (p=0.000) | Partial η² = 0.216\n",
      "Cross-validated Performance Metrics:\n",
      "Average Pearson's r: 0.455\n",
      "Partial eta squared: 0.170\n",
      "R²: 0.170\n"
     ]
    },
    {
     "name": "stderr",
     "output_type": "stream",
     "text": [
      "\n"
     ]
    }
   ],
   "execution_count": 17
  },
  {
   "metadata": {
    "ExecuteTime": {
     "end_time": "2025-09-22T15:30:13.512491Z",
     "start_time": "2025-09-22T15:30:13.460891Z"
    }
   },
   "cell_type": "code",
   "source": [
    "results_no_network, models_no_network = run_cross_validation(main_followup_A, y_followup_A, use_network=False)\n",
    "print_cross_val_results(results_no_network)"
   ],
   "id": "c8e114fbc6bfa507",
   "outputs": [
    {
     "name": "stderr",
     "output_type": "stream",
     "text": [
      "Cross-validation progress: 100%|██████████| 19/19 [00:00<00:00, 404.48it/s]"
     ]
    },
    {
     "name": "stdout",
     "output_type": "stream",
     "text": [
      "\n",
      "Site: site02 | Pearson r = 0.307 (p=0.000) | Partial η² = 0.060\n",
      "\n",
      "Site: site03 | Pearson r = 0.415 (p=0.000) | Partial η² = 0.169\n",
      "\n",
      "Site: site04 | Pearson r = 0.388 (p=0.000) | Partial η² = 0.134\n",
      "\n",
      "Site: site05 | Pearson r = 0.556 (p=0.000) | Partial η² = 0.266\n",
      "\n",
      "Site: site06 | Pearson r = 0.288 (p=0.000) | Partial η² = 0.027\n",
      "\n",
      "Site: site08 | Pearson r = 0.358 (p=0.004) | Partial η² = -0.046\n",
      "\n",
      "Site: site09 | Pearson r = 0.335 (p=0.008) | Partial η² = -0.035\n",
      "\n",
      "Site: site10 | Pearson r = 0.383 (p=0.000) | Partial η² = 0.104\n",
      "\n",
      "Site: site11 | Pearson r = 0.584 (p=0.000) | Partial η² = 0.336\n",
      "\n",
      "Site: site12 | Pearson r = 0.500 (p=0.000) | Partial η² = 0.249\n",
      "\n",
      "Site: site13 | Pearson r = 0.490 (p=0.000) | Partial η² = 0.237\n",
      "\n",
      "Site: site14 | Pearson r = 0.431 (p=0.000) | Partial η² = 0.183\n",
      "\n",
      "Site: site15 | Pearson r = 0.714 (p=0.000) | Partial η² = 0.353\n",
      "\n",
      "Site: site16 | Pearson r = 0.390 (p=0.000) | Partial η² = 0.151\n",
      "\n",
      "Site: site17 | Pearson r = 0.384 (p=0.000) | Partial η² = 0.014\n",
      "\n",
      "Site: site18 | Pearson r = 0.343 (p=0.001) | Partial η² = 0.096\n",
      "\n",
      "Site: site19 | Pearson r = 0.474 (p=0.000) | Partial η² = 0.218\n",
      "\n",
      "Site: site20 | Pearson r = 0.531 (p=0.000) | Partial η² = 0.274\n",
      "\n",
      "Site: site21 | Pearson r = 0.516 (p=0.000) | Partial η² = 0.260\n",
      "Cross-validated Performance Metrics:\n",
      "Average Pearson's r: 0.441\n",
      "Partial eta squared: 0.161\n",
      "R²: 0.161\n"
     ]
    },
    {
     "name": "stderr",
     "output_type": "stream",
     "text": [
      "\n"
     ]
    }
   ],
   "execution_count": 18
  },
  {
   "metadata": {
    "ExecuteTime": {
     "end_time": "2025-09-22T15:32:53.984356Z",
     "start_time": "2025-09-22T15:30:49.727856Z"
    }
   },
   "cell_type": "code",
   "source": [
    "results_network, models_network = run_cross_validation(main_baseline_A, y_baseline_A, use_network=True,\n",
    "                                                       X_network=conn_A_baseline_df, num_pc=15)\n",
    "print_cross_val_results(results_network)"
   ],
   "id": "1a486dd0f38d39c",
   "outputs": [
    {
     "name": "stderr",
     "output_type": "stream",
     "text": [
      "Cross-validation progress:   5%|▌         | 1/19 [00:09<02:55,  9.72s/it]"
     ]
    },
    {
     "name": "stdout",
     "output_type": "stream",
     "text": [
      "\n",
      "Site: site02 | Pearson r = 0.392 (p=0.000) | Partial η² = 0.114\n"
     ]
    },
    {
     "name": "stderr",
     "output_type": "stream",
     "text": [
      "Cross-validation progress:  11%|█         | 2/19 [00:17<02:27,  8.68s/it]"
     ]
    },
    {
     "name": "stdout",
     "output_type": "stream",
     "text": [
      "\n",
      "Site: site03 | Pearson r = 0.361 (p=0.000) | Partial η² = 0.110\n"
     ]
    },
    {
     "name": "stderr",
     "output_type": "stream",
     "text": [
      "Cross-validation progress:  16%|█▌        | 3/19 [00:24<02:08,  8.01s/it]"
     ]
    },
    {
     "name": "stdout",
     "output_type": "stream",
     "text": [
      "\n",
      "Site: site04 | Pearson r = 0.485 (p=0.000) | Partial η² = 0.233\n"
     ]
    },
    {
     "name": "stderr",
     "output_type": "stream",
     "text": [
      "Cross-validation progress:  21%|██        | 4/19 [00:30<01:48,  7.20s/it]"
     ]
    },
    {
     "name": "stdout",
     "output_type": "stream",
     "text": [
      "\n",
      "Site: site05 | Pearson r = 0.528 (p=0.000) | Partial η² = 0.274\n"
     ]
    },
    {
     "name": "stderr",
     "output_type": "stream",
     "text": [
      "Cross-validation progress:  26%|██▋       | 5/19 [00:37<01:36,  6.88s/it]"
     ]
    },
    {
     "name": "stdout",
     "output_type": "stream",
     "text": [
      "\n",
      "Site: site06 | Pearson r = 0.438 (p=0.000) | Partial η² = 0.189\n"
     ]
    },
    {
     "name": "stderr",
     "output_type": "stream",
     "text": [
      "Cross-validation progress:  32%|███▏      | 6/19 [00:44<01:30,  6.94s/it]"
     ]
    },
    {
     "name": "stdout",
     "output_type": "stream",
     "text": [
      "\n",
      "Site: site08 | Pearson r = 0.433 (p=0.001) | Partial η² = -0.068\n"
     ]
    },
    {
     "name": "stderr",
     "output_type": "stream",
     "text": [
      "Cross-validation progress:  37%|███▋      | 7/19 [00:50<01:19,  6.63s/it]"
     ]
    },
    {
     "name": "stdout",
     "output_type": "stream",
     "text": [
      "\n",
      "Site: site09 | Pearson r = 0.468 (p=0.000) | Partial η² = 0.072\n"
     ]
    },
    {
     "name": "stderr",
     "output_type": "stream",
     "text": [
      "Cross-validation progress:  42%|████▏     | 8/19 [00:57<01:15,  6.89s/it]"
     ]
    },
    {
     "name": "stdout",
     "output_type": "stream",
     "text": [
      "\n",
      "Site: site10 | Pearson r = 0.419 (p=0.000) | Partial η² = 0.170\n"
     ]
    },
    {
     "name": "stderr",
     "output_type": "stream",
     "text": [
      "Cross-validation progress:  47%|████▋     | 9/19 [01:04<01:09,  6.92s/it]"
     ]
    },
    {
     "name": "stdout",
     "output_type": "stream",
     "text": [
      "\n",
      "Site: site11 | Pearson r = 0.507 (p=0.000) | Partial η² = 0.245\n"
     ]
    },
    {
     "name": "stderr",
     "output_type": "stream",
     "text": [
      "Cross-validation progress:  53%|█████▎    | 10/19 [01:10<01:00,  6.68s/it]"
     ]
    },
    {
     "name": "stdout",
     "output_type": "stream",
     "text": [
      "\n",
      "Site: site12 | Pearson r = 0.385 (p=0.004) | Partial η² = 0.087\n"
     ]
    },
    {
     "name": "stderr",
     "output_type": "stream",
     "text": [
      "Cross-validation progress:  58%|█████▊    | 11/19 [01:16<00:50,  6.36s/it]"
     ]
    },
    {
     "name": "stdout",
     "output_type": "stream",
     "text": [
      "\n",
      "Site: site13 | Pearson r = 0.481 (p=0.000) | Partial η² = 0.224\n"
     ]
    },
    {
     "name": "stderr",
     "output_type": "stream",
     "text": [
      "Cross-validation progress:  63%|██████▎   | 12/19 [01:22<00:43,  6.15s/it]"
     ]
    },
    {
     "name": "stdout",
     "output_type": "stream",
     "text": [
      "\n",
      "Site: site14 | Pearson r = 0.513 (p=0.000) | Partial η² = 0.254\n"
     ]
    },
    {
     "name": "stderr",
     "output_type": "stream",
     "text": [
      "Cross-validation progress:  68%|██████▊   | 13/19 [01:27<00:36,  6.02s/it]"
     ]
    },
    {
     "name": "stdout",
     "output_type": "stream",
     "text": [
      "\n",
      "Site: site15 | Pearson r = 0.645 (p=0.000) | Partial η² = 0.396\n"
     ]
    },
    {
     "name": "stderr",
     "output_type": "stream",
     "text": [
      "Cross-validation progress:  74%|███████▎  | 14/19 [01:32<00:28,  5.76s/it]"
     ]
    },
    {
     "name": "stdout",
     "output_type": "stream",
     "text": [
      "\n",
      "Site: site16 | Pearson r = 0.477 (p=0.000) | Partial η² = 0.227\n"
     ]
    },
    {
     "name": "stderr",
     "output_type": "stream",
     "text": [
      "Cross-validation progress:  79%|███████▉  | 15/19 [01:38<00:23,  5.79s/it]"
     ]
    },
    {
     "name": "stdout",
     "output_type": "stream",
     "text": [
      "\n",
      "Site: site17 | Pearson r = 0.379 (p=0.000) | Partial η² = 0.066\n"
     ]
    },
    {
     "name": "stderr",
     "output_type": "stream",
     "text": [
      "Cross-validation progress:  84%|████████▍ | 16/19 [01:46<00:19,  6.34s/it]"
     ]
    },
    {
     "name": "stdout",
     "output_type": "stream",
     "text": [
      "\n",
      "Site: site18 | Pearson r = 0.445 (p=0.000) | Partial η² = 0.192\n"
     ]
    },
    {
     "name": "stderr",
     "output_type": "stream",
     "text": [
      "Cross-validation progress:  89%|████████▉ | 17/19 [01:52<00:12,  6.25s/it]"
     ]
    },
    {
     "name": "stdout",
     "output_type": "stream",
     "text": [
      "\n",
      "Site: site19 | Pearson r = 0.445 (p=0.000) | Partial η² = 0.188\n"
     ]
    },
    {
     "name": "stderr",
     "output_type": "stream",
     "text": [
      "Cross-validation progress:  95%|█████████▍| 18/19 [01:58<00:06,  6.09s/it]"
     ]
    },
    {
     "name": "stdout",
     "output_type": "stream",
     "text": [
      "\n",
      "Site: site20 | Pearson r = 0.451 (p=0.000) | Partial η² = 0.148\n"
     ]
    },
    {
     "name": "stderr",
     "output_type": "stream",
     "text": [
      "Cross-validation progress: 100%|██████████| 19/19 [02:04<00:00,  6.54s/it]"
     ]
    },
    {
     "name": "stdout",
     "output_type": "stream",
     "text": [
      "\n",
      "Site: site21 | Pearson r = 0.455 (p=0.000) | Partial η² = 0.192\n",
      "Cross-validated Performance Metrics:\n",
      "Average Pearson's r: 0.458\n",
      "Partial eta squared: 0.174\n",
      "R²: 0.174\n"
     ]
    },
    {
     "name": "stderr",
     "output_type": "stream",
     "text": [
      "\n"
     ]
    }
   ],
   "execution_count": 19
  },
  {
   "metadata": {
    "ExecuteTime": {
     "end_time": "2025-09-22T15:37:17.463193Z",
     "start_time": "2025-09-22T15:33:36.246669Z"
    }
   },
   "cell_type": "code",
   "source": [
    "results_network, models_network = run_cross_validation(main_baseline_A, y_baseline_A, use_network=True,\n",
    "                                                       X_network=conn_A_baseline_df, num_pc=100)\n",
    "print_cross_val_results(results_network)"
   ],
   "id": "1a669184aedde813",
   "outputs": [
    {
     "name": "stderr",
     "output_type": "stream",
     "text": [
      "Cross-validation progress:   5%|▌         | 1/19 [00:12<03:43, 12.39s/it]"
     ]
    },
    {
     "name": "stdout",
     "output_type": "stream",
     "text": [
      "\n",
      "Site: site02 | Pearson r = 0.467 (p=0.000) | Partial η² = 0.196\n"
     ]
    },
    {
     "name": "stderr",
     "output_type": "stream",
     "text": [
      "Cross-validation progress:  11%|█         | 2/19 [00:23<03:13, 11.41s/it]"
     ]
    },
    {
     "name": "stdout",
     "output_type": "stream",
     "text": [
      "\n",
      "Site: site03 | Pearson r = 0.456 (p=0.000) | Partial η² = 0.203\n"
     ]
    },
    {
     "name": "stderr",
     "output_type": "stream",
     "text": [
      "Cross-validation progress:  16%|█▌        | 3/19 [00:36<03:13, 12.09s/it]"
     ]
    },
    {
     "name": "stdout",
     "output_type": "stream",
     "text": [
      "\n",
      "Site: site04 | Pearson r = 0.514 (p=0.000) | Partial η² = 0.256\n"
     ]
    },
    {
     "name": "stderr",
     "output_type": "stream",
     "text": [
      "Cross-validation progress:  21%|██        | 4/19 [00:48<03:01, 12.08s/it]"
     ]
    },
    {
     "name": "stdout",
     "output_type": "stream",
     "text": [
      "\n",
      "Site: site05 | Pearson r = 0.518 (p=0.000) | Partial η² = 0.268\n"
     ]
    },
    {
     "name": "stderr",
     "output_type": "stream",
     "text": [
      "Cross-validation progress:  26%|██▋       | 5/19 [00:59<02:46, 11.89s/it]"
     ]
    },
    {
     "name": "stdout",
     "output_type": "stream",
     "text": [
      "\n",
      "Site: site06 | Pearson r = 0.467 (p=0.000) | Partial η² = 0.216\n"
     ]
    },
    {
     "name": "stderr",
     "output_type": "stream",
     "text": [
      "Cross-validation progress:  32%|███▏      | 6/19 [01:11<02:36, 12.02s/it]"
     ]
    },
    {
     "name": "stdout",
     "output_type": "stream",
     "text": [
      "\n",
      "Site: site08 | Pearson r = 0.436 (p=0.001) | Partial η² = -0.084\n"
     ]
    },
    {
     "name": "stderr",
     "output_type": "stream",
     "text": [
      "Cross-validation progress:  37%|███▋      | 7/19 [01:23<02:24, 12.03s/it]"
     ]
    },
    {
     "name": "stdout",
     "output_type": "stream",
     "text": [
      "\n",
      "Site: site09 | Pearson r = 0.481 (p=0.000) | Partial η² = 0.088\n"
     ]
    },
    {
     "name": "stderr",
     "output_type": "stream",
     "text": [
      "Cross-validation progress:  42%|████▏     | 8/19 [01:33<02:04, 11.28s/it]"
     ]
    },
    {
     "name": "stdout",
     "output_type": "stream",
     "text": [
      "\n",
      "Site: site10 | Pearson r = 0.462 (p=0.000) | Partial η² = 0.203\n"
     ]
    },
    {
     "name": "stderr",
     "output_type": "stream",
     "text": [
      "Cross-validation progress:  47%|████▋     | 9/19 [01:47<02:00, 12.08s/it]"
     ]
    },
    {
     "name": "stdout",
     "output_type": "stream",
     "text": [
      "\n",
      "Site: site11 | Pearson r = 0.543 (p=0.000) | Partial η² = 0.290\n"
     ]
    },
    {
     "name": "stderr",
     "output_type": "stream",
     "text": [
      "Cross-validation progress:  53%|█████▎    | 10/19 [02:00<01:52, 12.51s/it]"
     ]
    },
    {
     "name": "stdout",
     "output_type": "stream",
     "text": [
      "\n",
      "Site: site12 | Pearson r = 0.394 (p=0.003) | Partial η² = 0.077\n"
     ]
    },
    {
     "name": "stderr",
     "output_type": "stream",
     "text": [
      "Cross-validation progress:  58%|█████▊    | 11/19 [02:12<01:37, 12.19s/it]"
     ]
    },
    {
     "name": "stdout",
     "output_type": "stream",
     "text": [
      "\n",
      "Site: site13 | Pearson r = 0.490 (p=0.000) | Partial η² = 0.233\n"
     ]
    },
    {
     "name": "stderr",
     "output_type": "stream",
     "text": [
      "Cross-validation progress:  63%|██████▎   | 12/19 [02:24<01:24, 12.08s/it]"
     ]
    },
    {
     "name": "stdout",
     "output_type": "stream",
     "text": [
      "\n",
      "Site: site14 | Pearson r = 0.488 (p=0.000) | Partial η² = 0.237\n"
     ]
    },
    {
     "name": "stderr",
     "output_type": "stream",
     "text": [
      "Cross-validation progress:  68%|██████▊   | 13/19 [02:36<01:12, 12.09s/it]"
     ]
    },
    {
     "name": "stdout",
     "output_type": "stream",
     "text": [
      "\n",
      "Site: site15 | Pearson r = 0.663 (p=0.000) | Partial η² = 0.415\n"
     ]
    },
    {
     "name": "stderr",
     "output_type": "stream",
     "text": [
      "Cross-validation progress:  74%|███████▎  | 14/19 [02:45<00:56, 11.27s/it]"
     ]
    },
    {
     "name": "stdout",
     "output_type": "stream",
     "text": [
      "\n",
      "Site: site16 | Pearson r = 0.522 (p=0.000) | Partial η² = 0.272\n"
     ]
    },
    {
     "name": "stderr",
     "output_type": "stream",
     "text": [
      "Cross-validation progress:  79%|███████▉  | 15/19 [02:57<00:45, 11.30s/it]"
     ]
    },
    {
     "name": "stdout",
     "output_type": "stream",
     "text": [
      "\n",
      "Site: site17 | Pearson r = 0.394 (p=0.000) | Partial η² = 0.077\n"
     ]
    },
    {
     "name": "stderr",
     "output_type": "stream",
     "text": [
      "Cross-validation progress:  84%|████████▍ | 16/19 [03:06<00:32, 10.85s/it]"
     ]
    },
    {
     "name": "stdout",
     "output_type": "stream",
     "text": [
      "\n",
      "Site: site18 | Pearson r = 0.476 (p=0.000) | Partial η² = 0.211\n"
     ]
    },
    {
     "name": "stderr",
     "output_type": "stream",
     "text": [
      "Cross-validation progress:  89%|████████▉ | 17/19 [03:18<00:22, 11.18s/it]"
     ]
    },
    {
     "name": "stdout",
     "output_type": "stream",
     "text": [
      "\n",
      "Site: site19 | Pearson r = 0.443 (p=0.000) | Partial η² = 0.191\n"
     ]
    },
    {
     "name": "stderr",
     "output_type": "stream",
     "text": [
      "Cross-validation progress:  95%|█████████▍| 18/19 [03:29<00:10, 10.99s/it]"
     ]
    },
    {
     "name": "stdout",
     "output_type": "stream",
     "text": [
      "\n",
      "Site: site20 | Pearson r = 0.420 (p=0.000) | Partial η² = 0.121\n"
     ]
    },
    {
     "name": "stderr",
     "output_type": "stream",
     "text": [
      "Cross-validation progress: 100%|██████████| 19/19 [03:41<00:00, 11.64s/it]"
     ]
    },
    {
     "name": "stdout",
     "output_type": "stream",
     "text": [
      "\n",
      "Site: site21 | Pearson r = 0.462 (p=0.000) | Partial η² = 0.197\n",
      "Cross-validated Performance Metrics:\n",
      "Average Pearson's r: 0.479\n",
      "Partial eta squared: 0.193\n",
      "R²: 0.193\n"
     ]
    },
    {
     "name": "stderr",
     "output_type": "stream",
     "text": [
      "\n"
     ]
    }
   ],
   "execution_count": 20
  },
  {
   "metadata": {
    "ExecuteTime": {
     "end_time": "2025-09-22T15:43:40.796769Z",
     "start_time": "2025-09-22T15:41:13.746415Z"
    }
   },
   "cell_type": "code",
   "source": [
    "results_network, models_network = run_cross_validation(main_followup_A, y_followup_A, use_network=True,\n",
    "                                                       X_network=conn_A_followup_df, num_pc=15)\n",
    "print_cross_val_results(results_network)"
   ],
   "id": "265beaf462422b9",
   "outputs": [
    {
     "name": "stderr",
     "output_type": "stream",
     "text": [
      "Cross-validation progress:   5%|▌         | 1/19 [00:15<04:39, 15.52s/it]"
     ]
    },
    {
     "name": "stdout",
     "output_type": "stream",
     "text": [
      "\n",
      "Site: site02 | Pearson r = 0.345 (p=0.000) | Partial η² = 0.094\n"
     ]
    },
    {
     "name": "stderr",
     "output_type": "stream",
     "text": [
      "Cross-validation progress:  11%|█         | 2/19 [00:24<03:13, 11.40s/it]"
     ]
    },
    {
     "name": "stdout",
     "output_type": "stream",
     "text": [
      "\n",
      "Site: site03 | Pearson r = 0.441 (p=0.000) | Partial η² = 0.194\n"
     ]
    },
    {
     "name": "stderr",
     "output_type": "stream",
     "text": [
      "Cross-validation progress:  16%|█▌        | 3/19 [00:31<02:34,  9.67s/it]"
     ]
    },
    {
     "name": "stdout",
     "output_type": "stream",
     "text": [
      "\n",
      "Site: site04 | Pearson r = 0.413 (p=0.000) | Partial η² = 0.149\n"
     ]
    },
    {
     "name": "stderr",
     "output_type": "stream",
     "text": [
      "Cross-validation progress:  21%|██        | 4/19 [00:38<02:10,  8.73s/it]"
     ]
    },
    {
     "name": "stdout",
     "output_type": "stream",
     "text": [
      "\n",
      "Site: site05 | Pearson r = 0.559 (p=0.000) | Partial η² = 0.276\n"
     ]
    },
    {
     "name": "stderr",
     "output_type": "stream",
     "text": [
      "Cross-validation progress:  26%|██▋       | 5/19 [00:44<01:46,  7.59s/it]"
     ]
    },
    {
     "name": "stdout",
     "output_type": "stream",
     "text": [
      "\n",
      "Site: site06 | Pearson r = 0.352 (p=0.000) | Partial η² = 0.098\n"
     ]
    },
    {
     "name": "stderr",
     "output_type": "stream",
     "text": [
      "Cross-validation progress:  32%|███▏      | 6/19 [00:52<01:38,  7.61s/it]"
     ]
    },
    {
     "name": "stdout",
     "output_type": "stream",
     "text": [
      "\n",
      "Site: site08 | Pearson r = 0.395 (p=0.001) | Partial η² = -0.010\n"
     ]
    },
    {
     "name": "stderr",
     "output_type": "stream",
     "text": [
      "Cross-validation progress:  37%|███▋      | 7/19 [00:58<01:24,  7.05s/it]"
     ]
    },
    {
     "name": "stdout",
     "output_type": "stream",
     "text": [
      "\n",
      "Site: site09 | Pearson r = 0.360 (p=0.004) | Partial η² = -0.020\n"
     ]
    },
    {
     "name": "stderr",
     "output_type": "stream",
     "text": [
      "Cross-validation progress:  42%|████▏     | 8/19 [01:03<01:12,  6.55s/it]"
     ]
    },
    {
     "name": "stdout",
     "output_type": "stream",
     "text": [
      "\n",
      "Site: site10 | Pearson r = 0.389 (p=0.000) | Partial η² = 0.120\n"
     ]
    },
    {
     "name": "stderr",
     "output_type": "stream",
     "text": [
      "Cross-validation progress:  47%|████▋     | 9/19 [01:11<01:10,  7.00s/it]"
     ]
    },
    {
     "name": "stdout",
     "output_type": "stream",
     "text": [
      "\n",
      "Site: site11 | Pearson r = 0.613 (p=0.000) | Partial η² = 0.374\n"
     ]
    },
    {
     "name": "stderr",
     "output_type": "stream",
     "text": [
      "Cross-validation progress:  53%|█████▎    | 10/19 [01:19<01:07,  7.44s/it]"
     ]
    },
    {
     "name": "stdout",
     "output_type": "stream",
     "text": [
      "\n",
      "Site: site12 | Pearson r = 0.519 (p=0.000) | Partial η² = 0.269\n"
     ]
    },
    {
     "name": "stderr",
     "output_type": "stream",
     "text": [
      "Cross-validation progress:  58%|█████▊    | 11/19 [01:27<00:59,  7.49s/it]"
     ]
    },
    {
     "name": "stdout",
     "output_type": "stream",
     "text": [
      "\n",
      "Site: site13 | Pearson r = 0.501 (p=0.000) | Partial η² = 0.249\n"
     ]
    },
    {
     "name": "stderr",
     "output_type": "stream",
     "text": [
      "Cross-validation progress:  63%|██████▎   | 12/19 [01:35<00:52,  7.53s/it]"
     ]
    },
    {
     "name": "stdout",
     "output_type": "stream",
     "text": [
      "\n",
      "Site: site14 | Pearson r = 0.468 (p=0.000) | Partial η² = 0.211\n"
     ]
    },
    {
     "name": "stderr",
     "output_type": "stream",
     "text": [
      "Cross-validation progress:  68%|██████▊   | 13/19 [01:43<00:46,  7.80s/it]"
     ]
    },
    {
     "name": "stdout",
     "output_type": "stream",
     "text": [
      "\n",
      "Site: site15 | Pearson r = 0.718 (p=0.000) | Partial η² = 0.395\n"
     ]
    },
    {
     "name": "stderr",
     "output_type": "stream",
     "text": [
      "Cross-validation progress:  74%|███████▎  | 14/19 [01:50<00:38,  7.63s/it]"
     ]
    },
    {
     "name": "stdout",
     "output_type": "stream",
     "text": [
      "\n",
      "Site: site16 | Pearson r = 0.373 (p=0.000) | Partial η² = 0.135\n"
     ]
    },
    {
     "name": "stderr",
     "output_type": "stream",
     "text": [
      "Cross-validation progress:  79%|███████▉  | 15/19 [01:58<00:30,  7.51s/it]"
     ]
    },
    {
     "name": "stdout",
     "output_type": "stream",
     "text": [
      "\n",
      "Site: site17 | Pearson r = 0.375 (p=0.000) | Partial η² = 0.002\n"
     ]
    },
    {
     "name": "stderr",
     "output_type": "stream",
     "text": [
      "Cross-validation progress:  84%|████████▍ | 16/19 [02:05<00:22,  7.52s/it]"
     ]
    },
    {
     "name": "stdout",
     "output_type": "stream",
     "text": [
      "\n",
      "Site: site18 | Pearson r = 0.330 (p=0.002) | Partial η² = 0.069\n"
     ]
    },
    {
     "name": "stderr",
     "output_type": "stream",
     "text": [
      "Cross-validation progress:  89%|████████▉ | 17/19 [02:13<00:15,  7.64s/it]"
     ]
    },
    {
     "name": "stdout",
     "output_type": "stream",
     "text": [
      "\n",
      "Site: site19 | Pearson r = 0.508 (p=0.000) | Partial η² = 0.249\n"
     ]
    },
    {
     "name": "stderr",
     "output_type": "stream",
     "text": [
      "Cross-validation progress:  95%|█████████▍| 18/19 [02:21<00:07,  7.61s/it]"
     ]
    },
    {
     "name": "stdout",
     "output_type": "stream",
     "text": [
      "\n",
      "Site: site20 | Pearson r = 0.517 (p=0.000) | Partial η² = 0.266\n"
     ]
    },
    {
     "name": "stderr",
     "output_type": "stream",
     "text": [
      "Cross-validation progress: 100%|██████████| 19/19 [02:26<00:00,  7.74s/it]"
     ]
    },
    {
     "name": "stdout",
     "output_type": "stream",
     "text": [
      "\n",
      "Site: site21 | Pearson r = 0.514 (p=0.000) | Partial η² = 0.260\n",
      "Cross-validated Performance Metrics:\n",
      "Average Pearson's r: 0.457\n",
      "Partial eta squared: 0.178\n",
      "R²: 0.178\n"
     ]
    },
    {
     "name": "stderr",
     "output_type": "stream",
     "text": [
      "\n"
     ]
    }
   ],
   "execution_count": 21
  },
  {
   "metadata": {
    "ExecuteTime": {
     "end_time": "2025-09-22T15:47:34.562363Z",
     "start_time": "2025-09-22T15:44:19.972087Z"
    }
   },
   "cell_type": "code",
   "source": [
    "results_network, models_network = run_cross_validation(main_followup_A, y_followup_A, use_network=True,\n",
    "                                                       X_network=conn_A_followup_df, num_pc=100)\n",
    "print_cross_val_results(results_network)"
   ],
   "id": "3fabb705e191826d",
   "outputs": [
    {
     "name": "stderr",
     "output_type": "stream",
     "text": [
      "Cross-validation progress:   5%|▌         | 1/19 [00:14<04:13, 14.08s/it]"
     ]
    },
    {
     "name": "stdout",
     "output_type": "stream",
     "text": [
      "\n",
      "Site: site02 | Pearson r = 0.376 (p=0.000) | Partial η² = 0.116\n"
     ]
    },
    {
     "name": "stderr",
     "output_type": "stream",
     "text": [
      "Cross-validation progress:  11%|█         | 2/19 [00:23<03:17, 11.60s/it]"
     ]
    },
    {
     "name": "stdout",
     "output_type": "stream",
     "text": [
      "\n",
      "Site: site03 | Pearson r = 0.474 (p=0.000) | Partial η² = 0.224\n"
     ]
    },
    {
     "name": "stderr",
     "output_type": "stream",
     "text": [
      "Cross-validation progress:  16%|█▌        | 3/19 [00:33<02:49, 10.62s/it]"
     ]
    },
    {
     "name": "stdout",
     "output_type": "stream",
     "text": [
      "\n",
      "Site: site04 | Pearson r = 0.460 (p=0.000) | Partial η² = 0.173\n"
     ]
    },
    {
     "name": "stderr",
     "output_type": "stream",
     "text": [
      "Cross-validation progress:  21%|██        | 4/19 [00:43<02:36, 10.44s/it]"
     ]
    },
    {
     "name": "stdout",
     "output_type": "stream",
     "text": [
      "\n",
      "Site: site05 | Pearson r = 0.583 (p=0.000) | Partial η² = 0.309\n"
     ]
    },
    {
     "name": "stderr",
     "output_type": "stream",
     "text": [
      "Cross-validation progress:  26%|██▋       | 5/19 [00:53<02:24, 10.34s/it]"
     ]
    },
    {
     "name": "stdout",
     "output_type": "stream",
     "text": [
      "\n",
      "Site: site06 | Pearson r = 0.373 (p=0.000) | Partial η² = 0.090\n"
     ]
    },
    {
     "name": "stderr",
     "output_type": "stream",
     "text": [
      "Cross-validation progress:  32%|███▏      | 6/19 [01:05<02:19, 10.71s/it]"
     ]
    },
    {
     "name": "stdout",
     "output_type": "stream",
     "text": [
      "\n",
      "Site: site08 | Pearson r = 0.463 (p=0.000) | Partial η² = 0.068\n"
     ]
    },
    {
     "name": "stderr",
     "output_type": "stream",
     "text": [
      "Cross-validation progress:  37%|███▋      | 7/19 [01:15<02:05, 10.47s/it]"
     ]
    },
    {
     "name": "stdout",
     "output_type": "stream",
     "text": [
      "\n",
      "Site: site09 | Pearson r = 0.392 (p=0.002) | Partial η² = 0.001\n"
     ]
    },
    {
     "name": "stderr",
     "output_type": "stream",
     "text": [
      "Cross-validation progress:  42%|████▏     | 8/19 [01:24<01:52, 10.22s/it]"
     ]
    },
    {
     "name": "stdout",
     "output_type": "stream",
     "text": [
      "\n",
      "Site: site10 | Pearson r = 0.393 (p=0.000) | Partial η² = 0.126\n"
     ]
    },
    {
     "name": "stderr",
     "output_type": "stream",
     "text": [
      "Cross-validation progress:  47%|████▋     | 9/19 [01:36<01:47, 10.75s/it]"
     ]
    },
    {
     "name": "stdout",
     "output_type": "stream",
     "text": [
      "\n",
      "Site: site11 | Pearson r = 0.577 (p=0.000) | Partial η² = 0.310\n"
     ]
    },
    {
     "name": "stderr",
     "output_type": "stream",
     "text": [
      "Cross-validation progress:  53%|█████▎    | 10/19 [01:48<01:38, 10.99s/it]"
     ]
    },
    {
     "name": "stdout",
     "output_type": "stream",
     "text": [
      "\n",
      "Site: site12 | Pearson r = 0.596 (p=0.000) | Partial η² = 0.352\n"
     ]
    },
    {
     "name": "stderr",
     "output_type": "stream",
     "text": [
      "Cross-validation progress:  58%|█████▊    | 11/19 [01:57<01:24, 10.51s/it]"
     ]
    },
    {
     "name": "stdout",
     "output_type": "stream",
     "text": [
      "\n",
      "Site: site13 | Pearson r = 0.510 (p=0.000) | Partial η² = 0.256\n"
     ]
    },
    {
     "name": "stderr",
     "output_type": "stream",
     "text": [
      "Cross-validation progress:  63%|██████▎   | 12/19 [02:06<01:10, 10.06s/it]"
     ]
    },
    {
     "name": "stdout",
     "output_type": "stream",
     "text": [
      "\n",
      "Site: site14 | Pearson r = 0.543 (p=0.000) | Partial η² = 0.281\n"
     ]
    },
    {
     "name": "stderr",
     "output_type": "stream",
     "text": [
      "Cross-validation progress:  68%|██████▊   | 13/19 [02:17<01:00, 10.16s/it]"
     ]
    },
    {
     "name": "stdout",
     "output_type": "stream",
     "text": [
      "\n",
      "Site: site15 | Pearson r = 0.643 (p=0.000) | Partial η² = 0.339\n"
     ]
    },
    {
     "name": "stderr",
     "output_type": "stream",
     "text": [
      "Cross-validation progress:  74%|███████▎  | 14/19 [02:25<00:48,  9.74s/it]"
     ]
    },
    {
     "name": "stdout",
     "output_type": "stream",
     "text": [
      "\n",
      "Site: site16 | Pearson r = 0.420 (p=0.000) | Partial η² = 0.166\n"
     ]
    },
    {
     "name": "stderr",
     "output_type": "stream",
     "text": [
      "Cross-validation progress:  79%|███████▉  | 15/19 [02:35<00:38,  9.69s/it]"
     ]
    },
    {
     "name": "stdout",
     "output_type": "stream",
     "text": [
      "\n",
      "Site: site17 | Pearson r = 0.470 (p=0.000) | Partial η² = 0.142\n"
     ]
    },
    {
     "name": "stderr",
     "output_type": "stream",
     "text": [
      "Cross-validation progress:  84%|████████▍ | 16/19 [02:44<00:28,  9.58s/it]"
     ]
    },
    {
     "name": "stdout",
     "output_type": "stream",
     "text": [
      "\n",
      "Site: site18 | Pearson r = 0.322 (p=0.002) | Partial η² = 0.039\n"
     ]
    },
    {
     "name": "stderr",
     "output_type": "stream",
     "text": [
      "Cross-validation progress:  89%|████████▉ | 17/19 [02:54<00:19,  9.59s/it]"
     ]
    },
    {
     "name": "stdout",
     "output_type": "stream",
     "text": [
      "\n",
      "Site: site19 | Pearson r = 0.531 (p=0.000) | Partial η² = 0.270\n"
     ]
    },
    {
     "name": "stderr",
     "output_type": "stream",
     "text": [
      "Cross-validation progress:  95%|█████████▍| 18/19 [03:03<00:09,  9.53s/it]"
     ]
    },
    {
     "name": "stdout",
     "output_type": "stream",
     "text": [
      "\n",
      "Site: site20 | Pearson r = 0.546 (p=0.000) | Partial η² = 0.295\n"
     ]
    },
    {
     "name": "stderr",
     "output_type": "stream",
     "text": [
      "Cross-validation progress: 100%|██████████| 19/19 [03:14<00:00, 10.24s/it]"
     ]
    },
    {
     "name": "stdout",
     "output_type": "stream",
     "text": [
      "\n",
      "Site: site21 | Pearson r = 0.587 (p=0.000) | Partial η² = 0.328\n",
      "Cross-validated Performance Metrics:\n",
      "Average Pearson's r: 0.487\n",
      "Partial eta squared: 0.204\n",
      "R²: 0.204\n"
     ]
    },
    {
     "name": "stderr",
     "output_type": "stream",
     "text": [
      "\n"
     ]
    }
   ],
   "execution_count": 22
  },
  {
   "metadata": {
    "ExecuteTime": {
     "end_time": "2025-09-22T15:48:46.641425Z",
     "start_time": "2025-09-22T15:48:23.598449Z"
    }
   },
   "cell_type": "code",
   "source": [
    "avg_pos_strength_baseline_A = compute_one_statistic(df_features=main_baseline_A,\n",
    "                                                    df_network=conn_A_baseline_df,\n",
    "                                                    regions=regions,\n",
    "                                                    stat_name=\"avg_positive_strength\",\n",
    "                                                    mode=\"all\",\n",
    "                                                    node_order=None,\n",
    "                                                    matrix_size=418,\n",
    "                                                    diag_value=0.0)\n",
    "baseline_A_plus = combine_data(main_baseline_A, avg_pos_strength_baseline_A)\n",
    "results_no_network, models_no_network = run_cross_validation(baseline_A_plus, y_baseline_A, use_network=False)\n",
    "print_cross_val_results(results_no_network)"
   ],
   "id": "2c7f59d10bdbbb34",
   "outputs": [
    {
     "name": "stderr",
     "output_type": "stream",
     "text": [
      "100%|██████████| 2409/2409 [00:18<00:00, 131.03it/s]\n"
     ]
    },
    {
     "name": "stdout",
     "output_type": "stream",
     "text": [
      "Dropping duplicate columns: ['Subject', 'site_id_l']\n"
     ]
    },
    {
     "name": "stderr",
     "output_type": "stream",
     "text": [
      "Cross-validation progress: 100%|██████████| 19/19 [00:00<00:00, 330.98it/s]"
     ]
    },
    {
     "name": "stdout",
     "output_type": "stream",
     "text": [
      "\n",
      "Site: site02 | Pearson r = 0.401 (p=0.000) | Partial η² = 0.114\n",
      "\n",
      "Site: site03 | Pearson r = 0.318 (p=0.000) | Partial η² = 0.068\n",
      "\n",
      "Site: site04 | Pearson r = 0.483 (p=0.000) | Partial η² = 0.233\n",
      "\n",
      "Site: site05 | Pearson r = 0.536 (p=0.000) | Partial η² = 0.281\n",
      "\n",
      "Site: site06 | Pearson r = 0.400 (p=0.000) | Partial η² = 0.154\n",
      "\n",
      "Site: site08 | Pearson r = 0.393 (p=0.002) | Partial η² = -0.119\n",
      "\n",
      "Site: site09 | Pearson r = 0.480 (p=0.000) | Partial η² = 0.063\n",
      "\n",
      "Site: site10 | Pearson r = 0.411 (p=0.000) | Partial η² = 0.159\n",
      "\n",
      "Site: site11 | Pearson r = 0.512 (p=0.000) | Partial η² = 0.246\n",
      "\n",
      "Site: site12 | Pearson r = 0.396 (p=0.003) | Partial η² = 0.109\n",
      "\n",
      "Site: site13 | Pearson r = 0.464 (p=0.000) | Partial η² = 0.202\n",
      "\n",
      "Site: site14 | Pearson r = 0.472 (p=0.000) | Partial η² = 0.216\n",
      "\n",
      "Site: site15 | Pearson r = 0.653 (p=0.000) | Partial η² = 0.393\n",
      "\n",
      "Site: site16 | Pearson r = 0.481 (p=0.000) | Partial η² = 0.230\n",
      "\n",
      "Site: site17 | Pearson r = 0.407 (p=0.000) | Partial η² = 0.089\n",
      "\n",
      "Site: site18 | Pearson r = 0.449 (p=0.000) | Partial η² = 0.196\n",
      "\n",
      "Site: site19 | Pearson r = 0.411 (p=0.001) | Partial η² = 0.151\n",
      "\n",
      "Site: site20 | Pearson r = 0.433 (p=0.000) | Partial η² = 0.138\n",
      "\n",
      "Site: site21 | Pearson r = 0.470 (p=0.000) | Partial η² = 0.210\n",
      "Cross-validated Performance Metrics:\n",
      "Average Pearson's r: 0.451\n",
      "Partial eta squared: 0.165\n",
      "R²: 0.165\n"
     ]
    },
    {
     "name": "stderr",
     "output_type": "stream",
     "text": [
      "\n"
     ]
    }
   ],
   "execution_count": 23
  },
  {
   "metadata": {
    "ExecuteTime": {
     "end_time": "2025-09-22T15:50:21.846878Z",
     "start_time": "2025-09-22T15:50:02.092854Z"
    }
   },
   "cell_type": "code",
   "source": [
    "avg_pos_strength_followup_A = compute_one_statistic(df_features=main_followup_A,\n",
    "                                                    df_network=conn_A_followup_df,\n",
    "                                                    regions=regions,\n",
    "                                                    stat_name=\"avg_positive_strength\",\n",
    "                                                    mode=\"all\",\n",
    "                                                    node_order=None,\n",
    "                                                    matrix_size=418,\n",
    "                                                    diag_value=0.0)\n",
    "followup_A_plus = combine_data(main_followup_A, avg_pos_strength_followup_A)\n",
    "results_no_network, models_no_network = run_cross_validation(followup_A_plus.fillna(0.0), y_followup_A, use_network=False)\n",
    "print_cross_val_results(results_no_network)"
   ],
   "id": "af5af4f3116c0ac",
   "outputs": [
    {
     "name": "stderr",
     "output_type": "stream",
     "text": [
      "100%|██████████| 2409/2409 [00:18<00:00, 129.25it/s]\n"
     ]
    },
    {
     "name": "stdout",
     "output_type": "stream",
     "text": [
      "Dropping duplicate columns: ['Subject', 'site_id_l']\n"
     ]
    },
    {
     "name": "stderr",
     "output_type": "stream",
     "text": [
      "Cross-validation progress: 100%|██████████| 19/19 [00:00<00:00, 295.43it/s]"
     ]
    },
    {
     "name": "stdout",
     "output_type": "stream",
     "text": [
      "\n",
      "Site: site02 | Pearson r = 0.329 (p=0.000) | Partial η² = 0.078\n",
      "\n",
      "Site: site03 | Pearson r = 0.392 (p=0.000) | Partial η² = 0.151\n",
      "\n",
      "Site: site04 | Pearson r = 0.383 (p=0.000) | Partial η² = 0.121\n",
      "\n",
      "Site: site05 | Pearson r = 0.580 (p=0.000) | Partial η² = 0.291\n",
      "\n",
      "Site: site06 | Pearson r = 0.301 (p=0.000) | Partial η² = 0.045\n",
      "\n",
      "Site: site08 | Pearson r = 0.369 (p=0.003) | Partial η² = -0.037\n",
      "\n",
      "Site: site09 | Pearson r = 0.302 (p=0.017) | Partial η² = -0.050\n",
      "\n",
      "Site: site10 | Pearson r = 0.383 (p=0.000) | Partial η² = 0.098\n",
      "\n",
      "Site: site11 | Pearson r = 0.571 (p=0.000) | Partial η² = 0.325\n",
      "\n",
      "Site: site12 | Pearson r = 0.511 (p=0.000) | Partial η² = 0.261\n",
      "\n",
      "Site: site13 | Pearson r = 0.509 (p=0.000) | Partial η² = 0.259\n",
      "\n",
      "Site: site14 | Pearson r = 0.454 (p=0.000) | Partial η² = 0.205\n",
      "\n",
      "Site: site15 | Pearson r = 0.695 (p=0.000) | Partial η² = 0.356\n",
      "\n",
      "Site: site16 | Pearson r = 0.387 (p=0.000) | Partial η² = 0.146\n",
      "\n",
      "Site: site17 | Pearson r = 0.376 (p=0.000) | Partial η² = 0.031\n",
      "\n",
      "Site: site18 | Pearson r = 0.292 (p=0.006) | Partial η² = 0.043\n",
      "\n",
      "Site: site19 | Pearson r = 0.483 (p=0.000) | Partial η² = 0.229\n",
      "\n",
      "Site: site20 | Pearson r = 0.523 (p=0.000) | Partial η² = 0.269\n",
      "\n",
      "Site: site21 | Pearson r = 0.522 (p=0.000) | Partial η² = 0.270\n",
      "Cross-validated Performance Metrics:\n",
      "Average Pearson's r: 0.440\n",
      "Partial eta squared: 0.163\n",
      "R²: 0.163\n"
     ]
    },
    {
     "name": "stderr",
     "output_type": "stream",
     "text": [
      "\n"
     ]
    }
   ],
   "execution_count": 24
  },
  {
   "metadata": {
    "ExecuteTime": {
     "end_time": "2025-09-22T15:51:01.639164Z",
     "start_time": "2025-09-22T15:50:42.421863Z"
    }
   },
   "cell_type": "code",
   "source": [
    "avg_neg_strength_baseline_A = compute_one_statistic(df_features=main_baseline_A,\n",
    "                                                    df_network=conn_A_baseline_df,\n",
    "                                                    regions=regions,\n",
    "                                                    stat_name=\"avg_negative_strength\",\n",
    "                                                    mode=\"all\",\n",
    "                                                    node_order=None,\n",
    "                                                    matrix_size=418,\n",
    "                                                    diag_value=0.0)\n",
    "baseline_A_plus = combine_data(main_baseline_A, avg_neg_strength_baseline_A)\n",
    "results_no_network, models_no_network = run_cross_validation(baseline_A_plus, y_baseline_A, use_network=False)\n",
    "print_cross_val_results(results_no_network)\n"
   ],
   "id": "ff48e87811b7992c",
   "outputs": [
    {
     "name": "stderr",
     "output_type": "stream",
     "text": [
      "100%|██████████| 2409/2409 [00:18<00:00, 130.49it/s]\n"
     ]
    },
    {
     "name": "stdout",
     "output_type": "stream",
     "text": [
      "Dropping duplicate columns: ['Subject', 'site_id_l']\n"
     ]
    },
    {
     "name": "stderr",
     "output_type": "stream",
     "text": [
      "Cross-validation progress: 100%|██████████| 19/19 [00:00<00:00, 287.94it/s]"
     ]
    },
    {
     "name": "stdout",
     "output_type": "stream",
     "text": [
      "\n",
      "Site: site02 | Pearson r = 0.398 (p=0.000) | Partial η² = 0.116\n",
      "\n",
      "Site: site03 | Pearson r = 0.351 (p=0.000) | Partial η² = 0.099\n",
      "\n",
      "Site: site04 | Pearson r = 0.483 (p=0.000) | Partial η² = 0.230\n",
      "\n",
      "Site: site05 | Pearson r = 0.527 (p=0.000) | Partial η² = 0.274\n",
      "\n",
      "Site: site06 | Pearson r = 0.418 (p=0.000) | Partial η² = 0.170\n",
      "\n",
      "Site: site08 | Pearson r = 0.390 (p=0.002) | Partial η² = -0.134\n",
      "\n",
      "Site: site09 | Pearson r = 0.441 (p=0.000) | Partial η² = 0.050\n",
      "\n",
      "Site: site10 | Pearson r = 0.433 (p=0.000) | Partial η² = 0.181\n",
      "\n",
      "Site: site11 | Pearson r = 0.476 (p=0.000) | Partial η² = 0.205\n",
      "\n",
      "Site: site12 | Pearson r = 0.391 (p=0.004) | Partial η² = 0.118\n",
      "\n",
      "Site: site13 | Pearson r = 0.466 (p=0.000) | Partial η² = 0.201\n",
      "\n",
      "Site: site14 | Pearson r = 0.482 (p=0.000) | Partial η² = 0.227\n",
      "\n",
      "Site: site15 | Pearson r = 0.644 (p=0.000) | Partial η² = 0.380\n",
      "\n",
      "Site: site16 | Pearson r = 0.496 (p=0.000) | Partial η² = 0.243\n",
      "\n",
      "Site: site17 | Pearson r = 0.450 (p=0.000) | Partial η² = 0.124\n",
      "\n",
      "Site: site18 | Pearson r = 0.406 (p=0.000) | Partial η² = 0.165\n",
      "\n",
      "Site: site19 | Pearson r = 0.431 (p=0.000) | Partial η² = 0.182\n",
      "\n",
      "Site: site20 | Pearson r = 0.424 (p=0.000) | Partial η² = 0.129\n",
      "\n",
      "Site: site21 | Pearson r = 0.449 (p=0.000) | Partial η² = 0.186\n",
      "Cross-validated Performance Metrics:\n",
      "Average Pearson's r: 0.450\n",
      "Partial eta squared: 0.166\n",
      "R²: 0.166\n"
     ]
    },
    {
     "name": "stderr",
     "output_type": "stream",
     "text": [
      "\n"
     ]
    }
   ],
   "execution_count": 25
  },
  {
   "metadata": {
    "ExecuteTime": {
     "end_time": "2025-09-22T15:51:50.024286Z",
     "start_time": "2025-09-22T15:51:29.395418Z"
    }
   },
   "cell_type": "code",
   "source": [
    "avg_neg_strength_followup_A = compute_one_statistic(df_features=main_followup_A,\n",
    "                                                    df_network=conn_A_followup_df,\n",
    "                                                    regions=regions,\n",
    "                                                    stat_name=\"avg_negative_strength\",\n",
    "                                                    mode=\"all\",\n",
    "                                                    node_order=None,\n",
    "                                                    matrix_size=418,\n",
    "                                                    diag_value=0.0)\n",
    "\n",
    "followup_A_plus = combine_data(main_followup_A, avg_neg_strength_followup_A)\n",
    "results_no_network, models_no_network = run_cross_validation(followup_A_plus.fillna(0.0), y_followup_A,\n",
    "                                                             use_network=False)\n",
    "print_cross_val_results(results_no_network)"
   ],
   "id": "d09c1f71976a3ac3",
   "outputs": [
    {
     "name": "stderr",
     "output_type": "stream",
     "text": [
      "100%|██████████| 2409/2409 [00:19<00:00, 121.41it/s]\n"
     ]
    },
    {
     "name": "stdout",
     "output_type": "stream",
     "text": [
      "Dropping duplicate columns: ['Subject', 'site_id_l']\n"
     ]
    },
    {
     "name": "stderr",
     "output_type": "stream",
     "text": [
      "Cross-validation progress: 100%|██████████| 19/19 [00:00<00:00, 212.43it/s]"
     ]
    },
    {
     "name": "stdout",
     "output_type": "stream",
     "text": [
      "\n",
      "Site: site02 | Pearson r = 0.311 (p=0.000) | Partial η² = 0.065\n",
      "\n",
      "Site: site03 | Pearson r = 0.415 (p=0.000) | Partial η² = 0.166\n",
      "\n",
      "Site: site04 | Pearson r = 0.393 (p=0.000) | Partial η² = 0.137\n",
      "\n",
      "Site: site05 | Pearson r = 0.565 (p=0.000) | Partial η² = 0.275\n",
      "\n",
      "Site: site06 | Pearson r = 0.308 (p=0.000) | Partial η² = 0.042\n",
      "\n",
      "Site: site08 | Pearson r = 0.381 (p=0.002) | Partial η² = -0.073\n",
      "\n",
      "Site: site09 | Pearson r = 0.351 (p=0.005) | Partial η² = -0.016\n",
      "\n",
      "Site: site10 | Pearson r = 0.379 (p=0.000) | Partial η² = 0.092\n",
      "\n",
      "Site: site11 | Pearson r = 0.575 (p=0.000) | Partial η² = 0.330\n",
      "\n",
      "Site: site12 | Pearson r = 0.526 (p=0.000) | Partial η² = 0.276\n",
      "\n",
      "Site: site13 | Pearson r = 0.482 (p=0.000) | Partial η² = 0.224\n",
      "\n",
      "Site: site14 | Pearson r = 0.430 (p=0.000) | Partial η² = 0.179\n",
      "\n",
      "Site: site15 | Pearson r = 0.703 (p=0.000) | Partial η² = 0.361\n",
      "\n",
      "Site: site16 | Pearson r = 0.387 (p=0.000) | Partial η² = 0.149\n",
      "\n",
      "Site: site17 | Pearson r = 0.392 (p=0.000) | Partial η² = 0.016\n",
      "\n",
      "Site: site18 | Pearson r = 0.311 (p=0.003) | Partial η² = 0.059\n",
      "\n",
      "Site: site19 | Pearson r = 0.499 (p=0.000) | Partial η² = 0.242\n",
      "\n",
      "Site: site20 | Pearson r = 0.518 (p=0.000) | Partial η² = 0.261\n",
      "\n",
      "Site: site21 | Pearson r = 0.509 (p=0.000) | Partial η² = 0.257\n",
      "Cross-validated Performance Metrics:\n",
      "Average Pearson's r: 0.444\n",
      "Partial eta squared: 0.160\n",
      "R²: 0.160\n"
     ]
    },
    {
     "name": "stderr",
     "output_type": "stream",
     "text": [
      "\n"
     ]
    }
   ],
   "execution_count": 26
  },
  {
   "metadata": {
    "ExecuteTime": {
     "end_time": "2025-09-22T15:52:46.939860Z",
     "start_time": "2025-09-22T15:52:27.322056Z"
    }
   },
   "cell_type": "code",
   "source": [
    "avg_total_strength_baseline_A = compute_one_statistic(df_features=main_baseline_A,\n",
    "                                                      df_network=conn_A_baseline_df,\n",
    "                                                      regions=regions,\n",
    "                                                      stat_name=\"avg_total_strength\",\n",
    "                                                      mode=\"all\",\n",
    "                                                      node_order=None,\n",
    "                                                      matrix_size=418,\n",
    "                                                      diag_value=0.0)\n",
    "baseline_A_plus = combine_data(main_baseline_A, avg_total_strength_baseline_A)\n",
    "results_no_network, models_no_network = run_cross_validation(baseline_A_plus, y_baseline_A, use_network=False)\n",
    "print_cross_val_results(results_no_network)"
   ],
   "id": "bdff428378cd20b8",
   "outputs": [
    {
     "name": "stderr",
     "output_type": "stream",
     "text": [
      "100%|██████████| 2409/2409 [00:18<00:00, 127.55it/s]\n"
     ]
    },
    {
     "name": "stdout",
     "output_type": "stream",
     "text": [
      "Dropping duplicate columns: ['Subject', 'site_id_l']\n"
     ]
    },
    {
     "name": "stderr",
     "output_type": "stream",
     "text": [
      "Cross-validation progress: 100%|██████████| 19/19 [00:00<00:00, 295.36it/s]"
     ]
    },
    {
     "name": "stdout",
     "output_type": "stream",
     "text": [
      "\n",
      "Site: site02 | Pearson r = 0.405 (p=0.000) | Partial η² = 0.117\n",
      "\n",
      "Site: site03 | Pearson r = 0.334 (p=0.000) | Partial η² = 0.079\n",
      "\n",
      "Site: site04 | Pearson r = 0.486 (p=0.000) | Partial η² = 0.236\n",
      "\n",
      "Site: site05 | Pearson r = 0.537 (p=0.000) | Partial η² = 0.283\n",
      "\n",
      "Site: site06 | Pearson r = 0.399 (p=0.000) | Partial η² = 0.155\n",
      "\n",
      "Site: site08 | Pearson r = 0.392 (p=0.002) | Partial η² = -0.138\n",
      "\n",
      "Site: site09 | Pearson r = 0.479 (p=0.000) | Partial η² = 0.070\n",
      "\n",
      "Site: site10 | Pearson r = 0.417 (p=0.000) | Partial η² = 0.168\n",
      "\n",
      "Site: site11 | Pearson r = 0.496 (p=0.000) | Partial η² = 0.230\n",
      "\n",
      "Site: site12 | Pearson r = 0.390 (p=0.004) | Partial η² = 0.109\n",
      "\n",
      "Site: site13 | Pearson r = 0.463 (p=0.000) | Partial η² = 0.201\n",
      "\n",
      "Site: site14 | Pearson r = 0.479 (p=0.000) | Partial η² = 0.225\n",
      "\n",
      "Site: site15 | Pearson r = 0.650 (p=0.000) | Partial η² = 0.388\n",
      "\n",
      "Site: site16 | Pearson r = 0.494 (p=0.000) | Partial η² = 0.241\n",
      "\n",
      "Site: site17 | Pearson r = 0.421 (p=0.000) | Partial η² = 0.090\n",
      "\n",
      "Site: site18 | Pearson r = 0.435 (p=0.000) | Partial η² = 0.185\n",
      "\n",
      "Site: site19 | Pearson r = 0.420 (p=0.000) | Partial η² = 0.165\n",
      "\n",
      "Site: site20 | Pearson r = 0.419 (p=0.000) | Partial η² = 0.120\n",
      "\n",
      "Site: site21 | Pearson r = 0.457 (p=0.000) | Partial η² = 0.199\n",
      "Cross-validated Performance Metrics:\n",
      "Average Pearson's r: 0.451\n",
      "Partial eta squared: 0.164\n",
      "R²: 0.164\n"
     ]
    },
    {
     "name": "stderr",
     "output_type": "stream",
     "text": [
      "\n"
     ]
    }
   ],
   "execution_count": 27
  },
  {
   "metadata": {
    "ExecuteTime": {
     "end_time": "2025-09-22T15:53:25.657127Z",
     "start_time": "2025-09-22T15:53:06.591745Z"
    }
   },
   "cell_type": "code",
   "source": [
    "avg_total_strength_followup_A = compute_one_statistic(df_features=main_followup_A,\n",
    "                                                      df_network=conn_A_followup_df,\n",
    "                                                      regions=regions,\n",
    "                                                      stat_name=\"avg_total_strength\",\n",
    "                                                      mode=\"all\",\n",
    "                                                      node_order=None,\n",
    "                                                      matrix_size=418,\n",
    "                                                      diag_value=0.0)\n",
    "\n",
    "followup_A_plus = combine_data(main_followup_A, avg_total_strength_followup_A)\n",
    "results_no_network, models_no_network = run_cross_validation(followup_A_plus.fillna(0.0), y_followup_A,\n",
    "                                                             use_network=False)\n",
    "print_cross_val_results(results_no_network)"
   ],
   "id": "5ece4f07a69b8017",
   "outputs": [
    {
     "name": "stderr",
     "output_type": "stream",
     "text": [
      "100%|██████████| 2409/2409 [00:18<00:00, 132.01it/s]\n"
     ]
    },
    {
     "name": "stdout",
     "output_type": "stream",
     "text": [
      "Dropping duplicate columns: ['Subject', 'site_id_l']\n"
     ]
    },
    {
     "name": "stderr",
     "output_type": "stream",
     "text": [
      "Cross-validation progress: 100%|██████████| 19/19 [00:00<00:00, 269.21it/s]"
     ]
    },
    {
     "name": "stdout",
     "output_type": "stream",
     "text": [
      "\n",
      "Site: site02 | Pearson r = 0.339 (p=0.000) | Partial η² = 0.087\n",
      "\n",
      "Site: site03 | Pearson r = 0.402 (p=0.000) | Partial η² = 0.158\n",
      "\n",
      "Site: site04 | Pearson r = 0.391 (p=0.000) | Partial η² = 0.129\n",
      "\n",
      "Site: site05 | Pearson r = 0.585 (p=0.000) | Partial η² = 0.302\n",
      "\n",
      "Site: site06 | Pearson r = 0.307 (p=0.000) | Partial η² = 0.047\n",
      "\n",
      "Site: site08 | Pearson r = 0.371 (p=0.003) | Partial η² = -0.053\n",
      "\n",
      "Site: site09 | Pearson r = 0.318 (p=0.012) | Partial η² = -0.028\n",
      "\n",
      "Site: site10 | Pearson r = 0.360 (p=0.000) | Partial η² = 0.069\n",
      "\n",
      "Site: site11 | Pearson r = 0.578 (p=0.000) | Partial η² = 0.334\n",
      "\n",
      "Site: site12 | Pearson r = 0.538 (p=0.000) | Partial η² = 0.289\n",
      "\n",
      "Site: site13 | Pearson r = 0.497 (p=0.000) | Partial η² = 0.246\n",
      "\n",
      "Site: site14 | Pearson r = 0.448 (p=0.000) | Partial η² = 0.200\n",
      "\n",
      "Site: site15 | Pearson r = 0.692 (p=0.000) | Partial η² = 0.358\n",
      "\n",
      "Site: site16 | Pearson r = 0.389 (p=0.000) | Partial η² = 0.149\n",
      "\n",
      "Site: site17 | Pearson r = 0.382 (p=0.000) | Partial η² = 0.041\n",
      "\n",
      "Site: site18 | Pearson r = 0.303 (p=0.004) | Partial η² = 0.051\n",
      "\n",
      "Site: site19 | Pearson r = 0.503 (p=0.000) | Partial η² = 0.246\n",
      "\n",
      "Site: site20 | Pearson r = 0.530 (p=0.000) | Partial η² = 0.276\n",
      "\n",
      "Site: site21 | Pearson r = 0.511 (p=0.000) | Partial η² = 0.258\n",
      "Cross-validated Performance Metrics:\n",
      "Average Pearson's r: 0.444\n",
      "Partial eta squared: 0.166\n",
      "R²: 0.166\n"
     ]
    },
    {
     "name": "stderr",
     "output_type": "stream",
     "text": [
      "\n"
     ]
    }
   ],
   "execution_count": 28
  },
  {
   "metadata": {
    "ExecuteTime": {
     "end_time": "2025-09-22T15:57:11.864497Z",
     "start_time": "2025-09-22T15:57:11.753643Z"
    }
   },
   "cell_type": "code",
   "source": [
    "combined_strength_baseline_A = combine_data(avg_neg_strength_baseline_A, avg_pos_strength_baseline_A)\n",
    "baseline_A_plus = combine_data(main_baseline_A,combined_strength_baseline_A)\n",
    "results_no_network, models_no_network = run_cross_validation(baseline_A_plus.fillna(0.0), y_baseline_A,\n",
    "                                                             use_network=False)\n",
    "print_cross_val_results(results_no_network)"
   ],
   "id": "6368c0311be7fc82",
   "outputs": [
    {
     "name": "stdout",
     "output_type": "stream",
     "text": [
      "Dropping duplicate columns: ['Subject', 'site_id_l']\n",
      "Dropping duplicate columns: ['Subject', 'site_id_l']\n"
     ]
    },
    {
     "name": "stderr",
     "output_type": "stream",
     "text": [
      "Cross-validation progress: 100%|██████████| 19/19 [00:00<00:00, 187.01it/s]"
     ]
    },
    {
     "name": "stdout",
     "output_type": "stream",
     "text": [
      "\n",
      "Site: site02 | Pearson r = 0.407 (p=0.000) | Partial η² = 0.123\n",
      "\n",
      "Site: site03 | Pearson r = 0.340 (p=0.000) | Partial η² = 0.087\n",
      "\n",
      "Site: site04 | Pearson r = 0.479 (p=0.000) | Partial η² = 0.228\n",
      "\n",
      "Site: site05 | Pearson r = 0.523 (p=0.000) | Partial η² = 0.268\n",
      "\n",
      "Site: site06 | Pearson r = 0.406 (p=0.000) | Partial η² = 0.160\n",
      "\n",
      "Site: site08 | Pearson r = 0.388 (p=0.002) | Partial η² = -0.117\n",
      "\n",
      "Site: site09 | Pearson r = 0.467 (p=0.000) | Partial η² = 0.057\n",
      "\n",
      "Site: site10 | Pearson r = 0.426 (p=0.000) | Partial η² = 0.174\n",
      "\n",
      "Site: site11 | Pearson r = 0.476 (p=0.000) | Partial η² = 0.199\n",
      "\n",
      "Site: site12 | Pearson r = 0.391 (p=0.004) | Partial η² = 0.115\n",
      "\n",
      "Site: site13 | Pearson r = 0.458 (p=0.000) | Partial η² = 0.192\n",
      "\n",
      "Site: site14 | Pearson r = 0.464 (p=0.000) | Partial η² = 0.210\n",
      "\n",
      "Site: site15 | Pearson r = 0.638 (p=0.000) | Partial η² = 0.375\n",
      "\n",
      "Site: site16 | Pearson r = 0.489 (p=0.000) | Partial η² = 0.238\n",
      "\n",
      "Site: site17 | Pearson r = 0.420 (p=0.000) | Partial η² = 0.075\n",
      "\n",
      "Site: site18 | Pearson r = 0.427 (p=0.000) | Partial η² = 0.181\n",
      "\n",
      "Site: site19 | Pearson r = 0.426 (p=0.000) | Partial η² = 0.172\n",
      "\n",
      "Site: site20 | Pearson r = 0.426 (p=0.000) | Partial η² = 0.133\n",
      "\n",
      "Site: site21 | Pearson r = 0.439 (p=0.000) | Partial η² = 0.180\n",
      "Cross-validated Performance Metrics:\n",
      "Average Pearson's r: 0.447\n",
      "Partial eta squared: 0.161\n",
      "R²: 0.161\n"
     ]
    },
    {
     "name": "stderr",
     "output_type": "stream",
     "text": [
      "\n"
     ]
    }
   ],
   "execution_count": 30
  },
  {
   "metadata": {
    "ExecuteTime": {
     "end_time": "2025-09-22T15:58:54.361326Z",
     "start_time": "2025-09-22T15:58:54.224477Z"
    }
   },
   "cell_type": "code",
   "source": [
    "combined_strength_followup_A = combine_data(avg_neg_strength_followup_A, avg_pos_strength_followup_A)\n",
    "followup_A_plus = combine_data(main_followup_A,combined_strength_followup_A)\n",
    "results_no_network, models_no_network = run_cross_validation(followup_A_plus.fillna(0.0), y_followup_A,\n",
    "                                                             use_network=False)\n",
    "print_cross_val_results(results_no_network)"
   ],
   "id": "fa9d6537cd775c8",
   "outputs": [
    {
     "name": "stdout",
     "output_type": "stream",
     "text": [
      "Dropping duplicate columns: ['Subject', 'site_id_l']\n",
      "Dropping duplicate columns: ['Subject', 'site_id_l']\n"
     ]
    },
    {
     "name": "stderr",
     "output_type": "stream",
     "text": [
      "Cross-validation progress: 100%|██████████| 19/19 [00:00<00:00, 154.47it/s]"
     ]
    },
    {
     "name": "stdout",
     "output_type": "stream",
     "text": [
      "\n",
      "Site: site02 | Pearson r = 0.319 (p=0.000) | Partial η² = 0.068\n",
      "\n",
      "Site: site03 | Pearson r = 0.392 (p=0.000) | Partial η² = 0.148\n",
      "\n",
      "Site: site04 | Pearson r = 0.384 (p=0.000) | Partial η² = 0.123\n",
      "\n",
      "Site: site05 | Pearson r = 0.590 (p=0.000) | Partial η² = 0.303\n",
      "\n",
      "Site: site06 | Pearson r = 0.311 (p=0.000) | Partial η² = 0.050\n",
      "\n",
      "Site: site08 | Pearson r = 0.378 (p=0.002) | Partial η² = -0.056\n",
      "\n",
      "Site: site09 | Pearson r = 0.314 (p=0.013) | Partial η² = -0.042\n",
      "\n",
      "Site: site10 | Pearson r = 0.351 (p=0.000) | Partial η² = 0.053\n",
      "\n",
      "Site: site11 | Pearson r = 0.566 (p=0.000) | Partial η² = 0.318\n",
      "\n",
      "Site: site12 | Pearson r = 0.528 (p=0.000) | Partial η² = 0.279\n",
      "\n",
      "Site: site13 | Pearson r = 0.497 (p=0.000) | Partial η² = 0.245\n",
      "\n",
      "Site: site14 | Pearson r = 0.450 (p=0.000) | Partial η² = 0.199\n",
      "\n",
      "Site: site15 | Pearson r = 0.690 (p=0.000) | Partial η² = 0.361\n",
      "\n",
      "Site: site16 | Pearson r = 0.377 (p=0.000) | Partial η² = 0.137\n",
      "\n",
      "Site: site17 | Pearson r = 0.395 (p=0.000) | Partial η² = 0.042\n",
      "\n",
      "Site: site18 | Pearson r = 0.288 (p=0.006) | Partial η² = 0.026\n",
      "\n",
      "Site: site19 | Pearson r = 0.503 (p=0.000) | Partial η² = 0.247\n",
      "\n",
      "Site: site20 | Pearson r = 0.521 (p=0.000) | Partial η² = 0.266\n",
      "\n",
      "Site: site21 | Pearson r = 0.513 (p=0.000) | Partial η² = 0.262\n",
      "Cross-validated Performance Metrics:\n",
      "Average Pearson's r: 0.441\n",
      "Partial eta squared: 0.159\n",
      "R²: 0.159\n"
     ]
    },
    {
     "name": "stderr",
     "output_type": "stream",
     "text": [
      "\n"
     ]
    }
   ],
   "execution_count": 31
  },
  {
   "metadata": {
    "ExecuteTime": {
     "end_time": "2025-09-22T15:59:33.767353Z",
     "start_time": "2025-09-22T15:59:11.080876Z"
    }
   },
   "cell_type": "code",
   "source": [
    "within_pos_mean_baseline_A = compute_one_statistic(df_features=main_baseline_A,\n",
    "                                                   df_network=conn_A_baseline_df,\n",
    "                                                   regions=regions,\n",
    "                                                   stat_name=\"within_positive_mean\",\n",
    "                                                   mode=\"all\",\n",
    "                                                   node_order=None,\n",
    "                                                   matrix_size=418,\n",
    "                                                   diag_value=0.0)\n",
    "\n",
    "baseline_A_plus = combine_data(main_baseline_A, within_pos_mean_baseline_A)\n",
    "results_no_network, models_no_network = run_cross_validation(baseline_A_plus, y_baseline_A, use_network=False)\n",
    "print_cross_val_results(results_no_network)\n"
   ],
   "id": "ea36f25915210754",
   "outputs": [
    {
     "name": "stderr",
     "output_type": "stream",
     "text": [
      "100%|██████████| 2409/2409 [00:19<00:00, 121.78it/s]\n"
     ]
    },
    {
     "name": "stdout",
     "output_type": "stream",
     "text": [
      "Dropping duplicate columns: ['Subject', 'site_id_l']\n"
     ]
    },
    {
     "name": "stderr",
     "output_type": "stream",
     "text": [
      "Cross-validation progress: 100%|██████████| 19/19 [00:00<00:00, 289.90it/s]"
     ]
    },
    {
     "name": "stdout",
     "output_type": "stream",
     "text": [
      "\n",
      "Site: site02 | Pearson r = 0.411 (p=0.000) | Partial η² = 0.109\n",
      "\n",
      "Site: site03 | Pearson r = 0.328 (p=0.000) | Partial η² = 0.081\n",
      "\n",
      "Site: site04 | Pearson r = 0.476 (p=0.000) | Partial η² = 0.226\n",
      "\n",
      "Site: site05 | Pearson r = 0.494 (p=0.000) | Partial η² = 0.234\n",
      "\n",
      "Site: site06 | Pearson r = 0.410 (p=0.000) | Partial η² = 0.164\n",
      "\n",
      "Site: site08 | Pearson r = 0.409 (p=0.001) | Partial η² = -0.101\n",
      "\n",
      "Site: site09 | Pearson r = 0.484 (p=0.000) | Partial η² = 0.100\n",
      "\n",
      "Site: site10 | Pearson r = 0.430 (p=0.000) | Partial η² = 0.179\n",
      "\n",
      "Site: site11 | Pearson r = 0.496 (p=0.000) | Partial η² = 0.222\n",
      "\n",
      "Site: site12 | Pearson r = 0.424 (p=0.002) | Partial η² = 0.149\n",
      "\n",
      "Site: site13 | Pearson r = 0.483 (p=0.000) | Partial η² = 0.222\n",
      "\n",
      "Site: site14 | Pearson r = 0.490 (p=0.000) | Partial η² = 0.230\n",
      "\n",
      "Site: site15 | Pearson r = 0.672 (p=0.000) | Partial η² = 0.408\n",
      "\n",
      "Site: site16 | Pearson r = 0.477 (p=0.000) | Partial η² = 0.226\n",
      "\n",
      "Site: site17 | Pearson r = 0.404 (p=0.000) | Partial η² = 0.052\n",
      "\n",
      "Site: site18 | Pearson r = 0.437 (p=0.000) | Partial η² = 0.187\n",
      "\n",
      "Site: site19 | Pearson r = 0.426 (p=0.000) | Partial η² = 0.163\n",
      "\n",
      "Site: site20 | Pearson r = 0.448 (p=0.000) | Partial η² = 0.157\n",
      "\n",
      "Site: site21 | Pearson r = 0.473 (p=0.000) | Partial η² = 0.210\n",
      "Cross-validated Performance Metrics:\n",
      "Average Pearson's r: 0.457\n",
      "Partial eta squared: 0.169\n",
      "R²: 0.169\n"
     ]
    },
    {
     "name": "stderr",
     "output_type": "stream",
     "text": [
      "\n"
     ]
    }
   ],
   "execution_count": 32
  },
  {
   "metadata": {
    "ExecuteTime": {
     "end_time": "2025-09-22T16:00:25.123925Z",
     "start_time": "2025-09-22T16:00:03.690834Z"
    }
   },
   "cell_type": "code",
   "source": [
    "within_pos_mean_followup_A = compute_one_statistic(df_features=main_followup_A,\n",
    "                                                   df_network=conn_A_followup_df,\n",
    "                                                   regions=regions,\n",
    "                                                   stat_name=\"within_positive_mean\",\n",
    "                                                   mode=\"all\",\n",
    "                                                   node_order=None,\n",
    "                                                   matrix_size=418,\n",
    "                                                   diag_value=0.0)\n",
    "\n",
    "followup_A_plus = combine_data(main_followup_A, within_pos_mean_followup_A)\n",
    "results_no_network, models_no_network = run_cross_validation(followup_A_plus.fillna(0.0), y_followup_A,\n",
    "                                                             use_network=False)\n",
    "print_cross_val_results(results_no_network)"
   ],
   "id": "f1864b644145c2ae",
   "outputs": [
    {
     "name": "stderr",
     "output_type": "stream",
     "text": [
      "100%|██████████| 2409/2409 [00:19<00:00, 124.52it/s]\n"
     ]
    },
    {
     "name": "stdout",
     "output_type": "stream",
     "text": [
      "Dropping duplicate columns: ['Subject', 'site_id_l']\n"
     ]
    },
    {
     "name": "stderr",
     "output_type": "stream",
     "text": [
      "Cross-validation progress: 100%|██████████| 19/19 [00:00<00:00, 294.76it/s]"
     ]
    },
    {
     "name": "stdout",
     "output_type": "stream",
     "text": [
      "\n",
      "Site: site02 | Pearson r = 0.303 (p=0.000) | Partial η² = 0.048\n",
      "\n",
      "Site: site03 | Pearson r = 0.403 (p=0.000) | Partial η² = 0.158\n",
      "\n",
      "Site: site04 | Pearson r = 0.374 (p=0.000) | Partial η² = 0.117\n",
      "\n",
      "Site: site05 | Pearson r = 0.535 (p=0.000) | Partial η² = 0.242\n",
      "\n",
      "Site: site06 | Pearson r = 0.284 (p=0.000) | Partial η² = 0.024\n",
      "\n",
      "Site: site08 | Pearson r = 0.372 (p=0.003) | Partial η² = -0.061\n",
      "\n",
      "Site: site09 | Pearson r = 0.330 (p=0.009) | Partial η² = -0.020\n",
      "\n",
      "Site: site10 | Pearson r = 0.388 (p=0.000) | Partial η² = 0.106\n",
      "\n",
      "Site: site11 | Pearson r = 0.563 (p=0.000) | Partial η² = 0.315\n",
      "\n",
      "Site: site12 | Pearson r = 0.511 (p=0.000) | Partial η² = 0.260\n",
      "\n",
      "Site: site13 | Pearson r = 0.482 (p=0.000) | Partial η² = 0.221\n",
      "\n",
      "Site: site14 | Pearson r = 0.462 (p=0.000) | Partial η² = 0.208\n",
      "\n",
      "Site: site15 | Pearson r = 0.731 (p=0.000) | Partial η² = 0.389\n",
      "\n",
      "Site: site16 | Pearson r = 0.355 (p=0.000) | Partial η² = 0.124\n",
      "\n",
      "Site: site17 | Pearson r = 0.386 (p=0.000) | Partial η² = -0.003\n",
      "\n",
      "Site: site18 | Pearson r = 0.352 (p=0.001) | Partial η² = 0.088\n",
      "\n",
      "Site: site19 | Pearson r = 0.492 (p=0.000) | Partial η² = 0.237\n",
      "\n",
      "Site: site20 | Pearson r = 0.527 (p=0.000) | Partial η² = 0.268\n",
      "\n",
      "Site: site21 | Pearson r = 0.528 (p=0.000) | Partial η² = 0.274\n",
      "Cross-validated Performance Metrics:\n",
      "Average Pearson's r: 0.441\n",
      "Partial eta squared: 0.158\n",
      "R²: 0.158\n"
     ]
    },
    {
     "name": "stderr",
     "output_type": "stream",
     "text": [
      "\n"
     ]
    }
   ],
   "execution_count": 33
  },
  {
   "metadata": {
    "ExecuteTime": {
     "end_time": "2025-09-22T16:02:41.004134Z",
     "start_time": "2025-09-22T16:02:18.149013Z"
    }
   },
   "cell_type": "code",
   "source": [
    "between_pos_mean_baseline_A = compute_one_statistic(df_features=main_baseline_A,\n",
    "                                                    df_network=conn_A_baseline_df,\n",
    "                                                    regions=regions,\n",
    "                                                    stat_name=\"between_positive_mean\",\n",
    "                                                    mode=\"all\",\n",
    "                                                    node_order=None,\n",
    "                                                    matrix_size=418,\n",
    "                                                    diag_value=0.0)\n",
    "baseline_A_plus = combine_data(main_baseline_A, between_pos_mean_baseline_A)\n",
    "results_no_network, models_no_network = run_cross_validation(baseline_A_plus, y_baseline_A, use_network=False)\n",
    "print_cross_val_results(results_no_network)\n"
   ],
   "id": "6678025e71e45b62",
   "outputs": [
    {
     "name": "stderr",
     "output_type": "stream",
     "text": [
      "100%|██████████| 2409/2409 [00:20<00:00, 120.19it/s]\n"
     ]
    },
    {
     "name": "stdout",
     "output_type": "stream",
     "text": [
      "Dropping duplicate columns: ['Subject', 'site_id_l']\n"
     ]
    },
    {
     "name": "stderr",
     "output_type": "stream",
     "text": [
      "Cross-validation progress: 100%|██████████| 19/19 [00:00<00:00, 273.49it/s]"
     ]
    },
    {
     "name": "stdout",
     "output_type": "stream",
     "text": [
      "\n",
      "Site: site02 | Pearson r = 0.400 (p=0.000) | Partial η² = 0.116\n",
      "\n",
      "Site: site03 | Pearson r = 0.328 (p=0.000) | Partial η² = 0.075\n",
      "\n",
      "Site: site04 | Pearson r = 0.483 (p=0.000) | Partial η² = 0.232\n",
      "\n",
      "Site: site05 | Pearson r = 0.529 (p=0.000) | Partial η² = 0.275\n",
      "\n",
      "Site: site06 | Pearson r = 0.401 (p=0.000) | Partial η² = 0.155\n",
      "\n",
      "Site: site08 | Pearson r = 0.397 (p=0.002) | Partial η² = -0.123\n",
      "\n",
      "Site: site09 | Pearson r = 0.480 (p=0.000) | Partial η² = 0.067\n",
      "\n",
      "Site: site10 | Pearson r = 0.410 (p=0.000) | Partial η² = 0.160\n",
      "\n",
      "Site: site11 | Pearson r = 0.506 (p=0.000) | Partial η² = 0.242\n",
      "\n",
      "Site: site12 | Pearson r = 0.388 (p=0.004) | Partial η² = 0.102\n",
      "\n",
      "Site: site13 | Pearson r = 0.461 (p=0.000) | Partial η² = 0.198\n",
      "\n",
      "Site: site14 | Pearson r = 0.471 (p=0.000) | Partial η² = 0.217\n",
      "\n",
      "Site: site15 | Pearson r = 0.646 (p=0.000) | Partial η² = 0.387\n",
      "\n",
      "Site: site16 | Pearson r = 0.488 (p=0.000) | Partial η² = 0.236\n",
      "\n",
      "Site: site17 | Pearson r = 0.422 (p=0.000) | Partial η² = 0.111\n",
      "\n",
      "Site: site18 | Pearson r = 0.439 (p=0.000) | Partial η² = 0.188\n",
      "\n",
      "Site: site19 | Pearson r = 0.427 (p=0.000) | Partial η² = 0.170\n",
      "\n",
      "Site: site20 | Pearson r = 0.429 (p=0.000) | Partial η² = 0.134\n",
      "\n",
      "Site: site21 | Pearson r = 0.473 (p=0.000) | Partial η² = 0.212\n",
      "Cross-validated Performance Metrics:\n",
      "Average Pearson's r: 0.451\n",
      "Partial eta squared: 0.166\n",
      "R²: 0.166\n"
     ]
    },
    {
     "name": "stderr",
     "output_type": "stream",
     "text": [
      "\n"
     ]
    }
   ],
   "execution_count": 35
  },
  {
   "metadata": {
    "ExecuteTime": {
     "end_time": "2025-09-22T16:04:13.222698Z",
     "start_time": "2025-09-22T16:03:49.360891Z"
    }
   },
   "cell_type": "code",
   "source": [
    "between_pos_mean_followup_A = compute_one_statistic(df_features=main_followup_A,\n",
    "                                                    df_network=conn_A_followup_df,\n",
    "                                                    regions=regions,\n",
    "                                                    stat_name=\"between_positive_mean\",\n",
    "                                                    mode=\"all\",\n",
    "                                                    node_order=None,\n",
    "                                                    matrix_size=418,\n",
    "                                                    diag_value=0.0)\n",
    "\n",
    "followup_A_plus = combine_data(main_followup_A, between_pos_mean_followup_A)\n",
    "results_no_network, models_no_network = run_cross_validation(followup_A_plus.fillna(0.0), y_followup_A,\n",
    "                                                             use_network=False)\n",
    "print_cross_val_results(results_no_network)"
   ],
   "id": "d254954d30948131",
   "outputs": [
    {
     "name": "stderr",
     "output_type": "stream",
     "text": [
      "100%|██████████| 2409/2409 [00:19<00:00, 121.73it/s]\n"
     ]
    },
    {
     "name": "stdout",
     "output_type": "stream",
     "text": [
      "Dropping duplicate columns: ['Subject', 'site_id_l']\n"
     ]
    },
    {
     "name": "stderr",
     "output_type": "stream",
     "text": [
      "Cross-validation progress: 100%|██████████| 19/19 [00:00<00:00, 284.03it/s]"
     ]
    },
    {
     "name": "stdout",
     "output_type": "stream",
     "text": [
      "\n",
      "Site: site02 | Pearson r = 0.337 (p=0.000) | Partial η² = 0.084\n",
      "\n",
      "Site: site03 | Pearson r = 0.397 (p=0.000) | Partial η² = 0.156\n",
      "\n",
      "Site: site04 | Pearson r = 0.390 (p=0.000) | Partial η² = 0.127\n",
      "\n",
      "Site: site05 | Pearson r = 0.580 (p=0.000) | Partial η² = 0.296\n",
      "\n",
      "Site: site06 | Pearson r = 0.298 (p=0.000) | Partial η² = 0.041\n",
      "\n",
      "Site: site08 | Pearson r = 0.377 (p=0.002) | Partial η² = -0.031\n",
      "\n",
      "Site: site09 | Pearson r = 0.304 (p=0.016) | Partial η² = -0.044\n",
      "\n",
      "Site: site10 | Pearson r = 0.363 (p=0.000) | Partial η² = 0.071\n",
      "\n",
      "Site: site11 | Pearson r = 0.562 (p=0.000) | Partial η² = 0.311\n",
      "\n",
      "Site: site12 | Pearson r = 0.516 (p=0.000) | Partial η² = 0.266\n",
      "\n",
      "Site: site13 | Pearson r = 0.499 (p=0.000) | Partial η² = 0.249\n",
      "\n",
      "Site: site14 | Pearson r = 0.457 (p=0.000) | Partial η² = 0.208\n",
      "\n",
      "Site: site15 | Pearson r = 0.691 (p=0.000) | Partial η² = 0.359\n",
      "\n",
      "Site: site16 | Pearson r = 0.392 (p=0.000) | Partial η² = 0.150\n",
      "\n",
      "Site: site17 | Pearson r = 0.371 (p=0.000) | Partial η² = 0.033\n",
      "\n",
      "Site: site18 | Pearson r = 0.283 (p=0.007) | Partial η² = 0.038\n",
      "\n",
      "Site: site19 | Pearson r = 0.493 (p=0.000) | Partial η² = 0.238\n",
      "\n",
      "Site: site20 | Pearson r = 0.527 (p=0.000) | Partial η² = 0.274\n",
      "\n",
      "Site: site21 | Pearson r = 0.523 (p=0.000) | Partial η² = 0.269\n",
      "Cross-validated Performance Metrics:\n",
      "Average Pearson's r: 0.440\n",
      "Partial eta squared: 0.163\n",
      "R²: 0.163\n"
     ]
    },
    {
     "name": "stderr",
     "output_type": "stream",
     "text": [
      "\n"
     ]
    }
   ],
   "execution_count": 36
  },
  {
   "metadata": {
    "ExecuteTime": {
     "end_time": "2025-09-22T16:08:05.702355Z",
     "start_time": "2025-09-22T16:07:43.114318Z"
    }
   },
   "cell_type": "code",
   "source": [
    "within_neg_mean_baseline_A = compute_one_statistic(df_features=main_baseline_A,\n",
    "                                                   df_network=conn_A_baseline_df,\n",
    "                                                   regions=regions,\n",
    "                                                   stat_name=\"within_negative_mean\",\n",
    "                                                   mode=\"all\",\n",
    "                                                   node_order=None,\n",
    "                                                   matrix_size=418,\n",
    "                                                   diag_value=0.0)\n",
    "baseline_A_plus = combine_data(main_baseline_A, within_neg_mean_baseline_A)\n",
    "results_no_network, models_no_network = run_cross_validation(baseline_A_plus, y_baseline_A, use_network=False)\n",
    "print_cross_val_results(results_no_network)"
   ],
   "id": "fe84a51031c2446a",
   "outputs": [
    {
     "name": "stderr",
     "output_type": "stream",
     "text": [
      "100%|██████████| 2409/2409 [00:20<00:00, 117.61it/s]\n"
     ]
    },
    {
     "name": "stdout",
     "output_type": "stream",
     "text": [
      "Dropping duplicate columns: ['Subject', 'site_id_l']\n"
     ]
    },
    {
     "name": "stderr",
     "output_type": "stream",
     "text": [
      "Cross-validation progress: 100%|██████████| 19/19 [00:00<00:00, 245.72it/s]"
     ]
    },
    {
     "name": "stdout",
     "output_type": "stream",
     "text": [
      "\n",
      "Site: site02 | Pearson r = 0.380 (p=0.000) | Partial η² = 0.084\n",
      "\n",
      "Site: site03 | Pearson r = 0.353 (p=0.000) | Partial η² = 0.103\n",
      "\n",
      "Site: site04 | Pearson r = 0.481 (p=0.000) | Partial η² = 0.230\n",
      "\n",
      "Site: site05 | Pearson r = 0.533 (p=0.000) | Partial η² = 0.276\n",
      "\n",
      "Site: site06 | Pearson r = 0.389 (p=0.000) | Partial η² = 0.142\n",
      "\n",
      "Site: site08 | Pearson r = 0.393 (p=0.002) | Partial η² = -0.152\n",
      "\n",
      "Site: site09 | Pearson r = 0.462 (p=0.000) | Partial η² = 0.082\n",
      "\n",
      "Site: site10 | Pearson r = 0.408 (p=0.000) | Partial η² = 0.158\n",
      "\n",
      "Site: site11 | Pearson r = 0.494 (p=0.000) | Partial η² = 0.223\n",
      "\n",
      "Site: site12 | Pearson r = 0.400 (p=0.003) | Partial η² = 0.127\n",
      "\n",
      "Site: site13 | Pearson r = 0.465 (p=0.000) | Partial η² = 0.203\n",
      "\n",
      "Site: site14 | Pearson r = 0.498 (p=0.000) | Partial η² = 0.238\n",
      "\n",
      "Site: site15 | Pearson r = 0.665 (p=0.000) | Partial η² = 0.404\n",
      "\n",
      "Site: site16 | Pearson r = 0.476 (p=0.000) | Partial η² = 0.225\n",
      "\n",
      "Site: site17 | Pearson r = 0.416 (p=0.000) | Partial η² = 0.099\n",
      "\n",
      "Site: site18 | Pearson r = 0.413 (p=0.000) | Partial η² = 0.164\n",
      "\n",
      "Site: site19 | Pearson r = 0.422 (p=0.000) | Partial η² = 0.169\n",
      "\n",
      "Site: site20 | Pearson r = 0.434 (p=0.000) | Partial η² = 0.138\n",
      "\n",
      "Site: site21 | Pearson r = 0.463 (p=0.000) | Partial η² = 0.199\n",
      "Cross-validated Performance Metrics:\n",
      "Average Pearson's r: 0.450\n",
      "Partial eta squared: 0.164\n",
      "R²: 0.164\n"
     ]
    },
    {
     "name": "stderr",
     "output_type": "stream",
     "text": [
      "\n"
     ]
    }
   ],
   "execution_count": 37
  },
  {
   "metadata": {
    "ExecuteTime": {
     "end_time": "2025-09-22T16:09:13.852825Z",
     "start_time": "2025-09-22T16:08:51.899386Z"
    }
   },
   "cell_type": "code",
   "source": [
    "within_neg_mean_followup_A = compute_one_statistic(df_features=main_followup_A,\n",
    "                                                   df_network=conn_A_followup_df,\n",
    "                                                   regions=regions,\n",
    "                                                   stat_name=\"within_negative_mean\",\n",
    "                                                   mode=\"all\",\n",
    "                                                   node_order=None,\n",
    "                                                   matrix_size=418,\n",
    "                                                   diag_value=0.0)\n",
    "\n",
    "followup_A_plus = combine_data(main_followup_A, within_neg_mean_followup_A)\n",
    "results_no_network, models_no_network = run_cross_validation(followup_A_plus.fillna(0.0), y_followup_A,\n",
    "                                                             use_network=False)\n",
    "print_cross_val_results(results_no_network)"
   ],
   "id": "cd51056ed6a58958",
   "outputs": [
    {
     "name": "stderr",
     "output_type": "stream",
     "text": [
      "100%|██████████| 2409/2409 [00:20<00:00, 120.22it/s]\n"
     ]
    },
    {
     "name": "stdout",
     "output_type": "stream",
     "text": [
      "Dropping duplicate columns: ['Subject', 'site_id_l']\n"
     ]
    },
    {
     "name": "stderr",
     "output_type": "stream",
     "text": [
      "Cross-validation progress: 100%|██████████| 19/19 [00:00<00:00, 294.89it/s]"
     ]
    },
    {
     "name": "stdout",
     "output_type": "stream",
     "text": [
      "\n",
      "Site: site02 | Pearson r = 0.313 (p=0.000) | Partial η² = 0.066\n",
      "\n",
      "Site: site03 | Pearson r = 0.424 (p=0.000) | Partial η² = 0.175\n",
      "\n",
      "Site: site04 | Pearson r = 0.374 (p=0.000) | Partial η² = 0.119\n",
      "\n",
      "Site: site05 | Pearson r = 0.565 (p=0.000) | Partial η² = 0.280\n",
      "\n",
      "Site: site06 | Pearson r = 0.278 (p=0.000) | Partial η² = 0.012\n",
      "\n",
      "Site: site08 | Pearson r = 0.372 (p=0.003) | Partial η² = -0.049\n",
      "\n",
      "Site: site09 | Pearson r = 0.331 (p=0.009) | Partial η² = -0.040\n",
      "\n",
      "Site: site10 | Pearson r = 0.383 (p=0.000) | Partial η² = 0.101\n",
      "\n",
      "Site: site11 | Pearson r = 0.568 (p=0.000) | Partial η² = 0.322\n",
      "\n",
      "Site: site12 | Pearson r = 0.490 (p=0.000) | Partial η² = 0.237\n",
      "\n",
      "Site: site13 | Pearson r = 0.458 (p=0.000) | Partial η² = 0.205\n",
      "\n",
      "Site: site14 | Pearson r = 0.410 (p=0.000) | Partial η² = 0.164\n",
      "\n",
      "Site: site15 | Pearson r = 0.733 (p=0.000) | Partial η² = 0.373\n",
      "\n",
      "Site: site16 | Pearson r = 0.399 (p=0.000) | Partial η² = 0.158\n",
      "\n",
      "Site: site17 | Pearson r = 0.398 (p=0.000) | Partial η² = 0.025\n",
      "\n",
      "Site: site18 | Pearson r = 0.342 (p=0.001) | Partial η² = 0.086\n",
      "\n",
      "Site: site19 | Pearson r = 0.479 (p=0.000) | Partial η² = 0.222\n",
      "\n",
      "Site: site20 | Pearson r = 0.526 (p=0.000) | Partial η² = 0.270\n",
      "\n",
      "Site: site21 | Pearson r = 0.486 (p=0.000) | Partial η² = 0.232\n",
      "Cross-validated Performance Metrics:\n",
      "Average Pearson's r: 0.438\n",
      "Partial eta squared: 0.156\n",
      "R²: 0.156\n"
     ]
    },
    {
     "name": "stderr",
     "output_type": "stream",
     "text": [
      "\n"
     ]
    }
   ],
   "execution_count": 38
  },
  {
   "metadata": {
    "ExecuteTime": {
     "end_time": "2025-09-22T16:11:41.435740Z",
     "start_time": "2025-09-22T16:11:19.379826Z"
    }
   },
   "cell_type": "code",
   "source": [
    "between_neg_mean_baseline_A = compute_one_statistic(df_features=main_baseline_A,\n",
    "                                                    df_network=conn_A_baseline_df,\n",
    "                                                    regions=regions,\n",
    "                                                    stat_name=\"between_negative_mean\",\n",
    "                                                    mode=\"all\",\n",
    "                                                    node_order=None,\n",
    "                                                    matrix_size=418,\n",
    "                                                    diag_value=0.0)\n",
    "baseline_A_plus = combine_data(main_baseline_A, between_neg_mean_baseline_A)\n",
    "results_no_network, models_no_network = run_cross_validation(baseline_A_plus, y_baseline_A, use_network=False)\n",
    "print_cross_val_results(results_no_network)\n"
   ],
   "id": "b2ddbae501002669",
   "outputs": [
    {
     "name": "stderr",
     "output_type": "stream",
     "text": [
      "100%|██████████| 2409/2409 [00:19<00:00, 120.47it/s]\n"
     ]
    },
    {
     "name": "stdout",
     "output_type": "stream",
     "text": [
      "Dropping duplicate columns: ['Subject', 'site_id_l']\n"
     ]
    },
    {
     "name": "stderr",
     "output_type": "stream",
     "text": [
      "Cross-validation progress: 100%|██████████| 19/19 [00:00<00:00, 275.23it/s]"
     ]
    },
    {
     "name": "stdout",
     "output_type": "stream",
     "text": [
      "\n",
      "Site: site02 | Pearson r = 0.397 (p=0.000) | Partial η² = 0.114\n",
      "\n",
      "Site: site03 | Pearson r = 0.351 (p=0.000) | Partial η² = 0.098\n",
      "\n",
      "Site: site04 | Pearson r = 0.483 (p=0.000) | Partial η² = 0.231\n",
      "\n",
      "Site: site05 | Pearson r = 0.524 (p=0.000) | Partial η² = 0.270\n",
      "\n",
      "Site: site06 | Pearson r = 0.418 (p=0.000) | Partial η² = 0.170\n",
      "\n",
      "Site: site08 | Pearson r = 0.390 (p=0.002) | Partial η² = -0.134\n",
      "\n",
      "Site: site09 | Pearson r = 0.438 (p=0.000) | Partial η² = 0.047\n",
      "\n",
      "Site: site10 | Pearson r = 0.432 (p=0.000) | Partial η² = 0.181\n",
      "\n",
      "Site: site11 | Pearson r = 0.474 (p=0.000) | Partial η² = 0.203\n",
      "\n",
      "Site: site12 | Pearson r = 0.393 (p=0.004) | Partial η² = 0.121\n",
      "\n",
      "Site: site13 | Pearson r = 0.469 (p=0.000) | Partial η² = 0.204\n",
      "\n",
      "Site: site14 | Pearson r = 0.479 (p=0.000) | Partial η² = 0.225\n",
      "\n",
      "Site: site15 | Pearson r = 0.642 (p=0.000) | Partial η² = 0.378\n",
      "\n",
      "Site: site16 | Pearson r = 0.496 (p=0.000) | Partial η² = 0.243\n",
      "\n",
      "Site: site17 | Pearson r = 0.452 (p=0.000) | Partial η² = 0.129\n",
      "\n",
      "Site: site18 | Pearson r = 0.407 (p=0.000) | Partial η² = 0.165\n",
      "\n",
      "Site: site19 | Pearson r = 0.433 (p=0.000) | Partial η² = 0.183\n",
      "\n",
      "Site: site20 | Pearson r = 0.425 (p=0.000) | Partial η² = 0.132\n",
      "\n",
      "Site: site21 | Pearson r = 0.452 (p=0.000) | Partial η² = 0.190\n",
      "Cross-validated Performance Metrics:\n",
      "Average Pearson's r: 0.450\n",
      "Partial eta squared: 0.166\n",
      "R²: 0.166\n"
     ]
    },
    {
     "name": "stderr",
     "output_type": "stream",
     "text": [
      "\n"
     ]
    }
   ],
   "execution_count": 39
  },
  {
   "metadata": {
    "ExecuteTime": {
     "end_time": "2025-09-22T16:12:34.782925Z",
     "start_time": "2025-09-22T16:12:12.340454Z"
    }
   },
   "cell_type": "code",
   "source": [
    "between_neg_mean_followup_A = compute_one_statistic(df_features=main_followup_A,\n",
    "                                                    df_network=conn_A_followup_df,\n",
    "                                                    regions=regions,\n",
    "                                                    stat_name=\"between_negative_mean\",\n",
    "                                                    mode=\"all\",\n",
    "                                                    node_order=None,\n",
    "                                                    matrix_size=418,\n",
    "                                                    diag_value=0.0)\n",
    "\n",
    "followup_A_plus = combine_data(main_followup_A, between_neg_mean_followup_A)\n",
    "results_no_network, models_no_network = run_cross_validation(followup_A_plus.fillna(0.0), y_followup_A,\n",
    "                                                             use_network=False)\n",
    "print_cross_val_results(results_no_network)"
   ],
   "id": "bf96d732ef1f197e",
   "outputs": [
    {
     "name": "stderr",
     "output_type": "stream",
     "text": [
      "100%|██████████| 2409/2409 [00:20<00:00, 118.72it/s]\n"
     ]
    },
    {
     "name": "stdout",
     "output_type": "stream",
     "text": [
      "Dropping duplicate columns: ['Subject', 'site_id_l']\n"
     ]
    },
    {
     "name": "stderr",
     "output_type": "stream",
     "text": [
      "Cross-validation progress: 100%|██████████| 19/19 [00:00<00:00, 270.32it/s]"
     ]
    },
    {
     "name": "stdout",
     "output_type": "stream",
     "text": [
      "\n",
      "Site: site02 | Pearson r = 0.312 (p=0.000) | Partial η² = 0.066\n",
      "\n",
      "Site: site03 | Pearson r = 0.416 (p=0.000) | Partial η² = 0.167\n",
      "\n",
      "Site: site04 | Pearson r = 0.394 (p=0.000) | Partial η² = 0.138\n",
      "\n",
      "Site: site05 | Pearson r = 0.564 (p=0.000) | Partial η² = 0.274\n",
      "\n",
      "Site: site06 | Pearson r = 0.311 (p=0.000) | Partial η² = 0.045\n",
      "\n",
      "Site: site08 | Pearson r = 0.382 (p=0.002) | Partial η² = -0.073\n",
      "\n",
      "Site: site09 | Pearson r = 0.349 (p=0.005) | Partial η² = -0.017\n",
      "\n",
      "Site: site10 | Pearson r = 0.379 (p=0.000) | Partial η² = 0.093\n",
      "\n",
      "Site: site11 | Pearson r = 0.575 (p=0.000) | Partial η² = 0.329\n",
      "\n",
      "Site: site12 | Pearson r = 0.524 (p=0.000) | Partial η² = 0.274\n",
      "\n",
      "Site: site13 | Pearson r = 0.485 (p=0.000) | Partial η² = 0.226\n",
      "\n",
      "Site: site14 | Pearson r = 0.430 (p=0.000) | Partial η² = 0.179\n",
      "\n",
      "Site: site15 | Pearson r = 0.702 (p=0.000) | Partial η² = 0.361\n",
      "\n",
      "Site: site16 | Pearson r = 0.387 (p=0.000) | Partial η² = 0.149\n",
      "\n",
      "Site: site17 | Pearson r = 0.390 (p=0.000) | Partial η² = 0.012\n",
      "\n",
      "Site: site18 | Pearson r = 0.312 (p=0.003) | Partial η² = 0.060\n",
      "\n",
      "Site: site19 | Pearson r = 0.498 (p=0.000) | Partial η² = 0.241\n",
      "\n",
      "Site: site20 | Pearson r = 0.516 (p=0.000) | Partial η² = 0.259\n",
      "\n",
      "Site: site21 | Pearson r = 0.508 (p=0.000) | Partial η² = 0.256\n",
      "Cross-validated Performance Metrics:\n",
      "Average Pearson's r: 0.444\n",
      "Partial eta squared: 0.160\n",
      "R²: 0.160\n"
     ]
    },
    {
     "name": "stderr",
     "output_type": "stream",
     "text": [
      "\n"
     ]
    }
   ],
   "execution_count": 40
  },
  {
   "metadata": {
    "ExecuteTime": {
     "end_time": "2025-09-22T16:17:28.873532Z",
     "start_time": "2025-09-22T16:17:01.201833Z"
    }
   },
   "cell_type": "code",
   "source": [
    "segregation_ratio_baseline_A = compute_one_statistic(df_features=main_baseline_A,\n",
    "                                                     df_network=conn_A_baseline_df,\n",
    "                                                     regions=regions,\n",
    "                                                     stat_name=\"segregation_ratio\",\n",
    "                                                     mode=\"all\",\n",
    "                                                     node_order=None,\n",
    "                                                     matrix_size=418,\n",
    "                                                     diag_value=0.0)\n",
    "baseline_A_plus = combine_data(main_baseline_A, segregation_ratio_baseline_A)\n",
    "results_no_network, models_no_network = run_cross_validation(baseline_A_plus, y_baseline_A, use_network=False)\n",
    "print_cross_val_results(results_no_network)\n"
   ],
   "id": "430e0d2f797fdec1",
   "outputs": [
    {
     "name": "stderr",
     "output_type": "stream",
     "text": [
      "100%|██████████| 2409/2409 [00:25<00:00, 94.07it/s] \n"
     ]
    },
    {
     "name": "stdout",
     "output_type": "stream",
     "text": [
      "Dropping duplicate columns: ['Subject', 'site_id_l']\n"
     ]
    },
    {
     "name": "stderr",
     "output_type": "stream",
     "text": [
      "Cross-validation progress: 100%|██████████| 19/19 [00:00<00:00, 134.58it/s]"
     ]
    },
    {
     "name": "stdout",
     "output_type": "stream",
     "text": [
      "\n",
      "Site: site02 | Pearson r = 0.410 (p=0.000) | Partial η² = 0.117\n",
      "\n",
      "Site: site03 | Pearson r = 0.344 (p=0.000) | Partial η² = 0.092\n",
      "\n",
      "Site: site04 | Pearson r = 0.474 (p=0.000) | Partial η² = 0.223\n",
      "\n",
      "Site: site05 | Pearson r = 0.511 (p=0.000) | Partial η² = 0.257\n",
      "\n",
      "Site: site06 | Pearson r = 0.413 (p=0.000) | Partial η² = 0.169\n",
      "\n",
      "Site: site08 | Pearson r = 0.405 (p=0.001) | Partial η² = -0.127\n",
      "\n",
      "Site: site09 | Pearson r = 0.455 (p=0.000) | Partial η² = 0.088\n",
      "\n",
      "Site: site10 | Pearson r = 0.445 (p=0.000) | Partial η² = 0.196\n",
      "\n",
      "Site: site11 | Pearson r = 0.506 (p=0.000) | Partial η² = 0.238\n",
      "\n",
      "Site: site12 | Pearson r = 0.404 (p=0.003) | Partial η² = 0.125\n",
      "\n",
      "Site: site13 | Pearson r = 0.479 (p=0.000) | Partial η² = 0.216\n",
      "\n",
      "Site: site14 | Pearson r = 0.506 (p=0.000) | Partial η² = 0.246\n",
      "\n",
      "Site: site15 | Pearson r = 0.684 (p=0.000) | Partial η² = 0.420\n",
      "\n",
      "Site: site16 | Pearson r = 0.501 (p=0.000) | Partial η² = 0.246\n",
      "\n",
      "Site: site17 | Pearson r = 0.423 (p=0.000) | Partial η² = 0.073\n",
      "\n",
      "Site: site18 | Pearson r = 0.433 (p=0.000) | Partial η² = 0.184\n",
      "\n",
      "Site: site19 | Pearson r = 0.419 (p=0.001) | Partial η² = 0.157\n",
      "\n",
      "Site: site20 | Pearson r = 0.438 (p=0.000) | Partial η² = 0.142\n",
      "\n",
      "Site: site21 | Pearson r = 0.451 (p=0.000) | Partial η² = 0.189\n",
      "Cross-validated Performance Metrics:\n",
      "Average Pearson's r: 0.458\n",
      "Partial eta squared: 0.171\n",
      "R²: 0.171\n"
     ]
    },
    {
     "name": "stderr",
     "output_type": "stream",
     "text": [
      "\n"
     ]
    }
   ],
   "execution_count": 41
  },
  {
   "metadata": {
    "ExecuteTime": {
     "end_time": "2025-09-22T16:18:51.166070Z",
     "start_time": "2025-09-22T16:18:28.557374Z"
    }
   },
   "cell_type": "code",
   "source": [
    "segregation_ratio_followup_A = compute_one_statistic(df_features=main_followup_A,\n",
    "                                                     df_network=conn_A_followup_df,\n",
    "                                                     regions=regions,\n",
    "                                                     stat_name=\"segregation_ratio\",\n",
    "                                                     mode=\"all\",\n",
    "                                                     node_order=None,\n",
    "                                                     matrix_size=418,\n",
    "                                                     diag_value=0.0)\n",
    "\n",
    "followup_A_plus = combine_data(main_followup_A, segregation_ratio_followup_A)\n",
    "results_no_network, models_no_network = run_cross_validation(followup_A_plus.fillna(0.0), y_followup_A,\n",
    "                                                             use_network=False)\n",
    "print_cross_val_results(results_no_network)"
   ],
   "id": "c388735d8d50db2e",
   "outputs": [
    {
     "name": "stderr",
     "output_type": "stream",
     "text": [
      "100%|██████████| 2409/2409 [00:20<00:00, 116.54it/s]\n"
     ]
    },
    {
     "name": "stdout",
     "output_type": "stream",
     "text": [
      "Dropping duplicate columns: ['Subject', 'site_id_l']\n"
     ]
    },
    {
     "name": "stderr",
     "output_type": "stream",
     "text": [
      "Cross-validation progress: 100%|██████████| 19/19 [00:00<00:00, 253.56it/s]"
     ]
    },
    {
     "name": "stdout",
     "output_type": "stream",
     "text": [
      "\n",
      "Site: site02 | Pearson r = 0.319 (p=0.000) | Partial η² = 0.074\n",
      "\n",
      "Site: site03 | Pearson r = 0.424 (p=0.000) | Partial η² = 0.175\n",
      "\n",
      "Site: site04 | Pearson r = 0.380 (p=0.000) | Partial η² = 0.122\n",
      "\n",
      "Site: site05 | Pearson r = 0.525 (p=0.000) | Partial η² = 0.235\n",
      "\n",
      "Site: site06 | Pearson r = 0.308 (p=0.000) | Partial η² = 0.053\n",
      "\n",
      "Site: site08 | Pearson r = 0.384 (p=0.002) | Partial η² = -0.068\n",
      "\n",
      "Site: site09 | Pearson r = 0.353 (p=0.005) | Partial η² = 0.011\n",
      "\n",
      "Site: site10 | Pearson r = 0.372 (p=0.000) | Partial η² = 0.080\n",
      "\n",
      "Site: site11 | Pearson r = 0.577 (p=0.000) | Partial η² = 0.330\n",
      "\n",
      "Site: site12 | Pearson r = 0.521 (p=0.000) | Partial η² = 0.269\n",
      "\n",
      "Site: site13 | Pearson r = 0.476 (p=0.000) | Partial η² = 0.215\n",
      "\n",
      "Site: site14 | Pearson r = 0.475 (p=0.000) | Partial η² = 0.221\n",
      "\n",
      "Site: site15 | Pearson r = 0.709 (p=0.000) | Partial η² = 0.388\n",
      "\n",
      "Site: site16 | Pearson r = 0.384 (p=0.000) | Partial η² = 0.147\n",
      "\n",
      "Site: site17 | Pearson r = 0.383 (p=0.000) | Partial η² = -0.020\n",
      "\n",
      "Site: site18 | Pearson r = 0.334 (p=0.001) | Partial η² = 0.074\n",
      "\n",
      "Site: site19 | Pearson r = 0.504 (p=0.000) | Partial η² = 0.249\n",
      "\n",
      "Site: site20 | Pearson r = 0.519 (p=0.000) | Partial η² = 0.262\n",
      "\n",
      "Site: site21 | Pearson r = 0.536 (p=0.000) | Partial η² = 0.285\n",
      "Cross-validated Performance Metrics:\n",
      "Average Pearson's r: 0.446\n",
      "Partial eta squared: 0.163\n",
      "R²: 0.163\n"
     ]
    },
    {
     "name": "stderr",
     "output_type": "stream",
     "text": [
      "\n"
     ]
    }
   ],
   "execution_count": 42
  },
  {
   "metadata": {
    "ExecuteTime": {
     "end_time": "2025-09-22T16:19:29.430743Z",
     "start_time": "2025-09-22T16:19:08.058069Z"
    }
   },
   "cell_type": "code",
   "source": [
    "segregation_index_baseline_A = compute_one_statistic(df_features=main_baseline_A,\n",
    "                                                     df_network=conn_A_baseline_df,\n",
    "                                                     regions=regions,\n",
    "                                                     stat_name=\"segregation_index\",\n",
    "                                                     mode=\"all\",\n",
    "                                                     node_order=None,\n",
    "                                                     matrix_size=418,\n",
    "                                                     diag_value=0.0)\n",
    "baseline_A_plus = combine_data(main_baseline_A, segregation_index_baseline_A)\n",
    "results_no_network, models_no_network = run_cross_validation(baseline_A_plus, y_baseline_A, use_network=False)\n",
    "print_cross_val_results(results_no_network)\n"
   ],
   "id": "74b5dfb5383bf43a",
   "outputs": [
    {
     "name": "stderr",
     "output_type": "stream",
     "text": [
      "100%|██████████| 2409/2409 [00:19<00:00, 124.71it/s]\n"
     ]
    },
    {
     "name": "stdout",
     "output_type": "stream",
     "text": [
      "Dropping duplicate columns: ['Subject', 'site_id_l']\n"
     ]
    },
    {
     "name": "stderr",
     "output_type": "stream",
     "text": [
      "Cross-validation progress: 100%|██████████| 19/19 [00:00<00:00, 277.26it/s]"
     ]
    },
    {
     "name": "stdout",
     "output_type": "stream",
     "text": [
      "\n",
      "Site: site02 | Pearson r = 0.405 (p=0.000) | Partial η² = 0.112\n",
      "\n",
      "Site: site03 | Pearson r = 0.342 (p=0.000) | Partial η² = 0.088\n",
      "\n",
      "Site: site04 | Pearson r = 0.473 (p=0.000) | Partial η² = 0.223\n",
      "\n",
      "Site: site05 | Pearson r = 0.517 (p=0.000) | Partial η² = 0.263\n",
      "\n",
      "Site: site06 | Pearson r = 0.416 (p=0.000) | Partial η² = 0.171\n",
      "\n",
      "Site: site08 | Pearson r = 0.403 (p=0.002) | Partial η² = -0.125\n",
      "\n",
      "Site: site09 | Pearson r = 0.483 (p=0.000) | Partial η² = 0.096\n",
      "\n",
      "Site: site10 | Pearson r = 0.443 (p=0.000) | Partial η² = 0.194\n",
      "\n",
      "Site: site11 | Pearson r = 0.488 (p=0.000) | Partial η² = 0.215\n",
      "\n",
      "Site: site12 | Pearson r = 0.400 (p=0.003) | Partial η² = 0.116\n",
      "\n",
      "Site: site13 | Pearson r = 0.481 (p=0.000) | Partial η² = 0.217\n",
      "\n",
      "Site: site14 | Pearson r = 0.497 (p=0.000) | Partial η² = 0.238\n",
      "\n",
      "Site: site15 | Pearson r = 0.689 (p=0.000) | Partial η² = 0.430\n",
      "\n",
      "Site: site16 | Pearson r = 0.494 (p=0.000) | Partial η² = 0.242\n",
      "\n",
      "Site: site17 | Pearson r = 0.397 (p=0.000) | Partial η² = 0.048\n",
      "\n",
      "Site: site18 | Pearson r = 0.417 (p=0.000) | Partial η² = 0.172\n",
      "\n",
      "Site: site19 | Pearson r = 0.422 (p=0.000) | Partial η² = 0.160\n",
      "\n",
      "Site: site20 | Pearson r = 0.464 (p=0.000) | Partial η² = 0.169\n",
      "\n",
      "Site: site21 | Pearson r = 0.456 (p=0.000) | Partial η² = 0.196\n",
      "Cross-validated Performance Metrics:\n",
      "Average Pearson's r: 0.457\n",
      "Partial eta squared: 0.170\n",
      "R²: 0.170\n"
     ]
    },
    {
     "name": "stderr",
     "output_type": "stream",
     "text": [
      "\n"
     ]
    }
   ],
   "execution_count": 43
  },
  {
   "metadata": {
    "ExecuteTime": {
     "end_time": "2025-09-22T16:21:33.640103Z",
     "start_time": "2025-09-22T16:21:11.071939Z"
    }
   },
   "cell_type": "code",
   "source": [
    "segregation_index_followup_A = compute_one_statistic(df_features=main_followup_A,\n",
    "                                                     df_network=conn_A_followup_df,\n",
    "                                                     regions=regions,\n",
    "                                                     stat_name=\"segregation_index\",\n",
    "                                                     mode=\"all\",\n",
    "                                                     node_order=None,\n",
    "                                                     matrix_size=418,\n",
    "                                                     diag_value=0.0)\n",
    "\n",
    "followup_A_plus = combine_data(main_followup_A, segregation_index_followup_A)\n",
    "results_no_network, models_no_network = run_cross_validation(followup_A_plus.fillna(0.0), y_followup_A,\n",
    "                                                             use_network=False)\n",
    "print_cross_val_results(results_no_network)"
   ],
   "id": "9312f4001a79ce27",
   "outputs": [
    {
     "name": "stderr",
     "output_type": "stream",
     "text": [
      "100%|██████████| 2409/2409 [00:20<00:00, 117.25it/s]\n"
     ]
    },
    {
     "name": "stdout",
     "output_type": "stream",
     "text": [
      "Dropping duplicate columns: ['Subject', 'site_id_l']\n"
     ]
    },
    {
     "name": "stderr",
     "output_type": "stream",
     "text": [
      "Cross-validation progress: 100%|██████████| 19/19 [00:00<00:00, 283.03it/s]"
     ]
    },
    {
     "name": "stdout",
     "output_type": "stream",
     "text": [
      "\n",
      "Site: site02 | Pearson r = 0.310 (p=0.000) | Partial η² = 0.068\n",
      "\n",
      "Site: site03 | Pearson r = 0.423 (p=0.000) | Partial η² = 0.174\n",
      "\n",
      "Site: site04 | Pearson r = 0.380 (p=0.000) | Partial η² = 0.122\n",
      "\n",
      "Site: site05 | Pearson r = 0.522 (p=0.000) | Partial η² = 0.235\n",
      "\n",
      "Site: site06 | Pearson r = 0.295 (p=0.000) | Partial η² = 0.037\n",
      "\n",
      "Site: site08 | Pearson r = 0.349 (p=0.005) | Partial η² = -0.117\n",
      "\n",
      "Site: site09 | Pearson r = 0.328 (p=0.009) | Partial η² = -0.016\n",
      "\n",
      "Site: site10 | Pearson r = 0.370 (p=0.000) | Partial η² = 0.076\n",
      "\n",
      "Site: site11 | Pearson r = 0.590 (p=0.000) | Partial η² = 0.348\n",
      "\n",
      "Site: site12 | Pearson r = 0.524 (p=0.000) | Partial η² = 0.274\n",
      "\n",
      "Site: site13 | Pearson r = 0.458 (p=0.000) | Partial η² = 0.193\n",
      "\n",
      "Site: site14 | Pearson r = 0.458 (p=0.000) | Partial η² = 0.206\n",
      "\n",
      "Site: site15 | Pearson r = 0.747 (p=0.000) | Partial η² = 0.428\n",
      "\n",
      "Site: site16 | Pearson r = 0.380 (p=0.000) | Partial η² = 0.144\n",
      "\n",
      "Site: site17 | Pearson r = 0.353 (p=0.000) | Partial η² = -0.048\n",
      "\n",
      "Site: site18 | Pearson r = 0.330 (p=0.002) | Partial η² = 0.078\n",
      "\n",
      "Site: site19 | Pearson r = 0.511 (p=0.000) | Partial η² = 0.252\n",
      "\n",
      "Site: site20 | Pearson r = 0.521 (p=0.000) | Partial η² = 0.263\n",
      "\n",
      "Site: site21 | Pearson r = 0.533 (p=0.000) | Partial η² = 0.281\n",
      "Cross-validated Performance Metrics:\n",
      "Average Pearson's r: 0.441\n",
      "Partial eta squared: 0.158\n",
      "R²: 0.158\n"
     ]
    },
    {
     "name": "stderr",
     "output_type": "stream",
     "text": [
      "\n"
     ]
    }
   ],
   "execution_count": 44
  },
  {
   "metadata": {},
   "cell_type": "markdown",
   "source": [
    "####  Option A preprocessed baseline data summary table:\n",
    "| **Model Description**             | **Average Pearson's r** | **Cross-validated Partial η² (avg)** |\n",
    "|-----------------------------------|-------------------------|--------------------------------------|\n",
    "| Full features                     | 0.455                   | 0.170                                |\n",
    "| Full features + 15 PCs            | 0.458                   | 0.174                                |\n",
    "| Full features + 100 PCs           | 0.479                   | 0.193                                |\n",
    "| Full features + pos strength      | 0.451                   | 0.165                                |\n",
    "| Full features + neg strength      | 0.450                   | 0.166                                |\n",
    "| Full features + total strength    | 0.451                   | 0.164                                |\n",
    "| Full features + within positive   | 0.457                   | 0.169                                |\n",
    "| Full features + between positive  | 0.451                   | 0.166                                |\n",
    "| Full features + within negative   | 0.450                   | 0.164                                |\n",
    "| Full features + between negative  | 0.450                   | 0.166                                |\n",
    "| Full features + segregation ratio | 0.458                   | 0.171                                |\n",
    "| Full features + segregation index | 0.457                   | 0.170                                |\n",
    "\n",
    "\n",
    "####  Option A preprocessed followup data summary table:\n",
    "| **Model Description**             | **Average Pearson's r** | **Cross-validated Partial η² (avg)** |\n",
    "|-----------------------------------|-------------------------|--------------------------------------|\n",
    "| Full features                     | 0.441                   | 0.161                                |\n",
    "| Full features + 15 PCs            | 0.457                   | 0.178                                |\n",
    "| Full features + 100 PCs           | 0.487                   | 0.204                                |\n",
    "| Full features + pos strength      | 0.440                   | 0.163                                |\n",
    "| Full features + neg strength      | 0.444                   | 0.160                                |\n",
    "| Full features + total strength    | 0.444                   | 0.166                                |\n",
    "| Full features + within positive   | 0.441                   | 0.158                                |\n",
    "| Full features + between positive  | 0.440                   | 0.163                                |\n",
    "| Full features + within negative   | 0.438                   | 0.156                                |\n",
    "| Full features + between negative  | 0.444                   | 0.160                                |\n",
    "| Full features + segregation ratio | 0.446                   | 0.163                                |\n",
    "| Full features + segregation index | 0.441                   | 0.158                                |"
   ],
   "id": "ebaca565ec8f986c"
  },
  {
   "metadata": {},
   "cell_type": "code",
   "outputs": [],
   "execution_count": null,
   "source": "",
   "id": "bbc7a2902360ca2d"
  },
  {
   "metadata": {},
   "cell_type": "code",
   "outputs": [],
   "execution_count": null,
   "source": "",
   "id": "5cedf612272b6855"
  },
  {
   "metadata": {},
   "cell_type": "code",
   "outputs": [],
   "execution_count": null,
   "source": "",
   "id": "e6c5e79bf9823000"
  },
  {
   "metadata": {},
   "cell_type": "code",
   "outputs": [],
   "execution_count": null,
   "source": "",
   "id": "208ef75ece1f34ef"
  },
  {
   "metadata": {},
   "cell_type": "code",
   "outputs": [],
   "execution_count": null,
   "source": "",
   "id": "ff036454a31e9e57"
  },
  {
   "metadata": {},
   "cell_type": "code",
   "outputs": [],
   "execution_count": null,
   "source": "",
   "id": "d80e5f965e3b3690"
  },
  {
   "metadata": {},
   "cell_type": "raw",
   "source": [
    "import networkx as nx\n",
    "def weighted_clustering_coefficient(correlation_matrix, community_sizes, net_order, subj_id, site_id):\n",
    "    \"\"\"\n",
    "    Compute weighted clustering coefficient (Onnela's definition) aggregated by regions.\n",
    "\n",
    "    Args:\n",
    "        correlation_matrix: np.ndarray, symmetric connectivity matrix\n",
    "        community_sizes: list of ints, sizes of each community in net_order\n",
    "        net_order: list of network identifiers, in the order matching community_sizes\n",
    "        subj_id: Subject identifier (str or int)\n",
    "        site_id: Site identifier (str or int)\n",
    "\n",
    "    Returns:\n",
    "        DataFrame with a single row: Subject, site_id_l, and clustering[net_id] columns\n",
    "    \"\"\"\n",
    "    # Build graph with absolute correlation values\n",
    "    G = nx.from_numpy_array(np.abs(correlation_matrix))\n",
    "\n",
    "    # Get clustering coefficient for each node\n",
    "    clustering_dict = nx.clustering(G, weight=\"weight\")\n",
    "\n",
    "    # Convert to array for indexing\n",
    "    clustering_values = np.array([clustering_dict[i] for i in range(len(correlation_matrix))])\n",
    "\n",
    "    # Build dictionary for row output\n",
    "    row_dict = {\"Subject\": subj_id, \"site_id_l\": site_id}\n",
    "    start = 0\n",
    "    for size, net_id in zip(community_sizes, net_order):\n",
    "        region_vals = clustering_values[start:start+size]\n",
    "        avg_val = np.mean(region_vals)\n",
    "        row_dict[f\"clustering[{net_id}]\"] = avg_val\n",
    "        start += size\n",
    "\n",
    "    return pd.DataFrame([row_dict])\n"
   ],
   "id": "fa060664ad3f1fe1"
  },
  {
   "metadata": {},
   "cell_type": "raw",
   "source": [
    "def compute_clustering_for_all(df_features, df_network, community_sizes, net_order):\n",
    "    \"\"\"\n",
    "    Compute weighted clustering coefficient for each subject in df_network.\n",
    "\n",
    "    Args:\n",
    "        df_features: DataFrame with Subject and site_id_l columns\n",
    "        df_network: DataFrame with Subject, flattened correlation matrices\n",
    "        community_sizes: list of ints, community sizes\n",
    "        net_order: list of network identifiers\n",
    "\n",
    "    Returns:\n",
    "        DataFrame with one row per subject:\n",
    "        Subject, site_id_l, and clustering[net_id] columns\n",
    "    \"\"\"\n",
    "    result = []\n",
    "\n",
    "    # Create subject-to-site mapping dictionary\n",
    "    subject_site_map = df_features.set_index('Subject')['site_id_l'].to_dict()\n",
    "    df_network['site_id_l'] = df_network['Subject'].map(subject_site_map)\n",
    "\n",
    "    for row in tqdm(df_network.itertuples(index=False), total=len(df_network)):\n",
    "        subj_id = row.Subject\n",
    "        site_id = row.site_id_l\n",
    "\n",
    "        # Reconstruct matrix from flattened vector\n",
    "        matrix_values = [v for k, v in row._asdict().items() if k not in (\"Subject\", \"site_id_l\")]\n",
    "        corr_matrix = vector_to_symmetric_matrix(matrix_values, 418)\n",
    "\n",
    "        # Compute clustering (returns single-row df)\n",
    "        df_clust = weighted_clustering_coefficient(corr_matrix, community_sizes, net_order, subj_id, site_id)\n",
    "\n",
    "        # Convert to dict and append\n",
    "        result.append(df_clust.iloc[0].to_dict())\n",
    "\n",
    "    return pd.DataFrame(result)\n"
   ],
   "id": "6b06eb222ad5efa8"
  },
  {
   "metadata": {},
   "cell_type": "raw",
   "source": [
    "clustering_baseline = compute_clustering_for_all(\n",
    "    df_features=article_features_baseline,\n",
    "    df_network=flattened_baseline_df,\n",
    "    community_sizes=community_sizes,\n",
    "    net_order=net_order)"
   ],
   "id": "1a916c95d9fe4804"
  },
  {
   "metadata": {},
   "cell_type": "raw",
   "source": [
    "def compute_efficiency_metrics(symmetric_matrix, threshold=None, eps=1e-12, renorm=True):\n",
    "    \"\"\"\n",
    "    symmetric_matrix : Fisher z-transformed correlations (symmetric, NxN)\n",
    "    threshold        : optional abs(Pearson) cutoff to sparsify (e.g., 0.1 or 0.2)\n",
    "    eps              : small constant to avoid division by zero\n",
    "    renorm           : if True and threshold is set, rescale weights so max=1 and threshold->0\n",
    "\n",
    "    Returns: global_eff, local_eff (both in [0,1])\n",
    "    \"\"\"\n",
    "    # Convert back to Pearson\n",
    "    pearson = np.tanh(symmetric_matrix).astype(float)\n",
    "    np.fill_diagonal(pearson, 0.0)\n",
    "\n",
    "    # Keep non-negative strengths (use absolute correlations as connectivity strength)\n",
    "    w = np.abs(pearson)\n",
    "\n",
    "    # Apply threshold (remove weak edges)\n",
    "    if threshold is not None:\n",
    "        w[w < threshold] = 0.0\n",
    "        if renorm and threshold < 1.0:\n",
    "            # Map [threshold, 1] -> [0, 1]\n",
    "            w = np.clip((w - threshold) / (1.0 - threshold), 0.0, 1.0)\n",
    "\n",
    "    # Build graph with edge *length* = 1/strength\n",
    "    n = w.shape[0]\n",
    "    G = nx.Graph()\n",
    "    G.add_nodes_from(range(n))\n",
    "    # Add only positive-strength edges\n",
    "    rows, cols = np.where(w > 0.0)\n",
    "    for i, j in zip(rows, cols):\n",
    "        if i < j:\n",
    "            strength = w[i, j]\n",
    "            length = 1.0 / (strength + eps)  # large when strength small; 1 when strength=1\n",
    "            G.add_edge(i, j, length=length)\n",
    "\n",
    "    if G.number_of_edges() == 0:\n",
    "        return 0.0, 0.0\n",
    "\n",
    "    # --- Global efficiency (normalize by n(n-1)) ---\n",
    "    lengths = dict(nx.all_pairs_dijkstra_path_length(G, weight=\"length\"))\n",
    "    tot = 0.0\n",
    "    denom = n * (n - 1)\n",
    "    for u in range(n):\n",
    "        Lu = lengths.get(u, {})\n",
    "        for v in range(n):\n",
    "            if u == v:\n",
    "                continue\n",
    "            d = Lu.get(v, None)\n",
    "            if d is not None and d > 0:\n",
    "                tot += 1.0 / d\n",
    "            # else unreachable => contributes 0\n",
    "    global_eff = tot / denom if denom > 0 else 0.0\n",
    "\n",
    "    # --- Local efficiency: average over ego-neighborhoods ---\n",
    "    local_vals = []\n",
    "    for i in G.nodes():\n",
    "        nbrs = list(G.neighbors(i))\n",
    "        k = len(nbrs)\n",
    "        if k < 2:\n",
    "            continue\n",
    "        H = G.subgraph(nbrs)\n",
    "        Lsub = dict(nx.all_pairs_dijkstra_path_length(H, weight=\"length\"))\n",
    "\n",
    "        # sum over ordered pairs (u,v), u != v; normalize by k(k-1)\n",
    "        tot_loc = 0.0\n",
    "        denom_loc = k * (k - 1)\n",
    "        for u in nbrs:\n",
    "            Lu = Lsub.get(u, {})\n",
    "            for v in nbrs:\n",
    "                if u == v:\n",
    "                    continue\n",
    "                d = Lu.get(v, None)\n",
    "                if d is not None and d > 0:\n",
    "                    tot_loc += 1.0 / d\n",
    "        local_vals.append(tot_loc / denom_loc)\n",
    "\n",
    "    local_eff = float(np.mean(local_vals)) if local_vals else 0.0\n",
    "\n",
    "    # --- Sanity: clamp tiny FP drift and assert ---\n",
    "    global_eff = float(np.clip(global_eff, 0.0, 1.0))\n",
    "    local_eff  = float(np.clip(local_eff,  0.0, 1.0))\n",
    "\n",
    "    assert 0.0 <= global_eff <= 1.0 + 1e-9, f\"global_eff out of range {global_eff}\"\n",
    "    assert 0.0 <= local_eff  <= 1.0 + 1e-9, f\"local_eff out of range {local_eff}\"\n",
    "\n",
    "    return global_eff, local_eff\n",
    "\n",
    "\n",
    "# --- driver: run for all subjects safely ---\n",
    "def compute_efficiency_for_all(df_features, df_network, threshold=None, n_nodes=418):\n",
    "    \"\"\"\n",
    "    Returns a DataFrame with columns: Subject | site_id_l | global_efficiency | local_efficiency\n",
    "    \"\"\"\n",
    "    # Basic schema checks\n",
    "    assert \"Subject\" in df_features.columns, \"df_features must have 'Subject'\"\n",
    "    assert \"site_id_l\" in df_features.columns, \"df_features must have 'site_id_l'\"\n",
    "    assert \"Subject\" in df_network.columns,  \"df_network must have 'Subject'\"\n",
    "\n",
    "    # Map Subject -> site_id_l\n",
    "    subject_site = df_features.set_index(\"Subject\")[\"site_id_l\"].to_dict()\n",
    "    df_network = df_network.copy()\n",
    "    df_network[\"site_id_l\"] = df_network[\"Subject\"].map(subject_site)\n",
    "\n",
    "    results = []\n",
    "    expected_len = n_nodes * (n_nodes - 1) // 2\n",
    "\n",
    "    for row in tqdm(df_network.itertuples(index=False), total=len(df_network)):\n",
    "        subj_id = row.Subject\n",
    "        site_id = row.site_id_l\n",
    "\n",
    "        # Pull flattened upper-tri values\n",
    "        vec = [v for k, v in row._asdict().items() if k not in (\"Subject\", \"site_id_l\")]\n",
    "        vec = np.asarray(vec, dtype=float)\n",
    "        assert vec.size == expected_len, f\"{subj_id}: expected {expected_len} values, got {vec.size}\"\n",
    "\n",
    "        # Rebuild symmetric Fisher-z matrix\n",
    "        zmat = vector_to_symmetric_matrix(vec, n_nodes)\n",
    "        assert zmat.shape == (n_nodes, n_nodes), f\"{subj_id}: bad shape {zmat.shape}\"\n",
    "        if not np.isfinite(zmat).all():\n",
    "            raise ValueError(f\"{subj_id}: NaN/Inf in matrix\")\n",
    "\n",
    "        try:\n",
    "            g_eff, l_eff = compute_efficiency_metrics(zmat, threshold=threshold)\n",
    "        except Exception as e:\n",
    "            raise RuntimeError(f\"Efficiency failed for {subj_id}: {e}\")\n",
    "\n",
    "        # Final guard (with tiny tolerance)\n",
    "        if not (0.0 - 1e-9 <= g_eff <= 1.0 + 1e-9):\n",
    "            raise ValueError(f\"{subj_id}: global_eff out of range {g_eff}\")\n",
    "        if not (0.0 - 1e-9 <= l_eff <= 1.0 + 1e-9):\n",
    "            raise ValueError(f\"{subj_id}: local_eff out of range {l_eff}\")\n",
    "\n",
    "        results.append({\n",
    "            \"Subject\": subj_id,\n",
    "            \"site_id_l\": site_id,\n",
    "            \"global_efficiency\": float(g_eff),\n",
    "            \"local_efficiency\": float(l_eff),\n",
    "        })\n",
    "\n",
    "    return pd.DataFrame(results)\n"
   ],
   "id": "9c3862be314cbb3d"
  },
  {
   "metadata": {},
   "cell_type": "raw",
   "source": [
    "efficiency_baseline = compute_efficiency_for_all(\n",
    "    df_features=article_features_baseline,\n",
    "    df_network=flattened_baseline_df,\n",
    "    threshold=0.5)"
   ],
   "id": "36589f25b5247aac"
  },
  {
   "metadata": {},
   "cell_type": "raw",
   "source": [
    "results_no_network, models_no_network = run_cross_validation(efficiency_baseline, y_baseline,\n",
    "                                                             use_network=False)\n",
    "print_cross_val_results(results_no_network)\n",
    "\n",
    "features_efficiency_baseline = combine_data(article_features_baseline, efficiency_baseline)\n",
    "results_no_network, models_no_network = run_cross_validation(features_efficiency_baseline, y_baseline,\n",
    "                                                             use_network=False)\n",
    "print_cross_val_results(results_no_network)\n",
    "\n",
    "features_ses_efficiency_baseline = combine_data(features_efficiency_baseline, ses_baseline)\n",
    "results_no_network, models_no_network = run_cross_validation(features_ses_efficiency_baseline, y_baseline,\n",
    "                                                             use_network=False)\n",
    "print_cross_val_results(results_no_network)"
   ],
   "id": "ed2c1a51a3bb51d2"
  },
  {
   "metadata": {},
   "cell_type": "raw",
   "source": "flattened_followup_df.fillna(0, inplace=True)",
   "id": "992fac82b6292829"
  },
  {
   "metadata": {},
   "cell_type": "raw",
   "source": [
    "efficiency_followup = compute_efficiency_for_all(\n",
    "    df_features=article_features_followup,\n",
    "    df_network=flattened_followup_df,\n",
    "    threshold=0.6)"
   ],
   "id": "4f979f987870e85"
  },
  {
   "metadata": {},
   "cell_type": "raw",
   "source": [
    "results_no_network, models_no_network = run_cross_validation(efficiency_followup, y_followup,\n",
    "                                                             use_network=False)\n",
    "print_cross_val_results(results_no_network)\n",
    "\n",
    "features_efficiency_followup = combine_data(article_features_followup, efficiency_followup)\n",
    "results_no_network, models_no_network = run_cross_validation(features_efficiency_followup, y_followup,\n",
    "                                                             use_network=False)\n",
    "print_cross_val_results(results_no_network)\n",
    "\n",
    "features_ses_efficiency_followup = combine_data(features_efficiency_followup, ses_followup)\n",
    "results_no_network, models_no_network = run_cross_validation(features_ses_efficiency_followup, y_followup,\n",
    "                                                             use_network=False)\n",
    "print_cross_val_results(results_no_network)"
   ],
   "id": "e4c02b58da65e529"
  }
 ],
 "metadata": {
  "kernelspec": {
   "display_name": "Python 3",
   "language": "python",
   "name": "python3"
  },
  "language_info": {
   "codemirror_mode": {
    "name": "ipython",
    "version": 2
   },
   "file_extension": ".py",
   "mimetype": "text/x-python",
   "name": "python",
   "nbconvert_exporter": "python",
   "pygments_lexer": "ipython2",
   "version": "2.7.6"
  }
 },
 "nbformat": 4,
 "nbformat_minor": 5
}
