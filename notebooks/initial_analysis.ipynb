{
 "cells": [
  {
   "cell_type": "code",
   "id": "initial_id",
   "metadata": {
    "collapsed": true,
    "ExecuteTime": {
     "end_time": "2025-09-20T20:38:39.760272Z",
     "start_time": "2025-09-20T20:38:39.754281Z"
    }
   },
   "source": [
    "import numpy as np\n",
    "import pandas as pd\n",
    "import os\n",
    "from pathlib import Path\n",
    "from src.pipeline.load import filter_subjects_with_two_timepoints\n",
    "from src.pipeline.connectomes import (\n",
    "    merge_features_and_connectomes,\n",
    "    enforce_same_subjects\n",
    ")\n",
    "from src.pipeline.clean import (\n",
    "    handle_missing_values,\n",
    "    merge_family_ids,\n",
    "    enforce_common_subjects,\n",
    "    drop_siblings,\n",
    "    link_with_g_scores,\n",
    "    save_aligned_features\n",
    "\n",
    ")\n",
    "from src.pipeline.preprocess import (\n",
    "    preprocess_features,\n",
    "    filter_sites_by_threshold,\n",
    "    add_income_group,\n",
    "    print_data_summary\n",
    ")\n",
    "from src.analysis.eda import (\n",
    "    list_columns_with_missing_values,\n",
    "    count_columns_with_missing_values,\n",
    "    percentage_missing_values,\n",
    "    divide_features,\n",
    "    categorical_summary_stats\n",
    ")"
   ],
   "outputs": [],
   "execution_count": 23
  },
  {
   "metadata": {
    "ExecuteTime": {
     "end_time": "2025-09-20T20:27:10.695365Z",
     "start_time": "2025-09-20T20:27:10.650906Z"
    }
   },
   "cell_type": "code",
   "source": [
    "# Load data\n",
    "features = pd.read_csv('../data/raw/Demographics.csv')\n",
    "# Load g_score\n",
    "g_factor = pd.read_csv('../data/raw/ABCD_new_G_all.csv')\n",
    "# Drop \"Task\" since it's constant\n",
    "features = features.drop(columns=[\"Task\"], inplace=False)"
   ],
   "id": "6b3dde28145dbdc0",
   "outputs": [],
   "execution_count": 2
  },
  {
   "metadata": {},
   "cell_type": "markdown",
   "source": [
    "# Features description\n",
    "The dataset we are working with consist of 13274 rows and 20 columns. Thus, we have information for the 13274 subjects. Let us look at the description of the features:\n",
    "* src_subject_id - subject identifier\n",
    "* eventname - timepoint of data\n",
    "* site_id_l - data collection site (may want to include this in models as a grouping factor as there are likely site effects in the data, we will sometimes model subject nested in site as random effects)\n",
    "* rel_family_id - family identifier. There are some siblings, twins, etc in the data. Not necessarily an issue sometimes, but when we're doing any kind of cross validation or anything we make sure we don't have family members in different folds.\n",
    "* interview_age - age of the subject in months\n",
    "* Subject/Session are just recoded versions of subject ID and eventname as they match with the naming of the imaging data better\n",
    "* Task - this should all be rest\n",
    "* GoodRun_5 - number of good runs in the included data\n",
    "* censor_5 - number of censored timepoints in the included data\n",
    "* TRs - number of included timepoints in the data\n",
    "* confounds_nocensor - number of confounds in the run-level nuisance correction model (other than censored timepoints). Most of these quality metrics you probably don't need to worry about\n",
    "* meanFD - the mean motion of the subject during their included scans. We usually use linear and quadratic terms of this as a confound at the group level\n",
    "* race.4level - subject reported race\n",
    "* hisp - subject reported hispanic yes/no\n",
    "* demo_sex_v2 - sex at birth 1=male, 2=female (I think I dropped any other responses, but if there are others we might need to exclude just because there are so few we can't get good estimates of effects)\n",
    "* EdYearsHighest - parental years of education (highest among parents, I think I need to double check we might actually use average elsewhere, but this variable is likely not immediately relevant for now)\n",
    "* IncCombinedMidpoint - combined income of parents (midpoint of a bin, because it's only reported in 10 bins)\n",
    "* Income2Needs - calculated income to needs metric based on parental income and number of people in the household\n",
    "* Married - parents currently married or not"
   ],
   "id": "4b1cc88f61a4b50f"
  },
  {
   "metadata": {
    "ExecuteTime": {
     "end_time": "2025-09-20T20:27:14.275916Z",
     "start_time": "2025-09-20T20:27:14.264706Z"
    }
   },
   "cell_type": "code",
   "source": [
    "# Keep only participants with both baseline and follow-up\n",
    "df_filtered = filter_subjects_with_two_timepoints(features)\n",
    "\n",
    "# Split by event\n",
    "df_baseline = df_filtered[df_filtered[\"eventname\"] == \"baseline_year_1_arm_1\"]\n",
    "df_followup = df_filtered[df_filtered[\"eventname\"] == \"2_year_follow_up_y_arm_1\"]"
   ],
   "id": "30f8c6803ae33a30",
   "outputs": [],
   "execution_count": 3
  },
  {
   "metadata": {
    "ExecuteTime": {
     "end_time": "2025-09-20T20:27:15.679712Z",
     "start_time": "2025-09-20T20:27:15.667637Z"
    }
   },
   "cell_type": "code",
   "source": [
    "# Drop rows with missing values (except family IDs)\n",
    "df_baseline, df_followup = handle_missing_values(df_baseline, df_followup)\n",
    "\n",
    "# Fill in family IDs for follow-up from baseline\n",
    "df_followup = merge_family_ids(df_baseline, df_followup)"
   ],
   "id": "b8b23d829111246f",
   "outputs": [],
   "execution_count": 4
  },
  {
   "metadata": {
    "ExecuteTime": {
     "end_time": "2025-09-20T20:27:17.215590Z",
     "start_time": "2025-09-20T20:27:17.206972Z"
    }
   },
   "cell_type": "code",
   "source": [
    "# Enforce common subjects\n",
    "df_baseline, df_followup = enforce_common_subjects(df_baseline, df_followup)"
   ],
   "id": "c2dffd65f044e110",
   "outputs": [],
   "execution_count": 5
  },
  {
   "metadata": {
    "ExecuteTime": {
     "end_time": "2025-09-20T20:27:18.151886Z",
     "start_time": "2025-09-20T20:27:18.147734Z"
    }
   },
   "cell_type": "code",
   "source": [
    "# Drop siblings\n",
    "df_baseline = drop_siblings(df_baseline)\n",
    "df_followup = drop_siblings(df_followup)\n"
   ],
   "id": "1da44869a509e3ef",
   "outputs": [],
   "execution_count": 6
  },
  {
   "metadata": {
    "ExecuteTime": {
     "end_time": "2025-09-20T20:27:19.522604Z",
     "start_time": "2025-09-20T20:27:19.509503Z"
    }
   },
   "cell_type": "code",
   "source": [
    "# Merge with g-score data\n",
    "merged_df_baseline_A, merged_df_followup_A = link_with_g_scores(df_baseline, df_followup, g_factor)"
   ],
   "id": "2568fff20a5c7a36",
   "outputs": [],
   "execution_count": 7
  },
  {
   "metadata": {
    "ExecuteTime": {
     "end_time": "2025-09-20T20:27:21.146805Z",
     "start_time": "2025-09-20T20:27:21.139600Z"
    }
   },
   "cell_type": "code",
   "source": [
    "# Define renaming rules\n",
    "rename_map = {\n",
    "    \"G_lavaan.baseline\": \"g_lavaan\",\n",
    "    \"G_lavaan.2Year\": \"g_lavaan\",\n",
    "    \"demo_sex_v2\": \"sex\",\n",
    "    \"interview_age\": \"age\"\n",
    "}\n",
    "\n",
    "# Apply renaming\n",
    "merged_df_baseline_A = merged_df_baseline_A.rename(columns=rename_map)\n",
    "merged_df_followup_A = merged_df_followup_A.rename(columns=rename_map)\n",
    "\n",
    "# Columns to drop\n",
    "drop_cols = [\"src_subject_id\", \"eventname\", \"rel_family_id\",\n",
    "             \"Session\", \"GoodRun_5\", \"censor_5\", \"TRs\", \"confounds_nocensor\"]\n",
    "\n",
    "merged_df_baseline_A = merged_df_baseline_A.drop(columns=drop_cols)\n",
    "merged_df_followup_A = merged_df_followup_A.drop(columns=drop_cols)"
   ],
   "id": "43a655f56f446367",
   "outputs": [],
   "execution_count": 8
  },
  {
   "metadata": {
    "ExecuteTime": {
     "end_time": "2025-09-20T20:27:23.531381Z",
     "start_time": "2025-09-20T20:27:23.525537Z"
    }
   },
   "cell_type": "code",
   "source": [
    "merged_df_baseline_A = add_income_group(merged_df_baseline_A, t1=50000, t2=100000)\n",
    "merged_df_followup_A  = add_income_group(merged_df_followup_A, t1=50000, t2=100000)"
   ],
   "id": "151fb17058d13c12",
   "outputs": [],
   "execution_count": 9
  },
  {
   "metadata": {
    "ExecuteTime": {
     "end_time": "2025-09-20T20:27:25.343258Z",
     "start_time": "2025-09-20T20:27:25.338191Z"
    }
   },
   "cell_type": "code",
   "source": "print_data_summary(merged_df_baseline_A)",
   "id": "798974be549f3952",
   "outputs": [
    {
     "name": "stdout",
     "output_type": "stream",
     "text": [
      "Number of subjects: 2480\n",
      "Age mean: 9.96 years\n",
      "Age std: 0.63 years\n",
      "\n",
      "sex:\n",
      "  1.0: 1258 (50.73%)\n",
      "  2.0: 1222 (49.27%)\n",
      "\n",
      "race.4level:\n",
      "  White: 1816 (73.23%)\n",
      "  Other/Mixed: 375 (15.12%)\n",
      "  Black: 245 (9.88%)\n",
      "  Asian: 44 (1.77%)\n",
      "\n",
      "hisp:\n",
      "  No: 2032 (81.94%)\n",
      "  Yes: 448 (18.06%)\n",
      "\n",
      "income_group:\n",
      "  high: 1088 (43.87%)\n",
      "  medium: 742 (29.92%)\n",
      "  low: 650 (26.21%)\n"
     ]
    }
   ],
   "execution_count": 10
  },
  {
   "metadata": {
    "ExecuteTime": {
     "end_time": "2025-09-20T20:27:27.305006Z",
     "start_time": "2025-09-20T20:27:27.300408Z"
    }
   },
   "cell_type": "code",
   "source": "print_data_summary(merged_df_followup_A)",
   "id": "c406ad56faf24e24",
   "outputs": [
    {
     "name": "stdout",
     "output_type": "stream",
     "text": [
      "Number of subjects: 2480\n",
      "Age mean: 11.96 years\n",
      "Age std: 0.65 years\n",
      "\n",
      "sex:\n",
      "  1.0: 1258 (50.73%)\n",
      "  2.0: 1222 (49.27%)\n",
      "\n",
      "race.4level:\n",
      "  White: 1816 (73.23%)\n",
      "  Other/Mixed: 375 (15.12%)\n",
      "  Black: 245 (9.88%)\n",
      "  Asian: 44 (1.77%)\n",
      "\n",
      "hisp:\n",
      "  No: 2032 (81.94%)\n",
      "  Yes: 448 (18.06%)\n",
      "\n",
      "income_group:\n",
      "  high: 1244 (50.16%)\n",
      "  medium: 699 (28.19%)\n",
      "  low: 537 (21.65%)\n"
     ]
    }
   ],
   "execution_count": 11
  },
  {
   "metadata": {
    "ExecuteTime": {
     "end_time": "2025-09-20T20:27:29.862262Z",
     "start_time": "2025-09-20T20:27:29.857229Z"
    }
   },
   "cell_type": "code",
   "source": "merged_df_baseline_A.columns",
   "id": "ec6036e7ed713f3b",
   "outputs": [
    {
     "data": {
      "text/plain": [
       "Index(['g_lavaan', 'site_id_l', 'age', 'Subject', 'meanFD', 'race.4level',\n",
       "       'hisp', 'sex', 'EdYearsHighest', 'IncCombinedMidpoint', 'Income2Needs',\n",
       "       'Married', 'income_group'],\n",
       "      dtype='object')"
      ]
     },
     "execution_count": 12,
     "metadata": {},
     "output_type": "execute_result"
    }
   ],
   "execution_count": 12
  },
  {
   "metadata": {
    "ExecuteTime": {
     "end_time": "2025-09-20T20:27:31.524917Z",
     "start_time": "2025-09-20T20:27:31.488773Z"
    }
   },
   "cell_type": "code",
   "source": [
    "merged_df_baseline_B = preprocess_features(features, g_factor, 'baseline_year_1_arm_1')\n",
    "merged_df_followup_B = preprocess_features(features, g_factor, '2_year_follow_up_y_arm_1')"
   ],
   "id": "b9f4dc78db5a98f7",
   "outputs": [],
   "execution_count": 13
  },
  {
   "metadata": {
    "ExecuteTime": {
     "end_time": "2025-09-20T20:27:32.641277Z",
     "start_time": "2025-09-20T20:27:32.637132Z"
    }
   },
   "cell_type": "code",
   "source": "print_data_summary(merged_df_baseline_B)",
   "id": "a9efd51d45f3a53",
   "outputs": [
    {
     "name": "stdout",
     "output_type": "stream",
     "text": [
      "Number of subjects: 4321\n",
      "Age mean: 9.98 years\n",
      "Age std: 0.63 years\n",
      "\n",
      "sex:\n",
      "  2.0: 2217 (51.31%)\n",
      "  1.0: 2104 (48.69%)\n",
      "\n",
      "race.4level:\n",
      "  White: 3071 (71.07%)\n",
      "  Other/Mixed: 631 (14.60%)\n",
      "  Black: 529 (12.24%)\n",
      "  Asian: 90 (2.08%)\n",
      "\n",
      "hisp:\n",
      "  No: 3591 (83.11%)\n",
      "  Yes: 730 (16.89%)\n",
      "\n",
      "income_group:\n",
      "  high: 1919 (44.41%)\n",
      "  medium: 1244 (28.79%)\n",
      "  low: 1158 (26.80%)\n"
     ]
    }
   ],
   "execution_count": 14
  },
  {
   "metadata": {
    "ExecuteTime": {
     "end_time": "2025-09-20T20:27:35.498267Z",
     "start_time": "2025-09-20T20:27:35.493238Z"
    }
   },
   "cell_type": "code",
   "source": "print_data_summary(merged_df_followup_B)",
   "id": "bda90d90ddd4ac90",
   "outputs": [
    {
     "name": "stdout",
     "output_type": "stream",
     "text": [
      "Number of subjects: 2756\n",
      "Age mean: 11.92 years\n",
      "Age std: 0.65 years\n",
      "\n",
      "sex:\n",
      "  1.0: 1399 (50.76%)\n",
      "  2.0: 1357 (49.24%)\n",
      "\n",
      "race.4level:\n",
      "  White: 1923 (69.78%)\n",
      "  Other/Mixed: 460 (16.69%)\n",
      "  Black: 310 (11.25%)\n",
      "  Asian: 63 (2.29%)\n",
      "\n",
      "hisp:\n",
      "  No: 2234 (81.06%)\n",
      "  Yes: 522 (18.94%)\n",
      "\n",
      "income_group:\n",
      "  high: 1270 (46.08%)\n",
      "  medium: 790 (28.66%)\n",
      "  low: 696 (25.25%)\n"
     ]
    }
   ],
   "execution_count": 15
  },
  {
   "metadata": {
    "ExecuteTime": {
     "end_time": "2025-09-20T19:13:00.536834Z",
     "start_time": "2025-09-20T19:13:00.468396Z"
    }
   },
   "cell_type": "code",
   "source": [
    "save_aligned_features(\n",
    "    merged_df_baseline_A, merged_df_followup_A,\n",
    "    merged_df_baseline_B, merged_df_followup_B\n",
    ")"
   ],
   "id": "e8cacbaef2fe59f8",
   "outputs": [
    {
     "name": "stdout",
     "output_type": "stream",
     "text": [
      "Saved features_A_baseline.csv with 2480 subjects and 13 features\n",
      "Saved features_A_followup.csv with 2480 subjects and 13 features\n",
      "Saved features_B_baseline.csv with 4321 subjects and 13 features\n",
      "Saved features_B_followup.csv with 2756 subjects and 13 features\n"
     ]
    }
   ],
   "execution_count": 17
  },
  {
   "metadata": {},
   "cell_type": "markdown",
   "source": [
    "Two different approaches of data preprocessing were used.\n",
    "* Approach A : we consider only subjects with two time points, keep only one sibling.\n",
    "* Approach B : is as close as possible to the method described in original article."
   ],
   "id": "c791af4c43cb544e"
  },
  {
   "metadata": {
    "ExecuteTime": {
     "end_time": "2025-09-20T20:29:22.594959Z",
     "start_time": "2025-09-20T20:27:40.459441Z"
    }
   },
   "cell_type": "code",
   "source": [
    "EVENT_TO_SESSION = {\n",
    "    \"baseline_year_1_arm_1\": \"baselineYear1Arm1\",\n",
    "    \"2_year_follow_up_y_arm_1\": \"2YearFollowUpYArm1\"\n",
    "}\n",
    "\n",
    "# Baseline features (Version A)\n",
    "features_A_baseline_aligned, conn_A_baseline, subs_A_baseline = merge_features_and_connectomes(\n",
    "    merged_df_baseline_A,\n",
    "    visit=EVENT_TO_SESSION[\"baseline_year_1_arm_1\"]\n",
    ")\n",
    "\n",
    "print(features_A_baseline_aligned.shape)\n",
    "print(conn_A_baseline.shape)\n",
    "print(len(subs_A_baseline))"
   ],
   "id": "7c13df85e84b5974",
   "outputs": [
    {
     "name": "stdout",
     "output_type": "stream",
     "text": [
      "[skip] NDARINVYXRGTMYM: Failed to convert matrix to array: setting an array element with a sequence. The requested array has an inhomogeneous shape after 1 dimensions. The detected shape was (341,) + inhomogeneous part.\n",
      "Loaded 2479 subjects\n",
      "Flattened shape: (2479, 87153)  (n_subjects x n_edges)\n",
      "Subjects in df1 but not in df2: ['NDARINVYXRGTMYM']\n",
      "Keeping 2479 common subjects.\n",
      "(2479, 13)\n",
      "(2479, 87153)\n",
      "2479\n"
     ]
    }
   ],
   "execution_count": 16
  },
  {
   "metadata": {
    "ExecuteTime": {
     "end_time": "2025-09-20T20:32:26.871788Z",
     "start_time": "2025-09-20T20:30:41.739006Z"
    }
   },
   "cell_type": "code",
   "source": [
    "# Followup features (Version A)\n",
    "features_A_followup_aligned, conn_A_followup, subs_A_followup = merge_features_and_connectomes(\n",
    "    merged_df_followup_A,\n",
    "    visit=EVENT_TO_SESSION[\"2_year_follow_up_y_arm_1\"]\n",
    ")\n",
    "\n",
    "print(features_A_followup_aligned.shape)\n",
    "print(conn_A_followup.shape)\n",
    "print(len(subs_A_followup))"
   ],
   "id": "9943da15a8fd8da",
   "outputs": [
    {
     "name": "stdout",
     "output_type": "stream",
     "text": [
      "Loaded 2480 subjects\n",
      "Flattened shape: (2480, 87153)  (n_subjects x n_edges)\n",
      "Keeping 2480 common subjects.\n",
      "(2480, 13)\n",
      "(2480, 87153)\n",
      "2480\n"
     ]
    }
   ],
   "execution_count": 17
  },
  {
   "metadata": {
    "ExecuteTime": {
     "end_time": "2025-09-20T20:33:26.098494Z",
     "start_time": "2025-09-20T20:33:24.216108Z"
    }
   },
   "cell_type": "code",
   "source": [
    "(features_A_baseline_final, conn_A_baseline_final,\n",
    " features_A_followup_final, conn_A_followup_final,\n",
    " subs_A_final) = enforce_same_subjects(\n",
    "    features_A_baseline_aligned, conn_A_baseline, subs_A_baseline,\n",
    "    features_A_followup_aligned, conn_A_followup, subs_A_followup\n",
    ")"
   ],
   "id": "3183753c1a7bdb2d",
   "outputs": [],
   "execution_count": 19
  },
  {
   "metadata": {
    "ExecuteTime": {
     "end_time": "2025-09-20T20:34:57.676967Z",
     "start_time": "2025-09-20T20:34:56.295388Z"
    }
   },
   "cell_type": "code",
   "source": [
    "output_dir = Path(\"data/processed/version_A\")\n",
    "output_dir.mkdir(parents=True, exist_ok=True)\n",
    "\n",
    "# Save features\n",
    "features_A_baseline_final.to_csv(output_dir / \"features_baseline.csv\", index=False)\n",
    "features_A_followup_final.to_csv(output_dir / \"features_followup.csv\", index=False)\n",
    "\n",
    "# Save connectomes\n",
    "np.save(output_dir / \"connectomes_baseline.npy\", conn_A_baseline_final)\n",
    "np.save(output_dir / \"connectomes_followup.npy\", conn_A_followup_final)\n",
    "\n",
    "# Save subject IDs\n",
    "pd.DataFrame({\"Subject\": subs_A_final}).to_csv(output_dir / \"subjects.csv\", index=False)\n"
   ],
   "id": "628ce43b087b74f5",
   "outputs": [],
   "execution_count": 21
  },
  {
   "metadata": {
    "ExecuteTime": {
     "end_time": "2025-09-20T20:38:44.739828Z",
     "start_time": "2025-09-20T20:38:44.735183Z"
    }
   },
   "cell_type": "code",
   "source": [
    "for fname in [\"features_baseline.csv\", \"features_followup.csv\",\n",
    "              \"connectomes_baseline.npy\", \"connectomes_followup.npy\",\n",
    "              \"subjects.csv\"]:\n",
    "    fpath = output_dir / fname\n",
    "    print(f\"{fname}: exists={fpath.exists()}, size={os.path.getsize(fpath) if fpath.exists() else 'N/A'} bytes\")\n"
   ],
   "id": "a5de315ae8c1f966",
   "outputs": [
    {
     "name": "stdout",
     "output_type": "stream",
     "text": [
      "features_baseline.csv: exists=True, size=332579 bytes\n",
      "features_followup.csv: exists=True, size=332715 bytes\n",
      "connectomes_baseline.npy: exists=True, size=1728418424 bytes\n",
      "connectomes_followup.npy: exists=True, size=1728418424 bytes\n",
      "subjects.csv: exists=True, size=39672 bytes\n"
     ]
    }
   ],
   "execution_count": 24
  }
 ],
 "metadata": {
  "kernelspec": {
   "display_name": "Python 3",
   "language": "python",
   "name": "python3"
  },
  "language_info": {
   "codemirror_mode": {
    "name": "ipython",
    "version": 2
   },
   "file_extension": ".py",
   "mimetype": "text/x-python",
   "name": "python",
   "nbconvert_exporter": "python",
   "pygments_lexer": "ipython2",
   "version": "2.7.6"
  }
 },
 "nbformat": 4,
 "nbformat_minor": 5
}
