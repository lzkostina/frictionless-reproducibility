{
 "cells": [
  {
   "cell_type": "code",
   "id": "initial_id",
   "metadata": {
    "collapsed": true,
    "ExecuteTime": {
     "end_time": "2025-09-22T00:02:15.216890Z",
     "start_time": "2025-09-22T00:02:14.866322Z"
    }
   },
   "source": [
    "import numpy as np\n",
    "import pandas as pd\n",
    "import os\n",
    "from pathlib import Path\n",
    "from src.pipeline.load import filter_subjects_with_two_timepoints\n",
    "from src.pipeline.connectomes import (\n",
    "    merge_features_and_connectomes,\n",
    "    enforce_same_subjects\n",
    ")\n",
    "from src.pipeline.clean import (\n",
    "    handle_missing_values,\n",
    "    merge_family_ids,\n",
    "    enforce_common_subjects,\n",
    "    drop_siblings,\n",
    "    link_with_g_scores\n",
    ")\n",
    "from src.pipeline.preprocess import (\n",
    "    preprocess_features,\n",
    "    filter_sites_by_threshold,\n",
    "    add_income_group,\n",
    "    print_data_summary\n",
    ")\n",
    "from src.analysis.eda import (\n",
    "    list_columns_with_missing_values,\n",
    "    count_columns_with_missing_values,\n",
    "    percentage_missing_values,\n",
    "    divide_features,\n",
    "    categorical_summary_stats\n",
    ")"
   ],
   "outputs": [],
   "execution_count": 1
  },
  {
   "metadata": {
    "ExecuteTime": {
     "end_time": "2025-09-22T00:02:17.880720Z",
     "start_time": "2025-09-22T00:02:17.814819Z"
    }
   },
   "cell_type": "code",
   "source": [
    "# Load data\n",
    "features = pd.read_csv('../data/raw/Demographics.csv')\n",
    "# Load g_score\n",
    "g_factor = pd.read_csv('../data/raw/ABCD_new_G_all.csv')\n",
    "# Drop \"Task\" since it's constant\n",
    "features = features.drop(columns=[\"Task\"], inplace=False)"
   ],
   "id": "6b3dde28145dbdc0",
   "outputs": [],
   "execution_count": 2
  },
  {
   "metadata": {},
   "cell_type": "markdown",
   "source": [
    "# Features description\n",
    "The dataset we are working with consist of 13274 rows and 20 columns. Thus, we have information for the 13274 subjects. Let us look at the description of the features:\n",
    "* src_subject_id - subject identifier\n",
    "* eventname - timepoint of data\n",
    "* site_id_l - data collection site (may want to include this in models as a grouping factor as there are likely site effects in the data, we will sometimes model subject nested in site as random effects)\n",
    "* rel_family_id - family identifier. There are some siblings, twins, etc in the data. Not necessarily an issue sometimes, but when we're doing any kind of cross validation or anything we make sure we don't have family members in different folds.\n",
    "* interview_age - age of the subject in months\n",
    "* Subject/Session are just recoded versions of subject ID and eventname as they match with the naming of the imaging data better\n",
    "* Task - this should all be rest\n",
    "* GoodRun_5 - number of good runs in the included data\n",
    "* censor_5 - number of censored timepoints in the included data\n",
    "* TRs - number of included timepoints in the data\n",
    "* confounds_nocensor - number of confounds in the run-level nuisance correction model (other than censored timepoints). Most of these quality metrics you probably don't need to worry about\n",
    "* meanFD - the mean motion of the subject during their included scans. We usually use linear and quadratic terms of this as a confound at the group level\n",
    "* race.4level - subject reported race\n",
    "* hisp - subject reported hispanic yes/no\n",
    "* demo_sex_v2 - sex at birth 1=male, 2=female (I think I dropped any other responses, but if there are others we might need to exclude just because there are so few we can't get good estimates of effects)\n",
    "* EdYearsHighest - parental years of education (highest among parents, I think I need to double check we might actually use average elsewhere, but this variable is likely not immediately relevant for now)\n",
    "* IncCombinedMidpoint - combined income of parents (midpoint of a bin, because it's only reported in 10 bins)\n",
    "* Income2Needs - calculated income to needs metric based on parental income and number of people in the household\n",
    "* Married - parents currently married or not"
   ],
   "id": "4b1cc88f61a4b50f"
  },
  {
   "metadata": {
    "ExecuteTime": {
     "end_time": "2025-09-22T00:02:22.593658Z",
     "start_time": "2025-09-22T00:02:22.584114Z"
    }
   },
   "cell_type": "code",
   "source": [
    "# Keep only participants with both baseline and follow-up\n",
    "df_filtered = filter_subjects_with_two_timepoints(features)\n",
    "\n",
    "# Split by event\n",
    "df_baseline = df_filtered[df_filtered[\"eventname\"] == \"baseline_year_1_arm_1\"]\n",
    "df_followup = df_filtered[df_filtered[\"eventname\"] == \"2_year_follow_up_y_arm_1\"]"
   ],
   "id": "30f8c6803ae33a30",
   "outputs": [],
   "execution_count": 3
  },
  {
   "metadata": {
    "ExecuteTime": {
     "end_time": "2025-09-22T00:02:25.456510Z",
     "start_time": "2025-09-22T00:02:25.443583Z"
    }
   },
   "cell_type": "code",
   "source": [
    "# Drop rows with missing values (except family IDs)\n",
    "df_baseline, df_followup = handle_missing_values(df_baseline, df_followup)\n",
    "\n",
    "# Fill in family IDs for follow-up from baseline\n",
    "df_followup = merge_family_ids(df_baseline, df_followup)"
   ],
   "id": "b8b23d829111246f",
   "outputs": [],
   "execution_count": 4
  },
  {
   "metadata": {
    "ExecuteTime": {
     "end_time": "2025-09-22T00:02:28.293918Z",
     "start_time": "2025-09-22T00:02:28.287349Z"
    }
   },
   "cell_type": "code",
   "source": [
    "# Enforce common subjects\n",
    "df_baseline, df_followup = enforce_common_subjects(df_baseline, df_followup)"
   ],
   "id": "c2dffd65f044e110",
   "outputs": [],
   "execution_count": 5
  },
  {
   "metadata": {
    "ExecuteTime": {
     "end_time": "2025-09-22T00:02:31.617473Z",
     "start_time": "2025-09-22T00:02:31.612583Z"
    }
   },
   "cell_type": "code",
   "source": [
    "# Drop siblings\n",
    "df_baseline = drop_siblings(df_baseline)\n",
    "df_followup = drop_siblings(df_followup)\n"
   ],
   "id": "1da44869a509e3ef",
   "outputs": [],
   "execution_count": 6
  },
  {
   "metadata": {
    "ExecuteTime": {
     "end_time": "2025-09-22T00:02:34.303443Z",
     "start_time": "2025-09-22T00:02:34.290332Z"
    }
   },
   "cell_type": "code",
   "source": [
    "# Merge with g-score data\n",
    "merged_df_baseline_A, merged_df_followup_A = link_with_g_scores(df_baseline, df_followup, g_factor)"
   ],
   "id": "2568fff20a5c7a36",
   "outputs": [],
   "execution_count": 7
  },
  {
   "metadata": {
    "ExecuteTime": {
     "end_time": "2025-09-22T00:02:37.557472Z",
     "start_time": "2025-09-22T00:02:37.550361Z"
    }
   },
   "cell_type": "code",
   "source": [
    "# Define renaming rules\n",
    "rename_map = {\n",
    "    \"G_lavaan.baseline\": \"g_lavaan\",\n",
    "    \"G_lavaan.2Year\": \"g_lavaan\",\n",
    "    \"demo_sex_v2\": \"sex\",\n",
    "    \"interview_age\": \"age\"\n",
    "}\n",
    "\n",
    "# Apply renaming\n",
    "merged_df_baseline_A = merged_df_baseline_A.rename(columns=rename_map)\n",
    "merged_df_followup_A = merged_df_followup_A.rename(columns=rename_map)\n",
    "\n",
    "# Columns to drop\n",
    "drop_cols = [\"src_subject_id\", \"eventname\", \"rel_family_id\",\n",
    "             \"Session\", \"GoodRun_5\", \"censor_5\", \"TRs\", \"confounds_nocensor\"]\n",
    "\n",
    "merged_df_baseline_A = merged_df_baseline_A.drop(columns=drop_cols)\n",
    "merged_df_followup_A = merged_df_followup_A.drop(columns=drop_cols)"
   ],
   "id": "43a655f56f446367",
   "outputs": [],
   "execution_count": 8
  },
  {
   "metadata": {
    "ExecuteTime": {
     "end_time": "2025-09-22T00:02:45.138586Z",
     "start_time": "2025-09-22T00:02:45.132453Z"
    }
   },
   "cell_type": "code",
   "source": [
    "merged_df_baseline_A = add_income_group(merged_df_baseline_A, t1=50000, t2=100000)\n",
    "merged_df_followup_A  = add_income_group(merged_df_followup_A, t1=50000, t2=100000)"
   ],
   "id": "151fb17058d13c12",
   "outputs": [],
   "execution_count": 9
  },
  {
   "metadata": {
    "ExecuteTime": {
     "end_time": "2025-09-22T00:07:10.997835Z",
     "start_time": "2025-09-22T00:07:10.990937Z"
    }
   },
   "cell_type": "code",
   "source": [
    "A_MIN = 50\n",
    "\n",
    "merged_df_baseline_A = filter_sites_by_threshold(\n",
    "    merged_df_baseline_A, site_col=\"site_id_l\", threshold=A_MIN\n",
    ")\n",
    "merged_df_followup_A = filter_sites_by_threshold(\n",
    "    merged_df_followup_A, site_col=\"site_id_l\", threshold=A_MIN\n",
    ")"
   ],
   "id": "9ed943f388d492be",
   "outputs": [],
   "execution_count": 18
  },
  {
   "metadata": {
    "ExecuteTime": {
     "end_time": "2025-09-22T00:07:24.655598Z",
     "start_time": "2025-09-22T00:07:24.650514Z"
    }
   },
   "cell_type": "code",
   "source": "print_data_summary(merged_df_baseline_A)",
   "id": "798974be549f3952",
   "outputs": [
    {
     "name": "stdout",
     "output_type": "stream",
     "text": [
      "Number of subjects: 2411\n",
      "Age mean: 9.96 years\n",
      "Age std: 0.63 years\n",
      "\n",
      "sex:\n",
      "  1.0: 1223 (50.73%)\n",
      "  2.0: 1188 (49.27%)\n",
      "\n",
      "race.4level:\n",
      "  White: 1772 (73.50%)\n",
      "  Other/Mixed: 360 (14.93%)\n",
      "  Black: 240 (9.95%)\n",
      "  Asian: 39 (1.62%)\n",
      "\n",
      "hisp:\n",
      "  No: 1979 (82.08%)\n",
      "  Yes: 432 (17.92%)\n",
      "\n",
      "income_group:\n",
      "  high: 1058 (43.88%)\n",
      "  medium: 723 (29.99%)\n",
      "  low: 630 (26.13%)\n"
     ]
    }
   ],
   "execution_count": 19
  },
  {
   "metadata": {
    "ExecuteTime": {
     "end_time": "2025-09-22T00:07:31.817745Z",
     "start_time": "2025-09-22T00:07:31.812760Z"
    }
   },
   "cell_type": "code",
   "source": "print_data_summary(merged_df_followup_A)",
   "id": "c406ad56faf24e24",
   "outputs": [
    {
     "name": "stdout",
     "output_type": "stream",
     "text": [
      "Number of subjects: 2415\n",
      "Age mean: 11.96 years\n",
      "Age std: 0.65 years\n",
      "\n",
      "sex:\n",
      "  1.0: 1225 (50.72%)\n",
      "  2.0: 1190 (49.28%)\n",
      "\n",
      "race.4level:\n",
      "  White: 1776 (73.54%)\n",
      "  Other/Mixed: 361 (14.95%)\n",
      "  Black: 239 (9.90%)\n",
      "  Asian: 39 (1.61%)\n",
      "\n",
      "hisp:\n",
      "  No: 1981 (82.03%)\n",
      "  Yes: 434 (17.97%)\n",
      "\n",
      "income_group:\n",
      "  high: 1211 (50.14%)\n",
      "  medium: 683 (28.28%)\n",
      "  low: 521 (21.57%)\n"
     ]
    }
   ],
   "execution_count": 20
  },
  {
   "metadata": {
    "ExecuteTime": {
     "end_time": "2025-09-22T00:07:47.829399Z",
     "start_time": "2025-09-22T00:07:47.771770Z"
    }
   },
   "cell_type": "code",
   "source": [
    "merged_df_baseline_B = preprocess_features(features, g_factor, 'baseline_year_1_arm_1')\n",
    "merged_df_followup_B = preprocess_features(features, g_factor, '2_year_follow_up_y_arm_1')"
   ],
   "id": "b9f4dc78db5a98f7",
   "outputs": [],
   "execution_count": 21
  },
  {
   "metadata": {
    "ExecuteTime": {
     "end_time": "2025-09-22T00:08:59.196641Z",
     "start_time": "2025-09-22T00:08:59.192644Z"
    }
   },
   "cell_type": "code",
   "source": [
    "B_MIN = 75\n",
    "\n",
    "merged_df_baseline_B = filter_sites_by_threshold(\n",
    "    merged_df_baseline_B, site_col=\"site_id_l\", threshold=B_MIN\n",
    ")\n",
    "merged_df_followup_B = filter_sites_by_threshold(\n",
    "    merged_df_followup_B, site_col=\"site_id_l\", threshold=B_MIN\n",
    ")"
   ],
   "id": "153b5b8cce6cf016",
   "outputs": [],
   "execution_count": 22
  },
  {
   "metadata": {
    "ExecuteTime": {
     "end_time": "2025-09-22T00:09:09.047146Z",
     "start_time": "2025-09-22T00:09:09.041408Z"
    }
   },
   "cell_type": "code",
   "source": "print_data_summary(merged_df_baseline_B)",
   "id": "a9efd51d45f3a53",
   "outputs": [
    {
     "name": "stdout",
     "output_type": "stream",
     "text": [
      "Number of subjects: 4321\n",
      "Age mean: 9.98 years\n",
      "Age std: 0.63 years\n",
      "\n",
      "sex:\n",
      "  2.0: 2217 (51.31%)\n",
      "  1.0: 2104 (48.69%)\n",
      "\n",
      "race.4level:\n",
      "  White: 3071 (71.07%)\n",
      "  Other/Mixed: 631 (14.60%)\n",
      "  Black: 529 (12.24%)\n",
      "  Asian: 90 (2.08%)\n",
      "\n",
      "hisp:\n",
      "  No: 3591 (83.11%)\n",
      "  Yes: 730 (16.89%)\n",
      "\n",
      "income_group:\n",
      "  high: 1919 (44.41%)\n",
      "  medium: 1244 (28.79%)\n",
      "  low: 1158 (26.80%)\n"
     ]
    }
   ],
   "execution_count": 23
  },
  {
   "metadata": {
    "ExecuteTime": {
     "end_time": "2025-09-22T00:09:18.243290Z",
     "start_time": "2025-09-22T00:09:18.238056Z"
    }
   },
   "cell_type": "code",
   "source": "print_data_summary(merged_df_followup_B)",
   "id": "bda90d90ddd4ac90",
   "outputs": [
    {
     "name": "stdout",
     "output_type": "stream",
     "text": [
      "Number of subjects: 2432\n",
      "Age mean: 11.91 years\n",
      "Age std: 0.64 years\n",
      "\n",
      "sex:\n",
      "  1.0: 1235 (50.78%)\n",
      "  2.0: 1197 (49.22%)\n",
      "\n",
      "race.4level:\n",
      "  White: 1731 (71.18%)\n",
      "  Other/Mixed: 400 (16.45%)\n",
      "  Black: 253 (10.40%)\n",
      "  Asian: 48 (1.97%)\n",
      "\n",
      "hisp:\n",
      "  No: 1960 (80.59%)\n",
      "  Yes: 472 (19.41%)\n",
      "\n",
      "income_group:\n",
      "  high: 1127 (46.34%)\n",
      "  medium: 708 (29.11%)\n",
      "  low: 597 (24.55%)\n"
     ]
    }
   ],
   "execution_count": 24
  },
  {
   "metadata": {},
   "cell_type": "code",
   "source": [
    "# save_aligned_features(\n",
    "#     merged_df_baseline_A, merged_df_followup_A,\n",
    "#     merged_df_baseline_B, merged_df_followup_B\n",
    "# )"
   ],
   "id": "e8cacbaef2fe59f8",
   "outputs": [],
   "execution_count": null
  },
  {
   "metadata": {},
   "cell_type": "markdown",
   "source": [
    "Two different approaches of data preprocessing were used.\n",
    "* Approach A : we consider only subjects with two time points, keep only one sibling.\n",
    "* Approach B : is as close as possible to the method described in original article."
   ],
   "id": "c791af4c43cb544e"
  },
  {
   "metadata": {
    "ExecuteTime": {
     "end_time": "2025-09-22T00:11:25.697091Z",
     "start_time": "2025-09-22T00:09:38.937442Z"
    }
   },
   "cell_type": "code",
   "source": [
    "EVENT_TO_SESSION = {\n",
    "    \"baseline_year_1_arm_1\": \"baselineYear1Arm1\",\n",
    "    \"2_year_follow_up_y_arm_1\": \"2YearFollowUpYArm1\"\n",
    "}\n",
    "\n",
    "# Baseline features (Version A)\n",
    "features_A_baseline_aligned, conn_A_baseline, subs_A_baseline = merge_features_and_connectomes(\n",
    "    merged_df_baseline_A,\n",
    "    visit=EVENT_TO_SESSION[\"baseline_year_1_arm_1\"]\n",
    ")\n",
    "\n",
    "print(features_A_baseline_aligned.shape)\n",
    "print(conn_A_baseline.shape)\n",
    "print(len(subs_A_baseline))"
   ],
   "id": "7c13df85e84b5974",
   "outputs": [
    {
     "name": "stdout",
     "output_type": "stream",
     "text": [
      "[skip] NDARINVYXRGTMYM: Failed to convert matrix to array: setting an array element with a sequence. The requested array has an inhomogeneous shape after 1 dimensions. The detected shape was (341,) + inhomogeneous part.\n",
      "Loaded 2410 subjects\n",
      "Flattened shape: (2410, 87153)  (n_subjects x n_edges)\n",
      "Subjects in df1 but not in df2: ['NDARINVYXRGTMYM']\n",
      "Keeping 2410 common subjects.\n",
      "(2410, 13)\n",
      "(2410, 87153)\n",
      "2410\n"
     ]
    }
   ],
   "execution_count": 25
  },
  {
   "metadata": {
    "ExecuteTime": {
     "end_time": "2025-09-22T00:13:07.887328Z",
     "start_time": "2025-09-22T00:11:25.729932Z"
    }
   },
   "cell_type": "code",
   "source": [
    "# Followup features (Version A)\n",
    "features_A_followup_aligned, conn_A_followup, subs_A_followup = merge_features_and_connectomes(\n",
    "    merged_df_followup_A,\n",
    "    visit=EVENT_TO_SESSION[\"2_year_follow_up_y_arm_1\"]\n",
    ")\n",
    "\n",
    "print(features_A_followup_aligned.shape)\n",
    "print(conn_A_followup.shape)\n",
    "print(len(subs_A_followup))"
   ],
   "id": "9943da15a8fd8da",
   "outputs": [
    {
     "name": "stdout",
     "output_type": "stream",
     "text": [
      "Loaded 2415 subjects\n",
      "Flattened shape: (2415, 87153)  (n_subjects x n_edges)\n",
      "Keeping 2415 common subjects.\n",
      "(2415, 13)\n",
      "(2415, 87153)\n",
      "2415\n"
     ]
    }
   ],
   "execution_count": 26
  },
  {
   "metadata": {
    "ExecuteTime": {
     "end_time": "2025-09-22T00:13:16.474851Z",
     "start_time": "2025-09-22T00:13:13.667668Z"
    }
   },
   "cell_type": "code",
   "source": [
    "(features_A_baseline_final, conn_A_baseline_final,\n",
    " features_A_followup_final, conn_A_followup_final,\n",
    " subs_A_final) = enforce_same_subjects(\n",
    "    features_A_baseline_aligned, conn_A_baseline, subs_A_baseline,\n",
    "    features_A_followup_aligned, conn_A_followup, subs_A_followup\n",
    ")"
   ],
   "id": "3183753c1a7bdb2d",
   "outputs": [],
   "execution_count": 29
  },
  {
   "metadata": {
    "ExecuteTime": {
     "end_time": "2025-09-22T00:15:14.005672Z",
     "start_time": "2025-09-22T00:15:12.805884Z"
    }
   },
   "cell_type": "code",
   "source": [
    "output_dir = Path(\"data/processed/version_A\")\n",
    "output_dir.mkdir(parents=True, exist_ok=True)\n",
    "\n",
    "# Save features\n",
    "features_A_baseline_final.to_csv(output_dir / \"features_baseline.csv\", index=False)\n",
    "features_A_followup_final.to_csv(output_dir / \"features_followup.csv\", index=False)\n",
    "\n",
    "# Save connectomes\n",
    "np.save(output_dir / \"connectomes_baseline.npy\", conn_A_baseline_final)\n",
    "np.save(output_dir / \"connectomes_followup.npy\", conn_A_followup_final)\n",
    "\n",
    "# Save subject IDs\n",
    "pd.DataFrame({\"Subject\": subs_A_final}).to_csv(output_dir / \"subjects.csv\", index=False)\n"
   ],
   "id": "628ce43b087b74f5",
   "outputs": [],
   "execution_count": 32
  },
  {
   "metadata": {
    "ExecuteTime": {
     "end_time": "2025-09-22T00:15:42.828468Z",
     "start_time": "2025-09-22T00:15:42.824418Z"
    }
   },
   "cell_type": "code",
   "source": [
    "for fname in [\"features_baseline.csv\", \"features_followup.csv\",\n",
    "              \"connectomes_baseline.npy\", \"connectomes_followup.npy\",\n",
    "              \"subjects.csv\"]:\n",
    "    fpath = output_dir / fname\n",
    "    print(f\"{fname}: exists={fpath.exists()}, size={os.path.getsize(fpath) if fpath.exists() else 'N/A'} bytes\")\n"
   ],
   "id": "a5de315ae8c1f966",
   "outputs": [
    {
     "name": "stdout",
     "output_type": "stream",
     "text": [
      "features_baseline.csv: exists=True, size=323164 bytes\n",
      "features_followup.csv: exists=True, size=323305 bytes\n",
      "connectomes_baseline.npy: exists=True, size=1679612744 bytes\n",
      "connectomes_followup.npy: exists=True, size=1679612744 bytes\n",
      "subjects.csv: exists=True, size=38552 bytes\n"
     ]
    }
   ],
   "execution_count": 33
  },
  {
   "metadata": {
    "ExecuteTime": {
     "end_time": "2025-09-22T00:19:03.233948Z",
     "start_time": "2025-09-22T00:15:49.128087Z"
    }
   },
   "cell_type": "code",
   "source": [
    "# Baseline features (Version B)\n",
    "features_B_baseline_aligned, conn_B_baseline, subs_B_baseline = merge_features_and_connectomes(\n",
    "    merged_df_baseline_B,\n",
    "    visit=EVENT_TO_SESSION[\"baseline_year_1_arm_1\"]\n",
    ")\n",
    "\n",
    "print(features_B_baseline_aligned.shape)\n",
    "print(conn_B_baseline.shape)\n",
    "print(len(subs_B_baseline))"
   ],
   "id": "93b2c1897b9c89bb",
   "outputs": [
    {
     "name": "stdout",
     "output_type": "stream",
     "text": [
      "Loaded 4321 subjects\n",
      "Flattened shape: (4321, 87153)  (n_subjects x n_edges)\n",
      "Keeping 4321 common subjects.\n",
      "(4321, 13)\n",
      "(4321, 87153)\n",
      "4321\n"
     ]
    }
   ],
   "execution_count": 34
  },
  {
   "metadata": {
    "ExecuteTime": {
     "end_time": "2025-09-22T00:21:09.810026Z",
     "start_time": "2025-09-22T00:19:26.005188Z"
    }
   },
   "cell_type": "code",
   "source": [
    "# Followup features (Version B)\n",
    "features_B_followup_aligned, conn_B_followup, subs_B_followup = merge_features_and_connectomes(\n",
    "    merged_df_followup_B,\n",
    "    visit=EVENT_TO_SESSION[\"2_year_follow_up_y_arm_1\"]\n",
    ")\n",
    "\n",
    "print(features_B_followup_aligned.shape)\n",
    "print(conn_B_followup.shape)\n",
    "print(len(subs_B_followup))"
   ],
   "id": "e1e95268ba4ddb37",
   "outputs": [
    {
     "name": "stdout",
     "output_type": "stream",
     "text": [
      "Loaded 2432 subjects\n",
      "Flattened shape: (2432, 87153)  (n_subjects x n_edges)\n",
      "Keeping 2432 common subjects.\n",
      "(2432, 13)\n",
      "(2432, 87153)\n",
      "2432\n"
     ]
    }
   ],
   "execution_count": 36
  },
  {
   "metadata": {
    "ExecuteTime": {
     "end_time": "2025-09-22T00:21:27.675598Z",
     "start_time": "2025-09-22T00:21:25.986832Z"
    }
   },
   "cell_type": "code",
   "source": [
    "output_dir = Path(\"data/processed/version_B\")\n",
    "output_dir.mkdir(parents=True, exist_ok=True)\n",
    "\n",
    "# Save features\n",
    "features_B_baseline_aligned.to_csv(output_dir / \"features_baseline.csv\", index=False)\n",
    "features_B_followup_aligned.to_csv(output_dir / \"features_followup.csv\", index=False)\n",
    "\n",
    "# Save connectomes\n",
    "np.save(output_dir / \"connectomes_baseline.npy\", conn_B_baseline)\n",
    "np.save(output_dir / \"connectomes_followup.npy\", conn_B_followup)\n",
    "\n",
    "# Save baseline subjects\n",
    "pd.DataFrame({\"Subject\": subs_B_baseline}).to_csv(output_dir / \"subjects_baseline.csv\", index=False)\n",
    "\n",
    "# Save followup subjects\n",
    "pd.DataFrame({\"Subject\": subs_B_followup}).to_csv(output_dir / \"subjects_followup.csv\", index=False)"
   ],
   "id": "93114b1bf823b641",
   "outputs": [],
   "execution_count": 37
  },
  {
   "metadata": {},
   "cell_type": "code",
   "source": "\n",
   "id": "db32c38cef40d7a8",
   "outputs": [],
   "execution_count": null
  },
  {
   "metadata": {},
   "cell_type": "code",
   "source": "",
   "id": "95abfaa1446dd144",
   "outputs": [],
   "execution_count": null
  }
 ],
 "metadata": {
  "kernelspec": {
   "display_name": "Python 3",
   "language": "python",
   "name": "python3"
  },
  "language_info": {
   "codemirror_mode": {
    "name": "ipython",
    "version": 2
   },
   "file_extension": ".py",
   "mimetype": "text/x-python",
   "name": "python",
   "nbconvert_exporter": "python",
   "pygments_lexer": "ipython2",
   "version": "2.7.6"
  }
 },
 "nbformat": 4,
 "nbformat_minor": 5
}
