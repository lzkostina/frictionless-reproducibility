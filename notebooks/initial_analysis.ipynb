{
 "cells": [
  {
   "cell_type": "code",
   "id": "initial_id",
   "metadata": {
    "collapsed": true,
    "ExecuteTime": {
     "end_time": "2025-09-19T21:39:36.853578Z",
     "start_time": "2025-09-19T21:39:36.629923Z"
    }
   },
   "source": [
    "import pandas as pd\n",
    "from src.pipeline.load import filter_subjects_with_two_timepoints\n",
    "from src.pipeline.clean import (\n",
    "    handle_missing_values,\n",
    "    merge_family_ids,\n",
    "    enforce_common_subjects,\n",
    "    drop_siblings,\n",
    "    link_with_g_scores,\n",
    "    save_processed_data\n",
    "\n",
    ")\n",
    "from src.analysis.eda import (\n",
    "    list_columns_with_missing_values,\n",
    "    count_columns_with_missing_values,\n",
    "    percentage_missing_values,\n",
    "    divide_features,\n",
    "    categorical_summary_stats\n",
    ")"
   ],
   "outputs": [],
   "execution_count": 1
  },
  {
   "metadata": {
    "ExecuteTime": {
     "end_time": "2025-09-19T21:39:39.227896Z",
     "start_time": "2025-09-19T21:39:39.178378Z"
    }
   },
   "cell_type": "code",
   "source": [
    "# Load data\n",
    "features = pd.read_csv('../data/raw/Demographics.csv')\n",
    "# Load g_score\n",
    "g_factor = pd.read_csv('../data/raw/ABCD_new_G_all.csv')\n",
    "# Drop \"Task\" since it's constant\n",
    "features = features.drop(columns=[\"Task\"], inplace=False)"
   ],
   "id": "6b3dde28145dbdc0",
   "outputs": [],
   "execution_count": 2
  },
  {
   "metadata": {},
   "cell_type": "markdown",
   "source": [
    "# Features description\n",
    "The dataset we are working with consist of 13274 rows and 20 columns. Thus, we have information for the 13274 subjects. Let us look at the description of the features:\n",
    "* src_subject_id - subject identifier\n",
    "* eventname - timepoint of data\n",
    "* site_id_l - data collection site (may want to include this in models as a grouping factor as there are likely site effects in the data, we will sometimes model subject nested in site as random effects)\n",
    "* rel_family_id - family identifier. There are some siblings, twins, etc in the data. Not necessarily an issue sometimes, but when we're doing any kind of cross validation or anything we make sure we don't have family members in different folds.\n",
    "* interview_age - age of the subject in months\n",
    "* Subject/Session are just recoded versions of subject ID and eventname as they match with the naming of the imaging data better\n",
    "* Task - this should all be rest\n",
    "* GoodRun_5 - number of good runs in the included data\n",
    "* censor_5 - number of censored timepoints in the included data\n",
    "* TRs - number of included timepoints in the data\n",
    "* confounds_nocensor - number of confounds in the run-level nuisance correction model (other than censored timepoints). Most of these quality metrics you probably don't need to worry about\n",
    "* meanFD - the mean motion of the subject during their included scans. We usually use linear and quadratic terms of this as a confound at the group level\n",
    "* race.4level - subject reported race\n",
    "* hisp - subject reported hispanic yes/no\n",
    "* demo_sex_v2 - sex at birth 1=male, 2=female (I think I dropped any other responses, but if there are others we might need to exclude just because there are so few we can't get good estimates of effects)\n",
    "* EdYearsHighest - parental years of education (highest among parents, I think I need to double check we might actually use average elsewhere, but this variable is likely not immediately relevant for now)\n",
    "* IncCombinedMidpoint - combined income of parents (midpoint of a bin, because it's only reported in 10 bins)\n",
    "* Income2Needs - calculated income to needs metric based on parental income and number of people in the household\n",
    "* Married - parents currently married or not"
   ],
   "id": "4b1cc88f61a4b50f"
  },
  {
   "metadata": {
    "ExecuteTime": {
     "end_time": "2025-09-19T21:39:41.835937Z",
     "start_time": "2025-09-19T21:39:41.822472Z"
    }
   },
   "cell_type": "code",
   "source": [
    "# Keep only participants with both baseline and follow-up\n",
    "df_filtered = filter_subjects_with_two_timepoints(features)\n",
    "\n",
    "# Split by event\n",
    "df_baseline = df_filtered[df_filtered[\"eventname\"] == \"baseline_year_1_arm_1\"]\n",
    "df_followup = df_filtered[df_filtered[\"eventname\"] == \"2_year_follow_up_y_arm_1\"]"
   ],
   "id": "30f8c6803ae33a30",
   "outputs": [],
   "execution_count": 3
  },
  {
   "metadata": {
    "ExecuteTime": {
     "end_time": "2025-09-19T21:39:43.334803Z",
     "start_time": "2025-09-19T21:39:43.320791Z"
    }
   },
   "cell_type": "code",
   "source": [
    "# Drop rows with missing values (except family IDs)\n",
    "df_baseline, df_followup = handle_missing_values(df_baseline, df_followup)\n",
    "\n",
    "# Fill in family IDs for follow-up from baseline\n",
    "df_followup = merge_family_ids(df_baseline, df_followup)"
   ],
   "id": "b8b23d829111246f",
   "outputs": [],
   "execution_count": 4
  },
  {
   "metadata": {
    "ExecuteTime": {
     "end_time": "2025-09-19T21:39:44.400079Z",
     "start_time": "2025-09-19T21:39:44.394674Z"
    }
   },
   "cell_type": "code",
   "source": [
    "# Enforce common subjects\n",
    "df_baseline, df_followup = enforce_common_subjects(df_baseline, df_followup)"
   ],
   "id": "c2dffd65f044e110",
   "outputs": [],
   "execution_count": 5
  },
  {
   "metadata": {
    "ExecuteTime": {
     "end_time": "2025-09-19T21:39:45.784313Z",
     "start_time": "2025-09-19T21:39:45.779094Z"
    }
   },
   "cell_type": "code",
   "source": [
    "# Drop siblings\n",
    "df_baseline = drop_siblings(df_baseline)\n",
    "df_followup = drop_siblings(df_followup)\n"
   ],
   "id": "1da44869a509e3ef",
   "outputs": [],
   "execution_count": 6
  },
  {
   "metadata": {
    "ExecuteTime": {
     "end_time": "2025-09-19T21:39:47.445241Z",
     "start_time": "2025-09-19T21:39:47.434522Z"
    }
   },
   "cell_type": "code",
   "source": [
    "# Merge with g-score data\n",
    "merged_df_baseline, merged_df_followup = link_with_g_scores(df_baseline, df_followup, g_factor)"
   ],
   "id": "2568fff20a5c7a36",
   "outputs": [],
   "execution_count": 7
  },
  {
   "metadata": {
    "ExecuteTime": {
     "end_time": "2025-09-19T21:50:18.439646Z",
     "start_time": "2025-09-19T21:50:18.391495Z"
    }
   },
   "cell_type": "code",
   "source": [
    "save_processed_data(\n",
    "    merged_df_baseline,\n",
    "    merged_df_followup,\n",
    "    output_dir=\"../data/processed/\",\n",
    "    prefix=\"features_linked\"\n",
    ")"
   ],
   "id": "c487f95bc4f8cf32",
   "outputs": [
    {
     "name": "stdout",
     "output_type": "stream",
     "text": [
      "Data saved to ../data/processed/features_linked_0.csv and ../data/processed/features_linked_1.csv\n"
     ]
    }
   ],
   "execution_count": 9
  },
  {
   "metadata": {},
   "cell_type": "code",
   "outputs": [],
   "execution_count": null,
   "source": "",
   "id": "726e51d8664e2bb3"
  },
  {
   "metadata": {},
   "cell_type": "code",
   "outputs": [],
   "execution_count": null,
   "source": "",
   "id": "eeb4b0fcd3b96476"
  },
  {
   "metadata": {},
   "cell_type": "code",
   "outputs": [],
   "execution_count": null,
   "source": "",
   "id": "b9f4dc78db5a98f7"
  },
  {
   "metadata": {},
   "cell_type": "code",
   "outputs": [],
   "execution_count": null,
   "source": "",
   "id": "a9efd51d45f3a53"
  },
  {
   "metadata": {},
   "cell_type": "code",
   "outputs": [],
   "execution_count": null,
   "source": "",
   "id": "bda90d90ddd4ac90"
  }
 ],
 "metadata": {
  "kernelspec": {
   "display_name": "Python 3",
   "language": "python",
   "name": "python3"
  },
  "language_info": {
   "codemirror_mode": {
    "name": "ipython",
    "version": 2
   },
   "file_extension": ".py",
   "mimetype": "text/x-python",
   "name": "python",
   "nbconvert_exporter": "python",
   "pygments_lexer": "ipython2",
   "version": "2.7.6"
  }
 },
 "nbformat": 4,
 "nbformat_minor": 5
}
