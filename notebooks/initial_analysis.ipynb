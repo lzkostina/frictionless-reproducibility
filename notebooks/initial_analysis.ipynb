{
 "cells": [
  {
   "cell_type": "code",
   "id": "initial_id",
   "metadata": {
    "collapsed": true
   },
   "source": [
    "import numpy as np\n",
    "import pandas as pd\n",
    "import os\n",
    "from pathlib import Path\n",
    "from src.pipeline.load import filter_subjects_with_two_timepoints\n",
    "from src.pipeline.connectomes import (\n",
    "    merge_features_and_connectomes,\n",
    "    enforce_same_subjects\n",
    ")\n",
    "from src.pipeline.clean import (\n",
    "    handle_missing_values,\n",
    "    merge_family_ids,\n",
    "    enforce_common_subjects,\n",
    "    drop_siblings,\n",
    "    link_with_g_scores,\n",
    "    save_aligned_features\n",
    "\n",
    ")\n",
    "from src.pipeline.preprocess import (\n",
    "    preprocess_features,\n",
    "    filter_sites_by_threshold,\n",
    "    add_income_group,\n",
    "    print_data_summary\n",
    ")\n",
    "from src.analysis.eda import (\n",
    "    list_columns_with_missing_values,\n",
    "    count_columns_with_missing_values,\n",
    "    percentage_missing_values,\n",
    "    divide_features,\n",
    "    categorical_summary_stats\n",
    ")"
   ],
   "outputs": [],
   "execution_count": null
  },
  {
   "metadata": {},
   "cell_type": "code",
   "source": [
    "# Load data\n",
    "features = pd.read_csv('../data/raw/Demographics.csv')\n",
    "# Load g_score\n",
    "g_factor = pd.read_csv('../data/raw/ABCD_new_G_all.csv')\n",
    "# Drop \"Task\" since it's constant\n",
    "features = features.drop(columns=[\"Task\"], inplace=False)"
   ],
   "id": "6b3dde28145dbdc0",
   "outputs": [],
   "execution_count": null
  },
  {
   "metadata": {},
   "cell_type": "markdown",
   "source": [
    "# Features description\n",
    "The dataset we are working with consist of 13274 rows and 20 columns. Thus, we have information for the 13274 subjects. Let us look at the description of the features:\n",
    "* src_subject_id - subject identifier\n",
    "* eventname - timepoint of data\n",
    "* site_id_l - data collection site (may want to include this in models as a grouping factor as there are likely site effects in the data, we will sometimes model subject nested in site as random effects)\n",
    "* rel_family_id - family identifier. There are some siblings, twins, etc in the data. Not necessarily an issue sometimes, but when we're doing any kind of cross validation or anything we make sure we don't have family members in different folds.\n",
    "* interview_age - age of the subject in months\n",
    "* Subject/Session are just recoded versions of subject ID and eventname as they match with the naming of the imaging data better\n",
    "* Task - this should all be rest\n",
    "* GoodRun_5 - number of good runs in the included data\n",
    "* censor_5 - number of censored timepoints in the included data\n",
    "* TRs - number of included timepoints in the data\n",
    "* confounds_nocensor - number of confounds in the run-level nuisance correction model (other than censored timepoints). Most of these quality metrics you probably don't need to worry about\n",
    "* meanFD - the mean motion of the subject during their included scans. We usually use linear and quadratic terms of this as a confound at the group level\n",
    "* race.4level - subject reported race\n",
    "* hisp - subject reported hispanic yes/no\n",
    "* demo_sex_v2 - sex at birth 1=male, 2=female (I think I dropped any other responses, but if there are others we might need to exclude just because there are so few we can't get good estimates of effects)\n",
    "* EdYearsHighest - parental years of education (highest among parents, I think I need to double check we might actually use average elsewhere, but this variable is likely not immediately relevant for now)\n",
    "* IncCombinedMidpoint - combined income of parents (midpoint of a bin, because it's only reported in 10 bins)\n",
    "* Income2Needs - calculated income to needs metric based on parental income and number of people in the household\n",
    "* Married - parents currently married or not"
   ],
   "id": "4b1cc88f61a4b50f"
  },
  {
   "metadata": {},
   "cell_type": "code",
   "source": [
    "# Keep only participants with both baseline and follow-up\n",
    "df_filtered = filter_subjects_with_two_timepoints(features)\n",
    "\n",
    "# Split by event\n",
    "df_baseline = df_filtered[df_filtered[\"eventname\"] == \"baseline_year_1_arm_1\"]\n",
    "df_followup = df_filtered[df_filtered[\"eventname\"] == \"2_year_follow_up_y_arm_1\"]"
   ],
   "id": "30f8c6803ae33a30",
   "outputs": [],
   "execution_count": null
  },
  {
   "metadata": {},
   "cell_type": "code",
   "source": [
    "# Drop rows with missing values (except family IDs)\n",
    "df_baseline, df_followup = handle_missing_values(df_baseline, df_followup)\n",
    "\n",
    "# Fill in family IDs for follow-up from baseline\n",
    "df_followup = merge_family_ids(df_baseline, df_followup)"
   ],
   "id": "b8b23d829111246f",
   "outputs": [],
   "execution_count": null
  },
  {
   "metadata": {},
   "cell_type": "code",
   "source": [
    "# Enforce common subjects\n",
    "df_baseline, df_followup = enforce_common_subjects(df_baseline, df_followup)"
   ],
   "id": "c2dffd65f044e110",
   "outputs": [],
   "execution_count": null
  },
  {
   "metadata": {},
   "cell_type": "code",
   "source": [
    "# Drop siblings\n",
    "df_baseline = drop_siblings(df_baseline)\n",
    "df_followup = drop_siblings(df_followup)\n"
   ],
   "id": "1da44869a509e3ef",
   "outputs": [],
   "execution_count": null
  },
  {
   "metadata": {},
   "cell_type": "code",
   "source": [
    "# Merge with g-score data\n",
    "merged_df_baseline_A, merged_df_followup_A = link_with_g_scores(df_baseline, df_followup, g_factor)"
   ],
   "id": "2568fff20a5c7a36",
   "outputs": [],
   "execution_count": null
  },
  {
   "metadata": {},
   "cell_type": "code",
   "source": [
    "# Define renaming rules\n",
    "rename_map = {\n",
    "    \"G_lavaan.baseline\": \"g_lavaan\",\n",
    "    \"G_lavaan.2Year\": \"g_lavaan\",\n",
    "    \"demo_sex_v2\": \"sex\",\n",
    "    \"interview_age\": \"age\"\n",
    "}\n",
    "\n",
    "# Apply renaming\n",
    "merged_df_baseline_A = merged_df_baseline_A.rename(columns=rename_map)\n",
    "merged_df_followup_A = merged_df_followup_A.rename(columns=rename_map)\n",
    "\n",
    "# Columns to drop\n",
    "drop_cols = [\"src_subject_id\", \"eventname\", \"rel_family_id\",\n",
    "             \"Session\", \"GoodRun_5\", \"censor_5\", \"TRs\", \"confounds_nocensor\"]\n",
    "\n",
    "merged_df_baseline_A = merged_df_baseline_A.drop(columns=drop_cols)\n",
    "merged_df_followup_A = merged_df_followup_A.drop(columns=drop_cols)"
   ],
   "id": "43a655f56f446367",
   "outputs": [],
   "execution_count": null
  },
  {
   "metadata": {},
   "cell_type": "code",
   "source": [
    "merged_df_baseline_A = add_income_group(merged_df_baseline_A, t1=50000, t2=100000)\n",
    "merged_df_followup_A  = add_income_group(merged_df_followup_A, t1=50000, t2=100000)"
   ],
   "id": "151fb17058d13c12",
   "outputs": [],
   "execution_count": null
  },
  {
   "metadata": {},
   "cell_type": "code",
   "source": "print_data_summary(merged_df_baseline_A)",
   "id": "798974be549f3952",
   "outputs": [],
   "execution_count": null
  },
  {
   "metadata": {},
   "cell_type": "code",
   "source": "print_data_summary(merged_df_followup_A)",
   "id": "c406ad56faf24e24",
   "outputs": [],
   "execution_count": null
  },
  {
   "metadata": {},
   "cell_type": "code",
   "source": [
    "merged_df_baseline_B = preprocess_features(features, g_factor, 'baseline_year_1_arm_1')\n",
    "merged_df_followup_B = preprocess_features(features, g_factor, '2_year_follow_up_y_arm_1')"
   ],
   "id": "b9f4dc78db5a98f7",
   "outputs": [],
   "execution_count": null
  },
  {
   "metadata": {},
   "cell_type": "code",
   "source": "print_data_summary(merged_df_baseline_B)",
   "id": "a9efd51d45f3a53",
   "outputs": [],
   "execution_count": null
  },
  {
   "metadata": {},
   "cell_type": "code",
   "source": "print_data_summary(merged_df_followup_B)",
   "id": "bda90d90ddd4ac90",
   "outputs": [],
   "execution_count": null
  },
  {
   "metadata": {},
   "cell_type": "code",
   "source": [
    "# save_aligned_features(\n",
    "#     merged_df_baseline_A, merged_df_followup_A,\n",
    "#     merged_df_baseline_B, merged_df_followup_B\n",
    "# )"
   ],
   "id": "e8cacbaef2fe59f8",
   "outputs": [],
   "execution_count": null
  },
  {
   "metadata": {},
   "cell_type": "markdown",
   "source": [
    "Two different approaches of data preprocessing were used.\n",
    "* Approach A : we consider only subjects with two time points, keep only one sibling.\n",
    "* Approach B : is as close as possible to the method described in original article."
   ],
   "id": "c791af4c43cb544e"
  },
  {
   "metadata": {},
   "cell_type": "code",
   "source": [
    "EVENT_TO_SESSION = {\n",
    "    \"baseline_year_1_arm_1\": \"baselineYear1Arm1\",\n",
    "    \"2_year_follow_up_y_arm_1\": \"2YearFollowUpYArm1\"\n",
    "}\n",
    "\n",
    "# Baseline features (Version A)\n",
    "features_A_baseline_aligned, conn_A_baseline, subs_A_baseline = merge_features_and_connectomes(\n",
    "    merged_df_baseline_A,\n",
    "    visit=EVENT_TO_SESSION[\"baseline_year_1_arm_1\"]\n",
    ")\n",
    "\n",
    "print(features_A_baseline_aligned.shape)\n",
    "print(conn_A_baseline.shape)\n",
    "print(len(subs_A_baseline))"
   ],
   "id": "7c13df85e84b5974",
   "outputs": [],
   "execution_count": null
  },
  {
   "metadata": {},
   "cell_type": "code",
   "source": [
    "# Followup features (Version A)\n",
    "features_A_followup_aligned, conn_A_followup, subs_A_followup = merge_features_and_connectomes(\n",
    "    merged_df_followup_A,\n",
    "    visit=EVENT_TO_SESSION[\"2_year_follow_up_y_arm_1\"]\n",
    ")\n",
    "\n",
    "print(features_A_followup_aligned.shape)\n",
    "print(conn_A_followup.shape)\n",
    "print(len(subs_A_followup))"
   ],
   "id": "9943da15a8fd8da",
   "outputs": [],
   "execution_count": null
  },
  {
   "metadata": {},
   "cell_type": "code",
   "source": [
    "(features_A_baseline_final, conn_A_baseline_final,\n",
    " features_A_followup_final, conn_A_followup_final,\n",
    " subs_A_final) = enforce_same_subjects(\n",
    "    features_A_baseline_aligned, conn_A_baseline, subs_A_baseline,\n",
    "    features_A_followup_aligned, conn_A_followup, subs_A_followup\n",
    ")"
   ],
   "id": "3183753c1a7bdb2d",
   "outputs": [],
   "execution_count": null
  },
  {
   "metadata": {},
   "cell_type": "code",
   "source": [
    "output_dir = Path(\"data/processed/version_A\")\n",
    "output_dir.mkdir(parents=True, exist_ok=True)\n",
    "\n",
    "# Save features\n",
    "features_A_baseline_final.to_csv(output_dir / \"features_baseline.csv\", index=False)\n",
    "features_A_followup_final.to_csv(output_dir / \"features_followup.csv\", index=False)\n",
    "\n",
    "# Save connectomes\n",
    "np.save(output_dir / \"connectomes_baseline.npy\", conn_A_baseline_final)\n",
    "np.save(output_dir / \"connectomes_followup.npy\", conn_A_followup_final)\n",
    "\n",
    "# Save subject IDs\n",
    "pd.DataFrame({\"Subject\": subs_A_final}).to_csv(output_dir / \"subjects.csv\", index=False)\n"
   ],
   "id": "628ce43b087b74f5",
   "outputs": [],
   "execution_count": null
  },
  {
   "metadata": {},
   "cell_type": "code",
   "source": [
    "for fname in [\"features_baseline.csv\", \"features_followup.csv\",\n",
    "              \"connectomes_baseline.npy\", \"connectomes_followup.npy\",\n",
    "              \"subjects.csv\"]:\n",
    "    fpath = output_dir / fname\n",
    "    print(f\"{fname}: exists={fpath.exists()}, size={os.path.getsize(fpath) if fpath.exists() else 'N/A'} bytes\")\n"
   ],
   "id": "a5de315ae8c1f966",
   "outputs": [],
   "execution_count": null
  },
  {
   "metadata": {},
   "cell_type": "code",
   "source": [
    "# Baseline features (Version B)\n",
    "features_B_baseline_aligned, conn_B_baseline, subs_B_baseline = merge_features_and_connectomes(\n",
    "    merged_df_baseline_B,\n",
    "    visit=EVENT_TO_SESSION[\"baseline_year_1_arm_1\"]\n",
    ")\n",
    "\n",
    "print(features_B_baseline_aligned.shape)\n",
    "print(conn_B_baseline.shape)\n",
    "print(len(subs_B_baseline))"
   ],
   "id": "93b2c1897b9c89bb",
   "outputs": [],
   "execution_count": null
  },
  {
   "metadata": {},
   "cell_type": "code",
   "source": [
    "# Followup features (Version B)\n",
    "features_B_followup_aligned, conn_B_followup, subs_B_followup = merge_features_and_connectomes(\n",
    "    merged_df_followup_B,\n",
    "    visit=EVENT_TO_SESSION[\"2_year_follow_up_y_arm_1\"]\n",
    ")\n",
    "\n",
    "print(features_B_followup_aligned.shape)\n",
    "print(conn_B_followup.shape)\n",
    "print(len(subs_B_followup))"
   ],
   "id": "e1e95268ba4ddb37",
   "outputs": [],
   "execution_count": null
  },
  {
   "metadata": {},
   "cell_type": "code",
   "source": [
    "output_dir = Path(\"data/processed/version_B\")\n",
    "output_dir.mkdir(parents=True, exist_ok=True)\n",
    "\n",
    "# Save features\n",
    "features_B_baseline_aligned.to_csv(output_dir / \"features_baseline.csv\", index=False)\n",
    "features_B_followup_aligned.to_csv(output_dir / \"features_followup.csv\", index=False)\n",
    "\n",
    "# Save connectomes\n",
    "np.save(output_dir / \"connectomes_baseline.npy\", conn_B_baseline)\n",
    "np.save(output_dir / \"connectomes_followup.npy\", conn_B_followup)\n",
    "\n",
    "# Save baseline subjects\n",
    "pd.DataFrame({\"Subject\": subs_B_baseline}).to_csv(output_dir / \"subjects_baseline.csv\", index=False)\n",
    "\n",
    "# Save followup subjects\n",
    "pd.DataFrame({\"Subject\": subs_B_followup}).to_csv(output_dir / \"subjects_followup.csv\", index=False)"
   ],
   "id": "93114b1bf823b641",
   "outputs": [],
   "execution_count": null
  },
  {
   "metadata": {},
   "cell_type": "code",
   "source": "\n",
   "id": "db32c38cef40d7a8",
   "outputs": [],
   "execution_count": null
  },
  {
   "metadata": {},
   "cell_type": "code",
   "source": "",
   "id": "95abfaa1446dd144",
   "outputs": [],
   "execution_count": null
  }
 ],
 "metadata": {
  "kernelspec": {
   "display_name": "Python 3",
   "language": "python",
   "name": "python3"
  },
  "language_info": {
   "codemirror_mode": {
    "name": "ipython",
    "version": 2
   },
   "file_extension": ".py",
   "mimetype": "text/x-python",
   "name": "python",
   "nbconvert_exporter": "python",
   "pygments_lexer": "ipython2",
   "version": "2.7.6"
  }
 },
 "nbformat": 4,
 "nbformat_minor": 5
}
